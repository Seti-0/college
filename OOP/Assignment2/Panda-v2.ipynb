{
 "cells": [
  {
   "cell_type": "markdown",
   "metadata": {},
   "source": [
    "# Design Decisions\n",
    "\n",
    "***\n",
    "\n",
    "### Duck Typing and Flexibility\n",
    "\n",
    "I'm not fond of the idea, but it seems prevelant in python so I gave it a go. \n",
    "\n",
    "  -  List inputs to MySeries and MyDataFrame can be any kind of iterable, and elements can be any type of object. \n",
    "  \n",
    "  -  A single value where an iterable is expected is treated as an iterable with that single value. \n",
    "\n",
    "  -  Functions like \"mean\" will try to run regardless of the element data type, and fail if the data is not suitable. \n",
    "\n",
    "  -  MySeries will accept an index and iterable of values that are of different lengths, it will ignore the extra elements on the longer one.\n",
    "\n",
    "There are some exceptions:\n",
    "\n",
    "  -  Dictionaries are expected to be instances of collections.abc.Mapping. Simply expecting an object with an items() function returning key-value pairs seemed obscure to me.\n",
    "  -  MyDataFrame will raise an error if the column sizes and index size aren't all the same length - this is because the assignment asked us to check that the input data represented a valid data frame.\n",
    "\n",
    "### Error Handling\n",
    "\n",
    "MySeries and MyDataFrame instances will raise errors if something goes wrong, rather than print warning information or fail silently.\n",
    "\n",
    "\n",
    "### Return values\n",
    "\n",
    "Methods like mean() and max() return values rather than print them. I'm not sure if that is what the assignment was looking for. In the case of the MyDataFrame, the mean() method returns a MySeries, meaning that the invocation to print the mean looks like:\n",
    "\n",
    "```\n",
    "means = df.mean()\n",
    "means.print()\n",
    "```\n",
    "\n",
    "Or just:\n",
    "\n",
    "```\n",
    "df.mean().print()\n",
    "```\n",
    "\n",
    "for short.\n",
    "\n",
    "### Treatment of strings as iterable\n",
    "\n",
    "If a string is found where an iterable is expected, it is treated as an iterable of characters. This was accidental and, which not incorrect, isn't very intuitive to the user. However, fixing it would complicate the code and it is convenient for testing so I'm leaving it be.\n",
    "\n",
    "### \\_\\_GetItem\\_\\_() is implemented on MySeries\n",
    "\n",
    "This is purely for convenience later on - it means that the print_table function can assume its operating on a list-like object and not worry about the particulars of MySeries"
   ]
  },
  {
   "cell_type": "markdown",
   "metadata": {},
   "source": [
    "MySeries\n",
    "="
   ]
  },
  {
   "cell_type": "code",
   "execution_count": 1,
   "metadata": {},
   "outputs": [],
   "source": [
    "from collections.abc import Mapping\n",
    "\n",
    "class MySeries:\n",
    "    \n",
    "    def __init__(self, source, index=None):\n",
    "        \n",
    "        if isinstance(source, Mapping):\n",
    "            self.s_dict = dict(source.items())\n",
    "\n",
    "        else:\n",
    "            \n",
    "            try:\n",
    "                iter(source)\n",
    "            except:\n",
    "                source = (source,)\n",
    "\n",
    "            if index is None:\n",
    "                pairs = enumerate(source)\n",
    "            \n",
    "            else:\n",
    "                \n",
    "                try:\n",
    "                    iter(index)\n",
    "                except:\n",
    "                    index = (index,)\n",
    "                \n",
    "                pairs = zip(index, source)\n",
    "\n",
    "            self.s_dict = dict(pairs)\n",
    "    \n",
    "    def __getitem__(self, key):\n",
    "        return self.s_dict[key]\n",
    "    \n",
    "    def print(self, to_str=str, separation=2):\n",
    "\n",
    "        def width(item):\n",
    "            return len(to_str(item))\n",
    "\n",
    "        # The \"+ 1\" here is for the colon\n",
    "        keys_width = max(map(width, self.s_dict.keys())) + 1\n",
    "        values_width = max(map(width, self.s_dict.values()))\n",
    "\n",
    "        for k, v in self.s_dict.items():\n",
    "\n",
    "            text = (to_str(k) + \":\").ljust(keys_width)\n",
    "            text += \" \"*separation\n",
    "            text += to_str(v).rjust(values_width)\n",
    "            print(text)\n",
    "        \n",
    "    def min(self):\n",
    "        \n",
    "        if len(self.s_dict) == 0:\n",
    "            msg = \"Cannot find the min of an empty series\"\n",
    "            raise ValueError(msg)\n",
    "        \n",
    "        try:\n",
    "            return min(self.s_dict.values())\n",
    "        \n",
    "        except TypeError:\n",
    "            \n",
    "            message = (\"Failed to find min of MySeries.\"\n",
    "                \" Are the order operators defined\"\n",
    "                \" for all pairs of values?\")\n",
    "            \n",
    "            raise TypeError(message)\n",
    "    \n",
    "    def max(self):\n",
    "        \n",
    "        if len(self.s_dict) == 0:\n",
    "            msg = \"Cannot find the max of an empty series\"\n",
    "            raise ValueError(msg)\n",
    "        \n",
    "        try:\n",
    "            return max(self.s_dict.values())\n",
    "        \n",
    "        except TypeError:\n",
    "            \n",
    "            message = (\"Failed to find min of MySeries.\"\n",
    "            \" Are the order operators defined\"\n",
    "            \" for all pairs of values?\")\n",
    "                \n",
    "            raise TypeError(message)\n",
    "    \n",
    "    def mean(self):\n",
    "        \n",
    "        if len(self.s_dict) == 0:\n",
    "            msg = \"Cannot find the mean of an empty series\"\n",
    "            raise ValueError(msg)\n",
    "        \n",
    "        total = 0\n",
    "        for value in self.s_dict.values():\n",
    "            \n",
    "            try:\n",
    "                number = float(value)\n",
    "            \n",
    "            except ValueError:\n",
    "                \n",
    "                message = (\"Non-numeric value found while\"\n",
    "                \" calculating the mean: \") + repr(value)\n",
    "                \n",
    "                raise ValueError(message)\n",
    "            \n",
    "            total += number\n",
    "\n",
    "        return total/len(self.s_dict)"
   ]
  },
  {
   "cell_type": "markdown",
   "metadata": {},
   "source": [
    "Testing MySeries\n",
    "-"
   ]
  },
  {
   "cell_type": "markdown",
   "metadata": {},
   "source": [
    "Creating an instance from a list and an index"
   ]
  },
  {
   "cell_type": "code",
   "execution_count": 2,
   "metadata": {},
   "outputs": [
    {
     "name": "stdout",
     "output_type": "stream",
     "text": [
      "1:  a\n",
      "2:  b\n",
      "3:  c\n"
     ]
    }
   ],
   "source": [
    "A = MySeries([\"a\", \"b\", \"c\"], index=[1,2,3])\n",
    "A.print()"
   ]
  },
  {
   "cell_type": "markdown",
   "metadata": {},
   "source": [
    "Creating an instance from a list without an index"
   ]
  },
  {
   "cell_type": "code",
   "execution_count": 3,
   "metadata": {},
   "outputs": [
    {
     "name": "stdout",
     "output_type": "stream",
     "text": [
      "0:  a\n",
      "1:  b\n",
      "2:  c\n"
     ]
    }
   ],
   "source": [
    "A = MySeries([\"a\", \"b\", \"c\"])\n",
    "A.print()"
   ]
  },
  {
   "cell_type": "markdown",
   "metadata": {},
   "source": [
    "Creating an instance directly from a dictionary"
   ]
  },
  {
   "cell_type": "code",
   "execution_count": 4,
   "metadata": {},
   "outputs": [
    {
     "name": "stdout",
     "output_type": "stream",
     "text": [
      "1:  a\n",
      "2:  b\n",
      "3:  c\n"
     ]
    }
   ],
   "source": [
    "A = {\n",
    "    1:\"a\", \n",
    "    2:\"b\", \n",
    "    3:\"c\"\n",
    "}\n",
    "\n",
    "B = MySeries(A)\n",
    "B.print()"
   ]
  },
  {
   "cell_type": "markdown",
   "metadata": {},
   "source": [
    "**Note:** since a string is iterable, it can be used as input.<br>\n",
    "This is used often in the remaining tests!"
   ]
  },
  {
   "cell_type": "code",
   "execution_count": 5,
   "metadata": {},
   "outputs": [
    {
     "name": "stdout",
     "output_type": "stream",
     "text": [
      "1:  a\n",
      "2:  b\n",
      "3:  c\n"
     ]
    }
   ],
   "source": [
    "A = MySeries(\"abc\", \"123\")\n",
    "A.print()"
   ]
  },
  {
   "cell_type": "markdown",
   "metadata": {},
   "source": [
    "Input values and index can be of different lengths<br>\n",
    "(Extra elements on the longer iterable will be ignored)"
   ]
  },
  {
   "cell_type": "code",
   "execution_count": 6,
   "metadata": {},
   "outputs": [
    {
     "name": "stdout",
     "output_type": "stream",
     "text": [
      "1:  a\n",
      "2:  b\n",
      "3:  c\n"
     ]
    }
   ],
   "source": [
    "A = MySeries(\"abcdef\", \"123\")\n",
    "A.print()"
   ]
  },
  {
   "cell_type": "markdown",
   "metadata": {},
   "source": [
    "Input values can be single (non-iterable) values"
   ]
  },
  {
   "cell_type": "code",
   "execution_count": 7,
   "metadata": {},
   "outputs": [
    {
     "name": "stdout",
     "output_type": "stream",
     "text": [
      "a:  0\n"
     ]
    }
   ],
   "source": [
    "A = MySeries(0, \"abc\")\n",
    "A.print()"
   ]
  },
  {
   "cell_type": "code",
   "execution_count": 8,
   "metadata": {},
   "outputs": [
    {
     "name": "stdout",
     "output_type": "stream",
     "text": [
      "0:  a\n"
     ]
    }
   ],
   "source": [
    "A = MySeries(\"abc\", 0)\n",
    "A.print()"
   ]
  },
  {
   "cell_type": "markdown",
   "metadata": {},
   "source": [
    "Printed keys and values are left and right justified respectively"
   ]
  },
  {
   "cell_type": "code",
   "execution_count": 9,
   "metadata": {},
   "outputs": [
    {
     "name": "stdout",
     "output_type": "stream",
     "text": [
      "A-1235:       a-123\n",
      "B-12:       b-12345\n",
      "C-1234567:     c-12\n"
     ]
    }
   ],
   "source": [
    "values = [\n",
    "    \"a-123\",\n",
    "    \"b-12345\",\n",
    "    \"c-12\"\n",
    "]\n",
    "\n",
    "index = [\n",
    "    \"A-1235\",\n",
    "    \"B-12\",\n",
    "    \"C-1234567\"\n",
    "]\n",
    "\n",
    "MySeries(values, index).print()"
   ]
  },
  {
   "cell_type": "markdown",
   "metadata": {},
   "source": [
    "Min, max and mean work with numeric values"
   ]
  },
  {
   "cell_type": "code",
   "execution_count": 10,
   "metadata": {},
   "outputs": [
    {
     "name": "stdout",
     "output_type": "stream",
     "text": [
      "Min: 1\n",
      "Max: 3\n",
      "Mean: 2.0\n"
     ]
    }
   ],
   "source": [
    "A = MySeries([1,2,3])\n",
    "\n",
    "print(\"Min:\", A.min())\n",
    "print(\"Max:\", A.max())\n",
    "print(\"Mean:\", A.mean())"
   ]
  },
  {
   "cell_type": "markdown",
   "metadata": {},
   "source": [
    "Min and max work for any type with an order"
   ]
  },
  {
   "cell_type": "code",
   "execution_count": 11,
   "metadata": {},
   "outputs": [
    {
     "name": "stdout",
     "output_type": "stream",
     "text": [
      "Min: a\n",
      "Max: c\n"
     ]
    }
   ],
   "source": [
    "A = MySeries(\"abc\")\n",
    "print(\"Min:\", A.min())\n",
    "print(\"Max:\", A.max())"
   ]
  },
  {
   "cell_type": "markdown",
   "metadata": {},
   "source": [
    "An error will be raised if the necessary order operators are not implemented"
   ]
  },
  {
   "cell_type": "code",
   "execution_count": 12,
   "metadata": {},
   "outputs": [
    {
     "ename": "TypeError",
     "evalue": "Failed to find min of MySeries. Are the order operators defined for all pairs of values?",
     "output_type": "error",
     "traceback": [
      "\u001b[1;31m---------------------------------------------------------------------------\u001b[0m",
      "\u001b[1;31mTypeError\u001b[0m                                 Traceback (most recent call last)",
      "\u001b[1;32m<ipython-input-1-aefd010d57cf>\u001b[0m in \u001b[0;36mmax\u001b[1;34m(self)\u001b[0m\n\u001b[0;32m     73\u001b[0m         \u001b[1;32mtry\u001b[0m\u001b[1;33m:\u001b[0m\u001b[1;33m\u001b[0m\u001b[1;33m\u001b[0m\u001b[0m\n\u001b[1;32m---> 74\u001b[1;33m             \u001b[1;32mreturn\u001b[0m \u001b[0mmax\u001b[0m\u001b[1;33m(\u001b[0m\u001b[0mself\u001b[0m\u001b[1;33m.\u001b[0m\u001b[0ms_dict\u001b[0m\u001b[1;33m.\u001b[0m\u001b[0mvalues\u001b[0m\u001b[1;33m(\u001b[0m\u001b[1;33m)\u001b[0m\u001b[1;33m)\u001b[0m\u001b[1;33m\u001b[0m\u001b[1;33m\u001b[0m\u001b[0m\n\u001b[0m\u001b[0;32m     75\u001b[0m \u001b[1;33m\u001b[0m\u001b[0m\n",
      "\u001b[1;31mTypeError\u001b[0m: '>' not supported between instances of 'A' and 'A'",
      "\nDuring handling of the above exception, another exception occurred:\n",
      "\u001b[1;31mTypeError\u001b[0m                                 Traceback (most recent call last)",
      "\u001b[1;32m<ipython-input-12-98bc9ede439f>\u001b[0m in \u001b[0;36m<module>\u001b[1;34m\u001b[0m\n\u001b[0;32m      3\u001b[0m \u001b[1;33m\u001b[0m\u001b[0m\n\u001b[0;32m      4\u001b[0m \u001b[0mB\u001b[0m \u001b[1;33m=\u001b[0m \u001b[0mMySeries\u001b[0m\u001b[1;33m(\u001b[0m\u001b[1;33m[\u001b[0m\u001b[0mA\u001b[0m\u001b[1;33m(\u001b[0m\u001b[1;33m)\u001b[0m\u001b[1;33m,\u001b[0m \u001b[0mA\u001b[0m\u001b[1;33m(\u001b[0m\u001b[1;33m)\u001b[0m\u001b[1;33m]\u001b[0m\u001b[1;33m)\u001b[0m\u001b[1;33m\u001b[0m\u001b[1;33m\u001b[0m\u001b[0m\n\u001b[1;32m----> 5\u001b[1;33m \u001b[0mprint\u001b[0m\u001b[1;33m(\u001b[0m\u001b[1;34m\"Max:\"\u001b[0m\u001b[1;33m,\u001b[0m \u001b[0mB\u001b[0m\u001b[1;33m.\u001b[0m\u001b[0mmax\u001b[0m\u001b[1;33m(\u001b[0m\u001b[1;33m)\u001b[0m\u001b[1;33m)\u001b[0m\u001b[1;33m\u001b[0m\u001b[1;33m\u001b[0m\u001b[0m\n\u001b[0m",
      "\u001b[1;32m<ipython-input-1-aefd010d57cf>\u001b[0m in \u001b[0;36mmax\u001b[1;34m(self)\u001b[0m\n\u001b[0;32m     80\u001b[0m             \" for all pairs of values?\")\n\u001b[0;32m     81\u001b[0m \u001b[1;33m\u001b[0m\u001b[0m\n\u001b[1;32m---> 82\u001b[1;33m             \u001b[1;32mraise\u001b[0m \u001b[0mTypeError\u001b[0m\u001b[1;33m(\u001b[0m\u001b[0mmessage\u001b[0m\u001b[1;33m)\u001b[0m\u001b[1;33m\u001b[0m\u001b[1;33m\u001b[0m\u001b[0m\n\u001b[0m\u001b[0;32m     83\u001b[0m \u001b[1;33m\u001b[0m\u001b[0m\n\u001b[0;32m     84\u001b[0m     \u001b[1;32mdef\u001b[0m \u001b[0mmean\u001b[0m\u001b[1;33m(\u001b[0m\u001b[0mself\u001b[0m\u001b[1;33m)\u001b[0m\u001b[1;33m:\u001b[0m\u001b[1;33m\u001b[0m\u001b[1;33m\u001b[0m\u001b[0m\n",
      "\u001b[1;31mTypeError\u001b[0m: Failed to find min of MySeries. Are the order operators defined for all pairs of values?"
     ]
    }
   ],
   "source": [
    "class A:\n",
    "    pass # No definition of order operators\n",
    "\n",
    "B = MySeries([A(), A()])\n",
    "print(\"Max:\", B.max())"
   ]
  },
  {
   "cell_type": "markdown",
   "metadata": {},
   "source": [
    "One exception to the above rule:\n",
    "They do work regardless in the trivial case of a single element MySeries"
   ]
  },
  {
   "cell_type": "code",
   "execution_count": 13,
   "metadata": {},
   "outputs": [
    {
     "name": "stdout",
     "output_type": "stream",
     "text": [
      "Min: <__main__.A object at 0x000001E816D05670>\n",
      "Max: <__main__.A object at 0x000001E816D05670>\n"
     ]
    }
   ],
   "source": [
    "class A:\n",
    "    pass\n",
    "\n",
    "B = MySeries(A())\n",
    "print(\"Min:\", B.min())\n",
    "print(\"Max:\", B.max())"
   ]
  },
  {
   "cell_type": "markdown",
   "metadata": {},
   "source": [
    "Mean works with values that can be parsed as a float"
   ]
  },
  {
   "cell_type": "code",
   "execution_count": 14,
   "metadata": {},
   "outputs": [
    {
     "name": "stdout",
     "output_type": "stream",
     "text": [
      "0:  1\n",
      "1:  2\n",
      "2:  3\n",
      "Mean: 2.0\n"
     ]
    }
   ],
   "source": [
    "A = MySeries(\"123\")\n",
    "A.print()\n",
    "print(\"Mean:\", A.mean())"
   ]
  },
  {
   "cell_type": "markdown",
   "metadata": {},
   "source": [
    "An error will be raised if a value cannot be converted to a float"
   ]
  },
  {
   "cell_type": "code",
   "execution_count": 15,
   "metadata": {},
   "outputs": [
    {
     "name": "stdout",
     "output_type": "stream",
     "text": [
      "0:  a\n",
      "1:  b\n",
      "2:  c\n"
     ]
    },
    {
     "ename": "ValueError",
     "evalue": "Non-numeric value found while calculating the mean: 'a'",
     "output_type": "error",
     "traceback": [
      "\u001b[1;31m---------------------------------------------------------------------------\u001b[0m",
      "\u001b[1;31mValueError\u001b[0m                                Traceback (most recent call last)",
      "\u001b[1;32m<ipython-input-1-aefd010d57cf>\u001b[0m in \u001b[0;36mmean\u001b[1;34m(self)\u001b[0m\n\u001b[0;32m     93\u001b[0m             \u001b[1;32mtry\u001b[0m\u001b[1;33m:\u001b[0m\u001b[1;33m\u001b[0m\u001b[1;33m\u001b[0m\u001b[0m\n\u001b[1;32m---> 94\u001b[1;33m                 \u001b[0mnumber\u001b[0m \u001b[1;33m=\u001b[0m \u001b[0mfloat\u001b[0m\u001b[1;33m(\u001b[0m\u001b[0mvalue\u001b[0m\u001b[1;33m)\u001b[0m\u001b[1;33m\u001b[0m\u001b[1;33m\u001b[0m\u001b[0m\n\u001b[0m\u001b[0;32m     95\u001b[0m \u001b[1;33m\u001b[0m\u001b[0m\n",
      "\u001b[1;31mValueError\u001b[0m: could not convert string to float: 'a'",
      "\nDuring handling of the above exception, another exception occurred:\n",
      "\u001b[1;31mValueError\u001b[0m                                Traceback (most recent call last)",
      "\u001b[1;32m<ipython-input-15-2ee1470d7614>\u001b[0m in \u001b[0;36m<module>\u001b[1;34m\u001b[0m\n\u001b[0;32m      1\u001b[0m \u001b[0mA\u001b[0m \u001b[1;33m=\u001b[0m \u001b[0mMySeries\u001b[0m\u001b[1;33m(\u001b[0m\u001b[1;34m\"abc\"\u001b[0m\u001b[1;33m)\u001b[0m\u001b[1;33m\u001b[0m\u001b[1;33m\u001b[0m\u001b[0m\n\u001b[0;32m      2\u001b[0m \u001b[0mA\u001b[0m\u001b[1;33m.\u001b[0m\u001b[0mprint\u001b[0m\u001b[1;33m(\u001b[0m\u001b[1;33m)\u001b[0m\u001b[1;33m\u001b[0m\u001b[1;33m\u001b[0m\u001b[0m\n\u001b[1;32m----> 3\u001b[1;33m \u001b[0mprint\u001b[0m\u001b[1;33m(\u001b[0m\u001b[1;34m\"Mean:\"\u001b[0m\u001b[1;33m,\u001b[0m \u001b[0mA\u001b[0m\u001b[1;33m.\u001b[0m\u001b[0mmean\u001b[0m\u001b[1;33m(\u001b[0m\u001b[1;33m)\u001b[0m\u001b[1;33m)\u001b[0m\u001b[1;33m\u001b[0m\u001b[1;33m\u001b[0m\u001b[0m\n\u001b[0m",
      "\u001b[1;32m<ipython-input-1-aefd010d57cf>\u001b[0m in \u001b[0;36mmean\u001b[1;34m(self)\u001b[0m\n\u001b[0;32m     99\u001b[0m                 \" calculating the mean: \") + repr(value)\n\u001b[0;32m    100\u001b[0m \u001b[1;33m\u001b[0m\u001b[0m\n\u001b[1;32m--> 101\u001b[1;33m                 \u001b[1;32mraise\u001b[0m \u001b[0mValueError\u001b[0m\u001b[1;33m(\u001b[0m\u001b[0mmessage\u001b[0m\u001b[1;33m)\u001b[0m\u001b[1;33m\u001b[0m\u001b[1;33m\u001b[0m\u001b[0m\n\u001b[0m\u001b[0;32m    102\u001b[0m \u001b[1;33m\u001b[0m\u001b[0m\n\u001b[0;32m    103\u001b[0m             \u001b[0mtotal\u001b[0m \u001b[1;33m+=\u001b[0m \u001b[0mnumber\u001b[0m\u001b[1;33m\u001b[0m\u001b[1;33m\u001b[0m\u001b[0m\n",
      "\u001b[1;31mValueError\u001b[0m: Non-numeric value found while calculating the mean: 'a'"
     ]
    }
   ],
   "source": [
    "A = MySeries(\"abc\")\n",
    "A.print()\n",
    "print(\"Mean:\", A.mean())"
   ]
  },
  {
   "cell_type": "markdown",
   "metadata": {},
   "source": [
    "Min, max and mean will raise an error if the series is empty"
   ]
  },
  {
   "cell_type": "code",
   "execution_count": 17,
   "metadata": {},
   "outputs": [
    {
     "ename": "ValueError",
     "evalue": "Cannot find the min of an empty series",
     "output_type": "error",
     "traceback": [
      "\u001b[1;31m---------------------------------------------------------------------------\u001b[0m",
      "\u001b[1;31mValueError\u001b[0m                                Traceback (most recent call last)",
      "\u001b[1;32m<ipython-input-17-1981c15dbaa9>\u001b[0m in \u001b[0;36m<module>\u001b[1;34m\u001b[0m\n\u001b[1;32m----> 1\u001b[1;33m \u001b[0mMySeries\u001b[0m\u001b[1;33m(\u001b[0m\u001b[1;33m[\u001b[0m\u001b[1;33m]\u001b[0m\u001b[1;33m)\u001b[0m\u001b[1;33m.\u001b[0m\u001b[0mmin\u001b[0m\u001b[1;33m(\u001b[0m\u001b[1;33m)\u001b[0m\u001b[1;33m\u001b[0m\u001b[1;33m\u001b[0m\u001b[0m\n\u001b[0m",
      "\u001b[1;32m<ipython-input-1-aefd010d57cf>\u001b[0m in \u001b[0;36mmin\u001b[1;34m(self)\u001b[0m\n\u001b[0;32m     52\u001b[0m         \u001b[1;32mif\u001b[0m \u001b[0mlen\u001b[0m\u001b[1;33m(\u001b[0m\u001b[0mself\u001b[0m\u001b[1;33m.\u001b[0m\u001b[0ms_dict\u001b[0m\u001b[1;33m)\u001b[0m \u001b[1;33m==\u001b[0m \u001b[1;36m0\u001b[0m\u001b[1;33m:\u001b[0m\u001b[1;33m\u001b[0m\u001b[1;33m\u001b[0m\u001b[0m\n\u001b[0;32m     53\u001b[0m             \u001b[0mmsg\u001b[0m \u001b[1;33m=\u001b[0m \u001b[1;34m\"Cannot find the min of an empty series\"\u001b[0m\u001b[1;33m\u001b[0m\u001b[1;33m\u001b[0m\u001b[0m\n\u001b[1;32m---> 54\u001b[1;33m             \u001b[1;32mraise\u001b[0m \u001b[0mValueError\u001b[0m\u001b[1;33m(\u001b[0m\u001b[0mmsg\u001b[0m\u001b[1;33m)\u001b[0m\u001b[1;33m\u001b[0m\u001b[1;33m\u001b[0m\u001b[0m\n\u001b[0m\u001b[0;32m     55\u001b[0m \u001b[1;33m\u001b[0m\u001b[0m\n\u001b[0;32m     56\u001b[0m         \u001b[1;32mtry\u001b[0m\u001b[1;33m:\u001b[0m\u001b[1;33m\u001b[0m\u001b[1;33m\u001b[0m\u001b[0m\n",
      "\u001b[1;31mValueError\u001b[0m: Cannot find the min of an empty series"
     ]
    }
   ],
   "source": [
    "MySeries([]).min()"
   ]
  },
  {
   "cell_type": "code",
   "execution_count": 18,
   "metadata": {},
   "outputs": [
    {
     "ename": "ValueError",
     "evalue": "Cannot find the max of an empty series",
     "output_type": "error",
     "traceback": [
      "\u001b[1;31m---------------------------------------------------------------------------\u001b[0m",
      "\u001b[1;31mValueError\u001b[0m                                Traceback (most recent call last)",
      "\u001b[1;32m<ipython-input-18-c542c4ce0d0f>\u001b[0m in \u001b[0;36m<module>\u001b[1;34m\u001b[0m\n\u001b[1;32m----> 1\u001b[1;33m \u001b[0mMySeries\u001b[0m\u001b[1;33m(\u001b[0m\u001b[1;33m[\u001b[0m\u001b[1;33m]\u001b[0m\u001b[1;33m)\u001b[0m\u001b[1;33m.\u001b[0m\u001b[0mmax\u001b[0m\u001b[1;33m(\u001b[0m\u001b[1;33m)\u001b[0m\u001b[1;33m\u001b[0m\u001b[1;33m\u001b[0m\u001b[0m\n\u001b[0m",
      "\u001b[1;32m<ipython-input-1-aefd010d57cf>\u001b[0m in \u001b[0;36mmax\u001b[1;34m(self)\u001b[0m\n\u001b[0;32m     69\u001b[0m         \u001b[1;32mif\u001b[0m \u001b[0mlen\u001b[0m\u001b[1;33m(\u001b[0m\u001b[0mself\u001b[0m\u001b[1;33m.\u001b[0m\u001b[0ms_dict\u001b[0m\u001b[1;33m)\u001b[0m \u001b[1;33m==\u001b[0m \u001b[1;36m0\u001b[0m\u001b[1;33m:\u001b[0m\u001b[1;33m\u001b[0m\u001b[1;33m\u001b[0m\u001b[0m\n\u001b[0;32m     70\u001b[0m             \u001b[0mmsg\u001b[0m \u001b[1;33m=\u001b[0m \u001b[1;34m\"Cannot find the max of an empty series\"\u001b[0m\u001b[1;33m\u001b[0m\u001b[1;33m\u001b[0m\u001b[0m\n\u001b[1;32m---> 71\u001b[1;33m             \u001b[1;32mraise\u001b[0m \u001b[0mValueError\u001b[0m\u001b[1;33m(\u001b[0m\u001b[0mmsg\u001b[0m\u001b[1;33m)\u001b[0m\u001b[1;33m\u001b[0m\u001b[1;33m\u001b[0m\u001b[0m\n\u001b[0m\u001b[0;32m     72\u001b[0m \u001b[1;33m\u001b[0m\u001b[0m\n\u001b[0;32m     73\u001b[0m         \u001b[1;32mtry\u001b[0m\u001b[1;33m:\u001b[0m\u001b[1;33m\u001b[0m\u001b[1;33m\u001b[0m\u001b[0m\n",
      "\u001b[1;31mValueError\u001b[0m: Cannot find the max of an empty series"
     ]
    }
   ],
   "source": [
    "MySeries([]).max()"
   ]
  },
  {
   "cell_type": "code",
   "execution_count": 19,
   "metadata": {},
   "outputs": [
    {
     "ename": "ValueError",
     "evalue": "Cannot find the mean of an empty series",
     "output_type": "error",
     "traceback": [
      "\u001b[1;31m---------------------------------------------------------------------------\u001b[0m",
      "\u001b[1;31mValueError\u001b[0m                                Traceback (most recent call last)",
      "\u001b[1;32m<ipython-input-19-0b90001a47bc>\u001b[0m in \u001b[0;36m<module>\u001b[1;34m\u001b[0m\n\u001b[1;32m----> 1\u001b[1;33m \u001b[0mMySeries\u001b[0m\u001b[1;33m(\u001b[0m\u001b[1;33m[\u001b[0m\u001b[1;33m]\u001b[0m\u001b[1;33m)\u001b[0m\u001b[1;33m.\u001b[0m\u001b[0mmean\u001b[0m\u001b[1;33m(\u001b[0m\u001b[1;33m)\u001b[0m\u001b[1;33m\u001b[0m\u001b[1;33m\u001b[0m\u001b[0m\n\u001b[0m",
      "\u001b[1;32m<ipython-input-1-aefd010d57cf>\u001b[0m in \u001b[0;36mmean\u001b[1;34m(self)\u001b[0m\n\u001b[0;32m     86\u001b[0m         \u001b[1;32mif\u001b[0m \u001b[0mlen\u001b[0m\u001b[1;33m(\u001b[0m\u001b[0mself\u001b[0m\u001b[1;33m.\u001b[0m\u001b[0ms_dict\u001b[0m\u001b[1;33m)\u001b[0m \u001b[1;33m==\u001b[0m \u001b[1;36m0\u001b[0m\u001b[1;33m:\u001b[0m\u001b[1;33m\u001b[0m\u001b[1;33m\u001b[0m\u001b[0m\n\u001b[0;32m     87\u001b[0m             \u001b[0mmsg\u001b[0m \u001b[1;33m=\u001b[0m \u001b[1;34m\"Cannot find the mean of an empty series\"\u001b[0m\u001b[1;33m\u001b[0m\u001b[1;33m\u001b[0m\u001b[0m\n\u001b[1;32m---> 88\u001b[1;33m             \u001b[1;32mraise\u001b[0m \u001b[0mValueError\u001b[0m\u001b[1;33m(\u001b[0m\u001b[0mmsg\u001b[0m\u001b[1;33m)\u001b[0m\u001b[1;33m\u001b[0m\u001b[1;33m\u001b[0m\u001b[0m\n\u001b[0m\u001b[0;32m     89\u001b[0m \u001b[1;33m\u001b[0m\u001b[0m\n\u001b[0;32m     90\u001b[0m         \u001b[0mtotal\u001b[0m \u001b[1;33m=\u001b[0m \u001b[1;36m0\u001b[0m\u001b[1;33m\u001b[0m\u001b[1;33m\u001b[0m\u001b[0m\n",
      "\u001b[1;31mValueError\u001b[0m: Cannot find the mean of an empty series"
     ]
    }
   ],
   "source": [
    "MySeries([]).mean()"
   ]
  },
  {
   "cell_type": "markdown",
   "metadata": {},
   "source": [
    "Indexing is possible.<br>\n",
    "This isn't needed for the assignment, but it makes things simpler for part 2."
   ]
  },
  {
   "cell_type": "code",
   "execution_count": 20,
   "metadata": {},
   "outputs": [
    {
     "name": "stdout",
     "output_type": "stream",
     "text": [
      "0:  a\n",
      "1:  b\n",
      "2:  c\n",
      "Element at index 0: a\n"
     ]
    }
   ],
   "source": [
    "A = MySeries(\"abc\")\n",
    "A.print()\n",
    "\n",
    "print(\"Element at index 0:\", A[0])"
   ]
  },
  {
   "cell_type": "markdown",
   "metadata": {},
   "source": [
    "There is no special error handling for indexing.<br> It is just a wrapper around the publically available \"s_dict[]\" indexer"
   ]
  },
  {
   "cell_type": "code",
   "execution_count": 21,
   "metadata": {},
   "outputs": [
    {
     "ename": "KeyError",
     "evalue": "'invalid name'",
     "output_type": "error",
     "traceback": [
      "\u001b[1;31m---------------------------------------------------------------------------\u001b[0m",
      "\u001b[1;31mKeyError\u001b[0m                                  Traceback (most recent call last)",
      "\u001b[1;32m<ipython-input-21-a972cc9c0508>\u001b[0m in \u001b[0;36m<module>\u001b[1;34m\u001b[0m\n\u001b[0;32m      1\u001b[0m \u001b[0mA\u001b[0m \u001b[1;33m=\u001b[0m \u001b[0mMySeries\u001b[0m\u001b[1;33m(\u001b[0m\u001b[1;34m\"abc\"\u001b[0m\u001b[1;33m)\u001b[0m\u001b[1;33m\u001b[0m\u001b[1;33m\u001b[0m\u001b[0m\n\u001b[1;32m----> 2\u001b[1;33m \u001b[0mA\u001b[0m\u001b[1;33m[\u001b[0m\u001b[1;34m\"invalid name\"\u001b[0m\u001b[1;33m]\u001b[0m\u001b[1;33m\u001b[0m\u001b[1;33m\u001b[0m\u001b[0m\n\u001b[0m",
      "\u001b[1;32m<ipython-input-1-aefd010d57cf>\u001b[0m in \u001b[0;36m__getitem__\u001b[1;34m(self, key)\u001b[0m\n\u001b[0;32m     30\u001b[0m \u001b[1;33m\u001b[0m\u001b[0m\n\u001b[0;32m     31\u001b[0m     \u001b[1;32mdef\u001b[0m \u001b[0m__getitem__\u001b[0m\u001b[1;33m(\u001b[0m\u001b[0mself\u001b[0m\u001b[1;33m,\u001b[0m \u001b[0mkey\u001b[0m\u001b[1;33m)\u001b[0m\u001b[1;33m:\u001b[0m\u001b[1;33m\u001b[0m\u001b[1;33m\u001b[0m\u001b[0m\n\u001b[1;32m---> 32\u001b[1;33m         \u001b[1;32mreturn\u001b[0m \u001b[0mself\u001b[0m\u001b[1;33m.\u001b[0m\u001b[0ms_dict\u001b[0m\u001b[1;33m[\u001b[0m\u001b[0mkey\u001b[0m\u001b[1;33m]\u001b[0m\u001b[1;33m\u001b[0m\u001b[1;33m\u001b[0m\u001b[0m\n\u001b[0m\u001b[0;32m     33\u001b[0m \u001b[1;33m\u001b[0m\u001b[0m\n\u001b[0;32m     34\u001b[0m     \u001b[1;32mdef\u001b[0m \u001b[0mprint\u001b[0m\u001b[1;33m(\u001b[0m\u001b[0mself\u001b[0m\u001b[1;33m,\u001b[0m \u001b[0mto_str\u001b[0m\u001b[1;33m=\u001b[0m\u001b[0mstr\u001b[0m\u001b[1;33m,\u001b[0m \u001b[0mseparation\u001b[0m\u001b[1;33m=\u001b[0m\u001b[1;36m2\u001b[0m\u001b[1;33m)\u001b[0m\u001b[1;33m:\u001b[0m\u001b[1;33m\u001b[0m\u001b[1;33m\u001b[0m\u001b[0m\n",
      "\u001b[1;31mKeyError\u001b[0m: 'invalid name'"
     ]
    }
   ],
   "source": [
    "A = MySeries(\"abc\")\n",
    "A[\"invalid name\"]"
   ]
  },
  {
   "cell_type": "markdown",
   "metadata": {},
   "source": [
    "MyDataFrame\n",
    "="
   ]
  },
  {
   "cell_type": "markdown",
   "metadata": {},
   "source": [
    " One thing first: printing a table..."
   ]
  },
  {
   "cell_type": "code",
   "execution_count": 22,
   "metadata": {},
   "outputs": [],
   "source": [
    "# This is a mess. The general strategy is to \n",
    "# to calculate the width of each column (as the width of the widest cell)\n",
    "# and then print row by row with the appropriate padding.\n",
    "\n",
    "def print_table(record_ids, field_ids, values):\n",
    "    \n",
    "    # We could use str or repr here\n",
    "    to_str = str\n",
    "    \n",
    "    # Space between each column\n",
    "    spacing = 3\n",
    "    \n",
    "    # Width an object when printed\n",
    "    def width(x):\n",
    "        return len(to_str(x))\n",
    "    \n",
    "    # Get the width of the record name column\n",
    "    records_width = max(map(width, record_ids))\n",
    "        \n",
    "    # Get the width of each field column\n",
    "    field_widths = list()\n",
    "    for field_id in field_ids:\n",
    "        \n",
    "        def item_width(record_id):\n",
    "            return width(values[field_id][record_id])\n",
    "        \n",
    "        field_width = max(map(item_width, record_ids))\n",
    "        field_width = max(field_width, width(field_id))\n",
    "        \n",
    "        field_widths.append(field_width)\n",
    "\n",
    "    # Print a cell in the records column\n",
    "    def printR(text):\n",
    "        print(to_str(text).ljust(records_width), end=\" \"*spacing)\n",
    "        \n",
    "    # Print a cell in a field column\n",
    "    def printF(text, field_index):\n",
    "        print(to_str(text).ljust(field_widths[i]), end=\" \"*spacing)\n",
    "       \n",
    "    # Top right (empty) cell\n",
    "    printR(\"\")\n",
    "        \n",
    "    # Header field names\n",
    "    for i, field_id in enumerate(field_ids):\n",
    "        printF(field_id, i)\n",
    "    \n",
    "    print()\n",
    "    \n",
    "    # Remaining rows\n",
    "    for i, record_id in enumerate(record_ids):\n",
    "        \n",
    "        # Record name cell\n",
    "        printR(record_id)\n",
    "        \n",
    "        # Field cells\n",
    "        for i, field_id in enumerate(field_ids):\n",
    "            printF(values[field_id][record_id], i)\n",
    "            \n",
    "        print()    "
   ]
  },
  {
   "cell_type": "markdown",
   "metadata": {},
   "source": [
    "Testing, testing"
   ]
  },
  {
   "cell_type": "code",
   "execution_count": 23,
   "metadata": {},
   "outputs": [
    {
     "name": "stdout",
     "output_type": "stream",
     "text": [
      "    a-1       b-123456   c-12        \n",
      "0   a0-1234   b0-1       c0-123456   \n",
      "1   a1-12     b1-12      c1-12345    \n",
      "2   a2-12     b2-1       c2-123      \n"
     ]
    }
   ],
   "source": [
    "char_data = {\n",
    "    \"a-1\":[\"a0-1234\",\"a1-12\",\"a2-12\"],\n",
    "    \"b-123456\":[\"b0-1\",\"b1-12\",\"b2-1\"],\n",
    "    \"c-12\":[\"c0-123456\",\"c1-12345\",\"c2-123\"]\n",
    "}\n",
    "\n",
    "field_ids = [\"a-1\", \"b-123456\", \"c-12\"]\n",
    "record_ids = [0, 1, 2]\n",
    "\n",
    "print_table(record_ids, field_ids, char_data)"
   ]
  },
  {
   "cell_type": "code",
   "execution_count": 47,
   "metadata": {},
   "outputs": [],
   "source": [
    "# It's a notebook, so we don't need to reimport. But I'd prefer to\n",
    "# make it explicit that this is being used here too.\n",
    "from collections.abc import Mapping\n",
    "\n",
    "class MyDataFrame:\n",
    "    \n",
    "    def __init__(self, data, index=None):\n",
    "        \n",
    "        if not isinstance(data, Mapping):\n",
    "            \n",
    "            message = (\"Input data must be a Mapping type,\"\n",
    "            \" such as a dictionary\")\n",
    "            \n",
    "            raise TypeError(message)\n",
    "        \n",
    "        # Similar to len(), but handles more cases.\n",
    "        def guarded_length(item):\n",
    "            try:\n",
    "                iter(item)\n",
    "                try:\n",
    "                    return len(item)\n",
    "                except TypeError:\n",
    "                    return len(list(item))\n",
    "            except TypeError:\n",
    "                return 1\n",
    "        \n",
    "        if len(data) == 0:\n",
    "            n_records = None\n",
    "            \n",
    "        else:\n",
    "            column = next(iter(data.values()))\n",
    "            n_records = guarded_length(column)\n",
    "            \n",
    "            for value in data.values():\n",
    "                if guarded_length(value) != n_records:\n",
    "                    \n",
    "                    message = (\"All columns must have the\"\n",
    "                    \" the same number of items\")\n",
    "            \n",
    "                    raise ValueError(message)\n",
    "        \n",
    "        if index is None:\n",
    "            index = range(n_records)\n",
    "        \n",
    "        else:\n",
    "            try:\n",
    "                iter(index)\n",
    "            except:\n",
    "                index = (index,)\n",
    "                \n",
    "        index = list(index)\n",
    "        if len(index) != n_records:\n",
    "            \n",
    "            message = (\"Count of index must match that\"\n",
    "            \" of the columns\")\n",
    "            \n",
    "            raise ValueError(message)\n",
    "        \n",
    "        columns = dict()\n",
    "        for k,v in data.items():\n",
    "            columns[k] = MySeries(v, index)\n",
    "        \n",
    "        self.index = index\n",
    "        self.columns = columns\n",
    "            \n",
    "    def print(self):\n",
    "        print_table(self.index, self.columns.keys(), self.columns)\n",
    "            \n",
    "    def sort_values(self, field_id):\n",
    "        \n",
    "        if field_id not in self.columns:\n",
    "            raise ValueError(\"Unrecognized field id: \", field_id)\n",
    "            \n",
    "        def key(record_id):\n",
    "            return self.columns[field_id][record_id]\n",
    "        \n",
    "        self.index.sort(key=key)\n",
    "        \n",
    "    def __reduce(self, action, action_name):\n",
    "        index = list()\n",
    "        values = list()\n",
    "        \n",
    "        for field_id, column_series in self.columns.items():\n",
    "            \n",
    "            try:\n",
    "                value = action(column_series)\n",
    "                \n",
    "            # Ignore these types of errors, it probably\n",
    "            # means that the column isn't of a suitable data type.\n",
    "            except ValueError: pass\n",
    "            except TypeError: pass\n",
    "            \n",
    "            else:\n",
    "                index.append(field_id)\n",
    "                values.append(\"%.02f\" % value)\n",
    "        \n",
    "        return MySeries(values, index)\n",
    "        \n",
    "    def min(self):\n",
    "\n",
    "        def action(series):\n",
    "            return series.min()\n",
    "        \n",
    "        return self.__reduce(action, \"min\")\n",
    "        \n",
    "    def max(self):\n",
    "\n",
    "        def action(series):\n",
    "            return series.max()\n",
    "        \n",
    "        return self.__reduce(action, \"max\")\n",
    "        \n",
    "    def mean(self):\n",
    "\n",
    "        def action(series):\n",
    "            return series.mean()\n",
    "        \n",
    "        return self.__reduce(action, \"mean\")\n",
    "        \n",
    "            "
   ]
  },
  {
   "cell_type": "markdown",
   "metadata": {},
   "source": [
    "Testing MyDataFrame\n",
    "-"
   ]
  },
  {
   "cell_type": "markdown",
   "metadata": {},
   "source": [
    "Test data"
   ]
  },
  {
   "cell_type": "code",
   "execution_count": 48,
   "metadata": {},
   "outputs": [],
   "source": [
    "weather_data = {\n",
    "    \"Sun Hours\": [4.5,4.0,5.1,5],\n",
    "    \"Max Temp\": [19.6,19.1,19.6,20.0],\n",
    "    \"Min Temp\": [12.7,12.5,13.3,12.1],\n",
    "    \"Rain (mm)\": [82,109,65,76],\n",
    "    \"Rain Days\": [13,20,10,9.7]\n",
    "}\n",
    "\n",
    "weather_data_index = [\"Clare\", \"Galway\", \"Dublin\", \"Wexford\"]"
   ]
  },
  {
   "cell_type": "markdown",
   "metadata": {},
   "source": [
    "Creating an instance"
   ]
  },
  {
   "cell_type": "code",
   "execution_count": 49,
   "metadata": {},
   "outputs": [
    {
     "name": "stdout",
     "output_type": "stream",
     "text": [
      "    Sun Hours   Max Temp   Min Temp   Rain (mm)   Rain Days   \n",
      "0   4.5         19.6       12.7       82          13          \n",
      "1   4.0         19.1       12.5       109         20          \n",
      "2   5.1         19.6       13.3       65          10          \n",
      "3   5           20.0       12.1       76          9.7         \n"
     ]
    }
   ],
   "source": [
    "df = MyDataFrame(weather_data)\n",
    "df.print()"
   ]
  },
  {
   "cell_type": "markdown",
   "metadata": {},
   "source": [
    "Specifying an index"
   ]
  },
  {
   "cell_type": "code",
   "execution_count": 50,
   "metadata": {},
   "outputs": [
    {
     "name": "stdout",
     "output_type": "stream",
     "text": [
      "          Sun Hours   Max Temp   Min Temp   Rain (mm)   Rain Days   \n",
      "Clare     4.5         19.6       12.7       82          13          \n",
      "Galway    4.0         19.1       12.5       109         20          \n",
      "Dublin    5.1         19.6       13.3       65          10          \n",
      "Wexford   5           20.0       12.1       76          9.7         \n"
     ]
    }
   ],
   "source": [
    "df = MyDataFrame(weather_data, index=weather_data_index)\n",
    "df.print()"
   ]
  },
  {
   "cell_type": "markdown",
   "metadata": {},
   "source": [
    "An error will be raised if the input is not a mapping type"
   ]
  },
  {
   "cell_type": "code",
   "execution_count": 51,
   "metadata": {},
   "outputs": [
    {
     "ename": "TypeError",
     "evalue": "Input data must be a Mapping type, such as a dictionary",
     "output_type": "error",
     "traceback": [
      "\u001b[1;31m---------------------------------------------------------------------------\u001b[0m",
      "\u001b[1;31mTypeError\u001b[0m                                 Traceback (most recent call last)",
      "\u001b[1;32m<ipython-input-51-5fd1705d41cf>\u001b[0m in \u001b[0;36m<module>\u001b[1;34m\u001b[0m\n\u001b[1;32m----> 1\u001b[1;33m \u001b[0mdf\u001b[0m \u001b[1;33m=\u001b[0m \u001b[0mMyDataFrame\u001b[0m\u001b[1;33m(\u001b[0m\u001b[1;33m[\u001b[0m\u001b[1;34m\"This\"\u001b[0m\u001b[1;33m,\u001b[0m \u001b[1;34m\"ain't\"\u001b[0m\u001b[1;33m,\u001b[0m \u001b[1;34m\"a\"\u001b[0m\u001b[1;33m,\u001b[0m \u001b[1;34m\"map\"\u001b[0m\u001b[1;33m]\u001b[0m\u001b[1;33m)\u001b[0m\u001b[1;33m\u001b[0m\u001b[1;33m\u001b[0m\u001b[0m\n\u001b[0m\u001b[0;32m      2\u001b[0m \u001b[0mdf\u001b[0m\u001b[1;33m.\u001b[0m\u001b[0mprint\u001b[0m\u001b[1;33m(\u001b[0m\u001b[1;33m)\u001b[0m\u001b[1;33m\u001b[0m\u001b[1;33m\u001b[0m\u001b[0m\n",
      "\u001b[1;32m<ipython-input-47-3b9ca50e69ef>\u001b[0m in \u001b[0;36m__init__\u001b[1;34m(self, data, index)\u001b[0m\n\u001b[0;32m     12\u001b[0m             \" such as a dictionary\")\n\u001b[0;32m     13\u001b[0m \u001b[1;33m\u001b[0m\u001b[0m\n\u001b[1;32m---> 14\u001b[1;33m             \u001b[1;32mraise\u001b[0m \u001b[0mTypeError\u001b[0m\u001b[1;33m(\u001b[0m\u001b[0mmessage\u001b[0m\u001b[1;33m)\u001b[0m\u001b[1;33m\u001b[0m\u001b[1;33m\u001b[0m\u001b[0m\n\u001b[0m\u001b[0;32m     15\u001b[0m \u001b[1;33m\u001b[0m\u001b[0m\n\u001b[0;32m     16\u001b[0m         \u001b[1;31m# Similar to len(), but handles more cases.\u001b[0m\u001b[1;33m\u001b[0m\u001b[1;33m\u001b[0m\u001b[1;33m\u001b[0m\u001b[0m\n",
      "\u001b[1;31mTypeError\u001b[0m: Input data must be a Mapping type, such as a dictionary"
     ]
    }
   ],
   "source": [
    "df = MyDataFrame([\"This\", \"ain't\", \"a\", \"map\"])\n",
    "df.print()"
   ]
  },
  {
   "cell_type": "markdown",
   "metadata": {},
   "source": [
    "The index can be a non-iterable value"
   ]
  },
  {
   "cell_type": "code",
   "execution_count": 52,
   "metadata": {},
   "outputs": [
    {
     "name": "stdout",
     "output_type": "stream",
     "text": [
      "    field1   field2   \n",
      "0   20       15       \n"
     ]
    }
   ],
   "source": [
    "df = MyDataFrame({\"field1\": 20, \"field2\": 15}, 0)\n",
    "df.print()"
   ]
  },
  {
   "cell_type": "markdown",
   "metadata": {},
   "source": [
    "As before, strings act as lists of characters"
   ]
  },
  {
   "cell_type": "code",
   "execution_count": 53,
   "metadata": {},
   "outputs": [
    {
     "name": "stdout",
     "output_type": "stream",
     "text": [
      "    a   b   \n",
      "x   1   2   \n",
      "y   3   4   \n"
     ]
    }
   ],
   "source": [
    "df = MyDataFrame({\"a\": \"13\", \"b\":\"24\"}, \"xy\")\n",
    "df.print()"
   ]
  },
  {
   "cell_type": "markdown",
   "metadata": {},
   "source": [
    "An error will be raised if columns are not of the same length"
   ]
  },
  {
   "cell_type": "code",
   "execution_count": 54,
   "metadata": {},
   "outputs": [
    {
     "ename": "ValueError",
     "evalue": "All columns must have the the same number of items",
     "output_type": "error",
     "traceback": [
      "\u001b[1;31m---------------------------------------------------------------------------\u001b[0m",
      "\u001b[1;31mValueError\u001b[0m                                Traceback (most recent call last)",
      "\u001b[1;32m<ipython-input-54-563619ebb649>\u001b[0m in \u001b[0;36m<module>\u001b[1;34m\u001b[0m\n\u001b[1;32m----> 1\u001b[1;33m \u001b[0mdf\u001b[0m \u001b[1;33m=\u001b[0m \u001b[0mMyDataFrame\u001b[0m\u001b[1;33m(\u001b[0m\u001b[1;33m{\u001b[0m\u001b[1;34m\"a\"\u001b[0m\u001b[1;33m:\u001b[0m \u001b[1;34m\"123456789\"\u001b[0m\u001b[1;33m,\u001b[0m \u001b[1;34m\"b\"\u001b[0m\u001b[1;33m:\u001b[0m\u001b[1;34m\"123\"\u001b[0m\u001b[1;33m}\u001b[0m\u001b[1;33m,\u001b[0m \u001b[1;34m\"wxyz\"\u001b[0m\u001b[1;33m)\u001b[0m\u001b[1;33m\u001b[0m\u001b[1;33m\u001b[0m\u001b[0m\n\u001b[0m\u001b[0;32m      2\u001b[0m \u001b[0mdf\u001b[0m\u001b[1;33m.\u001b[0m\u001b[0mprint\u001b[0m\u001b[1;33m(\u001b[0m\u001b[1;33m)\u001b[0m\u001b[1;33m\u001b[0m\u001b[1;33m\u001b[0m\u001b[0m\n",
      "\u001b[1;32m<ipython-input-47-3b9ca50e69ef>\u001b[0m in \u001b[0;36m__init__\u001b[1;34m(self, data, index)\u001b[0m\n\u001b[0;32m     38\u001b[0m                     \" the same number of items\")\n\u001b[0;32m     39\u001b[0m \u001b[1;33m\u001b[0m\u001b[0m\n\u001b[1;32m---> 40\u001b[1;33m                     \u001b[1;32mraise\u001b[0m \u001b[0mValueError\u001b[0m\u001b[1;33m(\u001b[0m\u001b[0mmessage\u001b[0m\u001b[1;33m)\u001b[0m\u001b[1;33m\u001b[0m\u001b[1;33m\u001b[0m\u001b[0m\n\u001b[0m\u001b[0;32m     41\u001b[0m \u001b[1;33m\u001b[0m\u001b[0m\n\u001b[0;32m     42\u001b[0m         \u001b[1;32mif\u001b[0m \u001b[0mindex\u001b[0m \u001b[1;32mis\u001b[0m \u001b[1;32mNone\u001b[0m\u001b[1;33m:\u001b[0m\u001b[1;33m\u001b[0m\u001b[1;33m\u001b[0m\u001b[0m\n",
      "\u001b[1;31mValueError\u001b[0m: All columns must have the the same number of items"
     ]
    }
   ],
   "source": [
    "df = MyDataFrame({\"a\": \"123456789\", \"b\":\"123\"}, \"wxyz\")\n",
    "df.print()"
   ]
  },
  {
   "cell_type": "markdown",
   "metadata": {},
   "source": [
    "An error will be raised if the index is of a different length to the columns"
   ]
  },
  {
   "cell_type": "code",
   "execution_count": 55,
   "metadata": {},
   "outputs": [
    {
     "ename": "ValueError",
     "evalue": "Count of index must match that of the columns",
     "output_type": "error",
     "traceback": [
      "\u001b[1;31m---------------------------------------------------------------------------\u001b[0m",
      "\u001b[1;31mValueError\u001b[0m                                Traceback (most recent call last)",
      "\u001b[1;32m<ipython-input-55-6e70d3cf3039>\u001b[0m in \u001b[0;36m<module>\u001b[1;34m\u001b[0m\n\u001b[1;32m----> 1\u001b[1;33m \u001b[0mdf\u001b[0m \u001b[1;33m=\u001b[0m \u001b[0mMyDataFrame\u001b[0m\u001b[1;33m(\u001b[0m\u001b[1;33m{\u001b[0m\u001b[1;34m\"a\"\u001b[0m\u001b[1;33m:\u001b[0m \u001b[1;34m\"12\"\u001b[0m\u001b[1;33m,\u001b[0m \u001b[1;34m\"b\"\u001b[0m\u001b[1;33m:\u001b[0m\u001b[1;34m\"12\"\u001b[0m\u001b[1;33m}\u001b[0m\u001b[1;33m,\u001b[0m \u001b[1;34m\"xyz\"\u001b[0m\u001b[1;33m)\u001b[0m\u001b[1;33m\u001b[0m\u001b[1;33m\u001b[0m\u001b[0m\n\u001b[0m\u001b[0;32m      2\u001b[0m \u001b[0mdf\u001b[0m\u001b[1;33m.\u001b[0m\u001b[0mprint\u001b[0m\u001b[1;33m(\u001b[0m\u001b[1;33m)\u001b[0m\u001b[1;33m\u001b[0m\u001b[1;33m\u001b[0m\u001b[0m\n",
      "\u001b[1;32m<ipython-input-47-3b9ca50e69ef>\u001b[0m in \u001b[0;36m__init__\u001b[1;34m(self, data, index)\u001b[0m\n\u001b[0;32m     55\u001b[0m             \" of the columns\")\n\u001b[0;32m     56\u001b[0m \u001b[1;33m\u001b[0m\u001b[0m\n\u001b[1;32m---> 57\u001b[1;33m             \u001b[1;32mraise\u001b[0m \u001b[0mValueError\u001b[0m\u001b[1;33m(\u001b[0m\u001b[0mmessage\u001b[0m\u001b[1;33m)\u001b[0m\u001b[1;33m\u001b[0m\u001b[1;33m\u001b[0m\u001b[0m\n\u001b[0m\u001b[0;32m     58\u001b[0m \u001b[1;33m\u001b[0m\u001b[0m\n\u001b[0;32m     59\u001b[0m         \u001b[0mcolumns\u001b[0m \u001b[1;33m=\u001b[0m \u001b[0mdict\u001b[0m\u001b[1;33m(\u001b[0m\u001b[1;33m)\u001b[0m\u001b[1;33m\u001b[0m\u001b[1;33m\u001b[0m\u001b[0m\n",
      "\u001b[1;31mValueError\u001b[0m: Count of index must match that of the columns"
     ]
    }
   ],
   "source": [
    "df = MyDataFrame({\"a\": \"12\", \"b\":\"12\"}, \"xyz\")\n",
    "df.print()"
   ]
  },
  {
   "cell_type": "markdown",
   "metadata": {},
   "source": [
    "Sorting by column name"
   ]
  },
  {
   "cell_type": "code",
   "execution_count": 56,
   "metadata": {},
   "outputs": [
    {
     "name": "stdout",
     "output_type": "stream",
     "text": [
      "          Sun Hours   Max Temp   Min Temp   Rain (mm)   Rain Days   \n",
      "Clare     4.5         19.6       12.7       82          13          \n",
      "Galway    4.0         19.1       12.5       109         20          \n",
      "Dublin    5.1         19.6       13.3       65          10          \n",
      "Wexford   5           20.0       12.1       76          9.7         \n",
      "\n",
      " - Sorting by 'Rain Days'\n",
      "\n",
      "          Sun Hours   Max Temp   Min Temp   Rain (mm)   Rain Days   \n",
      "Wexford   5           20.0       12.1       76          9.7         \n",
      "Dublin    5.1         19.6       13.3       65          10          \n",
      "Clare     4.5         19.6       12.7       82          13          \n",
      "Galway    4.0         19.1       12.5       109         20          \n"
     ]
    }
   ],
   "source": [
    "df = MyDataFrame(weather_data, weather_data_index)\n",
    "df.print()\n",
    "\n",
    "print()\n",
    "print(\" - Sorting by 'Rain Days'\")\n",
    "print()\n",
    "\n",
    "df.sort_values(\"Rain Days\")\n",
    "df.print()"
   ]
  },
  {
   "cell_type": "markdown",
   "metadata": {},
   "source": [
    "Min"
   ]
  },
  {
   "cell_type": "code",
   "execution_count": 57,
   "metadata": {},
   "outputs": [
    {
     "name": "stdout",
     "output_type": "stream",
     "text": [
      "Sun Hours:   4.00\n",
      "Max Temp:   19.10\n",
      "Min Temp:   12.10\n",
      "Rain (mm):  65.00\n",
      "Rain Days:   9.70\n"
     ]
    }
   ],
   "source": [
    "df = MyDataFrame(weather_data, weather_data_index)\n",
    "df.min().print()"
   ]
  },
  {
   "cell_type": "markdown",
   "metadata": {},
   "source": [
    "Max"
   ]
  },
  {
   "cell_type": "code",
   "execution_count": 58,
   "metadata": {},
   "outputs": [
    {
     "name": "stdout",
     "output_type": "stream",
     "text": [
      "Sun Hours:    5.10\n",
      "Max Temp:    20.00\n",
      "Min Temp:    13.30\n",
      "Rain (mm):  109.00\n",
      "Rain Days:   20.00\n"
     ]
    }
   ],
   "source": [
    "df = MyDataFrame(weather_data, weather_data_index)\n",
    "df.max().print()"
   ]
  },
  {
   "cell_type": "markdown",
   "metadata": {},
   "source": [
    "Mean"
   ]
  },
  {
   "cell_type": "code",
   "execution_count": 59,
   "metadata": {},
   "outputs": [
    {
     "name": "stdout",
     "output_type": "stream",
     "text": [
      "Sun Hours:   4.65\n",
      "Max Temp:   19.58\n",
      "Min Temp:   12.65\n",
      "Rain (mm):  83.00\n",
      "Rain Days:  13.18\n"
     ]
    }
   ],
   "source": [
    "df = MyDataFrame(weather_data, weather_data_index)\n",
    "df.mean().print()"
   ]
  },
  {
   "cell_type": "markdown",
   "metadata": {},
   "source": [
    "Final test case"
   ]
  },
  {
   "cell_type": "code",
   "execution_count": null,
   "metadata": {},
   "outputs": [],
   "source": [
    "films = {\n",
    "    \"Rank\": [112,62,41,172,230,176],\n",
    "    \"Release Year\": [1973,1980,1960,2015,1976,1996],\n",
    "    \"IMDB Rating\": [8.3,8.4,8.5,8.1,8.1,8.1],\n",
    "    \"Time (minutes)\": [129,146,109,118,120,98],\n",
    "    \"Main Genre\": [\"Comedy\",\"Horror\",\"Horror\",\"Drama\",\"Drama\",\"Drama\"]\n",
    "}\n",
    "\n",
    "f_names = [\"Sting\",\"Shining\", \"Psycho\",\"Room\",\"Rocky\", \"Fargo\"]\n",
    "                   \n",
    "df = MyDataFrame(films, f_names)\n",
    "df.print()\n",
    "\n",
    "print()\n",
    "\n",
    "df.mean().print()\n",
    "\n",
    "print()\n",
    "\n",
    "df.sort_values(\"Release Year\")\n",
    "df.print()"
   ]
  }
 ],
 "metadata": {
  "kernelspec": {
   "display_name": "Python 3",
   "language": "python",
   "name": "python3"
  },
  "language_info": {
   "codemirror_mode": {
    "name": "ipython",
    "version": 3
   },
   "file_extension": ".py",
   "mimetype": "text/x-python",
   "name": "python",
   "nbconvert_exporter": "python",
   "pygments_lexer": "ipython3",
   "version": "3.8.5"
  }
 },
 "nbformat": 4,
 "nbformat_minor": 4
}
