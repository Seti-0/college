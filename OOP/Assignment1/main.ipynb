{
 "cells": [
  {
   "cell_type": "markdown",
   "metadata": {},
   "source": [
    "Setup\n",
    "=\n",
    "The function below formats a monetary amount, something which comes up lot later."
   ]
  },
  {
   "cell_type": "code",
   "execution_count": null,
   "metadata": {},
   "outputs": [],
   "source": [
    "def euro(number):\n",
    "    return \"€%.02f\" % number\n",
    "\n",
    "print(euro(123.456))"
   ]
  },
  {
   "cell_type": "markdown",
   "metadata": {},
   "source": [
    "A class representing a person. It's essentially a tuple, there is no behaviour attached to it. "
   ]
  },
  {
   "cell_type": "code",
   "execution_count": null,
   "metadata": {},
   "outputs": [],
   "source": [
    "class Person:\n",
    "    def __init__(self, name):\n",
    "        self.balance = 0\n",
    "        self.name = str(name)\n",
    "        self.kitty = None\n",
    "        \n",
    "kerry = Person(\"Kerry\")\n",
    "print(kerry.name)\n",
    "print(kerry.balance)"
   ]
  },
  {
   "cell_type": "markdown",
   "metadata": {},
   "source": [
    "A \"Transaction\" object stores information about a single transaction - the payer, the amount paid and a descriptive text item."
   ]
  },
  {
   "cell_type": "code",
   "execution_count": null,
   "metadata": {},
   "outputs": [],
   "source": [
    "class Transaction:\n",
    "    def __init__(self, payer, amount, desc):\n",
    "        self.payer = payer\n",
    "        self.amount = amount\n",
    "        self.desc = desc"
   ]
  },
  {
   "cell_type": "markdown",
   "metadata": {},
   "source": [
    "The Kitty object contains most of the logic for this application.\n",
    "\n",
    "The class defines three main functions:\n",
    "\n",
    "- **add_transaction**\n",
    "\n",
    "This will apply a new transaction to the kitty. This means appending a log entry and also changing each person's balance accordingly.\n",
    "    \n",
    "   \n",
    " - **print_status**\n",
    "\n",
    "\n",
    "Prints the current total, historical information and current balances recorded by the Kitty.\n",
    "\n",
    "\n",
    " - **reconcile**\n",
    "\n",
    "Calculates a sequence of payments that will resolve debts between the members of the Kitty, and ends the event."
   ]
  },
  {
   "cell_type": "code",
   "execution_count": null,
   "metadata": {},
   "outputs": [],
   "source": [
    "class Kitty:\n",
    "    \n",
    "    def __init__(self, people, desc):\n",
    "        \n",
    "        # Note: add_transaction is robust against invalid data, \n",
    "        # as specified in the assignment description. This constructor \n",
    "        # however is not - anything could be passed in as people.\n",
    "        self.start(people, desc)\n",
    "    \n",
    "    def start(self, people, desc):\n",
    "        \n",
    "        self.__people = list(people)\n",
    "        self.__desc = str(desc)\n",
    "        self.__log = []\n",
    "        self.__total = 0\n",
    "        self.__active = True\n",
    "        \n",
    "        for person in self.__people:\n",
    "            \n",
    "            if person.kitty is not None:\n",
    "                raise ValueError(\"A person may not be registered\" + \n",
    "                        \" to more than one event at a time\")\n",
    "            \n",
    "            person.kitty = self\n",
    "        \n",
    "    def end(self):\n",
    "        \n",
    "        for person in self.__people:\n",
    "            person.kitty = None\n",
    "        \n",
    "        self.__people = None\n",
    "        self.__desc = None\n",
    "        self.__log = None\n",
    "        self.__total = 0\n",
    "        self.__active = False\n",
    "\n",
    "    \n",
    "    def add_transaction(self, payer, amount, desc):\n",
    "        \n",
    "        if not self.__active: \n",
    "            raise RuntimeError(\"No event is in progress\")\n",
    "\n",
    "        if payer not in self.__people: \n",
    "            raise ValueError(\"Payer must be registered to the event\")\n",
    "        \n",
    "        try: \n",
    "            amount = float(amount)\n",
    "        except (ValueError, TypeError) as e:\n",
    "            raise ValueError(\"Failed to parse amount as float\")  \n",
    "        \n",
    "        if amount <= 0:\n",
    "            raise ValueError(\"Amount paid by the payer must be positive\")\n",
    "        \n",
    "        # The log is for printing historial info only\n",
    "        self.__log.append(Transaction(payer, amount, str(desc)))\n",
    "        \n",
    "        # The balances and total are used in reconciliation calculation\n",
    "        payer.balance -= amount\n",
    "        for person in self.__people:\n",
    "            person.balance += amount/len(self.__people)\n",
    "        self.__total += amount\n",
    "        \n",
    "    def print_status(self):\n",
    "        \n",
    "        if not self.__active:\n",
    "            print(\"No event in progress\")\n",
    "            return\n",
    "        \n",
    "        print(\"Kitty:\", self.__desc)\n",
    "        \n",
    "        total = self.__total\n",
    "        each = total/len(self.__people)\n",
    "        \n",
    "        print(euro(total), \": \", euro(each), \" each\", sep=\"\")\n",
    "        \n",
    "        print()\n",
    "        \n",
    "        for t in self.__log:\n",
    "            print(t.payer.name, \"paid\", euro(t.amount), \"for\", t.desc)\n",
    "        \n",
    "        print()\n",
    "        \n",
    "        for person in self.__people:\n",
    "            print(person.name, end=\" \")\n",
    "            print(\"has balance\", euro(person.balance))\n",
    "            \n",
    "    def reconcile(self):\n",
    "        \n",
    "        if not self.__active:\n",
    "            print(\"No event in progress\")\n",
    "            return\n",
    "        \n",
    "        # All balances *should* sum to zero.\n",
    "        # To reconcile, those with positive balance\n",
    "        # should pay those with negative balance\n",
    "        \n",
    "        debtors = []\n",
    "        creditors = []\n",
    "        \n",
    "        for person in self.__people:\n",
    "            if person.balance > 0:\n",
    "                debtors.append(person)\n",
    "            elif person.balance < 0:\n",
    "                creditors.append(person)\n",
    "        \n",
    "        # Iterate through the creditors and debtors in tandem.\n",
    "        \n",
    "        # The current debtor pays until they owe no more,\n",
    "        # then the next debtor is chosen. The current creditor recieves\n",
    "        # until they are owed no more, then the next creditor is chosen\n",
    "        \n",
    "        i = j = 0\n",
    "        # In theory this should be an \"or\", but an \"and\" seems safer where floating point\n",
    "        # errors are concerned.\n",
    "        while i < len(debtors) and j < len(creditors):\n",
    "\n",
    "            debtor = debtors[i]\n",
    "            creditor = creditors[j]\n",
    "            \n",
    "            amount = min(debtor.balance, abs(creditor.balance))\n",
    "            \n",
    "            print(debtor.name, \"pays\", creditor.name, euro(amount))\n",
    "            \n",
    "            debtor.balance -= amount\n",
    "            creditor.balance += amount\n",
    "            \n",
    "            if abs(debtor.balance) < 0.005:\n",
    "                i += 1\n",
    "            \n",
    "            if abs(creditor.balance) < 0.005:\n",
    "                j += 1\n",
    "                \n",
    "        # End the event\n",
    "        self.end()\n"
   ]
  },
  {
   "cell_type": "markdown",
   "metadata": {},
   "source": [
    "Sample 1\n",
    "=="
   ]
  },
  {
   "cell_type": "code",
   "execution_count": null,
   "metadata": {},
   "outputs": [],
   "source": [
    "annie = Person(\"Annie\")\n",
    "bill = Person(\"Bill\")\n",
    "sally = Person(\"Sally\")\n",
    "\n",
    "kitty = Kitty([annie, bill, sally], \"Concert\")\n",
    "\n",
    "kitty.add_transaction(annie, 180, \"tickets\")\n",
    "kitty.add_transaction(sally, 75, \"dinner\")\n",
    "kitty.add_transaction(bill, 19, \"drinks\")\n",
    "kitty.add_transaction(bill, 16, \"the taxi\")\n",
    "\n",
    "kitty.print_status()\n",
    "print()\n",
    "kitty.reconcile()"
   ]
  },
  {
   "cell_type": "markdown",
   "metadata": {},
   "source": [
    "Sample 2\n",
    "=="
   ]
  },
  {
   "cell_type": "code",
   "execution_count": null,
   "metadata": {},
   "outputs": [],
   "source": [
    "cathy = Person(\"Cathy\")\n",
    "robin = Person(\"Robin\")\n",
    "jen = Person(\"Jen\")\n",
    "\n",
    "kitty = Kitty([cathy, robin, jen], \"Cinema\")\n",
    "\n",
    "kitty.add_transaction(cathy, 33, \"tickets\")\n",
    "kitty.add_transaction(robin, 60, \"dinner\")\n",
    "kitty.add_transaction(jen, 21, \"drinks\")\n",
    "kitty.add_transaction(jen, 27, \"the taxi\")\n",
    "\n",
    "kitty.print_status()\n",
    "print()\n",
    "kitty.reconcile()"
   ]
  },
  {
   "cell_type": "markdown",
   "metadata": {},
   "source": [
    "Sample 3\n",
    "=="
   ]
  },
  {
   "cell_type": "code",
   "execution_count": null,
   "metadata": {},
   "outputs": [],
   "source": [
    "nora = Person(\"Nora\")\n",
    "eva = Person(\"Eva\")\n",
    "frankie = Person(\"Frankie\")\n",
    "harry = Person(\"Harry\")\n",
    "\n",
    "kitty = Kitty([nora, eva, frankie, harry], \"Concert\")\n",
    "\n",
    "kitty.add_transaction(nora, 110, \"dinner\")\n",
    "kitty.add_transaction(eva, 60, \"lunch\")\n",
    "kitty.add_transaction(frankie, 125, \"dinner\")\n",
    "kitty.add_transaction(harry, 70, \"lunch\")\n",
    "\n",
    "kitty.print_status()\n",
    "print()\n",
    "kitty.reconcile()"
   ]
  },
  {
   "cell_type": "markdown",
   "metadata": {},
   "source": [
    "Some extra tests regarding errors\n",
    "--"
   ]
  },
  {
   "cell_type": "code",
   "execution_count": null,
   "metadata": {},
   "outputs": [],
   "source": [
    "nora = Person(\"Nora\")\n",
    "eva = Person(\"Eva\")\n",
    "frankie = Person(\"Frankie\")\n",
    "\n",
    "kitty = Kitty([nora, eva, frankie], \"Concert\")\n",
    "\n",
    "kitty.add_transaction(eva, 150, \"tickets\")"
   ]
  },
  {
   "cell_type": "markdown",
   "metadata": {},
   "source": [
    "A person can only take part in one event at a time"
   ]
  },
  {
   "cell_type": "code",
   "execution_count": null,
   "metadata": {},
   "outputs": [],
   "source": [
    "second_kitty = Kitty([nora, eva], \"Cinema\")"
   ]
  },
  {
   "cell_type": "markdown",
   "metadata": {},
   "source": [
    "Transactions should only be added if the member is part of the event:"
   ]
  },
  {
   "cell_type": "code",
   "execution_count": null,
   "metadata": {},
   "outputs": [],
   "source": [
    "jor = Person(\"Jor\")\n",
    "kitty.add_transaction(jor, 70, \"lunch\")"
   ]
  },
  {
   "cell_type": "markdown",
   "metadata": {},
   "source": [
    "Amount should be a number:"
   ]
  },
  {
   "cell_type": "code",
   "execution_count": null,
   "metadata": {},
   "outputs": [],
   "source": [
    "kitty.add_transaction(eva, None, \"lunch\")"
   ]
  },
  {
   "cell_type": "code",
   "execution_count": null,
   "metadata": {},
   "outputs": [],
   "source": [
    "kitty.add_transaction(eva, \"Hello World\", \"lunch\")"
   ]
  },
  {
   "cell_type": "markdown",
   "metadata": {},
   "source": [
    "Amount should be positive:"
   ]
  },
  {
   "cell_type": "code",
   "execution_count": null,
   "metadata": {},
   "outputs": [],
   "source": [
    "kitty.add_transaction(eva, -23, \"lunch\")"
   ]
  },
  {
   "cell_type": "code",
   "execution_count": null,
   "metadata": {},
   "outputs": [],
   "source": [
    "kitty.add_transaction(eva, 0, \"lunch\")"
   ]
  },
  {
   "cell_type": "markdown",
   "metadata": {},
   "source": [
    "Once an event is reconciled, it should not be possible to add a transaction until a new event is started:"
   ]
  },
  {
   "cell_type": "code",
   "execution_count": null,
   "metadata": {},
   "outputs": [],
   "source": [
    "kitty.reconcile()\n",
    "kitty.add_transaction(eva, 23, \"lunch\")"
   ]
  },
  {
   "cell_type": "markdown",
   "metadata": {},
   "source": [
    "No event should be in progress after reconciliation:"
   ]
  },
  {
   "cell_type": "code",
   "execution_count": null,
   "metadata": {},
   "outputs": [],
   "source": [
    "kitty.print_status()"
   ]
  },
  {
   "cell_type": "code",
   "execution_count": null,
   "metadata": {
    "scrolled": true
   },
   "outputs": [],
   "source": [
    "kitty.reconcile() "
   ]
  }
 ],
 "metadata": {
  "kernelspec": {
   "display_name": "Python 3",
   "language": "python",
   "name": "python3"
  },
  "language_info": {
   "codemirror_mode": {
    "name": "ipython",
    "version": 3
   },
   "file_extension": ".py",
   "mimetype": "text/x-python",
   "name": "python",
   "nbconvert_exporter": "python",
   "pygments_lexer": "ipython3",
   "version": "3.8.5"
  }
 },
 "nbformat": 4,
 "nbformat_minor": 4
}
