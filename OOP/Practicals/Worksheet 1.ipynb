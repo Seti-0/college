{
 "cells": [
  {
   "cell_type": "markdown",
   "metadata": {},
   "source": [
    "Arguments\n",
    "="
   ]
  },
  {
   "cell_type": "code",
   "execution_count": 6,
   "metadata": {},
   "outputs": [],
   "source": [
    "def HRR_Zones_calc(rhr,mhr):\n",
    "    hrr = mhr - rhr\n",
    "    print ('Zone 1: %d bps to %d bps' % (rhr + hrr * 0.5, rhr + hrr * 0.6))\n",
    "    print ('Zone 2: %d bps to %d bps' % (rhr + hrr * 0.6, rhr + hrr * 0.7))\n",
    "    print ('Zone 3: %d bps to %d bps' % (rhr + hrr * 0.7, rhr + hrr * 0.8))\n",
    "    print ('Zone 4: %d bps to %d bps' % (rhr + hrr * 0.8, rhr + hrr * 0.9))\n",
    "    print ('Zone 5: %d bps to %d bps' % (rhr + hrr * 0.9, rhr + hrr * 1.0))    "
   ]
  },
  {
   "cell_type": "code",
   "execution_count": 7,
   "metadata": {},
   "outputs": [
    {
     "name": "stdout",
     "output_type": "stream",
     "text": [
      "Zone 1: 150 bps to 140 bps\n",
      "Zone 2: 140 bps to 130 bps\n",
      "Zone 3: 130 bps to 120 bps\n",
      "Zone 4: 120 bps to 110 bps\n",
      "Zone 5: 110 bps to 100 bps\n"
     ]
    }
   ],
   "source": [
    "HRR_Zones_calc(200, 100)"
   ]
  },
  {
   "cell_type": "code",
   "execution_count": 8,
   "metadata": {},
   "outputs": [],
   "source": [
    "# Using default arguments\n",
    "def HRR_Zones(age, RHR = 65, MHR = None):\n",
    "    \n",
    "    if MHR is None:\n",
    "        MHR = 207 - 0.7 * age\n",
    "        \n",
    "    HRR_Zones_calc(RHR, MHR)\n",
    "    "
   ]
  },
  {
   "cell_type": "code",
   "execution_count": 15,
   "metadata": {},
   "outputs": [
    {
     "name": "stdout",
     "output_type": "stream",
     "text": [
      "Zone 1: 4530 bps to 5424 bps\n",
      "Zone 2: 5424 bps to 6318 bps\n",
      "Zone 3: 6318 bps to 7212 bps\n",
      "Zone 4: 7212 bps to 8106 bps\n",
      "Zone 5: 8106 bps to 9001 bps\n",
      "Zone 1: 116 bps to 127 bps\n",
      "Zone 2: 127 bps to 137 bps\n",
      "Zone 3: 137 bps to 147 bps\n",
      "Zone 4: 147 bps to 158 bps\n",
      "Zone 5: 158 bps to 168 bps\n",
      "Zone 1: 86 bps to 103 bps\n",
      "Zone 2: 103 bps to 119 bps\n",
      "Zone 3: 119 bps to 135 bps\n",
      "Zone 4: 135 bps to 152 bps\n",
      "Zone 5: 152 bps to 168 bps\n"
     ]
    }
   ],
   "source": [
    "HRR_Zones(55, 60, 9001)\n",
    "HRR_Zones(55)\n",
    "HRR_Zones(55, RHR=5)"
   ]
  },
  {
   "cell_type": "code",
   "execution_count": 19,
   "metadata": {},
   "outputs": [],
   "source": [
    "# Alternately, using kwargs\n",
    "def HRR_Zones(age, **kwargs):\n",
    "    MHR = kwargs.get(\"MHR\", 207-0.7*age)\n",
    "    RHR = kwargs.get(\"RHR\", 60)\n",
    "    HRR_Zones_calc(RHR, MHR)"
   ]
  },
  {
   "cell_type": "code",
   "execution_count": 20,
   "metadata": {},
   "outputs": [
    {
     "name": "stdout",
     "output_type": "stream",
     "text": [
      "Zone 1: 121 bps to 133 bps\n",
      "Zone 2: 133 bps to 146 bps\n",
      "Zone 3: 146 bps to 158 bps\n",
      "Zone 4: 158 bps to 170 bps\n",
      "Zone 5: 170 bps to 183 bps\n"
     ]
    }
   ],
   "source": [
    "HRR_Zones(55, MHR=183)"
   ]
  },
  {
   "cell_type": "markdown",
   "metadata": {},
   "source": [
    "Monty Hall Problem\n",
    "="
   ]
  },
  {
   "cell_type": "code",
   "execution_count": 63,
   "metadata": {},
   "outputs": [],
   "source": [
    "from random import random\n",
    "from random import choice\n",
    "\n",
    "Doors =['Door 1','Door 2','Door 3']\n",
    "\n",
    "def MontyHallStick(*args):       # args is a optional argument to turn off print statements\n",
    "    notChosen = list(Doors) # list() creates a copy of Doors\n",
    "    car = choice(Doors)     # The car is behind this door\n",
    "    yourGuess = choice(Doors)\n",
    "    if not args:\n",
    "        print(\"Initially you guess %s\" % yourGuess)\n",
    "    # This is where the host reveals the goat behind a door you have not chosen\n",
    "    notChosen.remove(yourGuess)\n",
    "    if not args:\n",
    "        if notChosen[0] == car: # If the first of the not chosen doors has the car the host reveals the other one. \n",
    "            print(\"Goat revealed on %s\" % notChosen[1])\n",
    "        else:\n",
    "            print(\"Goat revealed on %s\" % notChosen[0]) \n",
    "    # The big reveal\n",
    "    if not args:\n",
    "        print(\"Your guess is now %s\" % yourGuess) \n",
    "    if yourGuess == car:\n",
    "        return 'Car!'\n",
    "    return 'Goat!'\n",
    "\n",
    "def MontyHallSwitch(*args):       # args is a optional argument to turn off print statements\n",
    "    notChosen = list(Doors) # list() creates a copy of Doors\n",
    "    car = choice(Doors)     # The car is behind this door\n",
    "    yourGuess = choice(Doors)\n",
    "    if not args:\n",
    "        print(\"Initially you guess %s\" % yourGuess)\n",
    "    # This is where the host reveals the goat behind a door you have not chosen\n",
    "    notChosen.remove(yourGuess)\n",
    "    if notChosen[0] == car: # If the first of the not chosen doors has the car the host reveals the other one. \n",
    "        if not args:\n",
    "            print(\"Goat revealed on %s\" % notChosen[1])\n",
    "        yourGuess = notChosen[0]  # You switch your choice.\n",
    "    else:\n",
    "        if not args:\n",
    "            print(\"Goat revealed on %s\" % notChosen[0]) \n",
    "        yourGuess = notChosen[1]  # You switch your choice.\n",
    "    # The big reveal\n",
    "    if not args:\n",
    "        print(\"Your guess is now %s\" % yourGuess) \n",
    "    if yourGuess == car:\n",
    "        return 'Car!'\n",
    "    return 'Goat!'"
   ]
  },
  {
   "cell_type": "code",
   "execution_count": 71,
   "metadata": {},
   "outputs": [
    {
     "name": "stdout",
     "output_type": "stream",
     "text": [
      "Initially you guess Door 1\n",
      "Goat revealed on Door 2\n",
      "Your guess is now Door 3\n"
     ]
    },
    {
     "data": {
      "text/plain": [
       "'Car!'"
      ]
     },
     "execution_count": 71,
     "metadata": {},
     "output_type": "execute_result"
    }
   ],
   "source": [
    "y = MontyHallSwitch()\n",
    "y"
   ]
  },
  {
   "cell_type": "code",
   "execution_count": 76,
   "metadata": {},
   "outputs": [],
   "source": [
    "def MultiMontyHall(tries, action):\n",
    "    count = 0\n",
    "    for i in range(tries):\n",
    "        # MontyHall call with \"Quiet\" supresses print statements\n",
    "        if action(\"Quiet\") == 'Car!': count += 1\n",
    "    print(int(count*100/tries+0.5))"
   ]
  },
  {
   "cell_type": "code",
   "execution_count": 78,
   "metadata": {},
   "outputs": [
    {
     "name": "stdout",
     "output_type": "stream",
     "text": [
      "66\n",
      "34\n"
     ]
    }
   ],
   "source": [
    "MultiMontyHall(1000, MontyHallSwitch)\n",
    "MultiMontyHall(1000, MontyHallStick)"
   ]
  }
 ],
 "metadata": {
  "kernelspec": {
   "display_name": "Python 3",
   "language": "python",
   "name": "python3"
  },
  "language_info": {
   "codemirror_mode": {
    "name": "ipython",
    "version": 3
   },
   "file_extension": ".py",
   "mimetype": "text/x-python",
   "name": "python",
   "nbconvert_exporter": "python",
   "pygments_lexer": "ipython3",
   "version": "3.8.5"
  }
 },
 "nbformat": 4,
 "nbformat_minor": 4
}
