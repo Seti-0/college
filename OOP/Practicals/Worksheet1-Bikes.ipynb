{
 "cells": [
  {
   "cell_type": "markdown",
   "metadata": {},
   "source": [
    "# Bike: a very basic class\n",
    "\n",
    "### The story so far...\n",
    "Everything is an object,  \n",
    "e.g. lists and datetime.  \n",
    "Objects have attributes and methods.\n",
    "### A list object\n",
    "Methods  \n",
    "e.g. `reverse(), pop()`"
   ]
  },
  {
   "cell_type": "code",
   "execution_count": 1,
   "metadata": {},
   "outputs": [
    {
     "data": {
      "text/plain": [
       "list"
      ]
     },
     "execution_count": 1,
     "metadata": {},
     "output_type": "execute_result"
    }
   ],
   "source": [
    "t = [33,22,44,11,55]\n",
    "type(t)"
   ]
  },
  {
   "cell_type": "code",
   "execution_count": 2,
   "metadata": {},
   "outputs": [
    {
     "data": {
      "text/plain": [
       "[55, 11, 44, 22, 33]"
      ]
     },
     "execution_count": 2,
     "metadata": {},
     "output_type": "execute_result"
    }
   ],
   "source": [
    "t.reverse()\n",
    "t"
   ]
  },
  {
   "cell_type": "code",
   "execution_count": 3,
   "metadata": {},
   "outputs": [
    {
     "data": {
      "text/plain": [
       "[55, 11, 44, 22]"
      ]
     },
     "execution_count": 3,
     "metadata": {},
     "output_type": "execute_result"
    }
   ],
   "source": [
    "t.pop()\n",
    "t"
   ]
  },
  {
   "cell_type": "markdown",
   "metadata": {},
   "source": [
    "### A datetime object\n",
    "Attributes\n",
    "e.g. `day, hour`"
   ]
  },
  {
   "cell_type": "code",
   "execution_count": 4,
   "metadata": {},
   "outputs": [
    {
     "name": "stdout",
     "output_type": "stream",
     "text": [
      "2020-11-03 14:14:02.243481\n"
     ]
    }
   ],
   "source": [
    "import datetime\n",
    "\n",
    "x1 = datetime.datetime.now()\n",
    "print(x1)"
   ]
  },
  {
   "cell_type": "code",
   "execution_count": 5,
   "metadata": {},
   "outputs": [
    {
     "data": {
      "text/plain": [
       "3"
      ]
     },
     "execution_count": 5,
     "metadata": {},
     "output_type": "execute_result"
    }
   ],
   "source": [
    "x1.day"
   ]
  },
  {
   "cell_type": "code",
   "execution_count": 6,
   "metadata": {},
   "outputs": [
    {
     "data": {
      "text/plain": [
       "14"
      ]
     },
     "execution_count": 6,
     "metadata": {},
     "output_type": "execute_result"
    }
   ],
   "source": [
    "x1.hour"
   ]
  },
  {
   "cell_type": "markdown",
   "metadata": {},
   "source": [
    "## BTW: Using = to create objects is 'syntactic sugar'\n",
    "https://en.wikipedia.org/wiki/Syntactic_sugar  \n",
    "It is easier than using the underlying constructor functions. "
   ]
  },
  {
   "cell_type": "code",
   "execution_count": 7,
   "metadata": {},
   "outputs": [
    {
     "name": "stdout",
     "output_type": "stream",
     "text": [
      "[33, 22, 44, 11, 55]\n",
      "[33, 22, 44, 11, 55]\n"
     ]
    }
   ],
   "source": [
    "t = [33,22,44,11,55]\n",
    "t2 = list([33,22,44,11,55])\n",
    "print(t)\n",
    "print(t2)"
   ]
  },
  {
   "cell_type": "code",
   "execution_count": 8,
   "metadata": {},
   "outputs": [
    {
     "name": "stdout",
     "output_type": "stream",
     "text": [
      "Hello\n",
      "Hi There\n"
     ]
    }
   ],
   "source": [
    "y = 'Hello'\n",
    "y2 = str('Hi There')\n",
    "print(y)\n",
    "print(y2)"
   ]
  },
  {
   "cell_type": "markdown",
   "metadata": {},
   "source": [
    "Lists and Strings (str) are objects that have special constructor methods called `list` and `str`."
   ]
  },
  {
   "cell_type": "markdown",
   "metadata": {},
   "source": [
    "# Bike\n",
    "## My first object\n",
    "Has two attributes and a constructor"
   ]
  },
  {
   "cell_type": "code",
   "execution_count": 9,
   "metadata": {},
   "outputs": [],
   "source": [
    "class Bike():\n",
    "    def __init__(self, name, size):\n",
    "        self.name = name\n",
    "        self.size = size"
   ]
  },
  {
   "cell_type": "code",
   "execution_count": 10,
   "metadata": {},
   "outputs": [],
   "source": [
    "mb = Bike('my nellie', 'M')"
   ]
  },
  {
   "cell_type": "code",
   "execution_count": 11,
   "metadata": {},
   "outputs": [
    {
     "data": {
      "text/plain": [
       "__main__.Bike"
      ]
     },
     "execution_count": 11,
     "metadata": {},
     "output_type": "execute_result"
    }
   ],
   "source": [
    "type(mb)"
   ]
  },
  {
   "cell_type": "code",
   "execution_count": 12,
   "metadata": {},
   "outputs": [
    {
     "data": {
      "text/plain": [
       "'my nellie'"
      ]
     },
     "execution_count": 12,
     "metadata": {},
     "output_type": "execute_result"
    }
   ],
   "source": [
    "mb.name"
   ]
  },
  {
   "cell_type": "markdown",
   "metadata": {},
   "source": [
    "## Fixie \n",
    "## Inheritance and Method\n",
    "`Fixie` is a sub-class of `Bike` and inherits the attributes of `Bike`.\n",
    "`Fixie` has a method `get_gear`."
   ]
  },
  {
   "cell_type": "code",
   "execution_count": 35,
   "metadata": {},
   "outputs": [],
   "source": [
    "class Bike():\n",
    "    def __init__(self, name, size):\n",
    "        self.name = name\n",
    "        self.size = size\n",
    "        \n",
    "class Fixie(Bike):\n",
    "    def __init__(self, name, size, front, back):\n",
    "        Bike.__init__(self, name, size)\n",
    "        self.front = front\n",
    "        self.back = back\n",
    "    \n",
    "    def get_gear(self):\n",
    "        return self.front / self.back  "
   ]
  },
  {
   "cell_type": "code",
   "execution_count": 14,
   "metadata": {},
   "outputs": [],
   "source": [
    "mf = Fixie('fred the fixie', 'S', 44, 16)"
   ]
  },
  {
   "cell_type": "code",
   "execution_count": 15,
   "metadata": {},
   "outputs": [
    {
     "data": {
      "text/plain": [
       "'S'"
      ]
     },
     "execution_count": 15,
     "metadata": {},
     "output_type": "execute_result"
    }
   ],
   "source": [
    "mf.size"
   ]
  },
  {
   "cell_type": "code",
   "execution_count": 16,
   "metadata": {},
   "outputs": [
    {
     "data": {
      "text/plain": [
       "44"
      ]
     },
     "execution_count": 16,
     "metadata": {},
     "output_type": "execute_result"
    }
   ],
   "source": [
    "mf.front"
   ]
  },
  {
   "cell_type": "code",
   "execution_count": 17,
   "metadata": {},
   "outputs": [
    {
     "data": {
      "text/plain": [
       "2.75"
      ]
     },
     "execution_count": 17,
     "metadata": {},
     "output_type": "execute_result"
    }
   ],
   "source": [
    "mf.get_gear()"
   ]
  },
  {
   "cell_type": "code",
   "execution_count": 18,
   "metadata": {},
   "outputs": [],
   "source": [
    "mf.back = 20"
   ]
  },
  {
   "cell_type": "code",
   "execution_count": 19,
   "metadata": {},
   "outputs": [
    {
     "data": {
      "text/plain": [
       "2.2"
      ]
     },
     "execution_count": 19,
     "metadata": {},
     "output_type": "execute_result"
    }
   ],
   "source": [
    "mf.get_gear()"
   ]
  },
  {
   "cell_type": "markdown",
   "metadata": {},
   "source": [
    "**Q3**\n",
    "## Extend Bike and Fixie Classes\n",
    "- Add attributes `price` and `age` to the Bike class.  \n",
    "You will need to change the constructor to include `price` and `age`.  \n",
    "- Add a method `current_value` to the Bike class that returns the current value based on 20% depreciation p.a.  \n",
    "$cv = pp \\times (1-dep)^{age}$\n",
    "- Create a new Fixie instance to test that the `current_value` is inherited. "
   ]
  },
  {
   "cell_type": "code",
   "execution_count": 23,
   "metadata": {},
   "outputs": [
    {
     "name": "stdout",
     "output_type": "stream",
     "text": [
      "2.298743311298841\n",
      "768.0000000000002\n"
     ]
    }
   ],
   "source": [
    "class Bike():\n",
    "    def __init__(self, name, size, price, age):\n",
    "        self.name = name\n",
    "        self.size = size\n",
    "        self.price = price\n",
    "        self.age = age\n",
    "    \n",
    "    def current_value(self):\n",
    "        return self.price * (1-0.2)**self.age\n",
    "    \n",
    "bike = Bike(\"blonkie\", 246, 1500000, 60)\n",
    "print(bike.current_value())\n",
    "\n",
    "# We'd have to alter fixie accordingly\n",
    "#fixie = Fixie(\"Joe\", 23, 20, 30)\n",
    "\n",
    "class Fixie(Bike):\n",
    "    def __init__(self, name, size, front, back):\n",
    "        Bike.__init__(self, name, size, 1500, 3)\n",
    "        self.front = front\n",
    "        self.back = back\n",
    "    \n",
    "    def get_gear(self):\n",
    "        return self.front / self.back\n",
    "    \n",
    "fixie = Fixie(\"fixie\", 23, 20, 30)\n",
    "print(fixie.current_value())"
   ]
  },
  {
   "cell_type": "markdown",
   "metadata": {},
   "source": [
    "**Q4**\n",
    "## Eleven_Speed Class\n",
    "\n",
    "Create a sub-class of Bike called Eleven_Speed for bikes that have an 11 speed rear cassette  and a single front chain cog. It will have attributes:\n",
    "- front (like the Fixie class)\n",
    "- rear_cassette: a list of cog sizes (like the Fixie class except a list)  \n",
    "  \n",
    "Because it will have 11 speeds (gears) it should have `get_top_gear` and `get_low_gear` methods. These are like the `get_gear` method in Fixie except the the `get_top_gear` method selects the smallest cog and `get_low_gear` selects the largest cog.  \n",
    "- Create an instance of Eleven_Speed that has a 44 tooth front cog and these 11 rear cogs [11,13,15,17,19,22,25,28,32,36,42].  \n",
    "- Show that the two new methods work for this instance.  \n",
    "- Does `current_value` work?  \n",
    "\n",
    "**Spoiler Alert**  \n",
    "The low gear should be 44/42 $\\approx$ 1.05.  \n",
    "The top gear is 44/11 = 4."
   ]
  },
  {
   "cell_type": "code",
   "execution_count": 34,
   "metadata": {},
   "outputs": [
    {
     "name": "stdout",
     "output_type": "stream",
     "text": [
      "Low: 1.0476190476190477\n",
      "Top: 4.0\n"
     ]
    }
   ],
   "source": [
    "class Elven_Speed(Bike):\n",
    "    def __init__(self, front, rear_cassette):\n",
    "        Bike.__init__(self, \"elvie\", 20, 45, 2)\n",
    "        self.front = front\n",
    "        self.rear_cassette = sorted(rear_cassette)\n",
    "        \n",
    "    def get_top_gear(self):\n",
    "        return self.front/self.rear_cassette[0]\n",
    "    \n",
    "    def get_low_gear(self):\n",
    "        return self.front/self.rear_cassette[-1]\n",
    "    \n",
    "elvie = Elven_Speed(44, [11,13,15,17,19,22,25,28,32,36,42])\n",
    "print(\"Low:\", elvie.get_low_gear())\n",
    "print(\"Top:\", elvie.get_top_gear())"
   ]
  },
  {
   "cell_type": "markdown",
   "metadata": {},
   "source": [
    "**Q5**\n",
    "\n",
    "Add get_top_gear and get_low_gear methods to the Fixie class to make instances of it compatible with the Eleven_Speed class.  \n",
    "These methods can simply call the get_gear method.  \n",
    "Show that they work.\n"
   ]
  },
  {
   "cell_type": "code",
   "execution_count": 32,
   "metadata": {},
   "outputs": [
    {
     "name": "stdout",
     "output_type": "stream",
     "text": [
      "Current value: 768.0000000000002\n",
      "Gear: 2.0\n",
      "Top gear: 2.0\n",
      "Low gear: 2.0\n"
     ]
    }
   ],
   "source": [
    "class Fixie(Bike):\n",
    "    def __init__(self, name, size, front, back):\n",
    "        Bike.__init__(self, name, size, 1500, 3)\n",
    "        self.front = front\n",
    "        self.back = back\n",
    "    \n",
    "    def get_gear(self):\n",
    "        return self.front / self.back\n",
    "    \n",
    "    def get_top_gear(self):\n",
    "        return self.get_gear()\n",
    "    \n",
    "    def get_low_gear(self):\n",
    "        return self.get_gear()\n",
    "    \n",
    "fixie = Fixie(\"fixie\", 20, 40, 20)\n",
    "print(\"Current value:\", fixie.current_value())\n",
    "print(\"Gear:\", fixie.get_gear())\n",
    "print(\"Top gear:\", fixie.get_top_gear())\n",
    "print(\"Low gear:\", fixie.get_low_gear())"
   ]
  },
  {
   "cell_type": "markdown",
   "metadata": {},
   "source": [
    "**Q6**\n",
    "\n",
    "Most bikes have a second chain ring at the front. Create a TwentyTwo_Speed class to cover bikes with a second chain ring at the front. \n",
    "The constructor call will look something like this:\n",
    "\n",
    "mdb = TwentyTwo_Speed('my_dear_bike', 'M' ,[50,34], [11,13,14,15,16,17,19,22,25,28,32],1700,1)\n",
    "\n",
    "where [50,34] defines the two chain rings.\n",
    "\n"
   ]
  },
  {
   "cell_type": "code",
   "execution_count": 26,
   "metadata": {},
   "outputs": [
    {
     "name": "stdout",
     "output_type": "stream",
     "text": [
      "Top: 4.545454545454546\n",
      "Low: 1.0625\n"
     ]
    }
   ],
   "source": [
    "class TwentyTwo_Speed(Bike):\n",
    "    \n",
    "    def __init__(self, name, size, front, rear_cassette, price, age):\n",
    "        super().__init__(name, size, price, age)\n",
    "        self.front = sorted(front)\n",
    "        self.rear_cassette = rear_cassette\n",
    "        \n",
    "    def get_top_gear(self):\n",
    "        return self.front[-1]/self.rear_cassette[0]\n",
    "    \n",
    "    def get_low_gear(self):\n",
    "        return self.front[0]/self.rear_cassette[-1]\n",
    "        \n",
    "        \n",
    "T2 = TwentyTwo_Speed('T2', 'M', [50, 34], [11, 13, 14, 15, 16, 17, 19, 22, 25, 28, 32], 1700, 1)\n",
    "print(\"Top:\", T2.get_top_gear())\n",
    "print(\"Low:\", T2.get_low_gear())"
   ]
  },
  {
   "cell_type": "markdown",
   "metadata": {},
   "source": [
    "**Q7**\n",
    "\n",
    "Create one bike of each class (Fixie, ElevenSpeed and TwentyTwo_Speed).\n",
    "\n",
    "Place the names of these instances in a list.\n",
    "\n",
    "Iterate through this list calling the get_top_gear method on each instance."
   ]
  },
  {
   "cell_type": "code",
   "execution_count": 35,
   "metadata": {},
   "outputs": [
    {
     "name": "stdout",
     "output_type": "stream",
     "text": [
      "Top gear for fixie: 2.0\n",
      "Top gear for elvie: 4.0\n",
      "Top gear for T2: 4.545454545454546\n"
     ]
    }
   ],
   "source": [
    "bikes = [fixie, elvie, T2]\n",
    "\n",
    "for bike in bikes:\n",
    "    print(\"Top gear for\", str(bike.name)+\":\", bike.get_top_gear())"
   ]
  }
 ],
 "metadata": {
  "kernelspec": {
   "display_name": "Python 3",
   "language": "python",
   "name": "python3"
  },
  "language_info": {
   "codemirror_mode": {
    "name": "ipython",
    "version": 3
   },
   "file_extension": ".py",
   "mimetype": "text/x-python",
   "name": "python",
   "nbconvert_exporter": "python",
   "pygments_lexer": "ipython3",
   "version": "3.8.5"
  }
 },
 "nbformat": 4,
 "nbformat_minor": 4
}
