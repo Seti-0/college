{
 "cells": [
  {
   "cell_type": "markdown",
   "metadata": {},
   "source": [
    "Calculator\n",
    "=\n",
    "\n",
    "Goal: to parse expressions such as \"4\\*235^(1+12.4)\" similar to how python would\n"
   ]
  },
  {
   "cell_type": "code",
   "execution_count": 27,
   "metadata": {},
   "outputs": [],
   "source": [
    "verbrose = True"
   ]
  },
  {
   "cell_type": "markdown",
   "metadata": {},
   "source": [
    "Setup\n",
    "=\n",
    "\n",
    "Parsing individual operations"
   ]
  },
  {
   "cell_type": "code",
   "execution_count": 52,
   "metadata": {},
   "outputs": [],
   "source": [
    "######\n",
    "# FP Arithmetic\n",
    "\n",
    "op_eval_lookup = {\n",
    "    \"^\" : float.__pow__,\n",
    "    \"/\" : float.__floordiv__,\n",
    "    \"*\" : float.__mul__,\n",
    "    \"-\" : float.__sub__,\n",
    "    \"+\" : float.__add__,\n",
    "}\n",
    "\n",
    "def evaluate(a, b, op):\n",
    "    \n",
    "    f = op_eval_lookup[op]\n",
    "    result = f(float(a), float(b))\n",
    "    \n",
    "    if verbrose: print(a, op, b, \"=\", result)\n",
    "    \n",
    "    return result"
   ]
  },
  {
   "cell_type": "code",
   "execution_count": 53,
   "metadata": {},
   "outputs": [],
   "source": [
    "######\n",
    "# Int Arithmetic\n",
    "\n",
    "op_eval_lookup = {\n",
    "    \"^\" : int.__pow__,\n",
    "    \"/\" : int.__floordiv__,\n",
    "    \"*\" : int.__mul__,\n",
    "    \"-\" : int.__sub__,\n",
    "    \"+\" : int.__add__,\n",
    "}\n",
    "\n",
    "def evaluate(a, b, op):\n",
    "    \n",
    "    f = op_eval_lookup[op]\n",
    "    result = f(int(a), int(b))\n",
    "    \n",
    "    if verbrose: print(a, op, b, \"=\", result)\n",
    "    \n",
    "    return result"
   ]
  },
  {
   "cell_type": "code",
   "execution_count": 55,
   "metadata": {},
   "outputs": [
    {
     "name": "stdout",
     "output_type": "stream",
     "text": [
      "2 ^ 10 = 1024\n",
      "1 + 3 = 4\n"
     ]
    },
    {
     "data": {
      "text/plain": [
       "4"
      ]
     },
     "execution_count": 55,
     "metadata": {},
     "output_type": "execute_result"
    }
   ],
   "source": [
    "evaluate(2 ,10, \"^\")\n",
    "evaluate(1, 3, \"+\")"
   ]
  },
  {
   "cell_type": "markdown",
   "metadata": {},
   "source": [
    "Information about operator precedence"
   ]
  },
  {
   "cell_type": "code",
   "execution_count": 56,
   "metadata": {},
   "outputs": [],
   "source": [
    "class Level:\n",
    "    def __init__(self, order, members):\n",
    "        self.order = order\n",
    "        self.members = members\n",
    "        \n",
    "orderRL = True\n",
    "orderLR = False\n",
    "\n",
    "levels = [\n",
    "    Level(orderRL, [\"^\"]),\n",
    "    Level(orderLR, [\"*\", \"/\"]),\n",
    "    Level(orderLR, [\"+\", \"-\"])\n",
    "]\n",
    "\n",
    "# Note: in python, operators of the same precedence are grouped\n",
    "# left to right, EXCEPT EXPONENTIATION, which is grouped right to left."
   ]
  },
  {
   "cell_type": "markdown",
   "metadata": {},
   "source": [
    "Logic\n",
    "=\n",
    "\n",
    "The \"reduce\" method is the main item - it takes a list of numbers separated by operators, and a category of operators to the tokens. It then performs the calculations that are part of the level, reducing the size of the list.\n",
    "\n",
    "\"evalulate_flat\" uses reduce for each level to turn a list of tokens into a single number. It does not support brackets, however"
   ]
  },
  {
   "cell_type": "code",
   "execution_count": 57,
   "metadata": {},
   "outputs": [],
   "source": [
    "# Note that the list manipulations are very roundabout and not pythonic at all\n",
    "# (With even a preallocation at the start)\n",
    "# This is because this is a prototype code for another language with a far more \n",
    "# limited list definition\n",
    "\n",
    "def reduce(tokens, level):\n",
    "\n",
    "    n = 0\n",
    "    for i in range(1, len(tokens)-1, 2):\n",
    "        if tokens[i] not in level.members:\n",
    "            n += 1\n",
    "    output_length = 1 + 2*n\n",
    "    output_tokens = [None] * output_length\n",
    "    \n",
    "    if level.order == orderLR:\n",
    "        \n",
    "        i = 0\n",
    "        j = 0\n",
    "        \n",
    "        while i+2 < len(tokens):\n",
    "            \n",
    "            if tokens[i+1] in level.members:\n",
    "                \n",
    "                a = tokens[i]\n",
    "                op = tokens[i+1]\n",
    "                b = tokens[i+2]\n",
    "                    \n",
    "                result = evaluate(a, b, op)\n",
    "                \n",
    "                tokens[i] = None\n",
    "                tokens[i+1] = None\n",
    "                tokens[i+2] = result\n",
    "                \n",
    "            else:\n",
    "                output_tokens[j] = tokens[i]\n",
    "                output_tokens[j+1] = tokens[i+1]\n",
    "                j += 2\n",
    "            \n",
    "            i += 2\n",
    "            \n",
    "        output_tokens[j] = tokens[i]\n",
    "            \n",
    "    elif level.order == orderRL:\n",
    "        \n",
    "        i = len(tokens) - 1\n",
    "        j = output_length - 1\n",
    "        \n",
    "        while i-2 >= 0:\n",
    "            \n",
    "            if tokens[i-1] in level.members:\n",
    "                \n",
    "                a = tokens[i-2]\n",
    "                op = tokens[i-1]\n",
    "                b = tokens[i]\n",
    "                \n",
    "                result = evaluate(a, b, op)\n",
    "                \n",
    "                tokens[i-2] = result\n",
    "                tokens[i-1] = None\n",
    "                tokens[i] = None\n",
    "                \n",
    "            else:\n",
    "                output_tokens[j] = tokens[i]\n",
    "                output_tokens[j-1] = tokens[i-1]\n",
    "                j -= 2\n",
    "            \n",
    "            i -= 2\n",
    "            \n",
    "        output_tokens[j] = tokens[i]\n",
    "\n",
    "    return output_tokens\n",
    "            \n",
    "def evaluate_flat(tokens):\n",
    "    \n",
    "    for level in levels:\n",
    "        tokens = reduce(tokens, level)\n",
    "        \n",
    "    return tokens[0]"
   ]
  },
  {
   "cell_type": "code",
   "execution_count": 58,
   "metadata": {},
   "outputs": [
    {
     "name": "stdout",
     "output_type": "stream",
     "text": [
      "2 ^ 3 = 8\n",
      "2 ^ 8 = 256\n",
      "2 * 256 = 512\n",
      "512 + 1 = 513\n"
     ]
    },
    {
     "data": {
      "text/plain": [
       "513"
      ]
     },
     "execution_count": 58,
     "metadata": {},
     "output_type": "execute_result"
    }
   ],
   "source": [
    "tokens = [2, \"*\", 2, \"^\", 2, \"^\", 3, \"+\", 1]\n",
    "evaluate_flat(tokens)"
   ]
  },
  {
   "cell_type": "markdown",
   "metadata": {},
   "source": [
    "The \"evaluate_tokens\" accepts brackets as well as numbers and operators, acting recursively to evaluate inner groups before outer groups"
   ]
  },
  {
   "cell_type": "code",
   "execution_count": 34,
   "metadata": {},
   "outputs": [],
   "source": [
    "def evaluate_tokens(tokens):\n",
    "    \n",
    "    outer = []\n",
    "    inner = []\n",
    "\n",
    "    depth = 0\n",
    "    \n",
    "    for token in tokens:\n",
    "        \n",
    "        if token == \"(\":\n",
    "           \n",
    "            depth += 1\n",
    "        \n",
    "        elif token == \")\":\n",
    "            \n",
    "            depth -= 1\n",
    "            \n",
    "            if depth == 0:\n",
    "                outer.append(evaluate_tokens(inner))\n",
    "                inner = []\n",
    "\n",
    "        else:\n",
    "            if depth == 0:\n",
    "                outer.append(token)\n",
    "            else:\n",
    "                inner.append(token)\n",
    "\n",
    "    value = evaluate_flat(outer)\n",
    "    return value"
   ]
  },
  {
   "cell_type": "code",
   "execution_count": 35,
   "metadata": {},
   "outputs": [
    {
     "name": "stdout",
     "output_type": "stream",
     "text": [
      "2 + 2 = 4\n",
      "1 + 1 = 2\n",
      "2 + 1 = 3\n",
      "4 * 3 = 12\n"
     ]
    },
    {
     "data": {
      "text/plain": [
       "12"
      ]
     },
     "execution_count": 35,
     "metadata": {},
     "output_type": "execute_result"
    }
   ],
   "source": [
    "# (2 + 2) * (1 + (1 + 1))\n",
    "tokens = [\"(\", 2, \"+\", 2, \")\", \"*\", \"(\", 1, \"+\", \"(\", 1, \"+\", 1, \")\", \")\"]\n",
    "evaluate_tokens(tokens)"
   ]
  },
  {
   "cell_type": "markdown",
   "metadata": {},
   "source": [
    "Parsing\n",
    "="
   ]
  },
  {
   "cell_type": "markdown",
   "metadata": {},
   "source": [
    "All that remains is to convert text into tokens"
   ]
  },
  {
   "cell_type": "code",
   "execution_count": 36,
   "metadata": {},
   "outputs": [],
   "source": [
    "def check_bracket(text, index, tokens):\n",
    "    \n",
    "    if index >= len(text):\n",
    "        return index\n",
    "    \n",
    "    if text[index] in \"()\":\n",
    "        tokens.append(text[index])\n",
    "        index += 1\n",
    "    \n",
    "    return index\n",
    "\n",
    "def collect_number(text, index, tokens):\n",
    "    \n",
    "    if index >= len(text):\n",
    "        return index\n",
    "    \n",
    "    number = \"\"\n",
    "    \n",
    "    while index < len(text) and (text[index] in \"0123456789\"):\n",
    "        number += text[index]\n",
    "        index += 1\n",
    "    \n",
    "    tokens.append(int(number))\n",
    "    return index\n",
    "\n",
    "def collect_operator(text, index, tokens):\n",
    "    \n",
    "    if index >= len(text):\n",
    "        return index\n",
    "    \n",
    "    tokens.append(text[index])\n",
    "    \n",
    "    index += 1\n",
    "    return index"
   ]
  },
  {
   "cell_type": "code",
   "execution_count": 37,
   "metadata": {},
   "outputs": [
    {
     "name": "stdout",
     "output_type": "stream",
     "text": [
      "[12, '+', '(', 34, '*', 34, ')']\n"
     ]
    }
   ],
   "source": [
    "text = \"12+(34*34)\"\n",
    "\n",
    "index = 0\n",
    "tokens = []\n",
    "while index < len(text):\n",
    "    index = check_bracket(text, index, tokens)\n",
    "    index = collect_number(text, index, tokens)\n",
    "    index = check_bracket(text, index, tokens)\n",
    "    index = collect_operator(text, index, tokens)\n",
    "    \n",
    "print(tokens)"
   ]
  },
  {
   "cell_type": "code",
   "execution_count": 38,
   "metadata": {},
   "outputs": [],
   "source": [
    "\n",
    "def evaluate_expression(text):\n",
    "    \n",
    "    if verbrose: print(\"Input:\", text)\n",
    "    \n",
    "    index = 0\n",
    "    tokens = []\n",
    "    \n",
    "    while index < len(text):\n",
    "        index = check_bracket(text, index, tokens)\n",
    "        index = collect_number(text, index, tokens)\n",
    "        index = check_bracket(text, index, tokens)\n",
    "        index = collect_operator(text, index, tokens)\n",
    "    \n",
    "    return evaluate_tokens(tokens)   "
   ]
  },
  {
   "cell_type": "markdown",
   "metadata": {},
   "source": [
    "Testing\n",
    "=="
   ]
  },
  {
   "cell_type": "code",
   "execution_count": 49,
   "metadata": {},
   "outputs": [
    {
     "name": "stdout",
     "output_type": "stream",
     "text": [
      "Count: 10000\n",
      "Passed: 9817\n",
      "Skipped: 183\n"
     ]
    }
   ],
   "source": [
    "from random import randrange, choice\n",
    "\n",
    "def reset():\n",
    "    global count, passed, skipped\n",
    "    count = 0\n",
    "    passed = 0\n",
    "    skipped = 0\n",
    "\n",
    "def display():\n",
    "    print(\"Count:\", count)\n",
    "    print(\"Passed:\", passed)\n",
    "    print(\"Skipped:\", skipped)\n",
    "    \n",
    "def generate():\n",
    "    \n",
    "    text = str(randrange(100))\n",
    "    \n",
    "    for i in range(10):\n",
    "        op = choice([\"+\", \"-\", \"*\", \"/\", \"^\"])\n",
    "        text += op\n",
    "        \n",
    "        if op == \"^\":\n",
    "            N = 3\n",
    "        else:\n",
    "            N = 100\n",
    "        \n",
    "        text += str(randrange(N))\n",
    "            \n",
    "    return text\n",
    "    \n",
    "def test():\n",
    "    \n",
    "    global count, passed, skipped\n",
    "    count += 1\n",
    "    \n",
    "    text = generate()\n",
    "    \n",
    "    try:\n",
    "        expected = int(eval(text.replace(\"^\", \"**\").replace(\"/\", \"//\")))\n",
    "        skip = False\n",
    "    except (ZeroDivisionError, OverflowError):\n",
    "        skip = True\n",
    "        \n",
    "    if skip:\n",
    "        skipped += 1\n",
    "        return True\n",
    "    else:\n",
    "        result = evaluate_expression(text)\n",
    "        if expected == result:\n",
    "            passed += 1\n",
    "            return True\n",
    "        else:\n",
    "            print(\"FAIL:\", text)\n",
    "            print(\"Expected:\", expected)\n",
    "            print(\"Result\", result)\n",
    "            return False\n",
    "\n",
    "verbrose=False\n",
    "reset()\n",
    "\n",
    "# Test on lots of random expressions\n",
    "for i in range(10000):\n",
    "    if not test():\n",
    "        break\n",
    "        \n",
    "display()\n",
    "\n",
    "\n",
    "#######\n",
    "# TWO MAIN REASONS FOR FAILURE:\n",
    "\n",
    "#    - Floating point error - sometimes differences are very very small, which makes\n",
    "#       me think that python does the order of operations differently sometimes where the \n",
    "#       changing the order would not make a difference in an analytical world\n",
    "#\n",
    "#    - Overflow - I wonder does python reorder things to avoid overflow, actually.\n",
    "#\n",
    "# These apply to floating point arithimetic. Integer mode is much more reliable."
   ]
  },
  {
   "cell_type": "code",
   "execution_count": 50,
   "metadata": {},
   "outputs": [
    {
     "name": "stdout",
     "output_type": "stream",
     "text": [
      "Input: 62/4+53-25+75/44^1+54-50^1*57\n",
      "50 ^ 1 = 50\n",
      "44 ^ 1 = 44\n",
      "62 / 4 = 15\n",
      "75 / 44 = 1\n",
      "50 * 57 = 2850\n",
      "15 + 53 = 68\n",
      "68 - 25 = 43\n",
      "43 + 1 = 44\n",
      "44 + 54 = 98\n",
      "98 - 2850 = -2752\n"
     ]
    },
    {
     "data": {
      "text/plain": [
       "-2752"
      ]
     },
     "execution_count": 50,
     "metadata": {},
     "output_type": "execute_result"
    }
   ],
   "source": [
    "verbrose=True\n",
    "evaluate_expression(\"62/4+53-25+75/44^1+54-50^1*57\")"
   ]
  },
  {
   "cell_type": "code",
   "execution_count": null,
   "metadata": {},
   "outputs": [],
   "source": []
  }
 ],
 "metadata": {
  "kernelspec": {
   "display_name": "Python 3",
   "language": "python",
   "name": "python3"
  },
  "language_info": {
   "codemirror_mode": {
    "name": "ipython",
    "version": 3
   },
   "file_extension": ".py",
   "mimetype": "text/x-python",
   "name": "python",
   "nbconvert_exporter": "python",
   "pygments_lexer": "ipython3",
   "version": "3.8.5"
  }
 },
 "nbformat": 4,
 "nbformat_minor": 4
}
