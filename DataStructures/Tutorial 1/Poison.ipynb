{
 "cells": [
  {
   "cell_type": "code",
   "execution_count": 66,
   "metadata": {},
   "outputs": [],
   "source": [
    "\n",
    "N = 64\n",
    "bottles = list()\n",
    "death_count = 0\n",
    "\n",
    "def reset():\n",
    "    \n",
    "    global bottles, death_count\n",
    "    \n",
    "    bottles = [False] * N\n",
    "    index = random.randrange(N)\n",
    "    bottles[index] = True\n",
    "    \n",
    "    print(\"---- Start ----\")\n",
    "    print(f\"Bottle {index} is poisoned...\")\n",
    "    \n",
    "    death_count = 0\n",
    "\n",
    "def test(bottles):\n",
    "    \n",
    "    global death_count\n",
    "    \n",
    "    if any(bottles):\n",
    "        death_count += 1\n",
    "        return True\n",
    "    \n",
    "def complete(guess):\n",
    "    \n",
    "    if bottles[guess]:\n",
    "        result = \"correct\"\n",
    "    else:\n",
    "        result = \"incorrect\"\n",
    "    \n",
    "    print(\"The guess is\", result + \"!\")\n",
    "    print(death_count, \"people died in this endeavour\")\n",
    "    print(\"---------------\")"
   ]
  },
  {
   "cell_type": "code",
   "execution_count": 81,
   "metadata": {},
   "outputs": [
    {
     "name": "stdout",
     "output_type": "stream",
     "text": [
      "---- Start ----\n",
      "Bottle 70 is poisoned...\n",
      "The guess is correct!\n",
      "2 people died in this endeavour\n",
      "---------------\n"
     ]
    }
   ],
   "source": [
    "import math\n",
    "\n",
    "N = 100\n",
    "reset()\n",
    "\n",
    "a = 0\n",
    "b = N\n",
    "\n",
    "while True:\n",
    "    \n",
    "    m = int((a + b) / 2)\n",
    "    \n",
    "    if test(bottles[a:m]):\n",
    "        b = m\n",
    "    else:\n",
    "        a = m\n",
    "        \n",
    "    if b - a < 2:\n",
    "        break\n",
    "\n",
    "complete(a)"
   ]
  }
 ],
 "metadata": {
  "kernelspec": {
   "display_name": "Python 3",
   "language": "python",
   "name": "python3"
  },
  "language_info": {
   "codemirror_mode": {
    "name": "ipython",
    "version": 3
   },
   "file_extension": ".py",
   "mimetype": "text/x-python",
   "name": "python",
   "nbconvert_exporter": "python",
   "pygments_lexer": "ipython3",
   "version": "3.8.5"
  }
 },
 "nbformat": 4,
 "nbformat_minor": 4
}
