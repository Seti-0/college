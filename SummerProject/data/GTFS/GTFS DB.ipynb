{
 "cells": [
  {
   "cell_type": "code",
   "execution_count": 1,
   "id": "65a341e5",
   "metadata": {},
   "outputs": [],
   "source": [
    "from sqlalchemy import create_engine\n",
    "import pandas as pd\n",
    "import re\n",
    "\n",
    "from datetime import datetime, timedelta\n",
    "import matplotlib\n",
    "\n",
    "import numpy as np\n",
    "import math\n",
    "\n",
    "# For the sake of progress display.\n",
    "from IPython.display import display, update_display"
   ]
  },
  {
   "cell_type": "markdown",
   "id": "34bf76d8",
   "metadata": {},
   "source": [
    "A quick helper class for displaying progress info during a long operation."
   ]
  },
  {
   "cell_type": "code",
   "execution_count": 2,
   "id": "d57e0b13",
   "metadata": {},
   "outputs": [],
   "source": [
    "class Progress:\n",
    "    \n",
    "    def __init__(self, name, count):\n",
    "        self.name = name\n",
    "        self.count = count\n",
    "        display(\"Starting '\" + name + \"'\", display_id=name)\n",
    "        self.last_update = 0\n",
    "        self.step = math.ceil(self.count/100) # Update when about 1% has elapsed.\n",
    "    \n",
    "    def update(self, value):\n",
    "        if value != self.count and int(value - self.last_update) % self.step > 0:\n",
    "            return # Don't update too often since that will slow down loops a lot!\n",
    "        self.last_update = value\n",
    "        p = (value+1)/self.count\n",
    "        message = f\"{self.name}: {int(100*p)}% complete.\"\n",
    "        update_display(message, display_id=self.name)\n",
    "        \n",
    "    def complete(self):\n",
    "        self.update(self.count)"
   ]
  },
  {
   "cell_type": "markdown",
   "id": "8cdad3e2",
   "metadata": {},
   "source": [
    "Quick test:"
   ]
  },
  {
   "cell_type": "code",
   "execution_count": 3,
   "id": "4490f4f1",
   "metadata": {},
   "outputs": [
    {
     "data": {
      "text/plain": [
       "'Test: 100% complete.'"
      ]
     },
     "metadata": {},
     "output_type": "display_data"
    },
    {
     "name": "stdout",
     "output_type": "stream",
     "text": [
      "1000000\n"
     ]
    }
   ],
   "source": [
    "N = 1000000\n",
    "progress = Progress(\"Test\", N)\n",
    "count = 0\n",
    "for i in range(N):\n",
    "    count += 1\n",
    "    progress.update(i)\n",
    "progress.complete()\n",
    "print(count)"
   ]
  },
  {
   "cell_type": "markdown",
   "id": "a67b5b16",
   "metadata": {},
   "source": [
    "Another helper method for sorting tables and resetting the index. This shouldn't be necessary for every table, but we've had awkwardness with this in the past and there is no harm in tagging it on."
   ]
  },
  {
   "cell_type": "code",
   "execution_count": 4,
   "id": "415813af",
   "metadata": {},
   "outputs": [],
   "source": [
    "def sort(table, *fields):\n",
    "    \n",
    "    if len(fields) == 0:\n",
    "        fields = table.columns\n",
    "    \n",
    "    # The arguments here are important:\n",
    "    #  - an unstable sort would defeat the purpose, we're trying to keep foreign keys stable\n",
    "    #  - making the index a part of the sort would have no affect at all in the db\n",
    "    \n",
    "    table.sort_values(by=list(fields), inplace=True, kind=\"stable\", ignore_index=True)"
   ]
  },
  {
   "cell_type": "markdown",
   "id": "3959e3b4",
   "metadata": {},
   "source": [
    "Load GTFS data\n",
    "==\n",
    "\n",
    "This can take a minute - stop_times is 500Mb.\n",
    "\n",
    "The csv table files are expected to be in the same directory as this notebook."
   ]
  },
  {
   "cell_type": "code",
   "execution_count": 44,
   "id": "a5d2c744",
   "metadata": {},
   "outputs": [
    {
     "name": "stdout",
     "output_type": "stream",
     "text": [
      "Reading agency\n",
      "Reading calendar\n",
      "Reading calendar_dates\n",
      "Reading routes\n",
      "Reading shapes\n",
      "Reading stop_times\n",
      "Reading stops\n",
      "Reading trips\n",
      "Reading boundaries\n",
      "Parsing dates\n",
      "Complete\n"
     ]
    }
   ],
   "source": [
    "files = [\n",
    "    \"agency\",\n",
    "    \"calendar\",\n",
    "    \"calendar_dates\",\n",
    "    \"routes\",\n",
    "    \"shapes\",\n",
    "    \"stop_times\",\n",
    "    \"stops\",\n",
    "    #\"transfers\", We don't need this table.\n",
    "    \"trips\",\n",
    "]\n",
    "\n",
    "# This one is derived from the dublin bus historical\n",
    "# data, it is not a table in the GTFS spec.\n",
    "files.append(\"boundaries\")\n",
    "\n",
    "for name in files:\n",
    "    print(\"Reading \" + name)\n",
    "    globals()[name] = pd.read_csv(name + \".txt\")\n",
    "    \n",
    "    \n",
    "print(\"Parsing dates\")\n",
    "\n",
    "def parse_dates(table, field):\n",
    "    table[field] = pd.to_datetime(table[field], format=\"%Y%m%d\")\n",
    "\n",
    "parse_dates(calendar, \"start_date\")\n",
    "parse_dates(calendar, \"end_date\")\n",
    "parse_dates(calendar_dates, \"date\")\n",
    "    \n",
    "print(\"Complete\")"
   ]
  },
  {
   "cell_type": "markdown",
   "id": "b52699a4",
   "metadata": {},
   "source": [
    "Minor note: directions is store as numbers sometimes"
   ]
  },
  {
   "cell_type": "code",
   "execution_count": 6,
   "id": "c0da1cde",
   "metadata": {},
   "outputs": [],
   "source": [
    "DIRECTION_OUTBOUND = 0\n",
    "DIRECTION_INBOUND = 1\n",
    "directions = [DIRECTION_OUTBOUND, DIRECTION_INBOUND]"
   ]
  },
  {
   "cell_type": "markdown",
   "id": "6ef7d195",
   "metadata": {},
   "source": [
    "We could also make a table for it?"
   ]
  },
  {
   "cell_type": "markdown",
   "id": "f7f520ef",
   "metadata": {},
   "source": [
    "Connect to Database\n",
    "=="
   ]
  },
  {
   "cell_type": "markdown",
   "id": "5529ffca",
   "metadata": {},
   "source": [
    "Test the database connection."
   ]
  },
  {
   "cell_type": "code",
   "execution_count": 7,
   "id": "b3023e61",
   "metadata": {},
   "outputs": [
    {
     "name": "stdout",
     "output_type": "stream",
     "text": [
      "Successfully tested DB connection\n"
     ]
    }
   ],
   "source": [
    "USER = \"admin\"\n",
    "PASSWORD = \"12345678\"\n",
    "HOST = \"dublinbus.cwaixvtk8gyq.us-east-1.rds.amazonaws.com\"\n",
    "PORT = 3306\n",
    "SCHEMA = \"dublin_bus\"\n",
    "CONNECTION_STRING = f\"mysql://{USER}:{PASSWORD}@{HOST}:{PORT}/{SCHEMA}\"\n",
    "\n",
    "engine = create_engine(CONNECTION_STRING)\n",
    "with engine.connect():\n",
    "    print(\"Successfully tested DB connection\")"
   ]
  },
  {
   "cell_type": "markdown",
   "id": "837c8471",
   "metadata": {},
   "source": [
    "Functions for pandas sql and foreign keys."
   ]
  },
  {
   "cell_type": "code",
   "execution_count": 108,
   "id": "e9d9eee4",
   "metadata": {},
   "outputs": [],
   "source": [
    "PREFIX = \"api_\"\n",
    "\n",
    "foreign_sources = globals().get(\"foreign_sources\", dict())\n",
    "\n",
    "# Enable or disable transactions\n",
    "ENABLE_SQL = True\n",
    "\n",
    "def commit(data, table_name, index_label=\"id\"):\n",
    "    \n",
    "    foreign_sources[table_name] = data\n",
    "    \n",
    "    table_name = PREFIX + table_name\n",
    "    \n",
    "    if ENABLE_SQL:\n",
    "        data.to_sql(table_name, engine, if_exists=\"append\", \n",
    "                    index=(index_label is not None), index_label=index_label,\n",
    "                   chunksize=5000, method=\"multi\")\n",
    "    else:\n",
    "        print(\"(Database transactions disabled)\")\n",
    "        \n",
    "        \n",
    "        \n",
    "def use_foreign_key(table, field_name, foreign_name, foreign_field):\n",
    "        \n",
    "    try:\n",
    "        foreign_table = foreign_sources[foreign_name]\n",
    "    except:\n",
    "        raise ValueError(\"No table called '\" + str(foreign_name) + \"' has been comitted.\")\n",
    "        \n",
    "    # This process can take a while for large tables, so show progress\n",
    "    N = len(foreign_table)\n",
    "    M = len(table)\n",
    "    progress = Progress(f\"Converting {field_name}\", N+M)\n",
    "    \n",
    "    conversion = dict()\n",
    "    for i in foreign_table.index:\n",
    "        conversion[foreign_table[foreign_field][i]] = i\n",
    "        progress.update(i)\n",
    "\n",
    "    # The standard dataframe replace consumed lots and lots of memory and was way too slow, \n",
    "    # I don't know why. So a list is used here instead.\n",
    "    \n",
    "    new_values = list()\n",
    "    for i, old_value in enumerate(table[field_name]):\n",
    "        new_values.append(conversion[old_value])\n",
    "        progress.update(N + i)\n",
    "\n",
    "    table[field_name] = new_values\n",
    "    \n",
    "    progress.complete()"
   ]
  },
  {
   "cell_type": "markdown",
   "id": "d3b82aaf",
   "metadata": {},
   "source": [
    "Minor note: a simple numerical ID is included in every table, for the sake of easy and performant inner joins. I try to include the original char based IDs these entities have for the sake of interoperation with external services, and for debugging."
   ]
  },
  {
   "cell_type": "markdown",
   "id": "41de373b",
   "metadata": {},
   "source": [
    "Send GTFS Data to Database\n",
    "=="
   ]
  },
  {
   "cell_type": "markdown",
   "id": "a024ad96",
   "metadata": {},
   "source": [
    "Names\n",
    "--"
   ]
  },
  {
   "cell_type": "markdown",
   "id": "7cf9e9a5",
   "metadata": {},
   "source": [
    "This is not part of GTFS, it's derived from the routes table.\n",
    "\n",
    "From the user point of view, routes are identified by name, not route ID. This means that many of the queries from the frontend will be using the (non-unique) name of a route, and multiple routes with the same name should be treated as a single route when aggregating results.\n",
    "\n",
    "Since Django works well with foreign keys, and MySQL works well with integer primary keys, it helps to have an index table of names."
   ]
  },
  {
   "cell_type": "code",
   "execution_count": 9,
   "id": "3a4f5a98",
   "metadata": {},
   "outputs": [
    {
     "data": {
      "text/html": [
       "<div>\n",
       "<style scoped>\n",
       "    .dataframe tbody tr th:only-of-type {\n",
       "        vertical-align: middle;\n",
       "    }\n",
       "\n",
       "    .dataframe tbody tr th {\n",
       "        vertical-align: top;\n",
       "    }\n",
       "\n",
       "    .dataframe thead th {\n",
       "        text-align: right;\n",
       "    }\n",
       "</style>\n",
       "<table border=\"1\" class=\"dataframe\">\n",
       "  <thead>\n",
       "    <tr style=\"text-align: right;\">\n",
       "      <th></th>\n",
       "      <th>name</th>\n",
       "    </tr>\n",
       "  </thead>\n",
       "  <tbody>\n",
       "    <tr>\n",
       "      <th>0</th>\n",
       "      <td>1</td>\n",
       "    </tr>\n",
       "    <tr>\n",
       "      <th>1</th>\n",
       "      <td>100</td>\n",
       "    </tr>\n",
       "    <tr>\n",
       "      <th>2</th>\n",
       "      <td>101</td>\n",
       "    </tr>\n",
       "    <tr>\n",
       "      <th>3</th>\n",
       "      <td>102</td>\n",
       "    </tr>\n",
       "    <tr>\n",
       "      <th>4</th>\n",
       "      <td>103</td>\n",
       "    </tr>\n",
       "  </tbody>\n",
       "</table>\n",
       "</div>"
      ],
      "text/plain": [
       "  name\n",
       "0    1\n",
       "1  100\n",
       "2  101\n",
       "3  102\n",
       "4  103"
      ]
     },
     "metadata": {},
     "output_type": "display_data"
    },
    {
     "name": "stdout",
     "output_type": "stream",
     "text": [
      "(Database transactions disabled)\n"
     ]
    }
   ],
   "source": [
    "def shorten_name(name):\n",
    "    match = re.match(\"(\\w+)(?:\\-\\w+)?\", name)\n",
    "    if match is None:\n",
    "        raise ValueError(f\"Unrecognized name format: '{name}'\")\n",
    "    return match.groups()[0]\n",
    "\n",
    "def shorten_names(table, field_name=\"name\"):\n",
    "    table[field_name] = table[field_name].apply(shorten_name)\n",
    "    \n",
    "names = set(routes.route_short_name.apply(shorten_name))\n",
    "records = [[name] for name in names]\n",
    "route_names = pd.DataFrame(records, columns=[\"name\"])\n",
    "sort(route_names, \"name\")\n",
    "\n",
    "display(route_names.head(5))\n",
    "commit(route_names, \"routenames\")"
   ]
  },
  {
   "cell_type": "markdown",
   "id": "24345af5",
   "metadata": {},
   "source": [
    "Function for the sake of inspecting the names and seeing if they are what we expect as users."
   ]
  },
  {
   "cell_type": "code",
   "execution_count": 10,
   "id": "c2718a28",
   "metadata": {},
   "outputs": [],
   "source": [
    "def show_names():\n",
    "\n",
    "    current = 0\n",
    "    for i in range(1000):\n",
    "        for j in range(10):\n",
    "            if current >= len(route_names):\n",
    "                continue\n",
    "            print(route_names.name[route_names.index[current]], end=\"\")\n",
    "            if j != 9:\n",
    "                print(\", \", end=\"\")\n",
    "            current += 1\n",
    "        print()\n",
    "\n",
    "        if current >= len(route_names):\n",
    "                break\n",
    "                \n",
    "#show_names()"
   ]
  },
  {
   "cell_type": "markdown",
   "id": "35adf0a3",
   "metadata": {},
   "source": [
    "Agencies\n",
    "--"
   ]
  },
  {
   "cell_type": "code",
   "execution_count": 11,
   "id": "8b85fe5c",
   "metadata": {},
   "outputs": [
    {
     "data": {
      "text/html": [
       "<div>\n",
       "<style scoped>\n",
       "    .dataframe tbody tr th:only-of-type {\n",
       "        vertical-align: middle;\n",
       "    }\n",
       "\n",
       "    .dataframe tbody tr th {\n",
       "        vertical-align: top;\n",
       "    }\n",
       "\n",
       "    .dataframe thead th {\n",
       "        text-align: right;\n",
       "    }\n",
       "</style>\n",
       "<table border=\"1\" class=\"dataframe\">\n",
       "  <thead>\n",
       "    <tr style=\"text-align: right;\">\n",
       "      <th></th>\n",
       "      <th>agency_id</th>\n",
       "      <th>agency_name</th>\n",
       "      <th>agency_url</th>\n",
       "      <th>agency_timezone</th>\n",
       "      <th>agency_lang</th>\n",
       "    </tr>\n",
       "  </thead>\n",
       "  <tbody>\n",
       "    <tr>\n",
       "      <th>0</th>\n",
       "      <td>03C</td>\n",
       "      <td>GoAhead Commuter</td>\n",
       "      <td>https://www.transportforireland.ie</td>\n",
       "      <td>Europe/Dublin</td>\n",
       "      <td>EN</td>\n",
       "    </tr>\n",
       "    <tr>\n",
       "      <th>1</th>\n",
       "      <td>978</td>\n",
       "      <td>Dublin Bus</td>\n",
       "      <td>https://www.transportforireland.ie</td>\n",
       "      <td>Europe/Dublin</td>\n",
       "      <td>EN</td>\n",
       "    </tr>\n",
       "    <tr>\n",
       "      <th>2</th>\n",
       "      <td>01</td>\n",
       "      <td>Bus Éireann</td>\n",
       "      <td>https://www.transportforireland.ie</td>\n",
       "      <td>Europe/Dublin</td>\n",
       "      <td>EN</td>\n",
       "    </tr>\n",
       "    <tr>\n",
       "      <th>3</th>\n",
       "      <td>01X</td>\n",
       "      <td>Expressway</td>\n",
       "      <td>https://www.transportforireland.ie</td>\n",
       "      <td>Europe/Dublin</td>\n",
       "      <td>EN</td>\n",
       "    </tr>\n",
       "    <tr>\n",
       "      <th>4</th>\n",
       "      <td>03</td>\n",
       "      <td>Go-Ahead</td>\n",
       "      <td>https://www.transportforireland.ie</td>\n",
       "      <td>Europe/Dublin</td>\n",
       "      <td>EN</td>\n",
       "    </tr>\n",
       "  </tbody>\n",
       "</table>\n",
       "</div>"
      ],
      "text/plain": [
       "  agency_id       agency_name                          agency_url  \\\n",
       "0       03C  GoAhead Commuter  https://www.transportforireland.ie   \n",
       "1       978        Dublin Bus  https://www.transportforireland.ie   \n",
       "2        01       Bus Éireann  https://www.transportforireland.ie   \n",
       "3       01X        Expressway  https://www.transportforireland.ie   \n",
       "4        03          Go-Ahead  https://www.transportforireland.ie   \n",
       "\n",
       "  agency_timezone agency_lang  \n",
       "0   Europe/Dublin          EN  \n",
       "1   Europe/Dublin          EN  \n",
       "2   Europe/Dublin          EN  \n",
       "3   Europe/Dublin          EN  \n",
       "4   Europe/Dublin          EN  "
      ]
     },
     "execution_count": 11,
     "metadata": {},
     "output_type": "execute_result"
    }
   ],
   "source": [
    "agency"
   ]
  },
  {
   "cell_type": "code",
   "execution_count": 12,
   "id": "fabca87a",
   "metadata": {},
   "outputs": [
    {
     "data": {
      "text/html": [
       "<div>\n",
       "<style scoped>\n",
       "    .dataframe tbody tr th:only-of-type {\n",
       "        vertical-align: middle;\n",
       "    }\n",
       "\n",
       "    .dataframe tbody tr th {\n",
       "        vertical-align: top;\n",
       "    }\n",
       "\n",
       "    .dataframe thead th {\n",
       "        text-align: right;\n",
       "    }\n",
       "</style>\n",
       "<table border=\"1\" class=\"dataframe\">\n",
       "  <thead>\n",
       "    <tr style=\"text-align: right;\">\n",
       "      <th></th>\n",
       "      <th>external_id</th>\n",
       "      <th>name</th>\n",
       "    </tr>\n",
       "  </thead>\n",
       "  <tbody>\n",
       "    <tr>\n",
       "      <th>0</th>\n",
       "      <td>01</td>\n",
       "      <td>Bus Éireann</td>\n",
       "    </tr>\n",
       "    <tr>\n",
       "      <th>1</th>\n",
       "      <td>01X</td>\n",
       "      <td>Expressway</td>\n",
       "    </tr>\n",
       "    <tr>\n",
       "      <th>2</th>\n",
       "      <td>03</td>\n",
       "      <td>Go-Ahead</td>\n",
       "    </tr>\n",
       "    <tr>\n",
       "      <th>3</th>\n",
       "      <td>03C</td>\n",
       "      <td>GoAhead Commuter</td>\n",
       "    </tr>\n",
       "    <tr>\n",
       "      <th>4</th>\n",
       "      <td>978</td>\n",
       "      <td>Dublin Bus</td>\n",
       "    </tr>\n",
       "  </tbody>\n",
       "</table>\n",
       "</div>"
      ],
      "text/plain": [
       "  external_id              name\n",
       "0          01       Bus Éireann\n",
       "1         01X        Expressway\n",
       "2          03          Go-Ahead\n",
       "3         03C  GoAhead Commuter\n",
       "4         978        Dublin Bus"
      ]
     },
     "metadata": {},
     "output_type": "display_data"
    },
    {
     "name": "stdout",
     "output_type": "stream",
     "text": [
      "(Database transactions disabled)\n"
     ]
    }
   ],
   "source": [
    "agency_v2 = agency.copy()[[\"agency_id\", \"agency_name\"]]\n",
    "agency_v2.columns = [\"external_id\", \"name\"]\n",
    "sort(agency_v2, \"external_id\")\n",
    "\n",
    "display(agency_v2)\n",
    "commit(agency_v2, \"agency\")"
   ]
  },
  {
   "cell_type": "markdown",
   "id": "8263c8a7",
   "metadata": {},
   "source": [
    "Calendar and Calendar Exceptions\n",
    "=="
   ]
  },
  {
   "cell_type": "markdown",
   "id": "81b59927",
   "metadata": {},
   "source": [
    "Each entry in the main calendar is a 'service', which runs from a start date to an end date on certain days of the week."
   ]
  },
  {
   "cell_type": "code",
   "execution_count": 13,
   "id": "27e89db2",
   "metadata": {},
   "outputs": [
    {
     "data": {
      "text/html": [
       "<div>\n",
       "<style scoped>\n",
       "    .dataframe tbody tr th:only-of-type {\n",
       "        vertical-align: middle;\n",
       "    }\n",
       "\n",
       "    .dataframe tbody tr th {\n",
       "        vertical-align: top;\n",
       "    }\n",
       "\n",
       "    .dataframe thead th {\n",
       "        text-align: right;\n",
       "    }\n",
       "</style>\n",
       "<table border=\"1\" class=\"dataframe\">\n",
       "  <thead>\n",
       "    <tr style=\"text-align: right;\">\n",
       "      <th></th>\n",
       "      <th>service_id</th>\n",
       "      <th>monday</th>\n",
       "      <th>tuesday</th>\n",
       "      <th>wednesday</th>\n",
       "      <th>thursday</th>\n",
       "      <th>friday</th>\n",
       "      <th>saturday</th>\n",
       "      <th>sunday</th>\n",
       "      <th>start_date</th>\n",
       "      <th>end_date</th>\n",
       "    </tr>\n",
       "  </thead>\n",
       "  <tbody>\n",
       "    <tr>\n",
       "      <th>0</th>\n",
       "      <td>1</td>\n",
       "      <td>0</td>\n",
       "      <td>0</td>\n",
       "      <td>0</td>\n",
       "      <td>0</td>\n",
       "      <td>0</td>\n",
       "      <td>0</td>\n",
       "      <td>1</td>\n",
       "      <td>2021-06-23</td>\n",
       "      <td>2021-12-18</td>\n",
       "    </tr>\n",
       "    <tr>\n",
       "      <th>1</th>\n",
       "      <td>1#1</td>\n",
       "      <td>1</td>\n",
       "      <td>0</td>\n",
       "      <td>0</td>\n",
       "      <td>0</td>\n",
       "      <td>0</td>\n",
       "      <td>0</td>\n",
       "      <td>1</td>\n",
       "      <td>2021-06-23</td>\n",
       "      <td>2021-12-04</td>\n",
       "    </tr>\n",
       "  </tbody>\n",
       "</table>\n",
       "</div>"
      ],
      "text/plain": [
       "  service_id  monday  tuesday  wednesday  thursday  friday  saturday  sunday  \\\n",
       "0          1       0        0          0         0       0         0       1   \n",
       "1        1#1       1        0          0         0       0         0       1   \n",
       "\n",
       "  start_date   end_date  \n",
       "0 2021-06-23 2021-12-18  \n",
       "1 2021-06-23 2021-12-04  "
      ]
     },
     "execution_count": 13,
     "metadata": {},
     "output_type": "execute_result"
    }
   ],
   "source": [
    "calendar.head(2)"
   ]
  },
  {
   "cell_type": "code",
   "execution_count": 14,
   "id": "6748b1b2",
   "metadata": {},
   "outputs": [
    {
     "data": {
      "text/html": [
       "<div>\n",
       "<style scoped>\n",
       "    .dataframe tbody tr th:only-of-type {\n",
       "        vertical-align: middle;\n",
       "    }\n",
       "\n",
       "    .dataframe tbody tr th {\n",
       "        vertical-align: top;\n",
       "    }\n",
       "\n",
       "    .dataframe thead th {\n",
       "        text-align: right;\n",
       "    }\n",
       "</style>\n",
       "<table border=\"1\" class=\"dataframe\">\n",
       "  <thead>\n",
       "    <tr style=\"text-align: right;\">\n",
       "      <th></th>\n",
       "      <th>external_id</th>\n",
       "      <th>monday</th>\n",
       "      <th>tuesday</th>\n",
       "      <th>wednesday</th>\n",
       "      <th>thursday</th>\n",
       "      <th>friday</th>\n",
       "      <th>saturday</th>\n",
       "      <th>sunday</th>\n",
       "      <th>start_date</th>\n",
       "      <th>end_date</th>\n",
       "    </tr>\n",
       "  </thead>\n",
       "  <tbody>\n",
       "    <tr>\n",
       "      <th>0</th>\n",
       "      <td>1</td>\n",
       "      <td>0</td>\n",
       "      <td>0</td>\n",
       "      <td>0</td>\n",
       "      <td>0</td>\n",
       "      <td>0</td>\n",
       "      <td>0</td>\n",
       "      <td>1</td>\n",
       "      <td>2021-06-23</td>\n",
       "      <td>2021-12-18</td>\n",
       "    </tr>\n",
       "    <tr>\n",
       "      <th>1</th>\n",
       "      <td>1#1</td>\n",
       "      <td>1</td>\n",
       "      <td>0</td>\n",
       "      <td>0</td>\n",
       "      <td>0</td>\n",
       "      <td>0</td>\n",
       "      <td>0</td>\n",
       "      <td>1</td>\n",
       "      <td>2021-06-23</td>\n",
       "      <td>2021-12-04</td>\n",
       "    </tr>\n",
       "  </tbody>\n",
       "</table>\n",
       "</div>"
      ],
      "text/plain": [
       "  external_id  monday  tuesday  wednesday  thursday  friday  saturday  sunday  \\\n",
       "0           1       0        0          0         0       0         0       1   \n",
       "1         1#1       1        0          0         0       0         0       1   \n",
       "\n",
       "  start_date   end_date  \n",
       "0 2021-06-23 2021-12-18  \n",
       "1 2021-06-23 2021-12-04  "
      ]
     },
     "metadata": {},
     "output_type": "display_data"
    },
    {
     "name": "stdout",
     "output_type": "stream",
     "text": [
      "(Database transactions disabled)\n"
     ]
    }
   ],
   "source": [
    "# This is for the sake of the cells after this, to keep naming consistant\n",
    "services = calendar.copy()\n",
    "\n",
    "# This is for the db.\n",
    "services_v2 = services.copy()\n",
    "services_v2.rename(columns={\"service_id\": \"external_id\"}, inplace=True)\n",
    "sort(services_v2, \"external_id\")\n",
    "\n",
    "display(services_v2.head(2))\n",
    "commit(services_v2, \"services\")"
   ]
  },
  {
   "cell_type": "markdown",
   "id": "76ef1e63",
   "metadata": {},
   "source": [
    "Exceptions to the main calendar are given in a second table."
   ]
  },
  {
   "cell_type": "code",
   "execution_count": 15,
   "id": "9dd92b1b",
   "metadata": {},
   "outputs": [
    {
     "data": {
      "text/html": [
       "<div>\n",
       "<style scoped>\n",
       "    .dataframe tbody tr th:only-of-type {\n",
       "        vertical-align: middle;\n",
       "    }\n",
       "\n",
       "    .dataframe tbody tr th {\n",
       "        vertical-align: top;\n",
       "    }\n",
       "\n",
       "    .dataframe thead th {\n",
       "        text-align: right;\n",
       "    }\n",
       "</style>\n",
       "<table border=\"1\" class=\"dataframe\">\n",
       "  <thead>\n",
       "    <tr style=\"text-align: right;\">\n",
       "      <th></th>\n",
       "      <th>service_id</th>\n",
       "      <th>date</th>\n",
       "      <th>exception_type</th>\n",
       "    </tr>\n",
       "  </thead>\n",
       "  <tbody>\n",
       "    <tr>\n",
       "      <th>0</th>\n",
       "      <td>1</td>\n",
       "      <td>2021-08-01</td>\n",
       "      <td>2</td>\n",
       "    </tr>\n",
       "    <tr>\n",
       "      <th>1</th>\n",
       "      <td>1</td>\n",
       "      <td>2021-08-08</td>\n",
       "      <td>2</td>\n",
       "    </tr>\n",
       "  </tbody>\n",
       "</table>\n",
       "</div>"
      ],
      "text/plain": [
       "  service_id       date  exception_type\n",
       "0          1 2021-08-01               2\n",
       "1          1 2021-08-08               2"
      ]
     },
     "execution_count": 15,
     "metadata": {},
     "output_type": "execute_result"
    }
   ],
   "source": [
    "calendar_dates.head(2)"
   ]
  },
  {
   "cell_type": "code",
   "execution_count": 16,
   "id": "7af34019",
   "metadata": {},
   "outputs": [
    {
     "data": {
      "text/plain": [
       "'Converting service_id: 100% complete.'"
      ]
     },
     "metadata": {},
     "output_type": "display_data"
    },
    {
     "data": {
      "text/html": [
       "<div>\n",
       "<style scoped>\n",
       "    .dataframe tbody tr th:only-of-type {\n",
       "        vertical-align: middle;\n",
       "    }\n",
       "\n",
       "    .dataframe tbody tr th {\n",
       "        vertical-align: top;\n",
       "    }\n",
       "\n",
       "    .dataframe thead th {\n",
       "        text-align: right;\n",
       "    }\n",
       "</style>\n",
       "<table border=\"1\" class=\"dataframe\">\n",
       "  <thead>\n",
       "    <tr style=\"text-align: right;\">\n",
       "      <th></th>\n",
       "      <th>service_id</th>\n",
       "      <th>date</th>\n",
       "      <th>exception_type</th>\n",
       "    </tr>\n",
       "  </thead>\n",
       "  <tbody>\n",
       "    <tr>\n",
       "      <th>0</th>\n",
       "      <td>0</td>\n",
       "      <td>2021-08-01</td>\n",
       "      <td>2</td>\n",
       "    </tr>\n",
       "    <tr>\n",
       "      <th>1</th>\n",
       "      <td>0</td>\n",
       "      <td>2021-08-08</td>\n",
       "      <td>2</td>\n",
       "    </tr>\n",
       "  </tbody>\n",
       "</table>\n",
       "</div>"
      ],
      "text/plain": [
       "   service_id       date  exception_type\n",
       "0           0 2021-08-01               2\n",
       "1           0 2021-08-08               2"
      ]
     },
     "metadata": {},
     "output_type": "display_data"
    },
    {
     "name": "stdout",
     "output_type": "stream",
     "text": [
      "(Database transactions disabled)\n"
     ]
    }
   ],
   "source": [
    "service_exceptions = calendar_dates.copy()\n",
    "service_exceptions_v2 = service_exceptions.copy()\n",
    "use_foreign_key(service_exceptions_v2, \"service_id\", \"services\", \"external_id\")\n",
    "sort(service_exceptions_v2)\n",
    "\n",
    "display(service_exceptions_v2.head(2))\n",
    "commit(service_exceptions_v2, \"serviceexceptions\")"
   ]
  },
  {
   "cell_type": "markdown",
   "id": "a6c4a13d",
   "metadata": {},
   "source": [
    "Routes\n",
    "--"
   ]
  },
  {
   "cell_type": "markdown",
   "id": "7fa836d1",
   "metadata": {},
   "source": [
    "This table is just an index of route names, it does not contain information r.e. paths or stops or times.\n",
    "\n",
    "Also, 'route' here refers to the GTFS version of route. The short name '46A' is associated with 3 such routes."
   ]
  },
  {
   "cell_type": "code",
   "execution_count": 17,
   "id": "3f218b17",
   "metadata": {},
   "outputs": [
    {
     "data": {
      "text/html": [
       "<div>\n",
       "<style scoped>\n",
       "    .dataframe tbody tr th:only-of-type {\n",
       "        vertical-align: middle;\n",
       "    }\n",
       "\n",
       "    .dataframe tbody tr th {\n",
       "        vertical-align: top;\n",
       "    }\n",
       "\n",
       "    .dataframe thead th {\n",
       "        text-align: right;\n",
       "    }\n",
       "</style>\n",
       "<table border=\"1\" class=\"dataframe\">\n",
       "  <thead>\n",
       "    <tr style=\"text-align: right;\">\n",
       "      <th></th>\n",
       "      <th>route_id</th>\n",
       "      <th>agency_id</th>\n",
       "      <th>route_short_name</th>\n",
       "      <th>route_long_name</th>\n",
       "      <th>route_type</th>\n",
       "    </tr>\n",
       "  </thead>\n",
       "  <tbody>\n",
       "    <tr>\n",
       "      <th>0</th>\n",
       "      <td>10-100-e20-1</td>\n",
       "      <td>01</td>\n",
       "      <td>100</td>\n",
       "      <td>Drogheda Bus Station -</td>\n",
       "      <td>3</td>\n",
       "    </tr>\n",
       "    <tr>\n",
       "      <th>1</th>\n",
       "      <td>10-101-e20-1</td>\n",
       "      <td>01</td>\n",
       "      <td>101</td>\n",
       "      <td>Busáras - Drogheda Bus Station</td>\n",
       "      <td>3</td>\n",
       "    </tr>\n",
       "  </tbody>\n",
       "</table>\n",
       "</div>"
      ],
      "text/plain": [
       "       route_id agency_id route_short_name                 route_long_name  \\\n",
       "0  10-100-e20-1        01              100          Drogheda Bus Station -   \n",
       "1  10-101-e20-1        01              101  Busáras - Drogheda Bus Station   \n",
       "\n",
       "   route_type  \n",
       "0           3  \n",
       "1           3  "
      ]
     },
     "execution_count": 17,
     "metadata": {},
     "output_type": "execute_result"
    }
   ],
   "source": [
    "routes.head(2)"
   ]
  },
  {
   "cell_type": "markdown",
   "id": "41632076",
   "metadata": {},
   "source": [
    "`route_type` is ignored here, it's always 3 as of writing this."
   ]
  },
  {
   "cell_type": "code",
   "execution_count": 18,
   "id": "778945ee",
   "metadata": {},
   "outputs": [
    {
     "data": {
      "text/html": [
       "<div>\n",
       "<style scoped>\n",
       "    .dataframe tbody tr th:only-of-type {\n",
       "        vertical-align: middle;\n",
       "    }\n",
       "\n",
       "    .dataframe tbody tr th {\n",
       "        vertical-align: top;\n",
       "    }\n",
       "\n",
       "    .dataframe thead th {\n",
       "        text-align: right;\n",
       "    }\n",
       "</style>\n",
       "<table border=\"1\" class=\"dataframe\">\n",
       "  <thead>\n",
       "    <tr style=\"text-align: right;\">\n",
       "      <th></th>\n",
       "      <th>external_id</th>\n",
       "      <th>agency</th>\n",
       "      <th>name</th>\n",
       "      <th>long_name</th>\n",
       "    </tr>\n",
       "  </thead>\n",
       "  <tbody>\n",
       "    <tr>\n",
       "      <th>0</th>\n",
       "      <td>10-100-e20-1</td>\n",
       "      <td>01</td>\n",
       "      <td>100</td>\n",
       "      <td>Drogheda Bus Station -</td>\n",
       "    </tr>\n",
       "    <tr>\n",
       "      <th>1</th>\n",
       "      <td>10-101-e20-1</td>\n",
       "      <td>01</td>\n",
       "      <td>101</td>\n",
       "      <td>Busáras - Drogheda Bus Station</td>\n",
       "    </tr>\n",
       "  </tbody>\n",
       "</table>\n",
       "</div>"
      ],
      "text/plain": [
       "    external_id agency name                       long_name\n",
       "0  10-100-e20-1     01  100          Drogheda Bus Station -\n",
       "1  10-101-e20-1     01  101  Busáras - Drogheda Bus Station"
      ]
     },
     "metadata": {},
     "output_type": "display_data"
    },
    {
     "data": {
      "text/plain": [
       "'Converting agency_id: 100% complete.'"
      ]
     },
     "metadata": {},
     "output_type": "display_data"
    },
    {
     "data": {
      "text/plain": [
       "'Converting name_id: 100% complete.'"
      ]
     },
     "metadata": {},
     "output_type": "display_data"
    },
    {
     "data": {
      "text/html": [
       "<div>\n",
       "<style scoped>\n",
       "    .dataframe tbody tr th:only-of-type {\n",
       "        vertical-align: middle;\n",
       "    }\n",
       "\n",
       "    .dataframe tbody tr th {\n",
       "        vertical-align: top;\n",
       "    }\n",
       "\n",
       "    .dataframe thead th {\n",
       "        text-align: right;\n",
       "    }\n",
       "</style>\n",
       "<table border=\"1\" class=\"dataframe\">\n",
       "  <thead>\n",
       "    <tr style=\"text-align: right;\">\n",
       "      <th></th>\n",
       "      <th>external_id</th>\n",
       "      <th>agency_id</th>\n",
       "      <th>name_id</th>\n",
       "      <th>long_name</th>\n",
       "    </tr>\n",
       "  </thead>\n",
       "  <tbody>\n",
       "    <tr>\n",
       "      <th>0</th>\n",
       "      <td>10-100-e20-1</td>\n",
       "      <td>0</td>\n",
       "      <td>1</td>\n",
       "      <td>Drogheda Bus Station -</td>\n",
       "    </tr>\n",
       "    <tr>\n",
       "      <th>1</th>\n",
       "      <td>10-101-e20-1</td>\n",
       "      <td>0</td>\n",
       "      <td>2</td>\n",
       "      <td>Busáras - Drogheda Bus Station</td>\n",
       "    </tr>\n",
       "  </tbody>\n",
       "</table>\n",
       "</div>"
      ],
      "text/plain": [
       "    external_id  agency_id  name_id                       long_name\n",
       "0  10-100-e20-1          0        1          Drogheda Bus Station -\n",
       "1  10-101-e20-1          0        2  Busáras - Drogheda Bus Station"
      ]
     },
     "metadata": {},
     "output_type": "display_data"
    },
    {
     "name": "stdout",
     "output_type": "stream",
     "text": [
      "(Database transactions disabled)\n"
     ]
    }
   ],
   "source": [
    "routes_v2 = routes.copy().drop(\"route_type\", axis=1)\n",
    "routes_v2.columns = [\n",
    "    \"external_id\", \"agency\", \"name\", \"long_name\"\n",
    "]\n",
    "sort(routes_v2, \"external_id\")\n",
    "\n",
    "shorten_names(routes_v2)\n",
    "display(routes_v2.head(2))\n",
    "\n",
    "routes_v3 = routes_v2.copy()\n",
    "routes_v3.columns = [\"external_id\", \"agency_id\", \"name_id\", \"long_name\"]\n",
    "use_foreign_key(routes_v3, \"agency_id\", \"agency\", \"external_id\")\n",
    "use_foreign_key(routes_v3, \"name_id\", \"routenames\", \"name\")\n",
    "\n",
    "display(routes_v3.head(2))\n",
    "commit(routes_v3, \"routes\")"
   ]
  },
  {
   "cell_type": "markdown",
   "id": "3ce29f39",
   "metadata": {},
   "source": [
    "**Note!** - the short name is not a unique ID"
   ]
  },
  {
   "cell_type": "markdown",
   "id": "f48709d6",
   "metadata": {},
   "source": [
    "Shapes\n",
    "--"
   ]
  },
  {
   "cell_type": "markdown",
   "id": "50faa068",
   "metadata": {},
   "source": [
    "Shapes describe the path the bus takes, not just the stops. So the line a shape describes follows the road exactly.\n",
    "\n",
    "I'm sure if we'll need this table. It might come in useful with real time icons."
   ]
  },
  {
   "cell_type": "code",
   "execution_count": 19,
   "id": "15184ed5",
   "metadata": {},
   "outputs": [
    {
     "data": {
      "text/html": [
       "<div>\n",
       "<style scoped>\n",
       "    .dataframe tbody tr th:only-of-type {\n",
       "        vertical-align: middle;\n",
       "    }\n",
       "\n",
       "    .dataframe tbody tr th {\n",
       "        vertical-align: top;\n",
       "    }\n",
       "\n",
       "    .dataframe thead th {\n",
       "        text-align: right;\n",
       "    }\n",
       "</style>\n",
       "<table border=\"1\" class=\"dataframe\">\n",
       "  <thead>\n",
       "    <tr style=\"text-align: right;\">\n",
       "      <th></th>\n",
       "      <th>shape_id</th>\n",
       "      <th>shape_pt_lat</th>\n",
       "      <th>shape_pt_lon</th>\n",
       "      <th>shape_pt_sequence</th>\n",
       "      <th>shape_dist_traveled</th>\n",
       "    </tr>\n",
       "  </thead>\n",
       "  <tbody>\n",
       "    <tr>\n",
       "      <th>0</th>\n",
       "      <td>10-100-e20-1.229.O</td>\n",
       "      <td>53.711610</td>\n",
       "      <td>-6.353111</td>\n",
       "      <td>1</td>\n",
       "      <td>0.00</td>\n",
       "    </tr>\n",
       "    <tr>\n",
       "      <th>1</th>\n",
       "      <td>10-100-e20-1.229.O</td>\n",
       "      <td>53.711849</td>\n",
       "      <td>-6.352845</td>\n",
       "      <td>2</td>\n",
       "      <td>31.85</td>\n",
       "    </tr>\n",
       "  </tbody>\n",
       "</table>\n",
       "</div>"
      ],
      "text/plain": [
       "             shape_id  shape_pt_lat  shape_pt_lon  shape_pt_sequence  \\\n",
       "0  10-100-e20-1.229.O     53.711610     -6.353111                  1   \n",
       "1  10-100-e20-1.229.O     53.711849     -6.352845                  2   \n",
       "\n",
       "   shape_dist_traveled  \n",
       "0                 0.00  \n",
       "1                31.85  "
      ]
     },
     "execution_count": 19,
     "metadata": {},
     "output_type": "execute_result"
    }
   ],
   "source": [
    "shapes.head(2)"
   ]
  },
  {
   "cell_type": "code",
   "execution_count": 20,
   "id": "70db6b5b",
   "metadata": {
    "scrolled": true
   },
   "outputs": [
    {
     "data": {
      "text/html": [
       "<div>\n",
       "<style scoped>\n",
       "    .dataframe tbody tr th:only-of-type {\n",
       "        vertical-align: middle;\n",
       "    }\n",
       "\n",
       "    .dataframe tbody tr th {\n",
       "        vertical-align: top;\n",
       "    }\n",
       "\n",
       "    .dataframe thead th {\n",
       "        text-align: right;\n",
       "    }\n",
       "</style>\n",
       "<table border=\"1\" class=\"dataframe\">\n",
       "  <thead>\n",
       "    <tr style=\"text-align: right;\">\n",
       "      <th></th>\n",
       "      <th>external_id</th>\n",
       "      <th>lat</th>\n",
       "      <th>lon</th>\n",
       "      <th>sequence</th>\n",
       "      <th>dist_traveled</th>\n",
       "    </tr>\n",
       "  </thead>\n",
       "  <tbody>\n",
       "    <tr>\n",
       "      <th>0</th>\n",
       "      <td>10-100-e20-1.229.O</td>\n",
       "      <td>53.711610</td>\n",
       "      <td>-6.353111</td>\n",
       "      <td>1</td>\n",
       "      <td>0.00</td>\n",
       "    </tr>\n",
       "    <tr>\n",
       "      <th>1</th>\n",
       "      <td>10-100-e20-1.229.O</td>\n",
       "      <td>53.711849</td>\n",
       "      <td>-6.352845</td>\n",
       "      <td>2</td>\n",
       "      <td>31.85</td>\n",
       "    </tr>\n",
       "    <tr>\n",
       "      <th>2</th>\n",
       "      <td>10-100-e20-1.229.O</td>\n",
       "      <td>53.712178</td>\n",
       "      <td>-6.352604</td>\n",
       "      <td>3</td>\n",
       "      <td>71.73</td>\n",
       "    </tr>\n",
       "    <tr>\n",
       "      <th>3</th>\n",
       "      <td>10-100-e20-1.229.O</td>\n",
       "      <td>53.712258</td>\n",
       "      <td>-6.352571</td>\n",
       "      <td>4</td>\n",
       "      <td>80.94</td>\n",
       "    </tr>\n",
       "    <tr>\n",
       "      <th>4</th>\n",
       "      <td>10-100-e20-1.229.O</td>\n",
       "      <td>53.712468</td>\n",
       "      <td>-6.352745</td>\n",
       "      <td>5</td>\n",
       "      <td>106.85</td>\n",
       "    </tr>\n",
       "    <tr>\n",
       "      <th>5</th>\n",
       "      <td>10-100-e20-1.229.O</td>\n",
       "      <td>53.712566</td>\n",
       "      <td>-6.353347</td>\n",
       "      <td>6</td>\n",
       "      <td>147.95</td>\n",
       "    </tr>\n",
       "    <tr>\n",
       "      <th>6</th>\n",
       "      <td>10-100-e20-1.229.O</td>\n",
       "      <td>53.713637</td>\n",
       "      <td>-6.357411</td>\n",
       "      <td>7</td>\n",
       "      <td>440.72</td>\n",
       "    </tr>\n",
       "    <tr>\n",
       "      <th>7</th>\n",
       "      <td>10-100-e20-1.229.O</td>\n",
       "      <td>53.713797</td>\n",
       "      <td>-6.357904</td>\n",
       "      <td>8</td>\n",
       "      <td>477.74</td>\n",
       "    </tr>\n",
       "    <tr>\n",
       "      <th>8</th>\n",
       "      <td>10-100-e20-1.229.O</td>\n",
       "      <td>53.713908</td>\n",
       "      <td>-6.358173</td>\n",
       "      <td>9</td>\n",
       "      <td>499.32</td>\n",
       "    </tr>\n",
       "    <tr>\n",
       "      <th>9</th>\n",
       "      <td>10-100-e20-1.229.O</td>\n",
       "      <td>53.714136</td>\n",
       "      <td>-6.358437</td>\n",
       "      <td>10</td>\n",
       "      <td>530.08</td>\n",
       "    </tr>\n",
       "  </tbody>\n",
       "</table>\n",
       "</div>"
      ],
      "text/plain": [
       "          external_id        lat       lon  sequence  dist_traveled\n",
       "0  10-100-e20-1.229.O  53.711610 -6.353111         1           0.00\n",
       "1  10-100-e20-1.229.O  53.711849 -6.352845         2          31.85\n",
       "2  10-100-e20-1.229.O  53.712178 -6.352604         3          71.73\n",
       "3  10-100-e20-1.229.O  53.712258 -6.352571         4          80.94\n",
       "4  10-100-e20-1.229.O  53.712468 -6.352745         5         106.85\n",
       "5  10-100-e20-1.229.O  53.712566 -6.353347         6         147.95\n",
       "6  10-100-e20-1.229.O  53.713637 -6.357411         7         440.72\n",
       "7  10-100-e20-1.229.O  53.713797 -6.357904         8         477.74\n",
       "8  10-100-e20-1.229.O  53.713908 -6.358173         9         499.32\n",
       "9  10-100-e20-1.229.O  53.714136 -6.358437        10         530.08"
      ]
     },
     "metadata": {},
     "output_type": "display_data"
    },
    {
     "name": "stdout",
     "output_type": "stream",
     "text": [
      "(Database transactions disabled)\n"
     ]
    }
   ],
   "source": [
    "shapes_v2 = shapes.copy()\n",
    "shapes_v2.columns = [\"external_id\", \"lat\", \"lon\", \"sequence\", \"dist_traveled\"]\n",
    "sort(shapes_v2, \"external_id\")\n",
    "\n",
    "display(shapes_v2.head(10))\n",
    "commit(shapes_v2, \"shapes\")"
   ]
  },
  {
   "cell_type": "markdown",
   "id": "8891a300",
   "metadata": {},
   "source": [
    "Stops\n",
    "--\n",
    "\n",
    "This is just an index of stops names & locations, it does not describe the involvement of stops in routes or trips."
   ]
  },
  {
   "cell_type": "markdown",
   "id": "a99f3f06",
   "metadata": {},
   "source": [
    "That's now ready to go to the db."
   ]
  },
  {
   "cell_type": "code",
   "execution_count": 21,
   "id": "1286451e",
   "metadata": {},
   "outputs": [
    {
     "data": {
      "text/html": [
       "<div>\n",
       "<style scoped>\n",
       "    .dataframe tbody tr th:only-of-type {\n",
       "        vertical-align: middle;\n",
       "    }\n",
       "\n",
       "    .dataframe tbody tr th {\n",
       "        vertical-align: top;\n",
       "    }\n",
       "\n",
       "    .dataframe thead th {\n",
       "        text-align: right;\n",
       "    }\n",
       "</style>\n",
       "<table border=\"1\" class=\"dataframe\">\n",
       "  <thead>\n",
       "    <tr style=\"text-align: right;\">\n",
       "      <th></th>\n",
       "      <th>stop_id</th>\n",
       "      <th>stop_name</th>\n",
       "      <th>stop_lat</th>\n",
       "      <th>stop_lon</th>\n",
       "    </tr>\n",
       "  </thead>\n",
       "  <tbody>\n",
       "    <tr>\n",
       "      <th>0</th>\n",
       "      <td>7010B158131</td>\n",
       "      <td>Ulsterbus Depot, stop 158131</td>\n",
       "      <td>54.996629</td>\n",
       "      <td>-7.317866</td>\n",
       "    </tr>\n",
       "    <tr>\n",
       "      <th>1</th>\n",
       "      <td>7010B158241</td>\n",
       "      <td>Magee Campus, stop 158241</td>\n",
       "      <td>55.004476</td>\n",
       "      <td>-7.321782</td>\n",
       "    </tr>\n",
       "  </tbody>\n",
       "</table>\n",
       "</div>"
      ],
      "text/plain": [
       "       stop_id                     stop_name   stop_lat  stop_lon\n",
       "0  7010B158131  Ulsterbus Depot, stop 158131  54.996629 -7.317866\n",
       "1  7010B158241     Magee Campus, stop 158241  55.004476 -7.321782"
      ]
     },
     "execution_count": 21,
     "metadata": {},
     "output_type": "execute_result"
    }
   ],
   "source": [
    "stops.head(2)"
   ]
  },
  {
   "cell_type": "markdown",
   "id": "7a6e83b4",
   "metadata": {},
   "source": [
    "Separating the name into the actual name and the number seems like something handy for styling"
   ]
  },
  {
   "cell_type": "code",
   "execution_count": 92,
   "id": "d0b97bff",
   "metadata": {
    "scrolled": false
   },
   "outputs": [
    {
     "data": {
      "text/html": [
       "<div>\n",
       "<style scoped>\n",
       "    .dataframe tbody tr th:only-of-type {\n",
       "        vertical-align: middle;\n",
       "    }\n",
       "\n",
       "    .dataframe tbody tr th {\n",
       "        vertical-align: top;\n",
       "    }\n",
       "\n",
       "    .dataframe thead th {\n",
       "        text-align: right;\n",
       "    }\n",
       "</style>\n",
       "<table border=\"1\" class=\"dataframe\">\n",
       "  <thead>\n",
       "    <tr style=\"text-align: right;\">\n",
       "      <th></th>\n",
       "      <th>external_id</th>\n",
       "      <th>name</th>\n",
       "      <th>number</th>\n",
       "      <th>lon</th>\n",
       "      <th>lat</th>\n",
       "      <th>external_name</th>\n",
       "    </tr>\n",
       "  </thead>\n",
       "  <tbody>\n",
       "    <tr>\n",
       "      <th>0</th>\n",
       "      <td>7010B158131</td>\n",
       "      <td>Ulsterbus Depot</td>\n",
       "      <td>158131</td>\n",
       "      <td>-7.317866</td>\n",
       "      <td>54.996629</td>\n",
       "      <td>Ulsterbus Depot, stop 158131</td>\n",
       "    </tr>\n",
       "    <tr>\n",
       "      <th>1</th>\n",
       "      <td>7010B158241</td>\n",
       "      <td>Magee Campus</td>\n",
       "      <td>158241</td>\n",
       "      <td>-7.321782</td>\n",
       "      <td>55.004476</td>\n",
       "      <td>Magee Campus, stop 158241</td>\n",
       "    </tr>\n",
       "  </tbody>\n",
       "</table>\n",
       "</div>"
      ],
      "text/plain": [
       "   external_id             name  number       lon        lat  \\\n",
       "0  7010B158131  Ulsterbus Depot  158131 -7.317866  54.996629   \n",
       "1  7010B158241     Magee Campus  158241 -7.321782  55.004476   \n",
       "\n",
       "                  external_name  \n",
       "0  Ulsterbus Depot, stop 158131  \n",
       "1     Magee Campus, stop 158241  "
      ]
     },
     "metadata": {},
     "output_type": "display_data"
    },
    {
     "name": "stdout",
     "output_type": "stream",
     "text": [
      "(Database transactions disabled)\n"
     ]
    }
   ],
   "source": [
    "stops_v2 = stops.copy()\n",
    "stops_v2[\"external_name\"] = stops_v2.stop_name.copy()\n",
    "\n",
    "names = list()\n",
    "numbers = list()\n",
    "for i in stops_v2.index:\n",
    "    stop_name = stops_v2.external_name[i]\n",
    "    match = re.match(\"(.*?),?\\s*(?:[Ss]top\\s+)?(?:[Nn]o\\.?\\s*)?(\\d+)\", stop_name)\n",
    "    if match is None:\n",
    "        names.append(stop_name)\n",
    "        numbers.append(None)\n",
    "    else:\n",
    "        name, number = match.groups()\n",
    "        names.append(name)\n",
    "        numbers.append(number)\n",
    "        \n",
    "stops_v2[\"name\"] = names\n",
    "stops_v2[\"number\"] = numbers\n",
    "\n",
    "def convert(value):\n",
    "    return -1 if value is None else value\n",
    "stops_v2.number = stops_v2.number.apply(convert).astype(int)\n",
    "\n",
    "stops_v2 = stops_v2[[\"stop_id\", \"name\", \"number\",  \"stop_lon\", \"stop_lat\", \"external_name\"]]\n",
    "stops_v2.columns = [\"external_id\", \"name\", \"number\", \"lon\", \"lat\", \"external_name\"]\n",
    "\n",
    "sort(stops_v2, \"external_id\")\n",
    "\n",
    "display(stops_v2.head(2))\n",
    "commit(stops_v2, \"stops\")"
   ]
  },
  {
   "cell_type": "markdown",
   "id": "3f313ba9",
   "metadata": {},
   "source": [
    "Trips\n",
    "--"
   ]
  },
  {
   "cell_type": "markdown",
   "id": "b2954587",
   "metadata": {},
   "source": [
    "This is an index of trips. A trip is linked to a route and a service. The service dictates the days it operates on. The route does not uniquely identify the path - `stop_times` or `shapes` is needed for that."
   ]
  },
  {
   "cell_type": "code",
   "execution_count": 23,
   "id": "7a145d77",
   "metadata": {},
   "outputs": [
    {
     "data": {
      "text/html": [
       "<div>\n",
       "<style scoped>\n",
       "    .dataframe tbody tr th:only-of-type {\n",
       "        vertical-align: middle;\n",
       "    }\n",
       "\n",
       "    .dataframe tbody tr th {\n",
       "        vertical-align: top;\n",
       "    }\n",
       "\n",
       "    .dataframe thead th {\n",
       "        text-align: right;\n",
       "    }\n",
       "</style>\n",
       "<table border=\"1\" class=\"dataframe\">\n",
       "  <thead>\n",
       "    <tr style=\"text-align: right;\">\n",
       "      <th></th>\n",
       "      <th>route_id</th>\n",
       "      <th>service_id</th>\n",
       "      <th>trip_id</th>\n",
       "      <th>shape_id</th>\n",
       "      <th>trip_headsign</th>\n",
       "      <th>direction_id</th>\n",
       "    </tr>\n",
       "  </thead>\n",
       "  <tbody>\n",
       "    <tr>\n",
       "      <th>0</th>\n",
       "      <td>10-100-e20-1</td>\n",
       "      <td>1</td>\n",
       "      <td>1954979.1.10-100-e20-1.232.I</td>\n",
       "      <td>10-100-e20-1.232.I</td>\n",
       "      <td>- Drogheda Bus Station</td>\n",
       "      <td>1</td>\n",
       "    </tr>\n",
       "    <tr>\n",
       "      <th>1</th>\n",
       "      <td>10-100-e20-1</td>\n",
       "      <td>1</td>\n",
       "      <td>1954981.1.10-100-e20-1.231.O</td>\n",
       "      <td>10-100-e20-1.231.O</td>\n",
       "      <td>Drogheda Bus Station -</td>\n",
       "      <td>0</td>\n",
       "    </tr>\n",
       "  </tbody>\n",
       "</table>\n",
       "</div>"
      ],
      "text/plain": [
       "       route_id service_id                       trip_id            shape_id  \\\n",
       "0  10-100-e20-1          1  1954979.1.10-100-e20-1.232.I  10-100-e20-1.232.I   \n",
       "1  10-100-e20-1          1  1954981.1.10-100-e20-1.231.O  10-100-e20-1.231.O   \n",
       "\n",
       "            trip_headsign  direction_id  \n",
       "0  - Drogheda Bus Station             1  \n",
       "1  Drogheda Bus Station -             0  "
      ]
     },
     "execution_count": 23,
     "metadata": {},
     "output_type": "execute_result"
    }
   ],
   "source": [
    "trips.head(2)"
   ]
  },
  {
   "cell_type": "code",
   "execution_count": 24,
   "id": "e5ada82e",
   "metadata": {},
   "outputs": [
    {
     "data": {
      "text/plain": [
       "'Converting route_id: 100% complete.'"
      ]
     },
     "metadata": {},
     "output_type": "display_data"
    },
    {
     "data": {
      "text/plain": [
       "'Converting service_id: 100% complete.'"
      ]
     },
     "metadata": {},
     "output_type": "display_data"
    },
    {
     "data": {
      "text/plain": [
       "'Converting shape_id: 100% complete.'"
      ]
     },
     "metadata": {},
     "output_type": "display_data"
    },
    {
     "data": {
      "text/html": [
       "<div>\n",
       "<style scoped>\n",
       "    .dataframe tbody tr th:only-of-type {\n",
       "        vertical-align: middle;\n",
       "    }\n",
       "\n",
       "    .dataframe tbody tr th {\n",
       "        vertical-align: top;\n",
       "    }\n",
       "\n",
       "    .dataframe thead th {\n",
       "        text-align: right;\n",
       "    }\n",
       "</style>\n",
       "<table border=\"1\" class=\"dataframe\">\n",
       "  <thead>\n",
       "    <tr style=\"text-align: right;\">\n",
       "      <th></th>\n",
       "      <th>route_id</th>\n",
       "      <th>service_id</th>\n",
       "      <th>external_id</th>\n",
       "      <th>shape_id</th>\n",
       "      <th>headsign</th>\n",
       "      <th>direction</th>\n",
       "    </tr>\n",
       "  </thead>\n",
       "  <tbody>\n",
       "    <tr>\n",
       "      <th>0</th>\n",
       "      <td>0</td>\n",
       "      <td>0</td>\n",
       "      <td>1954979.1.10-100-e20-1.232.I</td>\n",
       "      <td>1147</td>\n",
       "      <td>- Drogheda Bus Station</td>\n",
       "      <td>1</td>\n",
       "    </tr>\n",
       "    <tr>\n",
       "      <th>1</th>\n",
       "      <td>0</td>\n",
       "      <td>0</td>\n",
       "      <td>1954981.1.10-100-e20-1.231.O</td>\n",
       "      <td>839</td>\n",
       "      <td>Drogheda Bus Station -</td>\n",
       "      <td>0</td>\n",
       "    </tr>\n",
       "  </tbody>\n",
       "</table>\n",
       "</div>"
      ],
      "text/plain": [
       "   route_id  service_id                   external_id  shape_id  \\\n",
       "0         0           0  1954979.1.10-100-e20-1.232.I      1147   \n",
       "1         0           0  1954981.1.10-100-e20-1.231.O       839   \n",
       "\n",
       "                 headsign  direction  \n",
       "0  - Drogheda Bus Station          1  \n",
       "1  Drogheda Bus Station -          0  "
      ]
     },
     "metadata": {},
     "output_type": "display_data"
    },
    {
     "data": {
      "text/html": [
       "<div>\n",
       "<style scoped>\n",
       "    .dataframe tbody tr th:only-of-type {\n",
       "        vertical-align: middle;\n",
       "    }\n",
       "\n",
       "    .dataframe tbody tr th {\n",
       "        vertical-align: top;\n",
       "    }\n",
       "\n",
       "    .dataframe thead th {\n",
       "        text-align: right;\n",
       "    }\n",
       "</style>\n",
       "<table border=\"1\" class=\"dataframe\">\n",
       "  <thead>\n",
       "    <tr style=\"text-align: right;\">\n",
       "      <th></th>\n",
       "      <th>external_id</th>\n",
       "      <th>route_id</th>\n",
       "      <th>service_id</th>\n",
       "      <th>shape_id</th>\n",
       "      <th>headsign</th>\n",
       "      <th>direction</th>\n",
       "    </tr>\n",
       "  </thead>\n",
       "  <tbody>\n",
       "    <tr>\n",
       "      <th>0</th>\n",
       "      <td>1.10432.2-18-ga2-1.15.I</td>\n",
       "      <td>293</td>\n",
       "      <td>21</td>\n",
       "      <td>718337</td>\n",
       "      <td>Sandymount - Palmerstown</td>\n",
       "      <td>1</td>\n",
       "    </tr>\n",
       "    <tr>\n",
       "      <th>1</th>\n",
       "      <td>1.Mo-Fr.2-197-y11-3.6.O</td>\n",
       "      <td>299</td>\n",
       "      <td>42</td>\n",
       "      <td>724962</td>\n",
       "      <td>Ashbourne Retail Pk, stop 101001</td>\n",
       "      <td>0</td>\n",
       "    </tr>\n",
       "  </tbody>\n",
       "</table>\n",
       "</div>"
      ],
      "text/plain": [
       "               external_id  route_id  service_id  shape_id  \\\n",
       "0  1.10432.2-18-ga2-1.15.I       293          21    718337   \n",
       "1  1.Mo-Fr.2-197-y11-3.6.O       299          42    724962   \n",
       "\n",
       "                           headsign  direction  \n",
       "0          Sandymount - Palmerstown          1  \n",
       "1  Ashbourne Retail Pk, stop 101001          0  "
      ]
     },
     "metadata": {},
     "output_type": "display_data"
    },
    {
     "name": "stdout",
     "output_type": "stream",
     "text": [
      "(Database transactions disabled)\n"
     ]
    }
   ],
   "source": [
    "trips_v2 = trips.copy()\n",
    "use_foreign_key(trips_v2, \"route_id\", \"routes\", \"external_id\")\n",
    "use_foreign_key(trips_v2, \"service_id\", \"services\", \"external_id\")\n",
    "use_foreign_key(trips_v2, \"shape_id\", \"shapes\", \"external_id\")\n",
    "\n",
    "trips_v2.rename(columns={\n",
    "    \"trip_id\": \"external_id\",\n",
    "    \"trip_headsign\": \"headsign\",\n",
    "    \"direction_id\": \"direction\"\n",
    "}, inplace=True)\n",
    "\n",
    "display(trips_v2.head(2))\n",
    "\n",
    "trips_v2 = trips_v2[[\n",
    "    \"external_id\", \"route_id\", \"service_id\", \n",
    "    \"shape_id\", \"headsign\", \"direction\"\n",
    "]]\n",
    "\n",
    "sort(trips_v2, \"external_id\")\n",
    "\n",
    "display(trips_v2.head(2))\n",
    "\n",
    "commit(trips_v2, \"trips\")"
   ]
  },
  {
   "cell_type": "markdown",
   "id": "18811ddc",
   "metadata": {},
   "source": [
    "Stop Times\n",
    "--"
   ]
  },
  {
   "cell_type": "markdown",
   "id": "8352b55f",
   "metadata": {},
   "source": [
    "This is a big table, with 6 million rows. It links trips and stops together via a time and seq. number, and gives some handy metadata."
   ]
  },
  {
   "cell_type": "code",
   "execution_count": 25,
   "id": "72d21319",
   "metadata": {},
   "outputs": [
    {
     "data": {
      "text/html": [
       "<div>\n",
       "<style scoped>\n",
       "    .dataframe tbody tr th:only-of-type {\n",
       "        vertical-align: middle;\n",
       "    }\n",
       "\n",
       "    .dataframe tbody tr th {\n",
       "        vertical-align: top;\n",
       "    }\n",
       "\n",
       "    .dataframe thead th {\n",
       "        text-align: right;\n",
       "    }\n",
       "</style>\n",
       "<table border=\"1\" class=\"dataframe\">\n",
       "  <thead>\n",
       "    <tr style=\"text-align: right;\">\n",
       "      <th></th>\n",
       "      <th>trip_id</th>\n",
       "      <th>arrival_time</th>\n",
       "      <th>departure_time</th>\n",
       "      <th>stop_id</th>\n",
       "      <th>stop_sequence</th>\n",
       "      <th>stop_headsign</th>\n",
       "      <th>pickup_type</th>\n",
       "      <th>drop_off_type</th>\n",
       "      <th>shape_dist_traveled</th>\n",
       "    </tr>\n",
       "  </thead>\n",
       "  <tbody>\n",
       "    <tr>\n",
       "      <th>0</th>\n",
       "      <td>1143.y1006.17-130-cm1-1.82.I</td>\n",
       "      <td>06:10:00</td>\n",
       "      <td>06:10:00</td>\n",
       "      <td>8260B136421</td>\n",
       "      <td>1</td>\n",
       "      <td>NaN</td>\n",
       "      <td>0</td>\n",
       "      <td>0</td>\n",
       "      <td>0.00</td>\n",
       "    </tr>\n",
       "    <tr>\n",
       "      <th>1</th>\n",
       "      <td>1143.y1006.17-130-cm1-1.82.I</td>\n",
       "      <td>06:18:00</td>\n",
       "      <td>06:18:00</td>\n",
       "      <td>8260B1324001</td>\n",
       "      <td>2</td>\n",
       "      <td>NaN</td>\n",
       "      <td>0</td>\n",
       "      <td>0</td>\n",
       "      <td>7572.44</td>\n",
       "    </tr>\n",
       "  </tbody>\n",
       "</table>\n",
       "</div>"
      ],
      "text/plain": [
       "                        trip_id arrival_time departure_time       stop_id  \\\n",
       "0  1143.y1006.17-130-cm1-1.82.I     06:10:00       06:10:00   8260B136421   \n",
       "1  1143.y1006.17-130-cm1-1.82.I     06:18:00       06:18:00  8260B1324001   \n",
       "\n",
       "   stop_sequence stop_headsign  pickup_type  drop_off_type  \\\n",
       "0              1           NaN            0              0   \n",
       "1              2           NaN            0              0   \n",
       "\n",
       "   shape_dist_traveled  \n",
       "0                 0.00  \n",
       "1              7572.44  "
      ]
     },
     "execution_count": 25,
     "metadata": {},
     "output_type": "execute_result"
    }
   ],
   "source": [
    "stop_times.head(2)"
   ]
  },
  {
   "cell_type": "code",
   "execution_count": 26,
   "id": "84f905fe",
   "metadata": {},
   "outputs": [
    {
     "name": "stdout",
     "output_type": "stream",
     "text": [
      "Shifted 24:00 on 1314 rows for field 'arrival_time'\n",
      "Shifted 24:00 on 1296 rows for field 'departure_time'\n"
     ]
    },
    {
     "data": {
      "text/plain": [
       "'Converting trip_id: 100% complete.'"
      ]
     },
     "metadata": {},
     "output_type": "display_data"
    },
    {
     "data": {
      "text/plain": [
       "'Converting stop_id: 100% complete.'"
      ]
     },
     "metadata": {},
     "output_type": "display_data"
    },
    {
     "data": {
      "text/html": [
       "<div>\n",
       "<style scoped>\n",
       "    .dataframe tbody tr th:only-of-type {\n",
       "        vertical-align: middle;\n",
       "    }\n",
       "\n",
       "    .dataframe tbody tr th {\n",
       "        vertical-align: top;\n",
       "    }\n",
       "\n",
       "    .dataframe thead th {\n",
       "        text-align: right;\n",
       "    }\n",
       "</style>\n",
       "<table border=\"1\" class=\"dataframe\">\n",
       "  <thead>\n",
       "    <tr style=\"text-align: right;\">\n",
       "      <th></th>\n",
       "      <th>trip_id</th>\n",
       "      <th>arrival_time</th>\n",
       "      <th>departure_time</th>\n",
       "      <th>stop_id</th>\n",
       "      <th>stop_sequence</th>\n",
       "      <th>stop_headsign</th>\n",
       "      <th>pickup_type</th>\n",
       "      <th>drop_off_type</th>\n",
       "      <th>shape_dist_traveled</th>\n",
       "    </tr>\n",
       "  </thead>\n",
       "  <tbody>\n",
       "    <tr>\n",
       "      <th>0</th>\n",
       "      <td>0</td>\n",
       "      <td>06:00:00</td>\n",
       "      <td>06:00:00</td>\n",
       "      <td>377</td>\n",
       "      <td>1</td>\n",
       "      <td>NaN</td>\n",
       "      <td>0</td>\n",
       "      <td>0</td>\n",
       "      <td>0.00</td>\n",
       "    </tr>\n",
       "    <tr>\n",
       "      <th>1</th>\n",
       "      <td>0</td>\n",
       "      <td>06:02:00</td>\n",
       "      <td>06:02:00</td>\n",
       "      <td>1528</td>\n",
       "      <td>2</td>\n",
       "      <td>NaN</td>\n",
       "      <td>0</td>\n",
       "      <td>0</td>\n",
       "      <td>496.44</td>\n",
       "    </tr>\n",
       "  </tbody>\n",
       "</table>\n",
       "</div>"
      ],
      "text/plain": [
       "   trip_id arrival_time departure_time  stop_id  stop_sequence stop_headsign  \\\n",
       "0        0     06:00:00       06:00:00      377              1           NaN   \n",
       "1        0     06:02:00       06:02:00     1528              2           NaN   \n",
       "\n",
       "   pickup_type  drop_off_type  shape_dist_traveled  \n",
       "0            0              0                 0.00  \n",
       "1            0              0               496.44  "
      ]
     },
     "metadata": {},
     "output_type": "display_data"
    },
    {
     "name": "stdout",
     "output_type": "stream",
     "text": [
      "(Database transactions disabled)\n"
     ]
    }
   ],
   "source": [
    "stop_times_v2 = stop_times.copy()\n",
    "\n",
    "def shift_time(table, field):\n",
    "    new_values = list()\n",
    "    count = 0\n",
    "    for item in table[field].values:\n",
    "        if item == \"24:00:00\": \n",
    "            item = \"23:59:00\"\n",
    "            count += 1\n",
    "        new_values.append(item)\n",
    "    table[field] = new_values\n",
    "    print(f\"Shifted 24:00 on {count} rows for field '{field}'\")\n",
    "    \n",
    "\n",
    "shift_time(stop_times_v2, \"arrival_time\")\n",
    "shift_time(stop_times_v2, \"departure_time\")\n",
    "\n",
    "use_foreign_key(stop_times_v2, \"trip_id\", \"trips\", \"external_id\")\n",
    "use_foreign_key(stop_times_v2, \"stop_id\", \"stops\", \"external_id\")\n",
    "sort(stop_times_v2, \"trip_id\", \"stop_sequence\")\n",
    "\n",
    "display(stop_times_v2.head(2))\n",
    "commit(stop_times_v2, \"stoptimes\")"
   ]
  },
  {
   "cell_type": "markdown",
   "id": "0578b0ea",
   "metadata": {},
   "source": [
    "Boundaries\n",
    "--\n",
    "\n",
    "A table derived from UCD Dublin Bus historical data as opposed to the GTFS data.\n",
    "\n",
    "It gives a suggested bound on delays expected for trips."
   ]
  },
  {
   "cell_type": "code",
   "execution_count": 46,
   "id": "af919901",
   "metadata": {},
   "outputs": [
    {
     "data": {
      "text/html": [
       "<div>\n",
       "<style scoped>\n",
       "    .dataframe tbody tr th:only-of-type {\n",
       "        vertical-align: middle;\n",
       "    }\n",
       "\n",
       "    .dataframe tbody tr th {\n",
       "        vertical-align: top;\n",
       "    }\n",
       "\n",
       "    .dataframe thead th {\n",
       "        text-align: right;\n",
       "    }\n",
       "</style>\n",
       "<table border=\"1\" class=\"dataframe\">\n",
       "  <thead>\n",
       "    <tr style=\"text-align: right;\">\n",
       "      <th></th>\n",
       "      <th>Route</th>\n",
       "      <th>Direction</th>\n",
       "      <th>Stop</th>\n",
       "      <th>Max</th>\n",
       "      <th>Min</th>\n",
       "    </tr>\n",
       "  </thead>\n",
       "  <tbody>\n",
       "    <tr>\n",
       "      <th>0</th>\n",
       "      <td>61</td>\n",
       "      <td>1</td>\n",
       "      <td>1035</td>\n",
       "      <td>472.0</td>\n",
       "      <td>-111.0</td>\n",
       "    </tr>\n",
       "    <tr>\n",
       "      <th>1</th>\n",
       "      <td>70D</td>\n",
       "      <td>2</td>\n",
       "      <td>3340</td>\n",
       "      <td>42.0</td>\n",
       "      <td>-75.0</td>\n",
       "    </tr>\n",
       "  </tbody>\n",
       "</table>\n",
       "</div>"
      ],
      "text/plain": [
       "  Route  Direction  Stop    Max    Min\n",
       "0    61          1  1035  472.0 -111.0\n",
       "1   70D          2  3340   42.0  -75.0"
      ]
     },
     "execution_count": 46,
     "metadata": {},
     "output_type": "execute_result"
    }
   ],
   "source": [
    "boundaries.head(2)"
   ]
  },
  {
   "cell_type": "code",
   "execution_count": null,
   "id": "274111a8",
   "metadata": {},
   "outputs": [
    {
     "data": {
      "text/plain": [
       "'Converting stop: 100% complete.'"
      ]
     },
     "metadata": {},
     "output_type": "display_data"
    },
    {
     "data": {
      "text/plain": [
       "'Converting route: 100% complete.'"
      ]
     },
     "metadata": {},
     "output_type": "display_data"
    }
   ],
   "source": [
    "boundaries_v2 = boundaries.copy()\n",
    "boundaries_v2.columns = [\"route\", \"direction\", \"stop\", \"max\", \"min\"]\n",
    "\n",
    "# The historical convention is 1, 2 for outbound, inbound\n",
    "# The GTFS convention used by the rest of the tables is 0, 1 for oubound, inbound\n",
    "boundaries_v2.direction = boundaries_v2.direction - 1\n",
    "\n",
    "# Some stops and routes don't exist in the GTFS database, remove them\n",
    "boundaries_v2 = boundaries_v2[boundaries_v2.route.isin(route_names.name)]\n",
    "boundaries_v2 = boundaries_v2[boundaries_v2.stop.isin(stops_v2.number)]\n",
    "\n",
    "\n",
    "use_foreign_key(boundaries_v2, \"stop\", \"stops\", \"number\")\n",
    "use_foreign_key(boundaries_v2, \"route\", \"routenames\", \"name\")\n",
    "\n",
    "boundaries_v2.columns = [\"route_name_id\", \"direction\", \"stop_id\", \"max\", \"min\"]\n",
    "boundaries_v2.head(2)\n",
    "commit(boundaries_v2, \"predictionbounds\")"
   ]
  },
  {
   "cell_type": "markdown",
   "id": "f7d816ed",
   "metadata": {},
   "source": [
    "Additional Derived Tables\n",
    "=="
   ]
  },
  {
   "cell_type": "markdown",
   "id": "faa9185a",
   "metadata": {},
   "source": [
    "Named Route Stops\n",
    "--"
   ]
  },
  {
   "cell_type": "markdown",
   "id": "d7916ecd",
   "metadata": {},
   "source": [
    "Each route has multiple paths and multiple possible sets of stops. There is no explicit list of stops for a route (much less a shortname) in GTFS, it's implied implicitly by the stop times table and the trips table.\n",
    "\n",
    "However, we'd like a representative subset - the stops associated with the most common shape_id for a short name should do there.\n",
    "\n",
    "We also note the remaining stops, and tag them with a \"variant\" flag."
   ]
  },
  {
   "cell_type": "markdown",
   "id": "b04aca10",
   "metadata": {},
   "source": [
    "The utility functions below are intended to make linking tables together easier. (There are probably built-in pandas ways of doing this, but I didn't find any from a quick internet search.)"
   ]
  },
  {
   "cell_type": "code",
   "execution_count": 27,
   "id": "456ef10b",
   "metadata": {},
   "outputs": [],
   "source": [
    "def lookup(table, key_fields, value_fields):\n",
    "    \n",
    "    # Group sets of distinct values in a table by a \n",
    "    # common key, and store them in a dictionary \n",
    "    # (Kind of like .groupby, but more direct?)\n",
    "    \n",
    "    # Iterables can be passed for the keys or values\n",
    "    # to make multikeys / group lists of values.\n",
    "    \n",
    "    multikey = isinstance(key_fields, list) or isinstance(key_fields, tuple)\n",
    "    multivalue = isinstance(value_fields, list) or isinstance(value_fields, tuple)\n",
    "        \n",
    "    keys = set()\n",
    "    for key in table[key_fields].values:\n",
    "        if multikey:\n",
    "            key = tuple(key)\n",
    "        keys.add(key)\n",
    "        \n",
    "    result = dict()\n",
    "    for key in keys:\n",
    "        result[key] = set()\n",
    "        \n",
    "    keys = table[key_fields].values\n",
    "    values = table[value_fields].values\n",
    "        \n",
    "    for i in range(len(table)):\n",
    "        \n",
    "        key = keys[i]\n",
    "        value = values[i]\n",
    "        \n",
    "        if multikey: key = tuple(key)\n",
    "        if multivalue: value = tuple(value)\n",
    "        \n",
    "        result[key].add(value)\n",
    "    \n",
    "    return result\n",
    "\n",
    "def invert(lookup_ab):\n",
    "     \n",
    "    # Invert a lookup as created by the previous function.\n",
    "    # (Lookup the keys by the values they correspond to)\n",
    "        \n",
    "    lookup_ba = dict()\n",
    "    for a, b_set in lookup_ab.items():\n",
    "        for b in b_set:\n",
    "            a_set = lookup_ba.get(b, None)\n",
    "            if a_set is None:\n",
    "                a_set = set()\n",
    "                lookup_ba[b] = a_set\n",
    "            a_set.add(a)\n",
    "            \n",
    "    return lookup_ba\n",
    "            \n",
    "def chain(lookup_ab, lookup_bc):\n",
    "    \n",
    "    # For two lookups where the values of\n",
    "    # the first are keys in the second, make a\n",
    "    # new lookup linking keys of the first to\n",
    "    # values of the second.\n",
    "    \n",
    "    lookup_ba = invert(lookup_ab)\n",
    "    \n",
    "    lookup_ac = dict()\n",
    "    for a in lookup_ab:\n",
    "        lookup_ac[a] = set()\n",
    "    \n",
    "    for b, c_set in lookup_bc.items():\n",
    "        a_set = lookup_ba[b]\n",
    "        for a in a_set:\n",
    "            for c in c_set:\n",
    "                lookup_ac[a].add(c)\n",
    "        \n",
    "    return lookup_ac"
   ]
  },
  {
   "cell_type": "markdown",
   "id": "2b2356d5",
   "metadata": {},
   "source": [
    "Now, Link name/agency pairs to shapes, and shapes to stops.\n",
    "\n",
    "This takes quite a while - the code above is written for concision rather than efficiency and is slow, and the stop_times table that is used has 6 million rows."
   ]
  },
  {
   "cell_type": "code",
   "execution_count": 28,
   "id": "700a81ae",
   "metadata": {},
   "outputs": [
    {
     "name": "stdout",
     "output_type": "stream",
     "text": [
      "Linking names amd agencies to shapes\n",
      "Linking shapes to stops\n",
      "Complete\n"
     ]
    }
   ],
   "source": [
    "print(\"Linking names amd agencies to shapes\")\n",
    "\n",
    "name_agency_routes = lookup(routes_v2, [\"name\", \"agency\"], \"external_id\")\n",
    "route_shapes = lookup(trips, \"route_id\", \"shape_id\")\n",
    "name_shapes = chain(name_agency_routes, route_shapes)\n",
    "\n",
    "print(\"Linking shapes to stops\")\n",
    "\n",
    "shape_trips = lookup(trips, \"shape_id\", \"trip_id\")\n",
    "trip_stops = lookup(stop_times, \"trip_id\", [\"stop_id\", \"stop_sequence\"])\n",
    "shape_stops = chain(shape_trips, trip_stops)\n",
    "\n",
    "print(\"Complete\")"
   ]
  },
  {
   "cell_type": "markdown",
   "id": "29b2382a",
   "metadata": {},
   "source": [
    "It turns out that stop sequences aren't perfect. For example, trip '10176.y1006.60-41B-d12-1.225.I' is missing stop_sequence 10, it just goes from 9 to 11. And there are lots of examples of that.\n",
    "\n",
    "It seems like no two stops ever have the same sequence in a trip, which is good at least"
   ]
  },
  {
   "cell_type": "code",
   "execution_count": 29,
   "id": "91dda567",
   "metadata": {},
   "outputs": [
    {
     "name": "stdout",
     "output_type": "stream",
     "text": [
      "No duplicates found\n"
     ]
    }
   ],
   "source": [
    "for shape, stop_sequence in shape_stops.items():\n",
    "    numbers = list()\n",
    "    for stop, number in stop_sequence:\n",
    "        numbers.append(number)\n",
    "    if len(numbers) != len(set(numbers)):\n",
    "        print(\"Duplicates detected for shape:\", shape)\n",
    "        break\n",
    "else:\n",
    "    print(\"No duplicates found\")"
   ]
  },
  {
   "cell_type": "markdown",
   "id": "84be5c82",
   "metadata": {},
   "source": [
    "Step two is to find a representative shape for each route."
   ]
  },
  {
   "cell_type": "code",
   "execution_count": 30,
   "id": "a4672beb",
   "metadata": {},
   "outputs": [
    {
     "name": "stdout",
     "output_type": "stream",
     "text": [
      "Weighting services\n",
      "Weighting shapes\n",
      "Selecting shapes by weight\n",
      "Complete\n"
     ]
    }
   ],
   "source": [
    "# I'd like to do this by trip frequency. The one thing to be careful about is that each \n",
    "# trip is part of a service, and different services cover different numbers of days. \n",
    "# So the first thing is to weight each service. \n",
    "# (just from the base calendar, won't bother with exceptions here)\n",
    "\n",
    "days_of_week = [\n",
    "    \"monday\", \"tuesday\", \"wednesday\", \"thursday\", \"friday\", \"saturday\", \"sunday\"\n",
    "]\n",
    "\n",
    "print(\"Weighting services\")\n",
    "\n",
    "service_weights = dict()\n",
    "for i in calendar.index:\n",
    "    weekdays = 0\n",
    "    for day in days_of_week:\n",
    "        weekdays += calendar[day][i]\n",
    "    period = calendar.end_date[i] - calendar.start_date[i]\n",
    "    weight = period.days*(weekdays/7)\n",
    "    service_id = calendar.service_id[i]\n",
    "    service_weights[service_id] = weight\n",
    "\n",
    "print(\"Weighting shapes\")\n",
    "\n",
    "route_shape_weights = dict()\n",
    "\n",
    "for route_id in routes.route_id:\n",
    "    shape_weights = dict()\n",
    "    for route_shape in route_shapes[route_id]:\n",
    "        shape_weights[route_shape] = 0\n",
    "    route_shape_weights[route_id] = shape_weights\n",
    "    \n",
    "for i in trips.index:\n",
    "    route_id = trips.route_id[i]\n",
    "    shape_id = trips.shape_id[i]\n",
    "    service_id = trips.service_id[i]\n",
    "    weight = service_weights[service_id]\n",
    "    route_shape_weights[route_id][shape_id] += weight\n",
    "    \n",
    "print(\"Selecting shapes by weight\")\n",
    "    \n",
    "directions = [DIRECTION_OUTBOUND, DIRECTION_INBOUND]\n",
    "\n",
    "name_agency_shapes = dict()\n",
    "name_agency_weights = dict()\n",
    "for key in name_agency_routes:\n",
    "    current_shapes = dict()\n",
    "    current_weights = dict()\n",
    "    for direction in directions:\n",
    "        current_shapes[direction] = None\n",
    "        current_weights[direction] = 0\n",
    "    name_agency_shapes[key] = current_shapes\n",
    "    name_agency_weights[key] = current_weights\n",
    "\n",
    "for i in routes_v2.index:\n",
    "    \n",
    "    route_id = routes_v2.external_id[i]\n",
    "    agency_id = routes_v2.agency[i]\n",
    "    name = routes_v2.name[i]\n",
    "    shape_weights = route_shape_weights[route_id]\n",
    "    \n",
    "    current_shapes = name_agency_shapes[name, agency_id]\n",
    "    current_weights = name_agency_weights[name, agency_id]\n",
    "    \n",
    "    for shape_id, weight in shape_weights.items():\n",
    "        \n",
    "        if shape_id[-1] == 'O':\n",
    "            direction = DIRECTION_OUTBOUND\n",
    "        else:\n",
    "            direction = DIRECTION_INBOUND\n",
    "        \n",
    "        if weight > current_weights[direction]:\n",
    "            current_weights[direction] = weight\n",
    "            current_shapes[direction] = shape_id\n",
    "            \n",
    "    name_agency_shapes[name, agency_id] = current_shapes\n",
    "    name_agency_weights[name, agency_id] = current_weights\n",
    "    \n",
    "print(\"Complete\") "
   ]
  },
  {
   "cell_type": "markdown",
   "id": "8c531a98",
   "metadata": {},
   "source": [
    "Step 3 is to collect stops for each route using the shape lookups. By using the representative shape selected and the shape lookup, we can identify which stops are representative, and give those stops a sequence number."
   ]
  },
  {
   "cell_type": "code",
   "execution_count": 31,
   "id": "71881076",
   "metadata": {},
   "outputs": [
    {
     "data": {
      "text/plain": [
       "'Converting shape_id: 100% complete.'"
      ]
     },
     "metadata": {},
     "output_type": "display_data"
    },
    {
     "data": {
      "text/html": [
       "<div>\n",
       "<style scoped>\n",
       "    .dataframe tbody tr th:only-of-type {\n",
       "        vertical-align: middle;\n",
       "    }\n",
       "\n",
       "    .dataframe tbody tr th {\n",
       "        vertical-align: top;\n",
       "    }\n",
       "\n",
       "    .dataframe thead th {\n",
       "        text-align: right;\n",
       "    }\n",
       "</style>\n",
       "<table border=\"1\" class=\"dataframe\">\n",
       "  <thead>\n",
       "    <tr style=\"text-align: right;\">\n",
       "      <th></th>\n",
       "      <th>name</th>\n",
       "      <th>agency</th>\n",
       "      <th>direction</th>\n",
       "      <th>stop_id</th>\n",
       "      <th>main</th>\n",
       "      <th>sequence</th>\n",
       "      <th>shape_id</th>\n",
       "    </tr>\n",
       "  </thead>\n",
       "  <tbody>\n",
       "    <tr>\n",
       "      <th>0</th>\n",
       "      <td>84X</td>\n",
       "      <td>978</td>\n",
       "      <td>0</td>\n",
       "      <td>8350DB004210</td>\n",
       "      <td>True</td>\n",
       "      <td>22</td>\n",
       "      <td>1009750</td>\n",
       "    </tr>\n",
       "    <tr>\n",
       "      <th>1</th>\n",
       "      <td>84X</td>\n",
       "      <td>978</td>\n",
       "      <td>0</td>\n",
       "      <td>8220DB000848</td>\n",
       "      <td>True</td>\n",
       "      <td>5</td>\n",
       "      <td>1009750</td>\n",
       "    </tr>\n",
       "    <tr>\n",
       "      <th>2</th>\n",
       "      <td>84X</td>\n",
       "      <td>978</td>\n",
       "      <td>0</td>\n",
       "      <td>8350DB004305</td>\n",
       "      <td>True</td>\n",
       "      <td>34</td>\n",
       "      <td>1009750</td>\n",
       "    </tr>\n",
       "  </tbody>\n",
       "</table>\n",
       "</div>"
      ],
      "text/plain": [
       "  name agency  direction       stop_id  main  sequence  shape_id\n",
       "0  84X    978          0  8350DB004210  True        22   1009750\n",
       "1  84X    978          0  8220DB000848  True         5   1009750\n",
       "2  84X    978          0  8350DB004305  True        34   1009750"
      ]
     },
     "execution_count": 31,
     "metadata": {},
     "output_type": "execute_result"
    }
   ],
   "source": [
    "names = routes.route_short_name.unique()\n",
    "\n",
    "records = list()\n",
    "\n",
    "for name, agency_id in name_agency_routes:\n",
    "    for direction in directions:\n",
    "        \n",
    "        all_shapes = set()\n",
    "        for route in name_agency_routes[name, agency_id]:\n",
    "            all_shapes.update(route_shapes[route])\n",
    "                \n",
    "        main_shape = name_agency_shapes[name, agency_id][direction]\n",
    "        if main_shape is None:\n",
    "            # Some routes are one direction only\n",
    "            continue\n",
    "        \n",
    "        all_stops = set()\n",
    "        for shape in all_shapes:\n",
    "            if (shape[-1] == 'O') == (direction == DIRECTION_OUTBOUND):\n",
    "                for stop, number in shape_stops[shape]:\n",
    "                    all_stops.add(stop)\n",
    "                    \n",
    "        main_stop_sequence = shape_stops[main_shape]\n",
    "        main_stops = dict()\n",
    "        for stop, number in main_stop_sequence:\n",
    "            main_stops[stop] = number\n",
    "        \n",
    "        for stop in all_stops:\n",
    "            if stop in main_stops:\n",
    "                main = True\n",
    "                sequence = main_stops[stop]\n",
    "            else:\n",
    "                main = False\n",
    "                sequence = None\n",
    "            records.append([name, agency_id, direction, stop, main, sequence, main_shape])\n",
    "\n",
    "route_stops = pd.DataFrame(records, columns=[\"name\", \"agency\", \"direction\", \"stop_id\", \"main\", \"sequence\", \"shape_id\"])\n",
    "use_foreign_key(route_stops, \"shape_id\", \"shapes\", \"external_id\")\n",
    "\n",
    "# Pandas has support for nullable integers, which works well here\n",
    "route_stops.sequence = route_stops.sequence.astype(\"Int64\")\n",
    "\n",
    "route_stops.head(3)"
   ]
  },
  {
   "cell_type": "markdown",
   "id": "f4d3eeca",
   "metadata": {},
   "source": [
    "Finally, the routes stops data can be sent to the database"
   ]
  },
  {
   "cell_type": "code",
   "execution_count": 32,
   "id": "f5b82a5f",
   "metadata": {},
   "outputs": [
    {
     "data": {
      "text/plain": [
       "'Converting stop_id: 100% complete.'"
      ]
     },
     "metadata": {},
     "output_type": "display_data"
    },
    {
     "data": {
      "text/plain": [
       "'Converting name: 100% complete.'"
      ]
     },
     "metadata": {},
     "output_type": "display_data"
    },
    {
     "data": {
      "text/plain": [
       "'Converting agency: 100% complete.'"
      ]
     },
     "metadata": {},
     "output_type": "display_data"
    },
    {
     "data": {
      "text/html": [
       "<div>\n",
       "<style scoped>\n",
       "    .dataframe tbody tr th:only-of-type {\n",
       "        vertical-align: middle;\n",
       "    }\n",
       "\n",
       "    .dataframe tbody tr th {\n",
       "        vertical-align: top;\n",
       "    }\n",
       "\n",
       "    .dataframe thead th {\n",
       "        text-align: right;\n",
       "    }\n",
       "</style>\n",
       "<table border=\"1\" class=\"dataframe\">\n",
       "  <thead>\n",
       "    <tr style=\"text-align: right;\">\n",
       "      <th></th>\n",
       "      <th>name_id</th>\n",
       "      <th>agency_id</th>\n",
       "      <th>direction</th>\n",
       "      <th>stop_id</th>\n",
       "      <th>main</th>\n",
       "      <th>sequence</th>\n",
       "      <th>shape_id</th>\n",
       "    </tr>\n",
       "  </thead>\n",
       "  <tbody>\n",
       "    <tr>\n",
       "      <th>0</th>\n",
       "      <td>0</td>\n",
       "      <td>4</td>\n",
       "      <td>0</td>\n",
       "      <td>152</td>\n",
       "      <td>True</td>\n",
       "      <td>13</td>\n",
       "      <td>765016</td>\n",
       "    </tr>\n",
       "    <tr>\n",
       "      <th>1</th>\n",
       "      <td>0</td>\n",
       "      <td>4</td>\n",
       "      <td>0</td>\n",
       "      <td>153</td>\n",
       "      <td>True</td>\n",
       "      <td>15</td>\n",
       "      <td>765016</td>\n",
       "    </tr>\n",
       "  </tbody>\n",
       "</table>\n",
       "</div>"
      ],
      "text/plain": [
       "   name_id  agency_id  direction  stop_id  main  sequence  shape_id\n",
       "0        0          4          0      152  True        13    765016\n",
       "1        0          4          0      153  True        15    765016"
      ]
     },
     "metadata": {},
     "output_type": "display_data"
    },
    {
     "name": "stdout",
     "output_type": "stream",
     "text": [
      "(Database transactions disabled)\n"
     ]
    }
   ],
   "source": [
    "route_stops_v2 = route_stops.copy()\n",
    "\n",
    "use_foreign_key(route_stops_v2, \"stop_id\", \"stops\", \"external_id\")\n",
    "shorten_names(route_stops_v2)\n",
    "use_foreign_key(route_stops_v2, \"name\", \"routenames\", \"name\")\n",
    "use_foreign_key(route_stops_v2, \"agency\", \"agency\", \"external_id\")\n",
    "\n",
    "route_stops_v2.rename(columns={\n",
    "    \"name\": \"name_id\",\n",
    "    \"agency\": \"agency_id\"\n",
    "}, inplace=True)\n",
    "\n",
    "sort(route_stops_v2)\n",
    "\n",
    "display(route_stops_v2.head(2))\n",
    "commit(route_stops_v2, \"routestops\")"
   ]
  }
 ],
 "metadata": {
  "kernelspec": {
   "display_name": "Python 3",
   "language": "python",
   "name": "python3"
  },
  "language_info": {
   "codemirror_mode": {
    "name": "ipython",
    "version": 3
   },
   "file_extension": ".py",
   "mimetype": "text/x-python",
   "name": "python",
   "nbconvert_exporter": "python",
   "pygments_lexer": "ipython3",
   "version": "3.8.10"
  }
 },
 "nbformat": 4,
 "nbformat_minor": 5
}
