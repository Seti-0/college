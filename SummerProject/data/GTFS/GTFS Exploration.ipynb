{
 "cells": [
  {
   "cell_type": "code",
   "execution_count": 1,
   "id": "ef591677",
   "metadata": {},
   "outputs": [],
   "source": [
    "import pandas as pd\n",
    "import re\n",
    "import ipycanvas\n",
    "from datetime import datetime, timedelta\n",
    "import matplotlib\n",
    "import numpy as np\n",
    "import math\n",
    "from IPython.display import display, update_display, Markdown"
   ]
  },
  {
   "cell_type": "code",
   "execution_count": 2,
   "id": "254ee60f",
   "metadata": {},
   "outputs": [],
   "source": [
    "class Progress:\n",
    "    def __init__(self, name, count):\n",
    "        self.name = name\n",
    "        self.count = count\n",
    "        display(\"Starting '\" + name + \"'\", display_id=name)\n",
    "        self.last_update = 0\n",
    "        self.step = math.ceil(self.count/100) # Update when about 1% has elapsed.\n",
    "    \n",
    "    def update(self, value):\n",
    "        if value != self.count and int(value - self.last_update) % self.step > 0:\n",
    "            return # Don't update too often since that will slow down loops a lot!\n",
    "        self.last_update = value\n",
    "        p = (value+1)/self.count\n",
    "        message = f\"{self.name}: {int(100*p)}% complete.\"\n",
    "        update_display(message, display_id=self.name)\n",
    "        \n",
    "    def complete(self):\n",
    "        self.update(self.count)"
   ]
  },
  {
   "cell_type": "markdown",
   "id": "069523ee",
   "metadata": {},
   "source": [
    "Load GTFS data\n",
    "==\n",
    "\n",
    "This can take a minute - stop_times is 500Mb."
   ]
  },
  {
   "cell_type": "code",
   "execution_count": 3,
   "id": "7d866b6f",
   "metadata": {},
   "outputs": [
    {
     "name": "stdout",
     "output_type": "stream",
     "text": [
      "Reading agency\n",
      "Reading calendar\n",
      "Reading calendar_dates\n",
      "Reading routes\n",
      "Reading shapes\n",
      "Reading stop_times\n"
     ]
    },
    {
     "name": "stderr",
     "output_type": "stream",
     "text": [
      "C:\\Users\\Kieran\\anaconda3\\envs\\general\\lib\\site-packages\\IPython\\core\\interactiveshell.py:3165: DtypeWarning: Columns (5) have mixed types.Specify dtype option on import or set low_memory=False.\n",
      "  has_raised = await self.run_ast_nodes(code_ast.body, cell_name,\n"
     ]
    },
    {
     "name": "stdout",
     "output_type": "stream",
     "text": [
      "Reading stops\n",
      "Reading transfers\n",
      "Reading trips\n",
      "Parsing dates\n",
      "Complete\n"
     ]
    }
   ],
   "source": [
    "files = [\n",
    "    \"agency\",\n",
    "    \"calendar\",\n",
    "    \"calendar_dates\",\n",
    "    \"routes\",\n",
    "    \"shapes\",\n",
    "    \"stop_times\",\n",
    "    \"stops\",\n",
    "    \"transfers\",\n",
    "    \"trips\"\n",
    "]\n",
    "\n",
    "for name in files:\n",
    "    print(\"Reading \" + name)\n",
    "    globals()[name] = pd.read_csv(name + \".txt\")\n",
    "    \n",
    "    \n",
    "print(\"Parsing dates\")\n",
    "\n",
    "def parse_dates(table, field):\n",
    "    table[field] = pd.to_datetime(table[field], format=\"%Y%m%d\")\n",
    "\n",
    "parse_dates(calendar, \"start_date\")\n",
    "parse_dates(calendar, \"end_date\")\n",
    "parse_dates(calendar_dates, \"date\")\n",
    "    \n",
    "print(\"Complete\")"
   ]
  },
  {
   "cell_type": "markdown",
   "id": "629a47f9",
   "metadata": {},
   "source": [
    "Minor note: direction is stored as numbers somtimes. "
   ]
  },
  {
   "cell_type": "code",
   "execution_count": 4,
   "id": "dd7dd662",
   "metadata": {},
   "outputs": [],
   "source": [
    "DIRECTION_OUTBOUND = 0\n",
    "DIRECTION_INBOUND = 1"
   ]
  },
  {
   "cell_type": "markdown",
   "id": "b4dfcff2",
   "metadata": {},
   "source": [
    "Overview\n",
    "==\n",
    "\n",
    "The sections contains a brief overview of each table, with little bits of analysis."
   ]
  },
  {
   "cell_type": "markdown",
   "id": "79c4df94",
   "metadata": {},
   "source": [
    "Agency\n",
    "--"
   ]
  },
  {
   "cell_type": "markdown",
   "id": "48e59379",
   "metadata": {},
   "source": [
    "The 5 different agencies covered by GTFS. <br>At minimum, we need Dublin Bus and can ignore the others. But we may want to include info on the others too."
   ]
  },
  {
   "cell_type": "code",
   "execution_count": 5,
   "id": "e5ca3289",
   "metadata": {},
   "outputs": [
    {
     "data": {
      "text/html": [
       "<div>\n",
       "<style scoped>\n",
       "    .dataframe tbody tr th:only-of-type {\n",
       "        vertical-align: middle;\n",
       "    }\n",
       "\n",
       "    .dataframe tbody tr th {\n",
       "        vertical-align: top;\n",
       "    }\n",
       "\n",
       "    .dataframe thead th {\n",
       "        text-align: right;\n",
       "    }\n",
       "</style>\n",
       "<table border=\"1\" class=\"dataframe\">\n",
       "  <thead>\n",
       "    <tr style=\"text-align: right;\">\n",
       "      <th></th>\n",
       "      <th>agency_id</th>\n",
       "      <th>agency_name</th>\n",
       "      <th>agency_url</th>\n",
       "      <th>agency_timezone</th>\n",
       "      <th>agency_lang</th>\n",
       "    </tr>\n",
       "  </thead>\n",
       "  <tbody>\n",
       "    <tr>\n",
       "      <th>0</th>\n",
       "      <td>03C</td>\n",
       "      <td>GoAhead Commuter</td>\n",
       "      <td>https://www.transportforireland.ie</td>\n",
       "      <td>Europe/Dublin</td>\n",
       "      <td>EN</td>\n",
       "    </tr>\n",
       "    <tr>\n",
       "      <th>1</th>\n",
       "      <td>978</td>\n",
       "      <td>Dublin Bus</td>\n",
       "      <td>https://www.transportforireland.ie</td>\n",
       "      <td>Europe/Dublin</td>\n",
       "      <td>EN</td>\n",
       "    </tr>\n",
       "    <tr>\n",
       "      <th>2</th>\n",
       "      <td>01</td>\n",
       "      <td>Bus Éireann</td>\n",
       "      <td>https://www.transportforireland.ie</td>\n",
       "      <td>Europe/Dublin</td>\n",
       "      <td>EN</td>\n",
       "    </tr>\n",
       "    <tr>\n",
       "      <th>3</th>\n",
       "      <td>01X</td>\n",
       "      <td>Expressway</td>\n",
       "      <td>https://www.transportforireland.ie</td>\n",
       "      <td>Europe/Dublin</td>\n",
       "      <td>EN</td>\n",
       "    </tr>\n",
       "    <tr>\n",
       "      <th>4</th>\n",
       "      <td>03</td>\n",
       "      <td>Go-Ahead</td>\n",
       "      <td>https://www.transportforireland.ie</td>\n",
       "      <td>Europe/Dublin</td>\n",
       "      <td>EN</td>\n",
       "    </tr>\n",
       "  </tbody>\n",
       "</table>\n",
       "</div>"
      ],
      "text/plain": [
       "  agency_id       agency_name                          agency_url  \\\n",
       "0       03C  GoAhead Commuter  https://www.transportforireland.ie   \n",
       "1       978        Dublin Bus  https://www.transportforireland.ie   \n",
       "2        01       Bus Éireann  https://www.transportforireland.ie   \n",
       "3       01X        Expressway  https://www.transportforireland.ie   \n",
       "4        03          Go-Ahead  https://www.transportforireland.ie   \n",
       "\n",
       "  agency_timezone agency_lang  \n",
       "0   Europe/Dublin          EN  \n",
       "1   Europe/Dublin          EN  \n",
       "2   Europe/Dublin          EN  \n",
       "3   Europe/Dublin          EN  \n",
       "4   Europe/Dublin          EN  "
      ]
     },
     "execution_count": 5,
     "metadata": {},
     "output_type": "execute_result"
    }
   ],
   "source": [
    "agency"
   ]
  },
  {
   "cell_type": "markdown",
   "id": "a92081a0",
   "metadata": {},
   "source": [
    "Calendar\n",
    "--"
   ]
  },
  {
   "cell_type": "markdown",
   "id": "beffc3f3",
   "metadata": {},
   "source": [
    "A calendar is made up of 'services', which run on certain days of the week from a start date to an end date."
   ]
  },
  {
   "cell_type": "code",
   "execution_count": 6,
   "id": "8531582e",
   "metadata": {},
   "outputs": [
    {
     "name": "stdout",
     "output_type": "stream",
     "text": [
      "Count: 85\n"
     ]
    },
    {
     "data": {
      "text/html": [
       "<div>\n",
       "<style scoped>\n",
       "    .dataframe tbody tr th:only-of-type {\n",
       "        vertical-align: middle;\n",
       "    }\n",
       "\n",
       "    .dataframe tbody tr th {\n",
       "        vertical-align: top;\n",
       "    }\n",
       "\n",
       "    .dataframe thead th {\n",
       "        text-align: right;\n",
       "    }\n",
       "</style>\n",
       "<table border=\"1\" class=\"dataframe\">\n",
       "  <thead>\n",
       "    <tr style=\"text-align: right;\">\n",
       "      <th></th>\n",
       "      <th>service_id</th>\n",
       "      <th>monday</th>\n",
       "      <th>tuesday</th>\n",
       "      <th>wednesday</th>\n",
       "      <th>thursday</th>\n",
       "      <th>friday</th>\n",
       "      <th>saturday</th>\n",
       "      <th>sunday</th>\n",
       "      <th>start_date</th>\n",
       "      <th>end_date</th>\n",
       "    </tr>\n",
       "  </thead>\n",
       "  <tbody>\n",
       "    <tr>\n",
       "      <th>0</th>\n",
       "      <td>1</td>\n",
       "      <td>0</td>\n",
       "      <td>0</td>\n",
       "      <td>0</td>\n",
       "      <td>0</td>\n",
       "      <td>0</td>\n",
       "      <td>0</td>\n",
       "      <td>1</td>\n",
       "      <td>2021-06-23</td>\n",
       "      <td>2021-12-18</td>\n",
       "    </tr>\n",
       "    <tr>\n",
       "      <th>1</th>\n",
       "      <td>1#1</td>\n",
       "      <td>1</td>\n",
       "      <td>0</td>\n",
       "      <td>0</td>\n",
       "      <td>0</td>\n",
       "      <td>0</td>\n",
       "      <td>0</td>\n",
       "      <td>1</td>\n",
       "      <td>2021-06-23</td>\n",
       "      <td>2021-12-04</td>\n",
       "    </tr>\n",
       "    <tr>\n",
       "      <th>2</th>\n",
       "      <td>1#2</td>\n",
       "      <td>0</td>\n",
       "      <td>0</td>\n",
       "      <td>0</td>\n",
       "      <td>0</td>\n",
       "      <td>0</td>\n",
       "      <td>0</td>\n",
       "      <td>1</td>\n",
       "      <td>2021-06-23</td>\n",
       "      <td>2021-07-31</td>\n",
       "    </tr>\n",
       "    <tr>\n",
       "      <th>3</th>\n",
       "      <td>10</td>\n",
       "      <td>0</td>\n",
       "      <td>0</td>\n",
       "      <td>1</td>\n",
       "      <td>0</td>\n",
       "      <td>0</td>\n",
       "      <td>0</td>\n",
       "      <td>0</td>\n",
       "      <td>2021-06-23</td>\n",
       "      <td>2021-12-04</td>\n",
       "    </tr>\n",
       "    <tr>\n",
       "      <th>4</th>\n",
       "      <td>10#1</td>\n",
       "      <td>0</td>\n",
       "      <td>1</td>\n",
       "      <td>0</td>\n",
       "      <td>0</td>\n",
       "      <td>0</td>\n",
       "      <td>0</td>\n",
       "      <td>0</td>\n",
       "      <td>2021-06-23</td>\n",
       "      <td>2021-12-18</td>\n",
       "    </tr>\n",
       "  </tbody>\n",
       "</table>\n",
       "</div>"
      ],
      "text/plain": [
       "  service_id  monday  tuesday  wednesday  thursday  friday  saturday  sunday  \\\n",
       "0          1       0        0          0         0       0         0       1   \n",
       "1        1#1       1        0          0         0       0         0       1   \n",
       "2        1#2       0        0          0         0       0         0       1   \n",
       "3         10       0        0          1         0       0         0       0   \n",
       "4       10#1       0        1          0         0       0         0       0   \n",
       "\n",
       "  start_date   end_date  \n",
       "0 2021-06-23 2021-12-18  \n",
       "1 2021-06-23 2021-12-04  \n",
       "2 2021-06-23 2021-07-31  \n",
       "3 2021-06-23 2021-12-04  \n",
       "4 2021-06-23 2021-12-18  "
      ]
     },
     "execution_count": 6,
     "metadata": {},
     "output_type": "execute_result"
    }
   ],
   "source": [
    "print(\"Count:\", len(calendar))\n",
    "calendar.head()"
   ]
  },
  {
   "cell_type": "markdown",
   "id": "9c9d1d8a",
   "metadata": {},
   "source": [
    "Note: service_id is the unique ID in calendar.\n",
    "\n",
    "Note 2: all dates are in 2021"
   ]
  },
  {
   "cell_type": "code",
   "execution_count": 7,
   "id": "0f05425a",
   "metadata": {},
   "outputs": [
    {
     "data": {
      "text/plain": [
       "2021    85\n",
       "Name: start_date, dtype: int64"
      ]
     },
     "metadata": {},
     "output_type": "display_data"
    },
    {
     "data": {
      "text/plain": [
       "2021    85\n",
       "Name: end_date, dtype: int64"
      ]
     },
     "metadata": {},
     "output_type": "display_data"
    }
   ],
   "source": [
    "for field in [\"start_date\", \"end_date\"]:\n",
    "    display(calendar[field].map(lambda x: x.date().year).value_counts())"
   ]
  },
  {
   "cell_type": "markdown",
   "id": "e36db6bf",
   "metadata": {},
   "source": [
    "The cell below contains an overcomplicated function for visualizing date data"
   ]
  },
  {
   "cell_type": "code",
   "execution_count": 8,
   "id": "36c7ecd5",
   "metadata": {},
   "outputs": [],
   "source": [
    "def plot_calendar(color_map):\n",
    "    \n",
    "    # Figure out the scale factors\n",
    "    min_value = max_value = None\n",
    "    dt = datetime(2021, 1, 1)\n",
    "    while dt.date().year == 2021:\n",
    "        value = color_map(dt)\n",
    "        if min_value is None or value < min_value: \n",
    "            min_value = value\n",
    "        if max_value is None or value> max_value:\n",
    "            max_value = value\n",
    "        dt += timedelta(days=1)\n",
    "    if min_value == max_value:\n",
    "        min_value = max_value - 1\n",
    "        \n",
    "    # Metrics for drawing\n",
    "    scale = 3\n",
    "    size = 2*scale; margin = scale; month_margin = 4*scale;\n",
    "    gap = size + margin; month_gap = gap*7 + 2*month_margin, gap*5 + 2*month_margin\n",
    "\n",
    "    # Create the canvas\n",
    "    canvas = ipycanvas.Canvas(width=int(month_gap[0]*4.1), height=int(month_gap[1]*3.1))\n",
    "    display(canvas)\n",
    "    \n",
    "    def draw_day(x, y, dt):\n",
    "        \n",
    "        try:\n",
    "            p = float(color_map(dt))\n",
    "        except:\n",
    "            raise ValueError(\"Error while applying color map! (Is it a function that returns a float?)\")\n",
    "\n",
    "        # Normalize, then convert to a percentage.\n",
    "        p = (p - min_value) / (max_value - min_value)\n",
    "        p = int(max(0, min(p, 1)) * 100)\n",
    "        \n",
    "        canvas.fill_style=f\"hsl(0,{p}%,50%)\"\n",
    "        canvas.fill_rect(x, y, size)\n",
    "    \n",
    "    def draw_month(x, y, dt):\n",
    "\n",
    "        month = dt.date().month\n",
    "        for i in range(6):\n",
    "            for j in range(7):\n",
    "                if dt.weekday() != j: continue\n",
    "                if dt.date().month != month: break\n",
    "                draw_day(x + j*gap, y + i*gap, dt)\n",
    "                dt += timedelta(days=1)\n",
    "\n",
    "        return dt\n",
    "\n",
    "    def draw_year(x, y, dt):\n",
    "\n",
    "        year = dt.date().year\n",
    "        for i in range(4):\n",
    "            for j in range(4):\n",
    "                if dt.date().year != year:\n",
    "                    break\n",
    "                dt = draw_month(x + j*month_gap[0], y + i*month_gap[1], dt)\n",
    "\n",
    "    with ipycanvas.hold_canvas(canvas):\n",
    "        draw_year(0, 0, datetime(2021, 1, 1))"
   ]
  },
  {
   "cell_type": "markdown",
   "id": "685f2a48",
   "metadata": {},
   "source": [
    "First, are some services localized in time?"
   ]
  },
  {
   "cell_type": "code",
   "execution_count": 9,
   "id": "f0c5e8df",
   "metadata": {},
   "outputs": [
    {
     "data": {
      "application/vnd.jupyter.widget-view+json": {
       "model_id": "6ac3350762d94ed18ad5a18e71b3ac48",
       "version_major": 2,
       "version_minor": 0
      },
      "text/plain": [
       "Canvas(height=213, width=356)"
      ]
     },
     "metadata": {},
     "output_type": "display_data"
    }
   ],
   "source": [
    "tally = {}\n",
    "\n",
    "dt = calendar.start_date.min()\n",
    "final_end = calendar.end_date.max()\n",
    "while dt <= final_end:\n",
    "    for start, end in zip(calendar.start_date, calendar.end_date):\n",
    "        if dt >= start and dt <= end:\n",
    "            key = dt.to_pydatetime()\n",
    "            if key not in tally:\n",
    "                tally[key] = 0\n",
    "            tally[key] += 1\n",
    "    dt += timedelta(days=1)\n",
    "\n",
    "plot_calendar(lambda x: tally.get(x, 0))"
   ]
  },
  {
   "cell_type": "markdown",
   "id": "11f77f78",
   "metadata": {},
   "source": [
    "Relatively speaking, not really.\n",
    "<br>But the calendar as a whole is much more local than I had expected - it begins in May and ends some time around Dec. \n",
    "<br>I assume this has to do with when I downloaded it."
   ]
  },
  {
   "cell_type": "markdown",
   "id": "9859aa9b",
   "metadata": {},
   "source": [
    "Calendar Dates\n",
    "--"
   ]
  },
  {
   "cell_type": "markdown",
   "id": "9d802639",
   "metadata": {},
   "source": [
    "As specified at: https://developers.google.com/transit/gtfs/reference#calendar_datestxt\n",
    "<br>This table defines extra specific days on which a service has been added or removed. "
   ]
  },
  {
   "cell_type": "code",
   "execution_count": 10,
   "id": "96bf7405",
   "metadata": {},
   "outputs": [
    {
     "name": "stdout",
     "output_type": "stream",
     "text": [
      "Count: 850\n"
     ]
    },
    {
     "data": {
      "text/html": [
       "<div>\n",
       "<style scoped>\n",
       "    .dataframe tbody tr th:only-of-type {\n",
       "        vertical-align: middle;\n",
       "    }\n",
       "\n",
       "    .dataframe tbody tr th {\n",
       "        vertical-align: top;\n",
       "    }\n",
       "\n",
       "    .dataframe thead th {\n",
       "        text-align: right;\n",
       "    }\n",
       "</style>\n",
       "<table border=\"1\" class=\"dataframe\">\n",
       "  <thead>\n",
       "    <tr style=\"text-align: right;\">\n",
       "      <th></th>\n",
       "      <th>service_id</th>\n",
       "      <th>date</th>\n",
       "      <th>exception_type</th>\n",
       "    </tr>\n",
       "  </thead>\n",
       "  <tbody>\n",
       "    <tr>\n",
       "      <th>0</th>\n",
       "      <td>1</td>\n",
       "      <td>2021-08-01</td>\n",
       "      <td>2</td>\n",
       "    </tr>\n",
       "    <tr>\n",
       "      <th>1</th>\n",
       "      <td>1</td>\n",
       "      <td>2021-08-08</td>\n",
       "      <td>2</td>\n",
       "    </tr>\n",
       "    <tr>\n",
       "      <th>2</th>\n",
       "      <td>1</td>\n",
       "      <td>2021-08-15</td>\n",
       "      <td>2</td>\n",
       "    </tr>\n",
       "    <tr>\n",
       "      <th>3</th>\n",
       "      <td>1</td>\n",
       "      <td>2021-08-22</td>\n",
       "      <td>2</td>\n",
       "    </tr>\n",
       "    <tr>\n",
       "      <th>4</th>\n",
       "      <td>1</td>\n",
       "      <td>2021-08-29</td>\n",
       "      <td>2</td>\n",
       "    </tr>\n",
       "  </tbody>\n",
       "</table>\n",
       "</div>"
      ],
      "text/plain": [
       "  service_id       date  exception_type\n",
       "0          1 2021-08-01               2\n",
       "1          1 2021-08-08               2\n",
       "2          1 2021-08-15               2\n",
       "3          1 2021-08-22               2\n",
       "4          1 2021-08-29               2"
      ]
     },
     "execution_count": 10,
     "metadata": {},
     "output_type": "execute_result"
    }
   ],
   "source": [
    "print(\"Count:\", len(calendar_dates))\n",
    "calendar_dates.head()"
   ]
  },
  {
   "cell_type": "markdown",
   "id": "0d7ec7bc",
   "metadata": {},
   "source": [
    "First off, note that exceptiont type is only ever 2.\n",
    "<br>2 means removed."
   ]
  },
  {
   "cell_type": "code",
   "execution_count": 11,
   "id": "9cf00239",
   "metadata": {},
   "outputs": [
    {
     "data": {
      "text/plain": [
       "2    850\n",
       "Name: exception_type, dtype: int64"
      ]
     },
     "execution_count": 11,
     "metadata": {},
     "output_type": "execute_result"
    }
   ],
   "source": [
    "calendar_dates.exception_type.value_counts()"
   ]
  },
  {
   "cell_type": "markdown",
   "id": "d659b429",
   "metadata": {},
   "source": [
    "Seconly, there are no duplicates. This also means (since exception type is constant) that each service has at most one entry for a given day. This is just a consistency check, it's what we'd expect. A service can't be both added and removed at the same time from a day."
   ]
  },
  {
   "cell_type": "code",
   "execution_count": 12,
   "id": "ed193e92",
   "metadata": {},
   "outputs": [
    {
     "data": {
      "text/plain": [
       "0"
      ]
     },
     "execution_count": 12,
     "metadata": {},
     "output_type": "execute_result"
    }
   ],
   "source": [
    "len(calendar_dates) - len(calendar_dates[[\"service_id\", \"date\"]].drop_duplicates())"
   ]
  },
  {
   "cell_type": "markdown",
   "id": "614a935e",
   "metadata": {},
   "source": [
    "Finally, a look at where these days are placed.\n",
    "<br>There are a quite a few for every Monday. I don't know why that would be."
   ]
  },
  {
   "cell_type": "code",
   "execution_count": 13,
   "id": "3a6b2472",
   "metadata": {},
   "outputs": [
    {
     "data": {
      "application/vnd.jupyter.widget-view+json": {
       "model_id": "9edf9572fbc7402e94b5ec1750456bd6",
       "version_major": 2,
       "version_minor": 0
      },
      "text/plain": [
       "Canvas(height=213, width=356)"
      ]
     },
     "metadata": {},
     "output_type": "display_data"
    }
   ],
   "source": [
    "mapper = lambda dt: len(calendar_dates[calendar_dates.date == dt])\n",
    "plot_calendar(mapper)"
   ]
  },
  {
   "cell_type": "markdown",
   "id": "b924bde0",
   "metadata": {},
   "source": [
    "Routes\n",
    "--"
   ]
  },
  {
   "cell_type": "markdown",
   "id": "fbaf6132",
   "metadata": {},
   "source": [
    "Strictly speaking, these are names given to collections of related paths on which trips can take place.\n",
    "<br> Many of the interesting questions we might have about routes or shapes or stops will need all of these tables to be combined via trip & stop_times - this kept in a separate section."
   ]
  },
  {
   "cell_type": "code",
   "execution_count": 14,
   "id": "6860a50c",
   "metadata": {},
   "outputs": [
    {
     "name": "stdout",
     "output_type": "stream",
     "text": [
      "Count: 548\n"
     ]
    },
    {
     "data": {
      "text/html": [
       "<div>\n",
       "<style scoped>\n",
       "    .dataframe tbody tr th:only-of-type {\n",
       "        vertical-align: middle;\n",
       "    }\n",
       "\n",
       "    .dataframe tbody tr th {\n",
       "        vertical-align: top;\n",
       "    }\n",
       "\n",
       "    .dataframe thead th {\n",
       "        text-align: right;\n",
       "    }\n",
       "</style>\n",
       "<table border=\"1\" class=\"dataframe\">\n",
       "  <thead>\n",
       "    <tr style=\"text-align: right;\">\n",
       "      <th></th>\n",
       "      <th>route_id</th>\n",
       "      <th>agency_id</th>\n",
       "      <th>route_short_name</th>\n",
       "      <th>route_long_name</th>\n",
       "      <th>route_type</th>\n",
       "    </tr>\n",
       "  </thead>\n",
       "  <tbody>\n",
       "    <tr>\n",
       "      <th>0</th>\n",
       "      <td>10-100-e20-1</td>\n",
       "      <td>01</td>\n",
       "      <td>100</td>\n",
       "      <td>Drogheda Bus Station -</td>\n",
       "      <td>3</td>\n",
       "    </tr>\n",
       "    <tr>\n",
       "      <th>1</th>\n",
       "      <td>10-101-e20-1</td>\n",
       "      <td>01</td>\n",
       "      <td>101</td>\n",
       "      <td>Busáras - Drogheda Bus Station</td>\n",
       "      <td>3</td>\n",
       "    </tr>\n",
       "    <tr>\n",
       "      <th>2</th>\n",
       "      <td>10-103-e20-1</td>\n",
       "      <td>01</td>\n",
       "      <td>103</td>\n",
       "      <td>Dublin (Beresford Place) - Tayto Park</td>\n",
       "      <td>3</td>\n",
       "    </tr>\n",
       "    <tr>\n",
       "      <th>3</th>\n",
       "      <td>10-104-e20-1</td>\n",
       "      <td>01</td>\n",
       "      <td>104</td>\n",
       "      <td>Bus Stop at Train Station - Hastings Green Rou...</td>\n",
       "      <td>3</td>\n",
       "    </tr>\n",
       "    <tr>\n",
       "      <th>4</th>\n",
       "      <td>10-105-e20-1</td>\n",
       "      <td>01</td>\n",
       "      <td>105</td>\n",
       "      <td>Hospital Car Park - Drogheda Bus Station</td>\n",
       "      <td>3</td>\n",
       "    </tr>\n",
       "  </tbody>\n",
       "</table>\n",
       "</div>"
      ],
      "text/plain": [
       "       route_id agency_id route_short_name  \\\n",
       "0  10-100-e20-1        01              100   \n",
       "1  10-101-e20-1        01              101   \n",
       "2  10-103-e20-1        01              103   \n",
       "3  10-104-e20-1        01              104   \n",
       "4  10-105-e20-1        01              105   \n",
       "\n",
       "                                     route_long_name  route_type  \n",
       "0                             Drogheda Bus Station -           3  \n",
       "1                     Busáras - Drogheda Bus Station           3  \n",
       "2              Dublin (Beresford Place) - Tayto Park           3  \n",
       "3  Bus Stop at Train Station - Hastings Green Rou...           3  \n",
       "4           Hospital Car Park - Drogheda Bus Station           3  "
      ]
     },
     "execution_count": 14,
     "metadata": {},
     "output_type": "execute_result"
    }
   ],
   "source": [
    "print(\"Count:\", len(routes))\n",
    "routes.head(5)"
   ]
  },
  {
   "cell_type": "markdown",
   "id": "755edb7f",
   "metadata": {},
   "source": [
    "A short name can refer to 1-3 routes. Usually 1 or 2.\n",
    "<br>I don't yet know the difference between them."
   ]
  },
  {
   "cell_type": "markdown",
   "id": "2ba9c4b9",
   "metadata": {},
   "source": [
    "Q: Do routes of the Dublin Bus system share short names with the other bus systems?"
   ]
  },
  {
   "cell_type": "code",
   "execution_count": 19,
   "id": "ec5ca336",
   "metadata": {
    "scrolled": true
   },
   "outputs": [
    {
     "data": {
      "text/html": [
       "<div>\n",
       "<style scoped>\n",
       "    .dataframe tbody tr th:only-of-type {\n",
       "        vertical-align: middle;\n",
       "    }\n",
       "\n",
       "    .dataframe tbody tr th {\n",
       "        vertical-align: top;\n",
       "    }\n",
       "\n",
       "    .dataframe thead th {\n",
       "        text-align: right;\n",
       "    }\n",
       "</style>\n",
       "<table border=\"1\" class=\"dataframe\">\n",
       "  <thead>\n",
       "    <tr style=\"text-align: right;\">\n",
       "      <th></th>\n",
       "      <th>route_id</th>\n",
       "      <th>agency_id</th>\n",
       "      <th>route_short_name</th>\n",
       "      <th>route_long_name</th>\n",
       "      <th>route_type</th>\n",
       "    </tr>\n",
       "  </thead>\n",
       "  <tbody>\n",
       "    <tr>\n",
       "      <th>351</th>\n",
       "      <td>60-120-d12-1</td>\n",
       "      <td>978</td>\n",
       "      <td>120</td>\n",
       "      <td>Merrion Road RDS - River Road</td>\n",
       "      <td>3</td>\n",
       "    </tr>\n",
       "    <tr>\n",
       "      <th>350</th>\n",
       "      <td>60-120-b12-1</td>\n",
       "      <td>978</td>\n",
       "      <td>120</td>\n",
       "      <td>Merrion Road RDS - River Road</td>\n",
       "      <td>3</td>\n",
       "    </tr>\n",
       "    <tr>\n",
       "      <th>255</th>\n",
       "      <td>17-120-cm1-1</td>\n",
       "      <td>03C</td>\n",
       "      <td>120</td>\n",
       "      <td>Dublin - Edenderry</td>\n",
       "      <td>3</td>\n",
       "    </tr>\n",
       "    <tr>\n",
       "      <th>17</th>\n",
       "      <td>10-13-e20-1</td>\n",
       "      <td>01X</td>\n",
       "      <td>13</td>\n",
       "      <td>Limerick Bus Station - Tralee Bus Station</td>\n",
       "      <td>3</td>\n",
       "    </tr>\n",
       "    <tr>\n",
       "      <th>359</th>\n",
       "      <td>60-13-d12-1</td>\n",
       "      <td>978</td>\n",
       "      <td>13</td>\n",
       "      <td>Harristown Bus Garage - Business Park Bus Term...</td>\n",
       "      <td>3</td>\n",
       "    </tr>\n",
       "    <tr>\n",
       "      <th>358</th>\n",
       "      <td>60-13-b12-1</td>\n",
       "      <td>978</td>\n",
       "      <td>13</td>\n",
       "      <td>Harristown Bus Garage - Business Park Bus Term...</td>\n",
       "      <td>3</td>\n",
       "    </tr>\n",
       "    <tr>\n",
       "      <th>356</th>\n",
       "      <td>60-130-b12-1</td>\n",
       "      <td>978</td>\n",
       "      <td>130</td>\n",
       "      <td>Talbot Street - Clontarf Castle</td>\n",
       "      <td>3</td>\n",
       "    </tr>\n",
       "    <tr>\n",
       "      <th>266</th>\n",
       "      <td>17-130-cm1-1</td>\n",
       "      <td>03C</td>\n",
       "      <td>130</td>\n",
       "      <td>Dublin - Athy</td>\n",
       "      <td>3</td>\n",
       "    </tr>\n",
       "    <tr>\n",
       "      <th>357</th>\n",
       "      <td>60-130-d12-1</td>\n",
       "      <td>978</td>\n",
       "      <td>130</td>\n",
       "      <td>National Lottery Head Quarters - Clontarf Castle</td>\n",
       "      <td>3</td>\n",
       "    </tr>\n",
       "    <tr>\n",
       "      <th>18</th>\n",
       "      <td>10-14-e20-1</td>\n",
       "      <td>01X</td>\n",
       "      <td>14</td>\n",
       "      <td>Limerick Bus Station - Killarney Bus Station</td>\n",
       "      <td>3</td>\n",
       "    </tr>\n",
       "  </tbody>\n",
       "</table>\n",
       "</div>"
      ],
      "text/plain": [
       "         route_id agency_id route_short_name  \\\n",
       "351  60-120-d12-1       978              120   \n",
       "350  60-120-b12-1       978              120   \n",
       "255  17-120-cm1-1       03C              120   \n",
       "17    10-13-e20-1       01X               13   \n",
       "359   60-13-d12-1       978               13   \n",
       "358   60-13-b12-1       978               13   \n",
       "356  60-130-b12-1       978              130   \n",
       "266  17-130-cm1-1       03C              130   \n",
       "357  60-130-d12-1       978              130   \n",
       "18    10-14-e20-1       01X               14   \n",
       "\n",
       "                                       route_long_name  route_type  \n",
       "351                      Merrion Road RDS - River Road           3  \n",
       "350                      Merrion Road RDS - River Road           3  \n",
       "255                                 Dublin - Edenderry           3  \n",
       "17           Limerick Bus Station - Tralee Bus Station           3  \n",
       "359  Harristown Bus Garage - Business Park Bus Term...           3  \n",
       "358  Harristown Bus Garage - Business Park Bus Term...           3  \n",
       "356                    Talbot Street - Clontarf Castle           3  \n",
       "266                                      Dublin - Athy           3  \n",
       "357   National Lottery Head Quarters - Clontarf Castle           3  \n",
       "18        Limerick Bus Station - Killarney Bus Station           3  "
      ]
     },
     "execution_count": 19,
     "metadata": {},
     "output_type": "execute_result"
    }
   ],
   "source": [
    "def check(name):\n",
    "    agencies = set(routes.agency_id[routes.route_short_name == name])\n",
    "    return len(agencies) > 1 and \"978\" in agencies\n",
    "\n",
    "routes[routes.route_short_name.apply(check)].sort_values(\"route_short_name\").head(10)"
   ]
  },
  {
   "cell_type": "markdown",
   "id": "63b03847",
   "metadata": {},
   "source": [
    "Answer: Yes."
   ]
  },
  {
   "cell_type": "markdown",
   "id": "4de081e1",
   "metadata": {},
   "source": [
    "Shapes\n",
    "--"
   ]
  },
  {
   "cell_type": "markdown",
   "id": "3d8880ec",
   "metadata": {},
   "source": [
    "A route is associated with 1 or more shapes. Each trip along a route is associated with exactly one of these shapes."
   ]
  },
  {
   "cell_type": "code",
   "execution_count": 16,
   "id": "d31a8359",
   "metadata": {},
   "outputs": [
    {
     "name": "stdout",
     "output_type": "stream",
     "text": [
      "Count: 1017790\n"
     ]
    },
    {
     "data": {
      "text/html": [
       "<div>\n",
       "<style scoped>\n",
       "    .dataframe tbody tr th:only-of-type {\n",
       "        vertical-align: middle;\n",
       "    }\n",
       "\n",
       "    .dataframe tbody tr th {\n",
       "        vertical-align: top;\n",
       "    }\n",
       "\n",
       "    .dataframe thead th {\n",
       "        text-align: right;\n",
       "    }\n",
       "</style>\n",
       "<table border=\"1\" class=\"dataframe\">\n",
       "  <thead>\n",
       "    <tr style=\"text-align: right;\">\n",
       "      <th></th>\n",
       "      <th>shape_id</th>\n",
       "      <th>shape_pt_lat</th>\n",
       "      <th>shape_pt_lon</th>\n",
       "      <th>shape_pt_sequence</th>\n",
       "      <th>shape_dist_traveled</th>\n",
       "    </tr>\n",
       "  </thead>\n",
       "  <tbody>\n",
       "    <tr>\n",
       "      <th>0</th>\n",
       "      <td>10-100-e20-1.229.O</td>\n",
       "      <td>53.711610</td>\n",
       "      <td>-6.353111</td>\n",
       "      <td>1</td>\n",
       "      <td>0.00</td>\n",
       "    </tr>\n",
       "    <tr>\n",
       "      <th>1</th>\n",
       "      <td>10-100-e20-1.229.O</td>\n",
       "      <td>53.711849</td>\n",
       "      <td>-6.352845</td>\n",
       "      <td>2</td>\n",
       "      <td>31.85</td>\n",
       "    </tr>\n",
       "    <tr>\n",
       "      <th>2</th>\n",
       "      <td>10-100-e20-1.229.O</td>\n",
       "      <td>53.712178</td>\n",
       "      <td>-6.352604</td>\n",
       "      <td>3</td>\n",
       "      <td>71.73</td>\n",
       "    </tr>\n",
       "    <tr>\n",
       "      <th>3</th>\n",
       "      <td>10-100-e20-1.229.O</td>\n",
       "      <td>53.712258</td>\n",
       "      <td>-6.352571</td>\n",
       "      <td>4</td>\n",
       "      <td>80.94</td>\n",
       "    </tr>\n",
       "    <tr>\n",
       "      <th>4</th>\n",
       "      <td>10-100-e20-1.229.O</td>\n",
       "      <td>53.712468</td>\n",
       "      <td>-6.352745</td>\n",
       "      <td>5</td>\n",
       "      <td>106.85</td>\n",
       "    </tr>\n",
       "  </tbody>\n",
       "</table>\n",
       "</div>"
      ],
      "text/plain": [
       "             shape_id  shape_pt_lat  shape_pt_lon  shape_pt_sequence  \\\n",
       "0  10-100-e20-1.229.O     53.711610     -6.353111                  1   \n",
       "1  10-100-e20-1.229.O     53.711849     -6.352845                  2   \n",
       "2  10-100-e20-1.229.O     53.712178     -6.352604                  3   \n",
       "3  10-100-e20-1.229.O     53.712258     -6.352571                  4   \n",
       "4  10-100-e20-1.229.O     53.712468     -6.352745                  5   \n",
       "\n",
       "   shape_dist_traveled  \n",
       "0                 0.00  \n",
       "1                31.85  \n",
       "2                71.73  \n",
       "3                80.94  \n",
       "4               106.85  "
      ]
     },
     "execution_count": 16,
     "metadata": {},
     "output_type": "execute_result"
    }
   ],
   "source": [
    "print(\"Count:\", len(shapes))\n",
    "shapes.head(5)"
   ]
  },
  {
   "cell_type": "markdown",
   "id": "2df5e1d5",
   "metadata": {},
   "source": [
    "Notice that the shape id is a mix of a route id, a direction, and another number.\n",
    "<br>We could separate these out with regex, but I think the 'proper' way to make the link is via the trips table, which binds a route to a time, a shape, and some stops.\n",
    "\n",
    "**Note:** 1017790 is the number of points across all paths, not the number of paths!\n",
    "<br>There are 2236 paths"
   ]
  },
  {
   "cell_type": "code",
   "execution_count": 17,
   "id": "03a59ac4",
   "metadata": {},
   "outputs": [
    {
     "data": {
      "text/plain": [
       "2236"
      ]
     },
     "execution_count": 17,
     "metadata": {},
     "output_type": "execute_result"
    }
   ],
   "source": [
    "len(shapes.shape_id.unique())"
   ]
  },
  {
   "cell_type": "markdown",
   "id": "b8f293ef",
   "metadata": {},
   "source": [
    "With this in mind, how many shapes per route?\n",
    "\n",
    "For many (41%) routes, 2. One for inbound, one for outbound.\n",
    "<br>But for the remaining 60%, there  can easily be 5-10 paths, and some rare ones have 30-40 paths."
   ]
  },
  {
   "cell_type": "code",
   "execution_count": 18,
   "id": "00ac387b",
   "metadata": {},
   "outputs": [
    {
     "name": "stdout",
     "output_type": "stream",
     "text": [
      "41% of routes have the standard 2 paths\n"
     ]
    },
    {
     "data": {
      "image/png": "[encoded data removed]",
      "text/plain": [
       "<Figure size 432x288 with 1 Axes>"
      ]
     },
     "metadata": {
      "needs_background": "light"
     },
     "output_type": "display_data"
    }
   ],
   "source": [
    "shape_ids = pd.Series(shapes.shape_id.unique())\n",
    "\n",
    "def count_paths(route_id):\n",
    "    mask = shape_ids.apply(lambda x: route_id in x)\n",
    "    # Count up the number of positives\n",
    "    return sum(mask)\n",
    "    \n",
    "counts = routes.route_id.apply(count_paths).value_counts()\n",
    "counts.plot(kind=\"bar\")\n",
    "print(f\"{round(counts[2]/counts.sum()*100)}% of routes have the standard 2 paths\")"
   ]
  },
  {
   "cell_type": "markdown",
   "id": "82228ad6",
   "metadata": {},
   "source": [
    "Stop Times\n",
    "=="
   ]
  },
  {
   "cell_type": "code",
   "execution_count": 19,
   "id": "bd8c3ed9",
   "metadata": {},
   "outputs": [
    {
     "name": "stdout",
     "output_type": "stream",
     "text": [
      "Count: 6019184\n"
     ]
    },
    {
     "data": {
      "text/html": [
       "<div>\n",
       "<style scoped>\n",
       "    .dataframe tbody tr th:only-of-type {\n",
       "        vertical-align: middle;\n",
       "    }\n",
       "\n",
       "    .dataframe tbody tr th {\n",
       "        vertical-align: top;\n",
       "    }\n",
       "\n",
       "    .dataframe thead th {\n",
       "        text-align: right;\n",
       "    }\n",
       "</style>\n",
       "<table border=\"1\" class=\"dataframe\">\n",
       "  <thead>\n",
       "    <tr style=\"text-align: right;\">\n",
       "      <th></th>\n",
       "      <th>trip_id</th>\n",
       "      <th>arrival_time</th>\n",
       "      <th>departure_time</th>\n",
       "      <th>stop_id</th>\n",
       "      <th>stop_sequence</th>\n",
       "      <th>stop_headsign</th>\n",
       "      <th>pickup_type</th>\n",
       "      <th>drop_off_type</th>\n",
       "      <th>shape_dist_traveled</th>\n",
       "    </tr>\n",
       "  </thead>\n",
       "  <tbody>\n",
       "    <tr>\n",
       "      <th>0</th>\n",
       "      <td>1143.y1006.17-130-cm1-1.82.I</td>\n",
       "      <td>06:10:00</td>\n",
       "      <td>06:10:00</td>\n",
       "      <td>8260B136421</td>\n",
       "      <td>1</td>\n",
       "      <td>NaN</td>\n",
       "      <td>0</td>\n",
       "      <td>0</td>\n",
       "      <td>0.00</td>\n",
       "    </tr>\n",
       "    <tr>\n",
       "      <th>1</th>\n",
       "      <td>1143.y1006.17-130-cm1-1.82.I</td>\n",
       "      <td>06:18:00</td>\n",
       "      <td>06:18:00</td>\n",
       "      <td>8260B1324001</td>\n",
       "      <td>2</td>\n",
       "      <td>NaN</td>\n",
       "      <td>0</td>\n",
       "      <td>0</td>\n",
       "      <td>7572.44</td>\n",
       "    </tr>\n",
       "    <tr>\n",
       "      <th>2</th>\n",
       "      <td>1143.y1006.17-130-cm1-1.82.I</td>\n",
       "      <td>06:25:00</td>\n",
       "      <td>06:25:00</td>\n",
       "      <td>8260B1408801</td>\n",
       "      <td>3</td>\n",
       "      <td>NaN</td>\n",
       "      <td>0</td>\n",
       "      <td>0</td>\n",
       "      <td>15897.87</td>\n",
       "    </tr>\n",
       "    <tr>\n",
       "      <th>3</th>\n",
       "      <td>1143.y1006.17-130-cm1-1.82.I</td>\n",
       "      <td>06:32:00</td>\n",
       "      <td>06:32:00</td>\n",
       "      <td>8260B136431</td>\n",
       "      <td>4</td>\n",
       "      <td>NaN</td>\n",
       "      <td>0</td>\n",
       "      <td>0</td>\n",
       "      <td>22830.16</td>\n",
       "    </tr>\n",
       "    <tr>\n",
       "      <th>4</th>\n",
       "      <td>1143.y1006.17-130-cm1-1.82.I</td>\n",
       "      <td>06:34:00</td>\n",
       "      <td>06:34:00</td>\n",
       "      <td>8260B136391</td>\n",
       "      <td>5</td>\n",
       "      <td>NaN</td>\n",
       "      <td>0</td>\n",
       "      <td>0</td>\n",
       "      <td>24442.99</td>\n",
       "    </tr>\n",
       "  </tbody>\n",
       "</table>\n",
       "</div>"
      ],
      "text/plain": [
       "                        trip_id arrival_time departure_time       stop_id  \\\n",
       "0  1143.y1006.17-130-cm1-1.82.I     06:10:00       06:10:00   8260B136421   \n",
       "1  1143.y1006.17-130-cm1-1.82.I     06:18:00       06:18:00  8260B1324001   \n",
       "2  1143.y1006.17-130-cm1-1.82.I     06:25:00       06:25:00  8260B1408801   \n",
       "3  1143.y1006.17-130-cm1-1.82.I     06:32:00       06:32:00   8260B136431   \n",
       "4  1143.y1006.17-130-cm1-1.82.I     06:34:00       06:34:00   8260B136391   \n",
       "\n",
       "   stop_sequence stop_headsign  pickup_type  drop_off_type  \\\n",
       "0              1           NaN            0              0   \n",
       "1              2           NaN            0              0   \n",
       "2              3           NaN            0              0   \n",
       "3              4           NaN            0              0   \n",
       "4              5           NaN            0              0   \n",
       "\n",
       "   shape_dist_traveled  \n",
       "0                 0.00  \n",
       "1              7572.44  \n",
       "2             15897.87  \n",
       "3             22830.16  \n",
       "4             24442.99  "
      ]
     },
     "execution_count": 19,
     "metadata": {},
     "output_type": "execute_result"
    }
   ],
   "source": [
    "print(\"Count:\", len(stop_times))\n",
    "stop_times.head(5)"
   ]
  },
  {
   "cell_type": "markdown",
   "id": "eae0cfb1",
   "metadata": {},
   "source": [
    "This is the biggest table in the dataset, with 6 million entries. I'll come back to it, since the trip and stop tables are prerequisites for understanding this one."
   ]
  },
  {
   "cell_type": "markdown",
   "id": "3ccaba78",
   "metadata": {},
   "source": [
    "Stops\n",
    "=="
   ]
  },
  {
   "cell_type": "code",
   "execution_count": 20,
   "id": "0a33082b",
   "metadata": {},
   "outputs": [
    {
     "name": "stdout",
     "output_type": "stream",
     "text": [
      "Count: 10001\n"
     ]
    },
    {
     "data": {
      "text/html": [
       "<div>\n",
       "<style scoped>\n",
       "    .dataframe tbody tr th:only-of-type {\n",
       "        vertical-align: middle;\n",
       "    }\n",
       "\n",
       "    .dataframe tbody tr th {\n",
       "        vertical-align: top;\n",
       "    }\n",
       "\n",
       "    .dataframe thead th {\n",
       "        text-align: right;\n",
       "    }\n",
       "</style>\n",
       "<table border=\"1\" class=\"dataframe\">\n",
       "  <thead>\n",
       "    <tr style=\"text-align: right;\">\n",
       "      <th></th>\n",
       "      <th>stop_id</th>\n",
       "      <th>stop_name</th>\n",
       "      <th>stop_lat</th>\n",
       "      <th>stop_lon</th>\n",
       "    </tr>\n",
       "  </thead>\n",
       "  <tbody>\n",
       "    <tr>\n",
       "      <th>0</th>\n",
       "      <td>7010B158131</td>\n",
       "      <td>Ulsterbus Depot, stop 158131</td>\n",
       "      <td>54.996629</td>\n",
       "      <td>-7.317866</td>\n",
       "    </tr>\n",
       "    <tr>\n",
       "      <th>1</th>\n",
       "      <td>7010B158241</td>\n",
       "      <td>Magee Campus, stop 158241</td>\n",
       "      <td>55.004476</td>\n",
       "      <td>-7.321782</td>\n",
       "    </tr>\n",
       "    <tr>\n",
       "      <th>2</th>\n",
       "      <td>704000000229</td>\n",
       "      <td>Killeen Bridge</td>\n",
       "      <td>54.131009</td>\n",
       "      <td>-6.346082</td>\n",
       "    </tr>\n",
       "    <tr>\n",
       "      <th>3</th>\n",
       "      <td>7040B107131</td>\n",
       "      <td>Cullaville, stop 107131</td>\n",
       "      <td>54.062045</td>\n",
       "      <td>-6.643525</td>\n",
       "    </tr>\n",
       "    <tr>\n",
       "      <th>4</th>\n",
       "      <td>7040B139481</td>\n",
       "      <td>Newry, stop 139481</td>\n",
       "      <td>54.168253</td>\n",
       "      <td>-6.339098</td>\n",
       "    </tr>\n",
       "  </tbody>\n",
       "</table>\n",
       "</div>"
      ],
      "text/plain": [
       "        stop_id                     stop_name   stop_lat  stop_lon\n",
       "0   7010B158131  Ulsterbus Depot, stop 158131  54.996629 -7.317866\n",
       "1   7010B158241     Magee Campus, stop 158241  55.004476 -7.321782\n",
       "2  704000000229                Killeen Bridge  54.131009 -6.346082\n",
       "3   7040B107131       Cullaville, stop 107131  54.062045 -6.643525\n",
       "4   7040B139481            Newry, stop 139481  54.168253 -6.339098"
      ]
     },
     "execution_count": 20,
     "metadata": {},
     "output_type": "execute_result"
    }
   ],
   "source": [
    "print(\"Count:\", len(stops))\n",
    "stops.head(5)"
   ]
  },
  {
   "cell_type": "markdown",
   "id": "9daf6672",
   "metadata": {},
   "source": [
    "There are 10,000 stops in Ireland...\n",
    "<br>Luckily, we only have to worry about Dublin. I'm hoping there are less there.\n",
    "\n",
    "We can do a quick bounding box filter to get an idea of the difference..."
   ]
  },
  {
   "cell_type": "code",
   "execution_count": 21,
   "id": "1d06d2e0",
   "metadata": {},
   "outputs": [
    {
     "data": {
      "text/plain": [
       "4370"
      ]
     },
     "execution_count": 21,
     "metadata": {},
     "output_type": "execute_result"
    }
   ],
   "source": [
    "lat = stops.stop_lat\n",
    "lon = stops.stop_lon\n",
    "\n",
    "lat_bounded = (lat > 53.174) & (lat < 53.457)\n",
    "lon_bounded = (lon > -6.495) & (lon < -6.04)\n",
    "\n",
    "sum(lat_bounded & lon_bounded)"
   ]
  },
  {
   "cell_type": "markdown",
   "id": "66ae0fd3",
   "metadata": {},
   "source": [
    "And that is still over 4000. Hopefully this will be narrowed further when we consider Dublin Bus only? We'll see later."
   ]
  },
  {
   "cell_type": "markdown",
   "id": "6bff7a60",
   "metadata": {},
   "source": [
    "Q: Are stops ever both outbound and inbound for the same route? "
   ]
  },
  {
   "cell_type": "code",
   "execution_count": 22,
   "id": "d96c9065",
   "metadata": {},
   "outputs": [
    {
     "data": {
      "text/plain": [
       "'Indexing trip direction and route: 100% complete.'"
      ]
     },
     "metadata": {},
     "output_type": "display_data"
    },
    {
     "data": {
      "text/plain": [
       "'Collecting stops for inbound and outbound: 100% complete.'"
      ]
     },
     "metadata": {},
     "output_type": "display_data"
    },
    {
     "data": {
      "text/plain": [
       "'Comparing inbound and outbound stops'"
      ]
     },
     "metadata": {},
     "output_type": "display_data"
    },
    {
     "name": "stdout",
     "output_type": "stream",
     "text": [
      "Stops in a single route's outbound & inbound: 568/10001\n",
      "Routes with a common stop in inbound and outbound: 435/548\n"
     ]
    }
   ],
   "source": [
    "progress = Progress(\"Indexing trip direction and route\", len(trips))\n",
    "trip_direction = dict()\n",
    "trip_route = dict()\n",
    "for i in trips.index:\n",
    "    trip_id = trips.trip_id[i]\n",
    "    direction_id = trips.direction_id[i]\n",
    "    route_id = trips.route_id[i]\n",
    "    trip_direction[trip_id] = direction_id\n",
    "    trip_route[trip_id] = route_id\n",
    "    progress.update(i)\n",
    "progress.complete()\n",
    "\n",
    "progress = Progress(\"Collecting stops for inbound and outbound\", len(stop_times))\n",
    "route_outbound_stops = dict()\n",
    "route_inbound_stops = dict()\n",
    "for route_id in routes.route_id:\n",
    "    route_outbound_stops[route_id] = set()\n",
    "    route_inbound_stops[route_id] = set()\n",
    "for i in stop_times.index:\n",
    "    trip_id = stop_times.trip_id[i]\n",
    "    stop_id = stop_times.stop_id[i]\n",
    "    route_id = trip_route[trip_id]\n",
    "    direction_id = trip_direction[trip_id]\n",
    "    if direction_id == DIRECTION_OUTBOUND:\n",
    "        route_outbound_stops[route_id].add(stop_id)\n",
    "    else:\n",
    "        route_inbound_stops[route_id].add(stop_id)\n",
    "    progress.update(i)\n",
    "progress.complete()\n",
    "\n",
    "display(\"Comparing inbound and outbound stops\")\n",
    "result = set()\n",
    "route_count = 0\n",
    "for route_id in routes.route_id:\n",
    "    outbound = route_outbound_stops[route_id]\n",
    "    inbound = route_inbound_stops[route_id]\n",
    "    common = inbound & outbound\n",
    "    result.update(common)\n",
    "    if len(common) > 0: route_count += 1\n",
    "print(f\"Stops in a single route's outbound & inbound: {len(result)}/{len(stops)}\")\n",
    "print(f\"Routes with a common stop in inbound and outbound: {route_count}/{len(routes)}\")"
   ]
  },
  {
   "cell_type": "markdown",
   "id": "6e245a3b",
   "metadata": {},
   "source": [
    "Conclusion: Yes, some stops appear in both, but not many. So it makes sense in the database to have separate stop lists for inbound and outbound, though there will be a small overlap there.\n",
    "<br>(Also, while few stops are involved, almost all the routes are involved, which in interesting)"
   ]
  },
  {
   "cell_type": "markdown",
   "id": "bb9b42d8",
   "metadata": {},
   "source": [
    "Transfers\n",
    "=="
   ]
  },
  {
   "cell_type": "code",
   "execution_count": 20,
   "id": "83755f24",
   "metadata": {},
   "outputs": [
    {
     "name": "stdout",
     "output_type": "stream",
     "text": [
      "Count: 7151\n"
     ]
    },
    {
     "data": {
      "text/html": [
       "<div>\n",
       "<style scoped>\n",
       "    .dataframe tbody tr th:only-of-type {\n",
       "        vertical-align: middle;\n",
       "    }\n",
       "\n",
       "    .dataframe tbody tr th {\n",
       "        vertical-align: top;\n",
       "    }\n",
       "\n",
       "    .dataframe thead th {\n",
       "        text-align: right;\n",
       "    }\n",
       "</style>\n",
       "<table border=\"1\" class=\"dataframe\">\n",
       "  <thead>\n",
       "    <tr style=\"text-align: right;\">\n",
       "      <th></th>\n",
       "      <th>from_stop_id</th>\n",
       "      <th>to_stop_id</th>\n",
       "      <th>transfer_type</th>\n",
       "      <th>min_transfer_time</th>\n",
       "    </tr>\n",
       "  </thead>\n",
       "  <tbody>\n",
       "    <tr>\n",
       "      <th>0</th>\n",
       "      <td>8250DB003073</td>\n",
       "      <td>8250DB003040</td>\n",
       "      <td>2</td>\n",
       "      <td>60.0</td>\n",
       "    </tr>\n",
       "    <tr>\n",
       "      <th>1</th>\n",
       "      <td>8250DB003073</td>\n",
       "      <td>8250DB003039</td>\n",
       "      <td>2</td>\n",
       "      <td>240.0</td>\n",
       "    </tr>\n",
       "    <tr>\n",
       "      <th>2</th>\n",
       "      <td>8380B1553801</td>\n",
       "      <td>8380B1553501</td>\n",
       "      <td>2</td>\n",
       "      <td>0.0</td>\n",
       "    </tr>\n",
       "    <tr>\n",
       "      <th>3</th>\n",
       "      <td>8430B155401</td>\n",
       "      <td>8430B255231</td>\n",
       "      <td>2</td>\n",
       "      <td>0.0</td>\n",
       "    </tr>\n",
       "    <tr>\n",
       "      <th>4</th>\n",
       "      <td>8430B255231</td>\n",
       "      <td>8430B155401</td>\n",
       "      <td>2</td>\n",
       "      <td>0.0</td>\n",
       "    </tr>\n",
       "  </tbody>\n",
       "</table>\n",
       "</div>"
      ],
      "text/plain": [
       "   from_stop_id    to_stop_id  transfer_type  min_transfer_time\n",
       "0  8250DB003073  8250DB003040              2               60.0\n",
       "1  8250DB003073  8250DB003039              2              240.0\n",
       "2  8380B1553801  8380B1553501              2                0.0\n",
       "3   8430B155401   8430B255231              2                0.0\n",
       "4   8430B255231   8430B155401              2                0.0"
      ]
     },
     "execution_count": 20,
     "metadata": {},
     "output_type": "execute_result"
    }
   ],
   "source": [
    "print(\"Count:\", len(transfers))\n",
    "transfers.head(5)"
   ]
  },
  {
   "cell_type": "markdown",
   "id": "be2df81f",
   "metadata": {},
   "source": [
    "This is an interesting table, but **not relevant** to us.\n",
    "\n",
    "It describes links between nearby stops where users might switch routes.\n",
    "\n",
    "Figuring this out is a **routing** responsibility, which is beyond the scope of the app. We will let google do this!\n",
    "<br>(Gavin explicitly brought this up at one of the presentations)"
   ]
  },
  {
   "cell_type": "markdown",
   "id": "b06f1c86",
   "metadata": {},
   "source": [
    "Trips\n",
    "=="
   ]
  },
  {
   "cell_type": "code",
   "execution_count": 21,
   "id": "44a949aa",
   "metadata": {},
   "outputs": [
    {
     "name": "stdout",
     "output_type": "stream",
     "text": [
      "Count: 184095\n"
     ]
    },
    {
     "data": {
      "text/html": [
       "<div>\n",
       "<style scoped>\n",
       "    .dataframe tbody tr th:only-of-type {\n",
       "        vertical-align: middle;\n",
       "    }\n",
       "\n",
       "    .dataframe tbody tr th {\n",
       "        vertical-align: top;\n",
       "    }\n",
       "\n",
       "    .dataframe thead th {\n",
       "        text-align: right;\n",
       "    }\n",
       "</style>\n",
       "<table border=\"1\" class=\"dataframe\">\n",
       "  <thead>\n",
       "    <tr style=\"text-align: right;\">\n",
       "      <th></th>\n",
       "      <th>route_id</th>\n",
       "      <th>service_id</th>\n",
       "      <th>trip_id</th>\n",
       "      <th>shape_id</th>\n",
       "      <th>trip_headsign</th>\n",
       "      <th>direction_id</th>\n",
       "    </tr>\n",
       "  </thead>\n",
       "  <tbody>\n",
       "    <tr>\n",
       "      <th>0</th>\n",
       "      <td>10-100-e20-1</td>\n",
       "      <td>1</td>\n",
       "      <td>1954979.1.10-100-e20-1.232.I</td>\n",
       "      <td>10-100-e20-1.232.I</td>\n",
       "      <td>- Drogheda Bus Station</td>\n",
       "      <td>1</td>\n",
       "    </tr>\n",
       "    <tr>\n",
       "      <th>1</th>\n",
       "      <td>10-100-e20-1</td>\n",
       "      <td>1</td>\n",
       "      <td>1954981.1.10-100-e20-1.231.O</td>\n",
       "      <td>10-100-e20-1.231.O</td>\n",
       "      <td>Drogheda Bus Station -</td>\n",
       "      <td>0</td>\n",
       "    </tr>\n",
       "    <tr>\n",
       "      <th>2</th>\n",
       "      <td>10-100-e20-1</td>\n",
       "      <td>1</td>\n",
       "      <td>1954982.1.10-100-e20-1.232.I</td>\n",
       "      <td>10-100-e20-1.232.I</td>\n",
       "      <td>- Drogheda Bus Station</td>\n",
       "      <td>1</td>\n",
       "    </tr>\n",
       "    <tr>\n",
       "      <th>3</th>\n",
       "      <td>10-100-e20-1</td>\n",
       "      <td>1</td>\n",
       "      <td>1954983.1.10-100-e20-1.231.O</td>\n",
       "      <td>10-100-e20-1.231.O</td>\n",
       "      <td>Drogheda Bus Station -</td>\n",
       "      <td>0</td>\n",
       "    </tr>\n",
       "    <tr>\n",
       "      <th>4</th>\n",
       "      <td>10-100-e20-1</td>\n",
       "      <td>1</td>\n",
       "      <td>1954984.1.10-100-e20-1.232.I</td>\n",
       "      <td>10-100-e20-1.232.I</td>\n",
       "      <td>- Drogheda Bus Station</td>\n",
       "      <td>1</td>\n",
       "    </tr>\n",
       "  </tbody>\n",
       "</table>\n",
       "</div>"
      ],
      "text/plain": [
       "       route_id service_id                       trip_id            shape_id  \\\n",
       "0  10-100-e20-1          1  1954979.1.10-100-e20-1.232.I  10-100-e20-1.232.I   \n",
       "1  10-100-e20-1          1  1954981.1.10-100-e20-1.231.O  10-100-e20-1.231.O   \n",
       "2  10-100-e20-1          1  1954982.1.10-100-e20-1.232.I  10-100-e20-1.232.I   \n",
       "3  10-100-e20-1          1  1954983.1.10-100-e20-1.231.O  10-100-e20-1.231.O   \n",
       "4  10-100-e20-1          1  1954984.1.10-100-e20-1.232.I  10-100-e20-1.232.I   \n",
       "\n",
       "            trip_headsign  direction_id  \n",
       "0  - Drogheda Bus Station             1  \n",
       "1  Drogheda Bus Station -             0  \n",
       "2  - Drogheda Bus Station             1  \n",
       "3  Drogheda Bus Station -             0  \n",
       "4  - Drogheda Bus Station             1  "
      ]
     },
     "execution_count": 21,
     "metadata": {},
     "output_type": "execute_result"
    }
   ],
   "source": [
    "print(\"Count:\", len(trips))\n",
    "trips.head(5)"
   ]
  },
  {
   "cell_type": "markdown",
   "id": "ed0c756e",
   "metadata": {},
   "source": [
    "That is a lot of trips."
   ]
  },
  {
   "cell_type": "code",
   "execution_count": 23,
   "id": "6f86caca",
   "metadata": {},
   "outputs": [],
   "source": [
    "trips2 = trips.copy()\n",
    "# This takes a few mins! Hence it is commented out.\n",
    "#trips2[\"agency_id\"] = trips.route_id.apply(lambda x: routes[routes.route_id == x].agency_id.values[0])\n",
    "# sum(trips2.agency_id == \"978\")"
   ]
  },
  {
   "cell_type": "markdown",
   "id": "6718274b",
   "metadata": {},
   "source": [
    "Only 28,000 trips are from Dublin Bus."
   ]
  },
  {
   "cell_type": "markdown",
   "id": "dc3592f5",
   "metadata": {},
   "source": [
    "Q: How often are alternative paths used?"
   ]
  },
  {
   "cell_type": "code",
   "execution_count": 25,
   "id": "0f0e7874",
   "metadata": {},
   "outputs": [],
   "source": [
    "tallies = list()\n",
    "for route_id in routes.route_id:\n",
    "    route_trips = trips[trips.route_id == route_id]\n",
    "    shape_counts = route_trips.groupby(\"shape_id\").count().route_id.sort_values(ascending=False).values\n",
    "    for i, value in enumerate(shape_counts):\n",
    "        if len(tallies) <= i:\n",
    "            tallies.append(0)\n",
    "        tallies[i] += value  "
   ]
  },
  {
   "cell_type": "code",
   "execution_count": 26,
   "id": "d10f5956",
   "metadata": {},
   "outputs": [
    {
     "name": "stdout",
     "output_type": "stream",
     "text": [
      "84.94364322768136% of trips are along the main path for a route\n"
     ]
    },
    {
     "data": {
      "image/png": "[encoded data removed]",
      "text/plain": [
       "<Figure size 432x288 with 1 Axes>"
      ]
     },
     "metadata": {
      "needs_background": "light"
     },
     "output_type": "display_data"
    }
   ],
   "source": [
    "pd.Series(tallies).plot(kind=\"bar\")\n",
    "\n",
    "main_portion = (tallies[0] + tallies[1]) / sum(tallies)\n",
    "print(f\"{main_portion*100}% of trips are along the main path for a route\")"
   ]
  },
  {
   "cell_type": "markdown",
   "id": "acbd11bb",
   "metadata": {},
   "source": [
    "The results come in pairs, as expected, for incoming and outgoing\n",
    "\n",
    "On a minor note, there must be a number of routes for which the number of ingoing vs outgoing must be imbalanced.\n",
    "\n",
    "More significantly, we see that most (85%) of trips are along the main segment of a route.\n",
    "\n",
    "15% is still quite significant though!"
   ]
  },
  {
   "cell_type": "markdown",
   "id": "5bb1fbee",
   "metadata": {},
   "source": [
    "Q: Is there a 1-1 correspondence between shapes and collections of stops?\n",
    "<br>(At least within a route?)"
   ]
  },
  {
   "cell_type": "code",
   "execution_count": 65,
   "id": "4ef9767e",
   "metadata": {},
   "outputs": [
    {
     "data": {
      "text/markdown": [
       "Building trip stop lookup: 100% complete."
      ],
      "text/plain": [
       "<IPython.core.display.Markdown object>"
      ]
     },
     "metadata": {},
     "output_type": "display_data"
    },
    {
     "data": {
      "text/markdown": [
       "Checking stops against shapes: 100% complete."
      ],
      "text/plain": [
       "<IPython.core.display.Markdown object>"
      ]
     },
     "metadata": {},
     "output_type": "display_data"
    },
    {
     "name": "stdout",
     "output_type": "stream",
     "text": [
      "Passes: 181859\n",
      "Fails: 0\n"
     ]
    }
   ],
   "source": [
    "def check_shape_stops():\n",
    "    \n",
    "    # First build a lookup dictionary for trip stops.\n",
    "    \n",
    "    trip_stops = dict()\n",
    "    for trip_id in trips.trip_id:\n",
    "        trip_stops[trip_id] = set()\n",
    "    \n",
    "    section = stop_times.index[:]\n",
    "    progress = Progress(\"Building trip stop lookup\", len(section))\n",
    "    for i in section:\n",
    "        stop_id = stop_times.stop_id[i]\n",
    "        trip_id = stop_times.trip_id[i]\n",
    "        trip_stops[trip_id].add(stop_id)\n",
    "        if i % 10000 == 0:\n",
    "            progress.update(i)\n",
    "    progress.complete()\n",
    "    \n",
    "    # For each trip, note the shape ID and find the stops. \n",
    "    # If we've not encountered the shape ID before, note the stops\n",
    "    # If we have, check that the stops match\n",
    "    \n",
    "    pass_count = 0\n",
    "    fail_count = 0\n",
    "    print_limit = 5\n",
    "    \n",
    "    shape_stops = dict()\n",
    "    \n",
    "    progress = Progress(\"Checking stops against shapes\", len(trips.index))\n",
    "    for i in trips.index:\n",
    "\n",
    "        shape_id = trips.shape_id[i]\n",
    "        trip_id = trips.trip_id[i]\n",
    "        current_stops = trip_stops[trip_id]\n",
    "\n",
    "        if shape_id not in shape_stops:\n",
    "            shape_stops[shape_id] = current_stops\n",
    "        else:\n",
    "            if shape_stops[shape_id] != current_stops:\n",
    "                fail_count += 1\n",
    "            else:\n",
    "                pass_count += 1\n",
    "\n",
    "        if i % 1000 == 0:\n",
    "            progress.update(i)\n",
    "    progress.complete()\n",
    "    print(\"Passes:\", pass_count)\n",
    "    print(\"Fails:\", fail_count)\n",
    "    \n",
    "# This takes a few minutes to run, so its commented out for now.\n",
    "#check_shape_stops()"
   ]
  },
  {
   "cell_type": "markdown",
   "id": "e41f8bbb",
   "metadata": {},
   "source": [
    "So unique shapes do correspond to unique sets of stops, which is neat."
   ]
  },
  {
   "cell_type": "markdown",
   "id": "4ba5576b",
   "metadata": {},
   "source": [
    "Q: Is there a link between route variants and services?\n",
    "(Case study: 46a)"
   ]
  },
  {
   "cell_type": "code",
   "execution_count": 56,
   "id": "556c659e",
   "metadata": {},
   "outputs": [],
   "source": [
    "def get_services_by_variant(route_short_name):\n",
    "    \n",
    "    service_routes = dict()\n",
    "    \n",
    "    variants = routes[routes.route_short_name == route_short_name].route_id.values\n",
    "    \n",
    "    for variant in variants:\n",
    "        \n",
    "        route_services = set()\n",
    "        for i in trips[trips.route_id == variant].index:\n",
    "            route_services.add(trips.service_id[i])\n",
    "            \n",
    "        for service in route_services:\n",
    "            if service not in service_routes:\n",
    "                service_routes[service] = set()\n",
    "            service_routes[service].add(variant)\n",
    "    \n",
    "    return service_routes"
   ]
  },
  {
   "cell_type": "code",
   "execution_count": 59,
   "id": "7872171a",
   "metadata": {},
   "outputs": [
    {
     "name": "stdout",
     "output_type": "stream",
     "text": [
      "y1003#1: 60-46A-b12-1\n",
      "y1004#1: 60-46A-b12-1\n",
      "y1005#2: 60-46A-b12-1\n",
      "y1005#1: 60-46A-d12-1\n",
      "y1006#1: 60-46A-d12-1\n"
     ]
    }
   ],
   "source": [
    "result = get_services_by_variant(\"46A\")\n",
    "for key in result:\n",
    "    print(str(key) + \": \", end=\"\")\n",
    "    print(\", \".join(result[key]))"
   ]
  },
  {
   "cell_type": "markdown",
   "id": "11ad7b8e",
   "metadata": {},
   "source": [
    "For the 46A, yes! There is no overlap at all.\n",
    "<br>Does the same hold in general?"
   ]
  },
  {
   "cell_type": "code",
   "execution_count": 65,
   "id": "d0e15b37",
   "metadata": {},
   "outputs": [
    {
     "name": "stdout",
     "output_type": "stream",
     "text": [
      "Count of when a route has multiple variants for a service:  0\n"
     ]
    }
   ],
   "source": [
    "count = 0\n",
    "silence_limit = 5 # Don't give a flood of messages\n",
    "\n",
    "route_names = routes.route_short_name.unique()\n",
    "\n",
    "for route_name in route_names:\n",
    "    \n",
    "    result = get_services_by_variant(route_name)\n",
    "    for key, value in result.items():\n",
    "        # print(str(key) + \": \", end=\"\")\n",
    "        # print(\", \".join(result[key]))\n",
    "        if len(value) > 1:\n",
    "            count += 1\n",
    "    \n",
    "print(\"Count of when a route has multiple variants for a service: \", count)\n"
   ]
  },
  {
   "cell_type": "markdown",
   "id": "a446d6ea",
   "metadata": {},
   "source": [
    "Apparently it does. I find this a tad suspect (I could have abug in my code), and wouldn't rely on it, but it does help provide a reason for why a single route short name might correspond to multiple routes."
   ]
  },
  {
   "cell_type": "code",
   "execution_count": 33,
   "id": "ceed8b44",
   "metadata": {},
   "outputs": [
    {
     "data": {
      "text/html": [
       "<div>\n",
       "<style scoped>\n",
       "    .dataframe tbody tr th:only-of-type {\n",
       "        vertical-align: middle;\n",
       "    }\n",
       "\n",
       "    .dataframe tbody tr th {\n",
       "        vertical-align: top;\n",
       "    }\n",
       "\n",
       "    .dataframe thead th {\n",
       "        text-align: right;\n",
       "    }\n",
       "</style>\n",
       "<table border=\"1\" class=\"dataframe\">\n",
       "  <thead>\n",
       "    <tr style=\"text-align: right;\">\n",
       "      <th></th>\n",
       "      <th>trip_id</th>\n",
       "      <th>arrival_time</th>\n",
       "      <th>departure_time</th>\n",
       "      <th>stop_id</th>\n",
       "      <th>stop_sequence</th>\n",
       "      <th>stop_headsign</th>\n",
       "      <th>pickup_type</th>\n",
       "      <th>drop_off_type</th>\n",
       "      <th>shape_dist_traveled</th>\n",
       "    </tr>\n",
       "  </thead>\n",
       "  <tbody>\n",
       "    <tr>\n",
       "      <th>0</th>\n",
       "      <td>1143.y1006.17-130-cm1-1.82.I</td>\n",
       "      <td>06:10:00</td>\n",
       "      <td>06:10:00</td>\n",
       "      <td>8260B136421</td>\n",
       "      <td>1</td>\n",
       "      <td>NaN</td>\n",
       "      <td>0</td>\n",
       "      <td>0</td>\n",
       "      <td>0.00</td>\n",
       "    </tr>\n",
       "    <tr>\n",
       "      <th>1</th>\n",
       "      <td>1143.y1006.17-130-cm1-1.82.I</td>\n",
       "      <td>06:18:00</td>\n",
       "      <td>06:18:00</td>\n",
       "      <td>8260B1324001</td>\n",
       "      <td>2</td>\n",
       "      <td>NaN</td>\n",
       "      <td>0</td>\n",
       "      <td>0</td>\n",
       "      <td>7572.44</td>\n",
       "    </tr>\n",
       "    <tr>\n",
       "      <th>2</th>\n",
       "      <td>1143.y1006.17-130-cm1-1.82.I</td>\n",
       "      <td>06:25:00</td>\n",
       "      <td>06:25:00</td>\n",
       "      <td>8260B1408801</td>\n",
       "      <td>3</td>\n",
       "      <td>NaN</td>\n",
       "      <td>0</td>\n",
       "      <td>0</td>\n",
       "      <td>15897.87</td>\n",
       "    </tr>\n",
       "    <tr>\n",
       "      <th>3</th>\n",
       "      <td>1143.y1006.17-130-cm1-1.82.I</td>\n",
       "      <td>06:32:00</td>\n",
       "      <td>06:32:00</td>\n",
       "      <td>8260B136431</td>\n",
       "      <td>4</td>\n",
       "      <td>NaN</td>\n",
       "      <td>0</td>\n",
       "      <td>0</td>\n",
       "      <td>22830.16</td>\n",
       "    </tr>\n",
       "    <tr>\n",
       "      <th>4</th>\n",
       "      <td>1143.y1006.17-130-cm1-1.82.I</td>\n",
       "      <td>06:34:00</td>\n",
       "      <td>06:34:00</td>\n",
       "      <td>8260B136391</td>\n",
       "      <td>5</td>\n",
       "      <td>NaN</td>\n",
       "      <td>0</td>\n",
       "      <td>0</td>\n",
       "      <td>24442.99</td>\n",
       "    </tr>\n",
       "    <tr>\n",
       "      <th>5</th>\n",
       "      <td>1143.y1006.17-130-cm1-1.82.I</td>\n",
       "      <td>06:37:00</td>\n",
       "      <td>06:37:00</td>\n",
       "      <td>8260B136381</td>\n",
       "      <td>6</td>\n",
       "      <td>NaN</td>\n",
       "      <td>0</td>\n",
       "      <td>0</td>\n",
       "      <td>25765.36</td>\n",
       "    </tr>\n",
       "    <tr>\n",
       "      <th>6</th>\n",
       "      <td>1143.y1006.17-130-cm1-1.82.I</td>\n",
       "      <td>06:40:00</td>\n",
       "      <td>06:40:00</td>\n",
       "      <td>8260B136371</td>\n",
       "      <td>7</td>\n",
       "      <td>NaN</td>\n",
       "      <td>0</td>\n",
       "      <td>0</td>\n",
       "      <td>28060.98</td>\n",
       "    </tr>\n",
       "    <tr>\n",
       "      <th>7</th>\n",
       "      <td>1143.y1006.17-130-cm1-1.82.I</td>\n",
       "      <td>06:43:00</td>\n",
       "      <td>06:43:00</td>\n",
       "      <td>8260B136361</td>\n",
       "      <td>8</td>\n",
       "      <td>NaN</td>\n",
       "      <td>0</td>\n",
       "      <td>0</td>\n",
       "      <td>31887.21</td>\n",
       "    </tr>\n",
       "    <tr>\n",
       "      <th>8</th>\n",
       "      <td>1143.y1006.17-130-cm1-1.82.I</td>\n",
       "      <td>06:48:00</td>\n",
       "      <td>06:50:00</td>\n",
       "      <td>8260B1370001</td>\n",
       "      <td>9</td>\n",
       "      <td>NaN</td>\n",
       "      <td>0</td>\n",
       "      <td>0</td>\n",
       "      <td>34646.87</td>\n",
       "    </tr>\n",
       "    <tr>\n",
       "      <th>9</th>\n",
       "      <td>1143.y1006.17-130-cm1-1.82.I</td>\n",
       "      <td>06:51:00</td>\n",
       "      <td>06:51:00</td>\n",
       "      <td>8260B1042001</td>\n",
       "      <td>10</td>\n",
       "      <td>NaN</td>\n",
       "      <td>0</td>\n",
       "      <td>0</td>\n",
       "      <td>34945.86</td>\n",
       "    </tr>\n",
       "    <tr>\n",
       "      <th>10</th>\n",
       "      <td>1143.y1006.17-130-cm1-1.82.I</td>\n",
       "      <td>06:52:00</td>\n",
       "      <td>06:52:00</td>\n",
       "      <td>8260B1042101</td>\n",
       "      <td>11</td>\n",
       "      <td>NaN</td>\n",
       "      <td>0</td>\n",
       "      <td>0</td>\n",
       "      <td>35428.69</td>\n",
       "    </tr>\n",
       "    <tr>\n",
       "      <th>11</th>\n",
       "      <td>1143.y1006.17-130-cm1-1.82.I</td>\n",
       "      <td>06:54:00</td>\n",
       "      <td>06:54:00</td>\n",
       "      <td>8260B1042201</td>\n",
       "      <td>12</td>\n",
       "      <td>NaN</td>\n",
       "      <td>0</td>\n",
       "      <td>0</td>\n",
       "      <td>36055.03</td>\n",
       "    </tr>\n",
       "    <tr>\n",
       "      <th>12</th>\n",
       "      <td>1143.y1006.17-130-cm1-1.82.I</td>\n",
       "      <td>06:55:00</td>\n",
       "      <td>06:55:00</td>\n",
       "      <td>8260B1042301</td>\n",
       "      <td>13</td>\n",
       "      <td>NaN</td>\n",
       "      <td>0</td>\n",
       "      <td>0</td>\n",
       "      <td>36309.20</td>\n",
       "    </tr>\n",
       "    <tr>\n",
       "      <th>13</th>\n",
       "      <td>1143.y1006.17-130-cm1-1.82.I</td>\n",
       "      <td>06:57:00</td>\n",
       "      <td>06:57:00</td>\n",
       "      <td>8260B1042401</td>\n",
       "      <td>14</td>\n",
       "      <td>NaN</td>\n",
       "      <td>0</td>\n",
       "      <td>0</td>\n",
       "      <td>37090.99</td>\n",
       "    </tr>\n",
       "    <tr>\n",
       "      <th>14</th>\n",
       "      <td>1143.y1006.17-130-cm1-1.82.I</td>\n",
       "      <td>07:24:00</td>\n",
       "      <td>07:24:00</td>\n",
       "      <td>8230DB001977</td>\n",
       "      <td>15</td>\n",
       "      <td>NaN</td>\n",
       "      <td>1</td>\n",
       "      <td>0</td>\n",
       "      <td>59050.66</td>\n",
       "    </tr>\n",
       "    <tr>\n",
       "      <th>15</th>\n",
       "      <td>1143.y1006.17-130-cm1-1.82.I</td>\n",
       "      <td>07:27:00</td>\n",
       "      <td>07:27:00</td>\n",
       "      <td>8220DB004406</td>\n",
       "      <td>16</td>\n",
       "      <td>NaN</td>\n",
       "      <td>1</td>\n",
       "      <td>0</td>\n",
       "      <td>60834.79</td>\n",
       "    </tr>\n",
       "    <tr>\n",
       "      <th>16</th>\n",
       "      <td>1143.y1006.17-130-cm1-1.82.I</td>\n",
       "      <td>07:30:00</td>\n",
       "      <td>07:30:00</td>\n",
       "      <td>8220DB001988</td>\n",
       "      <td>17</td>\n",
       "      <td>NaN</td>\n",
       "      <td>1</td>\n",
       "      <td>0</td>\n",
       "      <td>62424.18</td>\n",
       "    </tr>\n",
       "    <tr>\n",
       "      <th>17</th>\n",
       "      <td>1143.y1006.17-130-cm1-1.82.I</td>\n",
       "      <td>07:37:00</td>\n",
       "      <td>07:37:00</td>\n",
       "      <td>8220DB004413</td>\n",
       "      <td>18</td>\n",
       "      <td>NaN</td>\n",
       "      <td>1</td>\n",
       "      <td>0</td>\n",
       "      <td>64823.50</td>\n",
       "    </tr>\n",
       "    <tr>\n",
       "      <th>18</th>\n",
       "      <td>1143.y1006.17-130-cm1-1.82.I</td>\n",
       "      <td>07:47:00</td>\n",
       "      <td>07:47:00</td>\n",
       "      <td>8220DB000316</td>\n",
       "      <td>19</td>\n",
       "      <td>NaN</td>\n",
       "      <td>1</td>\n",
       "      <td>0</td>\n",
       "      <td>67097.63</td>\n",
       "    </tr>\n",
       "    <tr>\n",
       "      <th>19</th>\n",
       "      <td>1143.y1006.17-130-cm1-1.82.I</td>\n",
       "      <td>07:49:00</td>\n",
       "      <td>07:49:00</td>\n",
       "      <td>8220DB000340</td>\n",
       "      <td>20</td>\n",
       "      <td>NaN</td>\n",
       "      <td>1</td>\n",
       "      <td>0</td>\n",
       "      <td>67507.60</td>\n",
       "    </tr>\n",
       "    <tr>\n",
       "      <th>20</th>\n",
       "      <td>1143.y1006.17-130-cm1-1.82.I</td>\n",
       "      <td>07:52:00</td>\n",
       "      <td>07:52:00</td>\n",
       "      <td>8220DB002809</td>\n",
       "      <td>21</td>\n",
       "      <td>NaN</td>\n",
       "      <td>1</td>\n",
       "      <td>0</td>\n",
       "      <td>68306.49</td>\n",
       "    </tr>\n",
       "    <tr>\n",
       "      <th>21</th>\n",
       "      <td>1143.y1006.17-130-cm1-1.82.I</td>\n",
       "      <td>07:53:00</td>\n",
       "      <td>07:53:00</td>\n",
       "      <td>8220DB002811</td>\n",
       "      <td>22</td>\n",
       "      <td>NaN</td>\n",
       "      <td>1</td>\n",
       "      <td>0</td>\n",
       "      <td>68761.12</td>\n",
       "    </tr>\n",
       "  </tbody>\n",
       "</table>\n",
       "</div>"
      ],
      "text/plain": [
       "                         trip_id arrival_time departure_time       stop_id  \\\n",
       "0   1143.y1006.17-130-cm1-1.82.I     06:10:00       06:10:00   8260B136421   \n",
       "1   1143.y1006.17-130-cm1-1.82.I     06:18:00       06:18:00  8260B1324001   \n",
       "2   1143.y1006.17-130-cm1-1.82.I     06:25:00       06:25:00  8260B1408801   \n",
       "3   1143.y1006.17-130-cm1-1.82.I     06:32:00       06:32:00   8260B136431   \n",
       "4   1143.y1006.17-130-cm1-1.82.I     06:34:00       06:34:00   8260B136391   \n",
       "5   1143.y1006.17-130-cm1-1.82.I     06:37:00       06:37:00   8260B136381   \n",
       "6   1143.y1006.17-130-cm1-1.82.I     06:40:00       06:40:00   8260B136371   \n",
       "7   1143.y1006.17-130-cm1-1.82.I     06:43:00       06:43:00   8260B136361   \n",
       "8   1143.y1006.17-130-cm1-1.82.I     06:48:00       06:50:00  8260B1370001   \n",
       "9   1143.y1006.17-130-cm1-1.82.I     06:51:00       06:51:00  8260B1042001   \n",
       "10  1143.y1006.17-130-cm1-1.82.I     06:52:00       06:52:00  8260B1042101   \n",
       "11  1143.y1006.17-130-cm1-1.82.I     06:54:00       06:54:00  8260B1042201   \n",
       "12  1143.y1006.17-130-cm1-1.82.I     06:55:00       06:55:00  8260B1042301   \n",
       "13  1143.y1006.17-130-cm1-1.82.I     06:57:00       06:57:00  8260B1042401   \n",
       "14  1143.y1006.17-130-cm1-1.82.I     07:24:00       07:24:00  8230DB001977   \n",
       "15  1143.y1006.17-130-cm1-1.82.I     07:27:00       07:27:00  8220DB004406   \n",
       "16  1143.y1006.17-130-cm1-1.82.I     07:30:00       07:30:00  8220DB001988   \n",
       "17  1143.y1006.17-130-cm1-1.82.I     07:37:00       07:37:00  8220DB004413   \n",
       "18  1143.y1006.17-130-cm1-1.82.I     07:47:00       07:47:00  8220DB000316   \n",
       "19  1143.y1006.17-130-cm1-1.82.I     07:49:00       07:49:00  8220DB000340   \n",
       "20  1143.y1006.17-130-cm1-1.82.I     07:52:00       07:52:00  8220DB002809   \n",
       "21  1143.y1006.17-130-cm1-1.82.I     07:53:00       07:53:00  8220DB002811   \n",
       "\n",
       "    stop_sequence stop_headsign  pickup_type  drop_off_type  \\\n",
       "0               1           NaN            0              0   \n",
       "1               2           NaN            0              0   \n",
       "2               3           NaN            0              0   \n",
       "3               4           NaN            0              0   \n",
       "4               5           NaN            0              0   \n",
       "5               6           NaN            0              0   \n",
       "6               7           NaN            0              0   \n",
       "7               8           NaN            0              0   \n",
       "8               9           NaN            0              0   \n",
       "9              10           NaN            0              0   \n",
       "10             11           NaN            0              0   \n",
       "11             12           NaN            0              0   \n",
       "12             13           NaN            0              0   \n",
       "13             14           NaN            0              0   \n",
       "14             15           NaN            1              0   \n",
       "15             16           NaN            1              0   \n",
       "16             17           NaN            1              0   \n",
       "17             18           NaN            1              0   \n",
       "18             19           NaN            1              0   \n",
       "19             20           NaN            1              0   \n",
       "20             21           NaN            1              0   \n",
       "21             22           NaN            1              0   \n",
       "\n",
       "    shape_dist_traveled  \n",
       "0                  0.00  \n",
       "1               7572.44  \n",
       "2              15897.87  \n",
       "3              22830.16  \n",
       "4              24442.99  \n",
       "5              25765.36  \n",
       "6              28060.98  \n",
       "7              31887.21  \n",
       "8              34646.87  \n",
       "9              34945.86  \n",
       "10             35428.69  \n",
       "11             36055.03  \n",
       "12             36309.20  \n",
       "13             37090.99  \n",
       "14             59050.66  \n",
       "15             60834.79  \n",
       "16             62424.18  \n",
       "17             64823.50  \n",
       "18             67097.63  \n",
       "19             67507.60  \n",
       "20             68306.49  \n",
       "21             68761.12  "
      ]
     },
     "execution_count": 33,
     "metadata": {},
     "output_type": "execute_result"
    }
   ],
   "source": [
    "stop_times[stop_times.trip_id == \"1143.y1006.17-130-cm1-1.82.I\"]"
   ]
  }
 ],
 "metadata": {
  "kernelspec": {
   "display_name": "Python 3",
   "language": "python",
   "name": "python3"
  },
  "language_info": {
   "codemirror_mode": {
    "name": "ipython",
    "version": 3
   },
   "file_extension": ".py",
   "mimetype": "text/x-python",
   "name": "python",
   "nbconvert_exporter": "python",
   "pygments_lexer": "ipython3",
   "version": "3.8.10"
  }
 },
 "nbformat": 4,
 "nbformat_minor": 5
}
