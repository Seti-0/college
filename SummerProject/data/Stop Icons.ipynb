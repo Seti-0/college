{
 "cells": [
  {
   "cell_type": "code",
   "execution_count": 227,
   "id": "494ce0aa",
   "metadata": {},
   "outputs": [],
   "source": [
    "from sqlalchemy import create_engine\n",
    "import pandas as pd\n",
    "import re\n",
    "\n",
    "from datetime import datetime, timedelta\n",
    "import matplotlib\n",
    "\n",
    "import numpy as np\n",
    "import math\n",
    "\n",
    "import ipycanvas as ic\n",
    "from dataclasses import dataclass\n",
    "import colorsys"
   ]
  },
  {
   "cell_type": "markdown",
   "id": "eec491dd",
   "metadata": {},
   "source": [
    "# Stop Icons (Ignore this notebook)\n",
    "\n",
    "This notebook is more for fun with colors than for anything else - I'd be interested in finding a nice color representation of routes from stop icons, but have yet to figure out anything that is not painful to look at!"
   ]
  },
  {
   "cell_type": "code",
   "execution_count": 3,
   "id": "78241836",
   "metadata": {},
   "outputs": [
    {
     "name": "stdout",
     "output_type": "stream",
     "text": [
      "Successfully tested DB connection\n"
     ]
    }
   ],
   "source": [
    "USER = \"admin\"\n",
    "PASSWORD = \"12345678\"\n",
    "HOST = \"dublinbus.cwaixvtk8gyq.us-east-1.rds.amazonaws.com\"\n",
    "PORT = 3306\n",
    "SCHEMA = \"dublin_bus\"\n",
    "CONNECTION_STRING = f\"mysql://{USER}:{PASSWORD}@{HOST}:{PORT}/{SCHEMA}\"\n",
    "\n",
    "engine = create_engine(CONNECTION_STRING)\n",
    "with engine.connect():\n",
    "    print(\"Successfully tested DB connection\")"
   ]
  },
  {
   "cell_type": "markdown",
   "id": "ed38c00a",
   "metadata": {},
   "source": [
    "First, retrieve data linking stops to route lines and agencies."
   ]
  },
  {
   "cell_type": "code",
   "execution_count": 205,
   "id": "f3b41fb7",
   "metadata": {},
   "outputs": [
    {
     "data": {
      "text/html": [
       "<div>\n",
       "<style scoped>\n",
       "    .dataframe tbody tr th:only-of-type {\n",
       "        vertical-align: middle;\n",
       "    }\n",
       "\n",
       "    .dataframe tbody tr th {\n",
       "        vertical-align: top;\n",
       "    }\n",
       "\n",
       "    .dataframe thead th {\n",
       "        text-align: right;\n",
       "    }\n",
       "</style>\n",
       "<table border=\"1\" class=\"dataframe\">\n",
       "  <thead>\n",
       "    <tr style=\"text-align: right;\">\n",
       "      <th></th>\n",
       "      <th>main</th>\n",
       "      <th>agency</th>\n",
       "      <th>line</th>\n",
       "      <th>direction</th>\n",
       "      <th>stop_id</th>\n",
       "      <th>stop_name</th>\n",
       "      <th>lon</th>\n",
       "      <th>lat</th>\n",
       "    </tr>\n",
       "  </thead>\n",
       "  <tbody>\n",
       "    <tr>\n",
       "      <th>0</th>\n",
       "      <td>1</td>\n",
       "      <td>03C</td>\n",
       "      <td>125</td>\n",
       "      <td>0</td>\n",
       "      <td>4624</td>\n",
       "      <td>Johnstown</td>\n",
       "      <td>-6.625139</td>\n",
       "      <td>53.235648</td>\n",
       "    </tr>\n",
       "    <tr>\n",
       "      <th>1</th>\n",
       "      <td>1</td>\n",
       "      <td>03C</td>\n",
       "      <td>125</td>\n",
       "      <td>0</td>\n",
       "      <td>2387</td>\n",
       "      <td>Newlands Cross</td>\n",
       "      <td>-6.391883</td>\n",
       "      <td>53.312516</td>\n",
       "    </tr>\n",
       "  </tbody>\n",
       "</table>\n",
       "</div>"
      ],
      "text/plain": [
       "   main agency line  direction  stop_id       stop_name       lon        lat\n",
       "0     1    03C  125          0     4624       Johnstown -6.625139  53.235648\n",
       "1     1    03C  125          0     2387  Newlands Cross -6.391883  53.312516"
      ]
     },
     "execution_count": 205,
     "metadata": {},
     "output_type": "execute_result"
    }
   ],
   "source": [
    "query = \"\"\"\n",
    "    SELECT \n",
    "        main,\n",
    "        api_agency.external_id as agency, \n",
    "        api_routenames.`name` as line, \n",
    "        direction, \n",
    "        stop_id, \n",
    "        api_stops.`name` as stop_name, \n",
    "        lon, \n",
    "        lat \n",
    "    FROM \n",
    "        api_routestops\n",
    "        JOIN api_agency ON agency_id = api_agency.id\n",
    "        JOIN api_routenames ON name_id = api_routenames.id\n",
    "        JOIN api_stops ON stop_id = api_stops.id\n",
    "\"\"\"\n",
    "\n",
    "stop_data = pd.read_sql(query, engine)\n",
    "stop_data.head(2)"
   ]
  },
  {
   "cell_type": "markdown",
   "id": "43fda472",
   "metadata": {},
   "source": [
    "Now, for each stop, note the position & name, and lines that go by."
   ]
  },
  {
   "cell_type": "code",
   "execution_count": 221,
   "id": "aab6a1c6",
   "metadata": {},
   "outputs": [],
   "source": [
    "@dataclass\n",
    "class Stop:\n",
    "    name: str\n",
    "    lon: str\n",
    "    lat: str\n",
    "    lines: list\n",
    "    # These will be set in a later cell\n",
    "    x: float = 0\n",
    "    y: float = 0\n",
    "        \n",
    "@dataclass \n",
    "class StopLine:\n",
    "    name: str\n",
    "    direction: int\n",
    "    agency: str\n",
    "        \n",
    "def get_bus_data(agencies=\"all\", lines=\"all\"):\n",
    "\n",
    "    data = stop_data.values\n",
    "    stops = dict()\n",
    "\n",
    "    for main, agency, line, direction, stop_id, stop_name, lon, lat in data:\n",
    "\n",
    "        stop = stops.get(stop_id, None)\n",
    "\n",
    "        if stop is None:\n",
    "            stop = Stop(\n",
    "                name = stop_name,  \n",
    "                lon = lon,\n",
    "                lat = lat,\n",
    "                lines = list()\n",
    "            )\n",
    "            stops[stop_id] = stop\n",
    "\n",
    "        if main == 0:\n",
    "            continue\n",
    "            \n",
    "        if agencies != \"all\" and agency not in agencies:\n",
    "            continue\n",
    "            \n",
    "        if lines != \"all\" and line not in lines:\n",
    "            continue\n",
    "            \n",
    "        stop.lines.append(StopLine(\n",
    "            name = line,\n",
    "            direction = direction,\n",
    "            agency = agency\n",
    "        ))\n",
    "                \n",
    "    # Remove stops which with the filter have no lines.\n",
    "    for stop_id, stop in list(stops.items()):\n",
    "        if len(stop.lines) == 0:\n",
    "            del stops[stop_id]\n",
    "            \n",
    "    return stops"
   ]
  },
  {
   "cell_type": "markdown",
   "id": "edd90a3c",
   "metadata": {},
   "source": [
    "(Test)"
   ]
  },
  {
   "cell_type": "code",
   "execution_count": 222,
   "id": "fb0b8c09",
   "metadata": {},
   "outputs": [
    {
     "data": {
      "text/plain": [
       "Stop(name='Donnybrook Church', lon=-6.23056195593035, lat=53.318330187289, lines=[StopLine(name='46A', direction=0, agency='978')], x=0, y=0)"
      ]
     },
     "execution_count": 222,
     "metadata": {},
     "output_type": "execute_result"
    }
   ],
   "source": [
    "next(iter(get_bus_data(lines=[\"46A\"]).values()))"
   ]
  },
  {
   "cell_type": "markdown",
   "id": "30212300",
   "metadata": {},
   "source": [
    "Once last thing on the data front is that I'd like to draw these stops, and filling in normalized coords would be a good place to start there"
   ]
  },
  {
   "cell_type": "code",
   "execution_count": 224,
   "id": "93577080",
   "metadata": {},
   "outputs": [],
   "source": [
    "def get_data(*args, **kwargs):\n",
    "\n",
    "    data = get_bus_data(*args, **kwargs)\n",
    "    \n",
    "    # No lat/lon will reach 1000\n",
    "    min_x = min_y = 1000\n",
    "    max_x = max_y = -1000\n",
    "\n",
    "    for stop in data.values():\n",
    "\n",
    "        if stop.lat < min_y: \n",
    "            min_y = stop.lat\n",
    "\n",
    "        if stop.lat > max_y:\n",
    "            max_y = stop.lat\n",
    "\n",
    "        if stop.lon < min_x:\n",
    "            min_x = stop.lon\n",
    "\n",
    "        if stop.lon > max_x:\n",
    "            max_x = stop.lon\n",
    "\n",
    "    for stop in data.values():\n",
    "\n",
    "        stop.x = (stop.lon - min_x) / (max_x - min_x)\n",
    "        stop.y = (stop.lat - min_y) / (max_y - min_y)\n",
    "        \n",
    "    return data"
   ]
  },
  {
   "cell_type": "markdown",
   "id": "f76f4689",
   "metadata": {},
   "source": [
    "Drawing the stops, with the option to zoom in on a window."
   ]
  },
  {
   "cell_type": "code",
   "execution_count": 469,
   "id": "7b914b8a",
   "metadata": {},
   "outputs": [],
   "source": [
    "def draw_all(data, draw_single, x=0.5, y=0.5, zoom=1, w=300, h=None, size=1, bg=\"#eeeeee\"):\n",
    "\n",
    "    stretch_y = 1.2\n",
    "    if h is None:\n",
    "        h = w*stretch_y\n",
    "    \n",
    "    canvas = ic.Canvas(width=w, height=h)\n",
    "    display(canvas)\n",
    "    if bg is not None:\n",
    "        canvas.fill_style = bg\n",
    "        canvas.fill_rect(0, 0, w, h)\n",
    "    \n",
    "    screen_w = w\n",
    "    screen_h = min(h, w)\n",
    "    window_x = x - 0.5/zoom\n",
    "    window_y = y - 0.5/zoom\n",
    "    \n",
    "    def transform(x, y):\n",
    "        return (\n",
    "            screen_w*(zoom*(x - window_x)),\n",
    "            screen_h*(zoom*(y - window_y))*stretch_y\n",
    "        )\n",
    "    \n",
    "    with ic.hold_canvas(canvas):\n",
    "        for stop in list(data.values()):\n",
    "            stop_x, stop_y = transform(stop.x, stop.y)\n",
    "            draw_single(stop, canvas, stop_x, stop_y, size*zoom)"
   ]
  },
  {
   "cell_type": "markdown",
   "id": "b3fd2465",
   "metadata": {},
   "source": [
    "I'm not sure the coordinates are right - we seem to have lost Cork?\n",
    "<br>I'm more interested in stop colors though, a rough position is fine for now.m"
   ]
  },
  {
   "cell_type": "code",
   "execution_count": 470,
   "id": "8045669a",
   "metadata": {},
   "outputs": [
    {
     "data": {
      "application/vnd.jupyter.widget-view+json": {
       "model_id": "0d45c43dcc8042caa0c351aa208dd613",
       "version_major": 2,
       "version_minor": 0
      },
      "text/plain": [
       "Canvas(height=400, width=300)"
      ]
     },
     "metadata": {},
     "output_type": "display_data"
    }
   ],
   "source": [
    "def simple_red(stop, canvas, x, y, size):\n",
    "    canvas.fill_style = \"#ff0000\"\n",
    "    canvas.fill_circle(x, y, size)\n",
    "\n",
    "draw_all(get_data(), simple_red, 0.5, 0.5, 1, 300, 400, size=1)"
   ]
  },
  {
   "cell_type": "markdown",
   "id": "85aa61d0",
   "metadata": {},
   "source": [
    "Incidentally - 978 is Dublin Bus, which is our primary concern. But they have been outsourcing common routes to GoAhead, so adding them in seems important as well."
   ]
  },
  {
   "cell_type": "code",
   "execution_count": 471,
   "id": "498a1115",
   "metadata": {},
   "outputs": [
    {
     "data": {
      "application/vnd.jupyter.widget-view+json": {
       "model_id": "747c314ba5d049269ba012d082a59bcf",
       "version_major": 2,
       "version_minor": 0
      },
      "text/plain": [
       "Canvas(height=400, width=300)"
      ]
     },
     "metadata": {},
     "output_type": "display_data"
    }
   ],
   "source": [
    "def simple_red(stop, canvas, x, y, size):\n",
    "    canvas.fill_style = \"#ff0000\"\n",
    "    canvas.fill_circle(x, y, size)\n",
    "\n",
    "draw_all(get_data(agencies=[\"978\", \"03\", \"03C\"]), simple_red, 0.5, 0.5, 1, 300, 400, size=1)"
   ]
  },
  {
   "cell_type": "markdown",
   "id": "a1318ec3",
   "metadata": {},
   "source": [
    "Testing custom colors - just using a hash of the stop name for now.\n",
    "\n",
    "It's quite chaotic, but that is to be expected."
   ]
  },
  {
   "cell_type": "code",
   "execution_count": 472,
   "id": "87849acb",
   "metadata": {},
   "outputs": [
    {
     "data": {
      "application/vnd.jupyter.widget-view+json": {
       "model_id": "beccf607e32c407f8b13533e466210be",
       "version_major": 2,
       "version_minor": 0
      },
      "text/plain": [
       "Canvas(height=360, width=300)"
      ]
     },
     "metadata": {},
     "output_type": "display_data"
    }
   ],
   "source": [
    "def random_colors(stop, canvas, x, y, size):\n",
    "    hue = hash(stop.name) % 180 + 180\n",
    "    canvas.fill_style = f\"hsl({hue}, 85%, 50%)\"\n",
    "    canvas.fill_circle(x, y, size)\n",
    "\n",
    "draw_all(get_data(agencies=[\"978\"]), random_colors, zoom=2)"
   ]
  },
  {
   "cell_type": "markdown",
   "id": "7834bc8b",
   "metadata": {},
   "source": [
    "Random colors per route combination this time.\n",
    "\n",
    "Definitely more structure here, but it's still mostly a blur of color."
   ]
  },
  {
   "cell_type": "code",
   "execution_count": 473,
   "id": "11a7b7e0",
   "metadata": {},
   "outputs": [
    {
     "data": {
      "application/vnd.jupyter.widget-view+json": {
       "model_id": "1709c3f5f1ab419a8e2f99dc4a17c4b8",
       "version_major": 2,
       "version_minor": 0
      },
      "text/plain": [
       "Canvas(height=720, width=600)"
      ]
     },
     "metadata": {},
     "output_type": "display_data"
    }
   ],
   "source": [
    "def route_combo(stop, canvas, x, y, size):\n",
    "    value = \"\".join([line.name for line in stop.lines])\n",
    "    hue = hash(value) % 180 + 180\n",
    "    canvas.fill_style = f\"hsl({hue}, 85%, 60%)\"\n",
    "    canvas.fill_circle(x, y, size)\n",
    "\n",
    "draw_all(get_data(agencies=[\"978\"]), route_combo, zoom=1, w=600, size=1.5)"
   ]
  },
  {
   "cell_type": "markdown",
   "id": "30079432",
   "metadata": {},
   "source": [
    "Somethings limiting the color scheme can help. The ones below aren't great, but finding any set of four colors that fit together with equal importance is hard!"
   ]
  },
  {
   "cell_type": "code",
   "execution_count": 474,
   "id": "1101b9a2",
   "metadata": {},
   "outputs": [],
   "source": [
    "def color_bar(colors):\n",
    "    canvas = ic.Canvas(width=400, height=25)\n",
    "    display(canvas)\n",
    "    size = 400/len(colors)\n",
    "    for i,color in enumerate(colors):\n",
    "        canvas.fill_style = color\n",
    "        canvas.fill_rect(i*size, 0, size, 25)"
   ]
  },
  {
   "cell_type": "code",
   "execution_count": 475,
   "id": "dacde694",
   "metadata": {},
   "outputs": [
    {
     "data": {
      "application/vnd.jupyter.widget-view+json": {
       "model_id": "c2fb6ab050404e98a2851d8d24ab7259",
       "version_major": 2,
       "version_minor": 0
      },
      "text/plain": [
       "Canvas(height=25, width=400)"
      ]
     },
     "metadata": {},
     "output_type": "display_data"
    }
   ],
   "source": [
    "colors = [\"#498A42\", \"#57B8FF\", \"#FBB13C\", \"#FE6847\"]\n",
    "color_bar(colors)"
   ]
  },
  {
   "cell_type": "markdown",
   "id": "88098575",
   "metadata": {},
   "source": [
    "Attempt 2: Attack of the Pies"
   ]
  },
  {
   "cell_type": "code",
   "execution_count": 480,
   "id": "2a2981d7",
   "metadata": {
    "scrolled": false
   },
   "outputs": [
    {
     "data": {
      "application/vnd.jupyter.widget-view+json": {
       "model_id": "0b559dd482a040918a4542b2f6c4f078",
       "version_major": 2,
       "version_minor": 0
      },
      "text/plain": [
       "Canvas(height=720, width=600)"
      ]
     },
     "metadata": {},
     "output_type": "display_data"
    }
   ],
   "source": [
    "def route_pie(stop, canvas, x, y, size):\n",
    "\n",
    "    # Creating a random starting value for each route combo\n",
    "    value = \"\".join([line.name for line in stop.lines])\n",
    "    i0 = hash(value)\n",
    "    \n",
    "    N = len(stop.lines)\n",
    "    start_angle = math.pi/2\n",
    "    for i, line in enumerate(stop.lines):\n",
    "        canvas.fill_style = colors[(i0+i)%len(colors)]\n",
    "        end_angle = start_angle + 2*math.pi/N\n",
    "        canvas.fill_arc(x, y, size, start_angle, end_angle)\n",
    "        start_angle = end_angle\n",
    "    \n",
    "draw_all(get_data(agencies=[\"978\"]), route_pie, zoom=1.4, x=0.6, y=0.6, w=600, size=2.2, bg=None)"
   ]
  },
  {
   "cell_type": "markdown",
   "id": "3ae4fd38",
   "metadata": {},
   "source": [
    "Pie charts seemed like a cool idea in my head. It solves the blur problem somewhat, but it's not something one would want to look at much..."
   ]
  },
  {
   "cell_type": "markdown",
   "id": "703e1dae",
   "metadata": {},
   "source": [
    "Returning to the unique route combo idea, it might be neat the reduce the color options down to 4ish (4-color theorem)\n",
    "<br>(Doing this properly would require identifying adjencent segments, though, which would be super awkward.)"
   ]
  },
  {
   "cell_type": "code",
   "execution_count": 479,
   "id": "f531ff66",
   "metadata": {},
   "outputs": [
    {
     "data": {
      "application/vnd.jupyter.widget-view+json": {
       "model_id": "ae9a1edbd16542e0b23838a05f48a96b",
       "version_major": 2,
       "version_minor": 0
      },
      "text/plain": [
       "Canvas(height=720, width=600)"
      ]
     },
     "metadata": {},
     "output_type": "display_data"
    }
   ],
   "source": [
    "def route_combo(stop, canvas, x, y, size):\n",
    "    value = hash(\"\".join([line.name for line in stop.lines]))\n",
    "    canvas.fill_style = colors[value % len(colors)]\n",
    "    canvas.fill_circle(x, y, size)\n",
    "\n",
    "draw_all(get_data(agencies=[\"978\"]), route_combo, zoom=1, w=600, size=1.5, bg=None)"
   ]
  },
  {
   "cell_type": "markdown",
   "id": "a0b5b925",
   "metadata": {},
   "source": [
    "That already looks better to me - and that is just random based on the hash again.\n",
    "<br>One annoying thing is there seem to be some bits where the routes quickly jump between two colors, which is noisy and annoying.\n",
    "<br>I wonder is that direction at play here."
   ]
  },
  {
   "cell_type": "code",
   "execution_count": 481,
   "id": "a6aac9b6",
   "metadata": {},
   "outputs": [
    {
     "data": {
      "application/vnd.jupyter.widget-view+json": {
       "model_id": "5467bf6983b34755a9b4fe9f820d7c49",
       "version_major": 2,
       "version_minor": 0
      },
      "text/plain": [
       "Canvas(height=720, width=600)"
      ]
     },
     "metadata": {},
     "output_type": "display_data"
    }
   ],
   "source": [
    "def route_combo_outgoing(stop, canvas, x, y, size):\n",
    "    \n",
    "    lines = list()\n",
    "    for line in stop.lines:\n",
    "        if line.direction == 0:\n",
    "            lines.append(line.name)\n",
    "            \n",
    "    if len(lines) == 0:\n",
    "        return \n",
    "    \n",
    "    value = hash(\"\".join(lines))\n",
    "    canvas.fill_style = colors[value % len(colors)]\n",
    "    canvas.fill_circle(x, y, size)\n",
    "\n",
    "draw_all(get_data(agencies=[\"978\"]), route_combo_outgoing, zoom=1, w=600, size=1.5, bg=None)"
   ]
  },
  {
   "cell_type": "markdown",
   "id": "5dddbc09",
   "metadata": {},
   "source": [
    "Single direction definitely cleans things up - I guess some routes are 1 direction only, or have a different name going th eother direction? Odd."
   ]
  },
  {
   "cell_type": "code",
   "execution_count": 482,
   "id": "4980bc8c",
   "metadata": {},
   "outputs": [
    {
     "data": {
      "application/vnd.jupyter.widget-view+json": {
       "model_id": "78c7450128fe499f8b7b0329a9117d61",
       "version_major": 2,
       "version_minor": 0
      },
      "text/plain": [
       "Canvas(height=720, width=600)"
      ]
     },
     "metadata": {},
     "output_type": "display_data"
    }
   ],
   "source": [
    "draw_all(get_data(agencies=[\"978\", \"03\"]), route_combo_outgoing, zoom=1, w=600, size=1.5, bg=None)"
   ]
  },
  {
   "cell_type": "markdown",
   "id": "74def657",
   "metadata": {},
   "source": [
    "One other thing I'd like to try is to mix colors based on routes\n",
    "\n",
    "First, though, mixing colors is a headache.\n",
    "\n",
    "I tried to do it algorithmically below, and it gave mixed results (if you'll pardon the pun)"
   ]
  },
  {
   "cell_type": "code",
   "execution_count": 461,
   "id": "58d38db5",
   "metadata": {},
   "outputs": [
    {
     "data": {
      "application/vnd.jupyter.widget-view+json": {
       "model_id": "f902178b02674973841d8baeb962df91",
       "version_major": 2,
       "version_minor": 0
      },
      "text/plain": [
       "Canvas(height=200, width=200)"
      ]
     },
     "metadata": {},
     "output_type": "display_data"
    },
    {
     "data": {
      "application/vnd.jupyter.widget-view+json": {
       "model_id": "56fcd6bb8d1d423dad4838335a4fd731",
       "version_major": 2,
       "version_minor": 0
      },
      "text/plain": [
       "Canvas(height=200, width=200)"
      ]
     },
     "metadata": {},
     "output_type": "display_data"
    }
   ],
   "source": [
    "def additive_mix(*colors):\n",
    "    \n",
    "    N = len(colors)\n",
    "    \n",
    "    r = g = b = 0\n",
    "    for color in colors:\n",
    "        r += int(color[1:3], base=16)\n",
    "        g += int(color[3:5], base=16)\n",
    "        b += int(color[5:7], base=16)\n",
    "    \n",
    "    r = max(0, min(int(r), 255))\n",
    "    g = max(0, min(int(g), 255))\n",
    "    b = max(0, min(int(b), 255))\n",
    "    \n",
    "    result = \"#\"\n",
    "    for value in r,g,b:\n",
    "        result += hex(value)[2:].rjust(2, \"0\")\n",
    "    \n",
    "    return result\n",
    "\n",
    "def test_mixer(mixer, colors=(\"#ff0000\", \"#00ff00\", \"#0000ff\"), black=\"#000000\"):\n",
    "    \n",
    "    class Rect:\n",
    "\n",
    "        def __init__(self, x, y, w, h, c):\n",
    "            self.x, self.y = x,y\n",
    "            self.w, self.h = w,h\n",
    "            self.c = c\n",
    "\n",
    "        def draw(self, canvas):\n",
    "            canvas.fill_style = self.c\n",
    "            canvas.fill_rect(self.x, self.y, self.w, self.h)\n",
    "\n",
    "        def __and__(self, other):\n",
    "\n",
    "            x = max(self.x, other.x)\n",
    "            y = max(self.y, other.y)\n",
    "            w = min(self.x + self.w, other.x + other.w) - x\n",
    "            h = min(self.y + self.h, other.y + other.h) - y\n",
    "            c = mixer(self.c, other.c)\n",
    "\n",
    "            return Rect(x, y, w, h, c)\n",
    "        \n",
    "    A = Rect(20, 40, 100, 100, colors[0])\n",
    "    B = Rect(40, 60, 100, 100, colors[1])\n",
    "    C = Rect(60, 20, 100, 100, colors[2])\n",
    "    \n",
    "    canvas = ic.Canvas(width=200, height=200)\n",
    "    display(canvas)\n",
    "    \n",
    "    canvas.fill_style = black\n",
    "    canvas.fill_rect(0, 0, 200, 200)\n",
    "   \n",
    "    A.draw(canvas)\n",
    "    B.draw(canvas)\n",
    "    C.draw(canvas)\n",
    "    \n",
    "    (A & B).draw(canvas)\n",
    "    (B & C).draw(canvas)\n",
    "    (A & C).draw(canvas)\n",
    "    (A & B & C).draw(canvas)\n",
    "    \n",
    "\n",
    "test_mixer(additive_mix)\n",
    "test_mixer(additive_mix, (\"#498A42\", \"#57B8FF\", \"#FE6847\"), black=\"#444444\")"
   ]
  },
  {
   "cell_type": "markdown",
   "id": "49e36178",
   "metadata": {},
   "source": [
    "A different approach, a custom additive mix with a minimal set of colors."
   ]
  },
  {
   "cell_type": "code",
   "execution_count": 465,
   "id": "01c46d3e",
   "metadata": {},
   "outputs": [
    {
     "data": {
      "application/vnd.jupyter.widget-view+json": {
       "model_id": "6ba22a4b1cfc4d469d54c0399ccb1291",
       "version_major": 2,
       "version_minor": 0
      },
      "text/plain": [
       "Canvas(height=200, width=200)"
      ]
     },
     "metadata": {},
     "output_type": "display_data"
    }
   ],
   "source": [
    "lookup = {\n",
    "    \"#444444\": (0,0,0),  # black\n",
    "    \"#FE6847\": (1,0,0),  # red\n",
    "    \"#498A42\": (0,1,0),  # green\n",
    "    \"#57B8FF\": (0,0,1),  # blue\n",
    "    \"#FFF289\": (1,1,0),  # yellow\n",
    "    \"#A0FFFF\": (0,1,1),  # cyan\n",
    "    \"#DE85FF\": (1,0,1),  # magenta\n",
    "    \"#CCCCCC\": (1,1,1),  # white\n",
    "}\n",
    "\n",
    "reverse_lookup = dict()\n",
    "for key, value in lookup.items():\n",
    "    reverse_lookup[value] = key\n",
    "\n",
    "flag_colors = [\n",
    "    reverse_lookup[r,g,b] for r,g,b in [\n",
    "        (1,0,0), (0,1,0), (0,0,1)\n",
    "    ]\n",
    "]\n",
    "flag_black = reverse_lookup[(0,0,0)]\n",
    "    \n",
    "def flag_mix(*colors):\n",
    "    \n",
    "    colors = [lookup[color] for color in colors]\n",
    "    \n",
    "    r = g = b = 0\n",
    "    for ri,gi,bi in colors:\n",
    "        r |= ri\n",
    "        g |= gi\n",
    "        b |= bi\n",
    "        \n",
    "    return reverse_lookup[r,g,b]\n",
    "    \n",
    "test_mixer(flag_mix, flag_colors, flag_black)"
   ]
  },
  {
   "cell_type": "code",
   "execution_count": 485,
   "id": "17235175",
   "metadata": {},
   "outputs": [
    {
     "data": {
      "application/vnd.jupyter.widget-view+json": {
       "model_id": "af68e597a80541dc898197f66f1a8b1a",
       "version_major": 2,
       "version_minor": 0
      },
      "text/plain": [
       "Canvas(height=720, width=600)"
      ]
     },
     "metadata": {},
     "output_type": "display_data"
    }
   ],
   "source": [
    "def line_flag_mix(stop, canvas, x, y, size):\n",
    "    \n",
    "    stop_color = flag_black\n",
    "    for line in stop.lines:\n",
    "        line_color = flag_colors[hash(line.name) % len(flag_colors)]\n",
    "        stop_color = flag_mix(stop_color, line_color)\n",
    "    \n",
    "    if stop_color == flag_black:\n",
    "        return\n",
    "\n",
    "    canvas.fill_style = stop_color\n",
    "    canvas.fill_circle(x, y, size)\n",
    "\n",
    "draw_all(get_data(agencies=[\"978\", \"03\"]), line_flag_mix, zoom=1, w=600, size=1.5, bg=flag_black)"
   ]
  },
  {
   "cell_type": "markdown",
   "id": "3b092f4f",
   "metadata": {},
   "source": [
    "Cool imo, but still utterly irrelevant to the app."
   ]
  }
 ],
 "metadata": {
  "kernelspec": {
   "display_name": "Python 3",
   "language": "python",
   "name": "python3"
  },
  "language_info": {
   "codemirror_mode": {
    "name": "ipython",
    "version": 3
   },
   "file_extension": ".py",
   "mimetype": "text/x-python",
   "name": "python",
   "nbconvert_exporter": "python",
   "pygments_lexer": "ipython3",
   "version": "3.8.10"
  }
 },
 "nbformat": 4,
 "nbformat_minor": 5
}
