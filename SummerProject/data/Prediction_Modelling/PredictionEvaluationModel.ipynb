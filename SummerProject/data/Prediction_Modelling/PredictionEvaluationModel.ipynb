{
 "cells": [
  {
   "cell_type": "markdown",
   "metadata": {},
   "source": [
    "This notebook is a tester notebook for beginning to train and test the data"
   ]
  },
  {
   "cell_type": "code",
   "execution_count": null,
   "metadata": {},
   "outputs": [],
   "source": [
    "#Import the required packages\n",
    "import scipy\n",
    "#Import package pandas for data analysis\n",
    "import pandas as pd\n",
    "\n",
    "#Import package numpy for numeric computing\n",
    "import numpy as np\n",
    "\n",
    "#Import package matplotlib for visualisation/plotting\n",
    "import matplotlib.pyplot as plt\n",
    "\n",
    "#Import package seaborn for visualisation\n",
    "import seaborn as sns\n",
    "\n",
    "#For showing plots directly in the notebook run the command below\n",
    "%matplotlib inline\n",
    "\n",
    "from matplotlib.backends.backend_pdf import PdfPages\n",
    "\n",
    "import sqlalchemy\n",
    "from sqlalchemy import create_engine\n",
    "from pandas import pandas as pd\n",
    "from sklearn.tree import DecisionTreeRegressor\n",
    "from sklearn.model_selection import train_test_split\n",
    "from sklearn.ensemble import RandomForestRegressor\n",
    "from sklearn.neighbors import KNeighborsRegressor\n",
    "from sklearn.linear_model import LinearRegression\n",
    "from sklearn.metrics import f1_score\n",
    "from sklearn.metrics import r2_score\n",
    "from sklearn import tree\n",
    "import matplotlib.pyplot as plt\n",
    "import pickle\n",
    "import requests\n",
    "import json\n",
    "import numpy as np\n",
    "import datetime\n",
    "import time\n",
    "from time import gmtime\n",
    "from time import strftime\n",
    "\n",
    "\n",
    "import warnings\n",
    "warnings.filterwarnings('ignore')"
   ]
  },
  {
   "cell_type": "markdown",
   "metadata": {},
   "source": [
    "## Training and testing"
   ]
  },
  {
   "cell_type": "code",
   "execution_count": null,
   "metadata": {},
   "outputs": [],
   "source": [
    "WeatherCombined_df = pd.read_csv(\"Weather_16_1_Combined.csv\")"
   ]
  },
  {
   "cell_type": "code",
   "execution_count": null,
   "metadata": {},
   "outputs": [],
   "source": [
    "y=WeatherCombined_df[\"JourneyTime\"]\n",
    "X=WeatherCombined_df.drop([\"JourneyTime\",\"Holiday\", \"index\", \"DayOfService\",'dewpt','vappr','rhum','msl','wddir','ww','w','sun','clht', 'ProgrNumber','PROGRNUMBER','TRIPID', 'TripID', 'LineID', 'weather_date','priorstops_actualTime_Arr','PLANNEDTIME_ARR', 'PLANNEDTIME_DEP','ACTUALTIME_ARR','ACTUALTIME_DEP', 'VEHICLEID', 'DAYOFSERVICE', 'RouteID', 'School', 'RushHour', 'Weekend', 'Direction'],axis=1)"
   ]
  },
  {
   "cell_type": "code",
   "execution_count": null,
   "metadata": {},
   "outputs": [],
   "source": [
    "WeatherCombined_df.dtypes"
   ]
  },
  {
   "cell_type": "code",
   "execution_count": null,
   "metadata": {},
   "outputs": [],
   "source": [
    "# WeatherCombined_df['RushHour'] = WeatherCombined_df['RushHour'].astype('datetime64[ns]')"
   ]
  },
  {
   "cell_type": "code",
   "execution_count": null,
   "metadata": {},
   "outputs": [],
   "source": [
    "WeatherCombined_df = WeatherCombined_df[(WeatherCombined_df['JourneyTime'] > 0)]"
   ]
  },
  {
   "cell_type": "code",
   "execution_count": null,
   "metadata": {},
   "outputs": [],
   "source": [
    "object_columns = X.select_dtypes(['object']).columns"
   ]
  },
  {
   "cell_type": "code",
   "execution_count": null,
   "metadata": {},
   "outputs": [],
   "source": [
    "X['STOPPOINTID'] = X['STOPPOINTID'].astype('int')"
   ]
  },
  {
   "cell_type": "code",
   "execution_count": null,
   "metadata": {},
   "outputs": [],
   "source": [
    "for column in object_columns:\n",
    "    X[column]=X[column].astype('int')"
   ]
  },
  {
   "cell_type": "code",
   "execution_count": null,
   "metadata": {},
   "outputs": [],
   "source": [
    "X_train,X_test,y_train,y_test=train_test_split(X,y,test_size=0.3,random_state=1)"
   ]
  },
  {
   "cell_type": "code",
   "execution_count": null,
   "metadata": {
    "scrolled": true
   },
   "outputs": [],
   "source": [
    "X.dtypes"
   ]
  },
  {
   "cell_type": "code",
   "execution_count": null,
   "metadata": {},
   "outputs": [],
   "source": [
    "randForestModel = RandomForestRegressor(n_estimators = 10, random_state=10)\n",
    "randForestModel.fit(X_train, y_train.values.ravel())\n",
    "\n",
    "predictionTest = randForestModel.predict(X_test)\n",
    "forestScore = r2_score(y_test, predictionTest)\n",
    "forestScore"
   ]
  },
  {
   "cell_type": "code",
   "execution_count": null,
   "metadata": {},
   "outputs": [],
   "source": [
    "decisionTree = DecisionTreeRegressor()\n",
    "decisionTree.fit(X_train, y_train)\n",
    "predictions = decisionTree.predict(X_test)\n",
    "r2_score(y_test, predictions)"
   ]
  },
  {
   "cell_type": "code",
   "execution_count": null,
   "metadata": {},
   "outputs": [],
   "source": [
    "knn_model = KNeighborsRegressor(n_neighbors = 10)\n",
    "knn_model.fit(X_train, y_train.values.ravel())\n",
    "knnTest = knn_model.predict(X_test)\n",
    "knnScore = r2_score(y_test, knnTest)\n",
    "knnScore"
   ]
  },
  {
   "cell_type": "code",
   "execution_count": null,
   "metadata": {},
   "outputs": [],
   "source": [
    "linear_test = linearModel.predict(X_test)\n",
    "linear_score = r2_score(y_test, linear_test)\n",
    "linear_score"
   ]
  },
  {
   "cell_type": "code",
   "execution_count": null,
   "metadata": {},
   "outputs": [],
   "source": [
    "forestPrediction = randForestModel.predict([[1631, 12, 9, 16, 0.2, 9.5, 7.8, 13, 25000, 7]])\n",
    "forestPrediction"
   ]
  },
  {
   "cell_type": "code",
   "execution_count": null,
   "metadata": {},
   "outputs": [],
   "source": [
    "randForestModel = RandomForestRegressor(n_estimators = 10, random_state=10)\n",
    "randForestModel.fit(X_train, y_train.values.ravel())\n",
    "pickle.dump(randForestModel, open(f'randForest_16_1.pkl','wb'))"
   ]
  },
  {
   "cell_type": "code",
   "execution_count": null,
   "metadata": {},
   "outputs": [],
   "source": [
    "from sklearn import metrics"
   ]
  },
  {
   "cell_type": "code",
   "execution_count": null,
   "metadata": {},
   "outputs": [],
   "source": [
    "MAE_test =  metrics.mean_absolute_error(y_test, predictionTest)\n",
    "MSE_test =  metrics.mean_squared_error(y_test, predictionTest)\n",
    "RMSE_test = np.sqrt(metrics.mean_squared_error(y_test, predictionTest))"
   ]
  },
  {
   "cell_type": "code",
   "execution_count": null,
   "metadata": {},
   "outputs": [],
   "source": [
    "MAE_test"
   ]
  },
  {
   "cell_type": "code",
   "execution_count": null,
   "metadata": {},
   "outputs": [],
   "source": [
    "prediction = decisionTree.predict([[7349, 12, 9, 16, 0.2, 9.5, 7.8, 13, 25000, 7]])\n",
    "prediction_values = prediction[0]\n",
    "print(f\"Predicted journey available: {prediction_values}\")"
   ]
  },
  {
   "cell_type": "code",
   "execution_count": null,
   "metadata": {},
   "outputs": [],
   "source": [
    "feature_list = X\n",
    "feature_imp = pd.Series(randForestModel.feature_importances_, index=feature_list)\n",
    "feature_imp.sort_values(ascending=False)"
   ]
  },
  {
   "cell_type": "code",
   "execution_count": null,
   "metadata": {},
   "outputs": [],
   "source": [
    "linearModel = LinearRegression()\n",
    "linearModel.fit(X_train, y_train)\n",
    "linear_prediction = linearModel.predict([[1632, 12, 9, 16, 0.2, 9.5, 7.8, 13, 25000, 7]])\n",
    "linear_prediction"
   ]
  },
  {
   "cell_type": "code",
   "execution_count": null,
   "metadata": {},
   "outputs": [],
   "source": [
    "numeric=X_train.columns[(X_train.dtypes==\"int64\") | (X_train.dtypes==\"float64\")]"
   ]
  },
  {
   "cell_type": "code",
   "execution_count": null,
   "metadata": {},
   "outputs": [],
   "source": [
    "corr=pd.concat([X_train[numeric], y], axis=1).corr()"
   ]
  },
  {
   "cell_type": "code",
   "execution_count": null,
   "metadata": {},
   "outputs": [],
   "source": [
    "plt.figure(figsize=(16,9))\n",
    "plt.title(\"Pearson's Correlation of numerical Features for Route 16, direction 1\")\n",
    "sns.heatmap(corr,xticklabels=corr.columns,yticklabels=corr.columns,linewidth=.5,cmap=\"YlGnBu\")\n",
    "plt.savefig(\"PearsonsCorr\")"
   ]
  },
  {
   "cell_type": "code",
   "execution_count": null,
   "metadata": {},
   "outputs": [],
   "source": [
    "linearModel = LinearRegression()\n",
    "linearModel.fit(X_train, y_train)\n",
    "linear_prediction = linearModel.predict([[1127, 12, 9, 16, 0.2, 9.5, 7.8, 13, 25000, 7]])\n",
    "linear_prediction"
   ]
  },
  {
   "cell_type": "code",
   "execution_count": null,
   "metadata": {},
   "outputs": [],
   "source": [
    "X.columns"
   ]
  },
  {
   "cell_type": "code",
   "execution_count": null,
   "metadata": {},
   "outputs": [],
   "source": [
    "feature_list = X.columns\n",
    "feature_imp = pd.Series(randForestModel.feature_importances_, index=feature_list)\n",
    "feature_imp.sort_values(ascending=False)"
   ]
  },
  {
   "cell_type": "code",
   "execution_count": null,
   "metadata": {},
   "outputs": [],
   "source": [
    "def getPrediction(route, direction, stop1, stop2):\n",
    "    df = pd.read_csv('df_'+ str(route) + '_'+ str(direction)+'.csv')\n",
    "    #get all stops in the various routes but have them in order\n",
    "    stops = df['STOPPOINTID']\n",
    "    indices=[]\n",
    "    output = []\n",
    "    stopIDs = [stop1,stop2]\n",
    "    allStops = []\n",
    "    total = 0\n",
    "    \n",
    "    #get all bus stops in route 16, direction 1\n",
    "    for stop in stops:\n",
    "        allStops.append(stop)\n",
    "     \n",
    "   #get unique bus stops so we don't get duplicate stops, impportant to keep them in order  \n",
    "    for x in allStops:\n",
    "        if x not in output:\n",
    "            output.append(x)\n",
    "    \n",
    "    #get index of chosen bus stops in list of bus stops\n",
    "    for stop in stopIDs:\n",
    "        index_number = output.index(stop)\n",
    "        index_number += 1\n",
    "        indices.append(index_number)\n",
    "#     print(indices)\n",
    "    #use slicing to get the bus stops on the chosen journey\n",
    "    slice = output[indices[0]:indices[1]]\n",
    "#     print(slice)\n",
    "    \n",
    "    #get predicted journey time of all stops and add them together to get overall journey time\n",
    "    for stop in slice:\n",
    "        forest_prediction = pickle.load(open(f'randForest_'+str(route)+'_'+str(direction)+'.pkl', 'rb'))\n",
    "        prediction = forest_prediction.predict([[stop, 12, 9, 16, 0.2, 9.5, 7.8, 13, 25000, 7]])\n",
    "        total += forestPrediction \n",
    "    print(\"Prediction in seconds:\",total)\n",
    "        \n",
    "    \n",
    "\n",
    "getPrediction(16,1,3669,1632)"
   ]
  },
  {
   "cell_type": "code",
   "execution_count": null,
   "metadata": {},
   "outputs": [],
   "source": []
  },
  {
   "cell_type": "code",
   "execution_count": null,
   "metadata": {},
   "outputs": [],
   "source": []
  }
 ],
 "metadata": {
  "kernelspec": {
   "display_name": "Python 3",
   "language": "python",
   "name": "python3"
  },
  "language_info": {
   "codemirror_mode": {
    "name": "ipython",
    "version": 3
   },
   "file_extension": ".py",
   "mimetype": "text/x-python",
   "name": "python",
   "nbconvert_exporter": "python",
   "pygments_lexer": "ipython3",
   "version": "3.9.1"
  }
 },
 "nbformat": 4,
 "nbformat_minor": 4
}
