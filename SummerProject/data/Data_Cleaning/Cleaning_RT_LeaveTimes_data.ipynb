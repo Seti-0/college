{
 "cells": [
  {
   "cell_type": "code",
   "execution_count": null,
   "metadata": {},
   "outputs": [],
   "source": [
    "#Import the required packages\n",
    "import scipy\n",
    "#Import package pandas for data analysis\n",
    "import pandas as pd\n",
    "import pandas.io.sql as psql\n",
    "\n",
    "#Import package numpy for numeric computing\n",
    "import numpy as np\n",
    "\n",
    "#Import package matplotlib for visualisation/plotting\n",
    "import matplotlib.pyplot as plt\n",
    "\n",
    "#Import package seaborn for visualisation\n",
    "import seaborn as sns\n",
    "\n",
    "#For showing plots directly in the notebook run the command below\n",
    "%matplotlib inline\n",
    "\n",
    "from matplotlib.backends.backend_pdf import PdfPages\n",
    "\n",
    "\n",
    "import sqlalchemy\n",
    "from sqlalchemy import create_engine\n",
    "import matplotlib.pyplot as plt\n",
    "import pickle\n",
    "import requests\n",
    "import json\n",
    "import datetime\n",
    "\n",
    "import warnings\n",
    "warnings.filterwarnings('ignore')"
   ]
  },
  {
   "cell_type": "code",
   "execution_count": null,
   "metadata": {},
   "outputs": [],
   "source": [
    "#read feather file\n",
    "df = pd.read_feather(\"rt_leavetimes_DB_2018(4).feather\")"
   ]
  },
  {
   "cell_type": "code",
   "execution_count": null,
   "metadata": {},
   "outputs": [],
   "source": [
    "df"
   ]
  },
  {
   "cell_type": "code",
   "execution_count": null,
   "metadata": {},
   "outputs": [],
   "source": [
    "df.shape "
   ]
  },
  {
   "cell_type": "markdown",
   "metadata": {},
   "source": [
    "df[df['StopPointID']=='261']"
   ]
  },
  {
   "cell_type": "code",
   "execution_count": null,
   "metadata": {},
   "outputs": [],
   "source": [
    "df.nunique()"
   ]
  },
  {
   "cell_type": "code",
   "execution_count": null,
   "metadata": {},
   "outputs": [],
   "source": [
    "#delete not needed columns\n",
    "\n",
    "del df['NOTE']\n",
    "del df['LASTUPDATE']\n",
    "del df['JUSTIFICATIONID']\n",
    "del df['SUPPRESSED']\n",
    "del df['PASSENGERS']\n",
    "del df['PASSENGERSIN']\n",
    "del df['PASSENGERSOUT']\n",
    "del df['DISTANCE']\n",
    "del df['DATASOURCE']\n"
   ]
  },
  {
   "cell_type": "code",
   "execution_count": null,
   "metadata": {},
   "outputs": [],
   "source": [
    "#change datatypes\n",
    "\n",
    "df['DAYOFSERVICE'] = df['DAYOFSERVICE'].astype('datetime64[ns]')\n",
    "df['TRIPID'] = df['TRIPID'].astype('category')\n",
    "df['PROGRNUMBER'] = df['PROGRNUMBER'].astype('category')\n",
    "df['STOPPOINTID'] = df['STOPPOINTID'].astype('category')\n",
    "df['VEHICLEID'] = df['VEHICLEID'].astype('category')"
   ]
  },
  {
   "cell_type": "code",
   "execution_count": null,
   "metadata": {},
   "outputs": [],
   "source": [
    "df"
   ]
  },
  {
   "cell_type": "code",
   "execution_count": null,
   "metadata": {},
   "outputs": [],
   "source": [
    "df.dtypes"
   ]
  },
  {
   "cell_type": "code",
   "execution_count": null,
   "metadata": {},
   "outputs": [],
   "source": [
    "df['DayOfService'] = df['DAYOFSERVICE'].astype('datetime64[ns]')"
   ]
  },
  {
   "cell_type": "code",
   "execution_count": null,
   "metadata": {},
   "outputs": [],
   "source": [
    "object_columns = df.select_dtypes(['object']).columns"
   ]
  },
  {
   "cell_type": "code",
   "execution_count": null,
   "metadata": {},
   "outputs": [],
   "source": [
    "for column in object_columns:\n",
    "    df[column] = df[column].astype('category')"
   ]
  },
  {
   "cell_type": "code",
   "execution_count": null,
   "metadata": {},
   "outputs": [],
   "source": [
    "df.dtypes"
   ]
  },
  {
   "cell_type": "code",
   "execution_count": null,
   "metadata": {},
   "outputs": [],
   "source": [
    "df['ProgrNumber'] = df['PROGRNUMBER'].astype('category')"
   ]
  },
  {
   "cell_type": "code",
   "execution_count": null,
   "metadata": {},
   "outputs": [],
   "source": [
    "df.dtypes"
   ]
  },
  {
   "cell_type": "code",
   "execution_count": null,
   "metadata": {},
   "outputs": [],
   "source": [
    "df.nunique()"
   ]
  },
  {
   "cell_type": "code",
   "execution_count": null,
   "metadata": {},
   "outputs": [],
   "source": [
    "df.isna().sum()"
   ]
  },
  {
   "cell_type": "code",
   "execution_count": null,
   "metadata": {},
   "outputs": [],
   "source": [
    "#read in cleaned Trips Data\n",
    "\n",
    "trips = pd.read_csv('MasterCleanedTripsData.csv',index_col=False)"
   ]
  },
  {
   "cell_type": "code",
   "execution_count": null,
   "metadata": {},
   "outputs": [],
   "source": [
    "trips"
   ]
  },
  {
   "cell_type": "code",
   "execution_count": null,
   "metadata": {},
   "outputs": [],
   "source": [
    "trips.dtypes"
   ]
  },
  {
   "cell_type": "code",
   "execution_count": null,
   "metadata": {},
   "outputs": [],
   "source": [
    "df.dtypes"
   ]
  },
  {
   "cell_type": "code",
   "execution_count": null,
   "metadata": {},
   "outputs": [],
   "source": [
    "#change datatypes\n",
    "df['TRIPID'] = df['TRIPID'].astype('int')"
   ]
  },
  {
   "cell_type": "code",
   "execution_count": null,
   "metadata": {},
   "outputs": [],
   "source": [
    "df['TripID'] = df['TRIPID']"
   ]
  },
  {
   "cell_type": "code",
   "execution_count": null,
   "metadata": {},
   "outputs": [],
   "source": [
    "df['DayOfService'] = df['DAYOFSERVICE']"
   ]
  },
  {
   "cell_type": "code",
   "execution_count": null,
   "metadata": {},
   "outputs": [],
   "source": [
    "df['DayOfService'] = df['DayOfService'].astype('datetime64[ns]')"
   ]
  },
  {
   "cell_type": "code",
   "execution_count": null,
   "metadata": {},
   "outputs": [],
   "source": [
    "trips['DayOfService'] = trips['DayOfService'].astype('datetime64[ns]')"
   ]
  },
  {
   "cell_type": "code",
   "execution_count": null,
   "metadata": {},
   "outputs": [],
   "source": [
    "#merge leavetimes and tripdata\n",
    "merged_df = pd.merge(df,\n",
    "                 trips[['TripID', 'DayOfService', 'LineID', 'RouteID', 'Direction']],\n",
    "                 on=['TripID', 'DayOfService'])\n"
   ]
  },
  {
   "cell_type": "code",
   "execution_count": null,
   "metadata": {},
   "outputs": [],
   "source": [
    "merged_df"
   ]
  },
  {
   "cell_type": "code",
   "execution_count": null,
   "metadata": {},
   "outputs": [],
   "source": [
    "#create new features\n",
    "\n",
    "merged_df['ArrDel'] = merged_df['PLANNEDTIME_DEP'] - merged_df['ACTUALTIME_ARR']\n",
    "\n",
    "\n",
    "merged_df['DepDel'] = merged_df['PLANNEDTIME_DEP'] - merged_df['ACTUALTIME_DEP']\n",
    "\n",
    "\n",
    "merged_df['Waiting_Time'] = merged_df['ACTUALTIME_DEP'] - merged_df['ACTUALTIME_ARR']"
   ]
  },
  {
   "cell_type": "code",
   "execution_count": null,
   "metadata": {},
   "outputs": [],
   "source": [
    "merged_df"
   ]
  },
  {
   "cell_type": "code",
   "execution_count": null,
   "metadata": {
    "scrolled": true
   },
   "outputs": [],
   "source": [
    "merged_df.isna().sum()"
   ]
  },
  {
   "cell_type": "code",
   "execution_count": null,
   "metadata": {},
   "outputs": [],
   "source": [
    "#create master cleaned leaving and trips data combined csv\n",
    "merged_df.to_csv('MasterCleanedLeaving&TripsDataCombined.csv')"
   ]
  },
  {
   "cell_type": "code",
   "execution_count": null,
   "metadata": {},
   "outputs": [],
   "source": [
    "#create master cleaned leaving and trips data combined csv\n",
    "merged_df.to_feather('MasterCleanedLeaving&TripsDataCombined.feather')"
   ]
  },
  {
   "cell_type": "code",
   "execution_count": null,
   "metadata": {},
   "outputs": [],
   "source": [
    "#change timestamps\n",
    "actualTime_Arr = []\n",
    "\n",
    "for row in merged_df['ActualTime_Arr']:\n",
    "    time = strftime(\"%H:%M:%S\", gmtime(row))\n",
    "    actualTime_Arr.append(time)\n",
    "            \n",
    "actualTime_Arr"
   ]
  },
  {
   "cell_type": "code",
   "execution_count": null,
   "metadata": {},
   "outputs": [],
   "source": [
    "#add new times\n",
    "merged_df['ActualTime_Arr'] = actualTime_Arr"
   ]
  },
  {
   "cell_type": "code",
   "execution_count": null,
   "metadata": {},
   "outputs": [],
   "source": [
    "actualTime_Dep = []\n",
    "\n",
    "for row in merged_df['ActualTime_Dep']:\n",
    "    time = strftime(\"%H:%M:%S\", gmtime(row))\n",
    "    actualTime_Dep.append(time)\n",
    "            \n",
    "actualTime_Dep"
   ]
  },
  {
   "cell_type": "code",
   "execution_count": null,
   "metadata": {},
   "outputs": [],
   "source": [
    "merged_df['ActualTime_Dep'] = actualTime_Dep"
   ]
  },
  {
   "cell_type": "code",
   "execution_count": null,
   "metadata": {},
   "outputs": [],
   "source": [
    "merged_df"
   ]
  },
  {
   "cell_type": "code",
   "execution_count": null,
   "metadata": {},
   "outputs": [],
   "source": [
    "PlannedTime_Arr = []\n",
    "\n",
    "for row in merged_df['PlannedTime_Arr']:\n",
    "    time = strftime(\"%H:%M:%S\", gmtime(row))\n",
    "    PlannedTime_Arr.append(time)\n",
    "            \n",
    "PlannedTime_Arr"
   ]
  },
  {
   "cell_type": "code",
   "execution_count": null,
   "metadata": {},
   "outputs": [],
   "source": [
    "merged_df['PlannedTime_Arr'] = PlannedTime_Arr"
   ]
  },
  {
   "cell_type": "code",
   "execution_count": null,
   "metadata": {},
   "outputs": [],
   "source": [
    "PlannedTime_Dep = []\n",
    "\n",
    "for row in merged_df['PlannedTime_Dep']:\n",
    "    time = strftime(\"%H:%M:%S\", gmtime(row))\n",
    "    PlannedTime_Dep.append(time)\n",
    "            \n",
    "PlannedTime_Dep"
   ]
  },
  {
   "cell_type": "code",
   "execution_count": null,
   "metadata": {},
   "outputs": [],
   "source": [
    "merged_df['PlannedTime_Dep'] = PlannedTime_Dep"
   ]
  },
  {
   "cell_type": "code",
   "execution_count": null,
   "metadata": {},
   "outputs": [],
   "source": [
    "#add month feature\n",
    "merged_df['Month'] = merged_df['DayOfService'].dt.month\n",
    "    "
   ]
  },
  {
   "cell_type": "code",
   "execution_count": null,
   "metadata": {},
   "outputs": [],
   "source": [
    "#add day feature\n",
    "merged_df['Day'] = merged_df['DayOfService'].dt.dayofweek"
   ]
  },
  {
   "cell_type": "code",
   "execution_count": null,
   "metadata": {},
   "outputs": [],
   "source": [
    "#add schoolfeature\n",
    "\n",
    "list_School = []\n",
    "\n",
    "for row in merged_df['Month']:\n",
    "    if row == 6 or row == 7 or row== 8:\n",
    "        list_School.append('0')\n",
    "    else:\n",
    "        list_School.append('1')       "
   ]
  },
  {
   "cell_type": "code",
   "execution_count": null,
   "metadata": {},
   "outputs": [],
   "source": [
    "merged_df['School']=list_School "
   ]
  },
  {
   "cell_type": "code",
   "execution_count": null,
   "metadata": {},
   "outputs": [],
   "source": [
    "#add rushhour feature\n",
    "list_rushHour = []\n",
    "\n",
    "for row in merged_df['ActualTime_Dep']:\n",
    "    if row >= '07:00:00' and row <= '08:30:00' or row >= '16:00:00' and row <= '18:00:00':\n",
    "        list_rushHour.append('1')\n",
    "    else:\n",
    "        list_rushHour.append('0')\n",
    "        "
   ]
  },
  {
   "cell_type": "code",
   "execution_count": null,
   "metadata": {},
   "outputs": [],
   "source": [
    "merged_df['RushHour']=list_rushHour"
   ]
  },
  {
   "cell_type": "code",
   "execution_count": null,
   "metadata": {},
   "outputs": [],
   "source": [
    "#add weekend feature\n",
    "list_weekend = []\n",
    "\n",
    "for row in merged_df['Day']:\n",
    "    if row == '5' or row == '6':\n",
    "        list_weekend.append('1')\n",
    "    else:\n",
    "        list_weekend.append('0')"
   ]
  },
  {
   "cell_type": "code",
   "execution_count": null,
   "metadata": {},
   "outputs": [],
   "source": [
    "merged_df['Weekend'] = list_weekend"
   ]
  },
  {
   "cell_type": "code",
   "execution_count": null,
   "metadata": {},
   "outputs": [],
   "source": [
    "#add holiday feature\n",
    "holidays = ['2018/01/01', '2018/03/17', '2018/04/02', '2018/05/07','2018/06/04', '2018/08/06', '2018/10/29', '2018/12/25', '2018/12/26']\n",
    "\n",
    "# for holiday in holidays:\n",
    "#     list_dfHolidays = []\n",
    "#     for row in df['DayOfService']:\n",
    "#         print(row.date())\n",
    "#         if row.date() == holiday.date():\n",
    "#             print('true')\n",
    "# #             list_dfHolidays.append('1')           \n",
    "#         else:\n",
    "# #             list_dfHolidays.append('0')\n",
    "#             print('false')\n",
    "newHolidays = []\n",
    "for holiday in holidays:\n",
    "    newHolidays.append(datetime.datetime.strptime(holiday,\"%Y/%m/%d\"))\n"
   ]
  },
  {
   "cell_type": "code",
   "execution_count": null,
   "metadata": {},
   "outputs": [],
   "source": [
    "\n",
    "newhols1 = []\n",
    "\n",
    "for holiday in newHolidays:\n",
    "      newhols1.append(holiday.date())"
   ]
  },
  {
   "cell_type": "code",
   "execution_count": null,
   "metadata": {},
   "outputs": [],
   "source": [
    "list_dfHols = []\n",
    "for row in merged_df['DayOfService']:\n",
    "#         print(row.date())\n",
    "    if row.date() == datetime.date(2018, 1, 1) or row.date() == datetime.date(2018, 3, 17) or row.date() == datetime.date(2018, 4, 2) or row.date() == datetime.date(2018, 5, 7) or row.date() == datetime.date(2018, 6, 4) or row.date() == datetime.date(2018, 8, 6) or row.date() == datetime.date(2018, 10, 29) or row.date() ==  datetime.date(2018, 12, 25) or row.date() == datetime.date(2018, 12, 26):\n",
    "#             print('true')\n",
    "        list_dfHols.append('1')           \n",
    "    else:\n",
    "        list_dfHols.append('0')\n",
    "#             print('false')"
   ]
  },
  {
   "cell_type": "code",
   "execution_count": null,
   "metadata": {},
   "outputs": [],
   "source": [
    "merged_df['Holiday'] = list_dfHols"
   ]
  },
  {
   "cell_type": "code",
   "execution_count": null,
   "metadata": {},
   "outputs": [],
   "source": [
    "df.tail(500000)"
   ]
  },
  {
   "cell_type": "code",
   "execution_count": null,
   "metadata": {},
   "outputs": [],
   "source": []
  }
 ],
 "metadata": {
  "kernelspec": {
   "display_name": "Python 3",
   "language": "python",
   "name": "python3"
  },
  "language_info": {
   "codemirror_mode": {
    "name": "ipython",
    "version": 3
   },
   "file_extension": ".py",
   "mimetype": "text/x-python",
   "name": "python",
   "nbconvert_exporter": "python",
   "pygments_lexer": "ipython3",
   "version": "3.9.1"
  }
 },
 "nbformat": 4,
 "nbformat_minor": 4
}
