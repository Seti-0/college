{
 "cells": [
  {
   "cell_type": "markdown",
   "metadata": {},
   "source": [
    "Imports"
   ]
  },
  {
   "cell_type": "code",
   "execution_count": 384,
   "metadata": {},
   "outputs": [],
   "source": [
    "import pandas as pd\n",
    "import matplotlib.pyplot as plt\n",
    "import misc"
   ]
  },
  {
   "cell_type": "markdown",
   "metadata": {},
   "source": [
    "Reading in the Dataset\n",
    "==\n",
    "\n",
    "This notebook explores the features without modifying them.\n",
    "\n",
    "It picks up from the \"data_after_part1.csv\" dataset saved in the \"Data Quality - Part 1\" notebook."
   ]
  },
  {
   "cell_type": "code",
   "execution_count": 412,
   "metadata": {},
   "outputs": [
    {
     "data": {
      "text/html": [
       "<div>\n",
       "<style scoped>\n",
       "    .dataframe tbody tr th:only-of-type {\n",
       "        vertical-align: middle;\n",
       "    }\n",
       "\n",
       "    .dataframe tbody tr th {\n",
       "        vertical-align: top;\n",
       "    }\n",
       "\n",
       "    .dataframe thead th {\n",
       "        text-align: right;\n",
       "    }\n",
       "</style>\n",
       "<table border=\"1\" class=\"dataframe\">\n",
       "  <thead>\n",
       "    <tr style=\"text-align: right;\">\n",
       "      <th></th>\n",
       "      <th>cdc_case_earliest_dt</th>\n",
       "      <th>pos_spec_dt</th>\n",
       "      <th>onset_dt</th>\n",
       "      <th>current_status</th>\n",
       "      <th>sex</th>\n",
       "      <th>age_group</th>\n",
       "      <th>race_ethnicity_combined</th>\n",
       "      <th>hosp_yn</th>\n",
       "      <th>icu_yn</th>\n",
       "      <th>death_yn</th>\n",
       "      <th>medcond_yn</th>\n",
       "    </tr>\n",
       "  </thead>\n",
       "  <tbody>\n",
       "    <tr>\n",
       "      <th>0</th>\n",
       "      <td>2020-08-25</td>\n",
       "      <td>2020-08-27</td>\n",
       "      <td>2020-08-25</td>\n",
       "      <td>Laboratory-confirmed case</td>\n",
       "      <td>Female</td>\n",
       "      <td>30 - 39 Years</td>\n",
       "      <td>Hispanic/Latino</td>\n",
       "      <td>No</td>\n",
       "      <td>Unknown</td>\n",
       "      <td>No</td>\n",
       "      <td>Unknown</td>\n",
       "    </tr>\n",
       "    <tr>\n",
       "      <th>1</th>\n",
       "      <td>2020-12-15</td>\n",
       "      <td>2020-12-15</td>\n",
       "      <td>NaT</td>\n",
       "      <td>Laboratory-confirmed case</td>\n",
       "      <td>Female</td>\n",
       "      <td>10 - 19 Years</td>\n",
       "      <td>Black, Non-Hispanic</td>\n",
       "      <td>No</td>\n",
       "      <td>Unknown</td>\n",
       "      <td>No</td>\n",
       "      <td>No</td>\n",
       "    </tr>\n",
       "    <tr>\n",
       "      <th>2</th>\n",
       "      <td>2020-09-21</td>\n",
       "      <td>NaT</td>\n",
       "      <td>2020-09-21</td>\n",
       "      <td>Laboratory-confirmed case</td>\n",
       "      <td>Female</td>\n",
       "      <td>10 - 19 Years</td>\n",
       "      <td>Unknown</td>\n",
       "      <td>No</td>\n",
       "      <td>Missing</td>\n",
       "      <td>No</td>\n",
       "      <td>Missing</td>\n",
       "    </tr>\n",
       "  </tbody>\n",
       "</table>\n",
       "</div>"
      ],
      "text/plain": [
       "  cdc_case_earliest_dt pos_spec_dt   onset_dt             current_status  \\\n",
       "0           2020-08-25  2020-08-27 2020-08-25  Laboratory-confirmed case   \n",
       "1           2020-12-15  2020-12-15        NaT  Laboratory-confirmed case   \n",
       "2           2020-09-21         NaT 2020-09-21  Laboratory-confirmed case   \n",
       "\n",
       "      sex      age_group race_ethnicity_combined hosp_yn   icu_yn death_yn  \\\n",
       "0  Female  30 - 39 Years         Hispanic/Latino      No  Unknown       No   \n",
       "1  Female  10 - 19 Years     Black, Non-Hispanic      No  Unknown       No   \n",
       "2  Female  10 - 19 Years                 Unknown      No  Missing       No   \n",
       "\n",
       "  medcond_yn  \n",
       "0    Unknown  \n",
       "1         No  \n",
       "2    Missing  "
      ]
     },
     "execution_count": 412,
     "metadata": {},
     "output_type": "execute_result"
    }
   ],
   "source": [
    "# I've chosen to keep the old index for now.\n",
    "data = pd.read_csv(\"data_after_part1.csv\", parse_dates = [1,2,3], index_col=0)\n",
    "\n",
    "for field in data.columns[3:]:\n",
    "    data[field] = data[field].astype(\"category\")\n",
    "\n",
    "data.head(3)"
   ]
  },
  {
   "cell_type": "markdown",
   "metadata": {},
   "source": [
    "Summary Statistics\n",
    "=="
   ]
  },
  {
   "cell_type": "markdown",
   "metadata": {},
   "source": [
    "It can already be seen from the table that some of these data sets have a large amount of missing values - icu_yn and medcond_yn in particular. \n",
    "\n",
    "Also, some Yes/No fields have 4 or even 5 possible values, which is odd at first glance.\n",
    "\n",
    "The next step is to look at each feature individually."
   ]
  },
  {
   "cell_type": "code",
   "execution_count": 414,
   "metadata": {},
   "outputs": [
    {
     "data": {
      "text/html": [
       "<div>\n",
       "<style scoped>\n",
       "    .dataframe tbody tr th:only-of-type {\n",
       "        vertical-align: middle;\n",
       "    }\n",
       "\n",
       "    .dataframe tbody tr th {\n",
       "        vertical-align: top;\n",
       "    }\n",
       "\n",
       "    .dataframe thead th {\n",
       "        text-align: right;\n",
       "    }\n",
       "</style>\n",
       "<table border=\"1\" class=\"dataframe\">\n",
       "  <thead>\n",
       "    <tr style=\"text-align: right;\">\n",
       "      <th></th>\n",
       "      <th>count</th>\n",
       "      <th>unique</th>\n",
       "      <th>top</th>\n",
       "      <th>freq</th>\n",
       "    </tr>\n",
       "  </thead>\n",
       "  <tbody>\n",
       "    <tr>\n",
       "      <th>current_status</th>\n",
       "      <td>9290</td>\n",
       "      <td>2</td>\n",
       "      <td>Laboratory-confirmed case</td>\n",
       "      <td>8602</td>\n",
       "    </tr>\n",
       "    <tr>\n",
       "      <th>sex</th>\n",
       "      <td>9290</td>\n",
       "      <td>4</td>\n",
       "      <td>Female</td>\n",
       "      <td>4774</td>\n",
       "    </tr>\n",
       "    <tr>\n",
       "      <th>age_group</th>\n",
       "      <td>9290</td>\n",
       "      <td>10</td>\n",
       "      <td>20 - 29 Years</td>\n",
       "      <td>1714</td>\n",
       "    </tr>\n",
       "    <tr>\n",
       "      <th>race_ethnicity_combined</th>\n",
       "      <td>9290</td>\n",
       "      <td>9</td>\n",
       "      <td>Unknown</td>\n",
       "      <td>3611</td>\n",
       "    </tr>\n",
       "    <tr>\n",
       "      <th>hosp_yn</th>\n",
       "      <td>9290</td>\n",
       "      <td>5</td>\n",
       "      <td>No</td>\n",
       "      <td>4941</td>\n",
       "    </tr>\n",
       "    <tr>\n",
       "      <th>icu_yn</th>\n",
       "      <td>9290</td>\n",
       "      <td>4</td>\n",
       "      <td>Missing</td>\n",
       "      <td>6939</td>\n",
       "    </tr>\n",
       "    <tr>\n",
       "      <th>death_yn</th>\n",
       "      <td>9290</td>\n",
       "      <td>2</td>\n",
       "      <td>No</td>\n",
       "      <td>8954</td>\n",
       "    </tr>\n",
       "    <tr>\n",
       "      <th>medcond_yn</th>\n",
       "      <td>9290</td>\n",
       "      <td>4</td>\n",
       "      <td>Missing</td>\n",
       "      <td>6822</td>\n",
       "    </tr>\n",
       "  </tbody>\n",
       "</table>\n",
       "</div>"
      ],
      "text/plain": [
       "                        count unique                        top  freq\n",
       "current_status           9290      2  Laboratory-confirmed case  8602\n",
       "sex                      9290      4                     Female  4774\n",
       "age_group                9290     10              20 - 29 Years  1714\n",
       "race_ethnicity_combined  9290      9                    Unknown  3611\n",
       "hosp_yn                  9290      5                         No  4941\n",
       "icu_yn                   9290      4                    Missing  6939\n",
       "death_yn                 9290      2                         No  8954\n",
       "medcond_yn               9290      4                    Missing  6822"
      ]
     },
     "execution_count": 414,
     "metadata": {},
     "output_type": "execute_result"
    }
   ],
   "source": [
    "data.select_dtypes(\"category\").describe().T"
   ]
  },
  {
   "cell_type": "markdown",
   "metadata": {},
   "source": [
    "Individual Features\n",
    "=="
   ]
  },
  {
   "cell_type": "markdown",
   "metadata": {},
   "source": [
    "A function for describing datetime features.<br> \n",
    "(It plots and saves a histogram, and displays null count/percentage)"
   ]
  },
  {
   "cell_type": "code",
   "execution_count": 385,
   "metadata": {},
   "outputs": [],
   "source": [
    "def describe(key):\n",
    "    \n",
    "    check_savedir()\n",
    "    \n",
    "    plt.figure()\n",
    "    data[key].hist(bins=20)\n",
    "    \n",
    "    misc.plt_save(key + \"_hist\")\n",
    "    \n",
    "    nulls = data[key].isna().sum()\n",
    "    null_msg = str(nulls) + \" Nulls\"\n",
    "    \n",
    "    if nulls > 0:\n",
    "        nulls_percent = 100 * (nulls / len(data))\n",
    "        null_msg += \", \" + str(nulls_percent) + \"%\"\n",
    "    \n",
    "    print(f\"({null_msg})\")\n",
    "    "
   ]
  },
  {
   "cell_type": "markdown",
   "metadata": {},
   "source": [
    "Earliest Datetime\n",
    "==\n",
    "\n",
    "(Key: cdc_case_earliest_dt)\n",
    "\n",
    "This is the earliest date-time available for a record. It could be the datetime at which the CDC received the information, or a datetime on the information received if available.\n",
    "\n",
    "There are no nulls here, and the distribution is much as one would expect given the available data on the government website of Covid cases.\n"
   ]
  },
  {
   "cell_type": "code",
   "execution_count": 386,
   "metadata": {},
   "outputs": [
    {
     "name": "stdout",
     "output_type": "stream",
     "text": [
      "(0 Nulls)\n"
     ]
    },
    {
     "data": {
      "image/png": "[encoded data removed]",
      "text/plain": [
       "<Figure size 432x288 with 1 Axes>"
      ]
     },
     "metadata": {
      "needs_background": "light"
     },
     "output_type": "display_data"
    }
   ],
   "source": [
    "describe(\"cdc_case_earliest_dt\")"
   ]
  },
  {
   "cell_type": "markdown",
   "metadata": {},
   "source": [
    "Report Datetime\n",
    "==\n",
    "\n",
    "(Key: cdc_report_dt)\n",
    "\n",
    "This field is **deprecated**. Given that the information page on the fields recommends that this no longer be used in favor of `cdc_case_earliest_dt`, this column is dropped in any case.\n",
    "\n",
    "It does have an almost identical distribution to `cdc_case_earliest_dt`, so it makes sense that the other could replace it. It has a significant (but not overwhelming) proportion of nulls. \n",
    "\n",
    "On a trivial note, these nulls could be imputed to reasonable accuracy using the value `cdc_case_earliest_dt` and a scaling factor calculated from records without nulls, I think. But since this column is not being kept, I won't chase it down."
   ]
  },
  {
   "cell_type": "code",
   "execution_count": 387,
   "metadata": {},
   "outputs": [],
   "source": [
    "# describe(\"cdc_report_dt\")"
   ]
  },
  {
   "cell_type": "markdown",
   "metadata": {},
   "source": []
  },
  {
   "cell_type": "code",
   "execution_count": 388,
   "metadata": {},
   "outputs": [
    {
     "name": "stdout",
     "output_type": "stream",
     "text": [
      "(6536 Nulls, 70.35522066738429%)\n"
     ]
    },
    {
     "data": {
      "image/png": "[encoded data removed]",
      "text/plain": [
       "<Figure size 432x288 with 1 Axes>"
      ]
     },
     "metadata": {
      "needs_background": "light"
     },
     "output_type": "display_data"
    }
   ],
   "source": [
    "describe(\"pos_spec_dt\")"
   ]
  },
  {
   "cell_type": "markdown",
   "metadata": {},
   "source": [
    "Symptom Onset Date\n",
    "==\n",
    "\n",
    "(Key: onset_dt)\n",
    "\n",
    "This has a lot of nulls. Less nulls than the positive test.\n",
    "\n",
    "This could make a lot of sense. Only some of the incoming records began on this path after reporting symptoms, and of these, many might have something other going on than Covid."
   ]
  },
  {
   "cell_type": "code",
   "execution_count": 389,
   "metadata": {},
   "outputs": [
    {
     "name": "stdout",
     "output_type": "stream",
     "text": [
      "(4449 Nulls, 47.890204520990316%)\n"
     ]
    },
    {
     "data": {
      "image/png": "[encoded data removed]",
      "text/plain": [
       "<Figure size 432x288 with 1 Axes>"
      ]
     },
     "metadata": {
      "needs_background": "light"
     },
     "output_type": "display_data"
    }
   ],
   "source": [
    "describe(\"onset_dt\")"
   ]
  },
  {
   "cell_type": "markdown",
   "metadata": {},
   "source": [
    "The following summary function will be used as a starting point for each categorical feature."
   ]
  },
  {
   "cell_type": "code",
   "execution_count": 390,
   "metadata": {},
   "outputs": [],
   "source": [
    "def describe(key, charts = None):\n",
    "    \"\"\"\n",
    "    Display simple tallies and charts for a\n",
    "    categorical feature.\n",
    "    \"\"\"\n",
    "    \n",
    "    result = pd.DataFrame(index = data[key].unique())\n",
    "    \n",
    "    result[\"Freq.\"] = data[key].value_counts()\n",
    "    result[\"%\"] = data[key].value_counts(normalize=True) * 100\n",
    "    \n",
    "    display(result)\n",
    "\n",
    "    nulls = data[key].isna().sum()\n",
    "    print(\"(Nulls:\", nulls, end=\")\\n\")\n",
    "    \n",
    "    if charts is None:\n",
    "        charts = [\"pie\", \"bar\"]\n",
    "    \n",
    "    tally = data[key].value_counts()\n",
    "    \n",
    "    # Plot each chart, and save as a png to the\n",
    "    # save directory.\n",
    "    \n",
    "    check_savedir()\n",
    "    \n",
    "    for chart in charts:\n",
    "        \n",
    "        # Each chart should be on a separate figure.\n",
    "        plt.figure(figsize=[5, 5])\n",
    "        \n",
    "        # The ylabel gets in the way sometimes, and isn't\n",
    "        # needed since only one plot is done at a time below.\n",
    "        tally.plot(kind=chart, ylabel=\"\")\n",
    "        \n",
    "        # Same again, but in picture form and on a larger\n",
    "        # figure. The larger figure helps with labels.\n",
    "        plt.figure(figsize=[10, 10])\n",
    "        tally.plot(kind=chart, ylabel=\"\")\n",
    "        path = savedir + \"/\" + key + \"_\" + chart + \".png\"\n",
    "        plt.savefig(path)\n",
    "        plt.close()"
   ]
  },
  {
   "cell_type": "markdown",
   "metadata": {},
   "source": [
    "Current Status\n",
    "==\n",
    "\n",
    "(Key \"current_satus\")\n",
    "\n",
    "Two unique values here. No nulls!!! This is about as perfect as things get on that front.\n",
    "\n",
    "Taking a look at the relative frequencies, we can see that the Laboratory-confirmed cases dominate. Caution might be needed there in future."
   ]
  },
  {
   "cell_type": "code",
   "execution_count": 391,
   "metadata": {
    "scrolled": false
   },
   "outputs": [
    {
     "data": {
      "text/html": [
       "<div>\n",
       "<style scoped>\n",
       "    .dataframe tbody tr th:only-of-type {\n",
       "        vertical-align: middle;\n",
       "    }\n",
       "\n",
       "    .dataframe tbody tr th {\n",
       "        vertical-align: top;\n",
       "    }\n",
       "\n",
       "    .dataframe thead th {\n",
       "        text-align: right;\n",
       "    }\n",
       "</style>\n",
       "<table border=\"1\" class=\"dataframe\">\n",
       "  <thead>\n",
       "    <tr style=\"text-align: right;\">\n",
       "      <th></th>\n",
       "      <th>Freq.</th>\n",
       "      <th>%</th>\n",
       "    </tr>\n",
       "  </thead>\n",
       "  <tbody>\n",
       "    <tr>\n",
       "      <th>Laboratory-confirmed case</th>\n",
       "      <td>8602</td>\n",
       "      <td>92.594187</td>\n",
       "    </tr>\n",
       "    <tr>\n",
       "      <th>Probable Case</th>\n",
       "      <td>688</td>\n",
       "      <td>7.405813</td>\n",
       "    </tr>\n",
       "  </tbody>\n",
       "</table>\n",
       "</div>"
      ],
      "text/plain": [
       "                           Freq.          %\n",
       "Laboratory-confirmed case   8602  92.594187\n",
       "Probable Case                688   7.405813"
      ]
     },
     "metadata": {},
     "output_type": "display_data"
    },
    {
     "name": "stdout",
     "output_type": "stream",
     "text": [
      "(Nulls: 0)\n"
     ]
    },
    {
     "data": {
      "image/png": "[encoded data removed]",
      "text/plain": [
       "<Figure size 360x360 with 1 Axes>"
      ]
     },
     "metadata": {},
     "output_type": "display_data"
    },
    {
     "data": {
      "image/png": "[encoded data removed]",
      "text/plain": [
       "<Figure size 360x360 with 1 Axes>"
      ]
     },
     "metadata": {
      "needs_background": "light"
     },
     "output_type": "display_data"
    }
   ],
   "source": [
    "describe(\"current_status\")"
   ]
  },
  {
   "cell_type": "markdown",
   "metadata": {},
   "source": [
    "Sex\n",
    "==\n",
    "\n",
    "(Key: \"sex\")"
   ]
  },
  {
   "cell_type": "markdown",
   "metadata": {},
   "source": [
    "Four values. Female and Male are the expected, directly useful ones.\n",
    "\n",
    "Missing and Unknown are interesting. In theory they could provide different information, since one is probably given by the user and the other inferred automatically. However, in terms of providing information about gender, it is largely useless.\n",
    "\n",
    "More info about that in the Data Action Plan, though."
   ]
  },
  {
   "cell_type": "code",
   "execution_count": 392,
   "metadata": {
    "scrolled": false
   },
   "outputs": [
    {
     "data": {
      "text/html": [
       "<div>\n",
       "<style scoped>\n",
       "    .dataframe tbody tr th:only-of-type {\n",
       "        vertical-align: middle;\n",
       "    }\n",
       "\n",
       "    .dataframe tbody tr th {\n",
       "        vertical-align: top;\n",
       "    }\n",
       "\n",
       "    .dataframe thead th {\n",
       "        text-align: right;\n",
       "    }\n",
       "</style>\n",
       "<table border=\"1\" class=\"dataframe\">\n",
       "  <thead>\n",
       "    <tr style=\"text-align: right;\">\n",
       "      <th></th>\n",
       "      <th>Freq.</th>\n",
       "      <th>%</th>\n",
       "    </tr>\n",
       "  </thead>\n",
       "  <tbody>\n",
       "    <tr>\n",
       "      <th>Female</th>\n",
       "      <td>4774</td>\n",
       "      <td>51.388590</td>\n",
       "    </tr>\n",
       "    <tr>\n",
       "      <th>Male</th>\n",
       "      <td>4426</td>\n",
       "      <td>47.642626</td>\n",
       "    </tr>\n",
       "    <tr>\n",
       "      <th>Unknown</th>\n",
       "      <td>75</td>\n",
       "      <td>0.807320</td>\n",
       "    </tr>\n",
       "    <tr>\n",
       "      <th>Missing</th>\n",
       "      <td>15</td>\n",
       "      <td>0.161464</td>\n",
       "    </tr>\n",
       "  </tbody>\n",
       "</table>\n",
       "</div>"
      ],
      "text/plain": [
       "         Freq.          %\n",
       "Female    4774  51.388590\n",
       "Male      4426  47.642626\n",
       "Unknown     75   0.807320\n",
       "Missing     15   0.161464"
      ]
     },
     "metadata": {},
     "output_type": "display_data"
    },
    {
     "name": "stdout",
     "output_type": "stream",
     "text": [
      "(Nulls: 0)\n"
     ]
    },
    {
     "data": {
      "image/png": "[encoded data removed]",
      "text/plain": [
       "<Figure size 360x360 with 1 Axes>"
      ]
     },
     "metadata": {},
     "output_type": "display_data"
    },
    {
     "data": {
      "image/png": "[encoded data removed]",
      "text/plain": [
       "<Figure size 360x360 with 1 Axes>"
      ]
     },
     "metadata": {
      "needs_background": "light"
     },
     "output_type": "display_data"
    }
   ],
   "source": [
    "describe(\"sex\")"
   ]
  },
  {
   "cell_type": "markdown",
   "metadata": {},
   "source": [
    "Age Group\n",
    "==\n",
    "\n",
    "(Key: \"age_group\")\n",
    "\n",
    "Simple age ranges, spread out as one might expect. It might be worth making a numerical feature from this.\n",
    "\n",
    "I'm not sure what to make of the distribution right now, but it seems to make sense when you consider the distribution of age in general Ireland and account for the fact that children are remarkably resistent to the virus and less of a concern when testing. Maybe.\n",
    "\n",
    "There are, again, a tiny number of rows with missing age. Dropping them and missing gender rows, we're still at about a percent only."
   ]
  },
  {
   "cell_type": "code",
   "execution_count": 393,
   "metadata": {},
   "outputs": [
    {
     "data": {
      "text/html": [
       "<div>\n",
       "<style scoped>\n",
       "    .dataframe tbody tr th:only-of-type {\n",
       "        vertical-align: middle;\n",
       "    }\n",
       "\n",
       "    .dataframe tbody tr th {\n",
       "        vertical-align: top;\n",
       "    }\n",
       "\n",
       "    .dataframe thead th {\n",
       "        text-align: right;\n",
       "    }\n",
       "</style>\n",
       "<table border=\"1\" class=\"dataframe\">\n",
       "  <thead>\n",
       "    <tr style=\"text-align: right;\">\n",
       "      <th></th>\n",
       "      <th>Freq.</th>\n",
       "      <th>%</th>\n",
       "    </tr>\n",
       "  </thead>\n",
       "  <tbody>\n",
       "    <tr>\n",
       "      <th>30 - 39 Years</th>\n",
       "      <td>1439</td>\n",
       "      <td>15.489774</td>\n",
       "    </tr>\n",
       "    <tr>\n",
       "      <th>10 - 19 Years</th>\n",
       "      <td>998</td>\n",
       "      <td>10.742734</td>\n",
       "    </tr>\n",
       "    <tr>\n",
       "      <th>20 - 29 Years</th>\n",
       "      <td>1714</td>\n",
       "      <td>18.449946</td>\n",
       "    </tr>\n",
       "    <tr>\n",
       "      <th>60 - 69 Years</th>\n",
       "      <td>965</td>\n",
       "      <td>10.387513</td>\n",
       "    </tr>\n",
       "    <tr>\n",
       "      <th>40 - 49 Years</th>\n",
       "      <td>1356</td>\n",
       "      <td>14.596340</td>\n",
       "    </tr>\n",
       "    <tr>\n",
       "      <th>80+ Years</th>\n",
       "      <td>469</td>\n",
       "      <td>5.048439</td>\n",
       "    </tr>\n",
       "    <tr>\n",
       "      <th>50 - 59 Years</th>\n",
       "      <td>1315</td>\n",
       "      <td>14.155005</td>\n",
       "    </tr>\n",
       "    <tr>\n",
       "      <th>70 - 79 Years</th>\n",
       "      <td>593</td>\n",
       "      <td>6.383208</td>\n",
       "    </tr>\n",
       "    <tr>\n",
       "      <th>0 - 9 Years</th>\n",
       "      <td>429</td>\n",
       "      <td>4.617869</td>\n",
       "    </tr>\n",
       "    <tr>\n",
       "      <th>Missing</th>\n",
       "      <td>12</td>\n",
       "      <td>0.129171</td>\n",
       "    </tr>\n",
       "  </tbody>\n",
       "</table>\n",
       "</div>"
      ],
      "text/plain": [
       "               Freq.          %\n",
       "30 - 39 Years   1439  15.489774\n",
       "10 - 19 Years    998  10.742734\n",
       "20 - 29 Years   1714  18.449946\n",
       "60 - 69 Years    965  10.387513\n",
       "40 - 49 Years   1356  14.596340\n",
       "80+ Years        469   5.048439\n",
       "50 - 59 Years   1315  14.155005\n",
       "70 - 79 Years    593   6.383208\n",
       "0 - 9 Years      429   4.617869\n",
       "Missing           12   0.129171"
      ]
     },
     "metadata": {},
     "output_type": "display_data"
    },
    {
     "name": "stdout",
     "output_type": "stream",
     "text": [
      "(Nulls: 0)\n"
     ]
    },
    {
     "data": {
      "image/png": "[encoded data removed]",
      "text/plain": [
       "<Figure size 360x360 with 1 Axes>"
      ]
     },
     "metadata": {},
     "output_type": "display_data"
    },
    {
     "data": {
      "image/png": "[encoded data removed]",
      "text/plain": [
       "<Figure size 360x360 with 1 Axes>"
      ]
     },
     "metadata": {
      "needs_background": "light"
     },
     "output_type": "display_data"
    }
   ],
   "source": [
    "describe(\"age_group\", charts = [\"pie\", \"bar\"])"
   ]
  },
  {
   "cell_type": "markdown",
   "metadata": {},
   "source": [
    "Race and Ethnicity\n",
    "==\n",
    "\n",
    "(Key: race_ethnicity_combined)\n",
    "\n",
    "This is a mess.\n",
    "\n",
    "For one, it would be worth trying to disentangle the features into two: one with Black/Asian/White/etc, and another with this Hispanic thing I'm not quite sure what to make of.\n",
    "\n",
    "For another, there is a huge chunk of \"Unknown\" items here, and a tiny portion of \"Missing\". There is a \"Multiple/Other\" section, I imagine this has more to do with users not putting down their race than a missing category. It's a large enough proportion of rows that dropping them would be a significant loss of data."
   ]
  },
  {
   "cell_type": "code",
   "execution_count": 394,
   "metadata": {
    "scrolled": false
   },
   "outputs": [
    {
     "data": {
      "text/html": [
       "<div>\n",
       "<style scoped>\n",
       "    .dataframe tbody tr th:only-of-type {\n",
       "        vertical-align: middle;\n",
       "    }\n",
       "\n",
       "    .dataframe tbody tr th {\n",
       "        vertical-align: top;\n",
       "    }\n",
       "\n",
       "    .dataframe thead th {\n",
       "        text-align: right;\n",
       "    }\n",
       "</style>\n",
       "<table border=\"1\" class=\"dataframe\">\n",
       "  <thead>\n",
       "    <tr style=\"text-align: right;\">\n",
       "      <th></th>\n",
       "      <th>Freq.</th>\n",
       "      <th>%</th>\n",
       "    </tr>\n",
       "  </thead>\n",
       "  <tbody>\n",
       "    <tr>\n",
       "      <th>Hispanic/Latino</th>\n",
       "      <td>980</td>\n",
       "      <td>10.548977</td>\n",
       "    </tr>\n",
       "    <tr>\n",
       "      <th>Black, Non-Hispanic</th>\n",
       "      <td>671</td>\n",
       "      <td>7.222820</td>\n",
       "    </tr>\n",
       "    <tr>\n",
       "      <th>Unknown</th>\n",
       "      <td>3611</td>\n",
       "      <td>38.869752</td>\n",
       "    </tr>\n",
       "    <tr>\n",
       "      <th>Asian, Non-Hispanic</th>\n",
       "      <td>252</td>\n",
       "      <td>2.712594</td>\n",
       "    </tr>\n",
       "    <tr>\n",
       "      <th>White, Non-Hispanic</th>\n",
       "      <td>3146</td>\n",
       "      <td>33.864370</td>\n",
       "    </tr>\n",
       "    <tr>\n",
       "      <th>Multiple/Other, Non-Hispanic</th>\n",
       "      <td>470</td>\n",
       "      <td>5.059203</td>\n",
       "    </tr>\n",
       "    <tr>\n",
       "      <th>American Indian/Alaska Native, Non-Hispanic</th>\n",
       "      <td>57</td>\n",
       "      <td>0.613563</td>\n",
       "    </tr>\n",
       "    <tr>\n",
       "      <th>Missing</th>\n",
       "      <td>85</td>\n",
       "      <td>0.914962</td>\n",
       "    </tr>\n",
       "    <tr>\n",
       "      <th>Native Hawaiian/Other Pacific Islander, Non-Hispanic</th>\n",
       "      <td>18</td>\n",
       "      <td>0.193757</td>\n",
       "    </tr>\n",
       "  </tbody>\n",
       "</table>\n",
       "</div>"
      ],
      "text/plain": [
       "                                                    Freq.          %\n",
       "Hispanic/Latino                                       980  10.548977\n",
       "Black, Non-Hispanic                                   671   7.222820\n",
       "Unknown                                              3611  38.869752\n",
       "Asian, Non-Hispanic                                   252   2.712594\n",
       "White, Non-Hispanic                                  3146  33.864370\n",
       "Multiple/Other, Non-Hispanic                          470   5.059203\n",
       "American Indian/Alaska Native, Non-Hispanic            57   0.613563\n",
       "Missing                                                85   0.914962\n",
       "Native Hawaiian/Other Pacific Islander, Non-His...     18   0.193757"
      ]
     },
     "metadata": {},
     "output_type": "display_data"
    },
    {
     "name": "stdout",
     "output_type": "stream",
     "text": [
      "(Nulls: 0)\n"
     ]
    },
    {
     "data": {
      "image/png": "[encoded data removed]",
      "text/plain": [
       "<Figure size 360x360 with 1 Axes>"
      ]
     },
     "metadata": {},
     "output_type": "display_data"
    },
    {
     "data": {
      "image/png": "[encoded data removed]",
      "text/plain": [
       "<Figure size 360x360 with 1 Axes>"
      ]
     },
     "metadata": {
      "needs_background": "light"
     },
     "output_type": "display_data"
    }
   ],
   "source": [
    "describe(\"race_ethnicity_combined\")"
   ]
  },
  {
   "cell_type": "markdown",
   "metadata": {},
   "source": [
    "Hospitalized\n",
    "==\n",
    "\n",
    "(Key: hosp_yn)\n",
    "\n",
    "Lots of \"Missing\" and \"Unknown\" with this one, same discussion as for \"sex\" applies.\n",
    "\n",
    "There is also a small fraction of \"OTH\" items, which seem to indicate \"Other\".\n",
    "\n",
    "Otherwise it's just a straightforward yes/no answer. \"No\" dominates, with a higher count than all other values put together."
   ]
  },
  {
   "cell_type": "code",
   "execution_count": 395,
   "metadata": {},
   "outputs": [
    {
     "data": {
      "text/html": [
       "<div>\n",
       "<style scoped>\n",
       "    .dataframe tbody tr th:only-of-type {\n",
       "        vertical-align: middle;\n",
       "    }\n",
       "\n",
       "    .dataframe tbody tr th {\n",
       "        vertical-align: top;\n",
       "    }\n",
       "\n",
       "    .dataframe thead th {\n",
       "        text-align: right;\n",
       "    }\n",
       "</style>\n",
       "<table border=\"1\" class=\"dataframe\">\n",
       "  <thead>\n",
       "    <tr style=\"text-align: right;\">\n",
       "      <th></th>\n",
       "      <th>Freq.</th>\n",
       "      <th>%</th>\n",
       "    </tr>\n",
       "  </thead>\n",
       "  <tbody>\n",
       "    <tr>\n",
       "      <th>No</th>\n",
       "      <td>4941</td>\n",
       "      <td>53.186222</td>\n",
       "    </tr>\n",
       "    <tr>\n",
       "      <th>Missing</th>\n",
       "      <td>2101</td>\n",
       "      <td>22.615716</td>\n",
       "    </tr>\n",
       "    <tr>\n",
       "      <th>Yes</th>\n",
       "      <td>673</td>\n",
       "      <td>7.244349</td>\n",
       "    </tr>\n",
       "    <tr>\n",
       "      <th>Unknown</th>\n",
       "      <td>1572</td>\n",
       "      <td>16.921421</td>\n",
       "    </tr>\n",
       "    <tr>\n",
       "      <th>OTH</th>\n",
       "      <td>3</td>\n",
       "      <td>0.032293</td>\n",
       "    </tr>\n",
       "  </tbody>\n",
       "</table>\n",
       "</div>"
      ],
      "text/plain": [
       "         Freq.          %\n",
       "No        4941  53.186222\n",
       "Missing   2101  22.615716\n",
       "Yes        673   7.244349\n",
       "Unknown   1572  16.921421\n",
       "OTH          3   0.032293"
      ]
     },
     "metadata": {},
     "output_type": "display_data"
    },
    {
     "name": "stdout",
     "output_type": "stream",
     "text": [
      "(Nulls: 0)\n"
     ]
    },
    {
     "data": {
      "image/png": "[encoded data removed]",
      "text/plain": [
       "<Figure size 360x360 with 1 Axes>"
      ]
     },
     "metadata": {},
     "output_type": "display_data"
    },
    {
     "data": {
      "image/png": "[encoded data removed]",
      "text/plain": [
       "<Figure size 360x360 with 1 Axes>"
      ]
     },
     "metadata": {
      "needs_background": "light"
     },
     "output_type": "display_data"
    }
   ],
   "source": [
    "describe(\"hosp_yn\")"
   ]
  },
  {
   "cell_type": "markdown",
   "metadata": {},
   "source": [
    "Intensive Care\n",
    "==\n",
    "\n",
    "(Key: icu_yn)\n",
    "\n",
    "A huge proportion of \"Missing\" values with this one!\n",
    "\n",
    "It might be worth imputing \"No\" for \"Unknown\" here, since it is expected that few records would have \"Yes\" for this field. A domain expert would be useful to help here, as would iteration - trying a model with and without imputing.\n",
    "\n",
    "Otherwise, simply leaving Missing be might well achieve the same result at the machine learning stage - the model that is extracted might well pick up similar rules or weights (or whatever parameterizes the model) for \"Missing\" and \"No\"."
   ]
  },
  {
   "cell_type": "code",
   "execution_count": 396,
   "metadata": {},
   "outputs": [
    {
     "data": {
      "text/html": [
       "<div>\n",
       "<style scoped>\n",
       "    .dataframe tbody tr th:only-of-type {\n",
       "        vertical-align: middle;\n",
       "    }\n",
       "\n",
       "    .dataframe tbody tr th {\n",
       "        vertical-align: top;\n",
       "    }\n",
       "\n",
       "    .dataframe thead th {\n",
       "        text-align: right;\n",
       "    }\n",
       "</style>\n",
       "<table border=\"1\" class=\"dataframe\">\n",
       "  <thead>\n",
       "    <tr style=\"text-align: right;\">\n",
       "      <th></th>\n",
       "      <th>Freq.</th>\n",
       "      <th>%</th>\n",
       "    </tr>\n",
       "  </thead>\n",
       "  <tbody>\n",
       "    <tr>\n",
       "      <th>Unknown</th>\n",
       "      <td>1258</td>\n",
       "      <td>13.541442</td>\n",
       "    </tr>\n",
       "    <tr>\n",
       "      <th>Missing</th>\n",
       "      <td>6939</td>\n",
       "      <td>74.693219</td>\n",
       "    </tr>\n",
       "    <tr>\n",
       "      <th>No</th>\n",
       "      <td>1017</td>\n",
       "      <td>10.947255</td>\n",
       "    </tr>\n",
       "    <tr>\n",
       "      <th>Yes</th>\n",
       "      <td>76</td>\n",
       "      <td>0.818084</td>\n",
       "    </tr>\n",
       "  </tbody>\n",
       "</table>\n",
       "</div>"
      ],
      "text/plain": [
       "         Freq.          %\n",
       "Unknown   1258  13.541442\n",
       "Missing   6939  74.693219\n",
       "No        1017  10.947255\n",
       "Yes         76   0.818084"
      ]
     },
     "metadata": {},
     "output_type": "display_data"
    },
    {
     "name": "stdout",
     "output_type": "stream",
     "text": [
      "(Nulls: 0)\n"
     ]
    },
    {
     "data": {
      "image/png": "[encoded data removed]",
      "text/plain": [
       "<Figure size 360x360 with 1 Axes>"
      ]
     },
     "metadata": {},
     "output_type": "display_data"
    },
    {
     "data": {
      "image/png": "[encoded data removed]",
      "text/plain": [
       "<Figure size 360x360 with 1 Axes>"
      ]
     },
     "metadata": {
      "needs_background": "light"
     },
     "output_type": "display_data"
    }
   ],
   "source": [
    "describe(\"icu_yn\")"
   ]
  },
  {
   "cell_type": "markdown",
   "metadata": {},
   "source": [
    "Death\n",
    "==\n",
    "\n",
    "(Key: death_yn)\n",
    "\n",
    "This is the **target feature**.\n",
    "\n",
    "There are no missing values here, just \"Yes\" and \"No\". That's good, because given that it is the target, it being missing from a row would likely mean use having to drop the row.\n",
    "\n",
    "It is heavily dominated by the \"No\" value, which is expected. This presents a challenge w.r.t random sampling later on in the Data Analysis process, but that is not our concern right now."
   ]
  },
  {
   "cell_type": "code",
   "execution_count": 397,
   "metadata": {},
   "outputs": [
    {
     "data": {
      "text/html": [
       "<div>\n",
       "<style scoped>\n",
       "    .dataframe tbody tr th:only-of-type {\n",
       "        vertical-align: middle;\n",
       "    }\n",
       "\n",
       "    .dataframe tbody tr th {\n",
       "        vertical-align: top;\n",
       "    }\n",
       "\n",
       "    .dataframe thead th {\n",
       "        text-align: right;\n",
       "    }\n",
       "</style>\n",
       "<table border=\"1\" class=\"dataframe\">\n",
       "  <thead>\n",
       "    <tr style=\"text-align: right;\">\n",
       "      <th></th>\n",
       "      <th>Freq.</th>\n",
       "      <th>%</th>\n",
       "    </tr>\n",
       "  </thead>\n",
       "  <tbody>\n",
       "    <tr>\n",
       "      <th>No</th>\n",
       "      <td>8954</td>\n",
       "      <td>96.383208</td>\n",
       "    </tr>\n",
       "    <tr>\n",
       "      <th>Yes</th>\n",
       "      <td>336</td>\n",
       "      <td>3.616792</td>\n",
       "    </tr>\n",
       "  </tbody>\n",
       "</table>\n",
       "</div>"
      ],
      "text/plain": [
       "     Freq.          %\n",
       "No    8954  96.383208\n",
       "Yes    336   3.616792"
      ]
     },
     "metadata": {},
     "output_type": "display_data"
    },
    {
     "name": "stdout",
     "output_type": "stream",
     "text": [
      "(Nulls: 0)\n"
     ]
    },
    {
     "data": {
      "image/png": "[encoded data removed]",
      "text/plain": [
       "<Figure size 360x360 with 1 Axes>"
      ]
     },
     "metadata": {},
     "output_type": "display_data"
    },
    {
     "data": {
      "image/png": "[encoded data removed]",
      "text/plain": [
       "<Figure size 360x360 with 1 Axes>"
      ]
     },
     "metadata": {
      "needs_background": "light"
     },
     "output_type": "display_data"
    }
   ],
   "source": [
    "describe(\"death_yn\")"
   ]
  },
  {
   "cell_type": "markdown",
   "metadata": {},
   "source": [
    "Medical Condition\n",
    "==\n",
    "\n",
    "(Key: medcond_yn)\n",
    "\n",
    "Similar to ICU here. Lots of \"Missing\", but \"Missing\" and \"Unknown\" can most likely be imputed as \"No\", since it is expected that most people would not have a (relevant) medical condition, and, moreover, most people that do would know about it while most people that don't would have had no method or reason to confirm this.\n",
    "\n",
    "It would worth confirming this hunch with a domain expert, though."
   ]
  },
  {
   "cell_type": "code",
   "execution_count": 398,
   "metadata": {},
   "outputs": [
    {
     "data": {
      "text/html": [
       "<div>\n",
       "<style scoped>\n",
       "    .dataframe tbody tr th:only-of-type {\n",
       "        vertical-align: middle;\n",
       "    }\n",
       "\n",
       "    .dataframe tbody tr th {\n",
       "        vertical-align: top;\n",
       "    }\n",
       "\n",
       "    .dataframe thead th {\n",
       "        text-align: right;\n",
       "    }\n",
       "</style>\n",
       "<table border=\"1\" class=\"dataframe\">\n",
       "  <thead>\n",
       "    <tr style=\"text-align: right;\">\n",
       "      <th></th>\n",
       "      <th>Freq.</th>\n",
       "      <th>%</th>\n",
       "    </tr>\n",
       "  </thead>\n",
       "  <tbody>\n",
       "    <tr>\n",
       "      <th>Unknown</th>\n",
       "      <td>741</td>\n",
       "      <td>7.976319</td>\n",
       "    </tr>\n",
       "    <tr>\n",
       "      <th>No</th>\n",
       "      <td>906</td>\n",
       "      <td>9.752422</td>\n",
       "    </tr>\n",
       "    <tr>\n",
       "      <th>Missing</th>\n",
       "      <td>6822</td>\n",
       "      <td>73.433800</td>\n",
       "    </tr>\n",
       "    <tr>\n",
       "      <th>Yes</th>\n",
       "      <td>821</td>\n",
       "      <td>8.837460</td>\n",
       "    </tr>\n",
       "  </tbody>\n",
       "</table>\n",
       "</div>"
      ],
      "text/plain": [
       "         Freq.          %\n",
       "Unknown    741   7.976319\n",
       "No         906   9.752422\n",
       "Missing   6822  73.433800\n",
       "Yes        821   8.837460"
      ]
     },
     "metadata": {},
     "output_type": "display_data"
    },
    {
     "name": "stdout",
     "output_type": "stream",
     "text": [
      "(Nulls: 0)\n"
     ]
    },
    {
     "data": {
      "image/png": "[encoded data removed]",
      "text/plain": [
       "<Figure size 360x360 with 1 Axes>"
      ]
     },
     "metadata": {},
     "output_type": "display_data"
    },
    {
     "data": {
      "image/png": "[encoded data removed]",
      "text/plain": [
       "<Figure size 360x360 with 1 Axes>"
      ]
     },
     "metadata": {
      "needs_background": "light"
     },
     "output_type": "display_data"
    }
   ],
   "source": [
    "describe(\"medcond_yn\")"
   ]
  },
  {
   "cell_type": "code",
   "execution_count": null,
   "metadata": {},
   "outputs": [],
   "source": []
  }
 ],
 "metadata": {
  "kernelspec": {
   "display_name": "Python 3",
   "language": "python",
   "name": "python3"
  },
  "language_info": {
   "codemirror_mode": {
    "name": "ipython",
    "version": 3
   },
   "file_extension": ".py",
   "mimetype": "text/x-python",
   "name": "python",
   "nbconvert_exporter": "python",
   "pygments_lexer": "ipython3",
   "version": "3.8.5"
  }
 },
 "nbformat": 4,
 "nbformat_minor": 4
}
