{
 "cells": [
  {
   "attachments": {},
   "cell_type": "markdown",
   "metadata": {},
   "source": [
    "Choosing New Features\n",
    "==\n",
    "\n",
    "There are lots of features that could be created here, the first step was to narrow it down to a few  of interest.\n",
    "\n",
    "**Creating Features from Datetimes**\n",
    "\n",
    "In particular, for each of `onset-symptoms` and `positive-test-dt` (the two datetime features that I opted to drop), some ideas would be:\n",
    "\n",
    "Symptoms/Positive Spec reported: Yes/No\n",
    "Days since `cdc_case_earliest_dt`\n",
    "Days from fixed point. (Say, 1st Jan 2020)\n",
    "Days between reporting and now. \n",
    "\n",
    "From these, I liked the first for its simplicity and robustness to error.\n",
    "\n",
    "I also liked the second and fourth, but given the similarity between these datasets and `cdc_case_earliest_dt`, I think most of the relevant information could be captured from `cdc_case_earliest_dt` alone? I'm not certain.\n",
    "\n",
    "\n",
    "Speaking of `cdc_case_earliest_dt`, the feature describing the number of days between it and today seems very relevant. If the case is very old and the person has not been reported dead yet, they are likely long since recovered.\n",
    "\n",
    "The tricky bit there is that the dataset is old and out of date. This would make more sense in a setting where the data could be updated regularly. I don't even know when the dataset dates from, which slightly complicates testing the validity of the feature.\n",
    "\n",
    "All in all, I settled for three features here:<br>\n",
    "The categorical Yes/No for both `onset_symptoms` and `positive-test-dt`, and the numerical days since first earliest dt.\n",
    "\n",
    "\n",
    "**Creating a Numerical Feature**\n",
    "\n",
    "Creating a numerical feature from age might help with both manual statistical analysis and the models, just because numbers are easier to work with.\n",
    "\n",
    "Of course, all the categorical variables will have to be encoded at some point, and no new information can be captured by doing it now. But having the encoding be the midpoint of each interval rather than arbitrary integers means that numerical plots and descriptive stats can be used.<br>\n",
    "(I really have no clue if it would help Machine Learning at all)\n",
    "    \n",
    "\n",
    "**Encoding Unknown vs Missing** \n",
    "   \n",
    "Earlier on, in part 2, I combined Unknown and Missing into a single value across the table. This is because I felt that they added no new information to their features. \n",
    "\n",
    "That being said, there might be an interesting distinction (independent of the missing data) between the two, and this seems like it might be worth encoding into a separate indicator feature.\n",
    "\n",
    "For example, the feature `icu_yn` could have the feature `icu_status` associated with it which can take the values \"Specified\", \"Missing\", or \"Unknown\".\n",
    "\n",
    "\n",
    "**Splitting up Race/Eth**\n",
    "\n",
    "One finally option I considered was splitting up Race and Eth. into subfeatures. I wonder if Black/Asian/White/etc might be useful to have separate from Hispanic/Non-hispanic.\n"
   ]
  },
  {
   "cell_type": "markdown",
   "metadata": {},
   "source": [
    "Modifying the Dataset\n",
    "=="
   ]
  },
  {
   "cell_type": "markdown",
   "metadata": {},
   "source": [
    "Imports."
   ]
  },
  {
   "cell_type": "code",
   "execution_count": 28,
   "metadata": {},
   "outputs": [],
   "source": [
    "import pandas as pd\n",
    "import matplotlib.pyplot as plt\n",
    "import numpy as np\n",
    "from datetime import datetime\n",
    "\n",
    "import misc"
   ]
  },
  {
   "cell_type": "markdown",
   "metadata": {},
   "source": [
    "Reading in the dataset."
   ]
  },
  {
   "cell_type": "code",
   "execution_count": 34,
   "metadata": {},
   "outputs": [
    {
     "data": {
      "text/html": [
       "<div>\n",
       "<style scoped>\n",
       "    .dataframe tbody tr th:only-of-type {\n",
       "        vertical-align: middle;\n",
       "    }\n",
       "\n",
       "    .dataframe tbody tr th {\n",
       "        vertical-align: top;\n",
       "    }\n",
       "\n",
       "    .dataframe thead th {\n",
       "        text-align: right;\n",
       "    }\n",
       "</style>\n",
       "<table border=\"1\" class=\"dataframe\">\n",
       "  <thead>\n",
       "    <tr style=\"text-align: right;\">\n",
       "      <th></th>\n",
       "      <th>cdc_case_earliest_dt</th>\n",
       "      <th>pos_spec_dt</th>\n",
       "      <th>onset_dt</th>\n",
       "      <th>current_status</th>\n",
       "      <th>sex</th>\n",
       "      <th>age_group</th>\n",
       "      <th>race_ethnicity_combined</th>\n",
       "      <th>hosp_yn</th>\n",
       "      <th>icu_yn</th>\n",
       "      <th>death_yn</th>\n",
       "      <th>medcond_yn</th>\n",
       "    </tr>\n",
       "  </thead>\n",
       "  <tbody>\n",
       "    <tr>\n",
       "      <th>0</th>\n",
       "      <td>2020-08-25</td>\n",
       "      <td>2020-08-27</td>\n",
       "      <td>2020-08-25</td>\n",
       "      <td>Laboratory-confirmed case</td>\n",
       "      <td>Female</td>\n",
       "      <td>30 - 39 Years</td>\n",
       "      <td>Hispanic/Latino</td>\n",
       "      <td>No</td>\n",
       "      <td>Unknown</td>\n",
       "      <td>No</td>\n",
       "      <td>Unknown</td>\n",
       "    </tr>\n",
       "    <tr>\n",
       "      <th>1</th>\n",
       "      <td>2020-12-15</td>\n",
       "      <td>2020-12-15</td>\n",
       "      <td>NaN</td>\n",
       "      <td>Laboratory-confirmed case</td>\n",
       "      <td>Female</td>\n",
       "      <td>10 - 19 Years</td>\n",
       "      <td>Black, Non-Hispanic</td>\n",
       "      <td>No</td>\n",
       "      <td>Unknown</td>\n",
       "      <td>No</td>\n",
       "      <td>No</td>\n",
       "    </tr>\n",
       "    <tr>\n",
       "      <th>2</th>\n",
       "      <td>2020-09-21</td>\n",
       "      <td>NaN</td>\n",
       "      <td>2020-09-21</td>\n",
       "      <td>Laboratory-confirmed case</td>\n",
       "      <td>Female</td>\n",
       "      <td>10 - 19 Years</td>\n",
       "      <td>Unknown</td>\n",
       "      <td>No</td>\n",
       "      <td>Missing</td>\n",
       "      <td>No</td>\n",
       "      <td>Missing</td>\n",
       "    </tr>\n",
       "  </tbody>\n",
       "</table>\n",
       "</div>"
      ],
      "text/plain": [
       "  cdc_case_earliest_dt pos_spec_dt    onset_dt             current_status  \\\n",
       "0           2020-08-25  2020-08-27  2020-08-25  Laboratory-confirmed case   \n",
       "1           2020-12-15  2020-12-15         NaN  Laboratory-confirmed case   \n",
       "2           2020-09-21         NaN  2020-09-21  Laboratory-confirmed case   \n",
       "\n",
       "      sex      age_group race_ethnicity_combined hosp_yn   icu_yn death_yn  \\\n",
       "0  Female  30 - 39 Years         Hispanic/Latino      No  Unknown       No   \n",
       "1  Female  10 - 19 Years     Black, Non-Hispanic      No  Unknown       No   \n",
       "2  Female  10 - 19 Years                 Unknown      No  Missing       No   \n",
       "\n",
       "  medcond_yn  \n",
       "0    Unknown  \n",
       "1         No  \n",
       "2    Missing  "
      ]
     },
     "execution_count": 34,
     "metadata": {},
     "output_type": "execute_result"
    }
   ],
   "source": [
    "# Notice that this is data set from part 1!!!\n",
    "# This is because that while the data is less clean, it does contain some interesting things with\n",
    "# which to try derive features from.\n",
    "\n",
    "data = pd.read_csv(\"data_after_part1.csv\", parse_dates = [1], index_col=0)\n",
    "\n",
    "for field in data.columns[1:]:\n",
    "    data[field] = data[field].astype(\"category\")\n",
    "\n",
    "data.head(3)"
   ]
  },
  {
   "cell_type": "markdown",
   "metadata": {},
   "source": [
    "case_age\n",
    "==\n",
    "\n",
    "This is the time since the earliest reported date on the case.<br>\n",
    "It would need to be updated regularly, of course."
   ]
  },
  {
   "cell_type": "code",
   "execution_count": 35,
   "metadata": {},
   "outputs": [
    {
     "data": {
      "text/plain": [
       "0   199 days 22:24:19.524154\n",
       "1    87 days 22:24:19.524154\n",
       "2   172 days 22:24:19.524154\n",
       "Name: case_age, dtype: timedelta64[ns]"
      ]
     },
     "execution_count": 35,
     "metadata": {},
     "output_type": "execute_result"
    }
   ],
   "source": [
    "data[\"case_age\"] = datetime.now() - data[\"cdc_case_earliest_dt\"]\n",
    "data[\"case_age\"].head(3)"
   ]
  },
  {
   "cell_type": "markdown",
   "metadata": {},
   "source": [
    "The result is lot more chaotic then I would like."
   ]
  },
  {
   "cell_type": "code",
   "execution_count": 36,
   "metadata": {},
   "outputs": [
    {
     "data": {
      "text/plain": [
       "count                           9290\n",
       "mean     172 days 20:34:16.294875202\n",
       "std      132 days 19:44:43.615267552\n",
       "min       -264 days +22:24:19.524154\n",
       "25%          89 days 22:24:19.524154\n",
       "50%         157 days 22:24:19.524154\n",
       "75%         265 days 22:24:19.524154\n",
       "max         436 days 22:24:19.524154\n",
       "Name: case_age, dtype: object"
      ]
     },
     "execution_count": 36,
     "metadata": {},
     "output_type": "execute_result"
    }
   ],
   "source": [
    "data[\"case_age\"].describe()"
   ]
  },
  {
   "cell_type": "markdown",
   "metadata": {},
   "source": [
    "There is a slight relationship though, in that cases with deaths seem to be a little more recent than case without deaths on average. \n",
    "\n",
    "As of writing this, I have no idea what negative numbers are doing here, though. I think I have missed a fairly important data quality issue."
   ]
  },
  {
   "cell_type": "code",
   "execution_count": 39,
   "metadata": {},
   "outputs": [
    {
     "data": {
      "text/plain": [
       "<AxesSubplot:title={'center':'case_age'}, xlabel='death_yn'>"
      ]
     },
     "execution_count": 39,
     "metadata": {},
     "output_type": "execute_result"
    },
    {
     "data": {
      "image/png": "[encoded data removed]",
      "text/plain": [
       "<Figure size 432x288 with 1 Axes>"
      ]
     },
     "metadata": {
      "needs_background": "light"
     },
     "output_type": "display_data"
    }
   ],
   "source": [
    "data.boxplot(\"case_age\", by=\"death_yn\")"
   ]
  },
  {
   "cell_type": "markdown",
   "metadata": {},
   "source": [
    "Before moving on, this is a function for comparing categorical features from the \"Relationships\" notebook."
   ]
  },
  {
   "cell_type": "code",
   "execution_count": 44,
   "metadata": {},
   "outputs": [],
   "source": [
    "def plot_stacked_proportions(x_field, y_field):\n",
    "    \n",
    "    stacks = data.value_counts().groupby([x_field, y_field]).sum().unstack()\n",
    "\n",
    "    stacks = stacks.T\n",
    "\n",
    "    for column in stacks:\n",
    "        stacks[column] /= stacks[cicuolumn].sum()\n",
    "\n",
    "    stacks.T.plot(kind=\"bar\", stacked=True)"
   ]
  },
  {
   "cell_type": "markdown",
   "metadata": {},
   "source": [
    "positive_spec_declared\n",
    "==\n",
    "\n",
    "Whether or not a positive specimen time is given."
   ]
  },
  {
   "cell_type": "code",
   "execution_count": 72,
   "metadata": {},
   "outputs": [
    {
     "data": {
      "text/plain": [
       "0    Yes\n",
       "1    Yes\n",
       "2     No\n",
       "3     No\n",
       "4     No\n",
       "Name: pos_spec_declared, dtype: category\n",
       "Categories (2, object): ['No', 'Yes']"
      ]
     },
     "metadata": {},
     "output_type": "display_data"
    }
   ],
   "source": [
    "data[\"pos_spec_declared\"] = data[\"pos_spec_dt\"].isna().apply(lambda x: \"No\" if x else \"Yes\")\n",
    "data[\"pos_spec_declared\"] = data[\"pos_spec_declared\"].astype(\"category\")\n",
    "\n",
    "display(data[\"pos_spec_declared\"].head())"
   ]
  },
  {
   "cell_type": "markdown",
   "metadata": {},
   "source": [
    "symptoms_declared\n",
    "==\n",
    "\n",
    "Whether or not a specific time is declared for symptoms onset."
   ]
  },
  {
   "cell_type": "code",
   "execution_count": 71,
   "metadata": {},
   "outputs": [
    {
     "data": {
      "text/plain": [
       "0     True\n",
       "1    False\n",
       "2     True\n",
       "3    False\n",
       "4    False\n",
       "Name: symptoms_declared, dtype: bool"
      ]
     },
     "metadata": {},
     "output_type": "display_data"
    }
   ],
   "source": [
    "data[\"symptoms_declared\"] = data[\"onset_dt\"].isna().apply(lambda x: not x)\n",
    "\n",
    "display(data[\"symptoms_declared\"].head())"
   ]
  },
  {
   "cell_type": "code",
   "execution_count": 76,
   "metadata": {},
   "outputs": [
    {
     "data": {
      "text/html": [
       "<div>\n",
       "<style scoped>\n",
       "    .dataframe tbody tr th:only-of-type {\n",
       "        vertical-align: middle;\n",
       "    }\n",
       "\n",
       "    .dataframe tbody tr th {\n",
       "        vertical-align: top;\n",
       "    }\n",
       "\n",
       "    .dataframe thead th {\n",
       "        text-align: right;\n",
       "    }\n",
       "</style>\n",
       "<table border=\"1\" class=\"dataframe\">\n",
       "  <thead>\n",
       "    <tr style=\"text-align: right;\">\n",
       "      <th></th>\n",
       "      <th>cdc_case_earliest_dt</th>\n",
       "      <th>current_status</th>\n",
       "      <th>sex</th>\n",
       "      <th>age_group</th>\n",
       "      <th>race_ethnicity_combined</th>\n",
       "      <th>hosp_yn</th>\n",
       "      <th>icu_yn</th>\n",
       "      <th>death_yn</th>\n",
       "      <th>medcond_yn</th>\n",
       "      <th>case_age</th>\n",
       "      <th>pos_spec_declared</th>\n",
       "      <th>symptoms_declared</th>\n",
       "    </tr>\n",
       "  </thead>\n",
       "  <tbody>\n",
       "    <tr>\n",
       "      <th>0</th>\n",
       "      <td>2020-08-25</td>\n",
       "      <td>Laboratory-confirmed case</td>\n",
       "      <td>Female</td>\n",
       "      <td>30 - 39 Years</td>\n",
       "      <td>Hispanic/Latino</td>\n",
       "      <td>No</td>\n",
       "      <td>Unknown</td>\n",
       "      <td>No</td>\n",
       "      <td>Unknown</td>\n",
       "      <td>199 days 22:24:19.524154</td>\n",
       "      <td>Yes</td>\n",
       "      <td>True</td>\n",
       "    </tr>\n",
       "    <tr>\n",
       "      <th>1</th>\n",
       "      <td>2020-12-15</td>\n",
       "      <td>Laboratory-confirmed case</td>\n",
       "      <td>Female</td>\n",
       "      <td>10 - 19 Years</td>\n",
       "      <td>Black, Non-Hispanic</td>\n",
       "      <td>No</td>\n",
       "      <td>Unknown</td>\n",
       "      <td>No</td>\n",
       "      <td>No</td>\n",
       "      <td>87 days 22:24:19.524154</td>\n",
       "      <td>Yes</td>\n",
       "      <td>False</td>\n",
       "    </tr>\n",
       "    <tr>\n",
       "      <th>2</th>\n",
       "      <td>2020-09-21</td>\n",
       "      <td>Laboratory-confirmed case</td>\n",
       "      <td>Female</td>\n",
       "      <td>10 - 19 Years</td>\n",
       "      <td>Unknown</td>\n",
       "      <td>No</td>\n",
       "      <td>Unknown</td>\n",
       "      <td>No</td>\n",
       "      <td>Unknown</td>\n",
       "      <td>172 days 22:24:19.524154</td>\n",
       "      <td>No</td>\n",
       "      <td>True</td>\n",
       "    </tr>\n",
       "  </tbody>\n",
       "</table>\n",
       "</div>"
      ],
      "text/plain": [
       "  cdc_case_earliest_dt             current_status     sex      age_group  \\\n",
       "0           2020-08-25  Laboratory-confirmed case  Female  30 - 39 Years   \n",
       "1           2020-12-15  Laboratory-confirmed case  Female  10 - 19 Years   \n",
       "2           2020-09-21  Laboratory-confirmed case  Female  10 - 19 Years   \n",
       "\n",
       "  race_ethnicity_combined hosp_yn   icu_yn death_yn medcond_yn  \\\n",
       "0         Hispanic/Latino      No  Unknown       No    Unknown   \n",
       "1     Black, Non-Hispanic      No  Unknown       No         No   \n",
       "2                 Unknown      No  Unknown       No    Unknown   \n",
       "\n",
       "                  case_age pos_spec_declared  symptoms_declared  \n",
       "0 199 days 22:24:19.524154               Yes               True  \n",
       "1  87 days 22:24:19.524154               Yes              False  \n",
       "2 172 days 22:24:19.524154                No               True  "
      ]
     },
     "execution_count": 76,
     "metadata": {},
     "output_type": "execute_result"
    }
   ],
   "source": [
    "# These are the cleanup actions specified in the Action Plan.\n",
    "data = data.drop(\"pos_spec_dt\", axis=1)\n",
    "data = data.drop(\"onset_dt\", axis=1)\n",
    "data = data.replace(\"Missing\", \"Unknown\")\n",
    "data = data.replace(\"OTH\", \"Unknown\")\n",
    "\n",
    "data.to_csv(\"data_after_part3.csv\")\n",
    "\n",
    "data.head(3)"
   ]
  },
  {
   "cell_type": "code",
   "execution_count": null,
   "metadata": {},
   "outputs": [],
   "source": []
  }
 ],
 "metadata": {
  "kernelspec": {
   "display_name": "Python 3",
   "language": "python",
   "name": "python3"
  },
  "language_info": {
   "codemirror_mode": {
    "name": "ipython",
    "version": 3
   },
   "file_extension": ".py",
   "mimetype": "text/x-python",
   "name": "python",
   "nbconvert_exporter": "python",
   "pygments_lexer": "ipython3",
   "version": "3.8.5"
  }
 },
 "nbformat": 4,
 "nbformat_minor": 4
}
