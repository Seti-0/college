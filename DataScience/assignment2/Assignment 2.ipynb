{
 "cells": [
  {
   "cell_type": "code",
   "execution_count": 2,
   "id": "purple-royalty",
   "metadata": {},
   "outputs": [],
   "source": [
    "import pandas as pd\n",
    "import numpy as np\n",
    "import matplotlib.pyplot as plt\n",
    "import scipy\n",
    "\n",
    "import warnings\n",
    "\n",
    "import sklearn\n",
    "import sklearn.ensemble\n",
    "import sklearn.inspection\n",
    "from sklearn.model_selection import train_test_split\n",
    "\n",
    "from datetime import datetime, timedelta"
   ]
  },
  {
   "cell_type": "markdown",
   "id": "absolute-productivity",
   "metadata": {},
   "source": [
    "Part 1: Data Understanding and Preparation\n",
    "=="
   ]
  },
  {
   "cell_type": "markdown",
   "id": "quiet-swing",
   "metadata": {},
   "source": [
    "**Note:** The first part of section, r.e. understanding, is largely a recap of assignment 1 part 3. It is a little different in that in includes the new features from part 4, while excluding the trivia/consistency check section. It also acts on a training set of data rather than the whole data, though this had little to no effect on the plots below.\n",
    "\n",
    "The second part for preparation is new."
   ]
  },
  {
   "cell_type": "markdown",
   "id": "recreational-terminal",
   "metadata": {},
   "source": [
    "First, read in the data, after the modifications made in assignment 1.\n",
    "\n",
    "(This is after dropping columns and creating new features)"
   ]
  },
  {
   "cell_type": "code",
   "execution_count": 3,
   "id": "monetary-barcelona",
   "metadata": {},
   "outputs": [
    {
     "data": {
      "text/plain": [
       "cdc_case_earliest_dt                object\n",
       "current_status                    category\n",
       "sex                               category\n",
       "age_group                         category\n",
       "race_ethnicity_combined           category\n",
       "hosp_yn                           category\n",
       "icu_yn                            category\n",
       "death_yn                          category\n",
       "medcond_yn                        category\n",
       "case_age                   timedelta64[ns]\n",
       "pos_spec_declared                 category\n",
       "symptoms_declared                 category\n",
       "case_age_days                        int64\n",
       "dtype: object"
      ]
     },
     "metadata": {},
     "output_type": "display_data"
    },
    {
     "data": {
      "text/html": [
       "<div>\n",
       "<style scoped>\n",
       "    .dataframe tbody tr th:only-of-type {\n",
       "        vertical-align: middle;\n",
       "    }\n",
       "\n",
       "    .dataframe tbody tr th {\n",
       "        vertical-align: top;\n",
       "    }\n",
       "\n",
       "    .dataframe thead th {\n",
       "        text-align: right;\n",
       "    }\n",
       "</style>\n",
       "<table border=\"1\" class=\"dataframe\">\n",
       "  <thead>\n",
       "    <tr style=\"text-align: right;\">\n",
       "      <th></th>\n",
       "      <th>cdc_case_earliest_dt</th>\n",
       "      <th>current_status</th>\n",
       "      <th>sex</th>\n",
       "      <th>age_group</th>\n",
       "      <th>race_ethnicity_combined</th>\n",
       "      <th>hosp_yn</th>\n",
       "      <th>icu_yn</th>\n",
       "      <th>death_yn</th>\n",
       "      <th>medcond_yn</th>\n",
       "      <th>case_age</th>\n",
       "      <th>pos_spec_declared</th>\n",
       "      <th>symptoms_declared</th>\n",
       "      <th>case_age_days</th>\n",
       "    </tr>\n",
       "  </thead>\n",
       "  <tbody>\n",
       "    <tr>\n",
       "      <th>0</th>\n",
       "      <td>2020-08-25</td>\n",
       "      <td>Laboratory-confirmed case</td>\n",
       "      <td>Female</td>\n",
       "      <td>30 - 39 Years</td>\n",
       "      <td>Hispanic/Latino</td>\n",
       "      <td>No</td>\n",
       "      <td>Unknown</td>\n",
       "      <td>No</td>\n",
       "      <td>Unknown</td>\n",
       "      <td>246 days 15:40:02.408061</td>\n",
       "      <td>Yes</td>\n",
       "      <td>True</td>\n",
       "      <td>246</td>\n",
       "    </tr>\n",
       "    <tr>\n",
       "      <th>1</th>\n",
       "      <td>2020-12-15</td>\n",
       "      <td>Laboratory-confirmed case</td>\n",
       "      <td>Female</td>\n",
       "      <td>10 - 19 Years</td>\n",
       "      <td>Black, Non-Hispanic</td>\n",
       "      <td>No</td>\n",
       "      <td>Unknown</td>\n",
       "      <td>No</td>\n",
       "      <td>No</td>\n",
       "      <td>134 days 15:40:02.408061</td>\n",
       "      <td>Yes</td>\n",
       "      <td>False</td>\n",
       "      <td>134</td>\n",
       "    </tr>\n",
       "    <tr>\n",
       "      <th>2</th>\n",
       "      <td>2020-09-21</td>\n",
       "      <td>Laboratory-confirmed case</td>\n",
       "      <td>Female</td>\n",
       "      <td>10 - 19 Years</td>\n",
       "      <td>Unknown</td>\n",
       "      <td>No</td>\n",
       "      <td>Unknown</td>\n",
       "      <td>No</td>\n",
       "      <td>Unknown</td>\n",
       "      <td>219 days 15:40:02.408061</td>\n",
       "      <td>No</td>\n",
       "      <td>True</td>\n",
       "      <td>219</td>\n",
       "    </tr>\n",
       "  </tbody>\n",
       "</table>\n",
       "</div>"
      ],
      "text/plain": [
       "  cdc_case_earliest_dt             current_status     sex      age_group  \\\n",
       "0           2020-08-25  Laboratory-confirmed case  Female  30 - 39 Years   \n",
       "1           2020-12-15  Laboratory-confirmed case  Female  10 - 19 Years   \n",
       "2           2020-09-21  Laboratory-confirmed case  Female  10 - 19 Years   \n",
       "\n",
       "  race_ethnicity_combined hosp_yn   icu_yn death_yn medcond_yn  \\\n",
       "0         Hispanic/Latino      No  Unknown       No    Unknown   \n",
       "1     Black, Non-Hispanic      No  Unknown       No         No   \n",
       "2                 Unknown      No  Unknown       No    Unknown   \n",
       "\n",
       "                  case_age pos_spec_declared symptoms_declared  case_age_days  \n",
       "0 246 days 15:40:02.408061               Yes              True            246  \n",
       "1 134 days 15:40:02.408061               Yes             False            134  \n",
       "2 219 days 15:40:02.408061                No              True            219  "
      ]
     },
     "execution_count": 3,
     "metadata": {},
     "output_type": "execute_result"
    }
   ],
   "source": [
    "a1_data = pd.read_csv(\"assignment1-data.csv\", index_col=0)\n",
    "\n",
    "# Categorical columns\n",
    "cat_features = [\n",
    "    \"current_status\",\n",
    "    \"sex\",\n",
    "    \"age_group\",\n",
    "    \"race_ethnicity_combined\",\n",
    "    \"hosp_yn\",\n",
    "    \"icu_yn\",\n",
    "    \"death_yn\",\n",
    "    \"medcond_yn\",\n",
    "    \"pos_spec_declared\",\n",
    "    \"symptoms_declared\"\n",
    "]\n",
    "\n",
    "# Convert the categorical columns from plain python\n",
    "# objects to pandas categories\n",
    "for feature in cat_features:\n",
    "    a1_data[feature] = a1_data[feature].astype(\"category\")\n",
    "    \n",
    "# The only non-categorical column at the moment is\n",
    "# \"case_age\", which is a time span.\n",
    "a1_data[\"case_age\"] = pd.to_timedelta(a1_data[\"case_age\"])\n",
    "\n",
    "# The number of days is an easier value to work with than\n",
    "# the full internal representation of a python timedelta.\n",
    "a1_data[\"case_age_days\"] = a1_data[\"case_age\"].map(lambda td: td.days)\n",
    "\n",
    "display(a1_data.dtypes)\n",
    "a1_data.head(3)"
   ]
  },
  {
   "cell_type": "markdown",
   "id": "treated-october",
   "metadata": {},
   "source": [
    "Perform a train-test split."
   ]
  },
  {
   "cell_type": "code",
   "execution_count": 4,
   "id": "rising-moisture",
   "metadata": {},
   "outputs": [
    {
     "name": "stdout",
     "output_type": "stream",
     "text": [
      "Train #: 6503 6503\n",
      "Test #: 2787 2787\n"
     ]
    },
    {
     "data": {
      "text/html": [
       "<div>\n",
       "<style scoped>\n",
       "    .dataframe tbody tr th:only-of-type {\n",
       "        vertical-align: middle;\n",
       "    }\n",
       "\n",
       "    .dataframe tbody tr th {\n",
       "        vertical-align: top;\n",
       "    }\n",
       "\n",
       "    .dataframe thead th {\n",
       "        text-align: right;\n",
       "    }\n",
       "</style>\n",
       "<table border=\"1\" class=\"dataframe\">\n",
       "  <thead>\n",
       "    <tr style=\"text-align: right;\">\n",
       "      <th></th>\n",
       "      <th>cdc_case_earliest_dt</th>\n",
       "      <th>current_status</th>\n",
       "      <th>sex</th>\n",
       "      <th>age_group</th>\n",
       "      <th>race_ethnicity_combined</th>\n",
       "      <th>hosp_yn</th>\n",
       "      <th>icu_yn</th>\n",
       "      <th>medcond_yn</th>\n",
       "      <th>case_age</th>\n",
       "      <th>pos_spec_declared</th>\n",
       "      <th>symptoms_declared</th>\n",
       "      <th>case_age_days</th>\n",
       "      <th>death_yn</th>\n",
       "    </tr>\n",
       "  </thead>\n",
       "  <tbody>\n",
       "    <tr>\n",
       "      <th>7843</th>\n",
       "      <td>2020-11-30</td>\n",
       "      <td>Laboratory-confirmed case</td>\n",
       "      <td>Male</td>\n",
       "      <td>50 - 59 Years</td>\n",
       "      <td>White, Non-Hispanic</td>\n",
       "      <td>Unknown</td>\n",
       "      <td>Unknown</td>\n",
       "      <td>Unknown</td>\n",
       "      <td>149 days 15:40:02.408061</td>\n",
       "      <td>Yes</td>\n",
       "      <td>False</td>\n",
       "      <td>149</td>\n",
       "      <td>No</td>\n",
       "    </tr>\n",
       "    <tr>\n",
       "      <th>5303</th>\n",
       "      <td>2020-12-01</td>\n",
       "      <td>Laboratory-confirmed case</td>\n",
       "      <td>Male</td>\n",
       "      <td>20 - 29 Years</td>\n",
       "      <td>White, Non-Hispanic</td>\n",
       "      <td>Unknown</td>\n",
       "      <td>Unknown</td>\n",
       "      <td>Unknown</td>\n",
       "      <td>148 days 15:40:02.408061</td>\n",
       "      <td>Yes</td>\n",
       "      <td>False</td>\n",
       "      <td>148</td>\n",
       "      <td>No</td>\n",
       "    </tr>\n",
       "  </tbody>\n",
       "</table>\n",
       "</div>"
      ],
      "text/plain": [
       "     cdc_case_earliest_dt             current_status   sex      age_group  \\\n",
       "7843           2020-11-30  Laboratory-confirmed case  Male  50 - 59 Years   \n",
       "5303           2020-12-01  Laboratory-confirmed case  Male  20 - 29 Years   \n",
       "\n",
       "     race_ethnicity_combined  hosp_yn   icu_yn medcond_yn  \\\n",
       "7843     White, Non-Hispanic  Unknown  Unknown    Unknown   \n",
       "5303     White, Non-Hispanic  Unknown  Unknown    Unknown   \n",
       "\n",
       "                     case_age pos_spec_declared symptoms_declared  \\\n",
       "7843 149 days 15:40:02.408061               Yes             False   \n",
       "5303 148 days 15:40:02.408061               Yes             False   \n",
       "\n",
       "      case_age_days death_yn  \n",
       "7843            149       No  \n",
       "5303            148       No  "
      ]
     },
     "execution_count": 4,
     "metadata": {},
     "output_type": "execute_result"
    }
   ],
   "source": [
    "y = a1_data[\"death_yn\"]\n",
    "X = a1_data.drop(\"death_yn\", axis=1) \n",
    "\n",
    "X_train, X_test, y_train, y_test = train_test_split(X, y, random_state=0, test_size=0.3)\n",
    "\n",
    "# Combine the training data for the sake of plotting\n",
    "train_data = X_train.copy()\n",
    "train_data[\"death_yn\"] = y_train\n",
    "\n",
    "print(\"Train #:\", len(X_train), len(y_train))\n",
    "print(\"Test #:\", len(X_test), len(y_test))\n",
    "train_data.head(2)"
   ]
  },
  {
   "cell_type": "markdown",
   "id": "acute-saskatchewan",
   "metadata": {},
   "source": [
    "Similar to assignment 1, use stacked plots to compare pairwise features.\n",
    "<br>Only use the training data this time though."
   ]
  },
  {
   "cell_type": "code",
   "execution_count": 5,
   "id": "canadian-october",
   "metadata": {},
   "outputs": [],
   "source": [
    "def plot_stacked_proportions(x_field, y_field, ax = None):\n",
    "    \n",
    "    if ax is None:\n",
    "        ax = plt.gca()\n",
    "    \n",
    "    stacks = train_data.value_counts().groupby([x_field, y_field]).sum().unstack()\n",
    "\n",
    "    stacks = stacks.T\n",
    "\n",
    "    for column in stacks:\n",
    "        stacks[column] /= stacks[column].sum()\n",
    "\n",
    "    stacks.T.plot(kind=\"bar\", stacked=True, ax = ax)"
   ]
  },
  {
   "cell_type": "markdown",
   "id": "enhanced-latvia",
   "metadata": {},
   "source": [
    "Also similar before, I find it useful to split up each feature in the dataset into two categories."
   ]
  },
  {
   "cell_type": "markdown",
   "id": "tribal-facial",
   "metadata": {},
   "source": [
    "Part 1: Status of the case."
   ]
  },
  {
   "cell_type": "code",
   "execution_count": 11,
   "id": "precise-differential",
   "metadata": {},
   "outputs": [
    {
     "data": {
      "text/plain": [
       "<AxesSubplot:title={'center':'case_age_days'}, xlabel='death_yn'>"
      ]
     },
     "execution_count": 11,
     "metadata": {},
     "output_type": "execute_result"
    },
    {
     "data": {
      "image/png": "[encoded data removed]",
      "text/plain": [
       "<Figure size 720x216 with 3 Axes>"
      ]
     },
     "metadata": {
      "needs_background": "light"
     },
     "output_type": "display_data"
    },
    {
     "data": {
      "image/png": "[encoded data removed]",
      "text/plain": [
       "<Figure size 720x216 with 3 Axes>"
      ]
     },
     "metadata": {
      "needs_background": "light"
     },
     "output_type": "display_data"
    }
   ],
   "source": [
    "# Same as in assignment 1\n",
    "\n",
    "fig, ax = plt.subplots(1, 3, figsize=(10,3))\n",
    "\n",
    "plot_stacked_proportions(\"icu_yn\", \"death_yn\", ax[0])\n",
    "plot_stacked_proportions(\"hosp_yn\", \"death_yn\", ax[1])\n",
    "plot_stacked_proportions(\"current_status\", \"death_yn\", ax[2])\n",
    "\n",
    "# This time, also consider new features.\n",
    "\n",
    "fig, ax = plt.subplots(1,3, figsize=(10,3))\n",
    "\n",
    "plot_stacked_proportions(\"pos_spec_declared\", \"death_yn\", ax[0])\n",
    "plot_stacked_proportions(\"symptoms_declared\", \"death_yn\", ax[1])\n",
    "\n",
    "# Minor note: as per the suggestion the feedback from the previous assignment,\n",
    "# I went back and was more careful with date formats in the data prep.\n",
    "# It worked! The case_age is no longer has non-sensical negative values.\n",
    "\n",
    "train_data.boxplot(\"case_age_days\", by=\"death_yn\", ax=ax[2])"
   ]
  },
  {
   "cell_type": "markdown",
   "id": "selected-overview",
   "metadata": {},
   "source": [
    "Part 2: Traits of the patient."
   ]
  },
  {
   "cell_type": "code",
   "execution_count": 14,
   "id": "knowing-disaster",
   "metadata": {},
   "outputs": [
    {
     "data": {
      "image/png": "[encoded data removed]",
      "text/plain": [
       "<Figure size 936x216 with 4 Axes>"
      ]
     },
     "metadata": {
      "needs_background": "light"
     },
     "output_type": "display_data"
    }
   ],
   "source": [
    "fig, ax = plt.subplots(1, 4, figsize=(13,3))\n",
    "\n",
    "plot_stacked_proportions(\"age_group\", \"death_yn\", ax[0])\n",
    "plot_stacked_proportions(\"sex\", \"death_yn\", ax[1])\n",
    "plot_stacked_proportions(\"race_ethnicity_combined\", \"death_yn\", ax[2])\n",
    "plot_stacked_proportions(\"medcond_yn\", \"death_yn\", ax[3])"
   ]
  },
  {
   "cell_type": "markdown",
   "id": "operational-czech",
   "metadata": {},
   "source": [
    "The question then is which of these feature to choose.\n",
    "\n",
    "For now, to keep things simple, I'll choose the top five that seem most significant too me. (From a purely visual inspection of the graphs above)\n",
    "\n",
    "  - icu_yn\n",
    "  - age_group\n",
    "  - hosp_yn\n",
    "  - case_age_days\n",
    "  - medcond_yn"
   ]
  },
  {
   "cell_type": "code",
   "execution_count": 15,
   "id": "finnish-confidentiality",
   "metadata": {},
   "outputs": [],
   "source": [
    "iter1_features = [\n",
    "    \"icu_yn\",\n",
    "    \"age_group\",\n",
    "    \"hosp_yn\",\n",
    "    \"case_age_days\",\n",
    "    \"medcond_yn\",\n",
    "    \"death_yn\"\n",
    "]"
   ]
  },
  {
   "cell_type": "markdown",
   "id": "average-distribution",
   "metadata": {},
   "source": [
    "Before continuing to models and training, it's worth pausing and dealing with the fact that most of these ae categorical variables.\n",
    "\n",
    "For now, I'm just going to use ordinal encoding for each. This could be very bad since it links missing values with yes, I think - for linear regression anyways. (Since no is 0, and missing and yes are positive)\n",
    "\n",
    "The encodings will be normalized as well, for the sake of explaining weights later on.\n",
    "\n",
    "The function below expects Yes/No/Unknown columns, and won't work for `age_group`. That feature we'll come to next. "
   ]
  },
  {
   "cell_type": "code",
   "execution_count": 16,
   "id": "purple-field",
   "metadata": {},
   "outputs": [
    {
     "data": {
      "text/html": [
       "<div>\n",
       "<style scoped>\n",
       "    .dataframe tbody tr th:only-of-type {\n",
       "        vertical-align: middle;\n",
       "    }\n",
       "\n",
       "    .dataframe tbody tr th {\n",
       "        vertical-align: top;\n",
       "    }\n",
       "\n",
       "    .dataframe thead th {\n",
       "        text-align: right;\n",
       "    }\n",
       "</style>\n",
       "<table border=\"1\" class=\"dataframe\">\n",
       "  <thead>\n",
       "    <tr style=\"text-align: right;\">\n",
       "      <th></th>\n",
       "      <th>icu_yn</th>\n",
       "      <th>age_group</th>\n",
       "      <th>hosp_yn</th>\n",
       "      <th>case_age_days</th>\n",
       "      <th>medcond_yn</th>\n",
       "      <th>death_yn</th>\n",
       "    </tr>\n",
       "  </thead>\n",
       "  <tbody>\n",
       "    <tr>\n",
       "      <th>0</th>\n",
       "      <td>Unknown</td>\n",
       "      <td>30 - 39 Years</td>\n",
       "      <td>No</td>\n",
       "      <td>246</td>\n",
       "      <td>Unknown</td>\n",
       "      <td>No</td>\n",
       "    </tr>\n",
       "    <tr>\n",
       "      <th>1</th>\n",
       "      <td>Unknown</td>\n",
       "      <td>10 - 19 Years</td>\n",
       "      <td>No</td>\n",
       "      <td>134</td>\n",
       "      <td>No</td>\n",
       "      <td>No</td>\n",
       "    </tr>\n",
       "    <tr>\n",
       "      <th>2</th>\n",
       "      <td>Unknown</td>\n",
       "      <td>10 - 19 Years</td>\n",
       "      <td>No</td>\n",
       "      <td>219</td>\n",
       "      <td>Unknown</td>\n",
       "      <td>No</td>\n",
       "    </tr>\n",
       "    <tr>\n",
       "      <th>3</th>\n",
       "      <td>Unknown</td>\n",
       "      <td>20 - 29 Years</td>\n",
       "      <td>Unknown</td>\n",
       "      <td>114</td>\n",
       "      <td>Unknown</td>\n",
       "      <td>No</td>\n",
       "    </tr>\n",
       "  </tbody>\n",
       "</table>\n",
       "</div>"
      ],
      "text/plain": [
       "    icu_yn      age_group  hosp_yn  case_age_days medcond_yn death_yn\n",
       "0  Unknown  30 - 39 Years       No            246    Unknown       No\n",
       "1  Unknown  10 - 19 Years       No            134         No       No\n",
       "2  Unknown  10 - 19 Years       No            219    Unknown       No\n",
       "3  Unknown  20 - 29 Years  Unknown            114    Unknown       No"
      ]
     },
     "metadata": {},
     "output_type": "display_data"
    },
    {
     "data": {
      "text/html": [
       "<div>\n",
       "<style scoped>\n",
       "    .dataframe tbody tr th:only-of-type {\n",
       "        vertical-align: middle;\n",
       "    }\n",
       "\n",
       "    .dataframe tbody tr th {\n",
       "        vertical-align: top;\n",
       "    }\n",
       "\n",
       "    .dataframe thead th {\n",
       "        text-align: right;\n",
       "    }\n",
       "</style>\n",
       "<table border=\"1\" class=\"dataframe\">\n",
       "  <thead>\n",
       "    <tr style=\"text-align: right;\">\n",
       "      <th></th>\n",
       "      <th>icu_yn</th>\n",
       "      <th>age_group</th>\n",
       "      <th>hosp_yn</th>\n",
       "      <th>case_age_days</th>\n",
       "      <th>medcond_yn</th>\n",
       "      <th>death_yn</th>\n",
       "    </tr>\n",
       "  </thead>\n",
       "  <tbody>\n",
       "    <tr>\n",
       "      <th>0</th>\n",
       "      <td>0.5</td>\n",
       "      <td>30 - 39 Years</td>\n",
       "      <td>0.0</td>\n",
       "      <td>246</td>\n",
       "      <td>0.5</td>\n",
       "      <td>0.0</td>\n",
       "    </tr>\n",
       "    <tr>\n",
       "      <th>1</th>\n",
       "      <td>0.5</td>\n",
       "      <td>10 - 19 Years</td>\n",
       "      <td>0.0</td>\n",
       "      <td>134</td>\n",
       "      <td>0.0</td>\n",
       "      <td>0.0</td>\n",
       "    </tr>\n",
       "    <tr>\n",
       "      <th>2</th>\n",
       "      <td>0.5</td>\n",
       "      <td>10 - 19 Years</td>\n",
       "      <td>0.0</td>\n",
       "      <td>219</td>\n",
       "      <td>0.5</td>\n",
       "      <td>0.0</td>\n",
       "    </tr>\n",
       "    <tr>\n",
       "      <th>3</th>\n",
       "      <td>0.5</td>\n",
       "      <td>20 - 29 Years</td>\n",
       "      <td>0.5</td>\n",
       "      <td>114</td>\n",
       "      <td>0.5</td>\n",
       "      <td>0.0</td>\n",
       "    </tr>\n",
       "  </tbody>\n",
       "</table>\n",
       "</div>"
      ],
      "text/plain": [
       "   icu_yn      age_group  hosp_yn  case_age_days  medcond_yn  death_yn\n",
       "0     0.5  30 - 39 Years      0.0            246         0.5       0.0\n",
       "1     0.5  10 - 19 Years      0.0            134         0.0       0.0\n",
       "2     0.5  10 - 19 Years      0.0            219         0.5       0.0\n",
       "3     0.5  20 - 29 Years      0.5            114         0.5       0.0"
      ]
     },
     "metadata": {},
     "output_type": "display_data"
    }
   ],
   "source": [
    "def encode_yn_ordinal(df, features):\n",
    "\n",
    "    # It makes intuitive sense to put \"Unknown\" between\n",
    "    # \"Yes\" and \"No\". This is actually very important, without it, \n",
    "    # the logistic model performs much much worse. I discovered this by teaking these\n",
    "    # values on a whim at some point, and won't mention it after this.\n",
    "    encoding = {\n",
    "        \"No\": 0,\n",
    "        \"Unknown\": 1,\n",
    "        \"Yes\": 2\n",
    "    }\n",
    "    \n",
    "    for feature in features:            \n",
    "\n",
    "        new_series = df[feature].replace(encoding)\n",
    "        new_series = new_series.astype(str).replace(encoding).astype(int)\n",
    "\n",
    "        # Normalize. A simple min-max makes sense since there are only 3 classes.\n",
    "        new_series = (new_series - new_series.min()) / (new_series.max() - new_series.min())\n",
    "\n",
    "        df[feature] = new_series\n",
    "        \n",
    "\n",
    "# Quick test\n",
    "data = a1_data[iter1_features].copy()\n",
    "display(data.head(4))\n",
    "encode_yn_ordinal(data, [\"icu_yn\", \"hosp_yn\", \"medcond_yn\", \"death_yn\"])\n",
    "display(data.head(4))"
   ]
  },
  {
   "cell_type": "markdown",
   "id": "increased-mongolia",
   "metadata": {},
   "source": [
    "The only categorical value that is *actually* ordinal here is `age_group`, so we need to take care with the ordering for that one. \n",
    "<br>\n",
    "Also, \"Unknown\" in an ordinal age makes little sense, so I'll impute it with the mode for now. An indicator would be more suitable, but I'll leave that for part 5."
   ]
  },
  {
   "cell_type": "code",
   "execution_count": 17,
   "id": "rocky-affect",
   "metadata": {},
   "outputs": [
    {
     "data": {
      "text/html": [
       "<div>\n",
       "<style scoped>\n",
       "    .dataframe tbody tr th:only-of-type {\n",
       "        vertical-align: middle;\n",
       "    }\n",
       "\n",
       "    .dataframe tbody tr th {\n",
       "        vertical-align: top;\n",
       "    }\n",
       "\n",
       "    .dataframe thead th {\n",
       "        text-align: right;\n",
       "    }\n",
       "</style>\n",
       "<table border=\"1\" class=\"dataframe\">\n",
       "  <thead>\n",
       "    <tr style=\"text-align: right;\">\n",
       "      <th></th>\n",
       "      <th>0</th>\n",
       "      <th>1</th>\n",
       "      <th>2</th>\n",
       "      <th>3</th>\n",
       "      <th>4</th>\n",
       "      <th>5</th>\n",
       "      <th>6</th>\n",
       "      <th>7</th>\n",
       "      <th>8</th>\n",
       "      <th>9</th>\n",
       "    </tr>\n",
       "  </thead>\n",
       "  <tbody>\n",
       "    <tr>\n",
       "      <th>label</th>\n",
       "      <td>30 - 39 Years</td>\n",
       "      <td>10 - 19 Years</td>\n",
       "      <td>10 - 19 Years</td>\n",
       "      <td>20 - 29 Years</td>\n",
       "      <td>60 - 69 Years</td>\n",
       "      <td>20 - 29 Years</td>\n",
       "      <td>40 - 49 Years</td>\n",
       "      <td>60 - 69 Years</td>\n",
       "      <td>80+ Years</td>\n",
       "      <td>50 - 59 Years</td>\n",
       "    </tr>\n",
       "    <tr>\n",
       "      <th>numerical</th>\n",
       "      <td>0.375</td>\n",
       "      <td>0.125</td>\n",
       "      <td>0.125</td>\n",
       "      <td>0.25</td>\n",
       "      <td>0.75</td>\n",
       "      <td>0.25</td>\n",
       "      <td>0.5</td>\n",
       "      <td>0.75</td>\n",
       "      <td>1</td>\n",
       "      <td>0.625</td>\n",
       "    </tr>\n",
       "  </tbody>\n",
       "</table>\n",
       "</div>"
      ],
      "text/plain": [
       "                       0              1              2              3  \\\n",
       "label      30 - 39 Years  10 - 19 Years  10 - 19 Years  20 - 29 Years   \n",
       "numerical          0.375          0.125          0.125           0.25   \n",
       "\n",
       "                       4              5              6              7  \\\n",
       "label      60 - 69 Years  20 - 29 Years  40 - 49 Years  60 - 69 Years   \n",
       "numerical           0.75           0.25            0.5           0.75   \n",
       "\n",
       "                   8              9  \n",
       "label      80+ Years  50 - 59 Years  \n",
       "numerical          1          0.625  "
      ]
     },
     "metadata": {},
     "output_type": "display_data"
    }
   ],
   "source": [
    "def encode_age(df):\n",
    "\n",
    "    # Impute the mode for age_group Unknown.\n",
    "    # This is a temporary measure! I'll introduce an indicator variable\n",
    "    # in part 5, but I wanted to keep things as simple as possible for the\n",
    "    # first iteration.\n",
    "    mode = original.age_group.mode().values[0]\n",
    "    df.age_group = original.age_group.replace(\"Unknown\", mode)\n",
    "\n",
    "    # I'm not sure this makes any difference, but reconstruct the category\n",
    "    # with ordered = True (it is false by default).\n",
    "    # Also make sure that the labels are in order (Though I think they are automatically sorted anyways)\n",
    "    labels = sorted(df.age_group.unique())\n",
    "    df.age_group = pd.Categorical(df.age_group, categories=labels, ordered=True)\n",
    "\n",
    "    # Convert to numerical and normalize\n",
    "    df.age_group = df.age_group.cat.codes\n",
    "    age = df.age_group\n",
    "    df.age_group = (age - age.min()) / (age.max() - age.min())\n",
    "\n",
    "\n",
    "# Quick test.\n",
    "original = a1_data[iter1_features].copy()\n",
    "new_df = original.copy()\n",
    "encode_age(new_df)\n",
    "display(pd.DataFrame([\n",
    "    original.head(10).age_group, \n",
    "    new_df.age_group.head(10)\n",
    "], index=[\"label\", \"numerical\"]))"
   ]
  },
  {
   "cell_type": "markdown",
   "id": "rising-flashing",
   "metadata": {},
   "source": [
    "Apply the various encodings on the data to create a normalized, numerical only dataset."
   ]
  },
  {
   "cell_type": "code",
   "execution_count": 18,
   "id": "irish-broadway",
   "metadata": {},
   "outputs": [
    {
     "data": {
      "text/html": [
       "<div>\n",
       "<style scoped>\n",
       "    .dataframe tbody tr th:only-of-type {\n",
       "        vertical-align: middle;\n",
       "    }\n",
       "\n",
       "    .dataframe tbody tr th {\n",
       "        vertical-align: top;\n",
       "    }\n",
       "\n",
       "    .dataframe thead th {\n",
       "        text-align: right;\n",
       "    }\n",
       "</style>\n",
       "<table border=\"1\" class=\"dataframe\">\n",
       "  <thead>\n",
       "    <tr style=\"text-align: right;\">\n",
       "      <th></th>\n",
       "      <th>icu_yn</th>\n",
       "      <th>age_group</th>\n",
       "      <th>hosp_yn</th>\n",
       "      <th>case_age_days</th>\n",
       "      <th>medcond_yn</th>\n",
       "      <th>death_yn</th>\n",
       "    </tr>\n",
       "  </thead>\n",
       "  <tbody>\n",
       "    <tr>\n",
       "      <th>0</th>\n",
       "      <td>0.5</td>\n",
       "      <td>0.375</td>\n",
       "      <td>0.0</td>\n",
       "      <td>0.548309</td>\n",
       "      <td>0.5</td>\n",
       "      <td>0.0</td>\n",
       "    </tr>\n",
       "    <tr>\n",
       "      <th>1</th>\n",
       "      <td>0.5</td>\n",
       "      <td>0.125</td>\n",
       "      <td>0.0</td>\n",
       "      <td>0.121846</td>\n",
       "      <td>0.0</td>\n",
       "      <td>0.0</td>\n",
       "    </tr>\n",
       "    <tr>\n",
       "      <th>2</th>\n",
       "      <td>0.5</td>\n",
       "      <td>0.125</td>\n",
       "      <td>0.0</td>\n",
       "      <td>0.445501</td>\n",
       "      <td>0.5</td>\n",
       "      <td>0.0</td>\n",
       "    </tr>\n",
       "    <tr>\n",
       "      <th>3</th>\n",
       "      <td>0.5</td>\n",
       "      <td>0.250</td>\n",
       "      <td>0.5</td>\n",
       "      <td>0.045692</td>\n",
       "      <td>0.5</td>\n",
       "      <td>0.0</td>\n",
       "    </tr>\n",
       "  </tbody>\n",
       "</table>\n",
       "</div>"
      ],
      "text/plain": [
       "   icu_yn  age_group  hosp_yn  case_age_days  medcond_yn  death_yn\n",
       "0     0.5      0.375      0.0       0.548309         0.5       0.0\n",
       "1     0.5      0.125      0.0       0.121846         0.0       0.0\n",
       "2     0.5      0.125      0.0       0.445501         0.5       0.0\n",
       "3     0.5      0.250      0.5       0.045692         0.5       0.0"
      ]
     },
     "execution_count": 18,
     "metadata": {},
     "output_type": "execute_result"
    }
   ],
   "source": [
    "def normalize_case_age(df):\n",
    "    \n",
    "    feature = \"case_age_days\"\n",
    "    m = df[feature].min()\n",
    "    s = df[feature].std()\n",
    "    df[feature] = (df[feature] - m) / (3 * s)\n",
    "    \n",
    "\n",
    "\n",
    "def iter1_encode(df):\n",
    "    \n",
    "    encode_yn_ordinal(df, [\"icu_yn\", \"hosp_yn\", \"medcond_yn\", \"death_yn\"])\n",
    "    encode_age(df)\n",
    "    normalize_case_age(df)\n",
    "\n",
    "data = a1_data[iter1_features].copy()\n",
    "iter1_encode(data)\n",
    "data.head(4)"
   ]
  },
  {
   "cell_type": "markdown",
   "id": "optional-death",
   "metadata": {},
   "source": [
    "Perform the train-test split on the choice of features.\n",
    "\n",
    "For the ease of use on the coming sections, I found it handy to store the various segments of data in a single container variable, since they are often passed around together in practice."
   ]
  },
  {
   "cell_type": "code",
   "execution_count": 19,
   "id": "equivalent-easter",
   "metadata": {},
   "outputs": [],
   "source": [
    "# The first attempt, with the default encodings.\n",
    "iter1 = a1_data[iter1_features].copy()\n",
    "iter1_encode(iter1)"
   ]
  },
  {
   "cell_type": "markdown",
   "id": "recognized-seminar",
   "metadata": {},
   "source": [
    "Part 2: Linear Model\n",
    "=="
   ]
  },
  {
   "cell_type": "code",
   "execution_count": 20,
   "id": "compact-organizer",
   "metadata": {},
   "outputs": [],
   "source": [
    "linear = sklearn.linear_model.LinearRegression"
   ]
  },
  {
   "cell_type": "markdown",
   "id": "growing-grammar",
   "metadata": {},
   "source": [
    "Fit a linear model using the numerical training sets."
   ]
  },
  {
   "cell_type": "code",
   "execution_count": 21,
   "id": "tracked-hamburg",
   "metadata": {},
   "outputs": [],
   "source": [
    "def split(numerical_data):\n",
    "    \n",
    "    X = numerical_data.drop(\"death_yn\", axis=1)\n",
    "    y = numerical_data[\"death_yn\"]\n",
    "    \n",
    "    return train_test_split(X, y, random_state=1, test_size=0.3)\n",
    "\n",
    "\n",
    "def model_info(model_type, data):\n",
    "    \n",
    "    X_train, X_test, y_train, y_test = split(data)\n",
    "    \n",
    "    try:\n",
    "        model = model_type(random_state=0)\n",
    "    except:\n",
    "        model = model_type()\n",
    "    \n",
    "    model.fit(X_train, y_train)\n",
    "    \n",
    "    model_info = pd.DataFrame(model.intercept_.reshape(1,1), columns=[\"intercept\"])\n",
    "    model_info[X_train.columns] = pd.DataFrame(model.coef_.reshape(1, model.coef_.size))\n",
    "    \n",
    "    return model_info"
   ]
  },
  {
   "cell_type": "code",
   "execution_count": 23,
   "id": "pacific-creation",
   "metadata": {
    "scrolled": false
   },
   "outputs": [
    {
     "data": {
      "text/html": [
       "<div>\n",
       "<style scoped>\n",
       "    .dataframe tbody tr th:only-of-type {\n",
       "        vertical-align: middle;\n",
       "    }\n",
       "\n",
       "    .dataframe tbody tr th {\n",
       "        vertical-align: top;\n",
       "    }\n",
       "\n",
       "    .dataframe thead th {\n",
       "        text-align: right;\n",
       "    }\n",
       "</style>\n",
       "<table border=\"1\" class=\"dataframe\">\n",
       "  <thead>\n",
       "    <tr style=\"text-align: right;\">\n",
       "      <th></th>\n",
       "      <th>intercept</th>\n",
       "      <th>icu_yn</th>\n",
       "      <th>age_group</th>\n",
       "      <th>hosp_yn</th>\n",
       "      <th>case_age_days</th>\n",
       "      <th>medcond_yn</th>\n",
       "    </tr>\n",
       "  </thead>\n",
       "  <tbody>\n",
       "    <tr>\n",
       "      <th>0</th>\n",
       "      <td>-0.139605</td>\n",
       "      <td>0.047549</td>\n",
       "      <td>0.171153</td>\n",
       "      <td>0.1387</td>\n",
       "      <td>0.062157</td>\n",
       "      <td>0.023527</td>\n",
       "    </tr>\n",
       "  </tbody>\n",
       "</table>\n",
       "</div>"
      ],
      "text/plain": [
       "   intercept    icu_yn  age_group  hosp_yn  case_age_days  medcond_yn\n",
       "0  -0.139605  0.047549   0.171153   0.1387       0.062157    0.023527"
      ]
     },
     "metadata": {},
     "output_type": "display_data"
    },
    {
     "data": {
      "image/png": "[encoded data removed]",
      "text/plain": [
       "<Figure size 432x288 with 1 Axes>"
      ]
     },
     "metadata": {
      "needs_background": "light"
     },
     "output_type": "display_data"
    }
   ],
   "source": [
    "info = model_info(linear, iter1)\n",
    "display(info)\n",
    "info.plot(kind=\"bar\", title=\"Linear model parameters\");"
   ]
  },
  {
   "cell_type": "markdown",
   "id": "cubic-romania",
   "metadata": {},
   "source": [
    "The features are normalized, and I think the normalized distributions are okay, so the weights and intercept can be compared directly.\n",
    "\n",
    "**intercept**\n",
    "This is quite negative - even if all of the other features are maxed out, the model won't give a very high confidence of their being a death.\n",
    "\n",
    "**icu, hsp, and med_cond**\n",
    "I think icu may have been crippled by the encoding, and hosp and medcond may be affected as well. This is because icu has many many missing values most of whom could probably be imputed to no, and so any weight the model gives to icu being yes will bleed into icu being no.\n",
    "\n",
    "**age_group**\n",
    "This is the most important feature after icu and hsp, so it's no surprise to see it take the fore after the others are gone.\n",
    "\n",
    "**case_age_days**\n",
    "It's nice to see the custom feature contributing here. It's positive, which means recent cases have a higher chance of being a death according to the model. I admit that goes against my intuition."
   ]
  },
  {
   "cell_type": "markdown",
   "id": "accessible-serum",
   "metadata": {},
   "source": [
    "Next, some predictions."
   ]
  },
  {
   "cell_type": "code",
   "execution_count": 24,
   "id": "textile-indonesia",
   "metadata": {},
   "outputs": [],
   "source": [
    "def apply_threshold(prediction, threshold, labels):\n",
    "\n",
    "    prediction = (prediction > threshold).astype(int)\n",
    "    prediction = [labels[i] for i in prediction]\n",
    "    \n",
    "    return prediction\n",
    "\n",
    "\n",
    "def predict(model_type, data, threshold=None, resampler=None, \n",
    "            training_only=False):\n",
    "    \n",
    "    X_train, X_test, y_train, y_test = split(data)\n",
    "    \n",
    "    if resampler is not None:\n",
    "        X_train, y_train = resampler(X_train, y_train)\n",
    "    \n",
    "    try:\n",
    "        model = model_type(random_state=0)\n",
    "    except:\n",
    "        model = model_type()\n",
    "    \n",
    "    model.fit(X_train, y_train)\n",
    "\n",
    "    if training_only:\n",
    "        prediction = model.predict(X_train)\n",
    "        actual = y_train\n",
    "    else:\n",
    "        prediction = model.predict(X_test)\n",
    "        actual = y_test\n",
    "        \n",
    "    if threshold is not None:\n",
    "        labels = np.sort(np.unique(y_train))\n",
    "        prediction = apply_threshold(prediction, threshold, labels)\n",
    "        \n",
    "    return actual, pd.Series(prediction)"
   ]
  },
  {
   "cell_type": "markdown",
   "id": "strategic-enemy",
   "metadata": {},
   "source": [
    "The first 10 predict false. This is not very surprising, giving the expected proportions."
   ]
  },
  {
   "cell_type": "code",
   "execution_count": 25,
   "id": "macro-legislature",
   "metadata": {},
   "outputs": [
    {
     "data": {
      "text/html": [
       "<div>\n",
       "<style scoped>\n",
       "    .dataframe tbody tr th:only-of-type {\n",
       "        vertical-align: middle;\n",
       "    }\n",
       "\n",
       "    .dataframe tbody tr th {\n",
       "        vertical-align: top;\n",
       "    }\n",
       "\n",
       "    .dataframe thead th {\n",
       "        text-align: right;\n",
       "    }\n",
       "</style>\n",
       "<table border=\"1\" class=\"dataframe\">\n",
       "  <thead>\n",
       "    <tr style=\"text-align: right;\">\n",
       "      <th></th>\n",
       "      <th>value</th>\n",
       "      <th>class</th>\n",
       "    </tr>\n",
       "  </thead>\n",
       "  <tbody>\n",
       "    <tr>\n",
       "      <th>0</th>\n",
       "      <td>-0.019096</td>\n",
       "      <td>False</td>\n",
       "    </tr>\n",
       "    <tr>\n",
       "      <th>1</th>\n",
       "      <td>-0.053088</td>\n",
       "      <td>False</td>\n",
       "    </tr>\n",
       "    <tr>\n",
       "      <th>2</th>\n",
       "      <td>-0.071549</td>\n",
       "      <td>False</td>\n",
       "    </tr>\n",
       "    <tr>\n",
       "      <th>3</th>\n",
       "      <td>0.017578</td>\n",
       "      <td>False</td>\n",
       "    </tr>\n",
       "    <tr>\n",
       "      <th>4</th>\n",
       "      <td>0.112489</td>\n",
       "      <td>False</td>\n",
       "    </tr>\n",
       "    <tr>\n",
       "      <th>5</th>\n",
       "      <td>0.010912</td>\n",
       "      <td>False</td>\n",
       "    </tr>\n",
       "    <tr>\n",
       "      <th>6</th>\n",
       "      <td>0.005507</td>\n",
       "      <td>False</td>\n",
       "    </tr>\n",
       "    <tr>\n",
       "      <th>7</th>\n",
       "      <td>0.040915</td>\n",
       "      <td>False</td>\n",
       "    </tr>\n",
       "    <tr>\n",
       "      <th>8</th>\n",
       "      <td>-0.075099</td>\n",
       "      <td>False</td>\n",
       "    </tr>\n",
       "    <tr>\n",
       "      <th>9</th>\n",
       "      <td>0.072397</td>\n",
       "      <td>False</td>\n",
       "    </tr>\n",
       "  </tbody>\n",
       "</table>\n",
       "</div>"
      ],
      "text/plain": [
       "      value  class\n",
       "0 -0.019096  False\n",
       "1 -0.053088  False\n",
       "2 -0.071549  False\n",
       "3  0.017578  False\n",
       "4  0.112489  False\n",
       "5  0.010912  False\n",
       "6  0.005507  False\n",
       "7  0.040915  False\n",
       "8 -0.075099  False\n",
       "9  0.072397  False"
      ]
     },
     "metadata": {},
     "output_type": "display_data"
    }
   ],
   "source": [
    "# Predict for training data, not test data!\n",
    "_, prediction = predict(linear, iter1, training_only=True)\n",
    "\n",
    "prediction = pd.DataFrame(prediction, columns=[\"value\"])\n",
    "prediction[\"class\"] = prediction.value > 0.5\n",
    "\n",
    "display(prediction.head(10))"
   ]
  },
  {
   "cell_type": "markdown",
   "id": "aware-arkansas",
   "metadata": {},
   "source": [
    "Below are functions to help calculate the confusion matrix and positive rates, for a given threshold.\n",
    "\n",
    "I recognize in hindsight that a lot of these little functions I have scattered about the place have premade and more complete implementations in sklearn or skplot. But on the upside, it was a reminder for me of what the various formulae actually mean."
   ]
  },
  {
   "cell_type": "code",
   "execution_count": 26,
   "id": "bibliographic-taiwan",
   "metadata": {},
   "outputs": [],
   "source": [
    "def confusion(actual, prediction, labels=None):\n",
    "    \n",
    "    if labels is None: labels = np.sort(np.unique(actual))\n",
    "    \n",
    "    matrix = sklearn.metrics.confusion_matrix(actual, prediction, labels=labels)\n",
    "    matrix = pd.DataFrame(matrix, index = [\"Alive\", \"Dead\"], columns = [\"Alive\", \"Dead\"])\n",
    "    \n",
    "    return matrix"
   ]
  },
  {
   "cell_type": "markdown",
   "id": "judicial-union",
   "metadata": {},
   "source": [
    "The results with 0.5 as the threshold are terrible - 0 true positives.\n",
    "\n",
    "This is exactly the same as the baseline prediction of always choosing false."
   ]
  },
  {
   "cell_type": "code",
   "execution_count": 27,
   "id": "simple-arctic",
   "metadata": {},
   "outputs": [
    {
     "data": {
      "text/html": [
       "<div>\n",
       "<style scoped>\n",
       "    .dataframe tbody tr th:only-of-type {\n",
       "        vertical-align: middle;\n",
       "    }\n",
       "\n",
       "    .dataframe tbody tr th {\n",
       "        vertical-align: top;\n",
       "    }\n",
       "\n",
       "    .dataframe thead th {\n",
       "        text-align: right;\n",
       "    }\n",
       "</style>\n",
       "<table border=\"1\" class=\"dataframe\">\n",
       "  <thead>\n",
       "    <tr style=\"text-align: right;\">\n",
       "      <th></th>\n",
       "      <th>Alive</th>\n",
       "      <th>Dead</th>\n",
       "    </tr>\n",
       "  </thead>\n",
       "  <tbody>\n",
       "    <tr>\n",
       "      <th>Alive</th>\n",
       "      <td>6263</td>\n",
       "      <td>0</td>\n",
       "    </tr>\n",
       "    <tr>\n",
       "      <th>Dead</th>\n",
       "      <td>240</td>\n",
       "      <td>0</td>\n",
       "    </tr>\n",
       "  </tbody>\n",
       "</table>\n",
       "</div>"
      ],
      "text/plain": [
       "       Alive  Dead\n",
       "Alive   6263     0\n",
       "Dead     240     0"
      ]
     },
     "metadata": {},
     "output_type": "display_data"
    }
   ],
   "source": [
    "actual, prediction = predict(linear, iter1, training_only=True, threshold=0.5)\n",
    "\n",
    "matrix = confusion(actual, prediction)\n",
    "display(matrix)"
   ]
  },
  {
   "cell_type": "markdown",
   "id": "infrared-diploma",
   "metadata": {},
   "source": [
    "With this in mind, metrics probably won't tell us much we don't already know, but I'll print them out anyways:"
   ]
  },
  {
   "cell_type": "code",
   "execution_count": 29,
   "id": "armed-reference",
   "metadata": {},
   "outputs": [],
   "source": [
    "def class_metrics(*args, name=\"\"):\n",
    "\n",
    "    if type(args[0]) == pd.DataFrame:\n",
    "        matrix = args[0]\n",
    "    else:\n",
    "        matrix = confusion(*args)\n",
    "    \n",
    "    matrix = matrix.values\n",
    "    tn = matrix[0,0]\n",
    "    fp = matrix[0,1]\n",
    "    fn = matrix[1,0]\n",
    "    tp = matrix[1,1]\n",
    "    \n",
    "    accuracy = (tp + tn) / (tp + tn + fp + fn)\n",
    "    precision = tp / (tp + fp)\n",
    "    recall = tp / (tp + fn)\n",
    "    \n",
    "    F1 = 2 * precision * recall / (precision + recall)\n",
    "    \n",
    "    result = pd.DataFrame([[accuracy, precision, recall, F1]]).T\n",
    "    result.index = [\"accuracy\", \"precision\", \"recall\", \"F1\"]\n",
    "    result.columns = [name]\n",
    "    \n",
    "    return result"
   ]
  },
  {
   "cell_type": "code",
   "execution_count": 30,
   "id": "brown-pride",
   "metadata": {},
   "outputs": [
    {
     "name": "stderr",
     "output_type": "stream",
     "text": [
      "C:\\Users\\Kieran\\miniconda3\\envs\\titanic\\lib\\site-packages\\ipykernel_launcher.py:15: RuntimeWarning: invalid value encountered in longlong_scalars\n",
      "  from ipykernel import kernelapp as app\n"
     ]
    },
    {
     "data": {
      "text/html": [
       "<div>\n",
       "<style scoped>\n",
       "    .dataframe tbody tr th:only-of-type {\n",
       "        vertical-align: middle;\n",
       "    }\n",
       "\n",
       "    .dataframe tbody tr th {\n",
       "        vertical-align: top;\n",
       "    }\n",
       "\n",
       "    .dataframe thead th {\n",
       "        text-align: right;\n",
       "    }\n",
       "</style>\n",
       "<table border=\"1\" class=\"dataframe\">\n",
       "  <thead>\n",
       "    <tr style=\"text-align: right;\">\n",
       "      <th></th>\n",
       "      <th></th>\n",
       "    </tr>\n",
       "  </thead>\n",
       "  <tbody>\n",
       "    <tr>\n",
       "      <th>accuracy</th>\n",
       "      <td>0.963094</td>\n",
       "    </tr>\n",
       "    <tr>\n",
       "      <th>precision</th>\n",
       "      <td>NaN</td>\n",
       "    </tr>\n",
       "    <tr>\n",
       "      <th>recall</th>\n",
       "      <td>0.000000</td>\n",
       "    </tr>\n",
       "    <tr>\n",
       "      <th>F1</th>\n",
       "      <td>NaN</td>\n",
       "    </tr>\n",
       "  </tbody>\n",
       "</table>\n",
       "</div>"
      ],
      "text/plain": [
       "                   \n",
       "accuracy   0.963094\n",
       "precision       NaN\n",
       "recall     0.000000\n",
       "F1              NaN"
      ]
     },
     "execution_count": 30,
     "metadata": {},
     "output_type": "execute_result"
    }
   ],
   "source": [
    "actual, prediction = predict(linear, iter1, training_only=True, threshold=0.5)\n",
    "class_metrics(actual, prediction)"
   ]
  },
  {
   "cell_type": "markdown",
   "id": "fifteen-still",
   "metadata": {},
   "source": [
    "  - **Accuracy is high**. Well, given the overwhelming number of negatives in the dataset, always predicting negative yields a very high accuracy - we are almost always right.\n",
    "  - **Precision is undefined**, since there are no positives in the predictions on which to base it\n",
    "  - **Recall is 0**. We never predicted positive.\n",
    "  - **F1 is undefined**, since it is based on precision and precision is undefined.\n",
    "  \n",
    "Technically, it is possible to calculate F1 by cancelling terms in the limit towards zero positives. The result is 0, which isn't anything new though."
   ]
  },
  {
   "cell_type": "markdown",
   "id": "spoken-standard",
   "metadata": {},
   "source": [
    "Looking at the hold-out, the result is almost identical. The threshold is much too high.\n",
    "\n",
    "This needs to be fixed before I can continue with this question."
   ]
  },
  {
   "cell_type": "code",
   "execution_count": 31,
   "id": "christian-trading",
   "metadata": {},
   "outputs": [
    {
     "name": "stderr",
     "output_type": "stream",
     "text": [
      "C:\\Users\\Kieran\\miniconda3\\envs\\titanic\\lib\\site-packages\\ipykernel_launcher.py:15: RuntimeWarning: invalid value encountered in longlong_scalars\n",
      "  from ipykernel import kernelapp as app\n"
     ]
    },
    {
     "data": {
      "text/html": [
       "<div>\n",
       "<style scoped>\n",
       "    .dataframe tbody tr th:only-of-type {\n",
       "        vertical-align: middle;\n",
       "    }\n",
       "\n",
       "    .dataframe tbody tr th {\n",
       "        vertical-align: top;\n",
       "    }\n",
       "\n",
       "    .dataframe thead th {\n",
       "        text-align: right;\n",
       "    }\n",
       "</style>\n",
       "<table border=\"1\" class=\"dataframe\">\n",
       "  <thead>\n",
       "    <tr style=\"text-align: right;\">\n",
       "      <th></th>\n",
       "      <th></th>\n",
       "    </tr>\n",
       "  </thead>\n",
       "  <tbody>\n",
       "    <tr>\n",
       "      <th>accuracy</th>\n",
       "      <td>0.965554</td>\n",
       "    </tr>\n",
       "    <tr>\n",
       "      <th>precision</th>\n",
       "      <td>NaN</td>\n",
       "    </tr>\n",
       "    <tr>\n",
       "      <th>recall</th>\n",
       "      <td>0.000000</td>\n",
       "    </tr>\n",
       "    <tr>\n",
       "      <th>F1</th>\n",
       "      <td>NaN</td>\n",
       "    </tr>\n",
       "  </tbody>\n",
       "</table>\n",
       "</div>"
      ],
      "text/plain": [
       "                   \n",
       "accuracy   0.965554\n",
       "precision       NaN\n",
       "recall     0.000000\n",
       "F1              NaN"
      ]
     },
     "execution_count": 31,
     "metadata": {},
     "output_type": "execute_result"
    }
   ],
   "source": [
    "actual, prediction = predict(linear, iter1, threshold=0.5)\n",
    "class_metrics(actual, prediction)"
   ]
  },
  {
   "cell_type": "markdown",
   "id": "racial-writing",
   "metadata": {},
   "source": [
    "Aside: The Threshold\n",
    "--"
   ]
  },
  {
   "cell_type": "markdown",
   "id": "bottom-poster",
   "metadata": {},
   "source": [
    "Okay. So I'm guessing the ordinal encoding was a bad idea, but it could also just be the overwhelming prevelance of \"no death\" in the data that is causing a low viable threshold. I'll leave the attempt to rememdy those two for part 5, and focus on the threshold itself for now.\n",
    "\n",
    "First, plot the distribution of the predictions to get an idea for what is going on."
   ]
  },
  {
   "cell_type": "code",
   "execution_count": 32,
   "id": "excited-bhutan",
   "metadata": {},
   "outputs": [
    {
     "data": {
      "text/plain": [
       "<AxesSubplot:ylabel='Frequency'>"
      ]
     },
     "execution_count": 32,
     "metadata": {},
     "output_type": "execute_result"
    },
    {
     "data": {
      "image/png": "[encoded data removed]",
      "text/plain": [
       "<Figure size 432x288 with 1 Axes>"
      ]
     },
     "metadata": {
      "needs_background": "light"
     },
     "output_type": "display_data"
    }
   ],
   "source": [
    "_, prediction = predict(linear, iter1, training_only=True)\n",
    "prediction.plot(kind=\"hist\")"
   ]
  },
  {
   "cell_type": "markdown",
   "id": "european-marine",
   "metadata": {},
   "source": [
    "Nothing much beyond 0.3. \n",
    "\n",
    "0.1 seems a decent candidate."
   ]
  },
  {
   "cell_type": "code",
   "execution_count": 35,
   "id": "dimensional-dependence",
   "metadata": {},
   "outputs": [],
   "source": [
    "def display_metrics(*args, **kwargs):\n",
    "    \n",
    "    actual, prediction = predict(*args, **kwargs)\n",
    "\n",
    "    matrix = confusion(actual, prediction)\n",
    "    metrics = class_metrics(matrix)\n",
    "    \n",
    "    display(metrics)\n",
    "    display(matrix)"
   ]
  },
  {
   "cell_type": "markdown",
   "id": "indian-italic",
   "metadata": {},
   "source": [
    "Metrics for a threshold of 0.1"
   ]
  },
  {
   "cell_type": "code",
   "execution_count": 36,
   "id": "conservative-restaurant",
   "metadata": {},
   "outputs": [
    {
     "data": {
      "text/html": [
       "<div>\n",
       "<style scoped>\n",
       "    .dataframe tbody tr th:only-of-type {\n",
       "        vertical-align: middle;\n",
       "    }\n",
       "\n",
       "    .dataframe tbody tr th {\n",
       "        vertical-align: top;\n",
       "    }\n",
       "\n",
       "    .dataframe thead th {\n",
       "        text-align: right;\n",
       "    }\n",
       "</style>\n",
       "<table border=\"1\" class=\"dataframe\">\n",
       "  <thead>\n",
       "    <tr style=\"text-align: right;\">\n",
       "      <th></th>\n",
       "      <th></th>\n",
       "    </tr>\n",
       "  </thead>\n",
       "  <tbody>\n",
       "    <tr>\n",
       "      <th>accuracy</th>\n",
       "      <td>0.868317</td>\n",
       "    </tr>\n",
       "    <tr>\n",
       "      <th>precision</th>\n",
       "      <td>0.194131</td>\n",
       "    </tr>\n",
       "    <tr>\n",
       "      <th>recall</th>\n",
       "      <td>0.895833</td>\n",
       "    </tr>\n",
       "    <tr>\n",
       "      <th>F1</th>\n",
       "      <td>0.319109</td>\n",
       "    </tr>\n",
       "  </tbody>\n",
       "</table>\n",
       "</div>"
      ],
      "text/plain": [
       "                   \n",
       "accuracy   0.868317\n",
       "precision  0.194131\n",
       "recall     0.895833\n",
       "F1         0.319109"
      ]
     },
     "metadata": {},
     "output_type": "display_data"
    },
    {
     "data": {
      "text/html": [
       "<div>\n",
       "<style scoped>\n",
       "    .dataframe tbody tr th:only-of-type {\n",
       "        vertical-align: middle;\n",
       "    }\n",
       "\n",
       "    .dataframe tbody tr th {\n",
       "        vertical-align: top;\n",
       "    }\n",
       "\n",
       "    .dataframe thead th {\n",
       "        text-align: right;\n",
       "    }\n",
       "</style>\n",
       "<table border=\"1\" class=\"dataframe\">\n",
       "  <thead>\n",
       "    <tr style=\"text-align: right;\">\n",
       "      <th></th>\n",
       "      <th>Alive</th>\n",
       "      <th>Dead</th>\n",
       "    </tr>\n",
       "  </thead>\n",
       "  <tbody>\n",
       "    <tr>\n",
       "      <th>Alive</th>\n",
       "      <td>2334</td>\n",
       "      <td>357</td>\n",
       "    </tr>\n",
       "    <tr>\n",
       "      <th>Dead</th>\n",
       "      <td>10</td>\n",
       "      <td>86</td>\n",
       "    </tr>\n",
       "  </tbody>\n",
       "</table>\n",
       "</div>"
      ],
      "text/plain": [
       "       Alive  Dead\n",
       "Alive   2334   357\n",
       "Dead      10    86"
      ]
     },
     "metadata": {},
     "output_type": "display_data"
    }
   ],
   "source": [
    "display_metrics(linear, iter1, threshold=0.1)"
   ]
  },
  {
   "cell_type": "markdown",
   "id": "raising-municipality",
   "metadata": {},
   "source": [
    "Not fantastic, given that a positive result is much more likely to be a false positive than not. Accuracy has decreased and precision is quite low. F1 is low.\n",
    "\n",
    "Nonethless, most of the true negatives are being caught now, which is a huge improvement. \n",
    "\n",
    "The next cell defines functions for getting ROC information."
   ]
  },
  {
   "cell_type": "code",
   "execution_count": 37,
   "id": "floating-pearl",
   "metadata": {},
   "outputs": [],
   "source": [
    "def roc(actual, prediction, thresholds, labels=None):\n",
    "    \n",
    "    if labels is None:\n",
    "        labels = np.sort(np.unique(actual))\n",
    "    \n",
    "    items = list()\n",
    "    for threshold in thresholds:\n",
    "        \n",
    "        p_current = apply_threshold(prediction, threshold, labels)\n",
    "\n",
    "        matrix = confusion(actual, p_current)\n",
    "        tp = matrix.values[1,1] / matrix.values[1,:].sum()\n",
    "        fp = matrix.values[0,1] / matrix.values[0,:].sum()\n",
    "        \n",
    "        items.append([tp, fp])\n",
    "\n",
    "    # each item in \"rates\" is a pair: a true positive, \n",
    "    # and a false positive.\n",
    "    \n",
    "    cols = [\"true_p\", \"false_p\"]\n",
    "    roc = pd.DataFrame(items, index=thresholds, columns=cols)\n",
    "    \n",
    "    return roc\n",
    "\n",
    "\n",
    "def plot_roc(roc_data, ax=None):\n",
    "\n",
    "    if ax is None:\n",
    "        ax = plt.gca()\n",
    "    \n",
    "    # The basic plot - false vs. true positives\n",
    "    \n",
    "    plt.title(\"ROC for linear model\")\n",
    "    plt.xlabel(\"False Positives\")\n",
    "    plt.ylabel(\"True Positives\")\n",
    "    ax.plot(roc_data.false_p, roc_data.true_p, \"-\")\n",
    "        \n",
    "\n",
    "def auroc(roc_data):\n",
    "    \n",
    "    x = roc_data.false_p\n",
    "    y = roc_data.true_p\n",
    "    \n",
    "    # This interpolation & integration is giving me\n",
    "    # a warning regarding error. I'm only looking for \n",
    "    # a rough guess for now though, so won't\n",
    "    # try fix it.\n",
    "    \n",
    "    f = scipy.interpolate.interp1d(x, y)\n",
    "    area = scipy.integrate.quad(f, 0, 1, limit=200)\n",
    "    \n",
    "    return area"
   ]
  },
  {
   "cell_type": "markdown",
   "id": "accepting-judges",
   "metadata": {},
   "source": [
    "The curve looks very very good for this model at first glance, though I suspect that that is just because the source data is mostly made of negatives, and so false positives are undervalued."
   ]
  },
  {
   "cell_type": "code",
   "execution_count": 38,
   "id": "standard-generic",
   "metadata": {},
   "outputs": [
    {
     "name": "stderr",
     "output_type": "stream",
     "text": [
      "C:\\Users\\Kieran\\miniconda3\\envs\\titanic\\lib\\site-packages\\ipykernel_launcher.py:50: IntegrationWarning: The occurrence of roundoff error is detected, which prevents \n",
      "  the requested tolerance from being achieved.  The error may be \n",
      "  underestimated.\n"
     ]
    },
    {
     "name": "stdout",
     "output_type": "stream",
     "text": [
      "Area under ROC: 0.9376645104355669\n"
     ]
    },
    {
     "data": {
      "image/png": "[encoded data removed]",
      "text/plain": [
       "<Figure size 432x288 with 1 Axes>"
      ]
     },
     "metadata": {
      "needs_background": "light"
     },
     "output_type": "display_data"
    }
   ],
   "source": [
    "actual, prediction = predict(linear, iter1)\n",
    "\n",
    "roc_data = roc(actual, prediction, np.linspace(-1, 1, 100))\n",
    "plot_roc(roc_data)\n",
    "print(\"Area under ROC:\", auroc(roc_data)[0])"
   ]
  },
  {
   "cell_type": "markdown",
   "id": "photographic-exception",
   "metadata": {},
   "source": [
    "Some threshold values can be shown on the plot as well:"
   ]
  },
  {
   "cell_type": "code",
   "execution_count": 39,
   "id": "smoking-baptist",
   "metadata": {},
   "outputs": [],
   "source": [
    "def show_thresholds(roc_data):\n",
    "\n",
    "    distance = 0\n",
    "    y1 = roc_data.true_p[roc_data.index[0]]\n",
    "\n",
    "    for t in roc_data.index[1:]:\n",
    "\n",
    "        # Don't display a threshold marker for every\n",
    "        # point, since some are grouped together.\n",
    "        # Wait until a certain y-distance has passed.\n",
    "        \n",
    "        x = roc_data.false_p[t]\n",
    "        y2 = roc_data.true_p[t]\n",
    "\n",
    "        distance += np.abs(y2-y1)\n",
    "        y1 = y2\n",
    "        \n",
    "        if distance > 0.1:\n",
    "            distance = 0\n",
    "            plt.plot(x, y2, \"o\", color=\"#ff9900\")\n",
    "            plt.text(x + 0.04, y2, \"t: %.2f\" % t, color=\"#ff9900\")"
   ]
  },
  {
   "cell_type": "code",
   "execution_count": 40,
   "id": "dirty-circular",
   "metadata": {},
   "outputs": [
    {
     "data": {
      "image/png": "[encoded data removed]",
      "text/plain": [
       "<Figure size 432x288 with 1 Axes>"
      ]
     },
     "metadata": {
      "needs_background": "light"
     },
     "output_type": "display_data"
    }
   ],
   "source": [
    "plot_roc(roc_data)\n",
    "show_thresholds(roc_data)"
   ]
  },
  {
   "cell_type": "markdown",
   "id": "quality-subsection",
   "metadata": {},
   "source": [
    "From which I deduce that a threshold 0.1 is decent choice for now."
   ]
  },
  {
   "cell_type": "markdown",
   "id": "neutral-consistency",
   "metadata": {},
   "source": [
    "Still, we can do a linear search for the threshold that maximizes F1."
   ]
  },
  {
   "cell_type": "code",
   "execution_count": 41,
   "id": "august-flexibility",
   "metadata": {},
   "outputs": [],
   "source": [
    "def find_threshold(actual, prediction, count=100, labels=None):\n",
    "\n",
    "    thresholds = np.linspace(prediction.min(), prediction.max(), count)\n",
    "    \n",
    "    if labels is None:\n",
    "        labels = np.sort(np.unique(actual))\n",
    "    \n",
    "    items = list()\n",
    "    for threshold in thresholds:\n",
    "        \n",
    "        p_current = apply_threshold(prediction, threshold, labels)\n",
    "        metrics = class_metrics(actual, p_current)\n",
    "        score = metrics.T.F1\n",
    "        items.append(metrics.T.F1)\n",
    "\n",
    "    items = pd.Series(items, index=thresholds)\n",
    "    return items.astype(float).idxmax()"
   ]
  },
  {
   "cell_type": "code",
   "execution_count": 42,
   "id": "hairy-parks",
   "metadata": {},
   "outputs": [
    {
     "name": "stdout",
     "output_type": "stream",
     "text": [
      "Chosen threshold: 0.1917\n",
      "Results:\n"
     ]
    },
    {
     "data": {
      "text/html": [
       "<div>\n",
       "<style scoped>\n",
       "    .dataframe tbody tr th:only-of-type {\n",
       "        vertical-align: middle;\n",
       "    }\n",
       "\n",
       "    .dataframe tbody tr th {\n",
       "        vertical-align: top;\n",
       "    }\n",
       "\n",
       "    .dataframe thead th {\n",
       "        text-align: right;\n",
       "    }\n",
       "</style>\n",
       "<table border=\"1\" class=\"dataframe\">\n",
       "  <thead>\n",
       "    <tr style=\"text-align: right;\">\n",
       "      <th></th>\n",
       "      <th></th>\n",
       "    </tr>\n",
       "  </thead>\n",
       "  <tbody>\n",
       "    <tr>\n",
       "      <th>accuracy</th>\n",
       "      <td>0.963760</td>\n",
       "    </tr>\n",
       "    <tr>\n",
       "      <th>precision</th>\n",
       "      <td>0.475248</td>\n",
       "    </tr>\n",
       "    <tr>\n",
       "      <th>recall</th>\n",
       "      <td>0.500000</td>\n",
       "    </tr>\n",
       "    <tr>\n",
       "      <th>F1</th>\n",
       "      <td>0.487310</td>\n",
       "    </tr>\n",
       "  </tbody>\n",
       "</table>\n",
       "</div>"
      ],
      "text/plain": [
       "                   \n",
       "accuracy   0.963760\n",
       "precision  0.475248\n",
       "recall     0.500000\n",
       "F1         0.487310"
      ]
     },
     "metadata": {},
     "output_type": "display_data"
    },
    {
     "data": {
      "text/html": [
       "<div>\n",
       "<style scoped>\n",
       "    .dataframe tbody tr th:only-of-type {\n",
       "        vertical-align: middle;\n",
       "    }\n",
       "\n",
       "    .dataframe tbody tr th {\n",
       "        vertical-align: top;\n",
       "    }\n",
       "\n",
       "    .dataframe thead th {\n",
       "        text-align: right;\n",
       "    }\n",
       "</style>\n",
       "<table border=\"1\" class=\"dataframe\">\n",
       "  <thead>\n",
       "    <tr style=\"text-align: right;\">\n",
       "      <th></th>\n",
       "      <th>Alive</th>\n",
       "      <th>Dead</th>\n",
       "    </tr>\n",
       "  </thead>\n",
       "  <tbody>\n",
       "    <tr>\n",
       "      <th>Alive</th>\n",
       "      <td>2638</td>\n",
       "      <td>53</td>\n",
       "    </tr>\n",
       "    <tr>\n",
       "      <th>Dead</th>\n",
       "      <td>48</td>\n",
       "      <td>48</td>\n",
       "    </tr>\n",
       "  </tbody>\n",
       "</table>\n",
       "</div>"
      ],
      "text/plain": [
       "       Alive  Dead\n",
       "Alive   2638    53\n",
       "Dead      48    48"
      ]
     },
     "metadata": {},
     "output_type": "display_data"
    }
   ],
   "source": [
    "actual, prediction = predict(linear, iter1)\n",
    "\n",
    "with warnings.catch_warnings():\n",
    "    warnings.simplefilter(\"ignore\")\n",
    "    threshold = find_threshold(actual, prediction)\n",
    "\n",
    "print(\"Chosen threshold: %.04f\" % threshold)\n",
    "\n",
    "print(\"Results:\")\n",
    "display_metrics(linear, iter1, threshold)"
   ]
  },
  {
   "cell_type": "markdown",
   "id": "confirmed-meter",
   "metadata": {},
   "source": [
    "Back to Part 2: Linear Model\n",
    "=="
   ]
  },
  {
   "cell_type": "markdown",
   "id": "steady-council",
   "metadata": {},
   "source": [
    "Recap: these are the metrics for the model when predicting training data."
   ]
  },
  {
   "cell_type": "code",
   "execution_count": 43,
   "id": "mediterranean-parallel",
   "metadata": {},
   "outputs": [
    {
     "data": {
      "text/html": [
       "<div>\n",
       "<style scoped>\n",
       "    .dataframe tbody tr th:only-of-type {\n",
       "        vertical-align: middle;\n",
       "    }\n",
       "\n",
       "    .dataframe tbody tr th {\n",
       "        vertical-align: top;\n",
       "    }\n",
       "\n",
       "    .dataframe thead th {\n",
       "        text-align: right;\n",
       "    }\n",
       "</style>\n",
       "<table border=\"1\" class=\"dataframe\">\n",
       "  <thead>\n",
       "    <tr style=\"text-align: right;\">\n",
       "      <th></th>\n",
       "      <th></th>\n",
       "    </tr>\n",
       "  </thead>\n",
       "  <tbody>\n",
       "    <tr>\n",
       "      <th>accuracy</th>\n",
       "      <td>0.955867</td>\n",
       "    </tr>\n",
       "    <tr>\n",
       "      <th>precision</th>\n",
       "      <td>0.423948</td>\n",
       "    </tr>\n",
       "    <tr>\n",
       "      <th>recall</th>\n",
       "      <td>0.545833</td>\n",
       "    </tr>\n",
       "    <tr>\n",
       "      <th>F1</th>\n",
       "      <td>0.477231</td>\n",
       "    </tr>\n",
       "  </tbody>\n",
       "</table>\n",
       "</div>"
      ],
      "text/plain": [
       "                   \n",
       "accuracy   0.955867\n",
       "precision  0.423948\n",
       "recall     0.545833\n",
       "F1         0.477231"
      ]
     },
     "metadata": {},
     "output_type": "display_data"
    },
    {
     "data": {
      "text/html": [
       "<div>\n",
       "<style scoped>\n",
       "    .dataframe tbody tr th:only-of-type {\n",
       "        vertical-align: middle;\n",
       "    }\n",
       "\n",
       "    .dataframe tbody tr th {\n",
       "        vertical-align: top;\n",
       "    }\n",
       "\n",
       "    .dataframe thead th {\n",
       "        text-align: right;\n",
       "    }\n",
       "</style>\n",
       "<table border=\"1\" class=\"dataframe\">\n",
       "  <thead>\n",
       "    <tr style=\"text-align: right;\">\n",
       "      <th></th>\n",
       "      <th>Alive</th>\n",
       "      <th>Dead</th>\n",
       "    </tr>\n",
       "  </thead>\n",
       "  <tbody>\n",
       "    <tr>\n",
       "      <th>Alive</th>\n",
       "      <td>6085</td>\n",
       "      <td>178</td>\n",
       "    </tr>\n",
       "    <tr>\n",
       "      <th>Dead</th>\n",
       "      <td>109</td>\n",
       "      <td>131</td>\n",
       "    </tr>\n",
       "  </tbody>\n",
       "</table>\n",
       "</div>"
      ],
      "text/plain": [
       "       Alive  Dead\n",
       "Alive   6085   178\n",
       "Dead     109   131"
      ]
     },
     "metadata": {},
     "output_type": "display_data"
    }
   ],
   "source": [
    "display_metrics(linear, iter1, 0.19, training_only=True)"
   ]
  },
  {
   "cell_type": "markdown",
   "id": "lyric-theorem",
   "metadata": {},
   "source": [
    " - **accuracy is high** - Not as high as before, but nonetheless high. Expected due to the imbalance in the target feature.\n",
    " - **precision is below 50%** - A predicted positive is more likely to be a false positive than a true positive!\n",
    " - **recall is above 50%** - Half of the actual positives were detected.\n",
    " - **F1 is low** - Much better than before, but nonetheless somewhat low. "
   ]
  },
  {
   "cell_type": "markdown",
   "id": "inside-jamaica",
   "metadata": {},
   "source": [
    "Now, for the hold-out data:"
   ]
  },
  {
   "cell_type": "code",
   "execution_count": 44,
   "id": "returning-removal",
   "metadata": {},
   "outputs": [
    {
     "data": {
      "text/html": [
       "<div>\n",
       "<style scoped>\n",
       "    .dataframe tbody tr th:only-of-type {\n",
       "        vertical-align: middle;\n",
       "    }\n",
       "\n",
       "    .dataframe tbody tr th {\n",
       "        vertical-align: top;\n",
       "    }\n",
       "\n",
       "    .dataframe thead th {\n",
       "        text-align: right;\n",
       "    }\n",
       "</style>\n",
       "<table border=\"1\" class=\"dataframe\">\n",
       "  <thead>\n",
       "    <tr style=\"text-align: right;\">\n",
       "      <th></th>\n",
       "      <th></th>\n",
       "    </tr>\n",
       "  </thead>\n",
       "  <tbody>\n",
       "    <tr>\n",
       "      <th>accuracy</th>\n",
       "      <td>0.963043</td>\n",
       "    </tr>\n",
       "    <tr>\n",
       "      <th>precision</th>\n",
       "      <td>0.466019</td>\n",
       "    </tr>\n",
       "    <tr>\n",
       "      <th>recall</th>\n",
       "      <td>0.500000</td>\n",
       "    </tr>\n",
       "    <tr>\n",
       "      <th>F1</th>\n",
       "      <td>0.482412</td>\n",
       "    </tr>\n",
       "  </tbody>\n",
       "</table>\n",
       "</div>"
      ],
      "text/plain": [
       "                   \n",
       "accuracy   0.963043\n",
       "precision  0.466019\n",
       "recall     0.500000\n",
       "F1         0.482412"
      ]
     },
     "metadata": {},
     "output_type": "display_data"
    },
    {
     "data": {
      "text/html": [
       "<div>\n",
       "<style scoped>\n",
       "    .dataframe tbody tr th:only-of-type {\n",
       "        vertical-align: middle;\n",
       "    }\n",
       "\n",
       "    .dataframe tbody tr th {\n",
       "        vertical-align: top;\n",
       "    }\n",
       "\n",
       "    .dataframe thead th {\n",
       "        text-align: right;\n",
       "    }\n",
       "</style>\n",
       "<table border=\"1\" class=\"dataframe\">\n",
       "  <thead>\n",
       "    <tr style=\"text-align: right;\">\n",
       "      <th></th>\n",
       "      <th>Alive</th>\n",
       "      <th>Dead</th>\n",
       "    </tr>\n",
       "  </thead>\n",
       "  <tbody>\n",
       "    <tr>\n",
       "      <th>Alive</th>\n",
       "      <td>2636</td>\n",
       "      <td>55</td>\n",
       "    </tr>\n",
       "    <tr>\n",
       "      <th>Dead</th>\n",
       "      <td>48</td>\n",
       "      <td>48</td>\n",
       "    </tr>\n",
       "  </tbody>\n",
       "</table>\n",
       "</div>"
      ],
      "text/plain": [
       "       Alive  Dead\n",
       "Alive   2636    55\n",
       "Dead      48    48"
      ]
     },
     "metadata": {},
     "output_type": "display_data"
    }
   ],
   "source": [
    "display_metrics(linear, iter1, 0.19)"
   ]
  },
  {
   "cell_type": "markdown",
   "id": "chubby-stroke",
   "metadata": {},
   "source": [
    "Almost identical before. In fact, it scores a little better. This is surprise to me - I'd have thought even a model not suffering from overfitting too much tends to perform better on the training data.\n",
    "\n",
    "After seeing this trend a few times now in this notebook, I'm no longer so sure. I wonder is the model just simple enough (linear & 5 features) to avoid the problem within this dataset at least."
   ]
  },
  {
   "cell_type": "markdown",
   "id": "brazilian-genius",
   "metadata": {},
   "source": [
    "Finally, k-fold cross-validation. "
   ]
  },
  {
   "cell_type": "code",
   "execution_count": 45,
   "id": "flush-diesel",
   "metadata": {},
   "outputs": [],
   "source": [
    "def kfold(k, model_type, data, threshold=None, resampler=None):\n",
    "    \n",
    "    X = data.drop(\"death_yn\", axis=1).values\n",
    "    y = data[\"death_yn\"].values\n",
    "    \n",
    "    folder = sklearn.model_selection.KFold(k, shuffle=True, random_state=0)\n",
    "    \n",
    "    results = pd.Series([0.,0.,0.,0.], index=[\n",
    "        \"accuracy\", \"precision\", \"recall\", \"F1\"\n",
    "    ])\n",
    "    \n",
    "    labels = np.sort(np.unique(y))\n",
    "        \n",
    "    for train_index, test_index in folder.split(X, y):\n",
    "\n",
    "        X_train = X[train_index]\n",
    "        y_train = y[train_index]\n",
    "        X_test = X[test_index]\n",
    "        y_test = y[test_index]\n",
    "        \n",
    "        # I added this \"resampler\" parameter to help with part 5. \n",
    "        # The idea is to balance training data, but not testing data.\n",
    "        if resampler is not None:\n",
    "            X_train, y_train = resample(X_train, y_train)\n",
    "        \n",
    "        model = model_type()\n",
    "        model.fit(X_train, y_train)\n",
    "        prediction = model.predict(X_test)\n",
    "        prediction = pd.Series(prediction)\n",
    "        \n",
    "        # This is only relevant for the linear model, and should be None\n",
    "        # for the other models.\n",
    "        if threshold is not None:\n",
    "            prediction = apply_threshold(prediction, threshold, labels)\n",
    "        \n",
    "        matrix = confusion(y_test, prediction, labels)\n",
    "        metrics = class_metrics(matrix).T\n",
    "        \n",
    "        for item in results.index:\n",
    "            if not np.isnan(metrics[item].iloc[0]):\n",
    "                results[item] += metrics[item]\n",
    "    \n",
    "    results /= k\n",
    "        \n",
    "    return results"
   ]
  },
  {
   "cell_type": "code",
   "execution_count": 46,
   "id": "prostate-gender",
   "metadata": {},
   "outputs": [
    {
     "data": {
      "text/plain": [
       "accuracy     0.958669\n",
       "precision    0.440679\n",
       "recall       0.503774\n",
       "F1           0.458803\n",
       "dtype: float64"
      ]
     },
     "execution_count": 46,
     "metadata": {},
     "output_type": "execute_result"
    }
   ],
   "source": [
    "kfold(30, linear, iter1, threshold=0.19)"
   ]
  },
  {
   "cell_type": "markdown",
   "id": "returning-order",
   "metadata": {},
   "source": [
    "For low k (k < 50), the metrics are similar to those from the hold-out data.\n",
    "\n",
    "As k increases, the F1 and other values (except for accuracy) tend to decrease, which seemed counter-intuitive at first. Surely more training data is a good thing?\n",
    "\n",
    "However, there are lots and lots of NaN warnings printed out (Which I have suppressed). I think what is happening is that as the test sample gets smaller, there are more and more samples with no predicted positives, and also more with no actual positives. This causes some of the metrics to go to NaN due to zero division errors, and contribute zero to the totals.\n",
    "\n",
    "When I first ran this, accuracy tended to decrease too, but I was able to fix a similar error there - the confusion matrix was giving an error when there more no actual positives *and* no predicted positives.\n",
    "\n",
    "I think this can be fixed by talling true and false positives instead of scores and calculating a shared score, but I have not chased this down."
   ]
  },
  {
   "cell_type": "code",
   "execution_count": 47,
   "id": "worthy-booth",
   "metadata": {},
   "outputs": [
    {
     "name": "stdout",
     "output_type": "stream",
     "text": [
      "200 Iterations:\n"
     ]
    },
    {
     "data": {
      "text/plain": [
       "accuracy     0.958564\n",
       "precision    0.390250\n",
       "recall       0.431250\n",
       "F1           0.380663\n",
       "dtype: float64"
      ]
     },
     "metadata": {},
     "output_type": "display_data"
    },
    {
     "name": "stdout",
     "output_type": "stream",
     "text": [
      "400 Iterations:\n"
     ]
    },
    {
     "data": {
      "text/plain": [
       "accuracy     0.958587\n",
       "precision    0.270375\n",
       "recall       0.293958\n",
       "F1           0.267163\n",
       "dtype: float64"
      ]
     },
     "metadata": {},
     "output_type": "display_data"
    },
    {
     "name": "stdout",
     "output_type": "stream",
     "text": [
      "1000 Iterations:\n"
     ]
    },
    {
     "data": {
      "text/plain": [
       "accuracy     0.958544\n",
       "precision    0.137500\n",
       "recall       0.140333\n",
       "F1           0.135414\n",
       "dtype: float64"
      ]
     },
     "metadata": {},
     "output_type": "display_data"
    }
   ],
   "source": [
    "with warnings.catch_warnings():\n",
    "    \n",
    "    # Comment out this to see a flood of warnings\n",
    "    # relating to times when there were no predictions\n",
    "    # and some metrics fall to NaN\n",
    "    warnings.simplefilter(\"ignore\")\n",
    "    \n",
    "    threshold = 0.19\n",
    "    \n",
    "    print(\"200 Iterations:\")\n",
    "    display(kfold(200, linear, iter1, threshold))\n",
    "    \n",
    "    print(\"400 Iterations:\")\n",
    "    display(kfold(400, linear, iter1, threshold))\n",
    "    \n",
    "    print(\"1000 Iterations:\")\n",
    "    display(kfold(1000, linear, iter1, threshold))"
   ]
  },
  {
   "cell_type": "markdown",
   "id": "infinite-supervision",
   "metadata": {},
   "source": [
    "Part 3: Logistic Regression\n",
    "=="
   ]
  },
  {
   "cell_type": "code",
   "execution_count": 48,
   "id": "outer-worst",
   "metadata": {},
   "outputs": [],
   "source": [
    "logistic = sklearn.linear_model.LogisticRegression"
   ]
  },
  {
   "cell_type": "markdown",
   "id": "identified-painting",
   "metadata": {},
   "source": [
    "Display fitted parameters."
   ]
  },
  {
   "cell_type": "code",
   "execution_count": 49,
   "id": "figured-wages",
   "metadata": {},
   "outputs": [
    {
     "data": {
      "text/html": [
       "<div>\n",
       "<style scoped>\n",
       "    .dataframe tbody tr th:only-of-type {\n",
       "        vertical-align: middle;\n",
       "    }\n",
       "\n",
       "    .dataframe tbody tr th {\n",
       "        vertical-align: top;\n",
       "    }\n",
       "\n",
       "    .dataframe thead th {\n",
       "        text-align: right;\n",
       "    }\n",
       "</style>\n",
       "<table border=\"1\" class=\"dataframe\">\n",
       "  <thead>\n",
       "    <tr style=\"text-align: right;\">\n",
       "      <th></th>\n",
       "      <th>intercept</th>\n",
       "      <th>icu_yn</th>\n",
       "      <th>age_group</th>\n",
       "      <th>hosp_yn</th>\n",
       "      <th>case_age_days</th>\n",
       "      <th>medcond_yn</th>\n",
       "    </tr>\n",
       "  </thead>\n",
       "  <tbody>\n",
       "    <tr>\n",
       "      <th>0</th>\n",
       "      <td>-10.555918</td>\n",
       "      <td>1.83713</td>\n",
       "      <td>6.126942</td>\n",
       "      <td>2.690406</td>\n",
       "      <td>1.205046</td>\n",
       "      <td>0.719347</td>\n",
       "    </tr>\n",
       "  </tbody>\n",
       "</table>\n",
       "</div>"
      ],
      "text/plain": [
       "   intercept   icu_yn  age_group   hosp_yn  case_age_days  medcond_yn\n",
       "0 -10.555918  1.83713   6.126942  2.690406       1.205046    0.719347"
      ]
     },
     "metadata": {},
     "output_type": "display_data"
    },
    {
     "data": {
      "image/png": "[encoded data removed]",
      "text/plain": [
       "<Figure size 432x288 with 1 Axes>"
      ]
     },
     "metadata": {
      "needs_background": "light"
     },
     "output_type": "display_data"
    }
   ],
   "source": [
    "info = model_info(logistic, iter1)\n",
    "\n",
    "display(info)\n",
    "info.plot(kind=\"bar\");"
   ]
  },
  {
   "cell_type": "markdown",
   "id": "brilliant-patrol",
   "metadata": {},
   "source": [
    "This graph of coefficients has similar properties to that for the linear model, which is no surprise. While the two models differ in the shape of the curve (or hyperplane) they apply to the data, they both follow a general principle of weighting significant features more, and, for our case, weighting risk factors against an initial intercept.\n",
    "\n",
    "So age takes the lead as the most significant factor. I still think the y/n features are being undervalued here and will be more useful with indicator variables to support them. case_age_days is apprently not particularly significant in comparison to age."
   ]
  },
  {
   "cell_type": "code",
   "execution_count": 50,
   "id": "decreased-wrist",
   "metadata": {},
   "outputs": [
    {
     "data": {
      "text/plain": [
       "0    0.0\n",
       "1    0.0\n",
       "2    0.0\n",
       "3    0.0\n",
       "4    0.0\n",
       "5    0.0\n",
       "6    0.0\n",
       "7    0.0\n",
       "8    0.0\n",
       "9    0.0\n",
       "dtype: float64"
      ]
     },
     "execution_count": 50,
     "metadata": {},
     "output_type": "execute_result"
    }
   ],
   "source": [
    "_, prediction = predict(logistic, iter1, training_only=True)\n",
    "prediction.head(10)"
   ]
  },
  {
   "cell_type": "code",
   "execution_count": 51,
   "id": "motivated-jewelry",
   "metadata": {},
   "outputs": [
    {
     "data": {
      "text/html": [
       "<div>\n",
       "<style scoped>\n",
       "    .dataframe tbody tr th:only-of-type {\n",
       "        vertical-align: middle;\n",
       "    }\n",
       "\n",
       "    .dataframe tbody tr th {\n",
       "        vertical-align: top;\n",
       "    }\n",
       "\n",
       "    .dataframe thead th {\n",
       "        text-align: right;\n",
       "    }\n",
       "</style>\n",
       "<table border=\"1\" class=\"dataframe\">\n",
       "  <thead>\n",
       "    <tr style=\"text-align: right;\">\n",
       "      <th></th>\n",
       "      <th></th>\n",
       "    </tr>\n",
       "  </thead>\n",
       "  <tbody>\n",
       "    <tr>\n",
       "      <th>accuracy</th>\n",
       "      <td>0.966169</td>\n",
       "    </tr>\n",
       "    <tr>\n",
       "      <th>precision</th>\n",
       "      <td>0.608696</td>\n",
       "    </tr>\n",
       "    <tr>\n",
       "      <th>recall</th>\n",
       "      <td>0.233333</td>\n",
       "    </tr>\n",
       "    <tr>\n",
       "      <th>F1</th>\n",
       "      <td>0.337349</td>\n",
       "    </tr>\n",
       "  </tbody>\n",
       "</table>\n",
       "</div>"
      ],
      "text/plain": [
       "                   \n",
       "accuracy   0.966169\n",
       "precision  0.608696\n",
       "recall     0.233333\n",
       "F1         0.337349"
      ]
     },
     "metadata": {},
     "output_type": "display_data"
    },
    {
     "data": {
      "text/html": [
       "<div>\n",
       "<style scoped>\n",
       "    .dataframe tbody tr th:only-of-type {\n",
       "        vertical-align: middle;\n",
       "    }\n",
       "\n",
       "    .dataframe tbody tr th {\n",
       "        vertical-align: top;\n",
       "    }\n",
       "\n",
       "    .dataframe thead th {\n",
       "        text-align: right;\n",
       "    }\n",
       "</style>\n",
       "<table border=\"1\" class=\"dataframe\">\n",
       "  <thead>\n",
       "    <tr style=\"text-align: right;\">\n",
       "      <th></th>\n",
       "      <th>Alive</th>\n",
       "      <th>Dead</th>\n",
       "    </tr>\n",
       "  </thead>\n",
       "  <tbody>\n",
       "    <tr>\n",
       "      <th>Alive</th>\n",
       "      <td>6227</td>\n",
       "      <td>36</td>\n",
       "    </tr>\n",
       "    <tr>\n",
       "      <th>Dead</th>\n",
       "      <td>184</td>\n",
       "      <td>56</td>\n",
       "    </tr>\n",
       "  </tbody>\n",
       "</table>\n",
       "</div>"
      ],
      "text/plain": [
       "       Alive  Dead\n",
       "Alive   6227    36\n",
       "Dead     184    56"
      ]
     },
     "metadata": {},
     "output_type": "display_data"
    }
   ],
   "source": [
    "display_metrics(logistic, iter1, training_only=True)"
   ]
  },
  {
   "cell_type": "markdown",
   "id": "chubby-newspaper",
   "metadata": {},
   "source": [
    "Low recall and high precision, combined to make an F1 that is lower than the ones I've come to expect from the linear model, which is interesting.\n",
    "\n",
    "The accuracy is higher, since the precision of the positive when it makes a positive is higher."
   ]
  },
  {
   "cell_type": "code",
   "execution_count": 52,
   "id": "surrounded-subscriber",
   "metadata": {},
   "outputs": [
    {
     "data": {
      "text/html": [
       "<div>\n",
       "<style scoped>\n",
       "    .dataframe tbody tr th:only-of-type {\n",
       "        vertical-align: middle;\n",
       "    }\n",
       "\n",
       "    .dataframe tbody tr th {\n",
       "        vertical-align: top;\n",
       "    }\n",
       "\n",
       "    .dataframe thead th {\n",
       "        text-align: right;\n",
       "    }\n",
       "</style>\n",
       "<table border=\"1\" class=\"dataframe\">\n",
       "  <thead>\n",
       "    <tr style=\"text-align: right;\">\n",
       "      <th></th>\n",
       "      <th></th>\n",
       "    </tr>\n",
       "  </thead>\n",
       "  <tbody>\n",
       "    <tr>\n",
       "      <th>accuracy</th>\n",
       "      <td>0.967707</td>\n",
       "    </tr>\n",
       "    <tr>\n",
       "      <th>precision</th>\n",
       "      <td>0.588235</td>\n",
       "    </tr>\n",
       "    <tr>\n",
       "      <th>recall</th>\n",
       "      <td>0.208333</td>\n",
       "    </tr>\n",
       "    <tr>\n",
       "      <th>F1</th>\n",
       "      <td>0.307692</td>\n",
       "    </tr>\n",
       "  </tbody>\n",
       "</table>\n",
       "</div>"
      ],
      "text/plain": [
       "                   \n",
       "accuracy   0.967707\n",
       "precision  0.588235\n",
       "recall     0.208333\n",
       "F1         0.307692"
      ]
     },
     "metadata": {},
     "output_type": "display_data"
    },
    {
     "data": {
      "text/html": [
       "<div>\n",
       "<style scoped>\n",
       "    .dataframe tbody tr th:only-of-type {\n",
       "        vertical-align: middle;\n",
       "    }\n",
       "\n",
       "    .dataframe tbody tr th {\n",
       "        vertical-align: top;\n",
       "    }\n",
       "\n",
       "    .dataframe thead th {\n",
       "        text-align: right;\n",
       "    }\n",
       "</style>\n",
       "<table border=\"1\" class=\"dataframe\">\n",
       "  <thead>\n",
       "    <tr style=\"text-align: right;\">\n",
       "      <th></th>\n",
       "      <th>Alive</th>\n",
       "      <th>Dead</th>\n",
       "    </tr>\n",
       "  </thead>\n",
       "  <tbody>\n",
       "    <tr>\n",
       "      <th>Alive</th>\n",
       "      <td>2677</td>\n",
       "      <td>14</td>\n",
       "    </tr>\n",
       "    <tr>\n",
       "      <th>Dead</th>\n",
       "      <td>76</td>\n",
       "      <td>20</td>\n",
       "    </tr>\n",
       "  </tbody>\n",
       "</table>\n",
       "</div>"
      ],
      "text/plain": [
       "       Alive  Dead\n",
       "Alive   2677    14\n",
       "Dead      76    20"
      ]
     },
     "metadata": {},
     "output_type": "display_data"
    }
   ],
   "source": [
    "display_metrics(logistic, iter1)"
   ]
  },
  {
   "cell_type": "markdown",
   "id": "tracked-alpha",
   "metadata": {},
   "source": [
    "The metrics are much the same for training as for test data, as before. The test data scored a little better this time, but given the kfold results in the next cell that looks like noise to me rather than overfitting."
   ]
  },
  {
   "cell_type": "code",
   "execution_count": 53,
   "id": "miniature-timer",
   "metadata": {},
   "outputs": [
    {
     "data": {
      "text/plain": [
       "accuracy     0.966631\n",
       "precision    0.620144\n",
       "recall       0.232206\n",
       "F1           0.334285\n",
       "dtype: float64"
      ]
     },
     "execution_count": 53,
     "metadata": {},
     "output_type": "execute_result"
    }
   ],
   "source": [
    "kfold(10, logistic, iter1)"
   ]
  },
  {
   "cell_type": "markdown",
   "id": "weird-arctic",
   "metadata": {},
   "source": [
    "The model holds up well under kfolding - these metrics are roughly the same as the ones above."
   ]
  },
  {
   "cell_type": "markdown",
   "id": "colonial-windsor",
   "metadata": {},
   "source": [
    "Part 4: Random Forests\n",
    "=="
   ]
  },
  {
   "cell_type": "code",
   "execution_count": 54,
   "id": "hollywood-caribbean",
   "metadata": {},
   "outputs": [],
   "source": [
    "rforest = sklearn.ensemble.RandomForestClassifier"
   ]
  },
  {
   "cell_type": "markdown",
   "id": "dressed-photography",
   "metadata": {},
   "source": [
    "The first 10 predictions. There is one positive."
   ]
  },
  {
   "cell_type": "code",
   "execution_count": 55,
   "id": "banned-couple",
   "metadata": {},
   "outputs": [
    {
     "data": {
      "text/plain": [
       "0    0.0\n",
       "1    0.0\n",
       "2    0.0\n",
       "3    0.0\n",
       "4    1.0\n",
       "5    0.0\n",
       "6    0.0\n",
       "7    0.0\n",
       "8    0.0\n",
       "9    0.0\n",
       "dtype: float64"
      ]
     },
     "execution_count": 55,
     "metadata": {},
     "output_type": "execute_result"
    }
   ],
   "source": [
    "_, prediction = predict(rforest, iter1)\n",
    "prediction.head(10)"
   ]
  },
  {
   "cell_type": "markdown",
   "id": "exact-lincoln",
   "metadata": {},
   "source": [
    "The interpretation of Random Forests is a lot trickier than for the previous two models. They are often described as black boxes, and I can see why.\n",
    "\n",
    "I started by printing out a few decision trees using the code below (replacing the \"count\" parameter with a higher number), but it was quickly evident that the trees were all wildly different. And even if they were not, the full tree is quite large."
   ]
  },
  {
   "cell_type": "code",
   "execution_count": 56,
   "id": "valuable-emperor",
   "metadata": {},
   "outputs": [
    {
     "data": {
      "image/png": "[encoded data removed]",
      "text/plain": [
       "<Figure size 720x288 with 1 Axes>"
      ]
     },
     "metadata": {
      "needs_background": "light"
     },
     "output_type": "display_data"
    }
   ],
   "source": [
    "def show_trees(data, count):\n",
    "    \n",
    "    X_train, _, y_train, _ = split(data)\n",
    "    \n",
    "    model = rforest(random_state=0)\n",
    "    model.fit(X_train, y_train)\n",
    "    \n",
    "    for i in range(min(count, len(model.estimators_))):\n",
    "        tree = model.estimators_[i]\n",
    "        plt.figure(figsize=(10,4))\n",
    "        sklearn.tree.plot_tree(tree, ax=plt.gca(), max_depth=2, filled=True, fontsize=7,\n",
    "                              class_names=[\"No\", \"Yes\"], feature_names=X_train.columns);\n",
    "        \n",
    "show_trees(iter1, count=1)\n"
   ]
  },
  {
   "cell_type": "markdown",
   "id": "fifteen-employee",
   "metadata": {},
   "source": [
    "There are the \"feature importance\" metrics in SKLearn, which may provide some insight.\n",
    "\n",
    "The first of these considers the change in certainty (or impurity) as a particular record moves down the tree. It tallies the contribution of each feature towards becoming more certain of a class. For example, if after splitting on a certain feature we move to a node with a greater \"yes\" proportion, we can say that that feature contributed towards a \"yes\" prediction."
   ]
  },
  {
   "cell_type": "code",
   "execution_count": 57,
   "id": "bound-group",
   "metadata": {},
   "outputs": [
    {
     "data": {
      "text/plain": [
       "<AxesSubplot:>"
      ]
     },
     "execution_count": 57,
     "metadata": {},
     "output_type": "execute_result"
    },
    {
     "data": {
      "image/png": "[encoded data removed]",
      "text/plain": [
       "<Figure size 432x288 with 1 Axes>"
      ]
     },
     "metadata": {
      "needs_background": "light"
     },
     "output_type": "display_data"
    }
   ],
   "source": [
    "X_train, _, y_train, _ = split(iter1)\n",
    "\n",
    "model = rforest(random_state=0)\n",
    "model.fit(X_train, y_train)\n",
    "\n",
    "results = model.feature_importances_ # This is an impurity based metric, according to the SKLearn docs.\n",
    "frame = pd.DataFrame([results], columns=X_train.columns)\n",
    "frame.plot(kind=\"bar\")"
   ]
  },
  {
   "cell_type": "markdown",
   "id": "colonial-freeze",
   "metadata": {},
   "source": [
    "The results show case_age_days as being the most important by far, which is extremely surprising. \n",
    "\n",
    "This starts to make more sense when the warning on the SKLearn documentation is taken into account, which says that the importance for a feature with many classes may be overestimated - case_age_days, being spread out over 400 days or so, has many many more classes than the other features.\n",
    "\n",
    "Furthermore, this method of estimating importance is based on training data only and does not take the loss of prediction skill when test data is considered.\n",
    "\n",
    "The doc can be found here: https://scikit-learn.org/stable/auto_examples/ensemble/plot_forest_importances.html"
   ]
  },
  {
   "cell_type": "markdown",
   "id": "motivated-buffalo",
   "metadata": {},
   "source": [
    "The documentation points towards a simpler metric that can be based on test data rather than training data, where high-cardinality features and overfitting do not cause problems. This is called \"permutation importance\".\n",
    "\n",
    "It corrupts one column at a time, takes the resulting decrease in score to be a measure of the importance of that feature. i.e. the more important the column, the more skill we lose when it is taken away.\n",
    "\n",
    "The docs for this one can be found here: https://scikit-learn.org/stable/modules/permutation_importance.html#permutation-importance"
   ]
  },
  {
   "cell_type": "code",
   "execution_count": 58,
   "id": "binding-tooth",
   "metadata": {},
   "outputs": [],
   "source": [
    "def permutation_importance(model_type, data, scoring=None, weights=None):\n",
    "\n",
    "    X_train, X_test, y_train, y_test = split(data)\n",
    "    \n",
    "    try:\n",
    "        model = model_type(random_state=0)\n",
    "    except:\n",
    "        model = model_type()\n",
    "        \n",
    "    model.fit(X_train, y_train)\n",
    "\n",
    "    result = sklearn.inspection.permutation_importance(\n",
    "        model, X_test, y_test, n_repeats=10, \n",
    "        random_state=0, scoring=scoring, sample_weight=weights)\n",
    "    \n",
    "    return pd.DataFrame([result[\"importances_mean\"]], columns=X_train.columns)"
   ]
  },
  {
   "cell_type": "code",
   "execution_count": 59,
   "id": "headed-daisy",
   "metadata": {},
   "outputs": [
    {
     "data": {
      "text/plain": [
       "<AxesSubplot:>"
      ]
     },
     "execution_count": 59,
     "metadata": {},
     "output_type": "execute_result"
    },
    {
     "data": {
      "image/png": "[encoded data removed]",
      "text/plain": [
       "<Figure size 432x288 with 1 Axes>"
      ]
     },
     "metadata": {
      "needs_background": "light"
     },
     "output_type": "display_data"
    }
   ],
   "source": [
    "permutation_importance(rforest, iter1).plot(kind=\"bar\")"
   ]
  },
  {
   "cell_type": "markdown",
   "id": "extraordinary-trustee",
   "metadata": {},
   "source": [
    "This is more similar to the weights in the logistic/regression models, with the exception of icu. At first I was just confused by that in particular. (I cannot even blame the encoding this time, since a decision tree can choose ranges precisely and effectively re-encode things) \n",
    "\n",
    "However, it later occurred to me that the scoring metric was *accuracy* in this case. We know that because of the overwhleming imbalance in the target feature, any predictor that starts trying to predict with some recall tends to lose some accuracy. So icu being negative here is possibly a good thing.\n",
    "\n",
    "That also means that removing the others each *decreased* accuracy, which is almost counter-intuitive now.\n",
    "\n",
    "Before reading to much into this, though, and trying to explain it, I note that the magnitude of these changes is very, very small - less than 1%. All in all, this is deceptively nice looking graph, with simple intuitive origins, that is nonetheless hard to interpret."
   ]
  },
  {
   "cell_type": "markdown",
   "id": "stuck-intention",
   "metadata": {},
   "source": [
    "A perhaps easier (if less directly intuitive) metric to deal with is F1."
   ]
  },
  {
   "cell_type": "code",
   "execution_count": 60,
   "id": "english-wings",
   "metadata": {},
   "outputs": [
    {
     "data": {
      "text/plain": [
       "<AxesSubplot:>"
      ]
     },
     "execution_count": 60,
     "metadata": {},
     "output_type": "execute_result"
    },
    {
     "data": {
      "image/png": "[encoded data removed]",
      "text/plain": [
       "<Figure size 432x288 with 1 Axes>"
      ]
     },
     "metadata": {
      "needs_background": "light"
     },
     "output_type": "display_data"
    }
   ],
   "source": [
    "permutation_importance(rforest, iter1, \"f1\").plot(kind=\"bar\")"
   ]
  },
  {
   "cell_type": "markdown",
   "id": "constitutional-quebec",
   "metadata": {},
   "source": [
    "Two things are immediately apparent - the proportionate change is score is much more significant now, and the magnitudes are as expected. \n",
    "\n",
    "It is still surprising to me that icu is so low. One thing to note is that the tree may spread out responsibility accross features acting as proxies to each other - it could be that between age_group and hosp_yn it has most of the information captured that icu_yn can give, or something like that."
   ]
  },
  {
   "cell_type": "markdown",
   "id": "continuous-africa",
   "metadata": {},
   "source": [
    "We can also look at the accuracy each each class seperately."
   ]
  },
  {
   "cell_type": "code",
   "execution_count": 61,
   "id": "listed-effort",
   "metadata": {},
   "outputs": [
    {
     "data": {
      "text/plain": [
       "<AxesSubplot:>"
      ]
     },
     "execution_count": 61,
     "metadata": {},
     "output_type": "execute_result"
    },
    {
     "data": {
      "image/png": "[encoded data removed]",
      "text/plain": [
       "<Figure size 432x288 with 1 Axes>"
      ]
     },
     "metadata": {
      "needs_background": "light"
     },
     "output_type": "display_data"
    }
   ],
   "source": [
    "def feature_importances_by_class(data):\n",
    "\n",
    "    _, _, _, y_test = split(data)\n",
    "    \n",
    "    # class 0\n",
    "    weights = 1 - y_test\n",
    "    result_0 = permutation_importance(rforest, data, \"accuracy\", weights)\n",
    "\n",
    "    #class 1\n",
    "    weights = y_test\n",
    "    result_1 = permutation_importance(rforest, data, \"accuracy\", weights)\n",
    "    result_1.index = [1]\n",
    "\n",
    "    return pd.concat([result_0, result_1])\n",
    "\n",
    "feature_importances_by_class(data).plot(kind=\"bar\")"
   ]
  },
  {
   "cell_type": "markdown",
   "id": "taken-combine",
   "metadata": {},
   "source": [
    "I like this graph in part because it highlights how small the effect on accuracy is in the positive case. The results for f1 scoring are reflected in the accuracy of the positive class."
   ]
  },
  {
   "cell_type": "markdown",
   "id": "quarterly-electron",
   "metadata": {},
   "source": [
    "The one issue I have with using permutation importance here is that it mixes scoring features with interpreting the model in a way that one cannot separate just looking at the graph. For all we know, there could be a feature that the tree uses all the time but that had little effect on the score. If the tree were to have that kind of strong hidden dependence on a feature, and the feature were to change dramatically, it could have unexpected effects.\n",
    "\n",
    "That seems to be something the impurity based metric would be good at capturing. I gave a go at writing my own, based on test data rather than training data, in the hopes that it might avoid some of the pitfalls that are noted about the in-built one.\n",
    "\n",
    "This attempt required a bit of rooting around the SKLearn docs. I found this link very very helpful:\n",
    "https://scikit-learn.org/stable/auto_examples/tree/plot_unveil_tree_structure.html#sphx-glr-auto-examples-tree-plot-unveil-tree-structure-py\n",
    "\n",
    "It was an interesting rabbit hole, but the code is finicky and not well tested so I'm not at all confident that it is actually accurate!"
   ]
  },
  {
   "cell_type": "code",
   "execution_count": 62,
   "id": "frozen-chance",
   "metadata": {},
   "outputs": [],
   "source": [
    "def feature_importances(tree, data, prev_prediction=None):\n",
    "    \n",
    "    _, X_test, _, y_test = split(data)\n",
    "    \n",
    "    X = X_test\n",
    "    y = y_test\n",
    "    \n",
    "    # We can precompute some values for each \n",
    "    # node in the tree to help performance a little.\n",
    "    \n",
    "    N = len(tree.value)\n",
    "    decision = np.zeros(N) # If we stopped at this node, which would we choose?\n",
    "    certainty = np.zeros(N) # How certain of the decision are we?\n",
    "    features = [None]*N  # The relevant feature series from the training dataframe\n",
    "    \n",
    "    for node in range(N):\n",
    "        \n",
    "        a, b = tree.value[node][0]\n",
    "        if a >= b:\n",
    "            decision[node] = 0\n",
    "        else:\n",
    "            decision[node] = 1\n",
    "        if a < b:\n",
    "            a, b = b, a\n",
    "        certainty[node] = a/(a+b)\n",
    "        \n",
    "        if tree.feature[node] >= 0:\n",
    "            name = X.columns[tree.feature[node]]\n",
    "            features[node] = X[name]\n",
    "        \n",
    "    # Now, follow the path of each record through the tree.\n",
    "    # Record importances, but also record a prediction as a consistency\n",
    "    # check, to help make sure we are correctly navigating the tree.\n",
    "        \n",
    "    importances = np.zeros(len(X.columns))\n",
    "    importances_i = np.zeros(len(X.columns) + 1) # \"+ 1\" is to give the array a dummy slot used below.\n",
    "    prediction = np.zeros(len(X))\n",
    "    \n",
    "    # I'm also interested in the breakdown of importance for yes vs no predictions\n",
    "    \n",
    "    importances_yes = np.zeros(len(X.columns))\n",
    "    importances_no = np.zeros(len(X.columns))\n",
    "    \n",
    "    for record_i in range(len(X)):\n",
    "        \n",
    "        importances_i[:] = 0\n",
    "        # This is the dummy slot in the array, since there is no initial\n",
    "        # previous feature.\n",
    "        previous_feature = len(importances_i) - 1 \n",
    "        record = X.index[record_i]\n",
    "        node = 0\n",
    "        old_certainty = certainty[node]\n",
    "        \n",
    "        if prev_prediction is None:\n",
    "            actual_value = y[y.index[record_i]]\n",
    "        else:\n",
    "            actual_value = prev_prediction[record_i]\n",
    "        \n",
    "        while True:\n",
    "            \n",
    "            # How has the previous branch affected certainty?\n",
    "            \n",
    "            new_certainty = certainty[node]\n",
    "            delta = new_certainty - old_certainty\n",
    "            \n",
    "            if decision[node] != actual_value:\n",
    "                # An increase in certainty in the wrong direction!\n",
    "                delta *= -1\n",
    "            \n",
    "            importances_i[previous_feature] = delta\n",
    "            \n",
    "            # If we have reached a leaf, break\n",
    "            \n",
    "            if tree.children_left[node] == -1:\n",
    "                break\n",
    "\n",
    "            old_certainty = new_certainty\n",
    "            previous_feature = tree.feature[node]\n",
    "                \n",
    "            # Figure out where to go next in the\n",
    "            # tree.\n",
    "                \n",
    "            feature_value = features[node][record]\n",
    "            threshold = tree.threshold[node]\n",
    "            if feature_value <= threshold:\n",
    "                node = tree.children_left[node]\n",
    "            else:\n",
    "                node = tree.children_right[node]\n",
    "            \n",
    "        prediction[record_i] = decision[node]\n",
    "            \n",
    "        # Normalize for the current run, so that longer paths\n",
    "        # are not valued more than shorter paths\n",
    "        importances_i /= np.abs(importances_i[0:-1]).sum()\n",
    "        \n",
    "        # Add to the overall tally. \n",
    "        # [0:-1] is because we do not include the dummy slot here.\n",
    "        importances += importances_i[0:-1]\n",
    "        if actual_value == 1:\n",
    "            importances_yes += importances_i[0:-1]\n",
    "        else:\n",
    "            importances_no += importances_i[0:-1]\n",
    "        \n",
    "    # Normalize each so that they can be compared.\n",
    "    importances /= np.abs(importances).sum()\n",
    "    importances_yes /= np.abs(importances_yes).sum()\n",
    "    importances_no /= np.abs(importances_no).sum()\n",
    "            \n",
    "    return prediction, importances, importances_yes, importances_no"
   ]
  },
  {
   "cell_type": "markdown",
   "id": "circular-controversy",
   "metadata": {},
   "source": [
    "Note - I'm printing out the predictions made by this function as well as the importances as a consistency check. They match below, but I've also seen them differ by a small amount occasionally - I think there might be some edge cases or minor details regarding comparison with which I have not matched the original SKLearn version."
   ]
  },
  {
   "cell_type": "code",
   "execution_count": 63,
   "id": "optimum-internet",
   "metadata": {},
   "outputs": [
    {
     "data": {
      "text/html": [
       "<div>\n",
       "<style scoped>\n",
       "    .dataframe tbody tr th:only-of-type {\n",
       "        vertical-align: middle;\n",
       "    }\n",
       "\n",
       "    .dataframe tbody tr th {\n",
       "        vertical-align: top;\n",
       "    }\n",
       "\n",
       "    .dataframe thead th {\n",
       "        text-align: right;\n",
       "    }\n",
       "</style>\n",
       "<table border=\"1\" class=\"dataframe\">\n",
       "  <thead>\n",
       "    <tr style=\"text-align: right;\">\n",
       "      <th></th>\n",
       "      <th>Actual</th>\n",
       "      <th>Test</th>\n",
       "      <th>Test II</th>\n",
       "    </tr>\n",
       "  </thead>\n",
       "  <tbody>\n",
       "    <tr>\n",
       "      <th>0</th>\n",
       "      <td>2694</td>\n",
       "      <td>2694</td>\n",
       "      <td>2694</td>\n",
       "    </tr>\n",
       "    <tr>\n",
       "      <th>1</th>\n",
       "      <td>93</td>\n",
       "      <td>93</td>\n",
       "      <td>93</td>\n",
       "    </tr>\n",
       "  </tbody>\n",
       "</table>\n",
       "</div>"
      ],
      "text/plain": [
       "   Actual  Test  Test II\n",
       "0    2694  2694     2694\n",
       "1      93    93       93"
      ]
     },
     "metadata": {},
     "output_type": "display_data"
    },
    {
     "data": {
      "text/plain": [
       "<matplotlib.legend.Legend at 0x2e49f275f98>"
      ]
     },
     "execution_count": 63,
     "metadata": {},
     "output_type": "execute_result"
    },
    {
     "data": {
      "image/png": "[encoded data removed]",
      "text/plain": [
       "<Figure size 648x288 with 2 Axes>"
      ]
     },
     "metadata": {
      "needs_background": "light"
     },
     "output_type": "display_data"
    }
   ],
   "source": [
    "data = iter1\n",
    "X_train, X_test, y_train, _ = split(data)\n",
    "\n",
    "model = rforest(random_state=0)\n",
    "model.fit(X_train, y_train)\n",
    "dtree = model.estimators_[0]\n",
    "\n",
    "# Actual prediction, according the SKLearn\n",
    "\n",
    "actual_prediction = dtree.predict(X_test)\n",
    "\n",
    "# Importances during our own navigation, comparing changes in\n",
    "# certainty to the actual value.\n",
    "\n",
    "test_prediction, i, i_yes, i_no = feature_importances(dtree.tree_, data)\n",
    "\n",
    "# Importances during our own navigation, comparing changes in\n",
    "# certainty to the final predicted value.\n",
    "\n",
    "prev_prediction = test_prediction\n",
    "test_prediction_2, i2, i2_yes, i2_no = feature_importances(dtree.tree_, data, prediction)\n",
    "\n",
    "# Display\n",
    "\n",
    "consistency = pd.DataFrame([\n",
    "    pd.Series(actual_prediction).value_counts(), \n",
    "    pd.Series(test_prediction).value_counts(), \n",
    "    pd.Series(test_prediction_2).value_counts()\n",
    "], index=[\"Actual\", \"Test\", \"Test II\"], columns=[0, 1])\n",
    "display(consistency.T)\n",
    "\n",
    "_, ax = plt.subplots(1, 2, figsize=(9,4))\n",
    "\n",
    "frame = pd.DataFrame([i, i_yes, i_no],\n",
    "    columns=X_test.columns, \n",
    "    index=[\"all\", \"yes\", \"no\"])\n",
    "frame.plot(kind=\"bar\", ax=ax[0], legend=False,\n",
    "           title=\"Contribution towards Actual Class\");\n",
    "\n",
    "frame = pd.DataFrame([i2, i2_yes, i2_no],\n",
    "    columns=X_test.columns, \n",
    "    index=[\"all\", \"yes\", \"no\"])\n",
    "frame.plot(kind=\"bar\", ax=ax[1],\n",
    "          title=\"Contribution towards Predicted Class\");\n",
    "plt.legend(loc=(1.1,0.6))"
   ]
  },
  {
   "cell_type": "markdown",
   "id": "canadian-element",
   "metadata": {},
   "source": [
    "The above graphs are just for one tree. It's actually quite fun to cycle through the trees - while there are general trends, some are so different from the others.\n",
    "\n",
    "Next, average the result across all trees. This cell takes a few minutes to run!"
   ]
  },
  {
   "cell_type": "code",
   "execution_count": 54,
   "id": "owned-vanilla",
   "metadata": {},
   "outputs": [
    {
     "data": {
      "image/png": "[encoded data removed]",
      "text/plain": [
       "<Figure size 648x288 with 2 Axes>"
      ]
     },
     "metadata": {
      "needs_background": "light"
     },
     "output_type": "display_data"
    }
   ],
   "source": [
    "def feature_importances_combined(forest, count, data, X_test):\n",
    "    \n",
    "    # 2 types of importances, 3 classes, N columns\n",
    "    \n",
    "    N = len(X_test.columns)\n",
    "    totals = np.zeros([2, 3, N])\n",
    "    \n",
    "    # Tally individual tree scores for each\n",
    "    \n",
    "    for index in range(count):\n",
    "        dtree = forest.estimators_[index]\n",
    "        prev_prediction, i11, i12, i13 = feature_importances(dtree.tree_, data)\n",
    "        _, i21, i22, i23 = feature_importances(dtree.tree_, data, prev_prediction)\n",
    "        totals += [[i11, i12, i13], [i21, i22, i23]]\n",
    "    \n",
    "    # Normalize each result\n",
    "    \n",
    "    for i in range(2):\n",
    "        for j in range(3):\n",
    "            totals[i, j, :] /= np.abs(totals[i, j, :]).sum()\n",
    "    \n",
    "    # Display\n",
    "    \n",
    "    _, ax = plt.subplots(1, 2, figsize=(9,4))\n",
    "    \n",
    "    frame = pd.DataFrame(totals[0], \n",
    "        columns=X_test.columns, \n",
    "        index=[\"all\", \"yes\", \"no\"])\n",
    "    frame.plot(kind=\"bar\", ax=ax[0], legend=False,\n",
    "               title=\"Contribution towards Actual Class\")\n",
    "    \n",
    "    frame = pd.DataFrame(totals[1], \n",
    "        columns=X_test.columns, \n",
    "        index=[\"all\", \"yes\", \"no\"])\n",
    "    frame.plot(kind=\"bar\", ax=ax[1], \n",
    "               title=\"Contribution towards Predicted Class\")\n",
    "    \n",
    "    plt.legend(loc=(1.1,0.6))\n",
    "\n",
    "\n",
    "X_train, X_test, y_train, _ = split(data)    \n",
    "model = rforest(random_state=0)\n",
    "model.fit(X_train, y_train)\n",
    "\n",
    "feature_importances_combined(model, len(model.estimators_), iter1, X_test)"
   ]
  },
  {
   "cell_type": "markdown",
   "id": "anonymous-baker",
   "metadata": {},
   "source": [
    "Predicted vs. Actual is interesting here, especially in the yes-only case. Case age featured greatly in the prediction, but the sum total was actually to push the tree away from the correct answer. This could be overfitting at play. I'm straying into discussion about scores again though, the point is that case_age_days features a lot in the decision tree.\n",
    "\n",
    "This also echoes the the result from the original in-built method. I read the warning in the docs as a being about a flaw in method, but I think that was from the perspective of scoring features - it's actually quite relevant when just thinking about how the model is doing things, rather than how well it is doing things.\n",
    "\n",
    "The same applies to icu and medcond on a lesser scale."
   ]
  },
  {
   "cell_type": "code",
   "execution_count": 64,
   "id": "pressing-diabetes",
   "metadata": {},
   "outputs": [
    {
     "data": {
      "text/html": [
       "<div>\n",
       "<style scoped>\n",
       "    .dataframe tbody tr th:only-of-type {\n",
       "        vertical-align: middle;\n",
       "    }\n",
       "\n",
       "    .dataframe tbody tr th {\n",
       "        vertical-align: top;\n",
       "    }\n",
       "\n",
       "    .dataframe thead th {\n",
       "        text-align: right;\n",
       "    }\n",
       "</style>\n",
       "<table border=\"1\" class=\"dataframe\">\n",
       "  <thead>\n",
       "    <tr style=\"text-align: right;\">\n",
       "      <th></th>\n",
       "      <th></th>\n",
       "    </tr>\n",
       "  </thead>\n",
       "  <tbody>\n",
       "    <tr>\n",
       "      <th>accuracy</th>\n",
       "      <td>0.993695</td>\n",
       "    </tr>\n",
       "    <tr>\n",
       "      <th>precision</th>\n",
       "      <td>0.954338</td>\n",
       "    </tr>\n",
       "    <tr>\n",
       "      <th>recall</th>\n",
       "      <td>0.870833</td>\n",
       "    </tr>\n",
       "    <tr>\n",
       "      <th>F1</th>\n",
       "      <td>0.910675</td>\n",
       "    </tr>\n",
       "  </tbody>\n",
       "</table>\n",
       "</div>"
      ],
      "text/plain": [
       "                   \n",
       "accuracy   0.993695\n",
       "precision  0.954338\n",
       "recall     0.870833\n",
       "F1         0.910675"
      ]
     },
     "metadata": {},
     "output_type": "display_data"
    },
    {
     "data": {
      "text/html": [
       "<div>\n",
       "<style scoped>\n",
       "    .dataframe tbody tr th:only-of-type {\n",
       "        vertical-align: middle;\n",
       "    }\n",
       "\n",
       "    .dataframe tbody tr th {\n",
       "        vertical-align: top;\n",
       "    }\n",
       "\n",
       "    .dataframe thead th {\n",
       "        text-align: right;\n",
       "    }\n",
       "</style>\n",
       "<table border=\"1\" class=\"dataframe\">\n",
       "  <thead>\n",
       "    <tr style=\"text-align: right;\">\n",
       "      <th></th>\n",
       "      <th>Alive</th>\n",
       "      <th>Dead</th>\n",
       "    </tr>\n",
       "  </thead>\n",
       "  <tbody>\n",
       "    <tr>\n",
       "      <th>Alive</th>\n",
       "      <td>6253</td>\n",
       "      <td>10</td>\n",
       "    </tr>\n",
       "    <tr>\n",
       "      <th>Dead</th>\n",
       "      <td>31</td>\n",
       "      <td>209</td>\n",
       "    </tr>\n",
       "  </tbody>\n",
       "</table>\n",
       "</div>"
      ],
      "text/plain": [
       "       Alive  Dead\n",
       "Alive   6253    10\n",
       "Dead      31   209"
      ]
     },
     "metadata": {},
     "output_type": "display_data"
    }
   ],
   "source": [
    "display_metrics(rforest, iter1, training_only=True)"
   ]
  },
  {
   "cell_type": "markdown",
   "id": "armed-breakfast",
   "metadata": {},
   "source": [
    "Well, the F1 score for the training data is extremely high, vastly outperforming the other two models. Overfitting seems likely, so I'll move straight on to the test data."
   ]
  },
  {
   "cell_type": "code",
   "execution_count": 65,
   "id": "downtown-pendant",
   "metadata": {},
   "outputs": [
    {
     "data": {
      "text/html": [
       "<div>\n",
       "<style scoped>\n",
       "    .dataframe tbody tr th:only-of-type {\n",
       "        vertical-align: middle;\n",
       "    }\n",
       "\n",
       "    .dataframe tbody tr th {\n",
       "        vertical-align: top;\n",
       "    }\n",
       "\n",
       "    .dataframe thead th {\n",
       "        text-align: right;\n",
       "    }\n",
       "</style>\n",
       "<table border=\"1\" class=\"dataframe\">\n",
       "  <thead>\n",
       "    <tr style=\"text-align: right;\">\n",
       "      <th></th>\n",
       "      <th></th>\n",
       "    </tr>\n",
       "  </thead>\n",
       "  <tbody>\n",
       "    <tr>\n",
       "      <th>accuracy</th>\n",
       "      <td>0.962325</td>\n",
       "    </tr>\n",
       "    <tr>\n",
       "      <th>precision</th>\n",
       "      <td>0.447059</td>\n",
       "    </tr>\n",
       "    <tr>\n",
       "      <th>recall</th>\n",
       "      <td>0.395833</td>\n",
       "    </tr>\n",
       "    <tr>\n",
       "      <th>F1</th>\n",
       "      <td>0.419890</td>\n",
       "    </tr>\n",
       "  </tbody>\n",
       "</table>\n",
       "</div>"
      ],
      "text/plain": [
       "                   \n",
       "accuracy   0.962325\n",
       "precision  0.447059\n",
       "recall     0.395833\n",
       "F1         0.419890"
      ]
     },
     "metadata": {},
     "output_type": "display_data"
    },
    {
     "data": {
      "text/html": [
       "<div>\n",
       "<style scoped>\n",
       "    .dataframe tbody tr th:only-of-type {\n",
       "        vertical-align: middle;\n",
       "    }\n",
       "\n",
       "    .dataframe tbody tr th {\n",
       "        vertical-align: top;\n",
       "    }\n",
       "\n",
       "    .dataframe thead th {\n",
       "        text-align: right;\n",
       "    }\n",
       "</style>\n",
       "<table border=\"1\" class=\"dataframe\">\n",
       "  <thead>\n",
       "    <tr style=\"text-align: right;\">\n",
       "      <th></th>\n",
       "      <th>Alive</th>\n",
       "      <th>Dead</th>\n",
       "    </tr>\n",
       "  </thead>\n",
       "  <tbody>\n",
       "    <tr>\n",
       "      <th>Alive</th>\n",
       "      <td>2644</td>\n",
       "      <td>47</td>\n",
       "    </tr>\n",
       "    <tr>\n",
       "      <th>Dead</th>\n",
       "      <td>58</td>\n",
       "      <td>38</td>\n",
       "    </tr>\n",
       "  </tbody>\n",
       "</table>\n",
       "</div>"
      ],
      "text/plain": [
       "       Alive  Dead\n",
       "Alive   2644    47\n",
       "Dead      58    38"
      ]
     },
     "metadata": {},
     "output_type": "display_data"
    }
   ],
   "source": [
    "display_metrics(rforest, iter1)"
   ]
  },
  {
   "cell_type": "markdown",
   "id": "overhead-liability",
   "metadata": {},
   "source": [
    "And indeed, the model scores much less well with the test data. It has fairly balanced precision and recall. The score is lower than it is for the fully adjusted linear model, but it is higher than the out-of-the-box logistic model.\n",
    "\n",
    "It makes sense that the random forest tends to overfit - the number of free parameters is much greater, so it can mold itself to the data really, really well. In fact, it can capture the sample data so well that the differences between the sample and test data become very significant."
   ]
  },
  {
   "cell_type": "markdown",
   "id": "alien-citizen",
   "metadata": {},
   "source": [
    "Now, for kfolding:"
   ]
  },
  {
   "cell_type": "code",
   "execution_count": 66,
   "id": "chronic-tamil",
   "metadata": {},
   "outputs": [
    {
     "data": {
      "text/plain": [
       "accuracy     0.957912\n",
       "precision    0.403323\n",
       "recall       0.339127\n",
       "F1           0.365461\n",
       "dtype: float64"
      ]
     },
     "execution_count": 66,
     "metadata": {},
     "output_type": "execute_result"
    }
   ],
   "source": [
    "kfold(10, rforest, iter1)"
   ]
  },
  {
   "cell_type": "markdown",
   "id": "unauthorized-connection",
   "metadata": {},
   "source": [
    "The F1 score is lower again - either we got lucky with the train-test split, or the model is overfitting even more having 90% of the data available to it. It might be interesting to revisit this with a random forest that has fewer nodes on each tree."
   ]
  },
  {
   "cell_type": "markdown",
   "id": "cross-fellowship",
   "metadata": {},
   "source": [
    "Part 5: Improvements\n",
    "=="
   ]
  },
  {
   "cell_type": "markdown",
   "id": "capital-buddy",
   "metadata": {},
   "source": [
    "In terms of raw accuracy on the test data, the logistic model scores highest, with a score of 96%. The others are not far behind, both around 95%. (The linear one does need the threshold carefully adjusted for this, though)\n",
    "\n",
    "This is around the same as a model that predicts all negatives, since only about 3.6% of the data is positive, which means we'd expect the baseline all-no classifier to get about 96% accuracy."
   ]
  },
  {
   "cell_type": "code",
   "execution_count": 67,
   "id": "protective-violence",
   "metadata": {},
   "outputs": [
    {
     "data": {
      "text/plain": [
       "0.036167922497308935"
      ]
     },
     "execution_count": 67,
     "metadata": {},
     "output_type": "execute_result"
    }
   ],
   "source": [
    "# How imbalanced was the original dataset?\n",
    "(a1_data.death_yn == \"Yes\").sum() / len(a1_data)"
   ]
  },
  {
   "cell_type": "markdown",
   "id": "pretty-birth",
   "metadata": {},
   "source": [
    "Of course, it is this imbalance in the data that makes accuracy a fairly terrible measure to begin with, unless we weight it in some way or rebalance the data.\n",
    "\n",
    "Taking F1 as our measure, the ranking is the exact opposite: the linear performs best at around 0.46, the random forest is about 0.36 when kfolding (0.41 for the train-test split) and the logistic model is at 0.30.\n",
    "\n",
    "To summarize the thoughts about performance scattered above:\n",
    "\n",
    "**Linear Regression**\n",
    "   - Requires careful threshold tuning.\n",
    "   - Once tuned, it performs relatively well - it manages a precision and recall of almost 0.5. \n",
    "   - Performs just as well in kfold as it does on training data, more or less. \n",
    "   - age_group and hosp_yn are by far the most significant weights. \n",
    "   - It seems to be unable to leverage icu - perhaps because of the encoding?\n",
    "   \n",
    "\n",
    "**Logistic Regression**\n",
    "   - Similar weighting to the linear mode.\n",
    "   - Performs much worse. This might be because I do not know how to tune it, though.\n",
    "   - It's possible rebalancing the data could achieve the same affect as tuning.\n",
    "   - Again, re-encoding icu might help.\n",
    "   - Again, performs as well in kfold as in training data - no overfitting.\n",
    "   \n",
    "\n",
    "**Random Forest**\n",
    "   - Much harder to interpret, but seems to have similar priorities regarding features to the other two.\n",
    "   - Major difference with case_age_days - it seems to rely on it too much and overfit.\n",
    "   - Performs vastly better on training data - overfitting is an issue.\n",
    "   - Nonetheless, performs relatively well in kfold compared to the logistic regression."
   ]
  },
  {
   "cell_type": "markdown",
   "id": "frequent-belgium",
   "metadata": {},
   "source": [
    "The linear model is best for me.\n",
    "\n",
    "Ideas for improvements:\n",
    "   - Re-balance data.\n",
    "   - Re-encode with dummy variables.\n",
    "   - Add gender.\n",
    "   - Add indicator for age missing.\n",
    "   - Combine models, with weighting.\n",
    "  \n",
    "**Note 1:** I was originally intending to include the threshold tuning for the linear model in part 5 instead of part 2. I know part 2 specifically asks for a threshold of 0.5, sorry! But the model was completely crippled without it. I'm mentioning this here beause if it oversteps the bounds of part 2 it could be considered a part of part 5 instead.\n",
    "\n",
    "**Note 2:** Imputing age was always a temporary measure to make interpreting the prototype model easy. An indicator variable seems like a natural precaution to add there."
   ]
  },
  {
   "cell_type": "markdown",
   "id": "usual-primary",
   "metadata": {},
   "source": [
    "A function for summarizing the linear model with a given dataset."
   ]
  },
  {
   "cell_type": "code",
   "execution_count": 68,
   "id": "assigned-static",
   "metadata": {},
   "outputs": [],
   "source": [
    "def display_linear(data, resampler=None, params=False, title=\"Linear\"):\n",
    "    \n",
    "    actual, prediction = predict(linear, data, resampler=resampler)\n",
    "    with warnings.catch_warnings():\n",
    "        warnings.simplefilter(\"ignore\")\n",
    "        t = find_threshold(actual, prediction, count=100)\n",
    "    \n",
    "    kwargs = dict(\n",
    "        threshold = t,\n",
    "        resampler = resampler\n",
    "    )\n",
    "    \n",
    "    actual, prediction = predict(linear, data, training_only=True, **kwargs)\n",
    "    training_metrics = class_metrics(actual, prediction)\n",
    "    \n",
    "    actual, prediction = predict(linear, data, **kwargs)\n",
    "    test_metrics = class_metrics(actual, prediction)\n",
    "    \n",
    "    kfold_metrics = kfold(10, linear, data, **kwargs)\n",
    "    \n",
    "    metrics = pd.concat([training_metrics, test_metrics, kfold_metrics], axis=1)\n",
    "    \n",
    "    metrics.columns = pd.MultiIndex.from_product([\n",
    "        [title], [\"Training\", \"Test\", \"KFold\"]\n",
    "    ])\n",
    "    \n",
    "    if params:\n",
    "        linear_info = model_info(linear, data)\n",
    "        linear_info.plot(kind=\"bar\")\n",
    "\n",
    "    display(metrics)"
   ]
  },
  {
   "cell_type": "markdown",
   "id": "macro-medicaid",
   "metadata": {},
   "source": [
    "Sampling\n",
    "--"
   ]
  },
  {
   "cell_type": "markdown",
   "id": "skilled-builder",
   "metadata": {},
   "source": [
    "First, regarding data balancing. There are two main ways of doing this - dropping records with the majority class, or duplicating records with the minority class. "
   ]
  },
  {
   "cell_type": "markdown",
   "id": "hearing-pension",
   "metadata": {},
   "source": [
    "Functions for over and under sampling. I imagine there must be neater way to do this, but it will do.\n",
    "<br>(Retrospective edit: https://pypi.org/project/imbalanced-learn/ is an example package that would have saved me some trouble here)"
   ]
  },
  {
   "cell_type": "code",
   "execution_count": 69,
   "id": "ultimate-aside",
   "metadata": {},
   "outputs": [],
   "source": [
    "def resample(train, test, method=\"under\"):\n",
    "    \n",
    "    random = np.random.RandomState(42)\n",
    "    \n",
    "    if method == \"under\":\n",
    "        replace = False\n",
    "        target_mask = test\n",
    "        \n",
    "    elif method == \"over\":\n",
    "        replace = True\n",
    "        target_mask = 1 - test\n",
    "        \n",
    "    else:\n",
    "        raise ValueError(\"Method must be one of 'under' or 'over'.\")\n",
    "        \n",
    "    total_count = len(train)\n",
    "    target_count = int(target_mask.sum())\n",
    "    p = 1 - target_mask\n",
    "    p /= p.sum()\n",
    "    \n",
    "    choice = random.choice(range(total_count), target_count, \n",
    "                            replace=replace, p=p)\n",
    "    \n",
    "    choice_mask = np.zeros(len(test))\n",
    "    for item in choice:\n",
    "        choice_mask[item] = 1\n",
    "    \n",
    "    records = target_mask.astype(bool) | choice_mask.astype(bool)\n",
    "  \n",
    "    try:\n",
    "        records = records.index[records]\n",
    "        train, test = train.loc[records], test.loc[records]\n",
    "    except:\n",
    "        train, test = train[records], test[records]\n",
    "    \n",
    "    return train, test"
   ]
  },
  {
   "cell_type": "markdown",
   "id": "interim-pricing",
   "metadata": {},
   "source": [
    "Experiment with the undersampling and oversampling functions. This cell takes a minute to run."
   ]
  },
  {
   "cell_type": "code",
   "execution_count": 70,
   "id": "liberal-target",
   "metadata": {},
   "outputs": [
    {
     "data": {
      "text/html": [
       "<div>\n",
       "<style scoped>\n",
       "    .dataframe tbody tr th:only-of-type {\n",
       "        vertical-align: middle;\n",
       "    }\n",
       "\n",
       "    .dataframe tbody tr th {\n",
       "        vertical-align: top;\n",
       "    }\n",
       "\n",
       "    .dataframe thead tr th {\n",
       "        text-align: left;\n",
       "    }\n",
       "</style>\n",
       "<table border=\"1\" class=\"dataframe\">\n",
       "  <thead>\n",
       "    <tr>\n",
       "      <th></th>\n",
       "      <th colspan=\"3\" halign=\"left\">unchanged</th>\n",
       "    </tr>\n",
       "    <tr>\n",
       "      <th></th>\n",
       "      <th>Training</th>\n",
       "      <th>Test</th>\n",
       "      <th>KFold</th>\n",
       "    </tr>\n",
       "  </thead>\n",
       "  <tbody>\n",
       "    <tr>\n",
       "      <th>accuracy</th>\n",
       "      <td>0.955405</td>\n",
       "      <td>0.963760</td>\n",
       "      <td>0.959419</td>\n",
       "    </tr>\n",
       "    <tr>\n",
       "      <th>precision</th>\n",
       "      <td>0.416667</td>\n",
       "      <td>0.475248</td>\n",
       "      <td>0.450354</td>\n",
       "    </tr>\n",
       "    <tr>\n",
       "      <th>recall</th>\n",
       "      <td>0.520833</td>\n",
       "      <td>0.500000</td>\n",
       "      <td>0.496500</td>\n",
       "    </tr>\n",
       "    <tr>\n",
       "      <th>F1</th>\n",
       "      <td>0.462963</td>\n",
       "      <td>0.487310</td>\n",
       "      <td>0.469892</td>\n",
       "    </tr>\n",
       "  </tbody>\n",
       "</table>\n",
       "</div>"
      ],
      "text/plain": [
       "          unchanged                    \n",
       "           Training      Test     KFold\n",
       "accuracy   0.955405  0.963760  0.959419\n",
       "precision  0.416667  0.475248  0.450354\n",
       "recall     0.520833  0.500000  0.496500\n",
       "F1         0.462963  0.487310  0.469892"
      ]
     },
     "metadata": {},
     "output_type": "display_data"
    },
    {
     "data": {
      "text/html": [
       "<div>\n",
       "<style scoped>\n",
       "    .dataframe tbody tr th:only-of-type {\n",
       "        vertical-align: middle;\n",
       "    }\n",
       "\n",
       "    .dataframe tbody tr th {\n",
       "        vertical-align: top;\n",
       "    }\n",
       "\n",
       "    .dataframe thead tr th {\n",
       "        text-align: left;\n",
       "    }\n",
       "</style>\n",
       "<table border=\"1\" class=\"dataframe\">\n",
       "  <thead>\n",
       "    <tr>\n",
       "      <th></th>\n",
       "      <th colspan=\"3\" halign=\"left\">undersample</th>\n",
       "    </tr>\n",
       "    <tr>\n",
       "      <th></th>\n",
       "      <th>Training</th>\n",
       "      <th>Test</th>\n",
       "      <th>KFold</th>\n",
       "    </tr>\n",
       "  </thead>\n",
       "  <tbody>\n",
       "    <tr>\n",
       "      <th>accuracy</th>\n",
       "      <td>0.829167</td>\n",
       "      <td>0.958378</td>\n",
       "      <td>0.949085</td>\n",
       "    </tr>\n",
       "    <tr>\n",
       "      <th>precision</th>\n",
       "      <td>0.959302</td>\n",
       "      <td>0.428571</td>\n",
       "      <td>0.384612</td>\n",
       "    </tr>\n",
       "    <tr>\n",
       "      <th>recall</th>\n",
       "      <td>0.687500</td>\n",
       "      <td>0.625000</td>\n",
       "      <td>0.655769</td>\n",
       "    </tr>\n",
       "    <tr>\n",
       "      <th>F1</th>\n",
       "      <td>0.800971</td>\n",
       "      <td>0.508475</td>\n",
       "      <td>0.483408</td>\n",
       "    </tr>\n",
       "  </tbody>\n",
       "</table>\n",
       "</div>"
      ],
      "text/plain": [
       "          undersample                    \n",
       "             Training      Test     KFold\n",
       "accuracy     0.829167  0.958378  0.949085\n",
       "precision    0.959302  0.428571  0.384612\n",
       "recall       0.687500  0.625000  0.655769\n",
       "F1           0.800971  0.508475  0.483408"
      ]
     },
     "metadata": {},
     "output_type": "display_data"
    },
    {
     "data": {
      "text/html": [
       "<div>\n",
       "<style scoped>\n",
       "    .dataframe tbody tr th:only-of-type {\n",
       "        vertical-align: middle;\n",
       "    }\n",
       "\n",
       "    .dataframe tbody tr th {\n",
       "        vertical-align: top;\n",
       "    }\n",
       "\n",
       "    .dataframe thead tr th {\n",
       "        text-align: left;\n",
       "    }\n",
       "</style>\n",
       "<table border=\"1\" class=\"dataframe\">\n",
       "  <thead>\n",
       "    <tr>\n",
       "      <th></th>\n",
       "      <th colspan=\"3\" halign=\"left\">oversample</th>\n",
       "    </tr>\n",
       "    <tr>\n",
       "      <th></th>\n",
       "      <th>Training</th>\n",
       "      <th>Test</th>\n",
       "      <th>KFold</th>\n",
       "    </tr>\n",
       "  </thead>\n",
       "  <tbody>\n",
       "    <tr>\n",
       "      <th>accuracy</th>\n",
       "      <td>0.955405</td>\n",
       "      <td>0.963760</td>\n",
       "      <td>0.542196</td>\n",
       "    </tr>\n",
       "    <tr>\n",
       "      <th>precision</th>\n",
       "      <td>0.416667</td>\n",
       "      <td>0.475248</td>\n",
       "      <td>0.072535</td>\n",
       "    </tr>\n",
       "    <tr>\n",
       "      <th>recall</th>\n",
       "      <td>0.520833</td>\n",
       "      <td>0.500000</td>\n",
       "      <td>0.989675</td>\n",
       "    </tr>\n",
       "    <tr>\n",
       "      <th>F1</th>\n",
       "      <td>0.462963</td>\n",
       "      <td>0.487310</td>\n",
       "      <td>0.135033</td>\n",
       "    </tr>\n",
       "  </tbody>\n",
       "</table>\n",
       "</div>"
      ],
      "text/plain": [
       "          oversample                    \n",
       "            Training      Test     KFold\n",
       "accuracy    0.955405  0.963760  0.542196\n",
       "precision   0.416667  0.475248  0.072535\n",
       "recall      0.520833  0.500000  0.989675\n",
       "F1          0.462963  0.487310  0.135033"
      ]
     },
     "metadata": {},
     "output_type": "display_data"
    }
   ],
   "source": [
    "def undersample(train, test): \n",
    "    return resample(train, test, \"under\")\n",
    "\n",
    "def oversample(train, test): \n",
    "    return resample(train, test, \"over\")\n",
    "\n",
    "display_linear(iter1, title=\"unchanged\")\n",
    "\n",
    "for method in [undersample, oversample]:\n",
    "    display_linear(iter1, method, title=method.__name__)"
   ]
  },
  {
   "cell_type": "markdown",
   "id": "developed-nation",
   "metadata": {},
   "source": [
    "Undersampling gave a small improvement in F1. Oversampling was extremely deterimental.\n",
    "\n",
    "Undersampling also led to a big difference between training and test data, which does make some sense - there is so much less training data and the linear model is a lot less general than it was before. This has not negatively impacted its performance though.\n",
    "\n",
    "I really don't know why oversampling is that deterimental, which is problematic since it means I'm not confident in the undersampling either - they are similar in certain ways and I don't see where the difference is.\n",
    "\n",
    "If I were to come back and spend some more time on the assignment, incidentally, this is one of the parts I would like to explore further. This and tuning the random forest / logistic models"
   ]
  },
  {
   "cell_type": "markdown",
   "id": "described-optimization",
   "metadata": {},
   "source": [
    "Adding or Removing Features\n",
    "--"
   ]
  },
  {
   "cell_type": "markdown",
   "id": "generous-collins",
   "metadata": {},
   "source": [
    "First, regarding gender."
   ]
  },
  {
   "cell_type": "code",
   "execution_count": 71,
   "id": "stainless-material",
   "metadata": {},
   "outputs": [
    {
     "data": {
      "text/html": [
       "<div>\n",
       "<style scoped>\n",
       "    .dataframe tbody tr th:only-of-type {\n",
       "        vertical-align: middle;\n",
       "    }\n",
       "\n",
       "    .dataframe tbody tr th {\n",
       "        vertical-align: top;\n",
       "    }\n",
       "\n",
       "    .dataframe thead tr th {\n",
       "        text-align: left;\n",
       "    }\n",
       "</style>\n",
       "<table border=\"1\" class=\"dataframe\">\n",
       "  <thead>\n",
       "    <tr>\n",
       "      <th></th>\n",
       "      <th colspan=\"3\" halign=\"left\">unchanged</th>\n",
       "    </tr>\n",
       "    <tr>\n",
       "      <th></th>\n",
       "      <th>Training</th>\n",
       "      <th>Test</th>\n",
       "      <th>KFold</th>\n",
       "    </tr>\n",
       "  </thead>\n",
       "  <tbody>\n",
       "    <tr>\n",
       "      <th>accuracy</th>\n",
       "      <td>0.955405</td>\n",
       "      <td>0.963760</td>\n",
       "      <td>0.959419</td>\n",
       "    </tr>\n",
       "    <tr>\n",
       "      <th>precision</th>\n",
       "      <td>0.416667</td>\n",
       "      <td>0.475248</td>\n",
       "      <td>0.450354</td>\n",
       "    </tr>\n",
       "    <tr>\n",
       "      <th>recall</th>\n",
       "      <td>0.520833</td>\n",
       "      <td>0.500000</td>\n",
       "      <td>0.496500</td>\n",
       "    </tr>\n",
       "    <tr>\n",
       "      <th>F1</th>\n",
       "      <td>0.462963</td>\n",
       "      <td>0.487310</td>\n",
       "      <td>0.469892</td>\n",
       "    </tr>\n",
       "  </tbody>\n",
       "</table>\n",
       "</div>"
      ],
      "text/plain": [
       "          unchanged                    \n",
       "           Training      Test     KFold\n",
       "accuracy   0.955405  0.963760  0.959419\n",
       "precision  0.416667  0.475248  0.450354\n",
       "recall     0.520833  0.500000  0.496500\n",
       "F1         0.462963  0.487310  0.469892"
      ]
     },
     "metadata": {},
     "output_type": "display_data"
    },
    {
     "data": {
      "text/html": [
       "<div>\n",
       "<style scoped>\n",
       "    .dataframe tbody tr th:only-of-type {\n",
       "        vertical-align: middle;\n",
       "    }\n",
       "\n",
       "    .dataframe tbody tr th {\n",
       "        vertical-align: top;\n",
       "    }\n",
       "\n",
       "    .dataframe thead tr th {\n",
       "        text-align: left;\n",
       "    }\n",
       "</style>\n",
       "<table border=\"1\" class=\"dataframe\">\n",
       "  <thead>\n",
       "    <tr>\n",
       "      <th></th>\n",
       "      <th colspan=\"3\" halign=\"left\">with gender</th>\n",
       "    </tr>\n",
       "    <tr>\n",
       "      <th></th>\n",
       "      <th>Training</th>\n",
       "      <th>Test</th>\n",
       "      <th>KFold</th>\n",
       "    </tr>\n",
       "  </thead>\n",
       "  <tbody>\n",
       "    <tr>\n",
       "      <th>accuracy</th>\n",
       "      <td>0.953406</td>\n",
       "      <td>0.962325</td>\n",
       "      <td>0.956835</td>\n",
       "    </tr>\n",
       "    <tr>\n",
       "      <th>precision</th>\n",
       "      <td>0.408163</td>\n",
       "      <td>0.461538</td>\n",
       "      <td>0.430665</td>\n",
       "    </tr>\n",
       "    <tr>\n",
       "      <th>recall</th>\n",
       "      <td>0.583333</td>\n",
       "      <td>0.562500</td>\n",
       "      <td>0.548982</td>\n",
       "    </tr>\n",
       "    <tr>\n",
       "      <th>F1</th>\n",
       "      <td>0.480274</td>\n",
       "      <td>0.507042</td>\n",
       "      <td>0.480523</td>\n",
       "    </tr>\n",
       "  </tbody>\n",
       "</table>\n",
       "</div>"
      ],
      "text/plain": [
       "          with gender                    \n",
       "             Training      Test     KFold\n",
       "accuracy     0.953406  0.962325  0.956835\n",
       "precision    0.408163  0.461538  0.430665\n",
       "recall       0.583333  0.562500  0.548982\n",
       "F1           0.480274  0.507042  0.480523"
      ]
     },
     "metadata": {},
     "output_type": "display_data"
    }
   ],
   "source": [
    "data = a1_data[[\n",
    "    \"icu_yn\", \"age_group\", \"hosp_yn\", \"medcond_yn\", \"case_age_days\",\n",
    "    \"sex\",\n",
    "    \"death_yn\"\n",
    "]].copy()\n",
    "\n",
    "# Male seems to be a risk factor, hence \"Yes\"\n",
    "data = data.replace(\"Male\", \"Yes\").replace(\"Female\", \"No\")\n",
    "encode_yn_ordinal(data, [\"icu_yn\", \"hosp_yn\",\"medcond_yn\", \"death_yn\", \"sex\"])\n",
    "encode_age(data)\n",
    "normalize_case_age(data)\n",
    "\n",
    "display_linear(iter1, title=\"unchanged\")\n",
    "display_linear(data, title=\"with gender\")"
   ]
  },
  {
   "cell_type": "markdown",
   "id": "ranging-orchestra",
   "metadata": {},
   "source": [
    "Well, adding gender leads to a small increase in F1. This is nice. The fact that it is just a small change isn't surprising given that the plots in part 1 only showed a slight relationship."
   ]
  },
  {
   "cell_type": "markdown",
   "id": "fixed-gates",
   "metadata": {},
   "source": [
    "A second change I wished to experiment with is removing case_age_days. I do not expect this to improve things at all, but I'm not sure how much it will decrease performance either. Starting out, I had high hopes for it, but recently I'm become concerned that it might become a source of overfitting, especially if the training data and new data are far apart in time."
   ]
  },
  {
   "cell_type": "code",
   "execution_count": 72,
   "id": "widespread-arrival",
   "metadata": {},
   "outputs": [
    {
     "data": {
      "text/html": [
       "<div>\n",
       "<style scoped>\n",
       "    .dataframe tbody tr th:only-of-type {\n",
       "        vertical-align: middle;\n",
       "    }\n",
       "\n",
       "    .dataframe tbody tr th {\n",
       "        vertical-align: top;\n",
       "    }\n",
       "\n",
       "    .dataframe thead tr th {\n",
       "        text-align: left;\n",
       "    }\n",
       "</style>\n",
       "<table border=\"1\" class=\"dataframe\">\n",
       "  <thead>\n",
       "    <tr>\n",
       "      <th></th>\n",
       "      <th colspan=\"3\" halign=\"left\">Linear</th>\n",
       "    </tr>\n",
       "    <tr>\n",
       "      <th></th>\n",
       "      <th>Training</th>\n",
       "      <th>Test</th>\n",
       "      <th>KFold</th>\n",
       "    </tr>\n",
       "  </thead>\n",
       "  <tbody>\n",
       "    <tr>\n",
       "      <th>accuracy</th>\n",
       "      <td>0.939413</td>\n",
       "      <td>0.942591</td>\n",
       "      <td>0.940366</td>\n",
       "    </tr>\n",
       "    <tr>\n",
       "      <th>precision</th>\n",
       "      <td>0.350775</td>\n",
       "      <td>0.333333</td>\n",
       "      <td>0.347865</td>\n",
       "    </tr>\n",
       "    <tr>\n",
       "      <th>recall</th>\n",
       "      <td>0.754167</td>\n",
       "      <td>0.666667</td>\n",
       "      <td>0.729762</td>\n",
       "    </tr>\n",
       "    <tr>\n",
       "      <th>F1</th>\n",
       "      <td>0.478836</td>\n",
       "      <td>0.444444</td>\n",
       "      <td>0.470156</td>\n",
       "    </tr>\n",
       "  </tbody>\n",
       "</table>\n",
       "</div>"
      ],
      "text/plain": [
       "             Linear                    \n",
       "           Training      Test     KFold\n",
       "accuracy   0.939413  0.942591  0.940366\n",
       "precision  0.350775  0.333333  0.347865\n",
       "recall     0.754167  0.666667  0.729762\n",
       "F1         0.478836  0.444444  0.470156"
      ]
     },
     "metadata": {},
     "output_type": "display_data"
    }
   ],
   "source": [
    "data = a1_data[[\n",
    "    \"icu_yn\", \"age_group\", \"hosp_yn\", \"medcond_yn\",\n",
    "    \"death_yn\"\n",
    "]].copy()\n",
    "\n",
    "encode_yn_ordinal(data, [\"icu_yn\", \"hosp_yn\", \"medcond_yn\", \"death_yn\"])\n",
    "encode_age(data)\n",
    "\n",
    "display_linear(data)"
   ]
  },
  {
   "cell_type": "markdown",
   "id": "biblical-mandate",
   "metadata": {},
   "source": [
    "It actually increased F1 in the kfold case by a tiny amount...\n",
    "\n",
    "I'll probably remove this in the final model."
   ]
  },
  {
   "cell_type": "markdown",
   "id": "overhead-specialist",
   "metadata": {},
   "source": [
    "Dummy Variables\n",
    "--"
   ]
  },
  {
   "cell_type": "markdown",
   "id": "involved-first",
   "metadata": {},
   "source": [
    "A new encoding function for age, taking missing values into account."
   ]
  },
  {
   "cell_type": "code",
   "execution_count": 73,
   "id": "corporate-yeast",
   "metadata": {},
   "outputs": [
    {
     "data": {
      "text/html": [
       "<div>\n",
       "<style scoped>\n",
       "    .dataframe tbody tr th:only-of-type {\n",
       "        vertical-align: middle;\n",
       "    }\n",
       "\n",
       "    .dataframe tbody tr th {\n",
       "        vertical-align: top;\n",
       "    }\n",
       "\n",
       "    .dataframe thead th {\n",
       "        text-align: right;\n",
       "    }\n",
       "</style>\n",
       "<table border=\"1\" class=\"dataframe\">\n",
       "  <thead>\n",
       "    <tr style=\"text-align: right;\">\n",
       "      <th></th>\n",
       "      <th>age_group</th>\n",
       "      <th>age_group_missing</th>\n",
       "    </tr>\n",
       "  </thead>\n",
       "  <tbody>\n",
       "    <tr>\n",
       "      <th>0</th>\n",
       "      <td>0.444444</td>\n",
       "      <td>0</td>\n",
       "    </tr>\n",
       "    <tr>\n",
       "      <th>1</th>\n",
       "      <td>0.222222</td>\n",
       "      <td>0</td>\n",
       "    </tr>\n",
       "    <tr>\n",
       "      <th>2</th>\n",
       "      <td>0.222222</td>\n",
       "      <td>0</td>\n",
       "    </tr>\n",
       "  </tbody>\n",
       "</table>\n",
       "</div>"
      ],
      "text/plain": [
       "   age_group  age_group_missing\n",
       "0   0.444444                  0\n",
       "1   0.222222                  0\n",
       "2   0.222222                  0"
      ]
     },
     "metadata": {},
     "output_type": "display_data"
    },
    {
     "data": {
      "text/html": [
       "<div>\n",
       "<style scoped>\n",
       "    .dataframe tbody tr th:only-of-type {\n",
       "        vertical-align: middle;\n",
       "    }\n",
       "\n",
       "    .dataframe tbody tr th {\n",
       "        vertical-align: top;\n",
       "    }\n",
       "\n",
       "    .dataframe thead th {\n",
       "        text-align: right;\n",
       "    }\n",
       "</style>\n",
       "<table border=\"1\" class=\"dataframe\">\n",
       "  <thead>\n",
       "    <tr style=\"text-align: right;\">\n",
       "      <th></th>\n",
       "      <th>age_group</th>\n",
       "      <th>age_group_missing</th>\n",
       "    </tr>\n",
       "  </thead>\n",
       "  <tbody>\n",
       "    <tr>\n",
       "      <th>1130</th>\n",
       "      <td>0.0</td>\n",
       "      <td>1</td>\n",
       "    </tr>\n",
       "    <tr>\n",
       "      <th>1621</th>\n",
       "      <td>0.0</td>\n",
       "      <td>1</td>\n",
       "    </tr>\n",
       "    <tr>\n",
       "      <th>1875</th>\n",
       "      <td>0.0</td>\n",
       "      <td>1</td>\n",
       "    </tr>\n",
       "  </tbody>\n",
       "</table>\n",
       "</div>"
      ],
      "text/plain": [
       "      age_group  age_group_missing\n",
       "1130        0.0                  1\n",
       "1621        0.0                  1\n",
       "1875        0.0                  1"
      ]
     },
     "metadata": {},
     "output_type": "display_data"
    }
   ],
   "source": [
    "def encode_age_with_indicator(df):\n",
    "\n",
    "    # Replace \"Unknown\" with zero and add a \"missing indicator\"\n",
    "    df[\"age_group_missing\"] = (original.age_group == \"Unknown\").astype(int)\n",
    "    df.age_group = original.age_group.replace(\"Unknown\", \"0\")\n",
    "\n",
    "    # The rest is the same as before.\n",
    "    \n",
    "    labels = sorted(df.age_group.unique())\n",
    "    df.age_group = pd.Categorical(df.age_group, categories=labels, ordered=True)\n",
    "\n",
    "    df.age_group = df.age_group.cat.codes\n",
    "    age = df.age_group\n",
    "    df.age_group = (age - age.min()) / (age.max() - age.min())\n",
    "\n",
    "    \n",
    "# Quick test\n",
    "data = a1_data.copy()\n",
    "encode_age_with_indicator(data)\n",
    "columns = [\"age_group\", \"age_group_missing\"]\n",
    "display(data[columns].head(3))\n",
    "display(data[data.age_group_missing == True][columns].head(3))"
   ]
  },
  {
   "cell_type": "code",
   "execution_count": 74,
   "id": "frozen-moses",
   "metadata": {},
   "outputs": [
    {
     "data": {
      "text/html": [
       "<div>\n",
       "<style scoped>\n",
       "    .dataframe tbody tr th:only-of-type {\n",
       "        vertical-align: middle;\n",
       "    }\n",
       "\n",
       "    .dataframe tbody tr th {\n",
       "        vertical-align: top;\n",
       "    }\n",
       "\n",
       "    .dataframe thead tr th {\n",
       "        text-align: left;\n",
       "    }\n",
       "</style>\n",
       "<table border=\"1\" class=\"dataframe\">\n",
       "  <thead>\n",
       "    <tr>\n",
       "      <th></th>\n",
       "      <th colspan=\"3\" halign=\"left\">Linear</th>\n",
       "    </tr>\n",
       "    <tr>\n",
       "      <th></th>\n",
       "      <th>Training</th>\n",
       "      <th>Test</th>\n",
       "      <th>KFold</th>\n",
       "    </tr>\n",
       "  </thead>\n",
       "  <tbody>\n",
       "    <tr>\n",
       "      <th>accuracy</th>\n",
       "      <td>0.955405</td>\n",
       "      <td>0.963760</td>\n",
       "      <td>0.959419</td>\n",
       "    </tr>\n",
       "    <tr>\n",
       "      <th>precision</th>\n",
       "      <td>0.416667</td>\n",
       "      <td>0.475248</td>\n",
       "      <td>0.450354</td>\n",
       "    </tr>\n",
       "    <tr>\n",
       "      <th>recall</th>\n",
       "      <td>0.520833</td>\n",
       "      <td>0.500000</td>\n",
       "      <td>0.496500</td>\n",
       "    </tr>\n",
       "    <tr>\n",
       "      <th>F1</th>\n",
       "      <td>0.462963</td>\n",
       "      <td>0.487310</td>\n",
       "      <td>0.469892</td>\n",
       "    </tr>\n",
       "  </tbody>\n",
       "</table>\n",
       "</div>"
      ],
      "text/plain": [
       "             Linear                    \n",
       "           Training      Test     KFold\n",
       "accuracy   0.955405  0.963760  0.959419\n",
       "precision  0.416667  0.475248  0.450354\n",
       "recall     0.520833  0.500000  0.496500\n",
       "F1         0.462963  0.487310  0.469892"
      ]
     },
     "metadata": {},
     "output_type": "display_data"
    },
    {
     "data": {
      "image/png": "[encoded data removed]",
      "text/plain": [
       "<Figure size 432x288 with 1 Axes>"
      ]
     },
     "metadata": {
      "needs_background": "light"
     },
     "output_type": "display_data"
    }
   ],
   "source": [
    "data = a1_data[iter1_features].copy()\n",
    "\n",
    "encode_age_with_indicator(data)\n",
    "encode_yn_ordinal(data, [\"icu_yn\", \"hosp_yn\", \"death_yn\", \"medcond_yn\"])\n",
    "normalize_case_age(data)\n",
    "\n",
    "display_linear(data, params=True)"
   ]
  },
  {
   "cell_type": "markdown",
   "id": "endangered-framework",
   "metadata": {},
   "source": [
    "The difference to F1 is negligible. That being said, I'll keep the change anyways, since this seems like a better way to handle the case where we have some input with a lot of missing ages.\n",
    "\n",
    "The model makes use of the indicator in a way that seems like it might be equivalent to my originally imputing the mode, though I've not tried to test that with any rigour."
   ]
  },
  {
   "cell_type": "markdown",
   "id": "thorough-tomato",
   "metadata": {},
   "source": [
    "Onto dummy variables for the yes/no features. "
   ]
  },
  {
   "cell_type": "code",
   "execution_count": 75,
   "id": "collected-queens",
   "metadata": {},
   "outputs": [
    {
     "data": {
      "text/html": [
       "<div>\n",
       "<style scoped>\n",
       "    .dataframe tbody tr th:only-of-type {\n",
       "        vertical-align: middle;\n",
       "    }\n",
       "\n",
       "    .dataframe tbody tr th {\n",
       "        vertical-align: top;\n",
       "    }\n",
       "\n",
       "    .dataframe thead th {\n",
       "        text-align: right;\n",
       "    }\n",
       "</style>\n",
       "<table border=\"1\" class=\"dataframe\">\n",
       "  <thead>\n",
       "    <tr style=\"text-align: right;\">\n",
       "      <th></th>\n",
       "      <th>icu_yn</th>\n",
       "      <th>age_group</th>\n",
       "      <th>hosp_yn</th>\n",
       "      <th>case_age_days</th>\n",
       "      <th>medcond_yn</th>\n",
       "      <th>death_yn</th>\n",
       "    </tr>\n",
       "  </thead>\n",
       "  <tbody>\n",
       "    <tr>\n",
       "      <th>0</th>\n",
       "      <td>Unknown</td>\n",
       "      <td>30 - 39 Years</td>\n",
       "      <td>No</td>\n",
       "      <td>246</td>\n",
       "      <td>Unknown</td>\n",
       "      <td>No</td>\n",
       "    </tr>\n",
       "    <tr>\n",
       "      <th>1</th>\n",
       "      <td>Unknown</td>\n",
       "      <td>10 - 19 Years</td>\n",
       "      <td>No</td>\n",
       "      <td>134</td>\n",
       "      <td>No</td>\n",
       "      <td>No</td>\n",
       "    </tr>\n",
       "    <tr>\n",
       "      <th>2</th>\n",
       "      <td>Unknown</td>\n",
       "      <td>10 - 19 Years</td>\n",
       "      <td>No</td>\n",
       "      <td>219</td>\n",
       "      <td>Unknown</td>\n",
       "      <td>No</td>\n",
       "    </tr>\n",
       "    <tr>\n",
       "      <th>3</th>\n",
       "      <td>Unknown</td>\n",
       "      <td>20 - 29 Years</td>\n",
       "      <td>Unknown</td>\n",
       "      <td>114</td>\n",
       "      <td>Unknown</td>\n",
       "      <td>No</td>\n",
       "    </tr>\n",
       "  </tbody>\n",
       "</table>\n",
       "</div>"
      ],
      "text/plain": [
       "    icu_yn      age_group  hosp_yn  case_age_days medcond_yn death_yn\n",
       "0  Unknown  30 - 39 Years       No            246    Unknown       No\n",
       "1  Unknown  10 - 19 Years       No            134         No       No\n",
       "2  Unknown  10 - 19 Years       No            219    Unknown       No\n",
       "3  Unknown  20 - 29 Years  Unknown            114    Unknown       No"
      ]
     },
     "metadata": {},
     "output_type": "display_data"
    },
    {
     "data": {
      "text/html": [
       "<div>\n",
       "<style scoped>\n",
       "    .dataframe tbody tr th:only-of-type {\n",
       "        vertical-align: middle;\n",
       "    }\n",
       "\n",
       "    .dataframe tbody tr th {\n",
       "        vertical-align: top;\n",
       "    }\n",
       "\n",
       "    .dataframe thead th {\n",
       "        text-align: right;\n",
       "    }\n",
       "</style>\n",
       "<table border=\"1\" class=\"dataframe\">\n",
       "  <thead>\n",
       "    <tr style=\"text-align: right;\">\n",
       "      <th></th>\n",
       "      <th>age_group</th>\n",
       "      <th>case_age_days</th>\n",
       "      <th>death_yn</th>\n",
       "      <th>hosp_yn_Unknown</th>\n",
       "      <th>hosp_yn_Yes</th>\n",
       "      <th>medcond_yn_Unknown</th>\n",
       "      <th>medcond_yn_Yes</th>\n",
       "      <th>icu_yn_Unknown</th>\n",
       "      <th>icu_yn_Yes</th>\n",
       "    </tr>\n",
       "  </thead>\n",
       "  <tbody>\n",
       "    <tr>\n",
       "      <th>0</th>\n",
       "      <td>30 - 39 Years</td>\n",
       "      <td>246</td>\n",
       "      <td>No</td>\n",
       "      <td>0</td>\n",
       "      <td>0</td>\n",
       "      <td>1</td>\n",
       "      <td>0</td>\n",
       "      <td>1</td>\n",
       "      <td>0</td>\n",
       "    </tr>\n",
       "    <tr>\n",
       "      <th>1</th>\n",
       "      <td>10 - 19 Years</td>\n",
       "      <td>134</td>\n",
       "      <td>No</td>\n",
       "      <td>0</td>\n",
       "      <td>0</td>\n",
       "      <td>0</td>\n",
       "      <td>0</td>\n",
       "      <td>1</td>\n",
       "      <td>0</td>\n",
       "    </tr>\n",
       "    <tr>\n",
       "      <th>2</th>\n",
       "      <td>10 - 19 Years</td>\n",
       "      <td>219</td>\n",
       "      <td>No</td>\n",
       "      <td>0</td>\n",
       "      <td>0</td>\n",
       "      <td>1</td>\n",
       "      <td>0</td>\n",
       "      <td>1</td>\n",
       "      <td>0</td>\n",
       "    </tr>\n",
       "    <tr>\n",
       "      <th>3</th>\n",
       "      <td>20 - 29 Years</td>\n",
       "      <td>114</td>\n",
       "      <td>No</td>\n",
       "      <td>1</td>\n",
       "      <td>0</td>\n",
       "      <td>1</td>\n",
       "      <td>0</td>\n",
       "      <td>1</td>\n",
       "      <td>0</td>\n",
       "    </tr>\n",
       "  </tbody>\n",
       "</table>\n",
       "</div>"
      ],
      "text/plain": [
       "       age_group  case_age_days death_yn  hosp_yn_Unknown  hosp_yn_Yes  \\\n",
       "0  30 - 39 Years            246       No                0            0   \n",
       "1  10 - 19 Years            134       No                0            0   \n",
       "2  10 - 19 Years            219       No                0            0   \n",
       "3  20 - 29 Years            114       No                1            0   \n",
       "\n",
       "   medcond_yn_Unknown  medcond_yn_Yes  icu_yn_Unknown  icu_yn_Yes  \n",
       "0                   1               0               1           0  \n",
       "1                   0               0               1           0  \n",
       "2                   1               0               1           0  \n",
       "3                   1               0               1           0  "
      ]
     },
     "metadata": {},
     "output_type": "display_data"
    }
   ],
   "source": [
    "def encode_yn_dummy(df, features):\n",
    "    \n",
    "    new_df = df.copy()\n",
    "    \n",
    "    for column_name in features:\n",
    "    \n",
    "        dummies = pd.get_dummies(df[column_name], drop_first=True)\n",
    "        dummies.columns = column_name + \"_\" + dummies.columns.astype(str)\n",
    "\n",
    "        new_df = new_df.drop(column_name, axis=1)\n",
    "        new_df = pd.concat([new_df, dummies], axis=1)\n",
    "    \n",
    "    return new_df      \n",
    "\n",
    "# Quick test\n",
    "data = a1_data[iter1_features]\n",
    "display(data.head(4))\n",
    "display(encode_yn_dummy(data, [\"hosp_yn\", \"medcond_yn\", \"icu_yn\"]).head(4))"
   ]
  },
  {
   "cell_type": "code",
   "execution_count": 76,
   "id": "competitive-companion",
   "metadata": {},
   "outputs": [
    {
     "data": {
      "text/html": [
       "<div>\n",
       "<style scoped>\n",
       "    .dataframe tbody tr th:only-of-type {\n",
       "        vertical-align: middle;\n",
       "    }\n",
       "\n",
       "    .dataframe tbody tr th {\n",
       "        vertical-align: top;\n",
       "    }\n",
       "\n",
       "    .dataframe thead tr th {\n",
       "        text-align: left;\n",
       "    }\n",
       "</style>\n",
       "<table border=\"1\" class=\"dataframe\">\n",
       "  <thead>\n",
       "    <tr>\n",
       "      <th></th>\n",
       "      <th colspan=\"3\" halign=\"left\">unchanged</th>\n",
       "    </tr>\n",
       "    <tr>\n",
       "      <th></th>\n",
       "      <th>Training</th>\n",
       "      <th>Test</th>\n",
       "      <th>KFold</th>\n",
       "    </tr>\n",
       "  </thead>\n",
       "  <tbody>\n",
       "    <tr>\n",
       "      <th>accuracy</th>\n",
       "      <td>0.955405</td>\n",
       "      <td>0.963760</td>\n",
       "      <td>0.959419</td>\n",
       "    </tr>\n",
       "    <tr>\n",
       "      <th>precision</th>\n",
       "      <td>0.416667</td>\n",
       "      <td>0.475248</td>\n",
       "      <td>0.450354</td>\n",
       "    </tr>\n",
       "    <tr>\n",
       "      <th>recall</th>\n",
       "      <td>0.520833</td>\n",
       "      <td>0.500000</td>\n",
       "      <td>0.496500</td>\n",
       "    </tr>\n",
       "    <tr>\n",
       "      <th>F1</th>\n",
       "      <td>0.462963</td>\n",
       "      <td>0.487310</td>\n",
       "      <td>0.469892</td>\n",
       "    </tr>\n",
       "  </tbody>\n",
       "</table>\n",
       "</div>"
      ],
      "text/plain": [
       "          unchanged                    \n",
       "           Training      Test     KFold\n",
       "accuracy   0.955405  0.963760  0.959419\n",
       "precision  0.416667  0.475248  0.450354\n",
       "recall     0.520833  0.500000  0.496500\n",
       "F1         0.462963  0.487310  0.469892"
      ]
     },
     "metadata": {},
     "output_type": "display_data"
    },
    {
     "data": {
      "text/html": [
       "<div>\n",
       "<style scoped>\n",
       "    .dataframe tbody tr th:only-of-type {\n",
       "        vertical-align: middle;\n",
       "    }\n",
       "\n",
       "    .dataframe tbody tr th {\n",
       "        vertical-align: top;\n",
       "    }\n",
       "\n",
       "    .dataframe thead tr th {\n",
       "        text-align: left;\n",
       "    }\n",
       "</style>\n",
       "<table border=\"1\" class=\"dataframe\">\n",
       "  <thead>\n",
       "    <tr>\n",
       "      <th></th>\n",
       "      <th colspan=\"3\" halign=\"left\">with dummies</th>\n",
       "    </tr>\n",
       "    <tr>\n",
       "      <th></th>\n",
       "      <th>Training</th>\n",
       "      <th>Test</th>\n",
       "      <th>KFold</th>\n",
       "    </tr>\n",
       "  </thead>\n",
       "  <tbody>\n",
       "    <tr>\n",
       "      <th>accuracy</th>\n",
       "      <td>0.956789</td>\n",
       "      <td>0.961249</td>\n",
       "      <td>0.958881</td>\n",
       "    </tr>\n",
       "    <tr>\n",
       "      <th>precision</th>\n",
       "      <td>0.429066</td>\n",
       "      <td>0.440000</td>\n",
       "      <td>0.438834</td>\n",
       "    </tr>\n",
       "    <tr>\n",
       "      <th>recall</th>\n",
       "      <td>0.516667</td>\n",
       "      <td>0.458333</td>\n",
       "      <td>0.450139</td>\n",
       "    </tr>\n",
       "    <tr>\n",
       "      <th>F1</th>\n",
       "      <td>0.468809</td>\n",
       "      <td>0.448980</td>\n",
       "      <td>0.441133</td>\n",
       "    </tr>\n",
       "  </tbody>\n",
       "</table>\n",
       "</div>"
      ],
      "text/plain": [
       "          with dummies                    \n",
       "              Training      Test     KFold\n",
       "accuracy      0.956789  0.961249  0.958881\n",
       "precision     0.429066  0.440000  0.438834\n",
       "recall        0.516667  0.458333  0.450139\n",
       "F1            0.468809  0.448980  0.441133"
      ]
     },
     "metadata": {},
     "output_type": "display_data"
    },
    {
     "data": {
      "image/png": "[encoded data removed]",
      "text/plain": [
       "<Figure size 432x288 with 1 Axes>"
      ]
     },
     "metadata": {
      "needs_background": "light"
     },
     "output_type": "display_data"
    }
   ],
   "source": [
    "data = a1_data[iter1_features].copy()\n",
    "\n",
    "encode_age(data)\n",
    "data = encode_yn_dummy(data, [\"hosp_yn\", \"medcond_yn\", \"icu_yn\"])\n",
    "encode_yn_ordinal(data, [\"death_yn\"])\n",
    "normalize_case_age(data)\n",
    "\n",
    "display_linear(iter1, title=\"unchanged\")\n",
    "display_linear(data, params=True, title=\"with dummies\")"
   ]
  },
  {
   "cell_type": "markdown",
   "id": "fluid-router",
   "metadata": {},
   "source": [
    "Well, ICU came to the fore in the linear model! \n",
    "\n",
    "Still though, this change has resulted in a significant decrease in score. The dummy variables here as essentially just indicator vars, I thought this might help the linear model leverage features with many missing variables. And while the linear model is very different as a result, this seems to have made things worse, not better.\n",
    "\n",
    "I'll try encoding icu only with dummies next, since that feature was the main focus of the excercise to begin with."
   ]
  },
  {
   "cell_type": "code",
   "execution_count": 77,
   "id": "introductory-municipality",
   "metadata": {},
   "outputs": [
    {
     "data": {
      "text/html": [
       "<div>\n",
       "<style scoped>\n",
       "    .dataframe tbody tr th:only-of-type {\n",
       "        vertical-align: middle;\n",
       "    }\n",
       "\n",
       "    .dataframe tbody tr th {\n",
       "        vertical-align: top;\n",
       "    }\n",
       "\n",
       "    .dataframe thead tr th {\n",
       "        text-align: left;\n",
       "    }\n",
       "</style>\n",
       "<table border=\"1\" class=\"dataframe\">\n",
       "  <thead>\n",
       "    <tr>\n",
       "      <th></th>\n",
       "      <th colspan=\"3\" halign=\"left\">unchanged</th>\n",
       "    </tr>\n",
       "    <tr>\n",
       "      <th></th>\n",
       "      <th>Training</th>\n",
       "      <th>Test</th>\n",
       "      <th>KFold</th>\n",
       "    </tr>\n",
       "  </thead>\n",
       "  <tbody>\n",
       "    <tr>\n",
       "      <th>accuracy</th>\n",
       "      <td>0.955405</td>\n",
       "      <td>0.963760</td>\n",
       "      <td>0.959419</td>\n",
       "    </tr>\n",
       "    <tr>\n",
       "      <th>precision</th>\n",
       "      <td>0.416667</td>\n",
       "      <td>0.475248</td>\n",
       "      <td>0.450354</td>\n",
       "    </tr>\n",
       "    <tr>\n",
       "      <th>recall</th>\n",
       "      <td>0.520833</td>\n",
       "      <td>0.500000</td>\n",
       "      <td>0.496500</td>\n",
       "    </tr>\n",
       "    <tr>\n",
       "      <th>F1</th>\n",
       "      <td>0.462963</td>\n",
       "      <td>0.487310</td>\n",
       "      <td>0.469892</td>\n",
       "    </tr>\n",
       "  </tbody>\n",
       "</table>\n",
       "</div>"
      ],
      "text/plain": [
       "          unchanged                    \n",
       "           Training      Test     KFold\n",
       "accuracy   0.955405  0.963760  0.959419\n",
       "precision  0.416667  0.475248  0.450354\n",
       "recall     0.520833  0.500000  0.496500\n",
       "F1         0.462963  0.487310  0.469892"
      ]
     },
     "metadata": {},
     "output_type": "display_data"
    },
    {
     "data": {
      "text/html": [
       "<div>\n",
       "<style scoped>\n",
       "    .dataframe tbody tr th:only-of-type {\n",
       "        vertical-align: middle;\n",
       "    }\n",
       "\n",
       "    .dataframe tbody tr th {\n",
       "        vertical-align: top;\n",
       "    }\n",
       "\n",
       "    .dataframe thead tr th {\n",
       "        text-align: left;\n",
       "    }\n",
       "</style>\n",
       "<table border=\"1\" class=\"dataframe\">\n",
       "  <thead>\n",
       "    <tr>\n",
       "      <th></th>\n",
       "      <th colspan=\"3\" halign=\"left\">with icu as dummy</th>\n",
       "    </tr>\n",
       "    <tr>\n",
       "      <th></th>\n",
       "      <th>Training</th>\n",
       "      <th>Test</th>\n",
       "      <th>KFold</th>\n",
       "    </tr>\n",
       "  </thead>\n",
       "  <tbody>\n",
       "    <tr>\n",
       "      <th>accuracy</th>\n",
       "      <td>0.951561</td>\n",
       "      <td>0.958737</td>\n",
       "      <td>0.953929</td>\n",
       "    </tr>\n",
       "    <tr>\n",
       "      <th>precision</th>\n",
       "      <td>0.395543</td>\n",
       "      <td>0.424000</td>\n",
       "      <td>0.404982</td>\n",
       "    </tr>\n",
       "    <tr>\n",
       "      <th>recall</th>\n",
       "      <td>0.591667</td>\n",
       "      <td>0.552083</td>\n",
       "      <td>0.551848</td>\n",
       "    </tr>\n",
       "    <tr>\n",
       "      <th>F1</th>\n",
       "      <td>0.474124</td>\n",
       "      <td>0.479638</td>\n",
       "      <td>0.463878</td>\n",
       "    </tr>\n",
       "  </tbody>\n",
       "</table>\n",
       "</div>"
      ],
      "text/plain": [
       "          with icu as dummy                    \n",
       "                   Training      Test     KFold\n",
       "accuracy           0.951561  0.958737  0.953929\n",
       "precision          0.395543  0.424000  0.404982\n",
       "recall             0.591667  0.552083  0.551848\n",
       "F1                 0.474124  0.479638  0.463878"
      ]
     },
     "metadata": {},
     "output_type": "display_data"
    },
    {
     "data": {
      "image/png": "[encoded data removed]",
      "text/plain": [
       "<Figure size 432x288 with 1 Axes>"
      ]
     },
     "metadata": {
      "needs_background": "light"
     },
     "output_type": "display_data"
    }
   ],
   "source": [
    "data = a1_data[iter1_features].copy()\n",
    "\n",
    "encode_age(data)\n",
    "encode_yn_ordinal(data, [\"hosp_yn\", \"medcond_yn\", \"death_yn\"])\n",
    "data = encode_yn_dummy(data, [\"icu_yn\"])\n",
    "normalize_case_age(data)\n",
    "\n",
    "display_linear(iter1, title=\"unchanged\")\n",
    "display_linear(data, title=\"with icu as dummy\", params=True)"
   ]
  },
  {
   "cell_type": "markdown",
   "id": "juvenile-collector",
   "metadata": {},
   "source": [
    "Giving icu the indicator certainly has changed the model significantly, but the resulting change in F1 is very very small.\n",
    "\n",
    "I'm not sure what to make of this. Perhaps hosp_yn and age_group are effectively proxies for icu already? "
   ]
  },
  {
   "cell_type": "markdown",
   "id": "arranged-serial",
   "metadata": {},
   "source": [
    "Combining Models\n",
    "--"
   ]
  },
  {
   "cell_type": "markdown",
   "id": "yellow-valentine",
   "metadata": {},
   "source": [
    "The last idea for improvement I'll take a look at in this notebook is combining models.\n",
    "\n",
    "My ensemble strategy is very simple - predict with which individually, make a weighted sum of the individual predictions, and then use a constant threshold to determine the result for each record.\n",
    "\n",
    "The weights mean we can trust one model over another. The threshold determines how many models need to make a predicted positive before positive is taken as the result."
   ]
  },
  {
   "cell_type": "code",
   "execution_count": 78,
   "id": "diagnostic-sodium",
   "metadata": {},
   "outputs": [],
   "source": [
    "def ensemble_predict(data, weights=None, threshold=0):\n",
    "    \n",
    "    if weights is None:\n",
    "        weights = [1, 1, 1]\n",
    "        \n",
    "    weights = np.array(weights, float)\n",
    "    weights /= weights.sum()\n",
    "    \n",
    "    # We need to determine the threshold for the linear model first.\n",
    "    actual, prediction = predict(linear, data)\n",
    "    with warnings.catch_warnings():\n",
    "        warnings.simplefilter(\"ignore\")\n",
    "        linear_threshold = find_threshold(actual, prediction)\n",
    "    \n",
    "    # Now, predict with each model.\n",
    "    _, lin = predict(linear, data, threshold=linear_threshold)\n",
    "    _, log = predict(logistic, data)\n",
    "    _, forest = predict(rforest, data)\n",
    "    \n",
    "    a, b, c = weights\n",
    "    combined = a * lin + b * log + c * forest\n",
    "    combined = (combined > threshold).astype(int)\n",
    "\n",
    "    metrics = pd.concat([\n",
    "        class_metrics(actual, lin),\n",
    "        class_metrics(actual, log),\n",
    "        class_metrics(actual, forest),\n",
    "        class_metrics(actual, combined)\n",
    "    ], axis=1)\n",
    "    metrics.columns=[\"Linear\", \"Logistic\", \"Random Forest\", \"Combined\"]\n",
    "    \n",
    "    return actual, combined, metrics"
   ]
  },
  {
   "cell_type": "markdown",
   "id": "acting-segment",
   "metadata": {},
   "source": [
    "Combining the evenly weighted models meant an increase in F1, which initially was wonderfully counter-intuitive to me. It is welcome. The F1 score is only marginally higher than the highest individual model, but nonetheless it is the highest achieved so far."
   ]
  },
  {
   "cell_type": "code",
   "execution_count": 79,
   "id": "complex-wagner",
   "metadata": {},
   "outputs": [
    {
     "data": {
      "text/html": [
       "<div>\n",
       "<style scoped>\n",
       "    .dataframe tbody tr th:only-of-type {\n",
       "        vertical-align: middle;\n",
       "    }\n",
       "\n",
       "    .dataframe tbody tr th {\n",
       "        vertical-align: top;\n",
       "    }\n",
       "\n",
       "    .dataframe thead th {\n",
       "        text-align: right;\n",
       "    }\n",
       "</style>\n",
       "<table border=\"1\" class=\"dataframe\">\n",
       "  <thead>\n",
       "    <tr style=\"text-align: right;\">\n",
       "      <th></th>\n",
       "      <th>Linear</th>\n",
       "      <th>Logistic</th>\n",
       "      <th>Random Forest</th>\n",
       "      <th>Combined</th>\n",
       "    </tr>\n",
       "  </thead>\n",
       "  <tbody>\n",
       "    <tr>\n",
       "      <th>accuracy</th>\n",
       "      <td>0.963760</td>\n",
       "      <td>0.967707</td>\n",
       "      <td>0.962325</td>\n",
       "      <td>0.959096</td>\n",
       "    </tr>\n",
       "    <tr>\n",
       "      <th>precision</th>\n",
       "      <td>0.475248</td>\n",
       "      <td>0.588235</td>\n",
       "      <td>0.447059</td>\n",
       "      <td>0.431818</td>\n",
       "    </tr>\n",
       "    <tr>\n",
       "      <th>recall</th>\n",
       "      <td>0.500000</td>\n",
       "      <td>0.208333</td>\n",
       "      <td>0.395833</td>\n",
       "      <td>0.593750</td>\n",
       "    </tr>\n",
       "    <tr>\n",
       "      <th>F1</th>\n",
       "      <td>0.487310</td>\n",
       "      <td>0.307692</td>\n",
       "      <td>0.419890</td>\n",
       "      <td>0.500000</td>\n",
       "    </tr>\n",
       "  </tbody>\n",
       "</table>\n",
       "</div>"
      ],
      "text/plain": [
       "             Linear  Logistic  Random Forest  Combined\n",
       "accuracy   0.963760  0.967707       0.962325  0.959096\n",
       "precision  0.475248  0.588235       0.447059  0.431818\n",
       "recall     0.500000  0.208333       0.395833  0.593750\n",
       "F1         0.487310  0.307692       0.419890  0.500000"
      ]
     },
     "metadata": {},
     "output_type": "display_data"
    }
   ],
   "source": [
    "_, _, metrics = ensemble_predict(iter1, threshold=0)\n",
    "display(metrics)"
   ]
  },
  {
   "cell_type": "markdown",
   "id": "periodic-crowd",
   "metadata": {},
   "source": [
    "The above is with a threshold of 0 - if any model spots a possible positive, the prediction is positive.\n",
    "\n",
    "Increasing the threshold so that more than one positive prediction is needed significantly decreases recall and decreases F1."
   ]
  },
  {
   "cell_type": "code",
   "execution_count": 80,
   "id": "level-content",
   "metadata": {},
   "outputs": [
    {
     "data": {
      "text/html": [
       "<div>\n",
       "<style scoped>\n",
       "    .dataframe tbody tr th:only-of-type {\n",
       "        vertical-align: middle;\n",
       "    }\n",
       "\n",
       "    .dataframe tbody tr th {\n",
       "        vertical-align: top;\n",
       "    }\n",
       "\n",
       "    .dataframe thead th {\n",
       "        text-align: right;\n",
       "    }\n",
       "</style>\n",
       "<table border=\"1\" class=\"dataframe\">\n",
       "  <thead>\n",
       "    <tr style=\"text-align: right;\">\n",
       "      <th></th>\n",
       "      <th>Linear</th>\n",
       "      <th>Logistic</th>\n",
       "      <th>Random Forest</th>\n",
       "      <th>Combined</th>\n",
       "    </tr>\n",
       "  </thead>\n",
       "  <tbody>\n",
       "    <tr>\n",
       "      <th>accuracy</th>\n",
       "      <td>0.963760</td>\n",
       "      <td>0.967707</td>\n",
       "      <td>0.962325</td>\n",
       "      <td>0.967348</td>\n",
       "    </tr>\n",
       "    <tr>\n",
       "      <th>precision</th>\n",
       "      <td>0.475248</td>\n",
       "      <td>0.588235</td>\n",
       "      <td>0.447059</td>\n",
       "      <td>0.540984</td>\n",
       "    </tr>\n",
       "    <tr>\n",
       "      <th>recall</th>\n",
       "      <td>0.500000</td>\n",
       "      <td>0.208333</td>\n",
       "      <td>0.395833</td>\n",
       "      <td>0.343750</td>\n",
       "    </tr>\n",
       "    <tr>\n",
       "      <th>F1</th>\n",
       "      <td>0.487310</td>\n",
       "      <td>0.307692</td>\n",
       "      <td>0.419890</td>\n",
       "      <td>0.420382</td>\n",
       "    </tr>\n",
       "  </tbody>\n",
       "</table>\n",
       "</div>"
      ],
      "text/plain": [
       "             Linear  Logistic  Random Forest  Combined\n",
       "accuracy   0.963760  0.967707       0.962325  0.967348\n",
       "precision  0.475248  0.588235       0.447059  0.540984\n",
       "recall     0.500000  0.208333       0.395833  0.343750\n",
       "F1         0.487310  0.307692       0.419890  0.420382"
      ]
     },
     "metadata": {},
     "output_type": "display_data"
    }
   ],
   "source": [
    "_, _, metrics = ensemble_predict(iter1, threshold=0.34)\n",
    "display(metrics)"
   ]
  },
  {
   "cell_type": "markdown",
   "id": "numeric-shell",
   "metadata": {},
   "source": [
    "I take this to mean that different models identify different positive cases, and that getting them to \"vote\" on the result will often lead to a spotted case that was not spotted by the others to go unpredicted. \n",
    "\n",
    "Because we're maximizing recall between the different models, I doubt weights will be useful.\n",
    "\n",
    "One thing I wanted to try though is to trust the linear model over the other two:"
   ]
  },
  {
   "cell_type": "code",
   "execution_count": 81,
   "id": "convenient-yugoslavia",
   "metadata": {},
   "outputs": [
    {
     "data": {
      "text/html": [
       "<div>\n",
       "<style scoped>\n",
       "    .dataframe tbody tr th:only-of-type {\n",
       "        vertical-align: middle;\n",
       "    }\n",
       "\n",
       "    .dataframe tbody tr th {\n",
       "        vertical-align: top;\n",
       "    }\n",
       "\n",
       "    .dataframe thead th {\n",
       "        text-align: right;\n",
       "    }\n",
       "</style>\n",
       "<table border=\"1\" class=\"dataframe\">\n",
       "  <thead>\n",
       "    <tr style=\"text-align: right;\">\n",
       "      <th></th>\n",
       "      <th>Linear</th>\n",
       "      <th>Logistic</th>\n",
       "      <th>Random Forest</th>\n",
       "      <th>Combined</th>\n",
       "    </tr>\n",
       "  </thead>\n",
       "  <tbody>\n",
       "    <tr>\n",
       "      <th>accuracy</th>\n",
       "      <td>0.963760</td>\n",
       "      <td>0.967707</td>\n",
       "      <td>0.962325</td>\n",
       "      <td>0.963760</td>\n",
       "    </tr>\n",
       "    <tr>\n",
       "      <th>precision</th>\n",
       "      <td>0.475248</td>\n",
       "      <td>0.588235</td>\n",
       "      <td>0.447059</td>\n",
       "      <td>0.475248</td>\n",
       "    </tr>\n",
       "    <tr>\n",
       "      <th>recall</th>\n",
       "      <td>0.500000</td>\n",
       "      <td>0.208333</td>\n",
       "      <td>0.395833</td>\n",
       "      <td>0.500000</td>\n",
       "    </tr>\n",
       "    <tr>\n",
       "      <th>F1</th>\n",
       "      <td>0.487310</td>\n",
       "      <td>0.307692</td>\n",
       "      <td>0.419890</td>\n",
       "      <td>0.487310</td>\n",
       "    </tr>\n",
       "  </tbody>\n",
       "</table>\n",
       "</div>"
      ],
      "text/plain": [
       "             Linear  Logistic  Random Forest  Combined\n",
       "accuracy   0.963760  0.967707       0.962325  0.963760\n",
       "precision  0.475248  0.588235       0.447059  0.475248\n",
       "recall     0.500000  0.208333       0.395833  0.500000\n",
       "F1         0.487310  0.307692       0.419890  0.487310"
      ]
     },
     "metadata": {},
     "output_type": "display_data"
    }
   ],
   "source": [
    "_, _, metrics = ensemble_predict(iter1, weights=[0.5, 0.25, 0.25], threshold=0.3)\n",
    "display(metrics)"
   ]
  },
  {
   "cell_type": "markdown",
   "id": "cheap-concentration",
   "metadata": {},
   "source": [
    "This is quite useless - in order to \"outvote\" the linear model, both the logistic and random forest models would have to agree on a case the linear model missed. Apparently this never happens, which is not surprising."
   ]
  },
  {
   "cell_type": "markdown",
   "id": "desirable-draft",
   "metadata": {},
   "source": [
    "All in all, there is a noticable improvement with the ensemble, but it is not at all worth the extra effort involved in this case in my opinion. If I had better tuned the other models and the scores were more balanced, this might have been more worthwhile."
   ]
  },
  {
   "cell_type": "markdown",
   "id": "celtic-german",
   "metadata": {},
   "source": [
    "The Final Model\n",
    "--"
   ]
  },
  {
   "cell_type": "markdown",
   "id": "miniature-fortune",
   "metadata": {},
   "source": [
    "To summarize the findings of the previous section:\n",
    "\n",
    "  - undersampling helped slighly.\n",
    "  - oversampling hindered.\n",
    "  - adding gender helped.\n",
    "  - removing case_age made no difference.\n",
    "  - dummy variable encodings for all binary variables had a negative impact.\n",
    "  - dummy variable encodings for icu had a neutral impact, but changed things internally.\n",
    "  - adding an indicator for age changed little.\n",
    "  - combining models lead to a small increase in score.\n",
    "\n",
    "For the final model, I'll use the linear model only and leave it mostly unchanged from before. I don't think the ensemble is worth the loss in simplicity and interpretability. I will add in gender and keep and indicator for age, and omit case_age. I won't undersample, since that adds to the complexity as well and didn't make much difference.\n",
    "\n",
    "This cell is also a bit of a recap of the entire notebook - since this is the \"take-away\" model of this project, I did not want it to depend on any of the utilities I had previously defined for myself."
   ]
  },
  {
   "cell_type": "code",
   "execution_count": 82,
   "id": "needed-spray",
   "metadata": {},
   "outputs": [],
   "source": [
    "import pandas as pd\n",
    "import numpy as np\n",
    "\n",
    "from sklearn.linear_model import LinearRegression\n",
    "from sklearn.model_selection import train_test_split\n",
    "from sklearn.metrics import confusion_matrix\n",
    "\n",
    "import warnings\n",
    "from datetime import datetime, timedelta\n",
    "\n",
    "\n",
    "def clean_data(path, date_format):\n",
    "\n",
    "    data = pd.read_csv(path)\n",
    "\n",
    "    # There is depracted column that is removed straight away.\n",
    "    data = data.drop([\"cdc_report_dt\"], axis=1)\n",
    "\n",
    "    # Parse dates manually\n",
    "    for column in data.columns[0:3]:\n",
    "        data[column] = pd.to_datetime(data[column], format=date_format)\n",
    "\n",
    "    # Drop all duplicates. (about 7% of the data)\n",
    "    data = data.drop_duplicates(keep=\"first\")\n",
    "\n",
    "    # Case age.\n",
    "    data[\"case_age\"] = datetime.now() - data[\"cdc_case_earliest_dt\"]\n",
    "    \n",
    "    # Cleaning\n",
    "    data = data.drop(\"pos_spec_dt\", axis=1)\n",
    "    data = data.drop(\"onset_dt\", axis=1)\n",
    "    data = data.replace(\"Missing\", \"Unknown\")\n",
    "    data = data.replace(\"OTH\", \"Unknown\")\n",
    "    data = data.replace(\"Other\", \"Unknown\")\n",
    "    \n",
    "    # Categorical columns\n",
    "    cat_features = [\n",
    "        \"current_status\",\n",
    "        \"sex\",\n",
    "        \"age_group\",\n",
    "        \"race_ethnicity_combined\",\n",
    "        \"hosp_yn\",\n",
    "        \"icu_yn\",\n",
    "        \"death_yn\",\n",
    "        \"medcond_yn\"\n",
    "    ]\n",
    "    for feature in cat_features:\n",
    "        data[feature] = data[feature].astype(\"category\")\n",
    "\n",
    "    # Case age days\n",
    "    data[\"case_age\"] = pd.to_timedelta(data[\"case_age\"])\n",
    "    data[\"case_age_days\"] = data[\"case_age\"].map(lambda td: td.days)\n",
    "    \n",
    "    return data\n",
    "\n",
    "\n",
    "def prepare_data(data):\n",
    "    \n",
    "    data = data[[\n",
    "        \"icu_yn\", \n",
    "        \"age_group\", \n",
    "        \"hosp_yn\", \n",
    "        \"medcond_yn\", \n",
    "        \"sex\",\n",
    "        \"death_yn\" \n",
    "    ]].copy()\n",
    "\n",
    "\n",
    "    # Add missing indicator for age\n",
    "    data[\"age_group_missing\"] = (data.age_group == \"Unknown\").astype(int)\n",
    "\n",
    "    # Ordinal encoding for age, starting with Unknown.\n",
    "    data.age_group = data.age_group.replace(\"Unknown\", \"0\")\n",
    "    labels = sorted(data.age_group.astype(str).unique())\n",
    "    data.age_group = pd.Categorical(data.age_group, categories=labels, ordered=True)\n",
    "    data.age_group = data.age_group.cat.codes\n",
    "\n",
    "    # Ordinal encoding for the remaining yes/no variables\n",
    "    data = data.replace(\"Male\", \"Yes\").replace(\"Female\", \"No\")\n",
    "    data = data.replace(\"Yes\", 2).replace(\"No\", 0).replace(\"Unknown\", 1)\n",
    "\n",
    "    # Normalize the rest using min-max\n",
    "    for feature in set(data.columns) - set([\"case_age_days\"]):\n",
    "        data[feature] = data[feature].astype(int)\n",
    "        a, b = data[feature].min(), data[feature].max()\n",
    "        data[feature] = (data[feature] - a) / (b - a)\n",
    "        \n",
    "    return data\n",
    "\n",
    "\n",
    "def get_metrics(actual, prediction, frame=False, name=None):\n",
    "\n",
    "    matrix = confusion_matrix(actual, prediction, labels=[0,1])\n",
    "    \n",
    "    tn = matrix[0,0]\n",
    "    fp = matrix[0,1]\n",
    "    fn = matrix[1,0]\n",
    "    tp = matrix[1,1]\n",
    "    \n",
    "    accuracy = (tp + tn) / (tp + tn + fp + fn)\n",
    "    precision = tp / (tp + fp)\n",
    "    recall = tp / (tp + fn)\n",
    "    \n",
    "    F1 = 2 * precision * recall / (precision + recall)\n",
    "    \n",
    "    if not frame:\n",
    "        return accuracy, precision, recall, F1\n",
    "    \n",
    "    frame = pd.DataFrame([[accuracy, precision, recall, F1]]).T\n",
    "    frame.index = [\"accuracy\", \"precision\", \"recall\", \"F1\"]\n",
    "    frame.columns = [name]\n",
    "    \n",
    "    return frame    \n",
    "\n",
    "\n",
    "def find_threshold(actual, prediction, count=100):\n",
    "\n",
    "    thresholds = np.linspace(prediction.min(), prediction.max(), count)\n",
    "    \n",
    "    items = list()\n",
    "    for threshold in thresholds:\n",
    "        p_current = (prediction > threshold).astype(int)\n",
    "        _, _, _, F1 = get_metrics(actual, p_current)\n",
    "        items.append(F1)\n",
    "\n",
    "    items = pd.Series(items, index=thresholds)\n",
    "    return items.astype(float).idxmax()\n",
    "\n",
    "\n",
    "def prepare_model(training_data):\n",
    "\n",
    "    # First, to determine the threshold\n",
    "    \n",
    "    X = training_data.drop(\"death_yn\", axis=1)\n",
    "    y = training_data[\"death_yn\"]\n",
    "    X_train, X_test, y_train, y_test = train_test_split(X, y, test_size=0.3, random_state=0)\n",
    "    \n",
    "    model = LinearRegression()\n",
    "    model.fit(X_train, y_train)\n",
    "    prediction = model.predict(X_test)\n",
    "    \n",
    "    with warnings.catch_warnings():\n",
    "        warnings.simplefilter(\"ignore\")\n",
    "        threshold = find_threshold(y_test, prediction)\n",
    "\n",
    "    # Make a prediction within the training data\n",
    "    # for the sake of printing estimated metrics\n",
    "            \n",
    "    prediction = model.predict(X_test)\n",
    "    prediction = (prediction > threshold).astype(int)\n",
    "    \n",
    "    metrics = get_metrics(y_test, prediction, frame=True, name=\"Training Hold-out\")\n",
    "    \n",
    "    # Train on the full training data set\n",
    "    \n",
    "    model.fit(X, y)\n",
    "    \n",
    "    # Create the function for making \n",
    "    # predictions with test data.\n",
    "    \n",
    "    def predict(test_data):\n",
    "                    \n",
    "        X = test_data.drop(\"death_yn\", axis=1)\n",
    "        y = test_data[\"death_yn\"]\n",
    "            \n",
    "        prediction = model.predict(X)\n",
    "        prediction = (prediction > threshold).astype(int)\n",
    "        \n",
    "        return prediction\n",
    "    \n",
    "    return predict, metrics"
   ]
  },
  {
   "cell_type": "markdown",
   "id": "sunset-moscow",
   "metadata": {},
   "source": [
    "New Data\n",
    "--"
   ]
  },
  {
   "cell_type": "code",
   "execution_count": 83,
   "id": "respective-thermal",
   "metadata": {},
   "outputs": [
    {
     "data": {
      "text/html": [
       "<div>\n",
       "<style scoped>\n",
       "    .dataframe tbody tr th:only-of-type {\n",
       "        vertical-align: middle;\n",
       "    }\n",
       "\n",
       "    .dataframe tbody tr th {\n",
       "        vertical-align: top;\n",
       "    }\n",
       "\n",
       "    .dataframe thead th {\n",
       "        text-align: right;\n",
       "    }\n",
       "</style>\n",
       "<table border=\"1\" class=\"dataframe\">\n",
       "  <thead>\n",
       "    <tr style=\"text-align: right;\">\n",
       "      <th></th>\n",
       "      <th>Training Hold-out</th>\n",
       "    </tr>\n",
       "  </thead>\n",
       "  <tbody>\n",
       "    <tr>\n",
       "      <th>accuracy</th>\n",
       "      <td>0.959813</td>\n",
       "    </tr>\n",
       "    <tr>\n",
       "      <th>precision</th>\n",
       "      <td>0.520325</td>\n",
       "    </tr>\n",
       "    <tr>\n",
       "      <th>recall</th>\n",
       "      <td>0.547009</td>\n",
       "    </tr>\n",
       "    <tr>\n",
       "      <th>F1</th>\n",
       "      <td>0.533333</td>\n",
       "    </tr>\n",
       "  </tbody>\n",
       "</table>\n",
       "</div>"
      ],
      "text/plain": [
       "           Training Hold-out\n",
       "accuracy            0.959813\n",
       "precision           0.520325\n",
       "recall              0.547009\n",
       "F1                  0.533333"
      ]
     },
     "metadata": {},
     "output_type": "display_data"
    },
    {
     "data": {
      "text/html": [
       "<div>\n",
       "<style scoped>\n",
       "    .dataframe tbody tr th:only-of-type {\n",
       "        vertical-align: middle;\n",
       "    }\n",
       "\n",
       "    .dataframe tbody tr th {\n",
       "        vertical-align: top;\n",
       "    }\n",
       "\n",
       "    .dataframe thead th {\n",
       "        text-align: right;\n",
       "    }\n",
       "</style>\n",
       "<table border=\"1\" class=\"dataframe\">\n",
       "  <thead>\n",
       "    <tr style=\"text-align: right;\">\n",
       "      <th></th>\n",
       "      <th>Actual</th>\n",
       "    </tr>\n",
       "  </thead>\n",
       "  <tbody>\n",
       "    <tr>\n",
       "      <th>accuracy</th>\n",
       "      <td>0.966831</td>\n",
       "    </tr>\n",
       "    <tr>\n",
       "      <th>precision</th>\n",
       "      <td>0.229730</td>\n",
       "    </tr>\n",
       "    <tr>\n",
       "      <th>recall</th>\n",
       "      <td>0.439655</td>\n",
       "    </tr>\n",
       "    <tr>\n",
       "      <th>F1</th>\n",
       "      <td>0.301775</td>\n",
       "    </tr>\n",
       "  </tbody>\n",
       "</table>\n",
       "</div>"
      ],
      "text/plain": [
       "             Actual\n",
       "accuracy   0.966831\n",
       "precision  0.229730\n",
       "recall     0.439655\n",
       "F1         0.301775"
      ]
     },
     "metadata": {},
     "output_type": "display_data"
    }
   ],
   "source": [
    "training_data = clean_data(\"covid19-cdc-16498802.csv\", \"%d/%m/%Y\")\n",
    "new_data = clean_data(\"24032021-covid19-cdc-deathyn-recent-10k.csv\", \"%Y/%m/%d\")\n",
    "\n",
    "training_data = prepare_data(training_data)\n",
    "new_data = prepare_data(new_data)\n",
    "\n",
    "predictor, training_metrics = prepare_model(training_data)\n",
    "display(training_metrics)\n",
    "\n",
    "prediction = predictor(new_data)\n",
    "true_metrics = get_metrics(new_data.death_yn, prediction, frame=True, name=\"Actual\")\n",
    "display(true_metrics)"
   ]
  },
  {
   "cell_type": "markdown",
   "id": "impressive-newsletter",
   "metadata": {},
   "source": [
    "The first table shows the metrics for a train-test split with hold-out data, only considering the old dataset. (Same as before)\n",
    "\n",
    "The second table shows the metrics for the same model, fitted on all of the old data, tested against all of the new data.\n",
    "\n",
    "I didn't expect the hold-out F1 to go above 0.5, there is probably some luck involved there. I didn't expect the F1 for the new data to fall all the way to 0.3 either. The linear model seemed to be doing so well in kfold tests that I thought it might be very resistant to overfitting. I guess I'm underestimating the different between the two datasets - are they greatly separated in time?\n",
    "\n",
    "One interesting difference is that the recall fell much less than the precision. If I were to briefly guess that that the new dataset is from a significantly later date, I might guess that a smaller proportion of people were dying of COVID at that later date. But that is a wild guess, there are so many possible reasons for variance between the two datasets.\n",
    "\n",
    "That's it for this project! My main conclusion is that a linear model with few features can be as good as or better a more complicated model with more features - obvious as it might seem, this is the first time I've seen it in practice. \n",
    "\n",
    "That being said, I wonder if my initial choice of simple feature set gave the random forest some trouble, and if it would have performed better given all the features that were not date related. Also, I had a degree of control over tuning the linear model I did not have with the others - the threshold. I'd be interested in finding out how to tune the others at some point. Finally, I'm still confused by the effect over/under sampling had, and intend to explore that more someday."
   ]
  }
 ],
 "metadata": {
  "kernelspec": {
   "display_name": "Python 3",
   "language": "python",
   "name": "python3"
  },
  "language_info": {
   "codemirror_mode": {
    "name": "ipython",
    "version": 3
   },
   "file_extension": ".py",
   "mimetype": "text/x-python",
   "name": "python",
   "nbconvert_exporter": "python",
   "pygments_lexer": "ipython3",
   "version": "3.6.12"
  }
 },
 "nbformat": 4,
 "nbformat_minor": 5
}
