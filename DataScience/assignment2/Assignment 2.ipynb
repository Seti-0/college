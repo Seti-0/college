{
 "cells": [
  {
   "cell_type": "code",
   "execution_count": 304,
   "id": "purple-royalty",
   "metadata": {},
   "outputs": [],
   "source": [
    "import pandas as pd\n",
    "import numpy as np\n",
    "import matplotlib.pyplot as plt\n",
    "import scipy\n",
    "\n",
    "import warnings\n",
    "\n",
    "import sklearn\n",
    "import sklearn.ensemble\n",
    "import sklearn.inspection\n",
    "from sklearn.model_selection import train_test_split\n",
    "\n",
    "from datetime import datetime, timedelta"
   ]
  },
  {
   "cell_type": "markdown",
   "id": "million-opening",
   "metadata": {},
   "source": [
    "**Prelude: Saving Pictures**\n",
    "\n",
    "This is just a function to help resolve some of the issues I sometimes faced while trying to save plots. I kept it in a seperate file during the first assignment.<br> I'm including it here this time since the assignment specified that all code should be contained in a single notebook."
   ]
  },
  {
   "cell_type": "code",
   "execution_count": 2,
   "id": "given-platinum",
   "metadata": {},
   "outputs": [],
   "source": [
    "from matplotlib import rcParams\n",
    "import os\n",
    "\n",
    "\n",
    "# This is to prevent labels being cut off when\n",
    "# saving figures as images on the disk.\n",
    "rcParams.update({'figure.autolayout': True})\n",
    "\n",
    "# This is the folder to which all charts will be\n",
    "# saved.\n",
    "SAVE_DIR = \"charts\"\n",
    "    \n",
    "    \n",
    "def plt_save(name, parent = None):\n",
    "    \"\"\"\n",
    "    Save the current matplotlib figure to\n",
    "    the save dir in the form \"name_kind.png\"\n",
    "    \n",
    "    If a parent path is given, save to that\n",
    "    subfolder of the save dir.\n",
    "    \"\"\"\n",
    "    \n",
    "    # Add the save_dir to the parent path\n",
    "    \n",
    "    if parent is None:\n",
    "        parent = SAVE_DIR\n",
    "    else:\n",
    "        parent = SAVE_DIR + \"/\" + parent\n",
    "    \n",
    "    # Try to ensure that the target path exists.\n",
    "    \n",
    "    # If there is an exception here, it is most likely\n",
    "    # because the path does already exist.\n",
    "    \n",
    "    try:\n",
    "        os.makedirs(parent)\n",
    "    except:\n",
    "        pass\n",
    "    \n",
    "    # Create the path and save the figure.\n",
    "    \n",
    "    path = f\"{parent}/{name}.png\"\n",
    "    \n",
    "    plt.savefig(path)\n",
    " "
   ]
  },
  {
   "cell_type": "markdown",
   "id": "absolute-productivity",
   "metadata": {},
   "source": [
    "Part 1: Data Understanding and Preparation\n",
    "=="
   ]
  },
  {
   "cell_type": "markdown",
   "id": "quiet-swing",
   "metadata": {},
   "source": [
    "**Note:** The first part of section, r.e. understanding, is largely a recap of assignment 1 part 3. It is a little different in that in includes the new features from part 4, while excluding the trivia/consistency check section. It also acts on a training set of data rather than the whole data, though this had little to no effect on the plots below.\n",
    "\n",
    "The second part for preparation is new."
   ]
  },
  {
   "cell_type": "markdown",
   "id": "recreational-terminal",
   "metadata": {},
   "source": [
    "Read in the data, after the modifications made in assignment 1.\n",
    "\n",
    "(This is after dropping columns and creating new features)"
   ]
  },
  {
   "cell_type": "code",
   "execution_count": 305,
   "id": "monetary-barcelona",
   "metadata": {},
   "outputs": [
    {
     "data": {
      "text/plain": [
       "cdc_case_earliest_dt                object\n",
       "current_status                    category\n",
       "sex                               category\n",
       "age_group                         category\n",
       "race_ethnicity_combined           category\n",
       "hosp_yn                           category\n",
       "icu_yn                            category\n",
       "death_yn                          category\n",
       "medcond_yn                        category\n",
       "case_age                   timedelta64[ns]\n",
       "pos_spec_declared                 category\n",
       "symptoms_declared                 category\n",
       "case_age_days                        int64\n",
       "dtype: object"
      ]
     },
     "metadata": {},
     "output_type": "display_data"
    },
    {
     "data": {
      "text/html": [
       "<div>\n",
       "<style scoped>\n",
       "    .dataframe tbody tr th:only-of-type {\n",
       "        vertical-align: middle;\n",
       "    }\n",
       "\n",
       "    .dataframe tbody tr th {\n",
       "        vertical-align: top;\n",
       "    }\n",
       "\n",
       "    .dataframe thead th {\n",
       "        text-align: right;\n",
       "    }\n",
       "</style>\n",
       "<table border=\"1\" class=\"dataframe\">\n",
       "  <thead>\n",
       "    <tr style=\"text-align: right;\">\n",
       "      <th></th>\n",
       "      <th>cdc_case_earliest_dt</th>\n",
       "      <th>current_status</th>\n",
       "      <th>sex</th>\n",
       "      <th>age_group</th>\n",
       "      <th>race_ethnicity_combined</th>\n",
       "      <th>hosp_yn</th>\n",
       "      <th>icu_yn</th>\n",
       "      <th>death_yn</th>\n",
       "      <th>medcond_yn</th>\n",
       "      <th>case_age</th>\n",
       "      <th>pos_spec_declared</th>\n",
       "      <th>symptoms_declared</th>\n",
       "      <th>case_age_days</th>\n",
       "    </tr>\n",
       "  </thead>\n",
       "  <tbody>\n",
       "    <tr>\n",
       "      <th>0</th>\n",
       "      <td>2020-08-25</td>\n",
       "      <td>Laboratory-confirmed case</td>\n",
       "      <td>Female</td>\n",
       "      <td>30 - 39 Years</td>\n",
       "      <td>Hispanic/Latino</td>\n",
       "      <td>No</td>\n",
       "      <td>Unknown</td>\n",
       "      <td>No</td>\n",
       "      <td>Unknown</td>\n",
       "      <td>246 days 15:40:02.408061</td>\n",
       "      <td>Yes</td>\n",
       "      <td>True</td>\n",
       "      <td>246</td>\n",
       "    </tr>\n",
       "    <tr>\n",
       "      <th>1</th>\n",
       "      <td>2020-12-15</td>\n",
       "      <td>Laboratory-confirmed case</td>\n",
       "      <td>Female</td>\n",
       "      <td>10 - 19 Years</td>\n",
       "      <td>Black, Non-Hispanic</td>\n",
       "      <td>No</td>\n",
       "      <td>Unknown</td>\n",
       "      <td>No</td>\n",
       "      <td>No</td>\n",
       "      <td>134 days 15:40:02.408061</td>\n",
       "      <td>Yes</td>\n",
       "      <td>False</td>\n",
       "      <td>134</td>\n",
       "    </tr>\n",
       "    <tr>\n",
       "      <th>2</th>\n",
       "      <td>2020-09-21</td>\n",
       "      <td>Laboratory-confirmed case</td>\n",
       "      <td>Female</td>\n",
       "      <td>10 - 19 Years</td>\n",
       "      <td>Unknown</td>\n",
       "      <td>No</td>\n",
       "      <td>Unknown</td>\n",
       "      <td>No</td>\n",
       "      <td>Unknown</td>\n",
       "      <td>219 days 15:40:02.408061</td>\n",
       "      <td>No</td>\n",
       "      <td>True</td>\n",
       "      <td>219</td>\n",
       "    </tr>\n",
       "  </tbody>\n",
       "</table>\n",
       "</div>"
      ],
      "text/plain": [
       "  cdc_case_earliest_dt             current_status     sex      age_group  \\\n",
       "0           2020-08-25  Laboratory-confirmed case  Female  30 - 39 Years   \n",
       "1           2020-12-15  Laboratory-confirmed case  Female  10 - 19 Years   \n",
       "2           2020-09-21  Laboratory-confirmed case  Female  10 - 19 Years   \n",
       "\n",
       "  race_ethnicity_combined hosp_yn   icu_yn death_yn medcond_yn  \\\n",
       "0         Hispanic/Latino      No  Unknown       No    Unknown   \n",
       "1     Black, Non-Hispanic      No  Unknown       No         No   \n",
       "2                 Unknown      No  Unknown       No    Unknown   \n",
       "\n",
       "                  case_age pos_spec_declared symptoms_declared  case_age_days  \n",
       "0 246 days 15:40:02.408061               Yes              True            246  \n",
       "1 134 days 15:40:02.408061               Yes             False            134  \n",
       "2 219 days 15:40:02.408061                No              True            219  "
      ]
     },
     "execution_count": 305,
     "metadata": {},
     "output_type": "execute_result"
    }
   ],
   "source": [
    "a1_data = pd.read_csv(\"assignment1-data.csv\", index_col=0)\n",
    "\n",
    "# Categorical columns\n",
    "cat_features = [\n",
    "    \"current_status\",\n",
    "    \"sex\",\n",
    "    \"age_group\",\n",
    "    \"race_ethnicity_combined\",\n",
    "    \"hosp_yn\",\n",
    "    \"icu_yn\",\n",
    "    \"death_yn\",\n",
    "    \"medcond_yn\",\n",
    "    \"pos_spec_declared\",\n",
    "    \"symptoms_declared\"\n",
    "]\n",
    "\n",
    "# Convert the categorical columns from plain python\n",
    "# objects to pandas categories\n",
    "for feature in cat_features:\n",
    "    a1_data[feature] = a1_data[feature].astype(\"category\")\n",
    "    \n",
    "# The only non-categorical column at the moment is\n",
    "# \"case_age\", which is a time span.\n",
    "\n",
    "a1_data[\"case_age\"] = pd.to_timedelta(a1_data[\"case_age\"])\n",
    "\n",
    "# The number of days is an easier value to work with than\n",
    "# the full internal representation of a python timedelta.\n",
    "a1_data[\"case_age_days\"] = a1_data[\"case_age\"].map(lambda td: td.days)\n",
    "\n",
    "display(a1_data.dtypes)\n",
    "a1_data.head(3)"
   ]
  },
  {
   "cell_type": "markdown",
   "id": "treated-october",
   "metadata": {},
   "source": [
    "Perform a train-test split."
   ]
  },
  {
   "cell_type": "code",
   "execution_count": 306,
   "id": "rising-moisture",
   "metadata": {},
   "outputs": [
    {
     "name": "stdout",
     "output_type": "stream",
     "text": [
      "Train #: 6503 6503\n",
      "Test #: 2787 2787\n"
     ]
    },
    {
     "data": {
      "text/html": [
       "<div>\n",
       "<style scoped>\n",
       "    .dataframe tbody tr th:only-of-type {\n",
       "        vertical-align: middle;\n",
       "    }\n",
       "\n",
       "    .dataframe tbody tr th {\n",
       "        vertical-align: top;\n",
       "    }\n",
       "\n",
       "    .dataframe thead th {\n",
       "        text-align: right;\n",
       "    }\n",
       "</style>\n",
       "<table border=\"1\" class=\"dataframe\">\n",
       "  <thead>\n",
       "    <tr style=\"text-align: right;\">\n",
       "      <th></th>\n",
       "      <th>cdc_case_earliest_dt</th>\n",
       "      <th>current_status</th>\n",
       "      <th>sex</th>\n",
       "      <th>age_group</th>\n",
       "      <th>race_ethnicity_combined</th>\n",
       "      <th>hosp_yn</th>\n",
       "      <th>icu_yn</th>\n",
       "      <th>medcond_yn</th>\n",
       "      <th>case_age</th>\n",
       "      <th>pos_spec_declared</th>\n",
       "      <th>symptoms_declared</th>\n",
       "      <th>case_age_days</th>\n",
       "      <th>death_yn</th>\n",
       "    </tr>\n",
       "  </thead>\n",
       "  <tbody>\n",
       "    <tr>\n",
       "      <th>7843</th>\n",
       "      <td>2020-11-30</td>\n",
       "      <td>Laboratory-confirmed case</td>\n",
       "      <td>Male</td>\n",
       "      <td>50 - 59 Years</td>\n",
       "      <td>White, Non-Hispanic</td>\n",
       "      <td>Unknown</td>\n",
       "      <td>Unknown</td>\n",
       "      <td>Unknown</td>\n",
       "      <td>149 days 15:40:02.408061</td>\n",
       "      <td>Yes</td>\n",
       "      <td>False</td>\n",
       "      <td>149</td>\n",
       "      <td>No</td>\n",
       "    </tr>\n",
       "    <tr>\n",
       "      <th>5303</th>\n",
       "      <td>2020-12-01</td>\n",
       "      <td>Laboratory-confirmed case</td>\n",
       "      <td>Male</td>\n",
       "      <td>20 - 29 Years</td>\n",
       "      <td>White, Non-Hispanic</td>\n",
       "      <td>Unknown</td>\n",
       "      <td>Unknown</td>\n",
       "      <td>Unknown</td>\n",
       "      <td>148 days 15:40:02.408061</td>\n",
       "      <td>Yes</td>\n",
       "      <td>False</td>\n",
       "      <td>148</td>\n",
       "      <td>No</td>\n",
       "    </tr>\n",
       "  </tbody>\n",
       "</table>\n",
       "</div>"
      ],
      "text/plain": [
       "     cdc_case_earliest_dt             current_status   sex      age_group  \\\n",
       "7843           2020-11-30  Laboratory-confirmed case  Male  50 - 59 Years   \n",
       "5303           2020-12-01  Laboratory-confirmed case  Male  20 - 29 Years   \n",
       "\n",
       "     race_ethnicity_combined  hosp_yn   icu_yn medcond_yn  \\\n",
       "7843     White, Non-Hispanic  Unknown  Unknown    Unknown   \n",
       "5303     White, Non-Hispanic  Unknown  Unknown    Unknown   \n",
       "\n",
       "                     case_age pos_spec_declared symptoms_declared  \\\n",
       "7843 149 days 15:40:02.408061               Yes             False   \n",
       "5303 148 days 15:40:02.408061               Yes             False   \n",
       "\n",
       "      case_age_days death_yn  \n",
       "7843            149       No  \n",
       "5303            148       No  "
      ]
     },
     "execution_count": 306,
     "metadata": {},
     "output_type": "execute_result"
    }
   ],
   "source": [
    "y = a1_data[\"death_yn\"]\n",
    "X = a1_data.drop(\"death_yn\", axis=1) \n",
    "\n",
    "X_train, X_test, y_train, y_test = train_test_split(X, y, random_state=0, test_size=0.3)\n",
    "\n",
    "# Combine the training data for the sake of plotting\n",
    "train_data = X_train.copy()\n",
    "train_data[\"death_yn\"] = y_train\n",
    "\n",
    "print(\"Train #:\", len(X_train), len(y_train))\n",
    "print(\"Test #:\", len(X_test), len(y_test))\n",
    "train_data.head(2)"
   ]
  },
  {
   "cell_type": "markdown",
   "id": "acute-saskatchewan",
   "metadata": {},
   "source": [
    "Similar to assignment 1, use stacked plots to compare pairwise features.\n",
    "<br>Only use the training data this time though."
   ]
  },
  {
   "cell_type": "code",
   "execution_count": 307,
   "id": "canadian-october",
   "metadata": {},
   "outputs": [],
   "source": [
    "def plot_stacked_proportions(x_field, y_field, ax = None):\n",
    "    \n",
    "    if ax is None:\n",
    "        ax = plt.gca()\n",
    "    \n",
    "    stacks = train_data.value_counts().groupby([x_field, y_field]).sum().unstack()\n",
    "\n",
    "    stacks = stacks.T\n",
    "\n",
    "    for column in stacks:\n",
    "        stacks[column] /= stacks[column].sum()\n",
    "\n",
    "    stacks.T.plot(kind=\"bar\", stacked=True, ax = ax)"
   ]
  },
  {
   "cell_type": "markdown",
   "id": "enhanced-latvia",
   "metadata": {},
   "source": [
    "Also similar before, I find it useful to split up each feature in the dataset into two categories."
   ]
  },
  {
   "cell_type": "markdown",
   "id": "tribal-facial",
   "metadata": {},
   "source": [
    "Part 1: Status of the case"
   ]
  },
  {
   "cell_type": "code",
   "execution_count": 308,
   "id": "precise-differential",
   "metadata": {},
   "outputs": [
    {
     "data": {
      "image/png": "[encoded data removed]",
      "text/plain": [
       "<Figure size 720x360 with 3 Axes>"
      ]
     },
     "metadata": {
      "needs_background": "light"
     },
     "output_type": "display_data"
    },
    {
     "data": {
      "image/png": "[encoded data removed]",
      "text/plain": [
       "<Figure size 648x216 with 3 Axes>"
      ]
     },
     "metadata": {
      "needs_background": "light"
     },
     "output_type": "display_data"
    }
   ],
   "source": [
    "# Same as in assignment 1\n",
    "\n",
    "fig, ax = plt.subplots(1, 3, figsize=(10,5))\n",
    "\n",
    "plot_stacked_proportions(\"icu_yn\", \"death_yn\", ax[0])\n",
    "plot_stacked_proportions(\"hosp_yn\", \"death_yn\", ax[1])\n",
    "plot_stacked_proportions(\"current_status\", \"death_yn\", ax[2])\n",
    "\n",
    "plt_save(\"case status I\", \"relationships\")\n",
    "\n",
    "\n",
    "# This time, also consider new features.\n",
    "\n",
    "fig, ax = plt.subplots(1,3, figsize=(9,3))\n",
    "\n",
    "plot_stacked_proportions(\"pos_spec_declared\", \"death_yn\", ax[0])\n",
    "plot_stacked_proportions(\"symptoms_declared\", \"death_yn\", ax[1])\n",
    "\n",
    "# Minor note: as per the suggestion the feedback from the previous assignment,\n",
    "# I went back and was more careful with date formats in the data prep.\n",
    "# It worked! The case_age is no longer has non-sensical negative values.\n",
    "\n",
    "train_data.boxplot(\"case_age_days\", by=\"death_yn\", ax=ax[2])\n",
    "\n",
    "plt_save(\"case status II\", \"relationships\")"
   ]
  },
  {
   "cell_type": "markdown",
   "id": "selected-overview",
   "metadata": {},
   "source": [
    "Part 2: Traits of the patient:"
   ]
  },
  {
   "cell_type": "code",
   "execution_count": 309,
   "id": "knowing-disaster",
   "metadata": {},
   "outputs": [
    {
     "data": {
      "image/png": "[encoded data removed]",
      "text/plain": [
       "<Figure size 936x432 with 4 Axes>"
      ]
     },
     "metadata": {
      "needs_background": "light"
     },
     "output_type": "display_data"
    }
   ],
   "source": [
    "fig, ax = plt.subplots(1, 4, figsize=(13,6))\n",
    "\n",
    "plot_stacked_proportions(\"age_group\", \"death_yn\", ax[0])\n",
    "plot_stacked_proportions(\"sex\", \"death_yn\", ax[1])\n",
    "plot_stacked_proportions(\"race_ethnicity_combined\", \"death_yn\", ax[2])\n",
    "plot_stacked_proportions(\"medcond_yn\", \"death_yn\", ax[3])\n",
    "\n",
    "plt_save(\"traits\", \"relationships\")"
   ]
  },
  {
   "cell_type": "markdown",
   "id": "operational-czech",
   "metadata": {},
   "source": [
    "The question then is which of these feature to choose.\n",
    "\n",
    "All are interesting to some extent, and I think as part of part 4 I might try a model with all of them.\n",
    "\n",
    "\n",
    "But for now, to keep things simple, I'll choose the top five that seem most significant too me. (From a purely visual inspection of the graphs above)\n",
    "\n",
    "  - icu_yn\n",
    "  - age_group\n",
    "  - hosp_yn\n",
    "  - case_age_days\n",
    "  - medcond_yn"
   ]
  },
  {
   "cell_type": "code",
   "execution_count": 310,
   "id": "injured-education",
   "metadata": {},
   "outputs": [],
   "source": [
    "iter1_data = a1_data[[\n",
    "    \"icu_yn\",\n",
    "    \"age_group\",\n",
    "    \"hosp_yn\",\n",
    "    \"case_age_days\",\n",
    "    \"medcond_yn\",\n",
    "    \"death_yn\"\n",
    "]]"
   ]
  },
  {
   "cell_type": "markdown",
   "id": "average-distribution",
   "metadata": {},
   "source": [
    "Before continuing to models and training, it's worth pausing and dealing with the fact that most of these ae categorical variables.\n",
    "\n",
    "For now, I'm just going to use ordinal encoding for each. This could be very bad since it links missing values strongly with yes, I think, for linear regression anyways. (Since no is 0, and missing and yes are positive)\n",
    "\n",
    "The encodings will be normalized as well, for the sake of explaining weights later on.\n",
    "\n",
    "The function below expects Yes/No/Missing columns, and won't work for `age_group`. That feature we'll come to next. "
   ]
  },
  {
   "cell_type": "code",
   "execution_count": 697,
   "id": "purple-field",
   "metadata": {},
   "outputs": [
    {
     "data": {
      "text/html": [
       "<div>\n",
       "<style scoped>\n",
       "    .dataframe tbody tr th:only-of-type {\n",
       "        vertical-align: middle;\n",
       "    }\n",
       "\n",
       "    .dataframe tbody tr th {\n",
       "        vertical-align: top;\n",
       "    }\n",
       "\n",
       "    .dataframe thead th {\n",
       "        text-align: right;\n",
       "    }\n",
       "</style>\n",
       "<table border=\"1\" class=\"dataframe\">\n",
       "  <thead>\n",
       "    <tr style=\"text-align: right;\">\n",
       "      <th></th>\n",
       "      <th>icu_yn</th>\n",
       "      <th>age_group</th>\n",
       "      <th>hosp_yn</th>\n",
       "      <th>case_age_days</th>\n",
       "      <th>medcond_yn</th>\n",
       "      <th>death_yn</th>\n",
       "    </tr>\n",
       "  </thead>\n",
       "  <tbody>\n",
       "    <tr>\n",
       "      <th>0</th>\n",
       "      <td>Unknown</td>\n",
       "      <td>30 - 39 Years</td>\n",
       "      <td>No</td>\n",
       "      <td>246</td>\n",
       "      <td>Unknown</td>\n",
       "      <td>No</td>\n",
       "    </tr>\n",
       "    <tr>\n",
       "      <th>1</th>\n",
       "      <td>Unknown</td>\n",
       "      <td>10 - 19 Years</td>\n",
       "      <td>No</td>\n",
       "      <td>134</td>\n",
       "      <td>No</td>\n",
       "      <td>No</td>\n",
       "    </tr>\n",
       "    <tr>\n",
       "      <th>2</th>\n",
       "      <td>Unknown</td>\n",
       "      <td>10 - 19 Years</td>\n",
       "      <td>No</td>\n",
       "      <td>219</td>\n",
       "      <td>Unknown</td>\n",
       "      <td>No</td>\n",
       "    </tr>\n",
       "    <tr>\n",
       "      <th>3</th>\n",
       "      <td>Unknown</td>\n",
       "      <td>20 - 29 Years</td>\n",
       "      <td>Unknown</td>\n",
       "      <td>114</td>\n",
       "      <td>Unknown</td>\n",
       "      <td>No</td>\n",
       "    </tr>\n",
       "  </tbody>\n",
       "</table>\n",
       "</div>"
      ],
      "text/plain": [
       "    icu_yn      age_group  hosp_yn  case_age_days medcond_yn death_yn\n",
       "0  Unknown  30 - 39 Years       No            246    Unknown       No\n",
       "1  Unknown  10 - 19 Years       No            134         No       No\n",
       "2  Unknown  10 - 19 Years       No            219    Unknown       No\n",
       "3  Unknown  20 - 29 Years  Unknown            114    Unknown       No"
      ]
     },
     "metadata": {},
     "output_type": "display_data"
    },
    {
     "data": {
      "text/html": [
       "<div>\n",
       "<style scoped>\n",
       "    .dataframe tbody tr th:only-of-type {\n",
       "        vertical-align: middle;\n",
       "    }\n",
       "\n",
       "    .dataframe tbody tr th {\n",
       "        vertical-align: top;\n",
       "    }\n",
       "\n",
       "    .dataframe thead th {\n",
       "        text-align: right;\n",
       "    }\n",
       "</style>\n",
       "<table border=\"1\" class=\"dataframe\">\n",
       "  <thead>\n",
       "    <tr style=\"text-align: right;\">\n",
       "      <th></th>\n",
       "      <th>icu_yn</th>\n",
       "      <th>age_group</th>\n",
       "      <th>hosp_yn</th>\n",
       "      <th>case_age_days</th>\n",
       "      <th>medcond_yn</th>\n",
       "      <th>death_yn</th>\n",
       "    </tr>\n",
       "  </thead>\n",
       "  <tbody>\n",
       "    <tr>\n",
       "      <th>0</th>\n",
       "      <td>0.5</td>\n",
       "      <td>30 - 39 Years</td>\n",
       "      <td>0.0</td>\n",
       "      <td>246</td>\n",
       "      <td>0.5</td>\n",
       "      <td>0.0</td>\n",
       "    </tr>\n",
       "    <tr>\n",
       "      <th>1</th>\n",
       "      <td>0.5</td>\n",
       "      <td>10 - 19 Years</td>\n",
       "      <td>0.0</td>\n",
       "      <td>134</td>\n",
       "      <td>0.0</td>\n",
       "      <td>0.0</td>\n",
       "    </tr>\n",
       "    <tr>\n",
       "      <th>2</th>\n",
       "      <td>0.5</td>\n",
       "      <td>10 - 19 Years</td>\n",
       "      <td>0.0</td>\n",
       "      <td>219</td>\n",
       "      <td>0.5</td>\n",
       "      <td>0.0</td>\n",
       "    </tr>\n",
       "    <tr>\n",
       "      <th>3</th>\n",
       "      <td>0.5</td>\n",
       "      <td>20 - 29 Years</td>\n",
       "      <td>0.5</td>\n",
       "      <td>114</td>\n",
       "      <td>0.5</td>\n",
       "      <td>0.0</td>\n",
       "    </tr>\n",
       "  </tbody>\n",
       "</table>\n",
       "</div>"
      ],
      "text/plain": [
       "   icu_yn      age_group  hosp_yn  case_age_days  medcond_yn  death_yn\n",
       "0     0.5  30 - 39 Years      0.0            246         0.5       0.0\n",
       "1     0.5  10 - 19 Years      0.0            134         0.0       0.0\n",
       "2     0.5  10 - 19 Years      0.0            219         0.5       0.0\n",
       "3     0.5  20 - 29 Years      0.5            114         0.5       0.0"
      ]
     },
     "metadata": {},
     "output_type": "display_data"
    }
   ],
   "source": [
    "def encode_single_ordinal(series):\n",
    "    \n",
    "    # It makes intuitive sense to put \"Unknown\" between\n",
    "    # \"Yes\" and \"No\". This is actually very important, without it, \n",
    "    # the logistic model performs much much worse. I discovered this by teaking these\n",
    "    # values on a whim at some point, and won't mention it after this - part 5 has\n",
    "    # enough going on as is.\n",
    "    encoding = {\n",
    "        \"No\": 0,\n",
    "        \"Unknown\": 1,\n",
    "        \"Yes\": 2\n",
    "    }\n",
    "    \n",
    "    new_series = series.replace(encoding)\n",
    "    \n",
    "    #new_series = pd.Categorical(series, [\"No\", \"Yes\", \"Unknown\"])\n",
    "    #new_series = pd.Series(new_series, index=series.index).cat.codes\n",
    "    \n",
    "    new_series = new_series.astype(str).replace(encoding).astype(int)\n",
    "    \n",
    "    # Normalize. A simple min-max makes sense since there are only 3 classes.\n",
    "    new_series = (new_series - new_series.min()) / (new_series.max() - new_series.min())\n",
    "    \n",
    "    return new_series\n",
    "    \n",
    "    \n",
    "def encode_all_ordinal(df, ignore=[]):\n",
    "\n",
    "    for feature in df:\n",
    "\n",
    "        if feature in ignore:\n",
    "            continue\n",
    "        \n",
    "        if str(df.dtypes[feature]) != \"category\": \n",
    "            continue\n",
    "            \n",
    "        df[feature] = encode_single_ordinal(df[feature])\n",
    "        \n",
    "\n",
    "# Quick test\n",
    "data = iter1_data.copy()\n",
    "display(data.head(4))\n",
    "encode_all_ordinal(data, ignore=[\"age_group\"])\n",
    "display(data.head(4))"
   ]
  },
  {
   "cell_type": "markdown",
   "id": "increased-mongolia",
   "metadata": {},
   "source": [
    "The only categorical value that is *actually* ordinal here is `age_group`, so we need to take with the ordering for that one. \n",
    "<br>\n",
    "Also, \"Unknown\" in an ordinal age makes little sense, so I'll impute it with the mode for now. "
   ]
  },
  {
   "cell_type": "code",
   "execution_count": 584,
   "id": "rocky-affect",
   "metadata": {},
   "outputs": [
    {
     "data": {
      "text/html": [
       "<div>\n",
       "<style scoped>\n",
       "    .dataframe tbody tr th:only-of-type {\n",
       "        vertical-align: middle;\n",
       "    }\n",
       "\n",
       "    .dataframe tbody tr th {\n",
       "        vertical-align: top;\n",
       "    }\n",
       "\n",
       "    .dataframe thead th {\n",
       "        text-align: right;\n",
       "    }\n",
       "</style>\n",
       "<table border=\"1\" class=\"dataframe\">\n",
       "  <thead>\n",
       "    <tr style=\"text-align: right;\">\n",
       "      <th></th>\n",
       "      <th>0</th>\n",
       "      <th>1</th>\n",
       "      <th>2</th>\n",
       "      <th>3</th>\n",
       "      <th>4</th>\n",
       "      <th>5</th>\n",
       "      <th>6</th>\n",
       "      <th>7</th>\n",
       "      <th>8</th>\n",
       "      <th>9</th>\n",
       "    </tr>\n",
       "  </thead>\n",
       "  <tbody>\n",
       "    <tr>\n",
       "      <th>label</th>\n",
       "      <td>30 - 39 Years</td>\n",
       "      <td>10 - 19 Years</td>\n",
       "      <td>10 - 19 Years</td>\n",
       "      <td>20 - 29 Years</td>\n",
       "      <td>60 - 69 Years</td>\n",
       "      <td>20 - 29 Years</td>\n",
       "      <td>40 - 49 Years</td>\n",
       "      <td>60 - 69 Years</td>\n",
       "      <td>80+ Years</td>\n",
       "      <td>50 - 59 Years</td>\n",
       "    </tr>\n",
       "    <tr>\n",
       "      <th>numerical</th>\n",
       "      <td>0.375</td>\n",
       "      <td>0.125</td>\n",
       "      <td>0.125</td>\n",
       "      <td>0.25</td>\n",
       "      <td>0.75</td>\n",
       "      <td>0.25</td>\n",
       "      <td>0.5</td>\n",
       "      <td>0.75</td>\n",
       "      <td>1</td>\n",
       "      <td>0.625</td>\n",
       "    </tr>\n",
       "  </tbody>\n",
       "</table>\n",
       "</div>"
      ],
      "text/plain": [
       "                       0              1              2              3  \\\n",
       "label      30 - 39 Years  10 - 19 Years  10 - 19 Years  20 - 29 Years   \n",
       "numerical          0.375          0.125          0.125           0.25   \n",
       "\n",
       "                       4              5              6              7  \\\n",
       "label      60 - 69 Years  20 - 29 Years  40 - 49 Years  60 - 69 Years   \n",
       "numerical           0.75           0.25            0.5           0.75   \n",
       "\n",
       "                   8              9  \n",
       "label      80+ Years  50 - 59 Years  \n",
       "numerical          1          0.625  "
      ]
     },
     "metadata": {},
     "output_type": "display_data"
    }
   ],
   "source": [
    "def encode_age(df):\n",
    "\n",
    "    # Impute the mode for age_group Unknown.\n",
    "    # This is a temporary measure! I'll introduce an indicator variable\n",
    "    # in part 5, but I wanted to keep things as simple as possible for the\n",
    "    # first iteration.\n",
    "    mode = original.age_group.mode().values[0]\n",
    "    df.age_group = original.age_group.replace(\"Unknown\", mode)\n",
    "\n",
    "    # I'm not sure this makes any difference, but reconstruct the category\n",
    "    # with ordered = True (it is false by default).\n",
    "    # Also make sure that the labels are in order (Though I think they are automatically sorted anyways)\n",
    "    labels = sorted(df.age_group.unique())\n",
    "    df.age_group = pd.Categorical(df.age_group, categories=labels, ordered=True)\n",
    "\n",
    "    # Convert to numerical and normalize\n",
    "    df.age_group = df.age_group.cat.codes\n",
    "    age = df.age_group\n",
    "    df.age_group = (age - age.min()) / (age.max() - age.min())\n",
    "\n",
    "\n",
    "# Quick test.\n",
    "original = iter1_data\n",
    "new_df = original.copy()\n",
    "encode_age(new_df)\n",
    "display(pd.DataFrame([\n",
    "    original.head(10).age_group, \n",
    "    new_df.age_group.head(10)\n",
    "], index=[\"label\", \"numerical\"]))"
   ]
  },
  {
   "cell_type": "markdown",
   "id": "rising-flashing",
   "metadata": {},
   "source": [
    "Apply the various encodings on the data to create a normalized, numerical only dataset"
   ]
  },
  {
   "cell_type": "code",
   "execution_count": 661,
   "id": "irish-broadway",
   "metadata": {},
   "outputs": [
    {
     "data": {
      "text/html": [
       "<div>\n",
       "<style scoped>\n",
       "    .dataframe tbody tr th:only-of-type {\n",
       "        vertical-align: middle;\n",
       "    }\n",
       "\n",
       "    .dataframe tbody tr th {\n",
       "        vertical-align: top;\n",
       "    }\n",
       "\n",
       "    .dataframe thead th {\n",
       "        text-align: right;\n",
       "    }\n",
       "</style>\n",
       "<table border=\"1\" class=\"dataframe\">\n",
       "  <thead>\n",
       "    <tr style=\"text-align: right;\">\n",
       "      <th></th>\n",
       "      <th>icu_yn</th>\n",
       "      <th>age_group</th>\n",
       "      <th>hosp_yn</th>\n",
       "      <th>case_age_days</th>\n",
       "      <th>medcond_yn</th>\n",
       "      <th>death_yn</th>\n",
       "    </tr>\n",
       "  </thead>\n",
       "  <tbody>\n",
       "    <tr>\n",
       "      <th>0</th>\n",
       "      <td>0.5</td>\n",
       "      <td>0.375</td>\n",
       "      <td>0.0</td>\n",
       "      <td>0.548309</td>\n",
       "      <td>0.5</td>\n",
       "      <td>0.0</td>\n",
       "    </tr>\n",
       "    <tr>\n",
       "      <th>1</th>\n",
       "      <td>0.5</td>\n",
       "      <td>0.125</td>\n",
       "      <td>0.0</td>\n",
       "      <td>0.121846</td>\n",
       "      <td>0.0</td>\n",
       "      <td>0.0</td>\n",
       "    </tr>\n",
       "    <tr>\n",
       "      <th>2</th>\n",
       "      <td>0.5</td>\n",
       "      <td>0.125</td>\n",
       "      <td>0.0</td>\n",
       "      <td>0.445501</td>\n",
       "      <td>0.5</td>\n",
       "      <td>0.0</td>\n",
       "    </tr>\n",
       "    <tr>\n",
       "      <th>3</th>\n",
       "      <td>0.5</td>\n",
       "      <td>0.250</td>\n",
       "      <td>0.5</td>\n",
       "      <td>0.045692</td>\n",
       "      <td>0.5</td>\n",
       "      <td>0.0</td>\n",
       "    </tr>\n",
       "  </tbody>\n",
       "</table>\n",
       "</div>"
      ],
      "text/plain": [
       "   icu_yn  age_group  hosp_yn  case_age_days  medcond_yn  death_yn\n",
       "0     0.5      0.375      0.0       0.548309         0.5       0.0\n",
       "1     0.5      0.125      0.0       0.121846         0.0       0.0\n",
       "2     0.5      0.125      0.0       0.445501         0.5       0.0\n",
       "3     0.5      0.250      0.5       0.045692         0.5       0.0"
      ]
     },
     "execution_count": 661,
     "metadata": {},
     "output_type": "execute_result"
    }
   ],
   "source": [
    "def normalize_case_age(df):\n",
    "    \n",
    "    feature = \"case_age_days\"\n",
    "    u = df[feature].min()\n",
    "    s = df[feature].std()\n",
    "    df[feature] = (df[feature] - u) / (3 * s)\n",
    "    \n",
    "\n",
    "\n",
    "def iter1_encode(df):\n",
    "    \n",
    "    encode_all_ordinal(df, ignore=\"age_group\")\n",
    "    encode_age(df)\n",
    "    \n",
    "    # Normalize the one field that was originally numerical.\n",
    "    # The rest will have been normalized as part of encoding above.\n",
    "    normalize_case_age(df)\n",
    "\n",
    "data = iter1_data.copy()\n",
    "iter1_encode(data)\n",
    "data.head(4)"
   ]
  },
  {
   "cell_type": "markdown",
   "id": "optional-death",
   "metadata": {},
   "source": [
    "Perform the train-test split on the choice of features.\n",
    "\n",
    "For the ease of use on the coming sections, I found it handy to store the various segments of data in a single container variable, since they are often passed around together in practice."
   ]
  },
  {
   "cell_type": "code",
   "execution_count": 586,
   "id": "equivalent-easter",
   "metadata": {},
   "outputs": [],
   "source": [
    "class Container:\n",
    "    pass\n",
    "\n",
    "\n",
    "def get_case_study(data_n):\n",
    "    \n",
    "    X = data_n.drop(\"death_yn\", axis=1)\n",
    "    y = data_n[\"death_yn\"]\n",
    "    X_train, X_test, y_train, y_test = train_test_split(X, y, random_state=1, test_size=0.3)\n",
    "    \n",
    "    data = Container()\n",
    "    data.X = X\n",
    "    data.y = y\n",
    "    data.X_train = X_train\n",
    "    data.y_train = y_train\n",
    "    data.X_test = X_test\n",
    "    data.y_test = y_test\n",
    "    \n",
    "    return data\n",
    "\n",
    "\n",
    "# The first attempt, with the default encodings.\n",
    "data = iter1_data.copy()\n",
    "iter1_encode(data)\n",
    "iter1 = get_case_study(data)"
   ]
  },
  {
   "cell_type": "markdown",
   "id": "recognized-seminar",
   "metadata": {},
   "source": [
    "Part 2: Linear Model\n",
    "=="
   ]
  },
  {
   "cell_type": "code",
   "execution_count": 587,
   "id": "compact-organizer",
   "metadata": {},
   "outputs": [],
   "source": [
    "linear = sklearn.linear_model.LinearRegression"
   ]
  },
  {
   "cell_type": "markdown",
   "id": "growing-grammar",
   "metadata": {},
   "source": [
    "Fit a linear model using the numerical training sets."
   ]
  },
  {
   "cell_type": "code",
   "execution_count": 588,
   "id": "tracked-hamburg",
   "metadata": {},
   "outputs": [],
   "source": [
    "def model_info(model_type, data):\n",
    "    \n",
    "    try:\n",
    "        model = model_type(random_state=0)\n",
    "    except:\n",
    "        model = model_type()\n",
    "    \n",
    "    model.fit(data.X_train, data.y_train)\n",
    "    \n",
    "    model_info = pd.DataFrame(model.intercept_.reshape(1,1), columns=[\"intercept\"])\n",
    "    model_info[data.X_train.columns] = pd.DataFrame(model.coef_.reshape(1, model.coef_.size))\n",
    "    \n",
    "    return model_info"
   ]
  },
  {
   "cell_type": "code",
   "execution_count": 589,
   "id": "pacific-creation",
   "metadata": {},
   "outputs": [
    {
     "data": {
      "text/html": [
       "<div>\n",
       "<style scoped>\n",
       "    .dataframe tbody tr th:only-of-type {\n",
       "        vertical-align: middle;\n",
       "    }\n",
       "\n",
       "    .dataframe tbody tr th {\n",
       "        vertical-align: top;\n",
       "    }\n",
       "\n",
       "    .dataframe thead th {\n",
       "        text-align: right;\n",
       "    }\n",
       "</style>\n",
       "<table border=\"1\" class=\"dataframe\">\n",
       "  <thead>\n",
       "    <tr style=\"text-align: right;\">\n",
       "      <th></th>\n",
       "      <th>intercept</th>\n",
       "      <th>icu_yn</th>\n",
       "      <th>age_group</th>\n",
       "      <th>hosp_yn</th>\n",
       "      <th>case_age_days</th>\n",
       "      <th>medcond_yn</th>\n",
       "    </tr>\n",
       "  </thead>\n",
       "  <tbody>\n",
       "    <tr>\n",
       "      <th>0</th>\n",
       "      <td>-0.139605</td>\n",
       "      <td>0.047549</td>\n",
       "      <td>0.171153</td>\n",
       "      <td>0.1387</td>\n",
       "      <td>0.062157</td>\n",
       "      <td>0.023527</td>\n",
       "    </tr>\n",
       "  </tbody>\n",
       "</table>\n",
       "</div>"
      ],
      "text/plain": [
       "   intercept    icu_yn  age_group  hosp_yn  case_age_days  medcond_yn\n",
       "0  -0.139605  0.047549   0.171153   0.1387       0.062157    0.023527"
      ]
     },
     "metadata": {},
     "output_type": "display_data"
    },
    {
     "data": {
      "image/png": "[encoded data removed]",
      "text/plain": [
       "<Figure size 432x288 with 1 Axes>"
      ]
     },
     "metadata": {
      "needs_background": "light"
     },
     "output_type": "display_data"
    }
   ],
   "source": [
    "info = model_info(linear, iter1)\n",
    "display(info)\n",
    "info.plot(kind=\"bar\", title=\"Linear model parameters\");"
   ]
  },
  {
   "cell_type": "markdown",
   "id": "cubic-romania",
   "metadata": {},
   "source": [
    "The features are normalized, and I think the normalized distributions are okay, so the weights and intercept can be compared directly.\n",
    "\n",
    "**intercept**\n",
    "This is quite negative - even if all of the other features are maxed out, the model won't give a very high confidence of their being a death.\n",
    "\n",
    "**icu, hsp, and med_cond**\n",
    "These were crippled by the ordinal encoding, I think. Putting missing after yes means that when there is an overwhelming amount of missing and most of those could probably have been imputed as no, means the model can't weight \"yes\" without also weighting \"no\" as much or more. But we'll see if this holds true when indicator variables are used later in the notebook.\n",
    "\n",
    "**age_group**\n",
    "This is the most important feature after icu and hsp, so it's no surprise to see it take the fore after the others are gone.\n",
    "\n",
    "**case_age_days**\n",
    "It's nice to see the custom feature contributing here. It's positive, which means recent cases have a higher chance of being a death according to the model. I admit that goes against my intuition."
   ]
  },
  {
   "cell_type": "markdown",
   "id": "accessible-serum",
   "metadata": {},
   "source": [
    "Next, some predictions."
   ]
  },
  {
   "cell_type": "code",
   "execution_count": 590,
   "id": "textile-indonesia",
   "metadata": {},
   "outputs": [],
   "source": [
    "def apply_threshold(prediction, threshold, labels):\n",
    "\n",
    "    prediction = (prediction > threshold).astype(int)\n",
    "    prediction = [labels[i] for i in prediction]\n",
    "    \n",
    "    return prediction\n",
    "\n",
    "\n",
    "def predict(model_type, data, threshold=None, labels=None, training_only=False):\n",
    "\n",
    "    try:\n",
    "        model = model_type(random_state=0)\n",
    "    except:\n",
    "        model = model_type()\n",
    "    \n",
    "    model.fit(data.X_train, data.y_train)\n",
    "\n",
    "    if training_only:\n",
    "        prediction = model.predict(data.X_train)\n",
    "    else:\n",
    "        prediction = model.predict(data.X_test)\n",
    "        \n",
    "    if threshold is not None:\n",
    "        if labels is None:\n",
    "            labels = np.sort(np.unique(data.y_train))\n",
    "        prediction = apply_threshold(prediction, threshold, labels)\n",
    "        \n",
    "    return pd.Series(prediction)"
   ]
  },
  {
   "cell_type": "markdown",
   "id": "strategic-enemy",
   "metadata": {},
   "source": [
    "The first 10 predict false. This is not very surprising, giving the expected proportions."
   ]
  },
  {
   "cell_type": "code",
   "execution_count": 591,
   "id": "macro-legislature",
   "metadata": {},
   "outputs": [
    {
     "data": {
      "text/html": [
       "<div>\n",
       "<style scoped>\n",
       "    .dataframe tbody tr th:only-of-type {\n",
       "        vertical-align: middle;\n",
       "    }\n",
       "\n",
       "    .dataframe tbody tr th {\n",
       "        vertical-align: top;\n",
       "    }\n",
       "\n",
       "    .dataframe thead th {\n",
       "        text-align: right;\n",
       "    }\n",
       "</style>\n",
       "<table border=\"1\" class=\"dataframe\">\n",
       "  <thead>\n",
       "    <tr style=\"text-align: right;\">\n",
       "      <th></th>\n",
       "      <th>value</th>\n",
       "      <th>class</th>\n",
       "    </tr>\n",
       "  </thead>\n",
       "  <tbody>\n",
       "    <tr>\n",
       "      <th>0</th>\n",
       "      <td>-0.019096</td>\n",
       "      <td>False</td>\n",
       "    </tr>\n",
       "    <tr>\n",
       "      <th>1</th>\n",
       "      <td>-0.053088</td>\n",
       "      <td>False</td>\n",
       "    </tr>\n",
       "    <tr>\n",
       "      <th>2</th>\n",
       "      <td>-0.071549</td>\n",
       "      <td>False</td>\n",
       "    </tr>\n",
       "    <tr>\n",
       "      <th>3</th>\n",
       "      <td>0.017578</td>\n",
       "      <td>False</td>\n",
       "    </tr>\n",
       "    <tr>\n",
       "      <th>4</th>\n",
       "      <td>0.112489</td>\n",
       "      <td>False</td>\n",
       "    </tr>\n",
       "    <tr>\n",
       "      <th>5</th>\n",
       "      <td>0.010912</td>\n",
       "      <td>False</td>\n",
       "    </tr>\n",
       "    <tr>\n",
       "      <th>6</th>\n",
       "      <td>0.005507</td>\n",
       "      <td>False</td>\n",
       "    </tr>\n",
       "    <tr>\n",
       "      <th>7</th>\n",
       "      <td>0.040915</td>\n",
       "      <td>False</td>\n",
       "    </tr>\n",
       "    <tr>\n",
       "      <th>8</th>\n",
       "      <td>-0.075099</td>\n",
       "      <td>False</td>\n",
       "    </tr>\n",
       "    <tr>\n",
       "      <th>9</th>\n",
       "      <td>0.072397</td>\n",
       "      <td>False</td>\n",
       "    </tr>\n",
       "  </tbody>\n",
       "</table>\n",
       "</div>"
      ],
      "text/plain": [
       "      value  class\n",
       "0 -0.019096  False\n",
       "1 -0.053088  False\n",
       "2 -0.071549  False\n",
       "3  0.017578  False\n",
       "4  0.112489  False\n",
       "5  0.010912  False\n",
       "6  0.005507  False\n",
       "7  0.040915  False\n",
       "8 -0.075099  False\n",
       "9  0.072397  False"
      ]
     },
     "metadata": {},
     "output_type": "display_data"
    }
   ],
   "source": [
    "# Predict for training data, not test data!\n",
    "prediction = predict(linear, iter1, training_only=True)\n",
    "\n",
    "prediction = pd.DataFrame(prediction, columns=[\"value\"])\n",
    "prediction[\"class\"] = prediction.value > 0.5\n",
    "\n",
    "display(prediction.head(10))"
   ]
  },
  {
   "cell_type": "markdown",
   "id": "aware-arkansas",
   "metadata": {},
   "source": [
    "Below are functions to help calculate the confusion matrix and positive rates, for a given threshold.\n",
    "\n",
    "I recognize in hindsight that a lot of these little functions I have scattered about the place have premade and more complete implementations in sklearn or skplot. But on the upside, it was a reminder of what the various formulae actually mean."
   ]
  },
  {
   "cell_type": "code",
   "execution_count": 592,
   "id": "bibliographic-taiwan",
   "metadata": {},
   "outputs": [],
   "source": [
    "def confusion(actual, prediction, labels=None):\n",
    "    \n",
    "    if labels is None: labels = np.sort(np.unique(actual))\n",
    "    \n",
    "    matrix = sklearn.metrics.confusion_matrix(actual, prediction, labels=labels)\n",
    "    matrix = pd.DataFrame(matrix, index = [\"Alive\", \"Dead\"], columns = [\"Alive\", \"Dead\"])\n",
    "    \n",
    "    return matrix\n",
    "\n",
    "\n",
    "def rates(matrix):\n",
    "    \n",
    "    matrix = matrix.values\n",
    "    tp = matrix[1,1] / matrix[1,:].sum() # true positive\n",
    "    fp = matrix[0,1] / matrix[0,:].sum() # false positive\n",
    "    tn = matrix[0,0] / matrix[0,:].sum() # true negative\n",
    "    fn = matrix[1,0] / matrix[1,:].sum() # false negative\n",
    "    \n",
    "    names = [\n",
    "        \"true positives\",\n",
    "        \"false positives\",\n",
    "        \"true negatives\",\n",
    "        \"false negatives\"\n",
    "    ]\n",
    "    \n",
    "    return pd.DataFrame([[tp, fp, tn, fn]], columns=names)"
   ]
  },
  {
   "cell_type": "markdown",
   "id": "judicial-union",
   "metadata": {},
   "source": [
    "The results with 0.5 as the threshold are terrible - 0 true positives.\n",
    "\n",
    "This is exactly the same as the baseline prediction of always choosing false."
   ]
  },
  {
   "cell_type": "code",
   "execution_count": 593,
   "id": "simple-arctic",
   "metadata": {},
   "outputs": [
    {
     "data": {
      "text/html": [
       "<div>\n",
       "<style scoped>\n",
       "    .dataframe tbody tr th:only-of-type {\n",
       "        vertical-align: middle;\n",
       "    }\n",
       "\n",
       "    .dataframe tbody tr th {\n",
       "        vertical-align: top;\n",
       "    }\n",
       "\n",
       "    .dataframe thead th {\n",
       "        text-align: right;\n",
       "    }\n",
       "</style>\n",
       "<table border=\"1\" class=\"dataframe\">\n",
       "  <thead>\n",
       "    <tr style=\"text-align: right;\">\n",
       "      <th></th>\n",
       "      <th>Alive</th>\n",
       "      <th>Dead</th>\n",
       "    </tr>\n",
       "  </thead>\n",
       "  <tbody>\n",
       "    <tr>\n",
       "      <th>Alive</th>\n",
       "      <td>6263</td>\n",
       "      <td>0</td>\n",
       "    </tr>\n",
       "    <tr>\n",
       "      <th>Dead</th>\n",
       "      <td>240</td>\n",
       "      <td>0</td>\n",
       "    </tr>\n",
       "  </tbody>\n",
       "</table>\n",
       "</div>"
      ],
      "text/plain": [
       "       Alive  Dead\n",
       "Alive   6263     0\n",
       "Dead     240     0"
      ]
     },
     "metadata": {},
     "output_type": "display_data"
    },
    {
     "data": {
      "text/html": [
       "<div>\n",
       "<style scoped>\n",
       "    .dataframe tbody tr th:only-of-type {\n",
       "        vertical-align: middle;\n",
       "    }\n",
       "\n",
       "    .dataframe tbody tr th {\n",
       "        vertical-align: top;\n",
       "    }\n",
       "\n",
       "    .dataframe thead th {\n",
       "        text-align: right;\n",
       "    }\n",
       "</style>\n",
       "<table border=\"1\" class=\"dataframe\">\n",
       "  <thead>\n",
       "    <tr style=\"text-align: right;\">\n",
       "      <th></th>\n",
       "      <th>true positives</th>\n",
       "      <th>false positives</th>\n",
       "      <th>true negatives</th>\n",
       "      <th>false negatives</th>\n",
       "    </tr>\n",
       "  </thead>\n",
       "  <tbody>\n",
       "    <tr>\n",
       "      <th>0</th>\n",
       "      <td>0.0</td>\n",
       "      <td>0.0</td>\n",
       "      <td>1.0</td>\n",
       "      <td>1.0</td>\n",
       "    </tr>\n",
       "  </tbody>\n",
       "</table>\n",
       "</div>"
      ],
      "text/plain": [
       "   true positives  false positives  true negatives  false negatives\n",
       "0             0.0              0.0             1.0              1.0"
      ]
     },
     "metadata": {},
     "output_type": "display_data"
    }
   ],
   "source": [
    "prediction = predict(linear, iter1, training_only=True, threshold=0.5)\n",
    "actual = iter1.y_train\n",
    "\n",
    "matrix = confusion(iter1.y_train, prediction)\n",
    "\n",
    "display(matrix)\n",
    "display(rates(matrix))"
   ]
  },
  {
   "cell_type": "markdown",
   "id": "infrared-diploma",
   "metadata": {},
   "source": [
    "With this in mind, the other metrics probably won't tell us much we don't already know, but I'll print them out anyways:"
   ]
  },
  {
   "cell_type": "code",
   "execution_count": 594,
   "id": "armed-reference",
   "metadata": {},
   "outputs": [],
   "source": [
    "def class_metrics(matrix):\n",
    "    \n",
    "    matrix = matrix.values\n",
    "    tn = matrix[0,0]\n",
    "    fp = matrix[0,1]\n",
    "    fn = matrix[1,0]\n",
    "    tp = matrix[1,1]\n",
    "    \n",
    "    accuracy = (tp + tn) / (tp + tn + fp + fn)\n",
    "    precision = tp / (tp + fp)\n",
    "    recall = tp / (tp + fn)\n",
    "    \n",
    "    F1 = 2 * precision * recall / (precision + recall)\n",
    "    \n",
    "    index = [\"accuracy\", \"precision\", \"recall\", \"F1\"]\n",
    "    result = pd.Series([accuracy, precision, recall, F1], index)\n",
    "    \n",
    "    return result"
   ]
  },
  {
   "cell_type": "code",
   "execution_count": 595,
   "id": "brown-pride",
   "metadata": {},
   "outputs": [
    {
     "name": "stderr",
     "output_type": "stream",
     "text": [
      "C:\\Users\\Kieran\\miniconda3\\envs\\titanic\\lib\\site-packages\\ipykernel_launcher.py:10: RuntimeWarning: invalid value encountered in longlong_scalars\n",
      "  # Remove the CWD from sys.path while we load stuff.\n"
     ]
    },
    {
     "data": {
      "text/plain": [
       "accuracy     0.963094\n",
       "precision         NaN\n",
       "recall       0.000000\n",
       "F1                NaN\n",
       "dtype: float64"
      ]
     },
     "execution_count": 595,
     "metadata": {},
     "output_type": "execute_result"
    }
   ],
   "source": [
    "prediction = predict(linear, iter1, training_only=True, threshold=0.5)\n",
    "actual = iter1.y_train\n",
    "\n",
    "matrix = confusion(actual, prediction)\n",
    "class_metrics(matrix)"
   ]
  },
  {
   "cell_type": "markdown",
   "id": "fifteen-still",
   "metadata": {},
   "source": [
    "  - **Accuracy is high**. Well, given the overwhelming number of negatives in the dataset, always predicting negative yields a very high accuracy we are almost always right.\n",
    "  - **Precision is undefined**, since there are no positives in the predictions on which to base it\n",
    "  - **Recall is 0**. We never predicted positive.\n",
    "  - **F1 is undefined**, since it is based on precision and precision is undefined.\n",
    "  \n",
    "Technically, it is possible to calculate F1 by cancelling terms in the limit towards zero positives. The result is 0, which isn't anything new though."
   ]
  },
  {
   "cell_type": "markdown",
   "id": "spoken-standard",
   "metadata": {},
   "source": [
    "Looking at the hold-out, the result is almost identical. The threshold is much too high.\n",
    "\n",
    "This needs to be fixed before I can continue with this question."
   ]
  },
  {
   "cell_type": "code",
   "execution_count": 596,
   "id": "christian-trading",
   "metadata": {},
   "outputs": [
    {
     "name": "stderr",
     "output_type": "stream",
     "text": [
      "C:\\Users\\Kieran\\miniconda3\\envs\\titanic\\lib\\site-packages\\ipykernel_launcher.py:10: RuntimeWarning: invalid value encountered in longlong_scalars\n",
      "  # Remove the CWD from sys.path while we load stuff.\n"
     ]
    },
    {
     "data": {
      "text/plain": [
       "accuracy     0.965554\n",
       "precision         NaN\n",
       "recall       0.000000\n",
       "F1                NaN\n",
       "dtype: float64"
      ]
     },
     "execution_count": 596,
     "metadata": {},
     "output_type": "execute_result"
    }
   ],
   "source": [
    "prediction = predict(linear, iter1, threshold=0.5)\n",
    "actual = iter1.y_test\n",
    "\n",
    "matrix = confusion(actual, prediction)\n",
    "class_metrics(matrix)"
   ]
  },
  {
   "cell_type": "markdown",
   "id": "racial-writing",
   "metadata": {},
   "source": [
    "Aside: The Threshold\n",
    "--"
   ]
  },
  {
   "cell_type": "markdown",
   "id": "bottom-poster",
   "metadata": {},
   "source": [
    "Okay. So I'm guessing the ordinal encoding was a bad idea, but it could also just be the overwhelming prevelance of \"no death\" in the data that is causing a low viable threshold. I'll leave the attempt to rememdy those two for part 5, and focus on the threshold itself for now.\n",
    "\n",
    "First, plot the distribution of the predictions to get an idea for what is going on."
   ]
  },
  {
   "cell_type": "code",
   "execution_count": 597,
   "id": "excited-bhutan",
   "metadata": {},
   "outputs": [
    {
     "data": {
      "text/plain": [
       "<AxesSubplot:ylabel='Frequency'>"
      ]
     },
     "execution_count": 597,
     "metadata": {},
     "output_type": "execute_result"
    },
    {
     "data": {
      "image/png": "[encoded data removed]",
      "text/plain": [
       "<Figure size 432x288 with 1 Axes>"
      ]
     },
     "metadata": {
      "needs_background": "light"
     },
     "output_type": "display_data"
    }
   ],
   "source": [
    "predict(linear, iter1, training_only=True).plot(kind=\"hist\")"
   ]
  },
  {
   "cell_type": "markdown",
   "id": "brutal-athletics",
   "metadata": {},
   "source": [
    "Nothing beyond 0.25. \n",
    "\n",
    "0.1 seems a decent candidate."
   ]
  },
  {
   "cell_type": "code",
   "execution_count": 598,
   "id": "conservative-restaurant",
   "metadata": {},
   "outputs": [
    {
     "data": {
      "text/html": [
       "<div>\n",
       "<style scoped>\n",
       "    .dataframe tbody tr th:only-of-type {\n",
       "        vertical-align: middle;\n",
       "    }\n",
       "\n",
       "    .dataframe tbody tr th {\n",
       "        vertical-align: top;\n",
       "    }\n",
       "\n",
       "    .dataframe thead th {\n",
       "        text-align: right;\n",
       "    }\n",
       "</style>\n",
       "<table border=\"1\" class=\"dataframe\">\n",
       "  <thead>\n",
       "    <tr style=\"text-align: right;\">\n",
       "      <th></th>\n",
       "      <th>Alive</th>\n",
       "      <th>Dead</th>\n",
       "    </tr>\n",
       "  </thead>\n",
       "  <tbody>\n",
       "    <tr>\n",
       "      <th>Alive</th>\n",
       "      <td>2334</td>\n",
       "      <td>357</td>\n",
       "    </tr>\n",
       "    <tr>\n",
       "      <th>Dead</th>\n",
       "      <td>10</td>\n",
       "      <td>86</td>\n",
       "    </tr>\n",
       "  </tbody>\n",
       "</table>\n",
       "</div>"
      ],
      "text/plain": [
       "       Alive  Dead\n",
       "Alive   2334   357\n",
       "Dead      10    86"
      ]
     },
     "metadata": {},
     "output_type": "display_data"
    },
    {
     "data": {
      "text/plain": [
       "accuracy     0.868317\n",
       "precision    0.194131\n",
       "recall       0.895833\n",
       "F1           0.319109\n",
       "dtype: float64"
      ]
     },
     "metadata": {},
     "output_type": "display_data"
    }
   ],
   "source": [
    "prediction = predict(linear, iter1, threshold=0.1)\n",
    "actual = iter1.y_test\n",
    "\n",
    "matrix = confusion(actual, prediction)\n",
    "display(matrix)\n",
    "display(class_metrics(matrix))"
   ]
  },
  {
   "cell_type": "markdown",
   "id": "raising-municipality",
   "metadata": {},
   "source": [
    "Not fantastic, given that a positive result is much more likely to be a false positive than not. Accuracy has decreased and precision is quite low. F1 is low.\n",
    "\n",
    "Nonethless, most of the true negatives are being caught now, which is a huge improvement. \n",
    "\n",
    "The next cell defines functions for getting ROC information."
   ]
  },
  {
   "cell_type": "code",
   "execution_count": 609,
   "id": "floating-pearl",
   "metadata": {},
   "outputs": [],
   "source": [
    "def roc(actual, prediction, thresholds, labels=None):\n",
    "    \n",
    "    if labels is None:\n",
    "        labels = np.sort(np.unique(actual))\n",
    "    \n",
    "    items = list()\n",
    "    for threshold in thresholds:\n",
    "        \n",
    "        p_current = apply_threshold(prediction, threshold, labels)\n",
    "\n",
    "        matrix = confusion(actual, p_current)\n",
    "        tp = matrix.values[1,1] / matrix.values[1,:].sum()\n",
    "        fp = matrix.values[0,1] / matrix.values[0,:].sum()\n",
    "        \n",
    "        items.append([tp, fp])\n",
    "\n",
    "    # each item in \"rates\" is a pair: a true positive, \n",
    "    # and a false positive.\n",
    "    \n",
    "    cols = [\"true_p\", \"false_p\"]\n",
    "    roc = pd.DataFrame(items, index=thresholds, columns=cols)\n",
    "    \n",
    "    return roc\n",
    "\n",
    "\n",
    "def plot_roc(roc_data, ax=None):\n",
    "\n",
    "    if ax is None:\n",
    "        ax = plt.gca()\n",
    "    \n",
    "    # The basic plot - false vs. true positives\n",
    "    \n",
    "    plt.title(\"ROC for linear model\")\n",
    "    plt.xlabel(\"False Positives\")\n",
    "    plt.ylabel(\"True Positives\")\n",
    "    ax.plot(roc_data.false_p, roc_data.true_p, \"-\")\n",
    "        \n",
    "\n",
    "def auroc(roc_data):\n",
    "    \n",
    "    x = roc_data.false_p\n",
    "    y = roc_data.true_p\n",
    "    \n",
    "    # This interpolation & integration is giving me\n",
    "    # a warning regarding error. I'm only looking for \n",
    "    # a rough guess for now though, so won't\n",
    "    # try fix it.\n",
    "    \n",
    "    f = scipy.interpolate.interp1d(x, y)\n",
    "    area = scipy.integrate.quad(f, 0, 1, limit=200)\n",
    "    \n",
    "    return area"
   ]
  },
  {
   "cell_type": "markdown",
   "id": "accepting-judges",
   "metadata": {},
   "source": [
    "The curve looks very very good for this model at first glance, though I suspect that that is just because the source data is mostly made of negatives, and so false positives are undervalued."
   ]
  },
  {
   "cell_type": "code",
   "execution_count": 610,
   "id": "standard-generic",
   "metadata": {},
   "outputs": [
    {
     "name": "stdout",
     "output_type": "stream",
     "text": [
      "Area under ROC: 0.9376645104355669\n"
     ]
    },
    {
     "name": "stderr",
     "output_type": "stream",
     "text": [
      "C:\\Users\\Kieran\\miniconda3\\envs\\titanic\\lib\\site-packages\\ipykernel_launcher.py:50: IntegrationWarning: The occurrence of roundoff error is detected, which prevents \n",
      "  the requested tolerance from being achieved.  The error may be \n",
      "  underestimated.\n"
     ]
    },
    {
     "data": {
      "image/png": "[encoded data removed]",
      "text/plain": [
       "<Figure size 432x288 with 1 Axes>"
      ]
     },
     "metadata": {
      "needs_background": "light"
     },
     "output_type": "display_data"
    }
   ],
   "source": [
    "prediction = predict(linear, iter1)\n",
    "actual = iter1.y_test\n",
    "\n",
    "\n",
    "roc_data = roc(actual, prediction, np.linspace(-1, 1, 100))\n",
    "plot_roc(roc_data)\n",
    "print(\"Area under ROC:\", auroc(roc_data)[0])"
   ]
  },
  {
   "cell_type": "markdown",
   "id": "photographic-exception",
   "metadata": {},
   "source": [
    "Some threshold values can be shown on the plot as well:"
   ]
  },
  {
   "cell_type": "code",
   "execution_count": 549,
   "id": "smoking-baptist",
   "metadata": {},
   "outputs": [],
   "source": [
    "def show_thresholds(roc_data):\n",
    "\n",
    "    distance = 0\n",
    "    y1 = roc_data.true_p[roc_data.index[0]]\n",
    "\n",
    "    for t in roc_data.index[1:]:\n",
    "\n",
    "        # Don't display a threshold marker for every\n",
    "        # point, since some are grouped together.\n",
    "        # Wait until a certain y-distance has passed.\n",
    "        \n",
    "        x = roc_data.false_p[t]\n",
    "        y2 = roc_data.true_p[t]\n",
    "\n",
    "        distance += np.abs(y2-y1)\n",
    "        y1 = y2\n",
    "        \n",
    "        if distance > 0.1:\n",
    "            distance = 0\n",
    "            plt.plot(x, y2, \"o\", color=\"#ff9900\")\n",
    "            plt.text(x + 0.04, y2, \"t: %.2f\" % t, color=\"#ff9900\")"
   ]
  },
  {
   "cell_type": "code",
   "execution_count": 550,
   "id": "dirty-circular",
   "metadata": {},
   "outputs": [
    {
     "data": {
      "image/png": "[encoded data removed]",
      "text/plain": [
       "<Figure size 432x288 with 1 Axes>"
      ]
     },
     "metadata": {
      "needs_background": "light"
     },
     "output_type": "display_data"
    }
   ],
   "source": [
    "plot_roc(roc_data)\n",
    "show_thresholds(roc_data)"
   ]
  },
  {
   "cell_type": "markdown",
   "id": "quality-subsection",
   "metadata": {},
   "source": [
    "From which I deduce that a threshold 0.1 is decent choice for now."
   ]
  },
  {
   "cell_type": "markdown",
   "id": "neutral-consistency",
   "metadata": {},
   "source": [
    "Finally, for the sake of later experimentation, we can define a heuristic for determining a decent threshold with code similar to that used for plotting ROC."
   ]
  },
  {
   "cell_type": "code",
   "execution_count": 551,
   "id": "august-flexibility",
   "metadata": {},
   "outputs": [],
   "source": [
    "def find_threshold(actual, prediction, thresholds, labels=None):\n",
    "    \n",
    "    if labels is None:\n",
    "        labels = np.sort(np.unique(actual))\n",
    "    \n",
    "    items = list()\n",
    "    for threshold in thresholds:\n",
    "        \n",
    "        p_current = apply_threshold(prediction, threshold, labels)\n",
    "\n",
    "        matrix = confusion(actual, p_current)\n",
    "        metrics = class_metrics(matrix)\n",
    "        items.append(metrics.F1)\n",
    "\n",
    "    return pd.Series(items, index=thresholds).idxmax()"
   ]
  },
  {
   "cell_type": "code",
   "execution_count": 603,
   "id": "hairy-parks",
   "metadata": {},
   "outputs": [
    {
     "name": "stdout",
     "output_type": "stream",
     "text": [
      "Chosen threshold: 0.1919\n",
      "Results:\n"
     ]
    },
    {
     "data": {
      "text/html": [
       "<div>\n",
       "<style scoped>\n",
       "    .dataframe tbody tr th:only-of-type {\n",
       "        vertical-align: middle;\n",
       "    }\n",
       "\n",
       "    .dataframe tbody tr th {\n",
       "        vertical-align: top;\n",
       "    }\n",
       "\n",
       "    .dataframe thead th {\n",
       "        text-align: right;\n",
       "    }\n",
       "</style>\n",
       "<table border=\"1\" class=\"dataframe\">\n",
       "  <thead>\n",
       "    <tr style=\"text-align: right;\">\n",
       "      <th></th>\n",
       "      <th>Alive</th>\n",
       "      <th>Dead</th>\n",
       "    </tr>\n",
       "  </thead>\n",
       "  <tbody>\n",
       "    <tr>\n",
       "      <th>Alive</th>\n",
       "      <td>2638</td>\n",
       "      <td>53</td>\n",
       "    </tr>\n",
       "    <tr>\n",
       "      <th>Dead</th>\n",
       "      <td>49</td>\n",
       "      <td>47</td>\n",
       "    </tr>\n",
       "  </tbody>\n",
       "</table>\n",
       "</div>"
      ],
      "text/plain": [
       "       Alive  Dead\n",
       "Alive   2638    53\n",
       "Dead      49    47"
      ]
     },
     "metadata": {},
     "output_type": "display_data"
    },
    {
     "data": {
      "text/plain": [
       "accuracy     0.963402\n",
       "precision    0.470000\n",
       "recall       0.489583\n",
       "F1           0.479592\n",
       "dtype: float64"
      ]
     },
     "metadata": {},
     "output_type": "display_data"
    }
   ],
   "source": [
    "prediction = predict(linear, iter1)\n",
    "actual = iter1.y_test\n",
    "\n",
    "with warnings.catch_warnings():\n",
    "    warnings.simplefilter(\"ignore\")\n",
    "    threshold = find_threshold(actual, prediction, np.linspace(-1,1,100))\n",
    "\n",
    "print(\"Chosen threshold: %.04f\" % threshold)\n",
    "\n",
    "prediction = predict(linear, iter1, threshold)\n",
    "matrix = confusion(actual, prediction)\n",
    "metrics = class_metrics(matrix)\n",
    "\n",
    "print(\"Results:\")\n",
    "display(matrix)\n",
    "display(metrics)"
   ]
  },
  {
   "cell_type": "markdown",
   "id": "wanted-segment",
   "metadata": {},
   "source": [
    "This cell will not run until the kfold function is defined later on, but it demonstrates that these results hold up with kfolding."
   ]
  },
  {
   "cell_type": "code",
   "execution_count": 554,
   "id": "electric-headquarters",
   "metadata": {},
   "outputs": [
    {
     "data": {
      "text/plain": [
       "accuracy     0.959311\n",
       "precision    0.448942\n",
       "recall       0.493375\n",
       "F1           0.467893\n",
       "dtype: float64"
      ]
     },
     "execution_count": 554,
     "metadata": {},
     "output_type": "execute_result"
    }
   ],
   "source": [
    "#kfold(10, linear, iter1, threshold=0.1919)"
   ]
  },
  {
   "cell_type": "markdown",
   "id": "confirmed-meter",
   "metadata": {},
   "source": [
    "Back to Part 2: Linear Model\n",
    "=="
   ]
  },
  {
   "cell_type": "markdown",
   "id": "steady-council",
   "metadata": {},
   "source": [
    "Recap: these are the metrics for the model when predicting training data."
   ]
  },
  {
   "cell_type": "code",
   "execution_count": 555,
   "id": "mediterranean-parallel",
   "metadata": {},
   "outputs": [
    {
     "data": {
      "text/html": [
       "<div>\n",
       "<style scoped>\n",
       "    .dataframe tbody tr th:only-of-type {\n",
       "        vertical-align: middle;\n",
       "    }\n",
       "\n",
       "    .dataframe tbody tr th {\n",
       "        vertical-align: top;\n",
       "    }\n",
       "\n",
       "    .dataframe thead th {\n",
       "        text-align: right;\n",
       "    }\n",
       "</style>\n",
       "<table border=\"1\" class=\"dataframe\">\n",
       "  <thead>\n",
       "    <tr style=\"text-align: right;\">\n",
       "      <th></th>\n",
       "      <th>Alive</th>\n",
       "      <th>Dead</th>\n",
       "    </tr>\n",
       "  </thead>\n",
       "  <tbody>\n",
       "    <tr>\n",
       "      <th>Alive</th>\n",
       "      <td>5337</td>\n",
       "      <td>926</td>\n",
       "    </tr>\n",
       "    <tr>\n",
       "      <th>Dead</th>\n",
       "      <td>21</td>\n",
       "      <td>219</td>\n",
       "    </tr>\n",
       "  </tbody>\n",
       "</table>\n",
       "</div>"
      ],
      "text/plain": [
       "       Alive  Dead\n",
       "Alive   5337   926\n",
       "Dead      21   219"
      ]
     },
     "metadata": {},
     "output_type": "display_data"
    },
    {
     "data": {
      "text/plain": [
       "accuracy     0.854375\n",
       "precision    0.191266\n",
       "recall       0.912500\n",
       "F1           0.316245\n",
       "dtype: float64"
      ]
     },
     "execution_count": 555,
     "metadata": {},
     "output_type": "execute_result"
    }
   ],
   "source": [
    "prediction = predict(linear, iter1, 0.1, training_only=True)\n",
    "actual = iter1.y_train\n",
    "\n",
    "matrix = confusion(actual, prediction)\n",
    "\n",
    "display(matrix)\n",
    "class_metrics(matrix)"
   ]
  },
  {
   "cell_type": "markdown",
   "id": "lyric-theorem",
   "metadata": {},
   "source": [
    " - **accuracy is high** - Not as high as before, but nonetheless high. Expected due to the imbalance in the target feature.\n",
    " - **precision is low** - A predicted positive is significantly more likely to be a false positive than a true positive!\n",
    " - **recall is high** - Most of the actual positives were detected.\n",
    " - **F1 is low** - Much better than before, but nonetheless low. "
   ]
  },
  {
   "cell_type": "markdown",
   "id": "inside-jamaica",
   "metadata": {},
   "source": [
    "Now, for the hold-out data:"
   ]
  },
  {
   "cell_type": "code",
   "execution_count": 556,
   "id": "returning-removal",
   "metadata": {},
   "outputs": [
    {
     "data": {
      "text/html": [
       "<div>\n",
       "<style scoped>\n",
       "    .dataframe tbody tr th:only-of-type {\n",
       "        vertical-align: middle;\n",
       "    }\n",
       "\n",
       "    .dataframe tbody tr th {\n",
       "        vertical-align: top;\n",
       "    }\n",
       "\n",
       "    .dataframe thead th {\n",
       "        text-align: right;\n",
       "    }\n",
       "</style>\n",
       "<table border=\"1\" class=\"dataframe\">\n",
       "  <thead>\n",
       "    <tr style=\"text-align: right;\">\n",
       "      <th></th>\n",
       "      <th>Alive</th>\n",
       "      <th>Dead</th>\n",
       "    </tr>\n",
       "  </thead>\n",
       "  <tbody>\n",
       "    <tr>\n",
       "      <th>Alive</th>\n",
       "      <td>2334</td>\n",
       "      <td>357</td>\n",
       "    </tr>\n",
       "    <tr>\n",
       "      <th>Dead</th>\n",
       "      <td>10</td>\n",
       "      <td>86</td>\n",
       "    </tr>\n",
       "  </tbody>\n",
       "</table>\n",
       "</div>"
      ],
      "text/plain": [
       "       Alive  Dead\n",
       "Alive   2334   357\n",
       "Dead      10    86"
      ]
     },
     "metadata": {},
     "output_type": "display_data"
    },
    {
     "data": {
      "text/plain": [
       "accuracy     0.868317\n",
       "precision    0.194131\n",
       "recall       0.895833\n",
       "F1           0.319109\n",
       "dtype: float64"
      ]
     },
     "execution_count": 556,
     "metadata": {},
     "output_type": "execute_result"
    }
   ],
   "source": [
    "prediction = predict(linear, iter1, 0.1)\n",
    "actual = iter1.y_test\n",
    "\n",
    "matrix = confusion(actual, prediction)\n",
    "\n",
    "display(matrix)\n",
    "class_metrics(matrix)"
   ]
  },
  {
   "cell_type": "markdown",
   "id": "chubby-stroke",
   "metadata": {},
   "source": [
    "Almost identical before. In fact, it scores a little better. This is surprise to me - I'd have thought even a model not suffering from overfitting too much tends to perform better on the training data.\n",
    "\n",
    "After seeing this trend a few times now in this notebook, I'm no longer so sure. I wonder is the model just simple enough (linear & 5 features) to avoid the problem."
   ]
  },
  {
   "cell_type": "markdown",
   "id": "brazilian-genius",
   "metadata": {},
   "source": [
    "Finally, k-fold cross-validation. "
   ]
  },
  {
   "cell_type": "code",
   "execution_count": 557,
   "id": "flush-diesel",
   "metadata": {},
   "outputs": [],
   "source": [
    "def kfold(k, model_type, data, threshold=None):\n",
    "    \n",
    "    X = data.X.values\n",
    "    y = data.y.values\n",
    "    \n",
    "    folder = sklearn.model_selection.KFold(k, shuffle=True, random_state=0)\n",
    "    \n",
    "    results = pd.Series([0.,0.,0.,0.], index=[\n",
    "        \"accuracy\", \"precision\", \"recall\", \"F1\"\n",
    "    ])\n",
    "    \n",
    "    labels = np.sort(np.unique(y))\n",
    "        \n",
    "    for train_index, test_index in folder.split(X, y):\n",
    "\n",
    "        model = model_type()\n",
    "        model.fit(X[train_index], y[train_index])\n",
    "        prediction = model.predict(X[test_index])\n",
    "        prediction = pd.Series(prediction)\n",
    "        \n",
    "        if threshold is not None:\n",
    "            prediction = apply_threshold(prediction, threshold, labels)\n",
    "        \n",
    "        matrix = confusion(y[test_index], prediction, labels)\n",
    "        metrics = class_metrics(matrix)\n",
    "        \n",
    "        for item in results.index:\n",
    "            if not np.isnan(metrics[item]):\n",
    "                results[item] += metrics[item]\n",
    "    \n",
    "    results /= k\n",
    "        \n",
    "    return results"
   ]
  },
  {
   "cell_type": "code",
   "execution_count": 558,
   "id": "prostate-gender",
   "metadata": {},
   "outputs": [
    {
     "data": {
      "text/plain": [
       "accuracy     0.860075\n",
       "precision    0.195197\n",
       "recall       0.906816\n",
       "F1           0.315385\n",
       "dtype: float64"
      ]
     },
     "execution_count": 558,
     "metadata": {},
     "output_type": "execute_result"
    }
   ],
   "source": [
    "kfold(50, linear, iter1, threshold=0.1)"
   ]
  },
  {
   "cell_type": "markdown",
   "id": "returning-order",
   "metadata": {},
   "source": [
    "For low k (k < 50), the metrics are similar to those from the hold-out data.\n",
    "\n",
    "As k increases, the F1 and other values (except for accuracy) tend to decrease, which seemed counter-intuitive at first. Surely more training data is a good thing?\n",
    "\n",
    "However, there are lots and lots of NaN warnings printed out. I think what is happening is that as the test sample gets smaller, there are more and more samples with no predicted positives, and also more with no actual positives. This causes some of the metrics to go to NaN due to zero division errors, and contribute zero to the totals.\n",
    "\n",
    "When I first ran this, accuracy tended to decrease too, but I was able to fix a similar error there - the confusion matrix was giving an error when there more no actual positives *and* no predicted positives."
   ]
  },
  {
   "cell_type": "code",
   "execution_count": 559,
   "id": "worthy-booth",
   "metadata": {},
   "outputs": [
    {
     "name": "stdout",
     "output_type": "stream",
     "text": [
      "200 Iterations:\n"
     ]
    },
    {
     "data": {
      "text/plain": [
       "accuracy     0.859420\n",
       "precision    0.189979\n",
       "recall       0.746333\n",
       "F1           0.289235\n",
       "dtype: float64"
      ]
     },
     "metadata": {},
     "output_type": "display_data"
    },
    {
     "name": "stdout",
     "output_type": "stream",
     "text": [
      "400 Iterations:\n"
     ]
    },
    {
     "data": {
      "text/plain": [
       "accuracy     0.859728\n",
       "precision    0.193928\n",
       "recall       0.525208\n",
       "F1           0.267082\n",
       "dtype: float64"
      ]
     },
     "metadata": {},
     "output_type": "display_data"
    },
    {
     "name": "stdout",
     "output_type": "stream",
     "text": [
      "1000 Iterations:\n"
     ]
    },
    {
     "data": {
      "text/plain": [
       "accuracy     0.859833\n",
       "precision    0.155217\n",
       "recall       0.252917\n",
       "F1           0.182436\n",
       "dtype: float64"
      ]
     },
     "metadata": {},
     "output_type": "display_data"
    }
   ],
   "source": [
    "with warnings.catch_warnings():\n",
    "    \n",
    "    # Comment out this to see a flood of warnings\n",
    "    # relating to times when there were no predictions\n",
    "    # and some metrics fall to NaN\n",
    "    warnings.simplefilter(\"ignore\")\n",
    "    \n",
    "    threshold = 0.1\n",
    "    \n",
    "    print(\"200 Iterations:\")\n",
    "    display(kfold(200, linear, iter1, threshold))\n",
    "    \n",
    "    print(\"400 Iterations:\")\n",
    "    display(kfold(400, linear, iter1, threshold))\n",
    "    \n",
    "    print(\"1000 Iterations:\")\n",
    "    display(kfold(1000, linear, iter1, threshold))"
   ]
  },
  {
   "cell_type": "markdown",
   "id": "infinite-supervision",
   "metadata": {},
   "source": [
    "Part 3: Logistic Regression\n",
    "=="
   ]
  },
  {
   "cell_type": "code",
   "execution_count": 560,
   "id": "outer-worst",
   "metadata": {},
   "outputs": [],
   "source": [
    "logistic = sklearn.linear_model.LogisticRegression"
   ]
  },
  {
   "cell_type": "code",
   "execution_count": 561,
   "id": "figured-wages",
   "metadata": {},
   "outputs": [
    {
     "data": {
      "text/html": [
       "<div>\n",
       "<style scoped>\n",
       "    .dataframe tbody tr th:only-of-type {\n",
       "        vertical-align: middle;\n",
       "    }\n",
       "\n",
       "    .dataframe tbody tr th {\n",
       "        vertical-align: top;\n",
       "    }\n",
       "\n",
       "    .dataframe thead th {\n",
       "        text-align: right;\n",
       "    }\n",
       "</style>\n",
       "<table border=\"1\" class=\"dataframe\">\n",
       "  <thead>\n",
       "    <tr style=\"text-align: right;\">\n",
       "      <th></th>\n",
       "      <th>intercept</th>\n",
       "      <th>icu_yn</th>\n",
       "      <th>age_group</th>\n",
       "      <th>hosp_yn</th>\n",
       "      <th>case_age_days</th>\n",
       "      <th>medcond_yn</th>\n",
       "    </tr>\n",
       "  </thead>\n",
       "  <tbody>\n",
       "    <tr>\n",
       "      <th>0</th>\n",
       "      <td>-10.555918</td>\n",
       "      <td>1.83713</td>\n",
       "      <td>6.126942</td>\n",
       "      <td>2.690406</td>\n",
       "      <td>1.205046</td>\n",
       "      <td>0.719347</td>\n",
       "    </tr>\n",
       "  </tbody>\n",
       "</table>\n",
       "</div>"
      ],
      "text/plain": [
       "   intercept   icu_yn  age_group   hosp_yn  case_age_days  medcond_yn\n",
       "0 -10.555918  1.83713   6.126942  2.690406       1.205046    0.719347"
      ]
     },
     "metadata": {},
     "output_type": "display_data"
    },
    {
     "data": {
      "image/png": "[encoded data removed]",
      "text/plain": [
       "<Figure size 432x288 with 1 Axes>"
      ]
     },
     "metadata": {
      "needs_background": "light"
     },
     "output_type": "display_data"
    }
   ],
   "source": [
    "info = model_info(logistic, iter1)\n",
    "\n",
    "display(info)\n",
    "info.plot(kind=\"bar\");"
   ]
  },
  {
   "cell_type": "markdown",
   "id": "brilliant-patrol",
   "metadata": {},
   "source": [
    "This graph of coefficients has similar properties to that for the linear model, which is no surprise. While the two models differ in the shape of the curve (or hyperplane) they apply to the data, they both follow a general principle of weighting significant features more, and, for our case, weighting risk factors against and initial intercept.\n",
    "\n",
    "So age takes the lead as the most significant factor. I still think the y/n features are being undervalued here and will be more useful with indicator variables to support them. case_age_days is apprently not particularly significant in comparison to age."
   ]
  },
  {
   "cell_type": "code",
   "execution_count": 562,
   "id": "decreased-wrist",
   "metadata": {},
   "outputs": [
    {
     "data": {
      "text/plain": [
       "0    0.0\n",
       "1    0.0\n",
       "2    0.0\n",
       "3    0.0\n",
       "4    0.0\n",
       "5    0.0\n",
       "6    0.0\n",
       "7    0.0\n",
       "8    0.0\n",
       "9    0.0\n",
       "dtype: float64"
      ]
     },
     "execution_count": 562,
     "metadata": {},
     "output_type": "execute_result"
    }
   ],
   "source": [
    "prediction = predict(logistic, iter1, training_only=True)\n",
    "prediction.head(10)"
   ]
  },
  {
   "cell_type": "code",
   "execution_count": 563,
   "id": "motivated-jewelry",
   "metadata": {},
   "outputs": [
    {
     "data": {
      "text/html": [
       "<div>\n",
       "<style scoped>\n",
       "    .dataframe tbody tr th:only-of-type {\n",
       "        vertical-align: middle;\n",
       "    }\n",
       "\n",
       "    .dataframe tbody tr th {\n",
       "        vertical-align: top;\n",
       "    }\n",
       "\n",
       "    .dataframe thead th {\n",
       "        text-align: right;\n",
       "    }\n",
       "</style>\n",
       "<table border=\"1\" class=\"dataframe\">\n",
       "  <thead>\n",
       "    <tr style=\"text-align: right;\">\n",
       "      <th></th>\n",
       "      <th>Alive</th>\n",
       "      <th>Dead</th>\n",
       "    </tr>\n",
       "  </thead>\n",
       "  <tbody>\n",
       "    <tr>\n",
       "      <th>Alive</th>\n",
       "      <td>6227</td>\n",
       "      <td>36</td>\n",
       "    </tr>\n",
       "    <tr>\n",
       "      <th>Dead</th>\n",
       "      <td>184</td>\n",
       "      <td>56</td>\n",
       "    </tr>\n",
       "  </tbody>\n",
       "</table>\n",
       "</div>"
      ],
      "text/plain": [
       "       Alive  Dead\n",
       "Alive   6227    36\n",
       "Dead     184    56"
      ]
     },
     "metadata": {},
     "output_type": "display_data"
    },
    {
     "data": {
      "text/plain": [
       "accuracy     0.966169\n",
       "precision    0.608696\n",
       "recall       0.233333\n",
       "F1           0.337349\n",
       "dtype: float64"
      ]
     },
     "metadata": {},
     "output_type": "display_data"
    }
   ],
   "source": [
    "prediction = predict(logistic, iter1, training_only=True)\n",
    "actual = iter1.y_train\n",
    "\n",
    "display(confusion(actual, prediction))\n",
    "display(class_metrics(confusion(actual, prediction)))"
   ]
  },
  {
   "cell_type": "markdown",
   "id": "chubby-newspaper",
   "metadata": {},
   "source": [
    "Low recall and high precision, combined to make an F1 that is lower than the ones I've come to expect from the linear model, which is interesting.\n",
    "\n",
    "The accuracy is significantly higher, since the precision of the positive when it makes a positive is much higher."
   ]
  },
  {
   "cell_type": "code",
   "execution_count": 564,
   "id": "surrounded-subscriber",
   "metadata": {},
   "outputs": [
    {
     "data": {
      "text/html": [
       "<div>\n",
       "<style scoped>\n",
       "    .dataframe tbody tr th:only-of-type {\n",
       "        vertical-align: middle;\n",
       "    }\n",
       "\n",
       "    .dataframe tbody tr th {\n",
       "        vertical-align: top;\n",
       "    }\n",
       "\n",
       "    .dataframe thead th {\n",
       "        text-align: right;\n",
       "    }\n",
       "</style>\n",
       "<table border=\"1\" class=\"dataframe\">\n",
       "  <thead>\n",
       "    <tr style=\"text-align: right;\">\n",
       "      <th></th>\n",
       "      <th>Alive</th>\n",
       "      <th>Dead</th>\n",
       "    </tr>\n",
       "  </thead>\n",
       "  <tbody>\n",
       "    <tr>\n",
       "      <th>Alive</th>\n",
       "      <td>2677</td>\n",
       "      <td>14</td>\n",
       "    </tr>\n",
       "    <tr>\n",
       "      <th>Dead</th>\n",
       "      <td>76</td>\n",
       "      <td>20</td>\n",
       "    </tr>\n",
       "  </tbody>\n",
       "</table>\n",
       "</div>"
      ],
      "text/plain": [
       "       Alive  Dead\n",
       "Alive   2677    14\n",
       "Dead      76    20"
      ]
     },
     "metadata": {},
     "output_type": "display_data"
    },
    {
     "data": {
      "text/plain": [
       "accuracy     0.967707\n",
       "precision    0.588235\n",
       "recall       0.208333\n",
       "F1           0.307692\n",
       "dtype: float64"
      ]
     },
     "metadata": {},
     "output_type": "display_data"
    }
   ],
   "source": [
    "prediction = predict(logistic, iter1)\n",
    "actual = iter1.y_test\n",
    "\n",
    "display(confusion(actual, prediction))\n",
    "display(class_metrics(confusion(actual, prediction)))"
   ]
  },
  {
   "cell_type": "markdown",
   "id": "tracked-alpha",
   "metadata": {},
   "source": [
    "The metrics are much the same for training as for test data, as before. The test data scored a little better this time, but given the kfold results in the next cell that looks like noise to me rather than overfitting."
   ]
  },
  {
   "cell_type": "code",
   "execution_count": 565,
   "id": "miniature-timer",
   "metadata": {},
   "outputs": [
    {
     "data": {
      "text/plain": [
       "accuracy     0.966631\n",
       "precision    0.620144\n",
       "recall       0.232206\n",
       "F1           0.334285\n",
       "dtype: float64"
      ]
     },
     "execution_count": 565,
     "metadata": {},
     "output_type": "execute_result"
    }
   ],
   "source": [
    "kfold(10, logistic, iter1)"
   ]
  },
  {
   "cell_type": "markdown",
   "id": "weird-arctic",
   "metadata": {},
   "source": [
    "The model holds up well under kfolding - these metrics are roughly the same (maybe a little better) than the ones above."
   ]
  },
  {
   "cell_type": "markdown",
   "id": "colonial-windsor",
   "metadata": {},
   "source": [
    "Part 4: Random Forests\n",
    "=="
   ]
  },
  {
   "cell_type": "code",
   "execution_count": 566,
   "id": "hollywood-caribbean",
   "metadata": {},
   "outputs": [],
   "source": [
    "rforest = sklearn.ensemble.RandomForestClassifier"
   ]
  },
  {
   "cell_type": "code",
   "execution_count": 567,
   "id": "banned-couple",
   "metadata": {},
   "outputs": [
    {
     "data": {
      "text/plain": [
       "0    0.0\n",
       "1    0.0\n",
       "2    0.0\n",
       "3    0.0\n",
       "4    1.0\n",
       "5    0.0\n",
       "6    0.0\n",
       "7    0.0\n",
       "8    0.0\n",
       "9    0.0\n",
       "dtype: float64"
      ]
     },
     "execution_count": 567,
     "metadata": {},
     "output_type": "execute_result"
    }
   ],
   "source": [
    "prediction = predict(rforest, iter1)\n",
    "prediction.head(10)"
   ]
  },
  {
   "cell_type": "markdown",
   "id": "formal-christopher",
   "metadata": {},
   "source": [
    "The interpretation of Random Forests is a lot trickier than for the previous two models. They are often described as black boxes, and I can see why.\n",
    "\n",
    "I started by printing out a few decision trees using the code below (replacing the \"count\" parameter with a higher number), but it was quickly evident that the trees were all wildly different. And even if they were not, the full tree is quite large."
   ]
  },
  {
   "cell_type": "code",
   "execution_count": 568,
   "id": "valuable-emperor",
   "metadata": {},
   "outputs": [
    {
     "data": {
      "image/png": "[encoded data removed]",
      "text/plain": [
       "<Figure size 720x288 with 1 Axes>"
      ]
     },
     "metadata": {
      "needs_background": "light"
     },
     "output_type": "display_data"
    }
   ],
   "source": [
    "def show_trees(data, count):\n",
    "    \n",
    "    model = rforest(random_state=0)\n",
    "    model.fit(data.X_train, data.y_train)\n",
    "    \n",
    "    for i in range(min(count, len(model.estimators_))):\n",
    "        tree = model.estimators_[i]\n",
    "        plt.figure(figsize=(10,4))\n",
    "        sklearn.tree.plot_tree(tree, ax=plt.gca(), max_depth=2, filled=True, fontsize=7,\n",
    "                              class_names=[\"No\", \"Yes\"], feature_names=iter1.X.columns);\n",
    "        \n",
    "show_trees(iter1, count=1)"
   ]
  },
  {
   "cell_type": "markdown",
   "id": "laughing-friendly",
   "metadata": {},
   "source": [
    "There are the \"feature importance\" metrics in SKLearn, which may provide some insight.\n",
    "\n",
    "The first of these considers the change in certainty (or impurity) as a particular record moves down the tree. It tallies the contribution of each feature towards becoming more certain of a class. For example, if after splitting on a certain feature we move to a node with a greater \"yes\" proportion, we can say that that feature contributed towards a \"yes\" prediction."
   ]
  },
  {
   "cell_type": "code",
   "execution_count": 569,
   "id": "understood-delicious",
   "metadata": {},
   "outputs": [
    {
     "data": {
      "text/plain": [
       "<AxesSubplot:>"
      ]
     },
     "execution_count": 569,
     "metadata": {},
     "output_type": "execute_result"
    },
    {
     "data": {
      "image/png": "[encoded data removed]",
      "text/plain": [
       "<Figure size 432x288 with 1 Axes>"
      ]
     },
     "metadata": {
      "needs_background": "light"
     },
     "output_type": "display_data"
    }
   ],
   "source": [
    "model = rforest(random_state=0)\n",
    "model.fit(iter1.X_train, iter1.y_train)\n",
    "\n",
    "results = model.feature_importances_ # This is an impurity based metric, according to the SKLearn docs.\n",
    "pd.DataFrame([results], columns=iter1.X_train.columns).plot(kind=\"bar\")"
   ]
  },
  {
   "cell_type": "markdown",
   "id": "theoretical-governor",
   "metadata": {},
   "source": [
    "The results show case_age_days as being the most important by far, which is extremely surprising. \n",
    "\n",
    "This starts to make more sense when the warning on the SKLearn documentation is taken into account, which says that the importance for a feature with many classes may be overestimated - case_age_days, being spread out over 400 days or so, has many many more classes than the other features.\n",
    "\n",
    "Furthermore, this method of estimating importance is based on training data only and does not take the loss of prediction skill when test data is considered.\n",
    "\n",
    "The doc can be found here: https://scikit-learn.org/stable/auto_examples/ensemble/plot_forest_importances.html"
   ]
  },
  {
   "cell_type": "markdown",
   "id": "cooked-tsunami",
   "metadata": {},
   "source": [
    "The documentation points towards a simpler metric that can be based on test data rather than training data, where high-cardinality features and overfitting do not cause problems. This is called \"permutation importance\".\n",
    "\n",
    "It corrupts one column at a time, takes the resulting decrease in score to be a measure of the importance of that feature. i.e. the more important the column, the more skill we lose when it is taken away.\n",
    "\n",
    "The docs for this one can be found here: https://scikit-learn.org/stable/modules/permutation_importance.html#permutation-importance"
   ]
  },
  {
   "cell_type": "code",
   "execution_count": 570,
   "id": "available-playlist",
   "metadata": {},
   "outputs": [],
   "source": [
    "def permutation_importance(model_type, data, scoring=None, weights=None):\n",
    "\n",
    "    try:\n",
    "        model = model_type(random_state=0)\n",
    "    except:\n",
    "        model = model_type()\n",
    "        \n",
    "    model.fit(data.X_train, data.y_train)\n",
    "\n",
    "    result = sklearn.inspection.permutation_importance(\n",
    "        model, data.X_test, data.y_test, n_repeats=10, \n",
    "        random_state=0, scoring=scoring, sample_weight=weights)\n",
    "    \n",
    "    return pd.DataFrame([result[\"importances_mean\"]], columns=data.X_train.columns)"
   ]
  },
  {
   "cell_type": "code",
   "execution_count": 571,
   "id": "later-blake",
   "metadata": {},
   "outputs": [
    {
     "data": {
      "text/plain": [
       "<AxesSubplot:>"
      ]
     },
     "execution_count": 571,
     "metadata": {},
     "output_type": "execute_result"
    },
    {
     "data": {
      "image/png": "[encoded data removed]",
      "text/plain": [
       "<Figure size 432x288 with 1 Axes>"
      ]
     },
     "metadata": {
      "needs_background": "light"
     },
     "output_type": "display_data"
    }
   ],
   "source": [
    "permutation_importance(rforest, iter1).plot(kind=\"bar\")"
   ]
  },
  {
   "cell_type": "markdown",
   "id": "compact-whale",
   "metadata": {},
   "source": [
    "This is more similar to the weights in the logistic/regression models, with the exception of icu. At first I was just confused by that in particular. (I cannot even blame the encoding this time, since a decision tree can choose ranges precisely and effectively re-encode things) \n",
    "\n",
    "However, it later occurred to me that the scoring metric was *accuracy* in this case. We know that because of the overwhleming imbalance in the target feature, any predictor that starts trying to predict with some recall tends to lose some accuracy. So icu being negative here is possibly a good thing.\n",
    "\n",
    "That also means that removing the others each *decreased* accuracy, which is almost counter-intuitive now.\n",
    "\n",
    "Before reading to much into this, though, and trying to explain it, I note that the magnitude of these changes is very, very small - less than 1%. All in all, this is deceptively nice looking graph, with simple intuitive origins, that is nonetheless hard to interpret."
   ]
  },
  {
   "cell_type": "markdown",
   "id": "fixed-citizenship",
   "metadata": {},
   "source": [
    "A perhaps easier (if less directly intuitive) metric to deal with is F1."
   ]
  },
  {
   "cell_type": "code",
   "execution_count": 275,
   "id": "elder-field",
   "metadata": {},
   "outputs": [
    {
     "data": {
      "text/plain": [
       "<AxesSubplot:>"
      ]
     },
     "execution_count": 275,
     "metadata": {},
     "output_type": "execute_result"
    },
    {
     "data": {
      "image/png": "[encoded data removed]",
      "text/plain": [
       "<Figure size 432x288 with 1 Axes>"
      ]
     },
     "metadata": {
      "needs_background": "light"
     },
     "output_type": "display_data"
    }
   ],
   "source": [
    "permutation_importance(rforest, iter1, \"f1\").plot(kind=\"bar\")"
   ]
  },
  {
   "cell_type": "markdown",
   "id": "significant-logan",
   "metadata": {},
   "source": [
    "Two things are immediately apparent - the proportionate change is score is much more significant now, and the magnitudes are as expected. \n",
    "\n",
    "It is still surprising to me that icu is so low. One thing to note is that the tree may spread out responsibility accross features acting as proxies to each other - it could be that between age_group and hosp_yn it has most of the information captured that icu_yn can give, or something like that."
   ]
  },
  {
   "cell_type": "markdown",
   "id": "innocent-cheese",
   "metadata": {},
   "source": [
    "We can also look at the accuracy each each class seperately."
   ]
  },
  {
   "cell_type": "code",
   "execution_count": 644,
   "id": "dramatic-growth",
   "metadata": {},
   "outputs": [
    {
     "data": {
      "text/plain": [
       "<AxesSubplot:>"
      ]
     },
     "execution_count": 644,
     "metadata": {},
     "output_type": "execute_result"
    },
    {
     "data": {
      "image/png": "[encoded data removed]",
      "text/plain": [
       "<Figure size 432x288 with 1 Axes>"
      ]
     },
     "metadata": {
      "needs_background": "light"
     },
     "output_type": "display_data"
    }
   ],
   "source": [
    "def feature_importances_by_class(data):\n",
    "\n",
    "    # class 0\n",
    "    weights = 1 - data.y_test\n",
    "    result_0 = permutation_importance(rforest, data, \"accuracy\", weights)\n",
    "\n",
    "    #class 1\n",
    "    weights = data.y_test\n",
    "    result_1 = permutation_importance(rforest, data, \"accuracy\", weights)\n",
    "    result_1.index = [1]\n",
    "\n",
    "    return pd.concat([result_0, result_1])\n",
    "\n",
    "feature_importances_by_class(iter1).plot(kind=\"bar\")"
   ]
  },
  {
   "cell_type": "markdown",
   "id": "creative-pharmaceutical",
   "metadata": {},
   "source": [
    "I like this graph in part because it highlights how small the effect on accuracy is in the positive case. The results for f1 scoring are reflected in the accuracy of the positive class."
   ]
  },
  {
   "cell_type": "markdown",
   "id": "alternative-polish",
   "metadata": {},
   "source": [
    "The one issue I have with using permutation importance here is that it mixes scoring features with interpreting the model in a way that one cannot separate just looking at the graph. For all we know, there could be a feature that the tree uses all the time but that had little effect on the score. If the tree were to have that kind of strong hidden dependence on a feature, and the feature were to change dramatically, it could have unexpected effects.\n",
    "\n",
    "That seems to be something the impurity based metric would be good at capturing. I gave a go at writing my own, based on test data rather than training data, in the hopes that it might avoid some of the pitfalls that are noted about the in-built one.\n",
    "\n",
    "This attempt required a bit of rooting around the SKLearn docs. I found this link very very helpful:\n",
    "https://scikit-learn.org/stable/auto_examples/tree/plot_unveil_tree_structure.html#sphx-glr-auto-examples-tree-plot-unveil-tree-structure-py\n",
    "\n",
    "It was an interesting rabbit hole, but the code is finicky and not well tested so I'm not at all confident that it is actually accurate!"
   ]
  },
  {
   "cell_type": "code",
   "execution_count": 318,
   "id": "demanding-horizontal",
   "metadata": {},
   "outputs": [],
   "source": [
    "def feature_importances(tree, data, prev_prediction=None):\n",
    "    \n",
    "    X = data.X_test\n",
    "    y = data.y_test\n",
    "    \n",
    "    # We can precompute some values for each \n",
    "    # node in the tree to help performance a little.\n",
    "    \n",
    "    N = len(tree.value)\n",
    "    decision = np.zeros(N) # If we stopped at this node, which would we choose?\n",
    "    certainty = np.zeros(N) # How certain of the decision are we?\n",
    "    features = [None]*N  # The relevant feature series from the training dataframe\n",
    "    \n",
    "    for node in range(N):\n",
    "        \n",
    "        a, b = tree.value[node][0]\n",
    "        if a >= b:\n",
    "            decision[node] = 0\n",
    "        else:\n",
    "            decision[node] = 1\n",
    "        if a < b:\n",
    "            a, b = b, a\n",
    "        certainty[node] = a/(a+b)\n",
    "        \n",
    "        if tree.feature[node] >= 0:\n",
    "            name = X.columns[tree.feature[node]]\n",
    "            features[node] = X[name]\n",
    "        \n",
    "    # Now, follow the path of each record through the tree.\n",
    "    # Record importances, but also record a prediction as a consistency\n",
    "    # check, to help make sure we are correctly navigating the tree.\n",
    "        \n",
    "    importances = np.zeros(len(X.columns))\n",
    "    importances_i = np.zeros(len(X.columns) + 1) # \"+ 1\" is to give the array a dummy slot used below.\n",
    "    prediction = np.zeros(len(X))\n",
    "    \n",
    "    # I'm also interested in the breakdown of importance for yes vs no predictions\n",
    "    \n",
    "    importances_yes = np.zeros(len(X.columns))\n",
    "    importances_no = np.zeros(len(X.columns))\n",
    "    \n",
    "    for record_i in range(len(X)):\n",
    "        \n",
    "        importances_i[:] = 0\n",
    "        # This is the dummy slot in the array, since there is no initial\n",
    "        # previous feature.\n",
    "        previous_feature = len(importances_i) - 1 \n",
    "        record = X.index[record_i]\n",
    "        node = 0\n",
    "        old_certainty = certainty[node]\n",
    "        \n",
    "        if prev_prediction is None:\n",
    "            actual_value = y[y.index[record_i]]\n",
    "        else:\n",
    "            actual_value = prev_prediction[record_i]\n",
    "        \n",
    "        while True:\n",
    "            \n",
    "            # How has the previous branch affected certainty?\n",
    "            \n",
    "            new_certainty = certainty[node]\n",
    "            delta = new_certainty - old_certainty\n",
    "            \n",
    "            if decision[node] != actual_value:\n",
    "                # An increase in certainty in the wrong direction!\n",
    "                delta *= -1\n",
    "            \n",
    "            importances_i[previous_feature] = delta\n",
    "            \n",
    "            # If we have reached a leaf, break\n",
    "            \n",
    "            if tree.children_left[node] == -1:\n",
    "                break\n",
    "\n",
    "            old_certainty = new_certainty\n",
    "            previous_feature = tree.feature[node]\n",
    "                \n",
    "            # Figure out where to go next in the\n",
    "            # tree.\n",
    "                \n",
    "            feature_value = features[node][record]\n",
    "            threshold = tree.threshold[node]\n",
    "            if feature_value <= threshold:\n",
    "                node = tree.children_left[node]\n",
    "            else:\n",
    "                node = tree.children_right[node]\n",
    "            \n",
    "        prediction[record_i] = decision[node]\n",
    "            \n",
    "        # Normalize for the current run, so that longer paths\n",
    "        # are not valued more than shorter paths\n",
    "        importances_i /= np.abs(importances_i[0:-1]).sum()\n",
    "        \n",
    "        # Add to the overall tally. \n",
    "        # [0:-1] is because we do not include the dummy slot here.\n",
    "        importances += importances_i[0:-1]\n",
    "        if actual_value == 1:\n",
    "            importances_yes += importances_i[0:-1]\n",
    "        else:\n",
    "            importances_no += importances_i[0:-1]\n",
    "        \n",
    "    # Normalize each so that they can be compared.\n",
    "    importances /= np.abs(importances).sum()\n",
    "    importances_yes /= np.abs(importances_yes).sum()\n",
    "    importances_no /= np.abs(importances_no).sum()\n",
    "            \n",
    "    return prediction, importances, importances_yes, importances_no"
   ]
  },
  {
   "cell_type": "markdown",
   "id": "sublime-bailey",
   "metadata": {},
   "source": [
    "Note - I'm printing out the predictions made by this function as well as the importances as a consistency check. They match below, but I've also seen them differ by a small amount occasionally - I think there might be some edge cases or minor details regarding comparison with which I have not matched the original SKLearn version."
   ]
  },
  {
   "cell_type": "code",
   "execution_count": 357,
   "id": "organic-imperial",
   "metadata": {},
   "outputs": [
    {
     "data": {
      "text/html": [
       "<div>\n",
       "<style scoped>\n",
       "    .dataframe tbody tr th:only-of-type {\n",
       "        vertical-align: middle;\n",
       "    }\n",
       "\n",
       "    .dataframe tbody tr th {\n",
       "        vertical-align: top;\n",
       "    }\n",
       "\n",
       "    .dataframe thead th {\n",
       "        text-align: right;\n",
       "    }\n",
       "</style>\n",
       "<table border=\"1\" class=\"dataframe\">\n",
       "  <thead>\n",
       "    <tr style=\"text-align: right;\">\n",
       "      <th></th>\n",
       "      <th>Actual</th>\n",
       "      <th>Test</th>\n",
       "      <th>Test II</th>\n",
       "    </tr>\n",
       "  </thead>\n",
       "  <tbody>\n",
       "    <tr>\n",
       "      <th>0</th>\n",
       "      <td>2694</td>\n",
       "      <td>2694</td>\n",
       "      <td>2694</td>\n",
       "    </tr>\n",
       "    <tr>\n",
       "      <th>1</th>\n",
       "      <td>93</td>\n",
       "      <td>93</td>\n",
       "      <td>93</td>\n",
       "    </tr>\n",
       "  </tbody>\n",
       "</table>\n",
       "</div>"
      ],
      "text/plain": [
       "   Actual  Test  Test II\n",
       "0    2694  2694     2694\n",
       "1      93    93       93"
      ]
     },
     "metadata": {},
     "output_type": "display_data"
    },
    {
     "data": {
      "text/plain": [
       "<matplotlib.legend.Legend at 0x27bf3239470>"
      ]
     },
     "execution_count": 357,
     "metadata": {},
     "output_type": "execute_result"
    },
    {
     "data": {
      "image/png": "[encoded data removed]",
      "text/plain": [
       "<Figure size 648x288 with 2 Axes>"
      ]
     },
     "metadata": {
      "needs_background": "light"
     },
     "output_type": "display_data"
    }
   ],
   "source": [
    "model = rforest(random_state=0)\n",
    "model.fit(iter1.X_train, iter1.y_train)\n",
    "dtree = model.estimators_[0]\n",
    "\n",
    "data = iter1\n",
    "\n",
    "# Actual prediction, according the SKLearn\n",
    "\n",
    "actual_prediction = dtree.predict(data.X_test)\n",
    "\n",
    "# Importances during our own navigation, comparing changes in\n",
    "# certainty to the actual value.\n",
    "\n",
    "test_prediction, i, i_yes, i_no = feature_importances(dtree.tree_, data)\n",
    "\n",
    "# Importances during our own navigation, comparing changes in\n",
    "# certainty to the final predicted value.\n",
    "\n",
    "prev_prediction = test_prediction\n",
    "test_prediction_2, i2, i2_yes, i2_no = feature_importances(dtree.tree_, data, prediction)\n",
    "\n",
    "# Display\n",
    "\n",
    "consistency = pd.DataFrame([\n",
    "    pd.Series(actual_prediction).value_counts(), \n",
    "    pd.Series(test_prediction).value_counts(), \n",
    "    pd.Series(test_prediction_2).value_counts()\n",
    "], index=[\"Actual\", \"Test\", \"Test II\"], columns=[0, 1])\n",
    "display(consistency.T)\n",
    "\n",
    "_, ax = plt.subplots(1, 2, figsize=(9,4))\n",
    "\n",
    "frame = pd.DataFrame([i, i_yes, i_no],\n",
    "    columns=data.X_test.columns, \n",
    "    index=[\"all\", \"yes\", \"no\"])\n",
    "frame.plot(kind=\"bar\", ax=ax[0], legend=False,\n",
    "           title=\"Contribution towards Actual Class\");\n",
    "\n",
    "frame = pd.DataFrame([i2, i2_yes, i2_no],\n",
    "    columns=data.X_test.columns, \n",
    "    index=[\"all\", \"yes\", \"no\"])\n",
    "frame.plot(kind=\"bar\", ax=ax[1],\n",
    "          title=\"Contribution towards Predicted Class\");\n",
    "plt.legend(loc=(1.1,0.6))"
   ]
  },
  {
   "cell_type": "markdown",
   "id": "compound-three",
   "metadata": {},
   "source": [
    "The above graphs are just for one tree. It's actually quite fun to cycle through the trees - while there are general trends, some are so different from the others.\n",
    "\n",
    "Next, average the result across all trees. This cell takes a long time to run, so I've commented out the actual lines generating the graph and am displaying the picture displaying instead, for now."
   ]
  },
  {
   "cell_type": "code",
   "execution_count": 364,
   "id": "turned-declaration",
   "metadata": {},
   "outputs": [
    {
     "data": {
      "image/png": "[encoded data removed]",
      "text/plain": [
       "<Figure size 648x288 with 2 Axes>"
      ]
     },
     "metadata": {
      "needs_background": "light"
     },
     "output_type": "display_data"
    }
   ],
   "source": [
    "def feature_importances_combined(forest, count, data):\n",
    "    \n",
    "    # 2 types of importances, 3 classes, N columns\n",
    "    \n",
    "    N = len(data.X_test.columns)\n",
    "    totals = np.zeros([2, 3, N])\n",
    "    \n",
    "    # Tally individual tree scores for each\n",
    "    \n",
    "    for index in range(count):\n",
    "        dtree = forest.estimators_[index]\n",
    "        prev_prediction, i11, i12, i13 = feature_importances(dtree.tree_, data)\n",
    "        _, i21, i22, i23 = feature_importances(dtree.tree_, data, prev_prediction)\n",
    "        totals += [[i11, i12, i13], [i21, i22, i23]]\n",
    "    \n",
    "    # Normalize each result\n",
    "    \n",
    "    for i in range(2):\n",
    "        for j in range(3):\n",
    "            totals[i, j, :] /= np.abs(totals[i, j, :]).sum()\n",
    "    \n",
    "    # Display\n",
    "    \n",
    "    _, ax = plt.subplots(1, 2, figsize=(9,4))\n",
    "    \n",
    "    frame = pd.DataFrame(totals[0], \n",
    "        columns=data.X_test.columns, \n",
    "        index=[\"all\", \"yes\", \"no\"])\n",
    "    frame.plot(kind=\"bar\", ax=ax[0], legend=False,\n",
    "               title=\"Contribution towards Actual Class\")\n",
    "    \n",
    "    frame = pd.DataFrame(totals[1], \n",
    "        columns=data.X_test.columns, \n",
    "        index=[\"all\", \"yes\", \"no\"])\n",
    "    frame.plot(kind=\"bar\", ax=ax[1], \n",
    "               title=\"Contribution towards Predicted Class\")\n",
    "    \n",
    "    plt.legend(loc=(1.1,0.6))\n",
    "\n",
    "\n",
    "model = rforest(random_state=0)\n",
    "model.fit(iter1.X_train, iter1.y_train)\n",
    "feature_importances_combined(model, len(model.estimators_), iter1)"
   ]
  },
  {
   "cell_type": "markdown",
   "id": "spare-ceramic",
   "metadata": {},
   "source": [
    "Predicted vs. Actual is interesting here, especially in the yes-only case. Case age featured greatly in the prediction, but the sum total was actually to push the tree away from the correct answer. This could be overfitting at play. I'm straying into discussion about scores again though, the point is that case_age_days features a lot in the decision tree.\n",
    "\n",
    "This also echoes the the result from the original in-built method. I read the warning in the docs as a being about a flaw in method, but I think that was from the perspective of scoring features - it's actually quite relevant when just thinking about how the model is doing things, rather than how well it is doing things.\n",
    "\n",
    "The same applies to icu and medcond on a lesser scale."
   ]
  },
  {
   "cell_type": "code",
   "execution_count": 365,
   "id": "mature-italy",
   "metadata": {},
   "outputs": [
    {
     "data": {
      "text/html": [
       "<div>\n",
       "<style scoped>\n",
       "    .dataframe tbody tr th:only-of-type {\n",
       "        vertical-align: middle;\n",
       "    }\n",
       "\n",
       "    .dataframe tbody tr th {\n",
       "        vertical-align: top;\n",
       "    }\n",
       "\n",
       "    .dataframe thead th {\n",
       "        text-align: right;\n",
       "    }\n",
       "</style>\n",
       "<table border=\"1\" class=\"dataframe\">\n",
       "  <thead>\n",
       "    <tr style=\"text-align: right;\">\n",
       "      <th></th>\n",
       "      <th>Alive</th>\n",
       "      <th>Dead</th>\n",
       "    </tr>\n",
       "  </thead>\n",
       "  <tbody>\n",
       "    <tr>\n",
       "      <th>Alive</th>\n",
       "      <td>6253</td>\n",
       "      <td>10</td>\n",
       "    </tr>\n",
       "    <tr>\n",
       "      <th>Dead</th>\n",
       "      <td>31</td>\n",
       "      <td>209</td>\n",
       "    </tr>\n",
       "  </tbody>\n",
       "</table>\n",
       "</div>"
      ],
      "text/plain": [
       "       Alive  Dead\n",
       "Alive   6253    10\n",
       "Dead      31   209"
      ]
     },
     "metadata": {},
     "output_type": "display_data"
    },
    {
     "data": {
      "text/plain": [
       "accuracy     0.993695\n",
       "precision    0.954338\n",
       "recall       0.870833\n",
       "F1           0.910675\n",
       "dtype: float64"
      ]
     },
     "metadata": {},
     "output_type": "display_data"
    }
   ],
   "source": [
    "prediction = predict(rforest, iter1, training_only=True)\n",
    "actual = iter1.y_train\n",
    "\n",
    "display(confusion(actual, prediction))\n",
    "display(class_metrics(confusion(actual, prediction)))"
   ]
  },
  {
   "cell_type": "markdown",
   "id": "fatal-mexico",
   "metadata": {},
   "source": [
    "Well, the F1 score for the training data is extremely high, vastly outperforming the other two models. Overfitting seems likely, so I'll move straight on to the test data."
   ]
  },
  {
   "cell_type": "code",
   "execution_count": 366,
   "id": "fixed-flooring",
   "metadata": {},
   "outputs": [
    {
     "data": {
      "text/html": [
       "<div>\n",
       "<style scoped>\n",
       "    .dataframe tbody tr th:only-of-type {\n",
       "        vertical-align: middle;\n",
       "    }\n",
       "\n",
       "    .dataframe tbody tr th {\n",
       "        vertical-align: top;\n",
       "    }\n",
       "\n",
       "    .dataframe thead th {\n",
       "        text-align: right;\n",
       "    }\n",
       "</style>\n",
       "<table border=\"1\" class=\"dataframe\">\n",
       "  <thead>\n",
       "    <tr style=\"text-align: right;\">\n",
       "      <th></th>\n",
       "      <th>Alive</th>\n",
       "      <th>Dead</th>\n",
       "    </tr>\n",
       "  </thead>\n",
       "  <tbody>\n",
       "    <tr>\n",
       "      <th>Alive</th>\n",
       "      <td>2644</td>\n",
       "      <td>47</td>\n",
       "    </tr>\n",
       "    <tr>\n",
       "      <th>Dead</th>\n",
       "      <td>58</td>\n",
       "      <td>38</td>\n",
       "    </tr>\n",
       "  </tbody>\n",
       "</table>\n",
       "</div>"
      ],
      "text/plain": [
       "       Alive  Dead\n",
       "Alive   2644    47\n",
       "Dead      58    38"
      ]
     },
     "metadata": {},
     "output_type": "display_data"
    },
    {
     "data": {
      "text/plain": [
       "accuracy     0.962325\n",
       "precision    0.447059\n",
       "recall       0.395833\n",
       "F1           0.419890\n",
       "dtype: float64"
      ]
     },
     "metadata": {},
     "output_type": "display_data"
    }
   ],
   "source": [
    "prediction = predict(rforest, iter1)\n",
    "actual = iter1.y_test\n",
    "\n",
    "display(confusion(actual, prediction))\n",
    "display(class_metrics(confusion(actual, prediction)))"
   ]
  },
  {
   "cell_type": "markdown",
   "id": "apparent-change",
   "metadata": {},
   "source": [
    "And indeed, the model scores much less well with the test data. It has fairly balanced precision and recall. The score is lower than it is for the fully adjusted linear model, but it is higher than the out-of-the-box logistic model.\n",
    "\n",
    "It makes sense that the random forest tends to overfit - the number of free parameters is vastly greater, so it can mold itself to the data really, really well. In fact, it can capture the sample data so well that the differences between the sample and test data become very significant."
   ]
  },
  {
   "cell_type": "markdown",
   "id": "convinced-palestinian",
   "metadata": {},
   "source": [
    "Now, for kfolding:"
   ]
  },
  {
   "cell_type": "code",
   "execution_count": 367,
   "id": "leading-paper",
   "metadata": {},
   "outputs": [
    {
     "data": {
      "text/plain": [
       "accuracy     0.957912\n",
       "precision    0.406748\n",
       "recall       0.341486\n",
       "F1           0.367855\n",
       "dtype: float64"
      ]
     },
     "execution_count": 367,
     "metadata": {},
     "output_type": "execute_result"
    }
   ],
   "source": [
    "kfold(10, rforest, iter1)"
   ]
  },
  {
   "cell_type": "markdown",
   "id": "piano-woman",
   "metadata": {},
   "source": [
    "The F1 score is lower again - either we got lucky with the train-test split, or the model is overfitting even more having 90% of the data available to it. It might be interesting to revisit this with a random forest that has fewer nodes on each tree."
   ]
  },
  {
   "cell_type": "markdown",
   "id": "surgical-butler",
   "metadata": {},
   "source": [
    "Part 5: Improvements\n",
    "=="
   ]
  },
  {
   "cell_type": "markdown",
   "id": "radio-destination",
   "metadata": {},
   "source": [
    "In terms of raw accuracy on the test data, the logistic model scores highest, with a score of 96%. The others are not far behind, both around 95%. (The linear one does need the threshold carefully adjusted for this, though)\n",
    "\n",
    "This is around the same as a model that predicts all negatives, since only about 3.6% of the data is positive, which means we'd expect the baseline all-no classifier to get about 96% accuracy."
   ]
  },
  {
   "cell_type": "code",
   "execution_count": 572,
   "id": "graphic-canal",
   "metadata": {},
   "outputs": [
    {
     "data": {
      "text/plain": [
       "0.036167922497308935"
      ]
     },
     "execution_count": 572,
     "metadata": {},
     "output_type": "execute_result"
    }
   ],
   "source": [
    "# How imbalanced was the original dataset?\n",
    "(a1_data.death_yn == \"Yes\").sum() / len(a1_data)"
   ]
  },
  {
   "cell_type": "markdown",
   "id": "virtual-macintosh",
   "metadata": {},
   "source": [
    "Of course, it is this imbalance in the data that makes accuracy a fairly terrible measure to begin with, unless we weight it in some way or rebalance the data.\n",
    "\n",
    "Taking F1 as our measure, the ranking is the exact opposite: the linear performs best at around 0.46, the random forest managest about 0.36 when kfolding (0.41 for the train-test split) and the logistic model is at 0.30.\n",
    "\n",
    "To summarize the thoughts about performance scattered above:\n",
    "\n",
    "**Linear Regression**\n",
    "   - Requires careful threshold tuning.\n",
    "   - Once tuned, it performs relatively well - it manages a precision and recall of almost 0.5. \n",
    "   - Performs just as well in kfold as it does on training data, more or less. \n",
    "   - age_group and hosp_yn are by far the most significant weights. \n",
    "   - It seems to be unable to leverage icu - perhaps because of the encoding?\n",
    "   \n",
    "\n",
    "**Logistic Regression**\n",
    "   - Similar weighting to the linear mode.\n",
    "   - Performs much worse. This might be because I do not know how to tune it, though.\n",
    "   - It's possible rebalancing the data could achieve the same affect as tuning.\n",
    "   - Again, re-encoding icu might help.\n",
    "   - Again, performs as well in kfold as in training data - no overfitting.\n",
    "   \n",
    "\n",
    "**Random Forest**\n",
    "   - Much harder to interpret, but seems to have similar priorities regarding features to the other two.\n",
    "   - Major difference with case_age_days - it seems to rely on it too much and overfit.\n",
    "   - Performs vastly better on training data - overfitting is an issue.\n",
    "   - Nonetheless, performs relatively well in kfold compared to the logistic regression."
   ]
  },
  {
   "cell_type": "markdown",
   "id": "confirmed-canyon",
   "metadata": {},
   "source": [
    "Ideas for improvements:\n",
    "   - Re-encode with dummy variables. (esp. relevant for linear & logistic models)\n",
    "   - Re-balance data. (eps. relevant for logistic model)\n",
    "   - Combine models, with weighting.\n",
    "   - Remove case_age_days for random forest.\n",
    "   - Add gender.\n",
    "   - Add indicator for age missing.\n",
    "  \n",
    "**Note 1:** I was originally intending to include the threshold tuning for the linear model in part 5 instead of part 2. I know part 2 specifically asks for a threshold of 0.5, sorry! But the model was completely crippled without it. I'm mentioning this here beause if it oversteps the bounds of part 2 it could be considered a part of part 5 instead.\n",
    "\n",
    "**Note 2:** Imputing age was a temporary measure to make interpreting the prototype model easy - it is such an important feature that it deserves at least a missing indicator."
   ]
  },
  {
   "cell_type": "markdown",
   "id": "handmade-computer",
   "metadata": {},
   "source": [
    "Applying Suggestions: Data Prep\n",
    "--"
   ]
  },
  {
   "cell_type": "markdown",
   "id": "given-battle",
   "metadata": {},
   "source": [
    "I'll start by creating some functions with which to apply suggestions, and then make a separate sectiontrying out various combinations of these.\n",
    "\n",
    "I'm not going to try combining models until the very end,."
   ]
  },
  {
   "cell_type": "markdown",
   "id": "enclosed-nowhere",
   "metadata": {},
   "source": [
    "First, regarding data balancing. There are two main ways of doing this - dropping records with the majority class, or duplicating records with the minority class. \n",
    "\n",
    "Going into this I have higher hopes for duplication, since that doesn't involve discarding most of the data. Both have pros and cons though and I'll define both here."
   ]
  },
  {
   "cell_type": "code",
   "execution_count": 573,
   "id": "stone-leather",
   "metadata": {},
   "outputs": [
    {
     "name": "stdout",
     "output_type": "stream",
     "text": [
      "undersample\n"
     ]
    },
    {
     "data": {
      "text/plain": [
       "1    336\n",
       "0    336\n",
       "Name: death_yn, dtype: int64"
      ]
     },
     "metadata": {},
     "output_type": "display_data"
    },
    {
     "name": "stdout",
     "output_type": "stream",
     "text": [
      "oversample\n"
     ]
    },
    {
     "data": {
      "text/plain": [
       "1    8954\n",
       "0    8954\n",
       "Name: death_yn, dtype: int64"
      ]
     },
     "metadata": {},
     "output_type": "display_data"
    }
   ],
   "source": [
    "def undersample(df):\n",
    "\n",
    "    random = np.random.RandomState(42)\n",
    "    \n",
    "    yes_only = (df[\"death_yn\"] == \"Yes\").astype(int)\n",
    "    no_only = 1 - yes_only\n",
    "    no_only_p = no_only / no_only.sum()\n",
    "    \n",
    "    target_count = yes_only.sum()\n",
    "    choice = random.choice(df.index, target_count, replace=False, p=no_only_p)\n",
    "    \n",
    "    yes_records = df[yes_only == 1]\n",
    "    no_records = df.loc[choice]\n",
    "    \n",
    "    return pd.concat([yes_records, no_records])\n",
    "    \n",
    "\n",
    "def oversample(df):\n",
    "    \n",
    "    random = np.random.RandomState(42)\n",
    "    \n",
    "    yes_only = (df[\"death_yn\"] == \"Yes\").astype(int)\n",
    "    no_only = 1 - yes_only\n",
    "    yes_only_p = yes_only / yes_only.sum()\n",
    "    \n",
    "    target_count = no_only.sum()\n",
    "    choice = random.choice(df.index, target_count, replace=True, p=yes_only_p)\n",
    "    \n",
    "    yes_records = df.loc[choice]\n",
    "    no_records = df[no_only == 1]\n",
    "    \n",
    "    return pd.concat([yes_records, no_records])\n",
    "\n",
    "\n",
    "# Quick test\n",
    "for sample_method in [undersample, oversample]:\n",
    "    print(sample_method.__name__)\n",
    "    result = sample_method(a1_data)\n",
    "    display((result.death_yn == \"Yes\").astype(int).value_counts())"
   ]
  },
  {
   "cell_type": "markdown",
   "id": "involved-september",
   "metadata": {},
   "source": [
    "Some feature sets. The two things being considered are the removal of case_age and the addition of gender."
   ]
  },
  {
   "cell_type": "code",
   "execution_count": 574,
   "id": "automatic-romantic",
   "metadata": {},
   "outputs": [],
   "source": [
    "base_features = [\n",
    "    \"icu_yn\",\n",
    "    \"age_group\",\n",
    "    \"hosp_yn\",\n",
    "    \"medcond_yn\",\n",
    "    \"death_yn\"\n",
    "]\n",
    "\n",
    "gender_feature = [\n",
    "    \"sex\"\n",
    "]\n",
    "\n",
    "case_age_feature = [\n",
    "    \"case_age_days\"\n",
    "]\n",
    "\n",
    "# The first iteration was `base_features + case_age_feature`"
   ]
  },
  {
   "cell_type": "markdown",
   "id": "familiar-tsunami",
   "metadata": {},
   "source": [
    "A new encoding function for age, taking missing values into account."
   ]
  },
  {
   "cell_type": "code",
   "execution_count": 684,
   "id": "comparable-novel",
   "metadata": {},
   "outputs": [
    {
     "data": {
      "text/html": [
       "<div>\n",
       "<style scoped>\n",
       "    .dataframe tbody tr th:only-of-type {\n",
       "        vertical-align: middle;\n",
       "    }\n",
       "\n",
       "    .dataframe tbody tr th {\n",
       "        vertical-align: top;\n",
       "    }\n",
       "\n",
       "    .dataframe thead th {\n",
       "        text-align: right;\n",
       "    }\n",
       "</style>\n",
       "<table border=\"1\" class=\"dataframe\">\n",
       "  <thead>\n",
       "    <tr style=\"text-align: right;\">\n",
       "      <th></th>\n",
       "      <th>age_group</th>\n",
       "      <th>age_group_missing</th>\n",
       "    </tr>\n",
       "  </thead>\n",
       "  <tbody>\n",
       "    <tr>\n",
       "      <th>0</th>\n",
       "      <td>0.444444</td>\n",
       "      <td>0</td>\n",
       "    </tr>\n",
       "    <tr>\n",
       "      <th>1</th>\n",
       "      <td>0.222222</td>\n",
       "      <td>0</td>\n",
       "    </tr>\n",
       "    <tr>\n",
       "      <th>2</th>\n",
       "      <td>0.222222</td>\n",
       "      <td>0</td>\n",
       "    </tr>\n",
       "  </tbody>\n",
       "</table>\n",
       "</div>"
      ],
      "text/plain": [
       "   age_group  age_group_missing\n",
       "0   0.444444                  0\n",
       "1   0.222222                  0\n",
       "2   0.222222                  0"
      ]
     },
     "metadata": {},
     "output_type": "display_data"
    },
    {
     "data": {
      "text/html": [
       "<div>\n",
       "<style scoped>\n",
       "    .dataframe tbody tr th:only-of-type {\n",
       "        vertical-align: middle;\n",
       "    }\n",
       "\n",
       "    .dataframe tbody tr th {\n",
       "        vertical-align: top;\n",
       "    }\n",
       "\n",
       "    .dataframe thead th {\n",
       "        text-align: right;\n",
       "    }\n",
       "</style>\n",
       "<table border=\"1\" class=\"dataframe\">\n",
       "  <thead>\n",
       "    <tr style=\"text-align: right;\">\n",
       "      <th></th>\n",
       "      <th>age_group</th>\n",
       "      <th>age_group_missing</th>\n",
       "    </tr>\n",
       "  </thead>\n",
       "  <tbody>\n",
       "    <tr>\n",
       "      <th>1130</th>\n",
       "      <td>0.0</td>\n",
       "      <td>1</td>\n",
       "    </tr>\n",
       "    <tr>\n",
       "      <th>1621</th>\n",
       "      <td>0.0</td>\n",
       "      <td>1</td>\n",
       "    </tr>\n",
       "    <tr>\n",
       "      <th>1875</th>\n",
       "      <td>0.0</td>\n",
       "      <td>1</td>\n",
       "    </tr>\n",
       "  </tbody>\n",
       "</table>\n",
       "</div>"
      ],
      "text/plain": [
       "      age_group  age_group_missing\n",
       "1130        0.0                  1\n",
       "1621        0.0                  1\n",
       "1875        0.0                  1"
      ]
     },
     "metadata": {},
     "output_type": "display_data"
    }
   ],
   "source": [
    "def encode_age_with_indicator(df):\n",
    "\n",
    "    # Replace \"Unknown\" with zero and add a \"missing indicator\"\n",
    "    df[\"age_group_missing\"] = (original.age_group == \"Unknown\").astype(int)\n",
    "    df.age_group = original.age_group.replace(\"Unknown\", \"0\")\n",
    "\n",
    "    # The rest is the same as before.\n",
    "    \n",
    "    labels = sorted(df.age_group.unique())\n",
    "    df.age_group = pd.Categorical(df.age_group, categories=labels, ordered=True)\n",
    "\n",
    "    df.age_group = df.age_group.cat.codes\n",
    "    age = df.age_group\n",
    "    df.age_group = (age - age.min()) / (age.max() - age.min())\n",
    "\n",
    "    \n",
    "# Quick test\n",
    "data = a1_data.copy()\n",
    "encode_age_with_indicator(data)\n",
    "columns = [\"age_group\", \"age_group_missing\"]\n",
    "display(data[columns].head(3))\n",
    "display(data[data.age_group_missing == True][columns].head(3))"
   ]
  },
  {
   "cell_type": "markdown",
   "id": "sunrise-decrease",
   "metadata": {},
   "source": [
    "Modify the previous encoding function to default to dummy variables. It does still allow for ordinal variables to be specified, though I'm not sure if I will use this."
   ]
  },
  {
   "cell_type": "code",
   "execution_count": 685,
   "id": "adult-mission",
   "metadata": {},
   "outputs": [
    {
     "data": {
      "text/html": [
       "<div>\n",
       "<style scoped>\n",
       "    .dataframe tbody tr th:only-of-type {\n",
       "        vertical-align: middle;\n",
       "    }\n",
       "\n",
       "    .dataframe tbody tr th {\n",
       "        vertical-align: top;\n",
       "    }\n",
       "\n",
       "    .dataframe thead th {\n",
       "        text-align: right;\n",
       "    }\n",
       "</style>\n",
       "<table border=\"1\" class=\"dataframe\">\n",
       "  <thead>\n",
       "    <tr style=\"text-align: right;\">\n",
       "      <th></th>\n",
       "      <th>icu_yn</th>\n",
       "      <th>age_group</th>\n",
       "      <th>hosp_yn</th>\n",
       "      <th>case_age_days</th>\n",
       "      <th>medcond_yn</th>\n",
       "      <th>death_yn</th>\n",
       "    </tr>\n",
       "  </thead>\n",
       "  <tbody>\n",
       "    <tr>\n",
       "      <th>0</th>\n",
       "      <td>Unknown</td>\n",
       "      <td>30 - 39 Years</td>\n",
       "      <td>No</td>\n",
       "      <td>246</td>\n",
       "      <td>Unknown</td>\n",
       "      <td>No</td>\n",
       "    </tr>\n",
       "    <tr>\n",
       "      <th>1</th>\n",
       "      <td>Unknown</td>\n",
       "      <td>10 - 19 Years</td>\n",
       "      <td>No</td>\n",
       "      <td>134</td>\n",
       "      <td>No</td>\n",
       "      <td>No</td>\n",
       "    </tr>\n",
       "    <tr>\n",
       "      <th>2</th>\n",
       "      <td>Unknown</td>\n",
       "      <td>10 - 19 Years</td>\n",
       "      <td>No</td>\n",
       "      <td>219</td>\n",
       "      <td>Unknown</td>\n",
       "      <td>No</td>\n",
       "    </tr>\n",
       "    <tr>\n",
       "      <th>3</th>\n",
       "      <td>Unknown</td>\n",
       "      <td>20 - 29 Years</td>\n",
       "      <td>Unknown</td>\n",
       "      <td>114</td>\n",
       "      <td>Unknown</td>\n",
       "      <td>No</td>\n",
       "    </tr>\n",
       "  </tbody>\n",
       "</table>\n",
       "</div>"
      ],
      "text/plain": [
       "    icu_yn      age_group  hosp_yn  case_age_days medcond_yn death_yn\n",
       "0  Unknown  30 - 39 Years       No            246    Unknown       No\n",
       "1  Unknown  10 - 19 Years       No            134         No       No\n",
       "2  Unknown  10 - 19 Years       No            219    Unknown       No\n",
       "3  Unknown  20 - 29 Years  Unknown            114    Unknown       No"
      ]
     },
     "metadata": {},
     "output_type": "display_data"
    },
    {
     "data": {
      "text/html": [
       "<div>\n",
       "<style scoped>\n",
       "    .dataframe tbody tr th:only-of-type {\n",
       "        vertical-align: middle;\n",
       "    }\n",
       "\n",
       "    .dataframe tbody tr th {\n",
       "        vertical-align: top;\n",
       "    }\n",
       "\n",
       "    .dataframe thead th {\n",
       "        text-align: right;\n",
       "    }\n",
       "</style>\n",
       "<table border=\"1\" class=\"dataframe\">\n",
       "  <thead>\n",
       "    <tr style=\"text-align: right;\">\n",
       "      <th></th>\n",
       "      <th>age_group</th>\n",
       "      <th>case_age_days</th>\n",
       "      <th>death_yn</th>\n",
       "      <th>icu_yn_No</th>\n",
       "      <th>icu_yn_Unknown</th>\n",
       "      <th>icu_yn_Yes</th>\n",
       "      <th>hosp_yn_No</th>\n",
       "      <th>hosp_yn_Unknown</th>\n",
       "      <th>hosp_yn_Yes</th>\n",
       "      <th>medcond_yn_No</th>\n",
       "      <th>medcond_yn_Unknown</th>\n",
       "      <th>medcond_yn_Yes</th>\n",
       "    </tr>\n",
       "  </thead>\n",
       "  <tbody>\n",
       "    <tr>\n",
       "      <th>0</th>\n",
       "      <td>30 - 39 Years</td>\n",
       "      <td>246</td>\n",
       "      <td>No</td>\n",
       "      <td>0</td>\n",
       "      <td>1</td>\n",
       "      <td>0</td>\n",
       "      <td>1</td>\n",
       "      <td>0</td>\n",
       "      <td>0</td>\n",
       "      <td>0</td>\n",
       "      <td>1</td>\n",
       "      <td>0</td>\n",
       "    </tr>\n",
       "    <tr>\n",
       "      <th>1</th>\n",
       "      <td>10 - 19 Years</td>\n",
       "      <td>134</td>\n",
       "      <td>No</td>\n",
       "      <td>0</td>\n",
       "      <td>1</td>\n",
       "      <td>0</td>\n",
       "      <td>1</td>\n",
       "      <td>0</td>\n",
       "      <td>0</td>\n",
       "      <td>1</td>\n",
       "      <td>0</td>\n",
       "      <td>0</td>\n",
       "    </tr>\n",
       "    <tr>\n",
       "      <th>2</th>\n",
       "      <td>10 - 19 Years</td>\n",
       "      <td>219</td>\n",
       "      <td>No</td>\n",
       "      <td>0</td>\n",
       "      <td>1</td>\n",
       "      <td>0</td>\n",
       "      <td>1</td>\n",
       "      <td>0</td>\n",
       "      <td>0</td>\n",
       "      <td>0</td>\n",
       "      <td>1</td>\n",
       "      <td>0</td>\n",
       "    </tr>\n",
       "    <tr>\n",
       "      <th>3</th>\n",
       "      <td>20 - 29 Years</td>\n",
       "      <td>114</td>\n",
       "      <td>No</td>\n",
       "      <td>0</td>\n",
       "      <td>1</td>\n",
       "      <td>0</td>\n",
       "      <td>0</td>\n",
       "      <td>1</td>\n",
       "      <td>0</td>\n",
       "      <td>0</td>\n",
       "      <td>1</td>\n",
       "      <td>0</td>\n",
       "    </tr>\n",
       "  </tbody>\n",
       "</table>\n",
       "</div>"
      ],
      "text/plain": [
       "       age_group  case_age_days death_yn  icu_yn_No  icu_yn_Unknown  \\\n",
       "0  30 - 39 Years            246       No          0               1   \n",
       "1  10 - 19 Years            134       No          0               1   \n",
       "2  10 - 19 Years            219       No          0               1   \n",
       "3  20 - 29 Years            114       No          0               1   \n",
       "\n",
       "   icu_yn_Yes  hosp_yn_No  hosp_yn_Unknown  hosp_yn_Yes  medcond_yn_No  \\\n",
       "0           0           1                0            0              0   \n",
       "1           0           1                0            0              1   \n",
       "2           0           1                0            0              0   \n",
       "3           0           0                1            0              0   \n",
       "\n",
       "   medcond_yn_Unknown  medcond_yn_Yes  \n",
       "0                   1               0  \n",
       "1                   0               0  \n",
       "2                   1               0  \n",
       "3                   1               0  "
      ]
     },
     "metadata": {},
     "output_type": "display_data"
    }
   ],
   "source": [
    "def encode_single_ordinal2(series):\n",
    "    \n",
    "    encoding = {\n",
    "        \"No\": 0,\n",
    "        \"Unknown\": 1,\n",
    "        \"Yes\": 2, \n",
    "    }\n",
    "    \n",
    "    new_series = series.replace(encoding)\n",
    "    new_series = new_series.astype(str).replace(encoding).astype(int)\n",
    "    new_series = (new_series - new_series.min()) / (new_series.max() - new_series.min())\n",
    "    \n",
    "    return new_series\n",
    "\n",
    "\n",
    "def encode_single_dummy(df, column_name):\n",
    "    \n",
    "    dummies = pd.get_dummies(df[column_name])\n",
    "    dummies.columns = column_name + \"_\" + dummies.columns.astype(str)\n",
    "    \n",
    "    new_df = df.drop(column_name, axis=1)\n",
    "    new_df = pd.concat([new_df, dummies], axis=1)\n",
    "    \n",
    "    return new_df\n",
    "    \n",
    "    \n",
    "def encode_mixed(df, ignore=[], ordinal=[]):\n",
    "    \n",
    "    original = df\n",
    "    new_df = original.copy()\n",
    "\n",
    "    for feature in original:\n",
    "\n",
    "        if feature in ignore:\n",
    "            continue\n",
    "        \n",
    "        if str(original.dtypes[feature]) != \"category\": \n",
    "            continue\n",
    "            \n",
    "        if feature in ordinal:\n",
    "            new_df[feature] = encode_single_ordinal2(original[feature])  \n",
    "        \n",
    "        else:    \n",
    "            new_df = encode_single_dummy(new_df, feature)\n",
    "        \n",
    "    return new_df\n",
    "        \n",
    "\n",
    "# Quick test\n",
    "display(iter1_data.head(4))\n",
    "display(encode_mixed(iter1_data, ignore=[\"age_group\", \"death_yn\"]).head(4))"
   ]
  },
  {
   "cell_type": "markdown",
   "id": "hairy-fountain",
   "metadata": {},
   "source": [
    "Testing Suggestions: Data Prep\n",
    "--"
   ]
  },
  {
   "cell_type": "markdown",
   "id": "dried-parcel",
   "metadata": {},
   "source": [
    "First, create convenience functions for displaying information about a model, since this will come up very often in the next section.\n",
    "\n",
    "This is a long function, but it is just a summary of the various metrics split across cells in Part 2."
   ]
  },
  {
   "cell_type": "code",
   "execution_count": 635,
   "id": "grave-detective",
   "metadata": {},
   "outputs": [
    {
     "data": {
      "text/html": [
       "<div>\n",
       "<style scoped>\n",
       "    .dataframe tbody tr th:only-of-type {\n",
       "        vertical-align: middle;\n",
       "    }\n",
       "\n",
       "    .dataframe tbody tr th {\n",
       "        vertical-align: top;\n",
       "    }\n",
       "\n",
       "    .dataframe thead th {\n",
       "        text-align: right;\n",
       "    }\n",
       "</style>\n",
       "<table border=\"1\" class=\"dataframe\">\n",
       "  <thead>\n",
       "    <tr style=\"text-align: right;\">\n",
       "      <th></th>\n",
       "      <th>intercept</th>\n",
       "      <th>icu_yn</th>\n",
       "      <th>age_group</th>\n",
       "      <th>hosp_yn</th>\n",
       "      <th>case_age_days</th>\n",
       "      <th>medcond_yn</th>\n",
       "    </tr>\n",
       "  </thead>\n",
       "  <tbody>\n",
       "    <tr>\n",
       "      <th>0</th>\n",
       "      <td>-0.139605</td>\n",
       "      <td>0.047549</td>\n",
       "      <td>0.171153</td>\n",
       "      <td>0.1387</td>\n",
       "      <td>0.062157</td>\n",
       "      <td>0.023527</td>\n",
       "    </tr>\n",
       "  </tbody>\n",
       "</table>\n",
       "</div>"
      ],
      "text/plain": [
       "   intercept    icu_yn  age_group  hosp_yn  case_age_days  medcond_yn\n",
       "0  -0.139605  0.047549   0.171153   0.1387       0.062157    0.023527"
      ]
     },
     "metadata": {},
     "output_type": "display_data"
    },
    {
     "data": {
      "image/png": "[encoded data removed]",
      "text/plain": [
       "<Figure size 1008x288 with 3 Axes>"
      ]
     },
     "metadata": {
      "needs_background": "light"
     },
     "output_type": "display_data"
    },
    {
     "name": "stdout",
     "output_type": "stream",
     "text": [
      "Area under ROC: 0.9261717297386612\n",
      "Chosen threshold: 0.1919\n"
     ]
    },
    {
     "data": {
      "text/html": [
       "<div>\n",
       "<style scoped>\n",
       "    .dataframe tbody tr th:only-of-type {\n",
       "        vertical-align: middle;\n",
       "    }\n",
       "\n",
       "    .dataframe tbody tr th {\n",
       "        vertical-align: top;\n",
       "    }\n",
       "\n",
       "    .dataframe thead th {\n",
       "        text-align: right;\n",
       "    }\n",
       "</style>\n",
       "<table border=\"1\" class=\"dataframe\">\n",
       "  <thead>\n",
       "    <tr style=\"text-align: right;\">\n",
       "      <th></th>\n",
       "      <th>Training</th>\n",
       "      <th>Test</th>\n",
       "      <th>KFold</th>\n",
       "    </tr>\n",
       "  </thead>\n",
       "  <tbody>\n",
       "    <tr>\n",
       "      <th>accuracy</th>\n",
       "      <td>0.955713</td>\n",
       "      <td>0.963402</td>\n",
       "      <td>0.959311</td>\n",
       "    </tr>\n",
       "    <tr>\n",
       "      <th>precision</th>\n",
       "      <td>0.419463</td>\n",
       "      <td>0.470000</td>\n",
       "      <td>0.448942</td>\n",
       "    </tr>\n",
       "    <tr>\n",
       "      <th>recall</th>\n",
       "      <td>0.520833</td>\n",
       "      <td>0.489583</td>\n",
       "      <td>0.493375</td>\n",
       "    </tr>\n",
       "    <tr>\n",
       "      <th>F1</th>\n",
       "      <td>0.464684</td>\n",
       "      <td>0.479592</td>\n",
       "      <td>0.467893</td>\n",
       "    </tr>\n",
       "  </tbody>\n",
       "</table>\n",
       "</div>"
      ],
      "text/plain": [
       "           Training      Test     KFold\n",
       "accuracy   0.955713  0.963402  0.959311\n",
       "precision  0.419463  0.470000  0.448942\n",
       "recall     0.520833  0.489583  0.493375\n",
       "F1         0.464684  0.479592  0.467893"
      ]
     },
     "metadata": {},
     "output_type": "display_data"
    }
   ],
   "source": [
    "def show_linear(data, detailed=False):\n",
    "    \n",
    "    if detailed:\n",
    "        \n",
    "        model = linear()\n",
    "        model.fit(data.X_train, data.y_train)\n",
    "\n",
    "        model_info = pd.DataFrame(model.intercept_.reshape(1,1), columns=[\"intercept\"])\n",
    "        model_info[data.X_train.columns] = pd.DataFrame(model.coef_.reshape(1, model.coef_.size))\n",
    "\n",
    "        _, ax = plt.subplots(1, 3, figsize=(14,4))\n",
    "\n",
    "        display(model_info)\n",
    "        model_info.plot(kind=\"bar\", ax=ax[0], title=\"Parameters\")\n",
    "\n",
    "    prediction = predict(linear, data)\n",
    "    actual = data.y_test\n",
    "\n",
    "    if detailed:\n",
    "        \n",
    "        prediction.plot(kind=\"hist\", ax=ax[1], title=\"Predictions\")\n",
    "\n",
    "        roc_data = roc(actual, prediction, np.linspace(-1, 1, 30))\n",
    "        plot_roc(roc_data, ax[2])\n",
    "        show_thresholds(roc_data)\n",
    "\n",
    "        plt.show()\n",
    "\n",
    "        print(\"Area under ROC:\", auroc(roc_data)[0])\n",
    "        \n",
    "    with warnings.catch_warnings():\n",
    "        warnings.simplefilter(\"ignore\")\n",
    "        threshold = find_threshold(actual, prediction, np.linspace(-1,1,100))\n",
    "\n",
    "    if detailed:\n",
    "        print(\"Chosen threshold: %.04f\" % threshold)\n",
    "    \n",
    "    prediction = predict(linear, data, threshold, training_only=True)\n",
    "    actual = data.y_train\n",
    "    training_metrics = class_metrics(confusion(actual, prediction))\n",
    "    \n",
    "    prediction = predict(linear, data, threshold)\n",
    "    actual = data.y_test\n",
    "    test_metrics = class_metrics(confusion(actual, prediction))\n",
    "    \n",
    "    kfold_metrics = kfold(10, linear, data, threshold)\n",
    "    \n",
    "    frame = pd.DataFrame([\n",
    "        training_metrics,\n",
    "        test_metrics,\n",
    "        kfold_metrics\n",
    "    ], index=[\"Training\", \"Test\", \"KFold\"])\n",
    "    display(frame.T)\n",
    "    \n",
    "    \n",
    "show_linear(iter1, detailed=True)    "
   ]
  },
  {
   "cell_type": "markdown",
   "id": "failing-dubai",
   "metadata": {},
   "source": [
    "Same for the logistic model."
   ]
  },
  {
   "cell_type": "code",
   "execution_count": 642,
   "id": "announced-palmer",
   "metadata": {},
   "outputs": [
    {
     "data": {
      "text/html": [
       "<div>\n",
       "<style scoped>\n",
       "    .dataframe tbody tr th:only-of-type {\n",
       "        vertical-align: middle;\n",
       "    }\n",
       "\n",
       "    .dataframe tbody tr th {\n",
       "        vertical-align: top;\n",
       "    }\n",
       "\n",
       "    .dataframe thead th {\n",
       "        text-align: right;\n",
       "    }\n",
       "</style>\n",
       "<table border=\"1\" class=\"dataframe\">\n",
       "  <thead>\n",
       "    <tr style=\"text-align: right;\">\n",
       "      <th></th>\n",
       "      <th>intercept</th>\n",
       "      <th>icu_yn</th>\n",
       "      <th>age_group</th>\n",
       "      <th>hosp_yn</th>\n",
       "      <th>case_age_days</th>\n",
       "      <th>medcond_yn</th>\n",
       "    </tr>\n",
       "  </thead>\n",
       "  <tbody>\n",
       "    <tr>\n",
       "      <th>0</th>\n",
       "      <td>-10.555918</td>\n",
       "      <td>1.83713</td>\n",
       "      <td>6.126942</td>\n",
       "      <td>2.690406</td>\n",
       "      <td>1.205046</td>\n",
       "      <td>0.719347</td>\n",
       "    </tr>\n",
       "  </tbody>\n",
       "</table>\n",
       "</div>"
      ],
      "text/plain": [
       "   intercept   icu_yn  age_group   hosp_yn  case_age_days  medcond_yn\n",
       "0 -10.555918  1.83713   6.126942  2.690406       1.205046    0.719347"
      ]
     },
     "metadata": {},
     "output_type": "display_data"
    },
    {
     "data": {
      "image/png": "[encoded data removed]",
      "text/plain": [
       "<Figure size 432x288 with 1 Axes>"
      ]
     },
     "metadata": {
      "needs_background": "light"
     },
     "output_type": "display_data"
    },
    {
     "data": {
      "text/html": [
       "<div>\n",
       "<style scoped>\n",
       "    .dataframe tbody tr th:only-of-type {\n",
       "        vertical-align: middle;\n",
       "    }\n",
       "\n",
       "    .dataframe tbody tr th {\n",
       "        vertical-align: top;\n",
       "    }\n",
       "\n",
       "    .dataframe thead th {\n",
       "        text-align: right;\n",
       "    }\n",
       "</style>\n",
       "<table border=\"1\" class=\"dataframe\">\n",
       "  <thead>\n",
       "    <tr style=\"text-align: right;\">\n",
       "      <th></th>\n",
       "      <th>Training</th>\n",
       "      <th>Test</th>\n",
       "      <th>KFold</th>\n",
       "    </tr>\n",
       "  </thead>\n",
       "  <tbody>\n",
       "    <tr>\n",
       "      <th>accuracy</th>\n",
       "      <td>0.966169</td>\n",
       "      <td>0.967707</td>\n",
       "      <td>0.966631</td>\n",
       "    </tr>\n",
       "    <tr>\n",
       "      <th>precision</th>\n",
       "      <td>0.608696</td>\n",
       "      <td>0.588235</td>\n",
       "      <td>0.620144</td>\n",
       "    </tr>\n",
       "    <tr>\n",
       "      <th>recall</th>\n",
       "      <td>0.233333</td>\n",
       "      <td>0.208333</td>\n",
       "      <td>0.232206</td>\n",
       "    </tr>\n",
       "    <tr>\n",
       "      <th>F1</th>\n",
       "      <td>0.337349</td>\n",
       "      <td>0.307692</td>\n",
       "      <td>0.334285</td>\n",
       "    </tr>\n",
       "  </tbody>\n",
       "</table>\n",
       "</div>"
      ],
      "text/plain": [
       "           Training      Test     KFold\n",
       "accuracy   0.966169  0.967707  0.966631\n",
       "precision  0.608696  0.588235  0.620144\n",
       "recall     0.233333  0.208333  0.232206\n",
       "F1         0.337349  0.307692  0.334285"
      ]
     },
     "metadata": {},
     "output_type": "display_data"
    }
   ],
   "source": [
    "def show_logistic(data, detailed=False):\n",
    "    \n",
    "    if detailed:\n",
    "    \n",
    "        model = logistic(random_state=0)\n",
    "        model.fit(data.X_train, data.y_train)\n",
    "\n",
    "        model_info = pd.DataFrame(model.intercept_.reshape(1,1), columns=[\"intercept\"])\n",
    "        model_info[data.X_train.columns] = pd.DataFrame(model.coef_.reshape(1, model.coef_.size))\n",
    "\n",
    "        display(model_info)\n",
    "        model_info.plot(kind=\"bar\", title=\"Parameters\")\n",
    "        plt.show()\n",
    "    \n",
    "    prediction = predict(logistic, data, threshold, training_only=True)\n",
    "    actual = data.y_train\n",
    "    training_metrics = class_metrics(confusion(actual, prediction))\n",
    "    \n",
    "    prediction = predict(logistic, data, threshold)\n",
    "    actual = data.y_test\n",
    "    test_metrics = class_metrics(confusion(actual, prediction))\n",
    "    \n",
    "    kfold_metrics = kfold(10, logistic, data, threshold)\n",
    "    \n",
    "    frame = pd.DataFrame([\n",
    "        training_metrics,\n",
    "        test_metrics,\n",
    "        kfold_metrics\n",
    "    ], index=[\"Training\", \"Test\", \"KFold\"])\n",
    "    display(frame.T)\n",
    "    \n",
    "    \n",
    "show_logistic(iter1, detailed=True)    "
   ]
  },
  {
   "cell_type": "markdown",
   "id": "photographic-aerospace",
   "metadata": {},
   "source": [
    "And finally, for the random forest."
   ]
  },
  {
   "cell_type": "code",
   "execution_count": 653,
   "id": "suspended-edition",
   "metadata": {},
   "outputs": [
    {
     "data": {
      "image/png": "[encoded data removed]",
      "text/plain": [
       "<Figure size 432x288 with 1 Axes>"
      ]
     },
     "metadata": {
      "needs_background": "light"
     },
     "output_type": "display_data"
    },
    {
     "data": {
      "text/html": [
       "<div>\n",
       "<style scoped>\n",
       "    .dataframe tbody tr th:only-of-type {\n",
       "        vertical-align: middle;\n",
       "    }\n",
       "\n",
       "    .dataframe tbody tr th {\n",
       "        vertical-align: top;\n",
       "    }\n",
       "\n",
       "    .dataframe thead th {\n",
       "        text-align: right;\n",
       "    }\n",
       "</style>\n",
       "<table border=\"1\" class=\"dataframe\">\n",
       "  <thead>\n",
       "    <tr style=\"text-align: right;\">\n",
       "      <th></th>\n",
       "      <th>Training</th>\n",
       "      <th>Test</th>\n",
       "      <th>KFold</th>\n",
       "    </tr>\n",
       "  </thead>\n",
       "  <tbody>\n",
       "    <tr>\n",
       "      <th>accuracy</th>\n",
       "      <td>0.993695</td>\n",
       "      <td>0.962325</td>\n",
       "      <td>0.958988</td>\n",
       "    </tr>\n",
       "    <tr>\n",
       "      <th>precision</th>\n",
       "      <td>0.954338</td>\n",
       "      <td>0.447059</td>\n",
       "      <td>0.418004</td>\n",
       "    </tr>\n",
       "    <tr>\n",
       "      <th>recall</th>\n",
       "      <td>0.870833</td>\n",
       "      <td>0.395833</td>\n",
       "      <td>0.350738</td>\n",
       "    </tr>\n",
       "    <tr>\n",
       "      <th>F1</th>\n",
       "      <td>0.910675</td>\n",
       "      <td>0.419890</td>\n",
       "      <td>0.378750</td>\n",
       "    </tr>\n",
       "  </tbody>\n",
       "</table>\n",
       "</div>"
      ],
      "text/plain": [
       "           Training      Test     KFold\n",
       "accuracy   0.993695  0.962325  0.958988\n",
       "precision  0.954338  0.447059  0.418004\n",
       "recall     0.870833  0.395833  0.350738\n",
       "F1         0.910675  0.419890  0.378750"
      ]
     },
     "metadata": {},
     "output_type": "display_data"
    }
   ],
   "source": [
    "def show_rforest(data, detailed=False):\n",
    "    \n",
    "    if detailed:\n",
    "        \n",
    "        frame = feature_importances_by_class(data)\n",
    "        frame.plot(kind=\"bar\", title=\"Permutation Importance by Class\")\n",
    "        plt.show()\n",
    "    \n",
    "    prediction = predict(rforest, data, threshold, training_only=True)\n",
    "    actual = data.y_train\n",
    "    training_metrics = class_metrics(confusion(actual, prediction))\n",
    "    \n",
    "    prediction = predict(rforest, data, threshold)\n",
    "    actual = data.y_test\n",
    "    test_metrics = class_metrics(confusion(actual, prediction))\n",
    "    \n",
    "    kfold_metrics = kfold(10, rforest, data, threshold)\n",
    "    \n",
    "    frame = pd.DataFrame([\n",
    "        training_metrics,\n",
    "        test_metrics,\n",
    "        kfold_metrics\n",
    "    ], index=[\"Training\", \"Test\", \"KFold\"])\n",
    "    display(frame.T)\n",
    "    \n",
    "    \n",
    "show_rforest(iter1, detailed=True)    "
   ]
  },
  {
   "cell_type": "markdown",
   "id": "generic-marsh",
   "metadata": {},
   "source": [
    "Now, to try out some configurations.\n",
    "\n",
    "Undersampling and Oversampling"
   ]
  },
  {
   "cell_type": "code",
   "execution_count": 678,
   "id": "smart-keyboard",
   "metadata": {},
   "outputs": [
    {
     "data": {
      "text/html": [
       "<div>\n",
       "<style scoped>\n",
       "    .dataframe tbody tr th:only-of-type {\n",
       "        vertical-align: middle;\n",
       "    }\n",
       "\n",
       "    .dataframe tbody tr th {\n",
       "        vertical-align: top;\n",
       "    }\n",
       "\n",
       "    .dataframe thead th {\n",
       "        text-align: right;\n",
       "    }\n",
       "</style>\n",
       "<table border=\"1\" class=\"dataframe\">\n",
       "  <thead>\n",
       "    <tr style=\"text-align: right;\">\n",
       "      <th></th>\n",
       "      <th>Training</th>\n",
       "      <th>Test</th>\n",
       "      <th>KFold</th>\n",
       "    </tr>\n",
       "  </thead>\n",
       "  <tbody>\n",
       "    <tr>\n",
       "      <th>accuracy</th>\n",
       "      <td>0.885106</td>\n",
       "      <td>0.896040</td>\n",
       "      <td>0.885404</td>\n",
       "    </tr>\n",
       "    <tr>\n",
       "      <th>precision</th>\n",
       "      <td>0.897436</td>\n",
       "      <td>0.903226</td>\n",
       "      <td>0.894390</td>\n",
       "    </tr>\n",
       "    <tr>\n",
       "      <th>recall</th>\n",
       "      <td>0.875000</td>\n",
       "      <td>0.875000</td>\n",
       "      <td>0.870978</td>\n",
       "    </tr>\n",
       "    <tr>\n",
       "      <th>F1</th>\n",
       "      <td>0.886076</td>\n",
       "      <td>0.888889</td>\n",
       "      <td>0.881276</td>\n",
       "    </tr>\n",
       "  </tbody>\n",
       "</table>\n",
       "</div>"
      ],
      "text/plain": [
       "           Training      Test     KFold\n",
       "accuracy   0.885106  0.896040  0.885404\n",
       "precision  0.897436  0.903226  0.894390\n",
       "recall     0.875000  0.875000  0.870978\n",
       "F1         0.886076  0.888889  0.881276"
      ]
     },
     "metadata": {},
     "output_type": "display_data"
    },
    {
     "data": {
      "text/html": [
       "<div>\n",
       "<style scoped>\n",
       "    .dataframe tbody tr th:only-of-type {\n",
       "        vertical-align: middle;\n",
       "    }\n",
       "\n",
       "    .dataframe tbody tr th {\n",
       "        vertical-align: top;\n",
       "    }\n",
       "\n",
       "    .dataframe thead th {\n",
       "        text-align: right;\n",
       "    }\n",
       "</style>\n",
       "<table border=\"1\" class=\"dataframe\">\n",
       "  <thead>\n",
       "    <tr style=\"text-align: right;\">\n",
       "      <th></th>\n",
       "      <th>Training</th>\n",
       "      <th>Test</th>\n",
       "      <th>KFold</th>\n",
       "    </tr>\n",
       "  </thead>\n",
       "  <tbody>\n",
       "    <tr>\n",
       "      <th>accuracy</th>\n",
       "      <td>0.893617</td>\n",
       "      <td>0.886139</td>\n",
       "      <td>0.889860</td>\n",
       "    </tr>\n",
       "    <tr>\n",
       "      <th>precision</th>\n",
       "      <td>0.886179</td>\n",
       "      <td>0.876289</td>\n",
       "      <td>0.881964</td>\n",
       "    </tr>\n",
       "    <tr>\n",
       "      <th>recall</th>\n",
       "      <td>0.908333</td>\n",
       "      <td>0.885417</td>\n",
       "      <td>0.898367</td>\n",
       "    </tr>\n",
       "    <tr>\n",
       "      <th>F1</th>\n",
       "      <td>0.897119</td>\n",
       "      <td>0.880829</td>\n",
       "      <td>0.889086</td>\n",
       "    </tr>\n",
       "  </tbody>\n",
       "</table>\n",
       "</div>"
      ],
      "text/plain": [
       "           Training      Test     KFold\n",
       "accuracy   0.893617  0.886139  0.889860\n",
       "precision  0.886179  0.876289  0.881964\n",
       "recall     0.908333  0.885417  0.898367\n",
       "F1         0.897119  0.880829  0.889086"
      ]
     },
     "metadata": {},
     "output_type": "display_data"
    },
    {
     "data": {
      "text/html": [
       "<div>\n",
       "<style scoped>\n",
       "    .dataframe tbody tr th:only-of-type {\n",
       "        vertical-align: middle;\n",
       "    }\n",
       "\n",
       "    .dataframe tbody tr th {\n",
       "        vertical-align: top;\n",
       "    }\n",
       "\n",
       "    .dataframe thead th {\n",
       "        text-align: right;\n",
       "    }\n",
       "</style>\n",
       "<table border=\"1\" class=\"dataframe\">\n",
       "  <thead>\n",
       "    <tr style=\"text-align: right;\">\n",
       "      <th></th>\n",
       "      <th>Training</th>\n",
       "      <th>Test</th>\n",
       "      <th>KFold</th>\n",
       "    </tr>\n",
       "  </thead>\n",
       "  <tbody>\n",
       "    <tr>\n",
       "      <th>accuracy</th>\n",
       "      <td>0.993617</td>\n",
       "      <td>0.881188</td>\n",
       "      <td>0.858670</td>\n",
       "    </tr>\n",
       "    <tr>\n",
       "      <th>precision</th>\n",
       "      <td>0.995816</td>\n",
       "      <td>0.900000</td>\n",
       "      <td>0.850625</td>\n",
       "    </tr>\n",
       "    <tr>\n",
       "      <th>recall</th>\n",
       "      <td>0.991667</td>\n",
       "      <td>0.843750</td>\n",
       "      <td>0.866511</td>\n",
       "    </tr>\n",
       "    <tr>\n",
       "      <th>F1</th>\n",
       "      <td>0.993737</td>\n",
       "      <td>0.870968</td>\n",
       "      <td>0.856362</td>\n",
       "    </tr>\n",
       "  </tbody>\n",
       "</table>\n",
       "</div>"
      ],
      "text/plain": [
       "           Training      Test     KFold\n",
       "accuracy   0.993617  0.881188  0.858670\n",
       "precision  0.995816  0.900000  0.850625\n",
       "recall     0.991667  0.843750  0.866511\n",
       "F1         0.993737  0.870968  0.856362"
      ]
     },
     "metadata": {},
     "output_type": "display_data"
    }
   ],
   "source": [
    "iter_control = iter1\n",
    "data = undersample(a1_data)[base_features + case_age_feature]\n",
    "\n",
    "encode_age(data)\n",
    "encode_all_ordinal(data)\n",
    "normalize_case_age(data)\n",
    "\n",
    "data.head(4)\n",
    "data = get_case_study(data)\n",
    "\n",
    "show_linear(data)\n",
    "show_logistic(data)\n",
    "show_rforest(data)"
   ]
  },
  {
   "cell_type": "markdown",
   "id": "competent-delivery",
   "metadata": {},
   "source": [
    "Indicator variable for age. This has essentially no effect, which is not surprising since the number of missing values is small. I still think it is a nice touch though, and so will continue using it moving forward."
   ]
  },
  {
   "cell_type": "code",
   "execution_count": 686,
   "id": "removed-female",
   "metadata": {},
   "outputs": [
    {
     "data": {
      "text/html": [
       "<div>\n",
       "<style scoped>\n",
       "    .dataframe tbody tr th:only-of-type {\n",
       "        vertical-align: middle;\n",
       "    }\n",
       "\n",
       "    .dataframe tbody tr th {\n",
       "        vertical-align: top;\n",
       "    }\n",
       "\n",
       "    .dataframe thead th {\n",
       "        text-align: right;\n",
       "    }\n",
       "</style>\n",
       "<table border=\"1\" class=\"dataframe\">\n",
       "  <thead>\n",
       "    <tr style=\"text-align: right;\">\n",
       "      <th></th>\n",
       "      <th>Training</th>\n",
       "      <th>Test</th>\n",
       "      <th>KFold</th>\n",
       "    </tr>\n",
       "  </thead>\n",
       "  <tbody>\n",
       "    <tr>\n",
       "      <th>accuracy</th>\n",
       "      <td>0.955713</td>\n",
       "      <td>0.963402</td>\n",
       "      <td>0.959311</td>\n",
       "    </tr>\n",
       "    <tr>\n",
       "      <th>precision</th>\n",
       "      <td>0.419463</td>\n",
       "      <td>0.470000</td>\n",
       "      <td>0.448942</td>\n",
       "    </tr>\n",
       "    <tr>\n",
       "      <th>recall</th>\n",
       "      <td>0.520833</td>\n",
       "      <td>0.489583</td>\n",
       "      <td>0.493375</td>\n",
       "    </tr>\n",
       "    <tr>\n",
       "      <th>F1</th>\n",
       "      <td>0.464684</td>\n",
       "      <td>0.479592</td>\n",
       "      <td>0.467893</td>\n",
       "    </tr>\n",
       "  </tbody>\n",
       "</table>\n",
       "</div>"
      ],
      "text/plain": [
       "           Training      Test     KFold\n",
       "accuracy   0.955713  0.963402  0.959311\n",
       "precision  0.419463  0.470000  0.448942\n",
       "recall     0.520833  0.489583  0.493375\n",
       "F1         0.464684  0.479592  0.467893"
      ]
     },
     "metadata": {},
     "output_type": "display_data"
    },
    {
     "data": {
      "text/html": [
       "<div>\n",
       "<style scoped>\n",
       "    .dataframe tbody tr th:only-of-type {\n",
       "        vertical-align: middle;\n",
       "    }\n",
       "\n",
       "    .dataframe tbody tr th {\n",
       "        vertical-align: top;\n",
       "    }\n",
       "\n",
       "    .dataframe thead th {\n",
       "        text-align: right;\n",
       "    }\n",
       "</style>\n",
       "<table border=\"1\" class=\"dataframe\">\n",
       "  <thead>\n",
       "    <tr style=\"text-align: right;\">\n",
       "      <th></th>\n",
       "      <th>Training</th>\n",
       "      <th>Test</th>\n",
       "      <th>KFold</th>\n",
       "    </tr>\n",
       "  </thead>\n",
       "  <tbody>\n",
       "    <tr>\n",
       "      <th>accuracy</th>\n",
       "      <td>0.966169</td>\n",
       "      <td>0.967707</td>\n",
       "      <td>0.966523</td>\n",
       "    </tr>\n",
       "    <tr>\n",
       "      <th>precision</th>\n",
       "      <td>0.613636</td>\n",
       "      <td>0.588235</td>\n",
       "      <td>0.617114</td>\n",
       "    </tr>\n",
       "    <tr>\n",
       "      <th>recall</th>\n",
       "      <td>0.225000</td>\n",
       "      <td>0.208333</td>\n",
       "      <td>0.229176</td>\n",
       "    </tr>\n",
       "    <tr>\n",
       "      <th>F1</th>\n",
       "      <td>0.329268</td>\n",
       "      <td>0.307692</td>\n",
       "      <td>0.330548</td>\n",
       "    </tr>\n",
       "  </tbody>\n",
       "</table>\n",
       "</div>"
      ],
      "text/plain": [
       "           Training      Test     KFold\n",
       "accuracy   0.966169  0.967707  0.966523\n",
       "precision  0.613636  0.588235  0.617114\n",
       "recall     0.225000  0.208333  0.229176\n",
       "F1         0.329268  0.307692  0.330548"
      ]
     },
     "metadata": {},
     "output_type": "display_data"
    },
    {
     "data": {
      "text/html": [
       "<div>\n",
       "<style scoped>\n",
       "    .dataframe tbody tr th:only-of-type {\n",
       "        vertical-align: middle;\n",
       "    }\n",
       "\n",
       "    .dataframe tbody tr th {\n",
       "        vertical-align: top;\n",
       "    }\n",
       "\n",
       "    .dataframe thead th {\n",
       "        text-align: right;\n",
       "    }\n",
       "</style>\n",
       "<table border=\"1\" class=\"dataframe\">\n",
       "  <thead>\n",
       "    <tr style=\"text-align: right;\">\n",
       "      <th></th>\n",
       "      <th>Training</th>\n",
       "      <th>Test</th>\n",
       "      <th>KFold</th>\n",
       "    </tr>\n",
       "  </thead>\n",
       "  <tbody>\n",
       "    <tr>\n",
       "      <th>accuracy</th>\n",
       "      <td>0.993849</td>\n",
       "      <td>0.962325</td>\n",
       "      <td>0.956728</td>\n",
       "    </tr>\n",
       "    <tr>\n",
       "      <th>precision</th>\n",
       "      <td>0.954545</td>\n",
       "      <td>0.447059</td>\n",
       "      <td>0.383613</td>\n",
       "    </tr>\n",
       "    <tr>\n",
       "      <th>recall</th>\n",
       "      <td>0.875000</td>\n",
       "      <td>0.395833</td>\n",
       "      <td>0.333169</td>\n",
       "    </tr>\n",
       "    <tr>\n",
       "      <th>F1</th>\n",
       "      <td>0.913043</td>\n",
       "      <td>0.419890</td>\n",
       "      <td>0.354496</td>\n",
       "    </tr>\n",
       "  </tbody>\n",
       "</table>\n",
       "</div>"
      ],
      "text/plain": [
       "           Training      Test     KFold\n",
       "accuracy   0.993849  0.962325  0.956728\n",
       "precision  0.954545  0.447059  0.383613\n",
       "recall     0.875000  0.395833  0.333169\n",
       "F1         0.913043  0.419890  0.354496"
      ]
     },
     "metadata": {},
     "output_type": "display_data"
    }
   ],
   "source": [
    "iter_control = iter1\n",
    "data = a1_data[base_features + case_age_feature].copy()\n",
    "\n",
    "encode_age_with_indicator(data)\n",
    "encode_all_ordinal(data)\n",
    "normalize_case_age(data)\n",
    "\n",
    "data.head(4)\n",
    "data = get_case_study(data)\n",
    "\n",
    "show_linear(data)\n",
    "show_logistic(data)\n",
    "show_rforest(data)"
   ]
  },
  {
   "cell_type": "markdown",
   "id": "breeding-tribute",
   "metadata": {},
   "source": [
    "Dummy variables."
   ]
  },
  {
   "cell_type": "code",
   "execution_count": 692,
   "id": "clear-origin",
   "metadata": {},
   "outputs": [
    {
     "data": {
      "text/html": [
       "<div>\n",
       "<style scoped>\n",
       "    .dataframe tbody tr th:only-of-type {\n",
       "        vertical-align: middle;\n",
       "    }\n",
       "\n",
       "    .dataframe tbody tr th {\n",
       "        vertical-align: top;\n",
       "    }\n",
       "\n",
       "    .dataframe thead th {\n",
       "        text-align: right;\n",
       "    }\n",
       "</style>\n",
       "<table border=\"1\" class=\"dataframe\">\n",
       "  <thead>\n",
       "    <tr style=\"text-align: right;\">\n",
       "      <th></th>\n",
       "      <th>intercept</th>\n",
       "      <th>age_group</th>\n",
       "      <th>case_age_days</th>\n",
       "      <th>age_group_missing</th>\n",
       "      <th>icu_yn_No</th>\n",
       "      <th>icu_yn_Unknown</th>\n",
       "      <th>icu_yn_Yes</th>\n",
       "      <th>hosp_yn_No</th>\n",
       "      <th>hosp_yn_Unknown</th>\n",
       "      <th>hosp_yn_Yes</th>\n",
       "      <th>medcond_yn_No</th>\n",
       "      <th>medcond_yn_Unknown</th>\n",
       "      <th>medcond_yn_Yes</th>\n",
       "    </tr>\n",
       "  </thead>\n",
       "  <tbody>\n",
       "    <tr>\n",
       "      <th>0</th>\n",
       "      <td>-1.359240e+13</td>\n",
       "      <td>0.159242</td>\n",
       "      <td>0.041843</td>\n",
       "      <td>0.07282</td>\n",
       "      <td>-2.014195e+11</td>\n",
       "      <td>-2.014195e+11</td>\n",
       "      <td>-2.014195e+11</td>\n",
       "      <td>3.612274e+12</td>\n",
       "      <td>3.612274e+12</td>\n",
       "      <td>3.612274e+12</td>\n",
       "      <td>1.018154e+13</td>\n",
       "      <td>1.018154e+13</td>\n",
       "      <td>1.018154e+13</td>\n",
       "    </tr>\n",
       "  </tbody>\n",
       "</table>\n",
       "</div>"
      ],
      "text/plain": [
       "      intercept  age_group  case_age_days  age_group_missing     icu_yn_No  \\\n",
       "0 -1.359240e+13   0.159242       0.041843            0.07282 -2.014195e+11   \n",
       "\n",
       "   icu_yn_Unknown    icu_yn_Yes    hosp_yn_No  hosp_yn_Unknown   hosp_yn_Yes  \\\n",
       "0   -2.014195e+11 -2.014195e+11  3.612274e+12     3.612274e+12  3.612274e+12   \n",
       "\n",
       "   medcond_yn_No  medcond_yn_Unknown  medcond_yn_Yes  \n",
       "0   1.018154e+13        1.018154e+13    1.018154e+13  "
      ]
     },
     "metadata": {},
     "output_type": "display_data"
    },
    {
     "data": {
      "image/png": "[encoded data removed]",
      "text/plain": [
       "<Figure size 1008x288 with 3 Axes>"
      ]
     },
     "metadata": {
      "needs_background": "light"
     },
     "output_type": "display_data"
    },
    {
     "name": "stdout",
     "output_type": "stream",
     "text": [
      "Area under ROC: 0.9202975965648672\n",
      "Chosen threshold: 0.2525\n"
     ]
    },
    {
     "data": {
      "text/html": [
       "<div>\n",
       "<style scoped>\n",
       "    .dataframe tbody tr th:only-of-type {\n",
       "        vertical-align: middle;\n",
       "    }\n",
       "\n",
       "    .dataframe tbody tr th {\n",
       "        vertical-align: top;\n",
       "    }\n",
       "\n",
       "    .dataframe thead th {\n",
       "        text-align: right;\n",
       "    }\n",
       "</style>\n",
       "<table border=\"1\" class=\"dataframe\">\n",
       "  <thead>\n",
       "    <tr style=\"text-align: right;\">\n",
       "      <th></th>\n",
       "      <th>Training</th>\n",
       "      <th>Test</th>\n",
       "      <th>KFold</th>\n",
       "    </tr>\n",
       "  </thead>\n",
       "  <tbody>\n",
       "    <tr>\n",
       "      <th>accuracy</th>\n",
       "      <td>0.953252</td>\n",
       "      <td>0.958378</td>\n",
       "      <td>0.954575</td>\n",
       "    </tr>\n",
       "    <tr>\n",
       "      <th>precision</th>\n",
       "      <td>0.401840</td>\n",
       "      <td>0.409091</td>\n",
       "      <td>0.405180</td>\n",
       "    </tr>\n",
       "    <tr>\n",
       "      <th>recall</th>\n",
       "      <td>0.545833</td>\n",
       "      <td>0.468750</td>\n",
       "      <td>0.517234</td>\n",
       "    </tr>\n",
       "    <tr>\n",
       "      <th>F1</th>\n",
       "      <td>0.462898</td>\n",
       "      <td>0.436893</td>\n",
       "      <td>0.451838</td>\n",
       "    </tr>\n",
       "  </tbody>\n",
       "</table>\n",
       "</div>"
      ],
      "text/plain": [
       "           Training      Test     KFold\n",
       "accuracy   0.953252  0.958378  0.954575\n",
       "precision  0.401840  0.409091  0.405180\n",
       "recall     0.545833  0.468750  0.517234\n",
       "F1         0.462898  0.436893  0.451838"
      ]
     },
     "metadata": {},
     "output_type": "display_data"
    }
   ],
   "source": [
    "data = a1_data[base_features + case_age_feature].copy()\n",
    "\n",
    "encode_age_with_indicator(data)\n",
    "data = encode_mixed(data, ordinal=[\"death_yn\"])\n",
    "normalize_case_age(data)\n",
    "\n",
    "data.head(4)\n",
    "data = get_case_study(data)\n",
    "\n",
    "show_linear(data, detailed=True)"
   ]
  },
  {
   "cell_type": "code",
   "execution_count": 693,
   "id": "eleven-technology",
   "metadata": {},
   "outputs": [
    {
     "data": {
      "text/html": [
       "<div>\n",
       "<style scoped>\n",
       "    .dataframe tbody tr th:only-of-type {\n",
       "        vertical-align: middle;\n",
       "    }\n",
       "\n",
       "    .dataframe tbody tr th {\n",
       "        vertical-align: top;\n",
       "    }\n",
       "\n",
       "    .dataframe thead th {\n",
       "        text-align: right;\n",
       "    }\n",
       "</style>\n",
       "<table border=\"1\" class=\"dataframe\">\n",
       "  <thead>\n",
       "    <tr style=\"text-align: right;\">\n",
       "      <th></th>\n",
       "      <th>intercept</th>\n",
       "      <th>age_group</th>\n",
       "      <th>case_age_days</th>\n",
       "      <th>age_group_missing</th>\n",
       "      <th>icu_yn_No</th>\n",
       "      <th>icu_yn_Unknown</th>\n",
       "      <th>icu_yn_Yes</th>\n",
       "      <th>hosp_yn_No</th>\n",
       "      <th>hosp_yn_Unknown</th>\n",
       "      <th>hosp_yn_Yes</th>\n",
       "      <th>medcond_yn_No</th>\n",
       "      <th>medcond_yn_Unknown</th>\n",
       "      <th>medcond_yn_Yes</th>\n",
       "    </tr>\n",
       "  </thead>\n",
       "  <tbody>\n",
       "    <tr>\n",
       "      <th>0</th>\n",
       "      <td>-8.396571</td>\n",
       "      <td>6.582157</td>\n",
       "      <td>1.175257</td>\n",
       "      <td>-0.001231</td>\n",
       "      <td>-0.959794</td>\n",
       "      <td>-0.123946</td>\n",
       "      <td>1.082625</td>\n",
       "      <td>-1.263088</td>\n",
       "      <td>-0.126933</td>\n",
       "      <td>1.388905</td>\n",
       "      <td>-0.491859</td>\n",
       "      <td>0.111532</td>\n",
       "      <td>0.379212</td>\n",
       "    </tr>\n",
       "  </tbody>\n",
       "</table>\n",
       "</div>"
      ],
      "text/plain": [
       "   intercept  age_group  case_age_days  age_group_missing  icu_yn_No  \\\n",
       "0  -8.396571   6.582157       1.175257          -0.001231  -0.959794   \n",
       "\n",
       "   icu_yn_Unknown  icu_yn_Yes  hosp_yn_No  hosp_yn_Unknown  hosp_yn_Yes  \\\n",
       "0       -0.123946    1.082625   -1.263088        -0.126933     1.388905   \n",
       "\n",
       "   medcond_yn_No  medcond_yn_Unknown  medcond_yn_Yes  \n",
       "0      -0.491859            0.111532        0.379212  "
      ]
     },
     "metadata": {},
     "output_type": "display_data"
    },
    {
     "data": {
      "image/png": "[encoded data removed]",
      "text/plain": [
       "<Figure size 432x288 with 1 Axes>"
      ]
     },
     "metadata": {
      "needs_background": "light"
     },
     "output_type": "display_data"
    },
    {
     "data": {
      "text/html": [
       "<div>\n",
       "<style scoped>\n",
       "    .dataframe tbody tr th:only-of-type {\n",
       "        vertical-align: middle;\n",
       "    }\n",
       "\n",
       "    .dataframe tbody tr th {\n",
       "        vertical-align: top;\n",
       "    }\n",
       "\n",
       "    .dataframe thead th {\n",
       "        text-align: right;\n",
       "    }\n",
       "</style>\n",
       "<table border=\"1\" class=\"dataframe\">\n",
       "  <thead>\n",
       "    <tr style=\"text-align: right;\">\n",
       "      <th></th>\n",
       "      <th>Training</th>\n",
       "      <th>Test</th>\n",
       "      <th>KFold</th>\n",
       "    </tr>\n",
       "  </thead>\n",
       "  <tbody>\n",
       "    <tr>\n",
       "      <th>accuracy</th>\n",
       "      <td>0.966477</td>\n",
       "      <td>0.967707</td>\n",
       "      <td>0.966523</td>\n",
       "    </tr>\n",
       "    <tr>\n",
       "      <th>precision</th>\n",
       "      <td>0.617021</td>\n",
       "      <td>0.583333</td>\n",
       "      <td>0.613074</td>\n",
       "    </tr>\n",
       "    <tr>\n",
       "      <th>recall</th>\n",
       "      <td>0.241667</td>\n",
       "      <td>0.218750</td>\n",
       "      <td>0.238456</td>\n",
       "    </tr>\n",
       "    <tr>\n",
       "      <th>F1</th>\n",
       "      <td>0.347305</td>\n",
       "      <td>0.318182</td>\n",
       "      <td>0.338607</td>\n",
       "    </tr>\n",
       "  </tbody>\n",
       "</table>\n",
       "</div>"
      ],
      "text/plain": [
       "           Training      Test     KFold\n",
       "accuracy   0.966477  0.967707  0.966523\n",
       "precision  0.617021  0.583333  0.613074\n",
       "recall     0.241667  0.218750  0.238456\n",
       "F1         0.347305  0.318182  0.338607"
      ]
     },
     "metadata": {},
     "output_type": "display_data"
    }
   ],
   "source": [
    "show_logistic(data, detailed=True)"
   ]
  },
  {
   "cell_type": "code",
   "execution_count": 694,
   "id": "aware-bristol",
   "metadata": {},
   "outputs": [
    {
     "data": {
      "image/png": "[encoded data removed]",
      "text/plain": [
       "<Figure size 432x288 with 1 Axes>"
      ]
     },
     "metadata": {
      "needs_background": "light"
     },
     "output_type": "display_data"
    },
    {
     "data": {
      "text/html": [
       "<div>\n",
       "<style scoped>\n",
       "    .dataframe tbody tr th:only-of-type {\n",
       "        vertical-align: middle;\n",
       "    }\n",
       "\n",
       "    .dataframe tbody tr th {\n",
       "        vertical-align: top;\n",
       "    }\n",
       "\n",
       "    .dataframe thead th {\n",
       "        text-align: right;\n",
       "    }\n",
       "</style>\n",
       "<table border=\"1\" class=\"dataframe\">\n",
       "  <thead>\n",
       "    <tr style=\"text-align: right;\">\n",
       "      <th></th>\n",
       "      <th>Training</th>\n",
       "      <th>Test</th>\n",
       "      <th>KFold</th>\n",
       "    </tr>\n",
       "  </thead>\n",
       "  <tbody>\n",
       "    <tr>\n",
       "      <th>accuracy</th>\n",
       "      <td>0.993849</td>\n",
       "      <td>0.960531</td>\n",
       "      <td>0.957266</td>\n",
       "    </tr>\n",
       "    <tr>\n",
       "      <th>precision</th>\n",
       "      <td>0.958716</td>\n",
       "      <td>0.423913</td>\n",
       "      <td>0.390674</td>\n",
       "    </tr>\n",
       "    <tr>\n",
       "      <th>recall</th>\n",
       "      <td>0.870833</td>\n",
       "      <td>0.406250</td>\n",
       "      <td>0.337586</td>\n",
       "    </tr>\n",
       "    <tr>\n",
       "      <th>F1</th>\n",
       "      <td>0.912664</td>\n",
       "      <td>0.414894</td>\n",
       "      <td>0.360263</td>\n",
       "    </tr>\n",
       "  </tbody>\n",
       "</table>\n",
       "</div>"
      ],
      "text/plain": [
       "           Training      Test     KFold\n",
       "accuracy   0.993849  0.960531  0.957266\n",
       "precision  0.958716  0.423913  0.390674\n",
       "recall     0.870833  0.406250  0.337586\n",
       "F1         0.912664  0.414894  0.360263"
      ]
     },
     "metadata": {},
     "output_type": "display_data"
    }
   ],
   "source": [
    "show_rforest(data, detailed=True)"
   ]
  },
  {
   "cell_type": "markdown",
   "id": "horizontal-liechtenstein",
   "metadata": {},
   "source": [
    "Adding in gender."
   ]
  },
  {
   "cell_type": "code",
   "execution_count": 701,
   "id": "separated-tiffany",
   "metadata": {},
   "outputs": [
    {
     "data": {
      "text/html": [
       "<div>\n",
       "<style scoped>\n",
       "    .dataframe tbody tr th:only-of-type {\n",
       "        vertical-align: middle;\n",
       "    }\n",
       "\n",
       "    .dataframe tbody tr th {\n",
       "        vertical-align: top;\n",
       "    }\n",
       "\n",
       "    .dataframe thead th {\n",
       "        text-align: right;\n",
       "    }\n",
       "</style>\n",
       "<table border=\"1\" class=\"dataframe\">\n",
       "  <thead>\n",
       "    <tr style=\"text-align: right;\">\n",
       "      <th></th>\n",
       "      <th>intercept</th>\n",
       "      <th>icu_yn</th>\n",
       "      <th>age_group</th>\n",
       "      <th>hosp_yn</th>\n",
       "      <th>medcond_yn</th>\n",
       "      <th>case_age_days</th>\n",
       "      <th>sex</th>\n",
       "      <th>age_group_missing</th>\n",
       "    </tr>\n",
       "  </thead>\n",
       "  <tbody>\n",
       "    <tr>\n",
       "      <th>0</th>\n",
       "      <td>-0.152069</td>\n",
       "      <td>0.046095</td>\n",
       "      <td>0.19257</td>\n",
       "      <td>0.137566</td>\n",
       "      <td>0.023736</td>\n",
       "      <td>0.061928</td>\n",
       "      <td>-0.015328</td>\n",
       "      <td>0.079361</td>\n",
       "    </tr>\n",
       "  </tbody>\n",
       "</table>\n",
       "</div>"
      ],
      "text/plain": [
       "   intercept    icu_yn  age_group   hosp_yn  medcond_yn  case_age_days  \\\n",
       "0  -0.152069  0.046095    0.19257  0.137566    0.023736       0.061928   \n",
       "\n",
       "        sex  age_group_missing  \n",
       "0 -0.015328           0.079361  "
      ]
     },
     "metadata": {},
     "output_type": "display_data"
    },
    {
     "data": {
      "image/png": "[encoded data removed]",
      "text/plain": [
       "<Figure size 1008x288 with 3 Axes>"
      ]
     },
     "metadata": {
      "needs_background": "light"
     },
     "output_type": "display_data"
    },
    {
     "name": "stdout",
     "output_type": "stream",
     "text": [
      "Area under ROC: 0.9249388401475312\n",
      "Chosen threshold: 0.1919\n"
     ]
    },
    {
     "data": {
      "text/html": [
       "<div>\n",
       "<style scoped>\n",
       "    .dataframe tbody tr th:only-of-type {\n",
       "        vertical-align: middle;\n",
       "    }\n",
       "\n",
       "    .dataframe tbody tr th {\n",
       "        vertical-align: top;\n",
       "    }\n",
       "\n",
       "    .dataframe thead th {\n",
       "        text-align: right;\n",
       "    }\n",
       "</style>\n",
       "<table border=\"1\" class=\"dataframe\">\n",
       "  <thead>\n",
       "    <tr style=\"text-align: right;\">\n",
       "      <th></th>\n",
       "      <th>Training</th>\n",
       "      <th>Test</th>\n",
       "      <th>KFold</th>\n",
       "    </tr>\n",
       "  </thead>\n",
       "  <tbody>\n",
       "    <tr>\n",
       "      <th>accuracy</th>\n",
       "      <td>0.956789</td>\n",
       "      <td>0.963402</td>\n",
       "      <td>0.959096</td>\n",
       "    </tr>\n",
       "    <tr>\n",
       "      <th>precision</th>\n",
       "      <td>0.431894</td>\n",
       "      <td>0.470588</td>\n",
       "      <td>0.447280</td>\n",
       "    </tr>\n",
       "    <tr>\n",
       "      <th>recall</th>\n",
       "      <td>0.541667</td>\n",
       "      <td>0.500000</td>\n",
       "      <td>0.505622</td>\n",
       "    </tr>\n",
       "    <tr>\n",
       "      <th>F1</th>\n",
       "      <td>0.480591</td>\n",
       "      <td>0.484848</td>\n",
       "      <td>0.472255</td>\n",
       "    </tr>\n",
       "  </tbody>\n",
       "</table>\n",
       "</div>"
      ],
      "text/plain": [
       "           Training      Test     KFold\n",
       "accuracy   0.956789  0.963402  0.959096\n",
       "precision  0.431894  0.470588  0.447280\n",
       "recall     0.541667  0.500000  0.505622\n",
       "F1         0.480591  0.484848  0.472255"
      ]
     },
     "metadata": {},
     "output_type": "display_data"
    },
    {
     "data": {
      "text/html": [
       "<div>\n",
       "<style scoped>\n",
       "    .dataframe tbody tr th:only-of-type {\n",
       "        vertical-align: middle;\n",
       "    }\n",
       "\n",
       "    .dataframe tbody tr th {\n",
       "        vertical-align: top;\n",
       "    }\n",
       "\n",
       "    .dataframe thead th {\n",
       "        text-align: right;\n",
       "    }\n",
       "</style>\n",
       "<table border=\"1\" class=\"dataframe\">\n",
       "  <thead>\n",
       "    <tr style=\"text-align: right;\">\n",
       "      <th></th>\n",
       "      <th>intercept</th>\n",
       "      <th>icu_yn</th>\n",
       "      <th>age_group</th>\n",
       "      <th>hosp_yn</th>\n",
       "      <th>medcond_yn</th>\n",
       "      <th>case_age_days</th>\n",
       "      <th>sex</th>\n",
       "      <th>age_group_missing</th>\n",
       "    </tr>\n",
       "  </thead>\n",
       "  <tbody>\n",
       "    <tr>\n",
       "      <th>0</th>\n",
       "      <td>-10.880423</td>\n",
       "      <td>1.751817</td>\n",
       "      <td>6.784823</td>\n",
       "      <td>2.632004</td>\n",
       "      <td>0.714089</td>\n",
       "      <td>1.19886</td>\n",
       "      <td>-0.599876</td>\n",
       "      <td>-0.000997</td>\n",
       "    </tr>\n",
       "  </tbody>\n",
       "</table>\n",
       "</div>"
      ],
      "text/plain": [
       "   intercept    icu_yn  age_group   hosp_yn  medcond_yn  case_age_days  \\\n",
       "0 -10.880423  1.751817   6.784823  2.632004    0.714089        1.19886   \n",
       "\n",
       "        sex  age_group_missing  \n",
       "0 -0.599876          -0.000997  "
      ]
     },
     "metadata": {},
     "output_type": "display_data"
    },
    {
     "data": {
      "image/png": "[encoded data removed]",
      "text/plain": [
       "<Figure size 432x288 with 1 Axes>"
      ]
     },
     "metadata": {
      "needs_background": "light"
     },
     "output_type": "display_data"
    },
    {
     "data": {
      "text/html": [
       "<div>\n",
       "<style scoped>\n",
       "    .dataframe tbody tr th:only-of-type {\n",
       "        vertical-align: middle;\n",
       "    }\n",
       "\n",
       "    .dataframe tbody tr th {\n",
       "        vertical-align: top;\n",
       "    }\n",
       "\n",
       "    .dataframe thead th {\n",
       "        text-align: right;\n",
       "    }\n",
       "</style>\n",
       "<table border=\"1\" class=\"dataframe\">\n",
       "  <thead>\n",
       "    <tr style=\"text-align: right;\">\n",
       "      <th></th>\n",
       "      <th>Training</th>\n",
       "      <th>Test</th>\n",
       "      <th>KFold</th>\n",
       "    </tr>\n",
       "  </thead>\n",
       "  <tbody>\n",
       "    <tr>\n",
       "      <th>accuracy</th>\n",
       "      <td>0.966785</td>\n",
       "      <td>0.968066</td>\n",
       "      <td>0.966738</td>\n",
       "    </tr>\n",
       "    <tr>\n",
       "      <th>precision</th>\n",
       "      <td>0.625000</td>\n",
       "      <td>0.606061</td>\n",
       "      <td>0.608557</td>\n",
       "    </tr>\n",
       "    <tr>\n",
       "      <th>recall</th>\n",
       "      <td>0.250000</td>\n",
       "      <td>0.208333</td>\n",
       "      <td>0.246053</td>\n",
       "    </tr>\n",
       "    <tr>\n",
       "      <th>F1</th>\n",
       "      <td>0.357143</td>\n",
       "      <td>0.310078</td>\n",
       "      <td>0.347303</td>\n",
       "    </tr>\n",
       "  </tbody>\n",
       "</table>\n",
       "</div>"
      ],
      "text/plain": [
       "           Training      Test     KFold\n",
       "accuracy   0.966785  0.968066  0.966738\n",
       "precision  0.625000  0.606061  0.608557\n",
       "recall     0.250000  0.208333  0.246053\n",
       "F1         0.357143  0.310078  0.347303"
      ]
     },
     "metadata": {},
     "output_type": "display_data"
    },
    {
     "data": {
      "image/png": "[encoded data removed]",
      "text/plain": [
       "<Figure size 432x288 with 1 Axes>"
      ]
     },
     "metadata": {
      "needs_background": "light"
     },
     "output_type": "display_data"
    },
    {
     "data": {
      "text/html": [
       "<div>\n",
       "<style scoped>\n",
       "    .dataframe tbody tr th:only-of-type {\n",
       "        vertical-align: middle;\n",
       "    }\n",
       "\n",
       "    .dataframe tbody tr th {\n",
       "        vertical-align: top;\n",
       "    }\n",
       "\n",
       "    .dataframe thead th {\n",
       "        text-align: right;\n",
       "    }\n",
       "</style>\n",
       "<table border=\"1\" class=\"dataframe\">\n",
       "  <thead>\n",
       "    <tr style=\"text-align: right;\">\n",
       "      <th></th>\n",
       "      <th>Training</th>\n",
       "      <th>Test</th>\n",
       "      <th>KFold</th>\n",
       "    </tr>\n",
       "  </thead>\n",
       "  <tbody>\n",
       "    <tr>\n",
       "      <th>accuracy</th>\n",
       "      <td>0.996309</td>\n",
       "      <td>0.960890</td>\n",
       "      <td>0.958558</td>\n",
       "    </tr>\n",
       "    <tr>\n",
       "      <th>precision</th>\n",
       "      <td>0.977876</td>\n",
       "      <td>0.413333</td>\n",
       "      <td>0.412563</td>\n",
       "    </tr>\n",
       "    <tr>\n",
       "      <th>recall</th>\n",
       "      <td>0.920833</td>\n",
       "      <td>0.322917</td>\n",
       "      <td>0.346873</td>\n",
       "    </tr>\n",
       "    <tr>\n",
       "      <th>F1</th>\n",
       "      <td>0.948498</td>\n",
       "      <td>0.362573</td>\n",
       "      <td>0.375316</td>\n",
       "    </tr>\n",
       "  </tbody>\n",
       "</table>\n",
       "</div>"
      ],
      "text/plain": [
       "           Training      Test     KFold\n",
       "accuracy   0.996309  0.960890  0.958558\n",
       "precision  0.977876  0.413333  0.412563\n",
       "recall     0.920833  0.322917  0.346873\n",
       "F1         0.948498  0.362573  0.375316"
      ]
     },
     "metadata": {},
     "output_type": "display_data"
    }
   ],
   "source": [
    "data = a1_data[base_features + case_age_feature + gender_feature].copy()\n",
    "\n",
    "encode_age_with_indicator(data)\n",
    "data = data.replace(\"Male\", 0).replace(\"Female\", 1)\n",
    "encode_all_ordinal(data)\n",
    "normalize_case_age(data)\n",
    "\n",
    "data.head(4)\n",
    "data = get_case_study(data)\n",
    "\n",
    "show_linear(data, detailed=True)\n",
    "show_logistic(data, detailed=True)\n",
    "show_rforest(data, detailed=True)"
   ]
  },
  {
   "cell_type": "code",
   "execution_count": null,
   "id": "essential-chancellor",
   "metadata": {},
   "outputs": [],
   "source": []
  }
 ],
 "metadata": {
  "kernelspec": {
   "display_name": "Python 3",
   "language": "python",
   "name": "python3"
  },
  "language_info": {
   "codemirror_mode": {
    "name": "ipython",
    "version": 3
   },
   "file_extension": ".py",
   "mimetype": "text/x-python",
   "name": "python",
   "nbconvert_exporter": "python",
   "pygments_lexer": "ipython3",
   "version": "3.6.12"
  }
 },
 "nbformat": 4,
 "nbformat_minor": 5
}
