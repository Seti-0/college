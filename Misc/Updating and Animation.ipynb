{
 "cells": [
  {
   "cell_type": "markdown",
   "metadata": {},
   "source": [
    "IPython Updating\n",
    "=="
   ]
  },
  {
   "cell_type": "code",
   "execution_count": 1,
   "metadata": {},
   "outputs": [
    {
     "data": {
      "text/markdown": [
       "Progress: 20/20"
      ],
      "text/plain": [
       "<IPython.core.display.Markdown object>"
      ]
     },
     "metadata": {},
     "output_type": "display_data"
    }
   ],
   "source": [
    "from IPython.display import display, update_display, Markdown\n",
    "import time\n",
    "\n",
    "ID = \"my_id\"\n",
    "\n",
    "# Markdown isn't really needed here, but it gets rid of\n",
    "# the annoying quotes... there is probably a better way to do that.\n",
    "display(Markdown(\"Progress 0/20\"), display_id=ID)\n",
    "\n",
    "for i in range(20):\n",
    "    time.sleep(0.1)\n",
    "    update_display(Markdown(f\"Progress: {i+1}/20\"), display_id=ID)"
   ]
  },
  {
   "cell_type": "markdown",
   "metadata": {},
   "source": [
    "A neater version without string IDs:"
   ]
  },
  {
   "cell_type": "code",
   "execution_count": 89,
   "metadata": {},
   "outputs": [
    {
     "data": {
      "text/markdown": [
       "Progress: 20/20"
      ],
      "text/plain": [
       "<IPython.core.display.Markdown object>"
      ]
     },
     "metadata": {},
     "output_type": "display_data"
    }
   ],
   "source": [
    "from IPython.display import DisplayHandle, Markdown\n",
    "import time\n",
    "\n",
    "handle = DisplayHandle()\n",
    "handle.display(Markdown(\"Progress 0/20\"))\n",
    "\n",
    "for i in range(20):\n",
    "    time.sleep(0.1)\n",
    "    handle.update(Markdown(f\"Progress: {i+1}/20\"))"
   ]
  },
  {
   "cell_type": "markdown",
   "metadata": {},
   "source": [
    "IPython Animation\n",
    "==\n",
    "\n",
    "This is a straightforward and probably very inefficient method, but it doesn't require any extra libraries or anything and is easier to work with than matplotlib built-in animation."
   ]
  },
  {
   "cell_type": "markdown",
   "metadata": {},
   "source": [
    "Step 1: Save a series of matplotlib plots to png images."
   ]
  },
  {
   "cell_type": "code",
   "execution_count": 90,
   "metadata": {},
   "outputs": [],
   "source": [
    "import numpy as np\n",
    "import matplotlib.pyplot as plt\n",
    "import io\n",
    "\n",
    "X = np.linspace(0, 1, 1000)\n",
    "\n",
    "# Store a list of images in byte array form\n",
    "frames = list()\n",
    "\n",
    "for n in range(1, 20):\n",
    "    \n",
    "    # Some simple cosine waves. \n",
    "    Y = np.cos(X*n*np.pi)\n",
    "    \n",
    "    # This is like a file stream, but in memory\n",
    "    # (It means the disk doesn't have to be involved)\n",
    "    image = io.BytesIO()\n",
    "    \n",
    "    plt.plot(X, Y)\n",
    "    \n",
    "    # Save the plot as a png to the file-like object in memory.\n",
    "    plt.savefig(image)\n",
    "    \n",
    "    # This clears the figure. This has the double purpose\n",
    "    # of both clearing the canvas for the next frame and preventing\n",
    "    # the notebook from printing the current frame. That second one\n",
    "    # means that you don't end up with an annoying 20 plots in the output.\n",
    "    plt.close()\n",
    "    \n",
    "    # The stream position will be at the\n",
    "    # end after writing, set it back to the beginning\n",
    "    image.seek(0)\n",
    "    \n",
    "    # The data is needed in array form rather \n",
    "    # than stream form.\n",
    "    image = image.read()\n",
    "    \n",
    "    frames.append(image)"
   ]
  },
  {
   "cell_type": "markdown",
   "metadata": {},
   "source": [
    "Step 2: Use IPython display to play back those images. "
   ]
  },
  {
   "cell_type": "code",
   "execution_count": 92,
   "metadata": {},
   "outputs": [
    {
     "data": {
      "text/markdown": [
       "Progress: 20/20"
      ],
      "text/plain": [
       "<IPython.core.display.Markdown object>"
      ]
     },
     "metadata": {},
     "output_type": "display_data"
    }
   ],
   "source": [
    "import time\n",
    "\n",
    "# This is built-in, it's the python interface to the notebook \n",
    "# output cells afaik, though I'm not sure.\n",
    "from IPython.display import display, update_display, Image\n",
    "\n",
    "screen = Image(frames[0], width = 500, height=500)\n",
    "\n",
    "# Notice that the ID is used to connect\n",
    "# the initial display with the calls to update.\n",
    "ID = \"my_id\"\n",
    "display(screen, display_id = ID)\n",
    "\n",
    "for i in range(1, len(frames)):\n",
    "    \n",
    "    time.sleep(0.1)\n",
    "    \n",
    "    # Change the image data. This does not affect the output!\n",
    "    screen.data = frames[i]\n",
    "    \n",
    "    # Update the actual HTML element with the changed image\n",
    "    update_display(screen, display_id=ID)"
   ]
  },
  {
   "cell_type": "markdown",
   "metadata": {},
   "source": [
    "The playback flashed quite a bit on first playing as of writing this, but replaying it works fine. I wonder if there is a cache related thing going on..."
   ]
  },
  {
   "cell_type": "markdown",
   "metadata": {},
   "source": [
    "This second method works first time, but it requires ipywidgets."
   ]
  },
  {
   "cell_type": "code",
   "execution_count": 93,
   "metadata": {},
   "outputs": [
    {
     "data": {
      "application/vnd.jupyter.widget-view+json": {
       "model_id": "5f0ea27c6b1e422c9eefd2bfaebe90f6",
       "version_major": 2,
       "version_minor": 0
      },
      "text/plain": [
       "Image(value=b'\\x89PNG\\r\\n\\x1a\\n\\x00\\x00\\x00\\rIHDR\\x00\\x00\\x01\\xb0\\x00\\x00\\x01 \\x08\\x06\\x00\\x00\\x00\\xd5(&i\\x00\\…"
      ]
     },
     "metadata": {},
     "output_type": "display_data"
    }
   ],
   "source": [
    "import ipywidgets as widgets\n",
    "\n",
    "\n",
    "screen = widgets.Image(\n",
    "    value=frames[0],\n",
    "    format='png',\n",
    "    width=500,\n",
    "    height=600,\n",
    ")\n",
    "\n",
    "display(screen)\n",
    "\n",
    "for i in range(1, len(frames)):\n",
    "    time.sleep(0.1)\n",
    "    screen.value = frames[i]"
   ]
  },
  {
   "cell_type": "markdown",
   "metadata": {},
   "source": [
    "Finally, another IPython way, which is a bit less fiddly (but still suffers from the same problem)"
   ]
  },
  {
   "cell_type": "code",
   "execution_count": 94,
   "metadata": {},
   "outputs": [
    {
     "data": {
      "image/png": "[encoded data removed]",
      "text/plain": [
       "<IPython.core.display.Image object>"
      ]
     },
     "metadata": {
      "image/png": {
       "height": 500,
       "width": 500
      }
     },
     "output_type": "display_data"
    }
   ],
   "source": [
    "import time\n",
    "\n",
    "# This is built-in, it's the python interface to the notebook \n",
    "# output cells afaik, though I'm not sure.\n",
    "from IPython.display import Image, DisplayHandle, clear_output\n",
    "\n",
    "handle = DisplayHandle()\n",
    "screen = Image(frames[0], width = 500, height=500)\n",
    "\n",
    "handle.display(screen)\n",
    "\n",
    "for i in range(1, len(frames)):\n",
    "    \n",
    "    time.sleep(0.1)\n",
    "    \n",
    "    # Change the image data. This does not affect the output!\n",
    "    screen.data = frames[i]\n",
    "    \n",
    "    # Update the actual HTML element with the changed image\n",
    "    handle.update(screen)"
   ]
  }
 ],
 "metadata": {
  "kernelspec": {
   "display_name": "Python 3",
   "language": "python",
   "name": "python3"
  },
  "language_info": {
   "codemirror_mode": {
    "name": "ipython",
    "version": 3
   },
   "file_extension": ".py",
   "mimetype": "text/x-python",
   "name": "python",
   "nbconvert_exporter": "python",
   "pygments_lexer": "ipython3",
   "version": "3.6.12"
  }
 },
 "nbformat": 4,
 "nbformat_minor": 4
}
