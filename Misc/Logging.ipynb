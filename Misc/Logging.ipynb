{
 "cells": [
  {
   "cell_type": "markdown",
   "metadata": {},
   "source": [
    "There is a slight tricky thing in that jupyter-notebook apparently creates its own logger called \"root\", and the logging level needs to be set there."
   ]
  },
  {
   "cell_type": "code",
   "execution_count": 2,
   "metadata": {},
   "outputs": [
    {
     "data": {
      "text/plain": [
       "<RootLogger root (INFO)>"
      ]
     },
     "execution_count": 2,
     "metadata": {},
     "output_type": "execute_result"
    }
   ],
   "source": [
    "import logging\n",
    "logger = logging.getLogger()\n",
    "logger.setLevel(logging.INFO)\n",
    "logger"
   ]
  },
  {
   "cell_type": "code",
   "execution_count": 3,
   "metadata": {},
   "outputs": [
    {
     "name": "stderr",
     "output_type": "stream",
     "text": [
      "INFO:root:Hello World\n",
      "WARNING:root:Dummy Exception Incoming\n",
      "ERROR:root:Dummy Exception\n",
      "Traceback (most recent call last):\n",
      "  File \"<ipython-input-3-9fb58faa88f7>\", line 5, in <module>\n",
      "    raise ValueError(\"Dummy Exception\")\n",
      "ValueError: Dummy Exception\n"
     ]
    }
   ],
   "source": [
    "logging.info(\"Hello World\")\n",
    "logging.warning(\"Dummy Exception Incoming\")\n",
    "\n",
    "try:\n",
    "    raise ValueError(\"Dummy Exception\")\n",
    "except ValueError as e:\n",
    "    logging.exception(e)"
   ]
  }
 ],
 "metadata": {
  "kernelspec": {
   "display_name": "Python 3",
   "language": "python",
   "name": "python3"
  },
  "language_info": {
   "codemirror_mode": {
    "name": "ipython",
    "version": 3
   },
   "file_extension": ".py",
   "mimetype": "text/x-python",
   "name": "python",
   "nbconvert_exporter": "python",
   "pygments_lexer": "ipython3",
   "version": "3.8.5"
  }
 },
 "nbformat": 4,
 "nbformat_minor": 4
}
