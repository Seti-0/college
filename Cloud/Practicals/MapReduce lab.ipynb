{
 "cells": [
  {
   "cell_type": "markdown",
   "metadata": {},
   "source": [
    "Simple map reduce function for testing purposes. "
   ]
  },
  {
   "cell_type": "code",
   "execution_count": 1,
   "metadata": {},
   "outputs": [],
   "source": [
    "from collections import defaultdict\n",
    "\n",
    "def sort(mapped_pairs):\n",
    "    \n",
    "    grouped_values = defaultdict(list)\n",
    "    \n",
    "    for output in mapped_pairs:\n",
    "        for k, v in output:\n",
    "            grouped_values[k].append(v)\n",
    "        \n",
    "    keys = list()\n",
    "    groups = list()\n",
    "    for key, group in grouped_values.items():\n",
    "        keys.append(key)\n",
    "        groups.append(group)\n",
    "    \n",
    "    return keys, groups\n",
    "\n",
    "#def shuffle(task, inputs, n=3):\n",
    "#    \n",
    "#    nodes = defaultdict(list)\n",
    "#    for \n",
    "    \n",
    "\n",
    "def map_reduce(data, mapper, reducer, combiner=None):\n",
    "    \n",
    "    mapped_pairs = map(mapper, data)    \n",
    "    groups_list = sort(mapped_pairs)\n",
    "    \n",
    "    if combiner is not None:\n",
    "        # This is like a reducer, but it might only recieve\n",
    "        # some of the values for a key. To simulate that\n",
    "        # important difference we need multiple nodes.\n",
    "        mapped_pairs = map(combiner, *groups_list)\n",
    "        groups_list = sort(mapped_pairs)\n",
    "        \n",
    "    reduced_pairs = map(reducer, *groups_list)\n",
    "    \n",
    "    results = list()\n",
    "    for reducer_output in reduced_pairs:\n",
    "        for k, v in reducer_output:\n",
    "            results.append((k, v))\n",
    "    \n",
    "    return list(results)"
   ]
  },
  {
   "cell_type": "markdown",
   "metadata": {},
   "source": [
    "Example usage."
   ]
  },
  {
   "cell_type": "code",
   "execution_count": 2,
   "metadata": {},
   "outputs": [
    {
     "data": {
      "text/plain": [
       "[('a', 4), ('b', 2), ('c', 1)]"
      ]
     },
     "execution_count": 2,
     "metadata": {},
     "output_type": "execute_result"
    }
   ],
   "source": [
    "def example_map(item):    \n",
    "    yield item, 1\n",
    "        \n",
    "def example_reduce(key, values):\n",
    "    yield key, sum(values)\n",
    "        \n",
    "map_reduce(\"abacaba\", example_map, example_reduce, combiner=example_reduce)"
   ]
  },
  {
   "cell_type": "markdown",
   "metadata": {},
   "source": [
    "### Question 1"
   ]
  },
  {
   "cell_type": "code",
   "execution_count": 3,
   "metadata": {},
   "outputs": [
    {
     "data": {
      "text/plain": [
       "[('www.ucd.ie', 753), ('hadoop.apache.ord', 5)]"
      ]
     },
     "execution_count": 3,
     "metadata": {},
     "output_type": "execute_result"
    }
   ],
   "source": [
    "import re\n",
    "\n",
    "data = [\n",
    "    \"https://www.ucd.ie/1,      453KB,      21/09/2019\",\n",
    "    \"https://hadoop.apache.ord/1,      5.1KB,      22/09/2019\",\n",
    "    \"https://www.ucd.ie/2,      300KB,      23/09/2019\"\n",
    "]\n",
    "\n",
    "def q1_map(item):\n",
    "    pattern = r\"https:\\/\\/([^\\/]*)\\/.*,\\s*(\\d+).*,.*\"\n",
    "    domain, byte_count = re.match(pattern, item).groups()\n",
    "    yield domain, int(byte_count)\n",
    "        \n",
    "def q1_reduce(key, values):\n",
    "    yield key, sum(values)\n",
    "        \n",
    "map_reduce(data, q1_map, q1_reduce)"
   ]
  },
  {
   "cell_type": "markdown",
   "metadata": {},
   "source": [
    "### Question 2"
   ]
  },
  {
   "cell_type": "markdown",
   "metadata": {},
   "source": [
    "Matrix multiplication! Go..."
   ]
  },
  {
   "cell_type": "markdown",
   "metadata": {},
   "source": [
    "Attempt 1.<br>\n",
    "\n",
    "Terribly inefficient in that it requires the data to be the cartesian product of the input cells with indices...\n",
    "\n",
    "This means it requires `O(N*M*N*M)` space!!! "
   ]
  },
  {
   "cell_type": "code",
   "execution_count": 4,
   "metadata": {},
   "outputs": [
    {
     "data": {
      "text/plain": [
       "[((1, 1), 19), ((2, 1), 43), ((1, 2), 22), ((2, 2), 50)]"
      ]
     },
     "execution_count": 4,
     "metadata": {},
     "output_type": "execute_result"
    }
   ],
   "source": [
    "# [1 2; 3 4] * [5 6; 7 8] = [19 22; 43 50]\n",
    "\n",
    "data = [\n",
    "    ((1, 1), 1, (1, 1), 5),\n",
    "    ((1, 2), 2, (1, 1), 5),  # Ignored\n",
    "    ((2, 1), 3, (1, 1), 5),  \n",
    "    ((2, 2), 4, (1, 1), 5),  # Ignored\n",
    "    ((1, 1), 1, (1, 2), 6),  \n",
    "    ((1, 2), 2, (1, 2), 6),  # Ignored\n",
    "    ((2, 1), 3, (1, 2), 6),\n",
    "    ((2, 2), 4, (1, 2), 6),  # Ignored\n",
    "    ((1, 1), 1, (2, 1), 7),  # Ignored\n",
    "    ((1, 2), 2, (2, 1), 7), \n",
    "    ((2, 1), 3, (2, 1), 7),  # Ignored\n",
    "    ((2, 2), 4, (2, 1), 7),\n",
    "    ((1, 1), 1, (2, 2), 8),  # Ignored\n",
    "    ((1, 2), 2, (2, 2), 8),\n",
    "    ((2, 1), 3, (2, 2), 8),  # Ignored\n",
    "    ((2, 2), 4, (2, 2), 8),\n",
    "]\n",
    "\n",
    "def awkward_map(item):\n",
    "    (i, n), Ain, (m, j), Bmj = item\n",
    "    if n == m:\n",
    "        yield (i, j), Ain*Bmj\n",
    "            \n",
    "def awkward_reduce(key, values):\n",
    "    yield key, sum(values)\n",
    "    \n",
    "map_reduce(data, awkward_map, awkward_reduce)"
   ]
  },
  {
   "cell_type": "markdown",
   "metadata": {},
   "source": [
    "That was terrible. This one is a lot better, it's loosely based on an articly by Geeks for Geeks."
   ]
  },
  {
   "cell_type": "code",
   "execution_count": 5,
   "metadata": {},
   "outputs": [
    {
     "data": {
      "text/plain": [
       "[((1, 1), 19), ((1, 2), 22), ((2, 1), 43), ((2, 2), 50)]"
      ]
     },
     "execution_count": 5,
     "metadata": {},
     "output_type": "execute_result"
    }
   ],
   "source": [
    "# A: 1 2; 3 4\n",
    "# B: 5 6; 7 8\n",
    "\n",
    "data = [\n",
    "    (\"a\", (1, 1), 1),\n",
    "    (\"a\", (1, 2), 2),\n",
    "    (\"a\", (2, 1), 3),\n",
    "    (\"a\", (2, 2), 4),\n",
    "    (\"b\", (1, 1), 5),\n",
    "    (\"b\", (1, 2), 6),\n",
    "    (\"b\", (2, 1), 7),\n",
    "    (\"b\", (2, 2), 8),\n",
    "]\n",
    "\n",
    "N = 2\n",
    "\n",
    "def matmul_map(item):\n",
    "    \n",
    "    source, (n, m), value = item\n",
    "    \n",
    "    if source == \"a\":\n",
    "        i = n\n",
    "        k = m\n",
    "        for j in range(1, N+1):\n",
    "            yield (i, j), (k, value)\n",
    "\n",
    "    else:\n",
    "        k = n\n",
    "        j = m\n",
    "        for i in range(1, N+1):\n",
    "            yield (i, j), (k, value) \n",
    "                \n",
    "def matmul_reduce(key, values):\n",
    "      \n",
    "    terms = [1]*N\n",
    "\n",
    "    for k, factor in values:\n",
    "\n",
    "        terms[k-1] *= factor\n",
    "\n",
    "    yield key, sum(terms)\n",
    "    \n",
    "map_reduce(data, matmul_map, matmul_reduce)"
   ]
  },
  {
   "cell_type": "markdown",
   "metadata": {},
   "source": [
    "That does requires the allocation of an array of length N on each reducer node."
   ]
  },
  {
   "cell_type": "markdown",
   "metadata": {},
   "source": [
    "### Question 3\n",
    "\n",
    "k-means.\n",
    "\n",
    "One iteration of this means mapping a series of points to the nearest centroid, and then recomputing the centroid."
   ]
  },
  {
   "cell_type": "markdown",
   "metadata": {},
   "source": [
    "First, lets write a non-mapreduce based one for testing and visualization."
   ]
  },
  {
   "cell_type": "code",
   "execution_count": 6,
   "metadata": {
    "scrolled": false
   },
   "outputs": [],
   "source": [
    "import numpy as np\n",
    "import matplotlib.pyplot as plt\n",
    "from collections import defaultdict\n",
    "\n",
    "def kmeans(points):\n",
    "    \n",
    "    N = len(points)\n",
    "    X = [x for x, y in points]\n",
    "    Y = [y for x, y in points]\n",
    "    \n",
    "    colors = \"rgbmy\"\n",
    "    k = len(colors)\n",
    "    centroids = np.zeros([k, 2])\n",
    "\n",
    "    # Initialize centroids to a ring around the center\n",
    "    theta = np.linspace(0, 1, k, endpoint=False)\n",
    "    for i in range(k):\n",
    "        centroids[i][0] = 0.5 + 0.2*np.cos(2*np.pi*theta[i])\n",
    "        centroids[i][1] = 0.5 + 0.2*np.sin(2*np.pi*theta[i])\n",
    "\n",
    "    counts = defaultdict(int)\n",
    "    point_groups = np.zeros(N, int)\n",
    "\n",
    "    def plot():\n",
    "\n",
    "        plt.figure()\n",
    "\n",
    "        for i, (x, y) in enumerate(centroids):\n",
    "            c = colors[i]\n",
    "            plt.plot(x, y, \"o\", c=c, markersize=20, alpha=0.4)\n",
    "        \n",
    "        C = list(map(lambda n: colors[n], point_groups))\n",
    "        plt.scatter(X, Y, c=C)\n",
    "\n",
    "    def reassign():\n",
    "\n",
    "        changes = 0\n",
    "\n",
    "        for i in range(N):\n",
    "\n",
    "            x, y = points[i]\n",
    "            old_group = point_groups[i]\n",
    "\n",
    "            def key(i):\n",
    "                cx, cy = centroids[i]\n",
    "                return (x-cx)**2 + (y-cy)**2\n",
    "\n",
    "            new_group = min(range(k), key=key)\n",
    "            if new_group != old_group:\n",
    "                point_groups[i] = new_group\n",
    "                changes += 1\n",
    "\n",
    "        return changes\n",
    "    \n",
    "    def update_centroids():\n",
    "\n",
    "        for group in range(k):\n",
    "            counts[group] = 0\n",
    "            centroids[group] = [0,0]\n",
    "\n",
    "        for group, (x, y) in zip(point_groups, points):\n",
    "            counts[group] += 1\n",
    "            centroids[group][0] += x\n",
    "            centroids[group][1] += y\n",
    "\n",
    "        for i in range(len(centroids)):\n",
    "            if counts[i] > 0:\n",
    "                centroids[i][0] /= counts[i]\n",
    "                centroids[i][1] /= counts[i]\n",
    "\n",
    "    changes = 1\n",
    "    iterations = 0\n",
    "    while changes > 0 and iterations < 20:\n",
    "\n",
    "        changes = reassign()\n",
    "        update_centroids()\n",
    "        # plot()\n",
    "\n",
    "        iterations += 1\n",
    "\n",
    "    print(\"Iterations:\", iterations)\n",
    "    plot()"
   ]
  },
  {
   "cell_type": "code",
   "execution_count": 10,
   "metadata": {},
   "outputs": [
    {
     "name": "stdout",
     "output_type": "stream",
     "text": [
      "Iterations: 3\n"
     ]
    },
    {
     "data": {
      "image/png": "[encoded data removed]",
      "text/plain": [
       "<Figure size 432x288 with 1 Axes>"
      ]
     },
     "metadata": {
      "needs_background": "light"
     },
     "output_type": "display_data"
    }
   ],
   "source": [
    "kmeans(np.random.random([30,2]))"
   ]
  },
  {
   "cell_type": "markdown",
   "metadata": {},
   "source": [
    "Note: the stability of the algorithm is tied to the starting points of the centroids - as long as they are stable, the result seems to be stable for any order of points. This makes sense - the \"reassign\" action acts on each point independantly, and the \"update_centroids\" involves taking the average which is commutative."
   ]
  },
  {
   "cell_type": "markdown",
   "metadata": {},
   "source": [
    "Right... about mapreduce. We want the number of points to be scalable. Maybe the number of groups too.\n",
    "<br>(Let `N` be the number of points, and `K` the number of groups)\n",
    "\n",
    "First version, based off a paper:\n",
    "<br>https://sites.cs.ucsb.edu/~veronika/MAE/parallelkmeansmapreduce_zhao.pdf\n",
    "\n",
    "This is **not** scalable in k. It is scalable in N though, which is cool.\n",
    "<br>Each iteration is a separate mapreduce step."
   ]
  },
  {
   "cell_type": "code",
   "execution_count": 68,
   "metadata": {},
   "outputs": [
    {
     "data": {
      "text/plain": [
       "[(3, (0.28885358497995345, 0.14715834982518367)),\n",
       " (2, (0.674433537193325, 0.8592348676868705)),\n",
       " (4, (0.5513724087685482, 0.5088615533340051)),\n",
       " (0, (0.8243732674195053, 0.16751168626297255)),\n",
       " (1, (0.12922879905864107, 0.7471216478907183))]"
      ]
     },
     "execution_count": 68,
     "metadata": {},
     "output_type": "execute_result"
    }
   ],
   "source": [
    "def kmeans_map(centroids):\n",
    "    \n",
    "    def mapper(item):\n",
    "\n",
    "        x, y = item\n",
    "\n",
    "        def distance(i):\n",
    "            cx, cy = centroids[i]\n",
    "            return (x - cx)**2 + (y - cy)**2\n",
    "\n",
    "        closest_k = min(range(k), key=distance)\n",
    "        yield closest_k, (x, y)\n",
    "            \n",
    "    return mapper\n",
    "    \n",
    "def kmeans_reduce(key, values):\n",
    "       \n",
    "    cx, cy = 0, 0\n",
    "    count = 0\n",
    "\n",
    "    for x, y in values:\n",
    "        cx += x\n",
    "        cy += y\n",
    "        count += 1\n",
    "\n",
    "    if count > 0:\n",
    "        cx /= count\n",
    "        cy /= count\n",
    "\n",
    "    yield key, (cx, cy)\n",
    "    \n",
    "N, k = 100, 5\n",
    "data = np.random.random([N,2])\n",
    "\n",
    "centroids = np.random.random([k, 2])\n",
    "\n",
    "map_reduce(data, kmeans_map(centroids), kmeans_reduce)"
   ]
  },
  {
   "cell_type": "code",
   "execution_count": 69,
   "metadata": {},
   "outputs": [],
   "source": [
    "def plot(points, centroids):\n",
    "    \n",
    "    N = len(points)\n",
    "    k = len(centroids)\n",
    "    \n",
    "    points_k = np.zeros(N, int)\n",
    "    for i, (x, y) in enumerate(points):\n",
    "        \n",
    "        def distance(i):\n",
    "            cx, cy = centroids[i]\n",
    "            return (x - cx)**2 + (y - cy)**2\n",
    "        \n",
    "        points_k[i] = min(range(k), key=distance)\n",
    "        \n",
    "    colors = \"rgbmy\"\n",
    "    plt.figure()\n",
    "        \n",
    "    for i, (x, y) in enumerate(centroids):\n",
    "        c = colors[i]\n",
    "        plt.plot(x, y, \"o\", c=c, markersize=20, alpha=0.4)\n",
    "\n",
    "    X = [x for x, y in points]\n",
    "    Y = [y for x, y in points]\n",
    "    C = list(map(lambda n: colors[n], points_k))\n",
    "    plt.scatter(X, Y, c=C)        "
   ]
  },
  {
   "cell_type": "markdown",
   "metadata": {},
   "source": [
    "Example with picture, and iteration."
   ]
  },
  {
   "cell_type": "code",
   "execution_count": 75,
   "metadata": {
    "scrolled": false
   },
   "outputs": [
    {
     "name": "stdout",
     "output_type": "stream",
     "text": [
      "Iterations: 7\n"
     ]
    },
    {
     "data": {
      "image/png": "[encoded data removed]",
      "text/plain": [
       "<Figure size 432x288 with 1 Axes>"
      ]
     },
     "metadata": {
      "needs_background": "light"
     },
     "output_type": "display_data"
    }
   ],
   "source": [
    "def kmeans_mapreduce(get_map, reducer, combiner=None):\n",
    "    \n",
    "    N, k = 100, 5\n",
    "    points = np.random.random([N,2])\n",
    "\n",
    "    centroids = list()\n",
    "\n",
    "    theta = np.linspace(0, 1, k, endpoint=False)\n",
    "    for i in range(k):\n",
    "        cx = 0.5 + 0.2*np.cos(2*np.pi*theta[i])\n",
    "        cy = 0.5 + 0.2*np.sin(2*np.pi*theta[i])\n",
    "        centroids.append((cx, cy))\n",
    "\n",
    "    for i in range(20):\n",
    "\n",
    "        result = map_reduce(points, get_map(centroids), reducer, combiner)\n",
    "\n",
    "        any_changes = False\n",
    "\n",
    "        for ki, (x, y) in result:\n",
    "            if centroids[ki] != (x, y):\n",
    "                any_changes = True\n",
    "                centroids[ki] = (x, y)\n",
    "\n",
    "        if not any_changes:\n",
    "            break\n",
    "\n",
    "    print(\"Iterations:\", i)\n",
    "    plot(points, centroids)\n",
    "    \n",
    "kmeans_mapreduce(kmeans_map, kmeans_reduce)"
   ]
  },
  {
   "cell_type": "markdown",
   "metadata": {},
   "source": [
    "V2 with combiner."
   ]
  },
  {
   "cell_type": "code",
   "execution_count": 78,
   "metadata": {},
   "outputs": [
    {
     "name": "stdout",
     "output_type": "stream",
     "text": [
      "Iterations: 8\n"
     ]
    },
    {
     "data": {
      "image/png": "[encoded data removed]",
      "text/plain": [
       "<Figure size 432x288 with 1 Axes>"
      ]
     },
     "metadata": {
      "needs_background": "light"
     },
     "output_type": "display_data"
    }
   ],
   "source": [
    "def kmeans_combine(key, values):\n",
    "    \n",
    "    cx = 0\n",
    "    cy = 0\n",
    "    count = 0\n",
    "\n",
    "    for x, y in values:\n",
    "        cx += x\n",
    "        cy += y\n",
    "        count += 1\n",
    "\n",
    "    if count > 0:\n",
    "        cx /= count\n",
    "        cy /= count\n",
    "\n",
    "    yield key, (cx, cy, count)\n",
    "    \n",
    "def kmeans_reduce2(key, values):\n",
    "       \n",
    "    cx, cy = 0, 0\n",
    "    count = 0\n",
    "\n",
    "    for x, y, subcount in values:\n",
    "        cx += x * subcount\n",
    "        cy += y * subcount\n",
    "        count += subcount\n",
    "\n",
    "    if count > 0:\n",
    "        cx /= count\n",
    "        cy /= count\n",
    "\n",
    "    yield key, (cx, cy)\n",
    "    \n",
    "kmeans_mapreduce(kmeans_map, kmeans_reduce2, kmeans_combine)"
   ]
  },
  {
   "cell_type": "markdown",
   "metadata": {},
   "source": [
    "Appendix: Keeping track of iterations by writing back to data. This is a **terrible** idea."
   ]
  },
  {
   "cell_type": "code",
   "execution_count": 79,
   "metadata": {},
   "outputs": [
    {
     "name": "stdout",
     "output_type": "stream",
     "text": [
      "8\n"
     ]
    },
    {
     "data": {
      "image/png": "[encoded data removed]",
      "text/plain": [
       "<Figure size 432x288 with 1 Axes>"
      ]
     },
     "metadata": {
      "needs_background": "light"
     },
     "output_type": "display_data"
    }
   ],
   "source": [
    "def get_map(centroids):\n",
    "    \n",
    "    def my_map(item):\n",
    "\n",
    "        x, y, key, previous_k = item\n",
    "\n",
    "        def distance(i):\n",
    "            cx, cy = centroids[i]\n",
    "            return (x - cx)**2 + (y - cy)**2\n",
    "\n",
    "        closest_k = min(range(k), key=distance)\n",
    "        changed = closest_k != previous_k\n",
    "\n",
    "        # writeback\n",
    "        data[key][3] = closest_k\n",
    "\n",
    "        yield closest_k, (x, y, changed)\n",
    "            \n",
    "    return my_map\n",
    "        \n",
    "def my_reduce(key, values):\n",
    "    \n",
    "    new_centroid = [0,0]\n",
    "    count = 0\n",
    "    any_changes = False\n",
    "\n",
    "    for x, y, changed in values:\n",
    "\n",
    "        new_centroid[0] += x\n",
    "        new_centroid[1] += y\n",
    "        count += 1\n",
    "        any_changes |= changed\n",
    "\n",
    "    if count > 0:\n",
    "        new_centroid[0] /= count\n",
    "        new_centroid[1] /= count\n",
    "\n",
    "    yield key, (new_centroid, any_changes)\n",
    "    \n",
    "########\n",
    "# Test #\n",
    "########\n",
    "    \n",
    "N, k = 100, 5\n",
    "points = np.random.random([N,2])\n",
    "data = [[x, y, i, 0] for i, (x, y) in enumerate(points)]\n",
    "\n",
    "centroids = np.zeros([k,2])\n",
    "\n",
    "theta = np.linspace(0, 1, k, endpoint=False)\n",
    "for i in range(k):\n",
    "    centroids[i][0] = 0.5 + 0.2*np.cos(2*np.pi*theta[i])\n",
    "    centroids[i][1] = 0.5 + 0.2*np.sin(2*np.pi*theta[i])\n",
    "\n",
    "centroids = np.random.random([k, 2])\n",
    "\n",
    "for i in range(50):\n",
    "    \n",
    "    result = map_reduce(data, get_map(centroids), my_reduce)\n",
    "    \n",
    "    any_changes = False\n",
    "    \n",
    "    for key, (centroid, changes) in result:\n",
    "        centroids[key] = centroid\n",
    "        any_changes |= changes\n",
    "\n",
    "    if not any_changes:\n",
    "        break\n",
    "\n",
    "print(i)\n",
    "plot(points, centroids)"
   ]
  }
 ],
 "metadata": {
  "kernelspec": {
   "display_name": "Python 3",
   "language": "python",
   "name": "python3"
  },
  "language_info": {
   "codemirror_mode": {
    "name": "ipython",
    "version": 3
   },
   "file_extension": ".py",
   "mimetype": "text/x-python",
   "name": "python",
   "nbconvert_exporter": "python",
   "pygments_lexer": "ipython3",
   "version": "3.8.5"
  }
 },
 "nbformat": 4,
 "nbformat_minor": 4
}
