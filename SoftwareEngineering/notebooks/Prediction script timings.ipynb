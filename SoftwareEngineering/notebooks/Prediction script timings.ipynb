{
 "cells": [
  {
   "cell_type": "code",
   "execution_count": 1,
   "id": "exact-annual",
   "metadata": {},
   "outputs": [],
   "source": [
    "URI = \"...\"\n",
    "PORT = 3306\n",
    "NAME = \"...\"\n",
    "USER = \"...\"\n",
    "PASS = \"...\"\n",
    "\n",
    "CONNECTION_STRING = f\"mysql://{USER}:{PASS}@{URI}:{PORT}/{NAME}\""
   ]
  },
  {
   "cell_type": "code",
   "execution_count": 2,
   "id": "activated-narrow",
   "metadata": {},
   "outputs": [],
   "source": [
    "from sklearn.neighbors import NearestNeighbors\n",
    "from sklearn import preprocessing\n",
    "import pandas as pd\n",
    "import MySQLdb"
   ]
  },
  {
   "cell_type": "code",
   "execution_count": 3,
   "id": "collect-domain",
   "metadata": {},
   "outputs": [],
   "source": [
    "connection = CONNECTION_STRING"
   ]
  },
  {
   "cell_type": "code",
   "execution_count": 4,
   "id": "indian-energy",
   "metadata": {},
   "outputs": [],
   "source": [
    "def get_weather_forecast(date, time):\n",
    "    \"\"\"\n",
    "    Pulls data from five_day_forecast table. Uses closest previous hour to call hour. (e.g. will return forecast for\n",
    "    midday if you request 14, rather than for 3pm)\n",
    "    :param date: string or datetime object\n",
    "    :param time: integer\n",
    "    :return: dataframe (single row) but format allows for easier manipulation later.\n",
    "    \"\"\"\n",
    ":"
   ]
  },
  {
   "cell_type": "code",
   "execution_count": 9,
   "id": "chubby-shift",
   "metadata": {},
   "outputs": [
    {
     "name": "stdout",
     "output_type": "stream",
     "text": [
      "Wall time: 2.53 s\n"
     ]
    }
   ],
   "source": [
    "%%time\n",
    "forecast = get_weather_forecast('2021-03-30', 21)"
   ]
  },
  {
   "cell_type": "code",
   "execution_count": 6,
   "id": "broadband-amplifier",
   "metadata": {},
   "outputs": [],
   "source": [
    "def get_historical_weather_data(date, time):\n",
    "    \"\"\"Takes in a date argument as a string or a datetime object, and time as an integer 0-23.\n",
    "    Pulls historical weather data from database for weather on the day and the week and time.\n",
    "    Returns dataframe with the weather records.\"\"\"\n",
    "    sql = f\"\"\"\n",
    "SELECT date_time, description, wind_speed, feels_like - 270\n",
    "FROM dublin_weather \n",
    "WHERE DAYOFWEEK(date_time) = DAYOFWEEK(\"{date}\") AND HOUR(date_time) = {time} ;\"\"\"\n",
    "    historical = pd.read_sql(sql, connection, index_col='date_time')\n",
    "    return historical"
   ]
  },
  {
   "cell_type": "code",
   "execution_count": 10,
   "id": "minimal-context",
   "metadata": {},
   "outputs": [
    {
     "name": "stdout",
     "output_type": "stream",
     "text": [
      "Wall time: 2.53 s\n"
     ]
    }
   ],
   "source": [
    "%%time\n",
    "historical_data = get_historical_weather_data('2021-03-30', 21)"
   ]
  },
  {
   "cell_type": "code",
   "execution_count": 11,
   "id": "atomic-ready",
   "metadata": {},
   "outputs": [],
   "source": [
    "def transform_and_normalize_weather_data(historical_df, forecast_df):\n",
    "    \"\"\"Takes in the historical and predicted weather forecasts in dataframe format.\n",
    "    Concatenates them, transforms the description column to extract a binary value for rain_yn, drops description column\n",
    "    and finally normalises the data so all values are between 0 and 1.\n",
    "    Returns dataframe of the cleaned and normalised data.\"\"\"\n",
    "    merged = pd.concat([historical_df, forecast_df])\n",
    "    rain_yn = []\n",
    "    for description in merged['description']:\n",
    "        rain_yn.append('rain' in description)\n",
    "    merged['rain_yn'] = rain_yn\n",
    "    merged.drop('description', axis='columns', inplace=True)\n",
    "\n",
    "    x = merged.values  # returns a numpy array\n",
    "    min_max_scaler = preprocessing.MinMaxScaler()\n",
    "    x_scaled = min_max_scaler.fit_transform(x)\n",
    "    df = pd.DataFrame(x_scaled, columns=merged.columns)\n",
    "\n",
    "    return df"
   ]
  },
  {
   "cell_type": "code",
   "execution_count": 13,
   "id": "trying-calculator",
   "metadata": {},
   "outputs": [
    {
     "name": "stdout",
     "output_type": "stream",
     "text": [
      "Wall time: 9.93 ms\n"
     ]
    }
   ],
   "source": [
    "%%time\n",
    "df = transform_and_normalize_weather_data(historical_data, forecast)"
   ]
  },
  {
   "cell_type": "code",
   "execution_count": 14,
   "id": "alternate-diesel",
   "metadata": {},
   "outputs": [],
   "source": [
    "def get_nearest_neighbour_index(normalized_df_with_input_as_final_row):\n",
    "    \"\"\"Takes in normalised dataframe with the row seeking a match as the final row, and\n",
    "    finds the nearest neighbour in the rest of the dataframe.\n",
    "    It returns the index of the nearest neighbour in the dataframe. (this can then be used to extract the date of\n",
    "    the nearest neighbour.)\"\"\"\n",
    "    samples = [normalized_df_with_input_as_final_row.iloc[i].to_numpy() for i in\n",
    "               range(normalized_df_with_input_as_final_row.shape[0] - 1)]\n",
    "    neigh = NearestNeighbors(n_neighbors=1)\n",
    "    neigh.fit(samples)\n",
    "    nn = neigh.kneighbors(\n",
    "        [normalized_df_with_input_as_final_row.iloc[normalized_df_with_input_as_final_row.shape[0] - 1].to_numpy()])\n",
    "    index_nn = nn[1][0][0]\n",
    "    return index_nn"
   ]
  },
  {
   "cell_type": "code",
   "execution_count": 15,
   "id": "following-scott",
   "metadata": {},
   "outputs": [
    {
     "name": "stdout",
     "output_type": "stream",
     "text": [
      "Wall time: 0 ns\n"
     ]
    },
    {
     "data": {
      "text/plain": [
       "3"
      ]
     },
     "execution_count": 15,
     "metadata": {},
     "output_type": "execute_result"
    }
   ],
   "source": [
    "%%time\n",
    "get_nearest_neighbour_index(df)"
   ]
  },
  {
   "cell_type": "code",
   "execution_count": 16,
   "id": "separate-tender",
   "metadata": {},
   "outputs": [],
   "source": [
    "def get_average_data_all_stations(date, hour):\n",
    "    \"\"\"\n",
    "    Returns bke data for all stations\n",
    "    :param date: formatted as string or datetime object.\n",
    "    :param hour: Integer 0 - 23\n",
    "    :return: Dictionary of total capacity and predicted bike availability for all stations on map.\n",
    "    \"\"\"\n",
    "    sql = f\"\"\"\n",
    "    SELECT number, name, address, bike_stands, latitude, longitude, banking, \n",
    "    ROUND(avg(available_bikes)) as available_bikes, status\n",
    "    FROM stations \n",
    "    INNER JOIN station_update USING (`number`)\n",
    "    WHERE DATE(retrieved) = DATE(\"{date}\") AND HOUR(retrieved) = {hour} \n",
    "    GROUP BY number;\"\"\"\n",
    "    df = pd.read_sql(sql.format(date, hour), connection)\n",
    "    result = dict()\n",
    "    result[\"rowcount\"] = len(df)\n",
    "    for field in df:\n",
    "        result[field] = df[field].values.tolist()\n",
    "\n",
    "    return result"
   ]
  },
  {
   "cell_type": "code",
   "execution_count": null,
   "id": "sticky-arthur",
   "metadata": {},
   "outputs": [],
   "source": [
    "%%time\n",
    "get_average_data_all_stations('2021-03-20', 15)"
   ]
  },
  {
   "cell_type": "code",
   "execution_count": 4,
   "id": "closing-things",
   "metadata": {},
   "outputs": [],
   "source": [
    "def get_weather_data(date, time):\n",
    "    sql = f\"\"\"\n",
    "SELECT date_time, description, wind_speed, feels_like - 270\n",
    "FROM dublin_weather\n",
    "WHERE DAYOFWEEK(date_time) = DAYOFWEEK(\"{date}\") AND HOUR(date_time) = {time}\n",
    "UNION\n",
    "SELECT date_time, description, wind_speed, feels_like - 270\n",
    "FROM five_day_forecast\n",
    "WHERE DATE(date_time) = DATE(\"{date}\") AND HOUR(date_time) = {time} OR HOUR(date_time) = {time - 1} OR HOUR(date_time) = {time - 2}\n",
    "ORDER BY date_time;\"\"\"\n",
    "    forecast = pd.read_sql(sql, connection, index_col='date_time')\n",
    "    return forecast"
   ]
  },
  {
   "cell_type": "code",
   "execution_count": 5,
   "id": "entire-upset",
   "metadata": {},
   "outputs": [
    {
     "name": "stdout",
     "output_type": "stream",
     "text": [
      "Wall time: 4.59 s\n"
     ]
    },
    {
     "data": {
      "text/html": [
       "<div>\n",
       "<style scoped>\n",
       "    .dataframe tbody tr th:only-of-type {\n",
       "        vertical-align: middle;\n",
       "    }\n",
       "\n",
       "    .dataframe tbody tr th {\n",
       "        vertical-align: top;\n",
       "    }\n",
       "\n",
       "    .dataframe thead th {\n",
       "        text-align: right;\n",
       "    }\n",
       "</style>\n",
       "<table border=\"1\" class=\"dataframe\">\n",
       "  <thead>\n",
       "    <tr style=\"text-align: right;\">\n",
       "      <th></th>\n",
       "      <th>description</th>\n",
       "      <th>wind_speed</th>\n",
       "      <th>feels_like - 270</th>\n",
       "    </tr>\n",
       "    <tr>\n",
       "      <th>date_time</th>\n",
       "      <th></th>\n",
       "      <th></th>\n",
       "      <th></th>\n",
       "    </tr>\n",
       "  </thead>\n",
       "  <tbody>\n",
       "    <tr>\n",
       "      <th>2021-03-02 12:15:11</th>\n",
       "      <td>mist</td>\n",
       "      <td>3.09</td>\n",
       "      <td>6.84</td>\n",
       "    </tr>\n",
       "    <tr>\n",
       "      <th>2021-03-09 12:18:17</th>\n",
       "      <td>broken clouds</td>\n",
       "      <td>6.17</td>\n",
       "      <td>8.35</td>\n",
       "    </tr>\n",
       "    <tr>\n",
       "      <th>2021-03-16 12:15:02</th>\n",
       "      <td>scattered clouds</td>\n",
       "      <td>8.23</td>\n",
       "      <td>9.58</td>\n",
       "    </tr>\n",
       "    <tr>\n",
       "      <th>2021-03-23 12:16:42</th>\n",
       "      <td>few clouds</td>\n",
       "      <td>7.72</td>\n",
       "      <td>8.11</td>\n",
       "    </tr>\n",
       "    <tr>\n",
       "      <th>2021-03-30 12:19:45</th>\n",
       "      <td>few clouds</td>\n",
       "      <td>3.60</td>\n",
       "      <td>15.36</td>\n",
       "    </tr>\n",
       "    <tr>\n",
       "      <th>2021-04-06 12:00:00</th>\n",
       "      <td>broken clouds</td>\n",
       "      <td>6.60</td>\n",
       "      <td>3.98</td>\n",
       "    </tr>\n",
       "  </tbody>\n",
       "</table>\n",
       "</div>"
      ],
      "text/plain": [
       "                          description  wind_speed  feels_like - 270\n",
       "date_time                                                          \n",
       "2021-03-02 12:15:11              mist        3.09              6.84\n",
       "2021-03-09 12:18:17     broken clouds        6.17              8.35\n",
       "2021-03-16 12:15:02  scattered clouds        8.23              9.58\n",
       "2021-03-23 12:16:42        few clouds        7.72              8.11\n",
       "2021-03-30 12:19:45        few clouds        3.60             15.36\n",
       "2021-04-06 12:00:00     broken clouds        6.60              3.98"
      ]
     },
     "execution_count": 5,
     "metadata": {},
     "output_type": "execute_result"
    }
   ],
   "source": [
    "%%time\n",
    "get_weather_data('2021-04-06', 12)"
   ]
  },
  {
   "cell_type": "code",
   "execution_count": null,
   "id": "coordinate-illness",
   "metadata": {},
   "outputs": [],
   "source": [
    "def get_target_outcomes(date, hour):\n",
    "    "
   ]
  }
 ],
 "metadata": {
  "kernelspec": {
   "display_name": "Python 3",
   "language": "python",
   "name": "python3"
  },
  "language_info": {
   "codemirror_mode": {
    "name": "ipython",
    "version": 3
   },
   "file_extension": ".py",
   "mimetype": "text/x-python",
   "name": "python",
   "nbconvert_exporter": "python",
   "pygments_lexer": "ipython3",
   "version": "3.8.5"
  }
 },
 "nbformat": 4,
 "nbformat_minor": 5
}
