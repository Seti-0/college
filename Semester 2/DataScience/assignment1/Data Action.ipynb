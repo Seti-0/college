{
 "cells": [
  {
   "cell_type": "code",
   "execution_count": 2,
   "metadata": {},
   "outputs": [],
   "source": [
    "import pandas as pd\n",
    "import matplotlib.pyplot as plt\n",
    "import misc"
   ]
  },
  {
   "cell_type": "markdown",
   "metadata": {},
   "source": [
    "Reading in the Dataset\n",
    "==\n",
    "\n",
    "This notebook looks for quality problems with the features, and takes action accordingly.\n",
    "The code bears similarity to the Data Quality Report, but the goal and result is different.\n",
    "\n",
    "It picks up from the \"data_after_part1.csv\" dataset saved in the \"Data Quality - Part 1\" notebook, and saves to the \"data_after_part2.csv\" dataset."
   ]
  },
  {
   "cell_type": "code",
   "execution_count": 4,
   "metadata": {},
   "outputs": [
    {
     "data": {
      "text/html": [
       "<div>\n",
       "<style scoped>\n",
       "    .dataframe tbody tr th:only-of-type {\n",
       "        vertical-align: middle;\n",
       "    }\n",
       "\n",
       "    .dataframe tbody tr th {\n",
       "        vertical-align: top;\n",
       "    }\n",
       "\n",
       "    .dataframe thead th {\n",
       "        text-align: right;\n",
       "    }\n",
       "</style>\n",
       "<table border=\"1\" class=\"dataframe\">\n",
       "  <thead>\n",
       "    <tr style=\"text-align: right;\">\n",
       "      <th></th>\n",
       "      <th>cdc_case_earliest_dt</th>\n",
       "      <th>pos_spec_dt</th>\n",
       "      <th>onset_dt</th>\n",
       "      <th>current_status</th>\n",
       "      <th>sex</th>\n",
       "      <th>age_group</th>\n",
       "      <th>race_ethnicity_combined</th>\n",
       "      <th>hosp_yn</th>\n",
       "      <th>icu_yn</th>\n",
       "      <th>death_yn</th>\n",
       "      <th>medcond_yn</th>\n",
       "    </tr>\n",
       "  </thead>\n",
       "  <tbody>\n",
       "    <tr>\n",
       "      <th>0</th>\n",
       "      <td>2020-08-25</td>\n",
       "      <td>2020-08-27</td>\n",
       "      <td>2020-08-25</td>\n",
       "      <td>Laboratory-confirmed case</td>\n",
       "      <td>Female</td>\n",
       "      <td>30 - 39 Years</td>\n",
       "      <td>Hispanic/Latino</td>\n",
       "      <td>No</td>\n",
       "      <td>Unknown</td>\n",
       "      <td>No</td>\n",
       "      <td>Unknown</td>\n",
       "    </tr>\n",
       "    <tr>\n",
       "      <th>1</th>\n",
       "      <td>2020-12-15</td>\n",
       "      <td>2020-12-15</td>\n",
       "      <td>NaT</td>\n",
       "      <td>Laboratory-confirmed case</td>\n",
       "      <td>Female</td>\n",
       "      <td>10 - 19 Years</td>\n",
       "      <td>Black, Non-Hispanic</td>\n",
       "      <td>No</td>\n",
       "      <td>Unknown</td>\n",
       "      <td>No</td>\n",
       "      <td>No</td>\n",
       "    </tr>\n",
       "    <tr>\n",
       "      <th>2</th>\n",
       "      <td>2020-09-21</td>\n",
       "      <td>NaT</td>\n",
       "      <td>2020-09-21</td>\n",
       "      <td>Laboratory-confirmed case</td>\n",
       "      <td>Female</td>\n",
       "      <td>10 - 19 Years</td>\n",
       "      <td>Unknown</td>\n",
       "      <td>No</td>\n",
       "      <td>Missing</td>\n",
       "      <td>No</td>\n",
       "      <td>Missing</td>\n",
       "    </tr>\n",
       "  </tbody>\n",
       "</table>\n",
       "</div>"
      ],
      "text/plain": [
       "  cdc_case_earliest_dt pos_spec_dt   onset_dt             current_status  \\\n",
       "0           2020-08-25  2020-08-27 2020-08-25  Laboratory-confirmed case   \n",
       "1           2020-12-15  2020-12-15        NaT  Laboratory-confirmed case   \n",
       "2           2020-09-21         NaT 2020-09-21  Laboratory-confirmed case   \n",
       "\n",
       "      sex      age_group race_ethnicity_combined hosp_yn   icu_yn death_yn  \\\n",
       "0  Female  30 - 39 Years         Hispanic/Latino      No  Unknown       No   \n",
       "1  Female  10 - 19 Years     Black, Non-Hispanic      No  Unknown       No   \n",
       "2  Female  10 - 19 Years                 Unknown      No  Missing       No   \n",
       "\n",
       "  medcond_yn  \n",
       "0    Unknown  \n",
       "1         No  \n",
       "2    Missing  "
      ]
     },
     "execution_count": 4,
     "metadata": {},
     "output_type": "execute_result"
    }
   ],
   "source": [
    "# I've chosen to keep the old index for now.\n",
    "data = pd.read_csv(\"data_after_part1.csv\", parse_dates = [1,2,3], index_col=0)\n",
    "\n",
    "for field in data.columns[3:]:\n",
    "    data[field] = data[field].astype(\"category\")\n",
    "\n",
    "data.head(3)"
   ]
  },
  {
   "cell_type": "markdown",
   "metadata": {},
   "source": [
    "Summary Table\n",
    "==\n",
    "\n",
    "This summarizes the results of the \"Individual Features\" section"
   ]
  },
  {
   "cell_type": "code",
   "execution_count": 59,
   "metadata": {},
   "outputs": [
    {
     "data": {
      "text/html": [
       "<div>\n",
       "<style scoped>\n",
       "    .dataframe tbody tr th:only-of-type {\n",
       "        vertical-align: middle;\n",
       "    }\n",
       "\n",
       "    .dataframe tbody tr th {\n",
       "        vertical-align: top;\n",
       "    }\n",
       "\n",
       "    .dataframe thead th {\n",
       "        text-align: right;\n",
       "    }\n",
       "</style>\n",
       "<table border=\"1\" class=\"dataframe\">\n",
       "  <thead>\n",
       "    <tr style=\"text-align: right;\">\n",
       "      <th></th>\n",
       "      <th>Issue</th>\n",
       "      <th>Severity</th>\n",
       "      <th>Action</th>\n",
       "      <th>Notes</th>\n",
       "    </tr>\n",
       "  </thead>\n",
       "  <tbody>\n",
       "    <tr>\n",
       "      <th>cdc_case_earliest_dt</th>\n",
       "      <td>None</td>\n",
       "      <td></td>\n",
       "      <td>None</td>\n",
       "      <td></td>\n",
       "    </tr>\n",
       "    <tr>\n",
       "      <th>pos_spec_dt</th>\n",
       "      <td>Missing values</td>\n",
       "      <td>Major</td>\n",
       "      <td>Column Dropped</td>\n",
       "      <td>Caveat w.r.t Part 4</td>\n",
       "    </tr>\n",
       "    <tr>\n",
       "      <th>onset_dt</th>\n",
       "      <td>Missing values</td>\n",
       "      <td>Major</td>\n",
       "      <td>Column Dropped</td>\n",
       "      <td>Caveat w.r.t Part 4</td>\n",
       "    </tr>\n",
       "    <tr>\n",
       "      <th>current_status</th>\n",
       "      <td>None</td>\n",
       "      <td></td>\n",
       "      <td>None</td>\n",
       "      <td></td>\n",
       "    </tr>\n",
       "    <tr>\n",
       "      <th>sex</th>\n",
       "      <td>'Missing' and 'Unknown' values</td>\n",
       "      <td>Minor</td>\n",
       "      <td>Combine 'Missing' and 'Unknown'</td>\n",
       "      <td></td>\n",
       "    </tr>\n",
       "    <tr>\n",
       "      <th>age_group</th>\n",
       "      <td>Missing Values</td>\n",
       "      <td>Minor</td>\n",
       "      <td>None</td>\n",
       "      <td></td>\n",
       "    </tr>\n",
       "    <tr>\n",
       "      <th>race_ethnicity_combined</th>\n",
       "      <td>'Missing' and 'Unknown' values</td>\n",
       "      <td>Minor</td>\n",
       "      <td>Combine 'Missing' and 'Unknown'</td>\n",
       "      <td></td>\n",
       "    </tr>\n",
       "    <tr>\n",
       "      <th>hosp_yn</th>\n",
       "      <td>'Missing', 'Unknown' and 'OTH' values</td>\n",
       "      <td>Major</td>\n",
       "      <td>Combine 'Missing', 'Unknown' and 'OTH'</td>\n",
       "      <td></td>\n",
       "    </tr>\n",
       "    <tr>\n",
       "      <th>icu_yn</th>\n",
       "      <td>'Missing' and 'Unknown' values</td>\n",
       "      <td>Major</td>\n",
       "      <td>Combine 'Missing' and 'Unknown'</td>\n",
       "      <td></td>\n",
       "    </tr>\n",
       "    <tr>\n",
       "      <th>death_yn</th>\n",
       "      <td>None</td>\n",
       "      <td></td>\n",
       "      <td>None</td>\n",
       "      <td></td>\n",
       "    </tr>\n",
       "    <tr>\n",
       "      <th>medcond_yn</th>\n",
       "      <td>'Missing' and 'Unknown' values</td>\n",
       "      <td>Major</td>\n",
       "      <td>Combine 'Missing' and 'Unknown'</td>\n",
       "      <td></td>\n",
       "    </tr>\n",
       "  </tbody>\n",
       "</table>\n",
       "</div>"
      ],
      "text/plain": [
       "                                                         Issue Severity  \\\n",
       "cdc_case_earliest_dt                                      None            \n",
       "pos_spec_dt                                     Missing values    Major   \n",
       "onset_dt                                        Missing values    Major   \n",
       "current_status                                            None            \n",
       "sex                             'Missing' and 'Unknown' values    Minor   \n",
       "age_group                                       Missing Values    Minor   \n",
       "race_ethnicity_combined         'Missing' and 'Unknown' values    Minor   \n",
       "hosp_yn                  'Missing', 'Unknown' and 'OTH' values    Major   \n",
       "icu_yn                          'Missing' and 'Unknown' values    Major   \n",
       "death_yn                                                  None            \n",
       "medcond_yn                      'Missing' and 'Unknown' values    Major   \n",
       "\n",
       "                                                         Action  \\\n",
       "cdc_case_earliest_dt                                       None   \n",
       "pos_spec_dt                                      Column Dropped   \n",
       "onset_dt                                         Column Dropped   \n",
       "current_status                                             None   \n",
       "sex                             Combine 'Missing' and 'Unknown'   \n",
       "age_group                                                  None   \n",
       "race_ethnicity_combined         Combine 'Missing' and 'Unknown'   \n",
       "hosp_yn                  Combine 'Missing', 'Unknown' and 'OTH'   \n",
       "icu_yn                          Combine 'Missing' and 'Unknown'   \n",
       "death_yn                                                   None   \n",
       "medcond_yn                      Combine 'Missing' and 'Unknown'   \n",
       "\n",
       "                                       Notes  \n",
       "cdc_case_earliest_dt                          \n",
       "pos_spec_dt              Caveat w.r.t Part 4  \n",
       "onset_dt                 Caveat w.r.t Part 4  \n",
       "current_status                                \n",
       "sex                                           \n",
       "age_group                                     \n",
       "race_ethnicity_combined                       \n",
       "hosp_yn                                       \n",
       "icu_yn                                        \n",
       "death_yn                                      \n",
       "medcond_yn                                    "
      ]
     },
     "metadata": {},
     "output_type": "display_data"
    }
   ],
   "source": [
    "# I'm sure there is an easier way of manually typing out a data frame, but\n",
    "# I didn't see one as of writing this.\n",
    "plan = [\n",
    "    [\"None\", None, \"None\"], # Earliest dt\n",
    "    [\"Missing values\", \"Major\", \"Column Dropped\", \"Caveat w.r.t Part 4\"], # Pos Spec\n",
    "    [\"Missing values\", \"Major\", \"Column Dropped\", \"Caveat w.r.t Part 4\"], # Onset\n",
    "    [\"None\", None, \"None\"], # Current status\n",
    "    [\"'Missing' and 'Unknown' values\", \"Minor\", \"Combine 'Missing' and 'Unknown'\"], # Sex,\n",
    "    [\"Missing Values\", \"Minor\", \"None\"], # Age\n",
    "    [\"'Missing' and 'Unknown' values\", \"Minor\", \"Combine 'Missing' and 'Unknown'\"], # Race/Eth.\n",
    "    [\"'Missing', 'Unknown' and 'OTH' values\", \"Major\", \"Combine 'Missing', 'Unknown' and 'OTH'\"], # Hospital\n",
    "    [\"'Missing' and 'Unknown' values\", \"Major\", \"Combine 'Missing' and 'Unknown'\"], # ICU\n",
    "    [\"None\", None, \"None\"], # Death\n",
    "    [\"'Missing' and 'Unknown' values\", \"Major\", \"Combine 'Missing' and 'Unknown'\"] # Medcond\n",
    "]\n",
    "\n",
    "plan = pd.DataFrame(plan, index = data.columns, columns = [\"Issue\", \"Severity\", \"Action\", \"Notes\"])\n",
    "plan = plan.fillna(\"\")\n",
    "display(plan)"
   ]
  },
  {
   "cell_type": "markdown",
   "metadata": {},
   "source": [
    "Apply Actions\n",
    "=="
   ]
  },
  {
   "cell_type": "code",
   "execution_count": 78,
   "metadata": {},
   "outputs": [
    {
     "data": {
      "text/html": [
       "<div>\n",
       "<style scoped>\n",
       "    .dataframe tbody tr th:only-of-type {\n",
       "        vertical-align: middle;\n",
       "    }\n",
       "\n",
       "    .dataframe tbody tr th {\n",
       "        vertical-align: top;\n",
       "    }\n",
       "\n",
       "    .dataframe thead th {\n",
       "        text-align: right;\n",
       "    }\n",
       "</style>\n",
       "<table border=\"1\" class=\"dataframe\">\n",
       "  <thead>\n",
       "    <tr style=\"text-align: right;\">\n",
       "      <th></th>\n",
       "      <th>cdc_case_earliest_dt</th>\n",
       "      <th>current_status</th>\n",
       "      <th>sex</th>\n",
       "      <th>age_group</th>\n",
       "      <th>race_ethnicity_combined</th>\n",
       "      <th>hosp_yn</th>\n",
       "      <th>icu_yn</th>\n",
       "      <th>death_yn</th>\n",
       "      <th>medcond_yn</th>\n",
       "    </tr>\n",
       "  </thead>\n",
       "  <tbody>\n",
       "    <tr>\n",
       "      <th>0</th>\n",
       "      <td>2020-08-25</td>\n",
       "      <td>Laboratory-confirmed case</td>\n",
       "      <td>Female</td>\n",
       "      <td>30 - 39 Years</td>\n",
       "      <td>Hispanic/Latino</td>\n",
       "      <td>No</td>\n",
       "      <td>Unknown</td>\n",
       "      <td>No</td>\n",
       "      <td>Unknown</td>\n",
       "    </tr>\n",
       "    <tr>\n",
       "      <th>1</th>\n",
       "      <td>2020-12-15</td>\n",
       "      <td>Laboratory-confirmed case</td>\n",
       "      <td>Female</td>\n",
       "      <td>10 - 19 Years</td>\n",
       "      <td>Black, Non-Hispanic</td>\n",
       "      <td>No</td>\n",
       "      <td>Unknown</td>\n",
       "      <td>No</td>\n",
       "      <td>No</td>\n",
       "    </tr>\n",
       "    <tr>\n",
       "      <th>2</th>\n",
       "      <td>2020-09-21</td>\n",
       "      <td>Laboratory-confirmed case</td>\n",
       "      <td>Female</td>\n",
       "      <td>10 - 19 Years</td>\n",
       "      <td>Unknown</td>\n",
       "      <td>No</td>\n",
       "      <td>Unknown</td>\n",
       "      <td>No</td>\n",
       "      <td>Unknown</td>\n",
       "    </tr>\n",
       "  </tbody>\n",
       "</table>\n",
       "</div>"
      ],
      "text/plain": [
       "  cdc_case_earliest_dt             current_status     sex      age_group  \\\n",
       "0           2020-08-25  Laboratory-confirmed case  Female  30 - 39 Years   \n",
       "1           2020-12-15  Laboratory-confirmed case  Female  10 - 19 Years   \n",
       "2           2020-09-21  Laboratory-confirmed case  Female  10 - 19 Years   \n",
       "\n",
       "  race_ethnicity_combined hosp_yn   icu_yn death_yn medcond_yn  \n",
       "0         Hispanic/Latino      No  Unknown       No    Unknown  \n",
       "1     Black, Non-Hispanic      No  Unknown       No         No  \n",
       "2                 Unknown      No  Unknown       No    Unknown  "
      ]
     },
     "execution_count": 78,
     "metadata": {},
     "output_type": "execute_result"
    }
   ],
   "source": [
    "result = data.copy()\n",
    "\n",
    "# These may become relevant again in part 4, but for now, drop them.\n",
    "result = result.drop(\"pos_spec_dt\", axis=1)\n",
    "result = result.drop(\"onset_dt\", axis=1)\n",
    "\n",
    "# These work across columns actually, which makes this\n",
    "# short and neat.\n",
    "result = result.replace(\"Missing\", \"Unknown\")\n",
    "result = result.replace(\"OTH\", \"Unknown\")\n",
    "\n",
    "result.to_csv(\"data_after_part2.csv\")\n",
    "result.head(3)"
   ]
  },
  {
   "cell_type": "markdown",
   "metadata": {},
   "source": [
    "Justification - Individual Features\n",
    "==\n",
    "\n",
    "For each dataset, discuss individual issues.\n",
    "\n",
    "There is no need to save plots here, this has already been done in the Quality Report.\n",
    "\n",
    "Note that for several features, there is missing data. In theory, it might be fine to just drop the rows with missing data, especially when the portion missing is small. However, for now, I prefer to keep any record that is not missing the target feature, and add consider a single \"Missing\" or \"Null\" option to be a valid value instead.\n",
    "\n",
    "(This is also recommended by the ML for Predictive Data Anlytics textbook, section 3.4.1)"
   ]
  },
  {
   "cell_type": "code",
   "execution_count": 35,
   "metadata": {},
   "outputs": [],
   "source": [
    "def describe_dt(key):\n",
    "    \n",
    "    data[key].hist(bins=20)\n",
    "    \n",
    "    nulls = data[key].isna().sum()\n",
    "    null_msg = str(nulls) + \" Nulls\"\n",
    "    \n",
    "    if nulls > 0:\n",
    "        nulls_percent = 100 * (nulls / len(data))\n",
    "        null_msg += \", \" + str(nulls_percent) + \"%\"\n",
    "    \n",
    "    print(f\"({null_msg})\")\n",
    "    \n",
    "    \n",
    "def describe_cat(key, charts = None):\n",
    "    \"\"\"\n",
    "    Display simple tallies and charts for a\n",
    "    categorical feature.\n",
    "    \"\"\"\n",
    "    \n",
    "    result = pd.DataFrame(index = data[key].unique())\n",
    "    \n",
    "    result[\"Freq.\"] = data[key].value_counts()\n",
    "    result[\"%\"] = data[key].value_counts(normalize=True) * 100\n",
    "    \n",
    "    display(result)\n",
    "\n",
    "    nulls = data[key].isna().sum()\n",
    "    print(\"(Nulls:\", nulls, end=\")\\n\")\n",
    "    \n",
    "    tally = data[key].value_counts()\n",
    "    tally.plot(kind=\"bar\", ylabel=\"\")"
   ]
  },
  {
   "cell_type": "markdown",
   "metadata": {},
   "source": [
    "Earliest DT\n",
    "==\n",
    "\n",
    "No nulls, and the distribution looks fine given the distribution of COVID cases.\n",
    "\n",
    "No issues here.\n",
    "\n",
    "**No action taken.**"
   ]
  },
  {
   "cell_type": "code",
   "execution_count": 6,
   "metadata": {},
   "outputs": [
    {
     "name": "stdout",
     "output_type": "stream",
     "text": [
      "(0 Nulls)\n"
     ]
    },
    {
     "data": {
      "image/png": "[encoded data removed]",
      "text/plain": [
       "<Figure size 432x288 with 1 Axes>"
      ]
     },
     "metadata": {
      "needs_background": "light"
     },
     "output_type": "display_data"
    }
   ],
   "source": [
    "describe_dt(\"cdc_case_earliest_dt\")"
   ]
  },
  {
   "cell_type": "markdown",
   "metadata": {},
   "source": [
    "Pos. Spec. DT\n",
    "==\n",
    "\n",
    "The distribution looks fine, but **there are lots and lots of nulls**. (About 70%)\n",
    "\n",
    "My first theory is that that nulls just indicate a lack of positive confirmation, and so the above figure is perfectly fine.\n",
    "\n",
    "This is wrong though! The \"current_status\" field suggests that over 90% of records are confirmed cases in the laboratory.\n",
    "\n",
    "So this is just missing data.\n",
    "\n",
    "Frankly, given the proportion of nulls and the fact that this column is almost a duplicate, I think it adds little information. And that imputing would add little information.\n",
    "\n",
    "**Action: drop column!**"
   ]
  },
  {
   "cell_type": "code",
   "execution_count": 8,
   "metadata": {},
   "outputs": [
    {
     "name": "stdout",
     "output_type": "stream",
     "text": [
      "(6536 Nulls, 70.35522066738429%)\n"
     ]
    },
    {
     "data": {
      "image/png": "[encoded data removed]",
      "text/plain": [
       "<Figure size 432x288 with 1 Axes>"
      ]
     },
     "metadata": {
      "needs_background": "light"
     },
     "output_type": "display_data"
    }
   ],
   "source": [
    "describe_dt(\"pos_spec_dt\")"
   ]
  },
  {
   "cell_type": "markdown",
   "metadata": {},
   "source": [
    "Onset DT\n",
    "==\n",
    "\n",
    "Again, the distribution is fine. Very similar to that of the previous two columns, which is expected. (This was discussed in more detail in the Data Quality Report).\n",
    "\n",
    "Again, **the problem is nulls**, and again, I would interpret that as indicating cases for which there was no previous declaration of symptoms.\n",
    "\n",
    "Rather than drop rows, or impute, I'd prefer to create a new feature to capture this. (And disregard the precise dates). \n",
    "\n",
    "This will await part 4.\n",
    "\n",
    "**Action: drop column!**."
   ]
  },
  {
   "cell_type": "code",
   "execution_count": 9,
   "metadata": {},
   "outputs": [
    {
     "name": "stdout",
     "output_type": "stream",
     "text": [
      "(4449 Nulls, 47.890204520990316%)\n"
     ]
    },
    {
     "data": {
      "image/png": "[encoded data removed]",
      "text/plain": [
       "<Figure size 432x288 with 1 Axes>"
      ]
     },
     "metadata": {
      "needs_background": "light"
     },
     "output_type": "display_data"
    }
   ],
   "source": [
    "describe_dt(\"onset_dt\")"
   ]
  },
  {
   "cell_type": "markdown",
   "metadata": {},
   "source": [
    "Current Status\n",
    "==\n",
    "\n"
   ]
  },
  {
   "cell_type": "markdown",
   "metadata": {},
   "source": [
    "No missing values!\n",
    "That's great.\n",
    "\n",
    "The distribution is heavily weighted towards \"confirmed case\", but is not unexpected. It is something to be aware of when creating test and training datasets, possibly.\n",
    "\n",
    "**No action taken**"
   ]
  },
  {
   "cell_type": "code",
   "execution_count": 13,
   "metadata": {},
   "outputs": [
    {
     "data": {
      "text/html": [
       "<div>\n",
       "<style scoped>\n",
       "    .dataframe tbody tr th:only-of-type {\n",
       "        vertical-align: middle;\n",
       "    }\n",
       "\n",
       "    .dataframe tbody tr th {\n",
       "        vertical-align: top;\n",
       "    }\n",
       "\n",
       "    .dataframe thead th {\n",
       "        text-align: right;\n",
       "    }\n",
       "</style>\n",
       "<table border=\"1\" class=\"dataframe\">\n",
       "  <thead>\n",
       "    <tr style=\"text-align: right;\">\n",
       "      <th></th>\n",
       "      <th>Freq.</th>\n",
       "      <th>%</th>\n",
       "    </tr>\n",
       "  </thead>\n",
       "  <tbody>\n",
       "    <tr>\n",
       "      <th>Laboratory-confirmed case</th>\n",
       "      <td>8602</td>\n",
       "      <td>92.594187</td>\n",
       "    </tr>\n",
       "    <tr>\n",
       "      <th>Probable Case</th>\n",
       "      <td>688</td>\n",
       "      <td>7.405813</td>\n",
       "    </tr>\n",
       "  </tbody>\n",
       "</table>\n",
       "</div>"
      ],
      "text/plain": [
       "                           Freq.          %\n",
       "Laboratory-confirmed case   8602  92.594187\n",
       "Probable Case                688   7.405813"
      ]
     },
     "metadata": {},
     "output_type": "display_data"
    },
    {
     "name": "stdout",
     "output_type": "stream",
     "text": [
      "(Nulls: 0)\n"
     ]
    },
    {
     "data": {
      "image/png": "[encoded data removed]",
      "text/plain": [
       "<Figure size 432x288 with 1 Axes>"
      ]
     },
     "metadata": {
      "needs_background": "light"
     },
     "output_type": "display_data"
    }
   ],
   "source": [
    "describe_cat(\"current_status\")"
   ]
  },
  {
   "cell_type": "markdown",
   "metadata": {},
   "source": [
    "Sex\n",
    "==\n",
    "\n",
    "There are minor issues with this feature. A small proportion of the values are \"Missing\", and another small proportion are \"Unknown\".\n",
    "\n",
    "Most of data is present. There is a slightly larger proportion of females in this dataset, but the different is small enough that it does not seem a concern.\n",
    "\n",
    "For the sake of resolving ambiguity, \"Missing\" and \"Unknown\" should be combined here - either way, the gender data is not present.\n",
    "\n",
    "However, there might be an interesting distinction between \"Missing\" and \"Unknown\". One might be just the user putting down nothing, or something illegible. The other may indicate that the user wished for another option.\n",
    "\n",
    "Given the small proportion of such values, more advanced treatment is not worth it here. But in other features where this comes up again, at larger scales, it might be.\n",
    "\n",
    "**Action: combine \"Unknown\" and \"Missing\"**"
   ]
  },
  {
   "cell_type": "code",
   "execution_count": 15,
   "metadata": {},
   "outputs": [
    {
     "data": {
      "text/html": [
       "<div>\n",
       "<style scoped>\n",
       "    .dataframe tbody tr th:only-of-type {\n",
       "        vertical-align: middle;\n",
       "    }\n",
       "\n",
       "    .dataframe tbody tr th {\n",
       "        vertical-align: top;\n",
       "    }\n",
       "\n",
       "    .dataframe thead th {\n",
       "        text-align: right;\n",
       "    }\n",
       "</style>\n",
       "<table border=\"1\" class=\"dataframe\">\n",
       "  <thead>\n",
       "    <tr style=\"text-align: right;\">\n",
       "      <th></th>\n",
       "      <th>Freq.</th>\n",
       "      <th>%</th>\n",
       "    </tr>\n",
       "  </thead>\n",
       "  <tbody>\n",
       "    <tr>\n",
       "      <th>Female</th>\n",
       "      <td>4774</td>\n",
       "      <td>51.388590</td>\n",
       "    </tr>\n",
       "    <tr>\n",
       "      <th>Male</th>\n",
       "      <td>4426</td>\n",
       "      <td>47.642626</td>\n",
       "    </tr>\n",
       "    <tr>\n",
       "      <th>Unknown</th>\n",
       "      <td>75</td>\n",
       "      <td>0.807320</td>\n",
       "    </tr>\n",
       "    <tr>\n",
       "      <th>Missing</th>\n",
       "      <td>15</td>\n",
       "      <td>0.161464</td>\n",
       "    </tr>\n",
       "  </tbody>\n",
       "</table>\n",
       "</div>"
      ],
      "text/plain": [
       "         Freq.          %\n",
       "Female    4774  51.388590\n",
       "Male      4426  47.642626\n",
       "Unknown     75   0.807320\n",
       "Missing     15   0.161464"
      ]
     },
     "metadata": {},
     "output_type": "display_data"
    },
    {
     "name": "stdout",
     "output_type": "stream",
     "text": [
      "(Nulls: 0)\n"
     ]
    },
    {
     "data": {
      "image/png": "[encoded data removed]",
      "text/plain": [
       "<Figure size 432x288 with 1 Axes>"
      ]
     },
     "metadata": {
      "needs_background": "light"
     },
     "output_type": "display_data"
    }
   ],
   "source": [
    "describe_cat(\"sex\")"
   ]
  },
  {
   "cell_type": "markdown",
   "metadata": {},
   "source": [
    "Age Group\n",
    "==\n",
    "\n",
    "A tiny proportion of missing values. No \"Unknown\" vs \"Missing.\". \n",
    "\n",
    "The distribution isn't too surprising, considering the population demographic in Ireland today and the fact that children are quite resistant to the virus. I'm slightly surprised at the high number of 20-29 year olds here, but not nearly enough that I would consider it likely there was an issue with the dataset.\n",
    "\n",
    "It might be interesting to make a numerical feature from this, but that is an issue for Part 4.\n",
    "\n",
    "**No action taken**"
   ]
  },
  {
   "cell_type": "code",
   "execution_count": 16,
   "metadata": {},
   "outputs": [
    {
     "data": {
      "text/html": [
       "<div>\n",
       "<style scoped>\n",
       "    .dataframe tbody tr th:only-of-type {\n",
       "        vertical-align: middle;\n",
       "    }\n",
       "\n",
       "    .dataframe tbody tr th {\n",
       "        vertical-align: top;\n",
       "    }\n",
       "\n",
       "    .dataframe thead th {\n",
       "        text-align: right;\n",
       "    }\n",
       "</style>\n",
       "<table border=\"1\" class=\"dataframe\">\n",
       "  <thead>\n",
       "    <tr style=\"text-align: right;\">\n",
       "      <th></th>\n",
       "      <th>Freq.</th>\n",
       "      <th>%</th>\n",
       "    </tr>\n",
       "  </thead>\n",
       "  <tbody>\n",
       "    <tr>\n",
       "      <th>30 - 39 Years</th>\n",
       "      <td>1439</td>\n",
       "      <td>15.489774</td>\n",
       "    </tr>\n",
       "    <tr>\n",
       "      <th>10 - 19 Years</th>\n",
       "      <td>998</td>\n",
       "      <td>10.742734</td>\n",
       "    </tr>\n",
       "    <tr>\n",
       "      <th>20 - 29 Years</th>\n",
       "      <td>1714</td>\n",
       "      <td>18.449946</td>\n",
       "    </tr>\n",
       "    <tr>\n",
       "      <th>60 - 69 Years</th>\n",
       "      <td>965</td>\n",
       "      <td>10.387513</td>\n",
       "    </tr>\n",
       "    <tr>\n",
       "      <th>40 - 49 Years</th>\n",
       "      <td>1356</td>\n",
       "      <td>14.596340</td>\n",
       "    </tr>\n",
       "    <tr>\n",
       "      <th>80+ Years</th>\n",
       "      <td>469</td>\n",
       "      <td>5.048439</td>\n",
       "    </tr>\n",
       "    <tr>\n",
       "      <th>50 - 59 Years</th>\n",
       "      <td>1315</td>\n",
       "      <td>14.155005</td>\n",
       "    </tr>\n",
       "    <tr>\n",
       "      <th>70 - 79 Years</th>\n",
       "      <td>593</td>\n",
       "      <td>6.383208</td>\n",
       "    </tr>\n",
       "    <tr>\n",
       "      <th>0 - 9 Years</th>\n",
       "      <td>429</td>\n",
       "      <td>4.617869</td>\n",
       "    </tr>\n",
       "    <tr>\n",
       "      <th>Missing</th>\n",
       "      <td>12</td>\n",
       "      <td>0.129171</td>\n",
       "    </tr>\n",
       "  </tbody>\n",
       "</table>\n",
       "</div>"
      ],
      "text/plain": [
       "               Freq.          %\n",
       "30 - 39 Years   1439  15.489774\n",
       "10 - 19 Years    998  10.742734\n",
       "20 - 29 Years   1714  18.449946\n",
       "60 - 69 Years    965  10.387513\n",
       "40 - 49 Years   1356  14.596340\n",
       "80+ Years        469   5.048439\n",
       "50 - 59 Years   1315  14.155005\n",
       "70 - 79 Years    593   6.383208\n",
       "0 - 9 Years      429   4.617869\n",
       "Missing           12   0.129171"
      ]
     },
     "metadata": {},
     "output_type": "display_data"
    },
    {
     "name": "stdout",
     "output_type": "stream",
     "text": [
      "(Nulls: 0)\n"
     ]
    },
    {
     "data": {
      "image/png": "[encoded data removed]",
      "text/plain": [
       "<Figure size 432x288 with 1 Axes>"
      ]
     },
     "metadata": {
      "needs_background": "light"
     },
     "output_type": "display_data"
    }
   ],
   "source": [
    "describe_cat(\"age_group\")"
   ]
  },
  {
   "cell_type": "markdown",
   "metadata": {},
   "source": [
    "Race and Ethnicity\n",
    "==\n",
    "\n",
    "There is a large proportion of \"Unknown\" values in this one, and a small proportion of separate \"Missing\" values.\n",
    "\n",
    "I don't think there is much that can be done here. The values cannot be imputed (short of maybe making a separate ML model for that purpose), and there are too many to even consider dropping rows. \n",
    "\n",
    "The one minor thing is to, again, combine \"Unknown\" and \"Missing\", since I doubt that small proportion of \"Missing\" brings much to the dataset.\n",
    "\n",
    "One thing to consider later is the possibility of separating the feature a little. Asian, White, Black, etc, could be separated from Hispanic/Non-Hispanic\n",
    "\n",
    "**Action: combine \"Unknown\" and \"Missing\"**"
   ]
  },
  {
   "cell_type": "code",
   "execution_count": 22,
   "metadata": {},
   "outputs": [
    {
     "data": {
      "text/html": [
       "<div>\n",
       "<style scoped>\n",
       "    .dataframe tbody tr th:only-of-type {\n",
       "        vertical-align: middle;\n",
       "    }\n",
       "\n",
       "    .dataframe tbody tr th {\n",
       "        vertical-align: top;\n",
       "    }\n",
       "\n",
       "    .dataframe thead th {\n",
       "        text-align: right;\n",
       "    }\n",
       "</style>\n",
       "<table border=\"1\" class=\"dataframe\">\n",
       "  <thead>\n",
       "    <tr style=\"text-align: right;\">\n",
       "      <th></th>\n",
       "      <th>Freq.</th>\n",
       "      <th>%</th>\n",
       "    </tr>\n",
       "  </thead>\n",
       "  <tbody>\n",
       "    <tr>\n",
       "      <th>Hispanic/Latino</th>\n",
       "      <td>980</td>\n",
       "      <td>10.548977</td>\n",
       "    </tr>\n",
       "    <tr>\n",
       "      <th>Black, Non-Hispanic</th>\n",
       "      <td>671</td>\n",
       "      <td>7.222820</td>\n",
       "    </tr>\n",
       "    <tr>\n",
       "      <th>Unknown</th>\n",
       "      <td>3611</td>\n",
       "      <td>38.869752</td>\n",
       "    </tr>\n",
       "    <tr>\n",
       "      <th>Asian, Non-Hispanic</th>\n",
       "      <td>252</td>\n",
       "      <td>2.712594</td>\n",
       "    </tr>\n",
       "    <tr>\n",
       "      <th>White, Non-Hispanic</th>\n",
       "      <td>3146</td>\n",
       "      <td>33.864370</td>\n",
       "    </tr>\n",
       "    <tr>\n",
       "      <th>Multiple/Other, Non-Hispanic</th>\n",
       "      <td>470</td>\n",
       "      <td>5.059203</td>\n",
       "    </tr>\n",
       "    <tr>\n",
       "      <th>American Indian/Alaska Native, Non-Hispanic</th>\n",
       "      <td>57</td>\n",
       "      <td>0.613563</td>\n",
       "    </tr>\n",
       "    <tr>\n",
       "      <th>Missing</th>\n",
       "      <td>85</td>\n",
       "      <td>0.914962</td>\n",
       "    </tr>\n",
       "    <tr>\n",
       "      <th>Native Hawaiian/Other Pacific Islander, Non-Hispanic</th>\n",
       "      <td>18</td>\n",
       "      <td>0.193757</td>\n",
       "    </tr>\n",
       "  </tbody>\n",
       "</table>\n",
       "</div>"
      ],
      "text/plain": [
       "                                                    Freq.          %\n",
       "Hispanic/Latino                                       980  10.548977\n",
       "Black, Non-Hispanic                                   671   7.222820\n",
       "Unknown                                              3611  38.869752\n",
       "Asian, Non-Hispanic                                   252   2.712594\n",
       "White, Non-Hispanic                                  3146  33.864370\n",
       "Multiple/Other, Non-Hispanic                          470   5.059203\n",
       "American Indian/Alaska Native, Non-Hispanic            57   0.613563\n",
       "Missing                                                85   0.914962\n",
       "Native Hawaiian/Other Pacific Islander, Non-His...     18   0.193757"
      ]
     },
     "metadata": {},
     "output_type": "display_data"
    },
    {
     "name": "stdout",
     "output_type": "stream",
     "text": [
      "(Nulls: 0)\n"
     ]
    },
    {
     "data": {
      "image/png": "[encoded data removed]",
      "text/plain": [
       "<Figure size 576x576 with 1 Axes>"
      ]
     },
     "metadata": {
      "needs_background": "light"
     },
     "output_type": "display_data"
    }
   ],
   "source": [
    "plt.figure(figsize=(8,8)) # Some labels are long in this one.\n",
    "describe_cat(\"race_ethnicity_combined\")"
   ]
  },
  {
   "cell_type": "markdown",
   "metadata": {},
   "source": [
    "Hospital\n",
    "=="
   ]
  },
  {
   "cell_type": "markdown",
   "metadata": {},
   "source": [
    "Lots and lots of missing values here. It's possible \"Missing\" could be imputed to \"No\" here, given the likelihood that someone is hospitalized over Covid is maybe not too high. (Especially if they are young.)\n",
    "\n",
    "There is a tiny proportion of \"OTH\" values, which I presume stands for \"other\". I doubt it adds much information, and could probably be combined with \"Unknown\".\n",
    "\n",
    "\"Missing\" and \"Unknown\" both take up large proportions of the dataset. If there is an interesting distinction between them, it may be worth extracting this to a feature in Part 4. For example: \"hosp_yn_status\" with possible values \"Specified\"/\"Missing\"/\"Unknown\".\n",
    "\n",
    "For the sake of this feature, though, \"Missing\" and \"Unknown\" provide much the same information, and so might as well be combined.\n",
    "\n",
    "**Action taken: combine \"OTH\", \"Missing\" and \"Unknown\"**"
   ]
  },
  {
   "cell_type": "code",
   "execution_count": 23,
   "metadata": {},
   "outputs": [
    {
     "data": {
      "text/html": [
       "<div>\n",
       "<style scoped>\n",
       "    .dataframe tbody tr th:only-of-type {\n",
       "        vertical-align: middle;\n",
       "    }\n",
       "\n",
       "    .dataframe tbody tr th {\n",
       "        vertical-align: top;\n",
       "    }\n",
       "\n",
       "    .dataframe thead th {\n",
       "        text-align: right;\n",
       "    }\n",
       "</style>\n",
       "<table border=\"1\" class=\"dataframe\">\n",
       "  <thead>\n",
       "    <tr style=\"text-align: right;\">\n",
       "      <th></th>\n",
       "      <th>Freq.</th>\n",
       "      <th>%</th>\n",
       "    </tr>\n",
       "  </thead>\n",
       "  <tbody>\n",
       "    <tr>\n",
       "      <th>No</th>\n",
       "      <td>4941</td>\n",
       "      <td>53.186222</td>\n",
       "    </tr>\n",
       "    <tr>\n",
       "      <th>Missing</th>\n",
       "      <td>2101</td>\n",
       "      <td>22.615716</td>\n",
       "    </tr>\n",
       "    <tr>\n",
       "      <th>Yes</th>\n",
       "      <td>673</td>\n",
       "      <td>7.244349</td>\n",
       "    </tr>\n",
       "    <tr>\n",
       "      <th>Unknown</th>\n",
       "      <td>1572</td>\n",
       "      <td>16.921421</td>\n",
       "    </tr>\n",
       "    <tr>\n",
       "      <th>OTH</th>\n",
       "      <td>3</td>\n",
       "      <td>0.032293</td>\n",
       "    </tr>\n",
       "  </tbody>\n",
       "</table>\n",
       "</div>"
      ],
      "text/plain": [
       "         Freq.          %\n",
       "No        4941  53.186222\n",
       "Missing   2101  22.615716\n",
       "Yes        673   7.244349\n",
       "Unknown   1572  16.921421\n",
       "OTH          3   0.032293"
      ]
     },
     "metadata": {},
     "output_type": "display_data"
    },
    {
     "name": "stdout",
     "output_type": "stream",
     "text": [
      "(Nulls: 0)\n"
     ]
    },
    {
     "data": {
      "image/png": "[encoded data removed]",
      "text/plain": [
       "<Figure size 432x288 with 1 Axes>"
      ]
     },
     "metadata": {
      "needs_background": "light"
     },
     "output_type": "display_data"
    }
   ],
   "source": [
    "describe_cat(\"hosp_yn\")"
   ]
  },
  {
   "cell_type": "markdown",
   "metadata": {},
   "source": [
    "Intensive Care\n",
    "==\n",
    "\n",
    "There is only a tiny proportion of \"Yes\" in this one. However, given that it is an indication of serious trouble for the health of a patient, this tiny proportion is likely far from negligible. \n",
    "(This is to be explored further in Part 3)\n",
    "\n",
    "Missing and Unknown again both take up significant proportions. Similar to with hosp_yn, these are to be combined. (With the difference potentially extracted to a feature later in Part 4)\n",
    "\n",
    "**Action taken: combine \"Missing\" and \"Unknown\"**"
   ]
  },
  {
   "cell_type": "code",
   "execution_count": 24,
   "metadata": {},
   "outputs": [
    {
     "data": {
      "text/html": [
       "<div>\n",
       "<style scoped>\n",
       "    .dataframe tbody tr th:only-of-type {\n",
       "        vertical-align: middle;\n",
       "    }\n",
       "\n",
       "    .dataframe tbody tr th {\n",
       "        vertical-align: top;\n",
       "    }\n",
       "\n",
       "    .dataframe thead th {\n",
       "        text-align: right;\n",
       "    }\n",
       "</style>\n",
       "<table border=\"1\" class=\"dataframe\">\n",
       "  <thead>\n",
       "    <tr style=\"text-align: right;\">\n",
       "      <th></th>\n",
       "      <th>Freq.</th>\n",
       "      <th>%</th>\n",
       "    </tr>\n",
       "  </thead>\n",
       "  <tbody>\n",
       "    <tr>\n",
       "      <th>Unknown</th>\n",
       "      <td>1258</td>\n",
       "      <td>13.541442</td>\n",
       "    </tr>\n",
       "    <tr>\n",
       "      <th>Missing</th>\n",
       "      <td>6939</td>\n",
       "      <td>74.693219</td>\n",
       "    </tr>\n",
       "    <tr>\n",
       "      <th>No</th>\n",
       "      <td>1017</td>\n",
       "      <td>10.947255</td>\n",
       "    </tr>\n",
       "    <tr>\n",
       "      <th>Yes</th>\n",
       "      <td>76</td>\n",
       "      <td>0.818084</td>\n",
       "    </tr>\n",
       "  </tbody>\n",
       "</table>\n",
       "</div>"
      ],
      "text/plain": [
       "         Freq.          %\n",
       "Unknown   1258  13.541442\n",
       "Missing   6939  74.693219\n",
       "No        1017  10.947255\n",
       "Yes         76   0.818084"
      ]
     },
     "metadata": {},
     "output_type": "display_data"
    },
    {
     "name": "stdout",
     "output_type": "stream",
     "text": [
      "(Nulls: 0)\n"
     ]
    },
    {
     "data": {
      "image/png": "[encoded data removed]",
      "text/plain": [
       "<Figure size 432x288 with 1 Axes>"
      ]
     },
     "metadata": {
      "needs_background": "light"
     },
     "output_type": "display_data"
    }
   ],
   "source": [
    "describe_cat(\"icu_yn\")"
   ]
  },
  {
   "cell_type": "markdown",
   "metadata": {},
   "source": [
    "One finally minor note is that quick consistency check can be done. This confirms that anyone in intensive care was admitted to a hospital.\n",
    "\n",
    "Though I feel it worth noting that a few exceptions to this rule might actually be expected - depending on the admin of a given hospital, it might be possible that a person admitted to the ICU who then doesn't stay long might not be considered fully hospitalized, for the sake of fees and paperwork and the convenience of everyone involved."
   ]
  },
  {
   "cell_type": "code",
   "execution_count": 30,
   "metadata": {},
   "outputs": [
    {
     "data": {
      "text/plain": [
       "0"
      ]
     },
     "execution_count": 30,
     "metadata": {},
     "output_type": "execute_result"
    }
   ],
   "source": [
    "len(data[(data.icu_yn == \"Yes\") & (data.hosp_yn == \"No\")])"
   ]
  },
  {
   "cell_type": "markdown",
   "metadata": {},
   "source": [
    "Death\n",
    "==\n",
    "\n",
    "No problems with this one, thankfully, given that it is the target feature.\n",
    "\n",
    "A quick internet search gives 2% as an estimated death rate in Ireland, which is lower than the 3% here. However, the former number could be based on an estimate of cases that (perhaps because they were minor) never made it to the CDC database as well as those that did.\n",
    "\n",
    "**No action taken**"
   ]
  },
  {
   "cell_type": "code",
   "execution_count": 32,
   "metadata": {},
   "outputs": [
    {
     "data": {
      "text/html": [
       "<div>\n",
       "<style scoped>\n",
       "    .dataframe tbody tr th:only-of-type {\n",
       "        vertical-align: middle;\n",
       "    }\n",
       "\n",
       "    .dataframe tbody tr th {\n",
       "        vertical-align: top;\n",
       "    }\n",
       "\n",
       "    .dataframe thead th {\n",
       "        text-align: right;\n",
       "    }\n",
       "</style>\n",
       "<table border=\"1\" class=\"dataframe\">\n",
       "  <thead>\n",
       "    <tr style=\"text-align: right;\">\n",
       "      <th></th>\n",
       "      <th>Freq.</th>\n",
       "      <th>%</th>\n",
       "    </tr>\n",
       "  </thead>\n",
       "  <tbody>\n",
       "    <tr>\n",
       "      <th>No</th>\n",
       "      <td>8954</td>\n",
       "      <td>96.383208</td>\n",
       "    </tr>\n",
       "    <tr>\n",
       "      <th>Yes</th>\n",
       "      <td>336</td>\n",
       "      <td>3.616792</td>\n",
       "    </tr>\n",
       "  </tbody>\n",
       "</table>\n",
       "</div>"
      ],
      "text/plain": [
       "     Freq.          %\n",
       "No    8954  96.383208\n",
       "Yes    336   3.616792"
      ]
     },
     "metadata": {},
     "output_type": "display_data"
    },
    {
     "name": "stdout",
     "output_type": "stream",
     "text": [
      "(Nulls: 0)\n"
     ]
    },
    {
     "data": {
      "image/png": "[encoded data removed]",
      "text/plain": [
       "<Figure size 432x288 with 1 Axes>"
      ]
     },
     "metadata": {
      "needs_background": "light"
     },
     "output_type": "display_data"
    }
   ],
   "source": [
    "describe_cat(\"death_yn\")"
   ]
  },
  {
   "cell_type": "markdown",
   "metadata": {},
   "source": [
    "Medical Conditions\n",
    "==\n",
    "\n",
    "Similar to ICU, there are a lot of missing values here, and very few \"Yes\" values. However, those few \"Yes\" values could be very important, given the risk that medical conditions can pose.\n",
    "\n",
    "As before, \"Missing\" and \"Unknown\" are to be combined.\n",
    "\n",
    "It occurs to me that \"Missing\" could well be imputed to \"No\", since often such forms only require you to fill in these sections if you have a condition. Furthermore, if you don't know you have a condition, I imagine you aren't very likely to have a serious condition relevant to covid.\n",
    "\n",
    "These are just guesses, but the point is moot. I don't think it's worth making the imputation. If there is a deep similarity between \"Missing\" and \"No\", I think the ML will pick it up naturally. But it might be worth future consideration when iterating and trying to find ways to improve the model.\n",
    "\n",
    "**Action: combine \"Missing\" and \"Unknown\"**"
   ]
  },
  {
   "cell_type": "code",
   "execution_count": 34,
   "metadata": {},
   "outputs": [
    {
     "data": {
      "text/html": [
       "<div>\n",
       "<style scoped>\n",
       "    .dataframe tbody tr th:only-of-type {\n",
       "        vertical-align: middle;\n",
       "    }\n",
       "\n",
       "    .dataframe tbody tr th {\n",
       "        vertical-align: top;\n",
       "    }\n",
       "\n",
       "    .dataframe thead th {\n",
       "        text-align: right;\n",
       "    }\n",
       "</style>\n",
       "<table border=\"1\" class=\"dataframe\">\n",
       "  <thead>\n",
       "    <tr style=\"text-align: right;\">\n",
       "      <th></th>\n",
       "      <th>Freq.</th>\n",
       "      <th>%</th>\n",
       "    </tr>\n",
       "  </thead>\n",
       "  <tbody>\n",
       "    <tr>\n",
       "      <th>Unknown</th>\n",
       "      <td>741</td>\n",
       "      <td>7.976319</td>\n",
       "    </tr>\n",
       "    <tr>\n",
       "      <th>No</th>\n",
       "      <td>906</td>\n",
       "      <td>9.752422</td>\n",
       "    </tr>\n",
       "    <tr>\n",
       "      <th>Missing</th>\n",
       "      <td>6822</td>\n",
       "      <td>73.433800</td>\n",
       "    </tr>\n",
       "    <tr>\n",
       "      <th>Yes</th>\n",
       "      <td>821</td>\n",
       "      <td>8.837460</td>\n",
       "    </tr>\n",
       "  </tbody>\n",
       "</table>\n",
       "</div>"
      ],
      "text/plain": [
       "         Freq.          %\n",
       "Unknown    741   7.976319\n",
       "No         906   9.752422\n",
       "Missing   6822  73.433800\n",
       "Yes        821   8.837460"
      ]
     },
     "metadata": {},
     "output_type": "display_data"
    },
    {
     "name": "stdout",
     "output_type": "stream",
     "text": [
      "(Nulls: 0)\n"
     ]
    },
    {
     "data": {
      "image/png": "[encoded data removed]",
      "text/plain": [
       "<Figure size 432x288 with 1 Axes>"
      ]
     },
     "metadata": {
      "needs_background": "light"
     },
     "output_type": "display_data"
    }
   ],
   "source": [
    "describe_cat(\"medcond_yn\")"
   ]
  },
  {
   "cell_type": "markdown",
   "metadata": {},
   "source": []
  }
 ],
 "metadata": {
  "kernelspec": {
   "display_name": "Python 3",
   "language": "python",
   "name": "python3"
  },
  "language_info": {
   "codemirror_mode": {
    "name": "ipython",
    "version": 3
   },
   "file_extension": ".py",
   "mimetype": "text/x-python",
   "name": "python",
   "nbconvert_exporter": "python",
   "pygments_lexer": "ipython3",
   "version": "3.6.12"
  }
 },
 "nbformat": 4,
 "nbformat_minor": 4
}
